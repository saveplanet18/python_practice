{
 "cells": [
  {
   "cell_type": "code",
   "execution_count": 3,
   "metadata": {},
   "outputs": [],
   "source": [
    "def add(a,b):\n",
    "     return a+b\n",
    "def sub(a,b): \n",
    "     return a-b\n",
    "def mul(a,b):\n",
    "     return a*b\n",
    "def div(a,b):\n",
    "     return a/b\n",
    "def exp(a,b):\n",
    "     return a**b\n",
    "def floordiv(a,b):\n",
    "     return a//b"
   ]
  },
  {
   "cell_type": "code",
   "execution_count": 6,
   "metadata": {},
   "outputs": [
    {
     "name": "stdout",
     "output_type": "stream",
     "text": [
      "10\n",
      "3\n",
      "64\n",
      "1.8\n",
      "10077696\n",
      "1\n"
     ]
    }
   ],
   "source": [
    "print(add(5,5))\n",
    "print(sub(8,5))\n",
    "print(mul(8,8))\n",
    "print(div(9,5))\n",
    "print(exp(6,9))\n",
    "print(floordiv(9,9))"
   ]
  },
  {
   "cell_type": "code",
   "execution_count": null,
   "metadata": {},
   "outputs": [],
   "source": []
  }
 ],
 "metadata": {
  "kernelspec": {
   "display_name": "Python 3",
   "language": "python",
   "name": "python3"
  },
  "language_info": {
   "codemirror_mode": {
    "name": "ipython",
    "version": 3
   },
   "file_extension": ".py",
   "mimetype": "text/x-python",
   "name": "python",
   "nbconvert_exporter": "python",
   "pygments_lexer": "ipython3",
   "version": "3.7.4"
  }
 },
 "nbformat": 4,
 "nbformat_minor": 2
}
