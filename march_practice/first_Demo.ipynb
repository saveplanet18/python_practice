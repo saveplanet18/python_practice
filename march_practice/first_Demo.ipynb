{
 "cells": [
  {
   "cell_type": "code",
   "execution_count": 2,
   "id": "1ffb6730",
   "metadata": {},
   "outputs": [],
   "source": [
    "%notebook E:\\jupyternotebook/first_Demo.ipynb"
   ]
  },
  {
   "cell_type": "code",
   "execution_count": 3,
   "id": "55358a05",
   "metadata": {},
   "outputs": [
    {
     "name": "stdout",
     "output_type": "stream",
     "text": [
      "hello word\n"
     ]
    }
   ],
   "source": [
    "print(\"hello word\")"
   ]
  },
  {
   "cell_type": "code",
   "execution_count": 5,
   "id": "f4a64f2a",
   "metadata": {},
   "outputs": [],
   "source": [
    "def say():\n",
    "    \"\"\"this fucntion prints hi\"\"\"\n",
    "    print(\"hi\")"
   ]
  },
  {
   "cell_type": "code",
   "execution_count": 6,
   "id": "d1ee5ce6",
   "metadata": {},
   "outputs": [
    {
     "name": "stdout",
     "output_type": "stream",
     "text": [
      "hi\n"
     ]
    }
   ],
   "source": [
    "say()"
   ]
  },
  {
   "cell_type": "code",
   "execution_count": 7,
   "id": "0eecdeab",
   "metadata": {},
   "outputs": [
    {
     "data": {
      "text/plain": [
       "'this fucntion prints hi'"
      ]
     },
     "execution_count": 7,
     "metadata": {},
     "output_type": "execute_result"
    }
   ],
   "source": [
    "say.__doc__"
   ]
  },
  {
   "cell_type": "code",
   "execution_count": 8,
   "id": "82869c2c",
   "metadata": {},
   "outputs": [],
   "source": [
    "def sayhi():\n",
    "    print(\"hi\")\n",
    "    \"\"\"\n",
    "    this function prints hi\n",
    "    \"\"\""
   ]
  },
  {
   "cell_type": "code",
   "execution_count": 9,
   "id": "b3664d6e",
   "metadata": {},
   "outputs": [],
   "source": [
    "sayhi.__doc__"
   ]
  },
  {
   "cell_type": "code",
   "execution_count": 10,
   "id": "3966fd55",
   "metadata": {},
   "outputs": [
    {
     "name": "stdout",
     "output_type": "stream",
     "text": [
      "hi\n"
     ]
    }
   ],
   "source": [
    "say()"
   ]
  },
  {
   "cell_type": "code",
   "execution_count": 13,
   "id": "f985f7a6",
   "metadata": {},
   "outputs": [
    {
     "data": {
      "text/plain": [
       "'Random number'"
      ]
     },
     "execution_count": 13,
     "metadata": {},
     "output_type": "execute_result"
    }
   ],
   "source": [
    "\"\"\"Random number\"\"\""
   ]
  },
  {
   "cell_type": "code",
   "execution_count": 14,
   "id": "37f1b0e5",
   "metadata": {},
   "outputs": [],
   "source": [
    "import random"
   ]
  },
  {
   "cell_type": "code",
   "execution_count": 15,
   "id": "53fc4b08",
   "metadata": {},
   "outputs": [],
   "source": [
    "from random import seed\n",
    "from random import random"
   ]
  },
  {
   "cell_type": "code",
   "execution_count": 16,
   "id": "bda46856",
   "metadata": {},
   "outputs": [],
   "source": [
    "seed(7)"
   ]
  },
  {
   "cell_type": "code",
   "execution_count": 19,
   "id": "b431028e",
   "metadata": {},
   "outputs": [
    {
     "data": {
      "text/plain": [
       "(0.15084917392450192, 0.6509344730398537)"
      ]
     },
     "execution_count": 19,
     "metadata": {},
     "output_type": "execute_result"
    }
   ],
   "source": [
    "random(),random()"
   ]
  },
  {
   "cell_type": "code",
   "execution_count": 26,
   "id": "8e1bf34b",
   "metadata": {},
   "outputs": [
    {
     "data": {
      "text/plain": [
       "[0.18072637992393747,\n",
       " 0.5816001636624663,\n",
       " 0.6389134689261841,\n",
       " 0.3723975427257312,\n",
       " 0.5477444657095578,\n",
       " 0.06278897497332314,\n",
       " 0.05960116996623266,\n",
       " 0.20595871281932654,\n",
       " 0.6803999731817859,\n",
       " 0.4275923056694029,\n",
       " 0.3141471703767915,\n",
       " 0.5855618635076387,\n",
       " 0.45318437637077535,\n",
       " 0.29976699686368236,\n",
       " 0.7943794815224912]"
      ]
     },
     "execution_count": 26,
     "metadata": {},
     "output_type": "execute_result"
    }
   ],
   "source": [
    "[random() for i in string]"
   ]
  },
  {
   "cell_type": "code",
   "execution_count": 38,
   "id": "b6fd7139",
   "metadata": {},
   "outputs": [],
   "source": [
    "string =len(\"manjunathkannur\")"
   ]
  },
  {
   "cell_type": "code",
   "execution_count": 27,
   "id": "8d8ac55d",
   "metadata": {},
   "outputs": [],
   "source": [
    "import string"
   ]
  },
  {
   "cell_type": "code",
   "execution_count": 30,
   "id": "399f248b",
   "metadata": {},
   "outputs": [],
   "source": [
    "char = string.ascii_letters"
   ]
  },
  {
   "cell_type": "code",
   "execution_count": 35,
   "id": "1d5f2880",
   "metadata": {},
   "outputs": [],
   "source": [
    "import random "
   ]
  },
  {
   "cell_type": "code",
   "execution_count": 41,
   "id": "a802f309",
   "metadata": {},
   "outputs": [
    {
     "data": {
      "text/plain": [
       "'p'"
      ]
     },
     "execution_count": 41,
     "metadata": {},
     "output_type": "execute_result"
    }
   ],
   "source": [
    "random.choice(char)"
   ]
  },
  {
   "cell_type": "code",
   "execution_count": 42,
   "id": "0f1a4e7b",
   "metadata": {},
   "outputs": [],
   "source": [
    "x = 45"
   ]
  },
  {
   "cell_type": "code",
   "execution_count": 43,
   "id": "dba19454",
   "metadata": {},
   "outputs": [
    {
     "name": "stdout",
     "output_type": "stream",
     "text": [
      "45\n"
     ]
    }
   ],
   "source": [
    "print(x)"
   ]
  },
  {
   "cell_type": "code",
   "execution_count": 44,
   "id": "9cf9a90a",
   "metadata": {},
   "outputs": [],
   "source": [
    "name = \"renukadevi\""
   ]
  },
  {
   "cell_type": "code",
   "execution_count": 45,
   "id": "65bac08c",
   "metadata": {},
   "outputs": [
    {
     "name": "stdout",
     "output_type": "stream",
     "text": [
      "renukadevi\n"
     ]
    }
   ],
   "source": [
    "print(name)"
   ]
  },
  {
   "cell_type": "code",
   "execution_count": 46,
   "id": "415839a7",
   "metadata": {},
   "outputs": [],
   "source": [
    "nums = [1,2,3,4,5,7,8,9]"
   ]
  },
  {
   "cell_type": "code",
   "execution_count": 47,
   "id": "e2aafce8",
   "metadata": {},
   "outputs": [
    {
     "data": {
      "text/plain": [
       "[1, 2, 3, 4, 5, 7, 8, 9]"
      ]
     },
     "execution_count": 47,
     "metadata": {},
     "output_type": "execute_result"
    }
   ],
   "source": [
    "nums"
   ]
  },
  {
   "cell_type": "code",
   "execution_count": 50,
   "id": "d4ec6e64",
   "metadata": {},
   "outputs": [
    {
     "name": "stdout",
     "output_type": "stream",
     "text": [
      "0 -1\n",
      "1 -1\n",
      "4 -1\n",
      "9 -1\n",
      "16 -1\n"
     ]
    }
   ],
   "source": [
    "for i in range(5):\n",
    "    print(i**2-1)"
   ]
  },
  {
   "cell_type": "code",
   "execution_count": null,
   "id": "a776dfae",
   "metadata": {},
   "outputs": [],
   "source": []
  }
 ],
 "metadata": {
  "kernelspec": {
   "display_name": "Python 3",
   "language": "python",
   "name": "python3"
  },
  "language_info": {
   "codemirror_mode": {
    "name": "ipython",
    "version": 3
   },
   "file_extension": ".py",
   "mimetype": "text/x-python",
   "name": "python",
   "nbconvert_exporter": "python",
   "pygments_lexer": "ipython3",
   "version": "3.8.8"
  }
 },
 "nbformat": 4,
 "nbformat_minor": 5
}
