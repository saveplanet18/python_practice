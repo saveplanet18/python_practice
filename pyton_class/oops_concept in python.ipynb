{
 "cells": [
  {
   "cell_type": "markdown",
   "id": "13dbc3d0",
   "metadata": {},
   "source": [
    "# python class\n",
    "## a class is a blueprint for objects-one class for any number of objects of that type."
   ]
  },
  {
   "cell_type": "code",
   "execution_count": 1,
   "id": "1d65ff77",
   "metadata": {},
   "outputs": [],
   "source": [
    "class fruit:\n",
    "    \"\"\"this python class creates instances of fruits\"\"\"\n",
    "    "
   ]
  },
  {
   "cell_type": "code",
   "execution_count": 2,
   "id": "97a8134a",
   "metadata": {},
   "outputs": [
    {
     "data": {
      "text/plain": [
       "__main__.fruit"
      ]
     },
     "execution_count": 2,
     "metadata": {},
     "output_type": "execute_result"
    }
   ],
   "source": [
    "fruit"
   ]
  },
  {
   "cell_type": "code",
   "execution_count": 3,
   "id": "80d37412",
   "metadata": {},
   "outputs": [],
   "source": [
    "class fruit:\n",
    "    \"\"\"this class creates instances of fruits\"\"\"\n",
    "    color =''\n",
    "    def sayhi(self):\n",
    "        print(\"hi\")"
   ]
  },
  {
   "cell_type": "code",
   "execution_count": 4,
   "id": "72377c33",
   "metadata": {},
   "outputs": [],
   "source": [
    "orange = fruit()"
   ]
  },
  {
   "cell_type": "code",
   "execution_count": 5,
   "id": "5c251827",
   "metadata": {},
   "outputs": [
    {
     "data": {
      "text/plain": [
       "<__main__.fruit at 0x1374b525d30>"
      ]
     },
     "execution_count": 5,
     "metadata": {},
     "output_type": "execute_result"
    }
   ],
   "source": [
    "orange"
   ]
  },
  {
   "cell_type": "code",
   "execution_count": 7,
   "id": "4ffbabbc",
   "metadata": {},
   "outputs": [
    {
     "data": {
      "text/plain": [
       "''"
      ]
     },
     "execution_count": 7,
     "metadata": {},
     "output_type": "execute_result"
    }
   ],
   "source": [
    "orange.color"
   ]
  },
  {
   "cell_type": "code",
   "execution_count": 8,
   "id": "50f43def",
   "metadata": {},
   "outputs": [
    {
     "name": "stdout",
     "output_type": "stream",
     "text": [
      "hi\n"
     ]
    }
   ],
   "source": [
    "orange.sayhi()"
   ]
  },
  {
   "cell_type": "code",
   "execution_count": 9,
   "id": "07d03bff",
   "metadata": {},
   "outputs": [],
   "source": [
    "class try1:\n",
    "    def mymethod(self):\n",
    "        def sayhello():\n",
    "            print(\"hello\")\n",
    "        print(\"hi\")\n",
    "        sayhello()\n",
    "obj = try1()\n"
   ]
  },
  {
   "cell_type": "code",
   "execution_count": 10,
   "id": "7ae7381b",
   "metadata": {},
   "outputs": [
    {
     "name": "stdout",
     "output_type": "stream",
     "text": [
      "hi\n",
      "hello\n"
     ]
    }
   ],
   "source": [
    "obj.mymethod()"
   ]
  },
  {
   "cell_type": "code",
   "execution_count": 11,
   "id": "ea7d5f6b",
   "metadata": {},
   "outputs": [],
   "source": [
    "orange.shape='round'"
   ]
  },
  {
   "cell_type": "code",
   "execution_count": 12,
   "id": "e93f806a",
   "metadata": {},
   "outputs": [
    {
     "data": {
      "text/plain": [
       "'round'"
      ]
     },
     "execution_count": 12,
     "metadata": {},
     "output_type": "execute_result"
    }
   ],
   "source": [
    "orange.shape"
   ]
  },
  {
   "cell_type": "code",
   "execution_count": 13,
   "id": "614f934d",
   "metadata": {},
   "outputs": [],
   "source": [
    "orange = fruit()"
   ]
  },
  {
   "cell_type": "code",
   "execution_count": 14,
   "id": "abaaeea2",
   "metadata": {},
   "outputs": [
    {
     "data": {
      "text/plain": [
       "''"
      ]
     },
     "execution_count": 14,
     "metadata": {},
     "output_type": "execute_result"
    }
   ],
   "source": [
    "orange.color"
   ]
  },
  {
   "cell_type": "code",
   "execution_count": 16,
   "id": "c050bf70",
   "metadata": {},
   "outputs": [],
   "source": [
    "orange.shape = 'round'"
   ]
  },
  {
   "cell_type": "raw",
   "id": "3f0bcf07",
   "metadata": {},
   "source": [
    "orange.shape"
   ]
  },
  {
   "cell_type": "code",
   "execution_count": 17,
   "id": "d4c93317",
   "metadata": {},
   "outputs": [
    {
     "name": "stdout",
     "output_type": "stream",
     "text": [
      "hi\n"
     ]
    }
   ],
   "source": [
    "orange.sayhi()"
   ]
  },
  {
   "cell_type": "code",
   "execution_count": 18,
   "id": "88b405ed",
   "metadata": {},
   "outputs": [],
   "source": [
    "class fruit:\n",
    "    def size(self,x):\n",
    "        print(f\"i am size {x}\")\n",
    "        "
   ]
  },
  {
   "cell_type": "code",
   "execution_count": 19,
   "id": "c972afd5",
   "metadata": {},
   "outputs": [],
   "source": [
    "orange = fruit()"
   ]
  },
  {
   "cell_type": "code",
   "execution_count": 20,
   "id": "4c0da6c0",
   "metadata": {},
   "outputs": [
    {
     "name": "stdout",
     "output_type": "stream",
     "text": [
      "i am size 5\n"
     ]
    }
   ],
   "source": [
    "orange.size(5)"
   ]
  },
  {
   "cell_type": "code",
   "execution_count": 21,
   "id": "7ea884b2",
   "metadata": {},
   "outputs": [
    {
     "name": "stdout",
     "output_type": "stream",
     "text": [
      "hi\n"
     ]
    }
   ],
   "source": [
    "class fruit:\n",
    "    \"\"\"this is the document string\"\"\"\n",
    "    print(\"hi\")\n"
   ]
  },
  {
   "cell_type": "code",
   "execution_count": 22,
   "id": "54fa7418",
   "metadata": {},
   "outputs": [
    {
     "data": {
      "text/plain": [
       "'this is the document string'"
      ]
     },
     "execution_count": 22,
     "metadata": {},
     "output_type": "execute_result"
    }
   ],
   "source": [
    "fruit.__doc__"
   ]
  },
  {
   "cell_type": "code",
   "execution_count": 23,
   "id": "65b9bb9d",
   "metadata": {},
   "outputs": [],
   "source": [
    "class fruit:\n",
    "    def __init__(self,color,size):\n",
    "        self.color =color\n",
    "        self.size = size\n",
    "    def salutation(self):\n",
    "        print(f\"i am {self.color} and a {self.size}\")"
   ]
  },
  {
   "cell_type": "code",
   "execution_count": 25,
   "id": "bec5ebe5",
   "metadata": {},
   "outputs": [],
   "source": [
    "orange = fruit('red','round')"
   ]
  },
  {
   "cell_type": "code",
   "execution_count": 26,
   "id": "6332ef33",
   "metadata": {},
   "outputs": [
    {
     "data": {
      "text/plain": [
       "'red'"
      ]
     },
     "execution_count": 26,
     "metadata": {},
     "output_type": "execute_result"
    }
   ],
   "source": [
    "orange.color"
   ]
  },
  {
   "cell_type": "code",
   "execution_count": 27,
   "id": "565d2391",
   "metadata": {},
   "outputs": [
    {
     "name": "stdout",
     "output_type": "stream",
     "text": [
      "i am red and a round\n"
     ]
    }
   ],
   "source": [
    "orange.salutation()"
   ]
  },
  {
   "cell_type": "code",
   "execution_count": 30,
   "id": "79a98a09",
   "metadata": {},
   "outputs": [],
   "source": [
    "sayhi = orange.salutation"
   ]
  },
  {
   "cell_type": "code",
   "execution_count": 31,
   "id": "1848f9d5",
   "metadata": {},
   "outputs": [
    {
     "name": "stdout",
     "output_type": "stream",
     "text": [
      "i am red and a round\n"
     ]
    }
   ],
   "source": [
    "sayhi()"
   ]
  },
  {
   "cell_type": "markdown",
   "id": "e7886637",
   "metadata": {},
   "source": [
    "# python object \n",
    "## if class is an idea, an object is its execution"
   ]
  },
  {
   "cell_type": "code",
   "execution_count": 32,
   "id": "b75590d8",
   "metadata": {},
   "outputs": [],
   "source": [
    "class fruit:\n",
    "    size = \"small\"\n",
    "    def __init__(self,color,shape):\n",
    "        self.color = color\n",
    "        self.shape = shape\n",
    "    def salutation(self):\n",
    "        print(f\"i am {self.color} and a shape{self.shape}\")"
   ]
  },
  {
   "cell_type": "code",
   "execution_count": 33,
   "id": "cd629599",
   "metadata": {},
   "outputs": [
    {
     "data": {
      "text/plain": [
       "'small'"
      ]
     },
     "execution_count": 33,
     "metadata": {},
     "output_type": "execute_result"
    }
   ],
   "source": [
    "fruit.size"
   ]
  },
  {
   "cell_type": "code",
   "execution_count": 34,
   "id": "d9c1bdea",
   "metadata": {},
   "outputs": [],
   "source": [
    "ornage = fruit('orange','round')"
   ]
  },
  {
   "cell_type": "code",
   "execution_count": 35,
   "id": "8ee21ab7",
   "metadata": {},
   "outputs": [
    {
     "data": {
      "text/plain": [
       "'orange'"
      ]
     },
     "execution_count": 35,
     "metadata": {},
     "output_type": "execute_result"
    }
   ],
   "source": [
    "ornage.color"
   ]
  },
  {
   "cell_type": "code",
   "execution_count": 36,
   "id": "c244ea96",
   "metadata": {},
   "outputs": [
    {
     "data": {
      "text/plain": [
       "'round'"
      ]
     },
     "execution_count": 36,
     "metadata": {},
     "output_type": "execute_result"
    }
   ],
   "source": [
    "ornage.shape"
   ]
  },
  {
   "cell_type": "code",
   "execution_count": 37,
   "id": "26a3a0a3",
   "metadata": {},
   "outputs": [
    {
     "name": "stdout",
     "output_type": "stream",
     "text": [
      "i am orange and a shaperound\n"
     ]
    }
   ],
   "source": [
    "ornage.salutation()"
   ]
  },
  {
   "cell_type": "code",
   "execution_count": 38,
   "id": "2d28bbb0",
   "metadata": {},
   "outputs": [],
   "source": [
    "class fruit:\n",
    "    size = 'small'\n",
    "    def __init__(self,color,shape):\n",
    "        self.color = color\n",
    "        self.shape = shape\n",
    "    def salutation():\n",
    "        print(f\"i am happy\")"
   ]
  },
  {
   "cell_type": "code",
   "execution_count": 39,
   "id": "1d62dbc0",
   "metadata": {},
   "outputs": [
    {
     "name": "stdout",
     "output_type": "stream",
     "text": [
      "i am happy\n"
     ]
    }
   ],
   "source": [
    "fruit.salutation()"
   ]
  },
  {
   "cell_type": "code",
   "execution_count": 40,
   "id": "46fae7be",
   "metadata": {},
   "outputs": [],
   "source": [
    "orange = fruit('red','round')"
   ]
  },
  {
   "cell_type": "code",
   "execution_count": 42,
   "id": "49a1fb24",
   "metadata": {},
   "outputs": [
    {
     "data": {
      "text/plain": [
       "'red'"
      ]
     },
     "execution_count": 42,
     "metadata": {},
     "output_type": "execute_result"
    }
   ],
   "source": [
    "orange.color"
   ]
  },
  {
   "cell_type": "code",
   "execution_count": 43,
   "id": "c229d721",
   "metadata": {},
   "outputs": [
    {
     "data": {
      "text/plain": [
       "'round'"
      ]
     },
     "execution_count": 43,
     "metadata": {},
     "output_type": "execute_result"
    }
   ],
   "source": [
    "ornage.shape"
   ]
  },
  {
   "cell_type": "code",
   "execution_count": 44,
   "id": "28bd53bb",
   "metadata": {},
   "outputs": [
    {
     "name": "stdout",
     "output_type": "stream",
     "text": [
      "i am happy\n"
     ]
    }
   ],
   "source": [
    "fruit.salutation()"
   ]
  },
  {
   "cell_type": "code",
   "execution_count": 45,
   "id": "ddb1951c",
   "metadata": {},
   "outputs": [],
   "source": [
    "del orange.shape"
   ]
  },
  {
   "cell_type": "code",
   "execution_count": 46,
   "id": "989b6c98",
   "metadata": {},
   "outputs": [
    {
     "ename": "AttributeError",
     "evalue": "'fruit' object has no attribute 'shape'",
     "output_type": "error",
     "traceback": [
      "\u001b[1;31m---------------------------------------------------------------------------\u001b[0m",
      "\u001b[1;31mAttributeError\u001b[0m                            Traceback (most recent call last)",
      "\u001b[1;32m~\\AppData\\Local\\Temp/ipykernel_12788/3200418475.py\u001b[0m in \u001b[0;36m<module>\u001b[1;34m\u001b[0m\n\u001b[1;32m----> 1\u001b[1;33m \u001b[0morange\u001b[0m\u001b[1;33m.\u001b[0m\u001b[0mshape\u001b[0m\u001b[1;33m\u001b[0m\u001b[1;33m\u001b[0m\u001b[0m\n\u001b[0m",
      "\u001b[1;31mAttributeError\u001b[0m: 'fruit' object has no attribute 'shape'"
     ]
    }
   ],
   "source": [
    "orange.shape"
   ]
  },
  {
   "cell_type": "code",
   "execution_count": 47,
   "id": "9e187af3",
   "metadata": {},
   "outputs": [],
   "source": [
    "del orange"
   ]
  },
  {
   "cell_type": "code",
   "execution_count": 48,
   "id": "e850d898",
   "metadata": {},
   "outputs": [
    {
     "ename": "NameError",
     "evalue": "name 'orange' is not defined",
     "output_type": "error",
     "traceback": [
      "\u001b[1;31m---------------------------------------------------------------------------\u001b[0m",
      "\u001b[1;31mNameError\u001b[0m                                 Traceback (most recent call last)",
      "\u001b[1;32m~\\AppData\\Local\\Temp/ipykernel_12788/945180513.py\u001b[0m in \u001b[0;36m<module>\u001b[1;34m\u001b[0m\n\u001b[1;32m----> 1\u001b[1;33m \u001b[0morange\u001b[0m\u001b[1;33m\u001b[0m\u001b[1;33m\u001b[0m\u001b[0m\n\u001b[0m",
      "\u001b[1;31mNameError\u001b[0m: name 'orange' is not defined"
     ]
    }
   ],
   "source": [
    "orange"
   ]
  },
  {
   "cell_type": "code",
   "execution_count": 49,
   "id": "2a0d4147",
   "metadata": {},
   "outputs": [
    {
     "data": {
      "text/plain": [
       "__main__.fruit"
      ]
     },
     "execution_count": 49,
     "metadata": {},
     "output_type": "execute_result"
    }
   ],
   "source": [
    "fruit"
   ]
  },
  {
   "cell_type": "code",
   "execution_count": 50,
   "id": "0cc89725",
   "metadata": {},
   "outputs": [],
   "source": [
    "del fruit"
   ]
  },
  {
   "cell_type": "code",
   "execution_count": 51,
   "id": "44f4156d",
   "metadata": {},
   "outputs": [
    {
     "ename": "NameError",
     "evalue": "name 'fruit' is not defined",
     "output_type": "error",
     "traceback": [
      "\u001b[1;31m---------------------------------------------------------------------------\u001b[0m",
      "\u001b[1;31mNameError\u001b[0m                                 Traceback (most recent call last)",
      "\u001b[1;32m~\\AppData\\Local\\Temp/ipykernel_12788/3670734841.py\u001b[0m in \u001b[0;36m<module>\u001b[1;34m\u001b[0m\n\u001b[1;32m----> 1\u001b[1;33m \u001b[0mfruit\u001b[0m\u001b[1;33m\u001b[0m\u001b[1;33m\u001b[0m\u001b[0m\n\u001b[0m",
      "\u001b[1;31mNameError\u001b[0m: name 'fruit' is not defined"
     ]
    }
   ],
   "source": [
    "fruit"
   ]
  },
  {
   "cell_type": "markdown",
   "id": "60b77255",
   "metadata": {},
   "source": [
    "# python Method-class,objects and function\n",
    "1. methods\n",
    "2. objects\n",
    "3. class\n",
    "4. __init__()\n",
    "5. the self parameter\n",
    "6. function vs methods\n",
    "7. magic methods"
   ]
  },
  {
   "cell_type": "code",
   "execution_count": 52,
   "id": "b99761af",
   "metadata": {},
   "outputs": [],
   "source": [
    "class Car:\n",
    "    def __init__(self,brand,model,color,fuel):\n",
    "        self.brand = brand\n",
    "        self.model = model\n",
    "        self.color = color\n",
    "        self. fuel = fuel\n",
    "    def start(self):\n",
    "        pass\n",
    "    def halt(self):\n",
    "        pass\n",
    "    def drift(self):\n",
    "        pass\n",
    "    def speedup(self):\n",
    "        pass\n",
    "    def turn(self):\n",
    "        pass\n",
    "    "
   ]
  },
  {
   "cell_type": "code",
   "execution_count": 53,
   "id": "29f0ded1",
   "metadata": {},
   "outputs": [],
   "source": [
    "orange = Car('hyundai','verna','black','diesel')"
   ]
  },
  {
   "cell_type": "code",
   "execution_count": 56,
   "id": "3e57de15",
   "metadata": {},
   "outputs": [
    {
     "data": {
      "text/plain": [
       "'verna'"
      ]
     },
     "execution_count": 56,
     "metadata": {},
     "output_type": "execute_result"
    }
   ],
   "source": [
    "orange.model"
   ]
  },
  {
   "cell_type": "code",
   "execution_count": 57,
   "id": "8e9cb342",
   "metadata": {},
   "outputs": [
    {
     "data": {
      "text/plain": [
       "'diesel'"
      ]
     },
     "execution_count": 57,
     "metadata": {},
     "output_type": "execute_result"
    }
   ],
   "source": [
    "orange.fuel"
   ]
  },
  {
   "cell_type": "code",
   "execution_count": 58,
   "id": "f5068495",
   "metadata": {},
   "outputs": [
    {
     "data": {
      "text/plain": [
       "'black'"
      ]
     },
     "execution_count": 58,
     "metadata": {},
     "output_type": "execute_result"
    }
   ],
   "source": [
    "orange.color"
   ]
  },
  {
   "cell_type": "code",
   "execution_count": 59,
   "id": "1ba36321",
   "metadata": {},
   "outputs": [
    {
     "data": {
      "text/plain": [
       "'hyundai'"
      ]
     },
     "execution_count": 59,
     "metadata": {},
     "output_type": "execute_result"
    }
   ],
   "source": [
    "orange.brand"
   ]
  },
  {
   "cell_type": "markdown",
   "id": "f414bcc4",
   "metadata": {},
   "source": [
    "# ptyhon method\n",
    "## python method is like a python function, but is must be called on an object"
   ]
  },
  {
   "cell_type": "code",
   "execution_count": 60,
   "id": "cb934ffe",
   "metadata": {},
   "outputs": [],
   "source": [
    "orange.drift()"
   ]
  },
  {
   "cell_type": "code",
   "execution_count": 61,
   "id": "0d7ecd8a",
   "metadata": {},
   "outputs": [],
   "source": [
    "class Model:\n",
    "    def __init__(self):\n",
    "        pass\n",
    "    def printhello(self,name):\n",
    "        print(f\"hello,{name}\")\n",
    "        return name"
   ]
  },
  {
   "cell_type": "code",
   "execution_count": 62,
   "id": "f58f73b3",
   "metadata": {},
   "outputs": [],
   "source": [
    "obj = Model()"
   ]
  },
  {
   "cell_type": "code",
   "execution_count": 63,
   "id": "84c5e456",
   "metadata": {},
   "outputs": [
    {
     "name": "stdout",
     "output_type": "stream",
     "text": [
      "hello,manjunath\n"
     ]
    },
    {
     "data": {
      "text/plain": [
       "'manjunath'"
      ]
     },
     "execution_count": 63,
     "metadata": {},
     "output_type": "execute_result"
    }
   ],
   "source": [
    "obj.printhello('manjunath')"
   ]
  },
  {
   "cell_type": "code",
   "execution_count": 64,
   "id": "839521a4",
   "metadata": {},
   "outputs": [],
   "source": [
    "class Animal:\n",
    "    def __init__(self,species,gender):\n",
    "        self.species = species\n",
    "        self.gender = gender\n",
    "    "
   ]
  },
  {
   "cell_type": "code",
   "execution_count": 65,
   "id": "8df2e09c",
   "metadata": {},
   "outputs": [],
   "source": [
    "fluffy = Animal('Gog','Female')"
   ]
  },
  {
   "cell_type": "code",
   "execution_count": 66,
   "id": "2a81cf88",
   "metadata": {},
   "outputs": [
    {
     "data": {
      "text/plain": [
       "'Female'"
      ]
     },
     "execution_count": 66,
     "metadata": {},
     "output_type": "execute_result"
    }
   ],
   "source": [
    "fluffy.gender"
   ]
  },
  {
   "cell_type": "code",
   "execution_count": 67,
   "id": "21ee1008",
   "metadata": {},
   "outputs": [],
   "source": [
    "class try2:\n",
    "    def hello(self):\n",
    "        print(\"hello\")"
   ]
  },
  {
   "cell_type": "code",
   "execution_count": 68,
   "id": "e259b126",
   "metadata": {},
   "outputs": [],
   "source": [
    "obj = try2()"
   ]
  },
  {
   "cell_type": "code",
   "execution_count": 69,
   "id": "ffa4eca6",
   "metadata": {},
   "outputs": [
    {
     "name": "stdout",
     "output_type": "stream",
     "text": [
      "hello\n"
     ]
    }
   ],
   "source": [
    "obj.hello()"
   ]
  },
  {
   "cell_type": "code",
   "execution_count": 70,
   "id": "01eea282",
   "metadata": {},
   "outputs": [],
   "source": [
    "kannur = obj.hello"
   ]
  },
  {
   "cell_type": "code",
   "execution_count": 71,
   "id": "96f15d95",
   "metadata": {},
   "outputs": [
    {
     "name": "stdout",
     "output_type": "stream",
     "text": [
      "hello\n"
     ]
    }
   ],
   "source": [
    "kannur()"
   ]
  },
  {
   "cell_type": "code",
   "execution_count": 72,
   "id": "44725daf",
   "metadata": {},
   "outputs": [],
   "source": [
    "class fruit:\n",
    "    def printstate(self,state):\n",
    "        print(f\"the orange is {state}\")"
   ]
  },
  {
   "cell_type": "code",
   "execution_count": 73,
   "id": "00671a0c",
   "metadata": {},
   "outputs": [],
   "source": [
    "orange = fruit()"
   ]
  },
  {
   "cell_type": "code",
   "execution_count": 74,
   "id": "4ed568f4",
   "metadata": {},
   "outputs": [
    {
     "name": "stdout",
     "output_type": "stream",
     "text": [
      "the orange is yarazari\n"
     ]
    }
   ],
   "source": [
    "orange.printstate('yarazari')"
   ]
  },
  {
   "cell_type": "code",
   "execution_count": 75,
   "id": "e00f1a5e",
   "metadata": {},
   "outputs": [],
   "source": [
    "class Result:\n",
    "    def __init__(self,phy,chem,math):\n",
    "        self.phy = phy\n",
    "        self.chem = chem\n",
    "        self.math = math\n",
    "    def avg(self):\n",
    "        print(f\"average={(self.phy+self.chem+self.math)/3}\")"
   ]
  },
  {
   "cell_type": "code",
   "execution_count": 76,
   "id": "bec6ef98",
   "metadata": {},
   "outputs": [],
   "source": [
    "rollone = Result(85,95,98)"
   ]
  },
  {
   "cell_type": "code",
   "execution_count": 77,
   "id": "f9fab453",
   "metadata": {},
   "outputs": [
    {
     "data": {
      "text/plain": [
       "<__main__.Result at 0x1374b551310>"
      ]
     },
     "execution_count": 77,
     "metadata": {},
     "output_type": "execute_result"
    }
   ],
   "source": [
    "rollone"
   ]
  },
  {
   "cell_type": "code",
   "execution_count": 78,
   "id": "38b4a1cb",
   "metadata": {},
   "outputs": [
    {
     "name": "stdout",
     "output_type": "stream",
     "text": [
      "average=92.66666666666667\n"
     ]
    }
   ],
   "source": [
    "rollone.avg()"
   ]
  },
  {
   "cell_type": "code",
   "execution_count": 79,
   "id": "a5a8f850",
   "metadata": {},
   "outputs": [
    {
     "data": {
      "text/plain": [
       "95"
      ]
     },
     "execution_count": 79,
     "metadata": {},
     "output_type": "execute_result"
    }
   ],
   "source": [
    "rollone.chem"
   ]
  },
  {
   "cell_type": "code",
   "execution_count": 80,
   "id": "e432bea9",
   "metadata": {},
   "outputs": [
    {
     "data": {
      "text/plain": [
       "85"
      ]
     },
     "execution_count": 80,
     "metadata": {},
     "output_type": "execute_result"
    }
   ],
   "source": [
    "rollone.phy"
   ]
  },
  {
   "cell_type": "code",
   "execution_count": 81,
   "id": "a6efd055",
   "metadata": {},
   "outputs": [
    {
     "data": {
      "text/plain": [
       "98"
      ]
     },
     "execution_count": 81,
     "metadata": {},
     "output_type": "execute_result"
    }
   ],
   "source": [
    "rollone.math"
   ]
  },
  {
   "cell_type": "code",
   "execution_count": 82,
   "id": "0655dfc7",
   "metadata": {},
   "outputs": [],
   "source": [
    "class led:\n",
    "    def __init__(self):\n",
    "        self.lit = False"
   ]
  },
  {
   "cell_type": "code",
   "execution_count": 83,
   "id": "a2f17d89",
   "metadata": {},
   "outputs": [],
   "source": [
    "obj = led()"
   ]
  },
  {
   "cell_type": "code",
   "execution_count": 84,
   "id": "74e1961f",
   "metadata": {},
   "outputs": [
    {
     "data": {
      "text/plain": [
       "False"
      ]
     },
     "execution_count": 84,
     "metadata": {},
     "output_type": "execute_result"
    }
   ],
   "source": [
    "obj.lit"
   ]
  },
  {
   "cell_type": "code",
   "execution_count": 86,
   "id": "0b04b5c0",
   "metadata": {},
   "outputs": [],
   "source": [
    "class try3:\n",
    "    def __init__(thiobj,name):\n",
    "        thiobj.name = name"
   ]
  },
  {
   "cell_type": "code",
   "execution_count": 87,
   "id": "30ffc648",
   "metadata": {},
   "outputs": [],
   "source": [
    "obj = try3('leo')"
   ]
  },
  {
   "cell_type": "code",
   "execution_count": 88,
   "id": "5ce0fe1e",
   "metadata": {},
   "outputs": [
    {
     "data": {
      "text/plain": [
       "'leo'"
      ]
     },
     "execution_count": 88,
     "metadata": {},
     "output_type": "execute_result"
    }
   ],
   "source": [
    "obj.name"
   ]
  },
  {
   "cell_type": "markdown",
   "id": "84a2d42f",
   "metadata": {},
   "source": [
    "# python Constructor\n",
    "1. declaring\n",
    "2. not declaring\n",
    "3. no constructor orverloading\n",
    "4. types"
   ]
  },
  {
   "cell_type": "code",
   "execution_count": 89,
   "id": "88e451a5",
   "metadata": {},
   "outputs": [],
   "source": [
    "class three:\n",
    "    val = 7"
   ]
  },
  {
   "cell_type": "code",
   "execution_count": 90,
   "id": "4963c885",
   "metadata": {},
   "outputs": [
    {
     "data": {
      "text/plain": [
       "7"
      ]
     },
     "execution_count": 90,
     "metadata": {},
     "output_type": "execute_result"
    }
   ],
   "source": [
    "three.val"
   ]
  },
  {
   "cell_type": "code",
   "execution_count": 91,
   "id": "08b442dd",
   "metadata": {},
   "outputs": [],
   "source": [
    "ornage = three()"
   ]
  },
  {
   "cell_type": "code",
   "execution_count": 92,
   "id": "e91fca41",
   "metadata": {},
   "outputs": [
    {
     "data": {
      "text/plain": [
       "7"
      ]
     },
     "execution_count": 92,
     "metadata": {},
     "output_type": "execute_result"
    }
   ],
   "source": [
    "ornage.val"
   ]
  },
  {
   "cell_type": "code",
   "execution_count": 93,
   "id": "3258baad",
   "metadata": {},
   "outputs": [],
   "source": [
    "class three:\n",
    "    def func(self,val):\n",
    "        self.val = val\n",
    "        "
   ]
  },
  {
   "cell_type": "code",
   "execution_count": 94,
   "id": "b9402d2a",
   "metadata": {},
   "outputs": [],
   "source": [
    "t = three()"
   ]
  },
  {
   "cell_type": "code",
   "execution_count": 95,
   "id": "3de2a299",
   "metadata": {},
   "outputs": [],
   "source": [
    "t.func(8)"
   ]
  },
  {
   "cell_type": "code",
   "execution_count": 96,
   "id": "c6555eab",
   "metadata": {},
   "outputs": [
    {
     "data": {
      "text/plain": [
       "8"
      ]
     },
     "execution_count": 96,
     "metadata": {},
     "output_type": "execute_result"
    }
   ],
   "source": [
    "t.val"
   ]
  },
  {
   "cell_type": "code",
   "execution_count": 97,
   "id": "2e4b12ce",
   "metadata": {},
   "outputs": [],
   "source": [
    "t.func(6)"
   ]
  },
  {
   "cell_type": "code",
   "execution_count": 98,
   "id": "6003c2ee",
   "metadata": {},
   "outputs": [
    {
     "data": {
      "text/plain": [
       "6"
      ]
     },
     "execution_count": 98,
     "metadata": {},
     "output_type": "execute_result"
    }
   ],
   "source": [
    "t.val"
   ]
  },
  {
   "cell_type": "code",
   "execution_count": 99,
   "id": "18ff437b",
   "metadata": {},
   "outputs": [],
   "source": [
    "class Demo:\n",
    "    def __new__(self):\n",
    "        return 'renukadevi'"
   ]
  },
  {
   "cell_type": "code",
   "execution_count": 100,
   "id": "73a6bcb3",
   "metadata": {},
   "outputs": [],
   "source": [
    "d = Demo()"
   ]
  },
  {
   "cell_type": "code",
   "execution_count": 101,
   "id": "7f8f4380",
   "metadata": {},
   "outputs": [
    {
     "data": {
      "text/plain": [
       "str"
      ]
     },
     "execution_count": 101,
     "metadata": {},
     "output_type": "execute_result"
    }
   ],
   "source": [
    "type(d)"
   ]
  },
  {
   "cell_type": "code",
   "execution_count": 108,
   "id": "25a3e284",
   "metadata": {},
   "outputs": [],
   "source": [
    "class Citrus:\n",
    "    def __init__(self):\n",
    "        self.detox = True\n",
    "    def show(self):\n",
    "        print(\"i detox\")\n",
    "        if self.detox==True:\n",
    "            print(\"yes it is\")\n",
    "        else:\n",
    "            print(\"its not\")\n",
    "        "
   ]
  },
  {
   "cell_type": "code",
   "execution_count": 109,
   "id": "d5048321",
   "metadata": {},
   "outputs": [],
   "source": [
    "kumba = Citrus()"
   ]
  },
  {
   "cell_type": "code",
   "execution_count": 110,
   "id": "cc60cba1",
   "metadata": {},
   "outputs": [
    {
     "name": "stdout",
     "output_type": "stream",
     "text": [
      "i detox\n",
      "yes it is\n"
     ]
    }
   ],
   "source": [
    "kumba.show()"
   ]
  },
  {
   "cell_type": "code",
   "execution_count": 111,
   "id": "b557ff0e",
   "metadata": {},
   "outputs": [],
   "source": [
    "kumba.color='orange'"
   ]
  },
  {
   "cell_type": "code",
   "execution_count": 112,
   "id": "8a05f3cd",
   "metadata": {},
   "outputs": [
    {
     "data": {
      "text/plain": [
       "'orange'"
      ]
     },
     "execution_count": 112,
     "metadata": {},
     "output_type": "execute_result"
    }
   ],
   "source": [
    "kumba.color"
   ]
  },
  {
   "cell_type": "code",
   "execution_count": 113,
   "id": "5f4c7738",
   "metadata": {},
   "outputs": [
    {
     "data": {
      "text/plain": [
       "__main__.Citrus"
      ]
     },
     "execution_count": 113,
     "metadata": {},
     "output_type": "execute_result"
    }
   ],
   "source": [
    "type(kumba)"
   ]
  },
  {
   "cell_type": "code",
   "execution_count": 114,
   "id": "e0867bad",
   "metadata": {},
   "outputs": [],
   "source": [
    "class color:\n",
    "    def show(self):\n",
    "        print(\"you can see me!\")"
   ]
  },
  {
   "cell_type": "code",
   "execution_count": 115,
   "id": "3193b4b2",
   "metadata": {},
   "outputs": [],
   "source": [
    "orange = color()"
   ]
  },
  {
   "cell_type": "code",
   "execution_count": 116,
   "id": "ce3a0073",
   "metadata": {},
   "outputs": [
    {
     "name": "stdout",
     "output_type": "stream",
     "text": [
      "you can see me!\n"
     ]
    }
   ],
   "source": [
    "orange.show()"
   ]
  },
  {
   "cell_type": "markdown",
   "id": "f62427b9",
   "metadata": {},
   "source": [
    "# types of python Constructors"
   ]
  },
  {
   "cell_type": "markdown",
   "id": "0f827189",
   "metadata": {},
   "source": [
    "# . Default constructor in python"
   ]
  },
  {
   "cell_type": "code",
   "execution_count": 117,
   "id": "6c68e4ec",
   "metadata": {},
   "outputs": [],
   "source": [
    "class Demo:\n",
    "    def show(self):\n",
    "        print(\"thank your for instantiating me:\")"
   ]
  },
  {
   "cell_type": "code",
   "execution_count": 118,
   "id": "28c78541",
   "metadata": {},
   "outputs": [],
   "source": [
    "d = Demo()"
   ]
  },
  {
   "cell_type": "code",
   "execution_count": 119,
   "id": "6ec25683",
   "metadata": {},
   "outputs": [
    {
     "name": "stdout",
     "output_type": "stream",
     "text": [
      "thank your for instantiating me:\n"
     ]
    }
   ],
   "source": [
    "d.show()"
   ]
  },
  {
   "cell_type": "markdown",
   "id": "d9302604",
   "metadata": {},
   "source": [
    "# 2. non parameterized constructor"
   ]
  },
  {
   "cell_type": "code",
   "execution_count": 120,
   "id": "951a7c58",
   "metadata": {},
   "outputs": [],
   "source": [
    "class Demo:\n",
    "    def __init__(self):\n",
    "        print(\"thank you for instance\")"
   ]
  },
  {
   "cell_type": "code",
   "execution_count": 121,
   "id": "3b669fac",
   "metadata": {},
   "outputs": [
    {
     "name": "stdout",
     "output_type": "stream",
     "text": [
      "thank you for instance\n"
     ]
    }
   ],
   "source": [
    "d = Demo()"
   ]
  },
  {
   "cell_type": "code",
   "execution_count": 122,
   "id": "1c89d8dd",
   "metadata": {},
   "outputs": [],
   "source": [
    "class demo:\n",
    "    def __init__(self):\n",
    "        self.color = 'red'\n",
    "        self.drink = 'tea'\n",
    "    def hello(self):\n",
    "        print(f\"thank you for instance i am all{self.color}.would you like some{self.drink}\")"
   ]
  },
  {
   "cell_type": "code",
   "execution_count": 123,
   "id": "3e49a1df",
   "metadata": {},
   "outputs": [],
   "source": [
    "d = demo()"
   ]
  },
  {
   "cell_type": "code",
   "execution_count": 124,
   "id": "215458bb",
   "metadata": {},
   "outputs": [
    {
     "name": "stdout",
     "output_type": "stream",
     "text": [
      "thank you for instance i am allred.would you like sometea\n"
     ]
    }
   ],
   "source": [
    "d.hello()"
   ]
  },
  {
   "cell_type": "code",
   "execution_count": 125,
   "id": "57756a03",
   "metadata": {},
   "outputs": [
    {
     "data": {
      "text/plain": [
       "'red'"
      ]
     },
     "execution_count": 125,
     "metadata": {},
     "output_type": "execute_result"
    }
   ],
   "source": [
    "d.color"
   ]
  },
  {
   "cell_type": "code",
   "execution_count": 126,
   "id": "6e09d4e6",
   "metadata": {},
   "outputs": [
    {
     "data": {
      "text/plain": [
       "'tea'"
      ]
     },
     "execution_count": 126,
     "metadata": {},
     "output_type": "execute_result"
    }
   ],
   "source": [
    "d.drink"
   ]
  },
  {
   "cell_type": "markdown",
   "id": "ef4d056c",
   "metadata": {},
   "source": [
    "# Parameterized Constructor in python"
   ]
  },
  {
   "cell_type": "code",
   "execution_count": 134,
   "id": "46e48a70",
   "metadata": {},
   "outputs": [],
   "source": [
    "class Demo:\n",
    "    def __init__(self,age,country):\n",
    "        self.age = age\n",
    "        self.place = country\n",
    "    def hello(self):\n",
    "        print(f\"hello, i am a {self.age}yo from {self.place}\")"
   ]
  },
  {
   "cell_type": "code",
   "execution_count": 135,
   "id": "d05d9acb",
   "metadata": {},
   "outputs": [],
   "source": [
    "d =Demo(32,'india')"
   ]
  },
  {
   "cell_type": "code",
   "execution_count": 136,
   "id": "769e1c1a",
   "metadata": {},
   "outputs": [
    {
     "name": "stdout",
     "output_type": "stream",
     "text": [
      "hello, i am a 32yo from india\n"
     ]
    }
   ],
   "source": [
    "d.hello()"
   ]
  },
  {
   "cell_type": "code",
   "execution_count": 137,
   "id": "52dd3587",
   "metadata": {},
   "outputs": [
    {
     "name": "stdout",
     "output_type": "stream",
     "text": [
      "second constructor\n"
     ]
    }
   ],
   "source": [
    "class one:\n",
    "    def __init__(self):\n",
    "        print(\"first constructor\")\n",
    "    def __init__(self):\n",
    "        print(\"second constructor\")\n",
    "o = one()"
   ]
  },
  {
   "cell_type": "code",
   "execution_count": 138,
   "id": "afd0e596",
   "metadata": {},
   "outputs": [],
   "source": [
    "class two:\n",
    "    def __init__(self):\n",
    "        print(\"first constructor\")\n",
    "    def __init__(self,val):\n",
    "        print(\"second constructor\")\n",
    "        "
   ]
  },
  {
   "cell_type": "code",
   "execution_count": 140,
   "id": "ae1c243d",
   "metadata": {},
   "outputs": [
    {
     "name": "stdout",
     "output_type": "stream",
     "text": [
      "second constructor\n"
     ]
    }
   ],
   "source": [
    "t = two(5)"
   ]
  },
  {
   "cell_type": "code",
   "execution_count": 141,
   "id": "ff74bce8",
   "metadata": {},
   "outputs": [],
   "source": [
    "class three: # default arguments\n",
    "    def __init__(self,a=1,b=2):\n",
    "        print(a+b)"
   ]
  },
  {
   "cell_type": "code",
   "execution_count": 142,
   "id": "3dfd5599",
   "metadata": {},
   "outputs": [
    {
     "name": "stdout",
     "output_type": "stream",
     "text": [
      "4\n"
     ]
    }
   ],
   "source": [
    "o = three(2)"
   ]
  },
  {
   "cell_type": "code",
   "execution_count": 143,
   "id": "cf062e6f",
   "metadata": {},
   "outputs": [
    {
     "name": "stdout",
     "output_type": "stream",
     "text": [
      "3\n"
     ]
    }
   ],
   "source": [
    "o = three()"
   ]
  },
  {
   "cell_type": "code",
   "execution_count": 144,
   "id": "91cd585d",
   "metadata": {},
   "outputs": [
    {
     "name": "stdout",
     "output_type": "stream",
     "text": [
      "4\n"
     ]
    }
   ],
   "source": [
    "o = three(2,2)"
   ]
  },
  {
   "cell_type": "markdown",
   "id": "04c06523",
   "metadata": {},
   "source": [
    "# python object to create, delete & initialize"
   ]
  },
  {
   "cell_type": "code",
   "execution_count": 145,
   "id": "a5ab8331",
   "metadata": {},
   "outputs": [
    {
     "data": {
      "text/plain": [
       "int"
      ]
     },
     "execution_count": 145,
     "metadata": {},
     "output_type": "execute_result"
    }
   ],
   "source": [
    "type(7)"
   ]
  },
  {
   "cell_type": "code",
   "execution_count": 146,
   "id": "b3d53822",
   "metadata": {},
   "outputs": [],
   "source": [
    "a = [1,2,3]"
   ]
  },
  {
   "cell_type": "code",
   "execution_count": 147,
   "id": "72aa2733",
   "metadata": {},
   "outputs": [
    {
     "data": {
      "text/plain": [
       "list"
      ]
     },
     "execution_count": 147,
     "metadata": {},
     "output_type": "execute_result"
    }
   ],
   "source": [
    "type(a)"
   ]
  },
  {
   "cell_type": "code",
   "execution_count": 148,
   "id": "95ae6231",
   "metadata": {},
   "outputs": [],
   "source": [
    "def sayhi():\n",
    "    print(\"hello\")"
   ]
  },
  {
   "cell_type": "code",
   "execution_count": 149,
   "id": "3292b894",
   "metadata": {},
   "outputs": [
    {
     "name": "stdout",
     "output_type": "stream",
     "text": [
      "hello\n"
     ]
    }
   ],
   "source": [
    "sayhi()"
   ]
  },
  {
   "cell_type": "code",
   "execution_count": 150,
   "id": "9c56207a",
   "metadata": {},
   "outputs": [
    {
     "name": "stdout",
     "output_type": "stream",
     "text": [
      "hello\n"
     ]
    },
    {
     "data": {
      "text/plain": [
       "NoneType"
      ]
     },
     "execution_count": 150,
     "metadata": {},
     "output_type": "execute_result"
    }
   ],
   "source": [
    "type(sayhi())"
   ]
  },
  {
   "cell_type": "code",
   "execution_count": 151,
   "id": "b263d273",
   "metadata": {},
   "outputs": [
    {
     "data": {
      "text/plain": [
       "<function __main__.sayhi()>"
      ]
     },
     "execution_count": 151,
     "metadata": {},
     "output_type": "execute_result"
    }
   ],
   "source": [
    "sayhi"
   ]
  },
  {
   "cell_type": "code",
   "execution_count": 152,
   "id": "dc38abf5",
   "metadata": {},
   "outputs": [
    {
     "data": {
      "text/plain": [
       "bool"
      ]
     },
     "execution_count": 152,
     "metadata": {},
     "output_type": "execute_result"
    }
   ],
   "source": [
    "a =True\n",
    "type(a)"
   ]
  },
  {
   "cell_type": "code",
   "execution_count": 153,
   "id": "8a5edf67",
   "metadata": {},
   "outputs": [
    {
     "data": {
      "text/plain": [
       "str"
      ]
     },
     "execution_count": 153,
     "metadata": {},
     "output_type": "execute_result"
    }
   ],
   "source": [
    "type('True')"
   ]
  },
  {
   "cell_type": "code",
   "execution_count": 154,
   "id": "43ff585b",
   "metadata": {},
   "outputs": [],
   "source": [
    "class fruit:\n",
    "    pass"
   ]
  },
  {
   "cell_type": "code",
   "execution_count": 155,
   "id": "41fa31c3",
   "metadata": {},
   "outputs": [
    {
     "data": {
      "text/plain": [
       "__main__.fruit"
      ]
     },
     "execution_count": 155,
     "metadata": {},
     "output_type": "execute_result"
    }
   ],
   "source": [
    "fruit"
   ]
  },
  {
   "cell_type": "code",
   "execution_count": 156,
   "id": "883755e8",
   "metadata": {},
   "outputs": [],
   "source": [
    "class fruit:\n",
    "    def __init__(self,color,shape):\n",
    "        self.color = color\n",
    "        self.shape = shape\n",
    "    def sayhi(self):\n",
    "        print(f\"hi.\\n i am {self.color} and  {self.shape}\")"
   ]
  },
  {
   "cell_type": "code",
   "execution_count": 160,
   "id": "c057a31e",
   "metadata": {},
   "outputs": [],
   "source": [
    "orange = fruit('red','apple')"
   ]
  },
  {
   "cell_type": "code",
   "execution_count": 162,
   "id": "b07be6e8",
   "metadata": {},
   "outputs": [
    {
     "name": "stdout",
     "output_type": "stream",
     "text": [
      "hi.\n",
      " i am red and  apple\n"
     ]
    }
   ],
   "source": [
    "orange.sayhi()"
   ]
  },
  {
   "cell_type": "code",
   "execution_count": 163,
   "id": "81ea3a6a",
   "metadata": {},
   "outputs": [],
   "source": [
    "class person:\n",
    "    def sayhi(self):\n",
    "        print(\"hi\")"
   ]
  },
  {
   "cell_type": "code",
   "execution_count": 164,
   "id": "46c37ea8",
   "metadata": {},
   "outputs": [],
   "source": [
    "hanna = person()"
   ]
  },
  {
   "cell_type": "code",
   "execution_count": 165,
   "id": "c4537a0f",
   "metadata": {},
   "outputs": [
    {
     "name": "stdout",
     "output_type": "stream",
     "text": [
      "hi\n"
     ]
    }
   ],
   "source": [
    "hanna.sayhi()"
   ]
  },
  {
   "cell_type": "code",
   "execution_count": 166,
   "id": "8fbdf310",
   "metadata": {},
   "outputs": [],
   "source": [
    "miley = hanna"
   ]
  },
  {
   "cell_type": "code",
   "execution_count": 168,
   "id": "46f609e2",
   "metadata": {},
   "outputs": [
    {
     "name": "stdout",
     "output_type": "stream",
     "text": [
      "hi\n"
     ]
    }
   ],
   "source": [
    "miley.sayhi()"
   ]
  },
  {
   "cell_type": "code",
   "execution_count": 169,
   "id": "f853ba5d",
   "metadata": {},
   "outputs": [
    {
     "data": {
      "text/plain": [
       "True"
      ]
     },
     "execution_count": 169,
     "metadata": {},
     "output_type": "execute_result"
    }
   ],
   "source": [
    "id(miley)==id(hanna)"
   ]
  },
  {
   "cell_type": "code",
   "execution_count": 170,
   "id": "41f880be",
   "metadata": {},
   "outputs": [
    {
     "data": {
      "text/plain": [
       "1336999736896"
      ]
     },
     "execution_count": 170,
     "metadata": {},
     "output_type": "execute_result"
    }
   ],
   "source": [
    "id(miley)"
   ]
  },
  {
   "cell_type": "code",
   "execution_count": 171,
   "id": "d5d208bf",
   "metadata": {},
   "outputs": [
    {
     "data": {
      "text/plain": [
       "1336999736896"
      ]
     },
     "execution_count": 171,
     "metadata": {},
     "output_type": "execute_result"
    }
   ],
   "source": [
    "id(hanna)"
   ]
  },
  {
   "cell_type": "code",
   "execution_count": 172,
   "id": "35fd2c0a",
   "metadata": {},
   "outputs": [
    {
     "data": {
      "text/plain": [
       "83562483556"
      ]
     },
     "execution_count": 172,
     "metadata": {},
     "output_type": "execute_result"
    }
   ],
   "source": [
    "hash(miley)"
   ]
  },
  {
   "cell_type": "code",
   "execution_count": 173,
   "id": "8e753917",
   "metadata": {},
   "outputs": [
    {
     "data": {
      "text/plain": [
       "83562483556"
      ]
     },
     "execution_count": 173,
     "metadata": {},
     "output_type": "execute_result"
    }
   ],
   "source": [
    "hash(hanna)"
   ]
  },
  {
   "cell_type": "code",
   "execution_count": 174,
   "id": "5cfad16e",
   "metadata": {},
   "outputs": [],
   "source": [
    "del hanna"
   ]
  },
  {
   "cell_type": "code",
   "execution_count": 175,
   "id": "314e035e",
   "metadata": {},
   "outputs": [
    {
     "data": {
      "text/plain": [
       "<__main__.person at 0x1374b64f640>"
      ]
     },
     "execution_count": 175,
     "metadata": {},
     "output_type": "execute_result"
    }
   ],
   "source": [
    "miley"
   ]
  },
  {
   "cell_type": "code",
   "execution_count": 176,
   "id": "f088ab47",
   "metadata": {},
   "outputs": [
    {
     "ename": "NameError",
     "evalue": "name 'hanna' is not defined",
     "output_type": "error",
     "traceback": [
      "\u001b[1;31m---------------------------------------------------------------------------\u001b[0m",
      "\u001b[1;31mNameError\u001b[0m                                 Traceback (most recent call last)",
      "\u001b[1;32m~\\AppData\\Local\\Temp/ipykernel_12788/3126054407.py\u001b[0m in \u001b[0;36m<module>\u001b[1;34m\u001b[0m\n\u001b[1;32m----> 1\u001b[1;33m \u001b[0mhanna\u001b[0m\u001b[1;33m\u001b[0m\u001b[1;33m\u001b[0m\u001b[0m\n\u001b[0m",
      "\u001b[1;31mNameError\u001b[0m: name 'hanna' is not defined"
     ]
    }
   ],
   "source": [
    "hanna"
   ]
  },
  {
   "cell_type": "markdown",
   "id": "27702b36",
   "metadata": {},
   "source": [
    "# python Inheritance\n",
    "## unified modeling langauge(uml)"
   ]
  },
  {
   "cell_type": "code",
   "execution_count": 178,
   "id": "561f3a85",
   "metadata": {},
   "outputs": [
    {
     "data": {
      "text/plain": [
       "True"
      ]
     },
     "execution_count": 178,
     "metadata": {},
     "output_type": "execute_result"
    }
   ],
   "source": [
    "class person: # super, base,parent\n",
    "    pass\n",
    "class student(person): # sub,derived,child\n",
    "    pass\n",
    "issubclass(student,person)"
   ]
  },
  {
   "cell_type": "markdown",
   "id": "d93b15ce",
   "metadata": {},
   "source": [
    "# types of inheritance\n",
    "1. single\n",
    "2. multilevel\n",
    "3. hybrid\n",
    "4. multiple\n",
    "5. hierarchical"
   ]
  },
  {
   "cell_type": "code",
   "execution_count": 179,
   "id": "013f0213",
   "metadata": {},
   "outputs": [],
   "source": [
    "x = 0\n",
    "class fruit:\n",
    "    def __init__(self):\n",
    "        global x\n",
    "        x+=1\n",
    "        print(\"i'm a fruit\")"
   ]
  },
  {
   "cell_type": "code",
   "execution_count": 180,
   "id": "aad5e452",
   "metadata": {},
   "outputs": [],
   "source": [
    "class cirtru(fruit): # single inheritance\n",
    "    def __init__(self):\n",
    "        super().__init__()\n",
    "        global x \n",
    "        x+=2\n",
    "        print(\"i'm cirtrus\")"
   ]
  },
  {
   "cell_type": "code",
   "execution_count": 181,
   "id": "1c5b2aab",
   "metadata": {},
   "outputs": [
    {
     "data": {
      "text/plain": [
       "0"
      ]
     },
     "execution_count": 181,
     "metadata": {},
     "output_type": "execute_result"
    }
   ],
   "source": [
    "x"
   ]
  },
  {
   "cell_type": "code",
   "execution_count": 183,
   "id": "3ed930df",
   "metadata": {},
   "outputs": [
    {
     "name": "stdout",
     "output_type": "stream",
     "text": [
      "i'm a fruit\n",
      "i'm cirtrus\n"
     ]
    }
   ],
   "source": [
    "lime = cirtru()"
   ]
  },
  {
   "cell_type": "code",
   "execution_count": 184,
   "id": "fd984027",
   "metadata": {},
   "outputs": [
    {
     "data": {
      "text/plain": [
       "3"
      ]
     },
     "execution_count": 184,
     "metadata": {},
     "output_type": "execute_result"
    }
   ],
   "source": [
    "x"
   ]
  },
  {
   "cell_type": "code",
   "execution_count": 187,
   "id": "a893caaf",
   "metadata": {},
   "outputs": [],
   "source": [
    "class color:# multiple inheritance\n",
    "    pass\n",
    "class fruit:\n",
    "    pass\n",
    "class orange(color,fruit):\n",
    "    pass\n"
   ]
  },
  {
   "cell_type": "code",
   "execution_count": 188,
   "id": "fe15579f",
   "metadata": {},
   "outputs": [
    {
     "data": {
      "text/plain": [
       "True"
      ]
     },
     "execution_count": 188,
     "metadata": {},
     "output_type": "execute_result"
    }
   ],
   "source": [
    "issubclass(orange,color) and issubclass(orange,fruit)"
   ]
  },
  {
   "cell_type": "code",
   "execution_count": 189,
   "id": "8eeb6fc6",
   "metadata": {},
   "outputs": [],
   "source": [
    "class a:# multilevel inheritance\n",
    "    x=1\n",
    "class b(a):\n",
    "    pass\n",
    "class c(b):\n",
    "    pass\n",
    "    "
   ]
  },
  {
   "cell_type": "code",
   "execution_count": 190,
   "id": "3c408507",
   "metadata": {},
   "outputs": [],
   "source": [
    "obj = c()"
   ]
  },
  {
   "cell_type": "code",
   "execution_count": 191,
   "id": "d7376ffd",
   "metadata": {},
   "outputs": [
    {
     "data": {
      "text/plain": [
       "1"
      ]
     },
     "execution_count": 191,
     "metadata": {},
     "output_type": "execute_result"
    }
   ],
   "source": [
    "obj.x"
   ]
  },
  {
   "cell_type": "code",
   "execution_count": 192,
   "id": "0a0fbb91",
   "metadata": {},
   "outputs": [],
   "source": [
    "class a:# hierarichical inheritance\n",
    "    pass\n",
    "class b(a):\n",
    "    pass\n",
    "class c (a):\n",
    "    pass\n"
   ]
  },
  {
   "cell_type": "code",
   "execution_count": 193,
   "id": "75ca78c5",
   "metadata": {},
   "outputs": [
    {
     "data": {
      "text/plain": [
       "True"
      ]
     },
     "execution_count": 193,
     "metadata": {},
     "output_type": "execute_result"
    }
   ],
   "source": [
    "issubclass(b,a) and issubclass(c,a)"
   ]
  },
  {
   "cell_type": "code",
   "execution_count": 194,
   "id": "8cede28b",
   "metadata": {},
   "outputs": [],
   "source": [
    "class a:\n",
    "    x=2\n",
    "class b(a):\n",
    "    pass\n",
    "class c(a):\n",
    "    pass\n",
    "class d(b,c):\n",
    "    pass\n",
    "    "
   ]
  },
  {
   "cell_type": "code",
   "execution_count": 195,
   "id": "6ba6be67",
   "metadata": {},
   "outputs": [],
   "source": [
    "dob = d()"
   ]
  },
  {
   "cell_type": "code",
   "execution_count": 196,
   "id": "9a13d05a",
   "metadata": {},
   "outputs": [
    {
     "data": {
      "text/plain": [
       "2"
      ]
     },
     "execution_count": 196,
     "metadata": {},
     "output_type": "execute_result"
    }
   ],
   "source": [
    "dob.x"
   ]
  },
  {
   "cell_type": "markdown",
   "id": "25273168",
   "metadata": {},
   "source": [
    "# python inheritance super function"
   ]
  },
  {
   "cell_type": "code",
   "execution_count": 197,
   "id": "1f2e245a",
   "metadata": {},
   "outputs": [],
   "source": [
    "class vehicle:\n",
    "    def start(self):\n",
    "        print(\"starting\")\n",
    "    def stop(self):\n",
    "        print(\"stopping\")\n",
    "class twowheel(vehicle):\n",
    "    def say(self):\n",
    "        super().start()\n",
    "        print(\"i have two wheels\")\n",
    "        super().stop()"
   ]
  },
  {
   "cell_type": "code",
   "execution_count": 198,
   "id": "da5f1f19",
   "metadata": {},
   "outputs": [],
   "source": [
    "pulsar = twowheel()"
   ]
  },
  {
   "cell_type": "code",
   "execution_count": 199,
   "id": "b9e71172",
   "metadata": {},
   "outputs": [
    {
     "name": "stdout",
     "output_type": "stream",
     "text": [
      "starting\n",
      "i have two wheels\n",
      "stopping\n"
     ]
    }
   ],
   "source": [
    "pulsar.say()"
   ]
  },
  {
   "cell_type": "markdown",
   "id": "6e199f98",
   "metadata": {},
   "source": [
    "# python override method\n",
    "## a subclass may change the functinality of a python method in superclass"
   ]
  },
  {
   "cell_type": "code",
   "execution_count": 200,
   "id": "302900b6",
   "metadata": {},
   "outputs": [],
   "source": [
    "class A:\n",
    "    def sayhi(self):\n",
    "        print(\"i'am in a\")\n",
    "class B(A):\n",
    "    def sayhi(self):\n",
    "        print(\"i'm in b\")"
   ]
  },
  {
   "cell_type": "code",
   "execution_count": 201,
   "id": "8fc5dfee",
   "metadata": {},
   "outputs": [],
   "source": [
    "bob = B()"
   ]
  },
  {
   "cell_type": "code",
   "execution_count": 202,
   "id": "70ff543f",
   "metadata": {},
   "outputs": [
    {
     "name": "stdout",
     "output_type": "stream",
     "text": [
      "i'm in b\n"
     ]
    }
   ],
   "source": [
    "bob.sayhi()"
   ]
  },
  {
   "cell_type": "code",
   "execution_count": 203,
   "id": "ab1f0f2d",
   "metadata": {},
   "outputs": [],
   "source": [
    "def add(a,b):\n",
    "    return a+b\n",
    "def add(a,b,c):\n",
    "    return a+b+c"
   ]
  },
  {
   "cell_type": "code",
   "execution_count": 204,
   "id": "fdf64a13",
   "metadata": {},
   "outputs": [
    {
     "ename": "TypeError",
     "evalue": "add() missing 1 required positional argument: 'c'",
     "output_type": "error",
     "traceback": [
      "\u001b[1;31m---------------------------------------------------------------------------\u001b[0m",
      "\u001b[1;31mTypeError\u001b[0m                                 Traceback (most recent call last)",
      "\u001b[1;32m~\\AppData\\Local\\Temp/ipykernel_12788/2841413502.py\u001b[0m in \u001b[0;36m<module>\u001b[1;34m\u001b[0m\n\u001b[1;32m----> 1\u001b[1;33m \u001b[0madd\u001b[0m\u001b[1;33m(\u001b[0m\u001b[1;36m2\u001b[0m\u001b[1;33m,\u001b[0m\u001b[1;36m3\u001b[0m\u001b[1;33m)\u001b[0m\u001b[1;33m\u001b[0m\u001b[1;33m\u001b[0m\u001b[0m\n\u001b[0m",
      "\u001b[1;31mTypeError\u001b[0m: add() missing 1 required positional argument: 'c'"
     ]
    }
   ],
   "source": [
    "add(2,3)"
   ]
  },
  {
   "cell_type": "markdown",
   "id": "1c3de49c",
   "metadata": {},
   "source": [
    "# python multiple inheritance MRO(method resolutin order)"
   ]
  },
  {
   "cell_type": "code",
   "execution_count": 205,
   "id": "5a921a96",
   "metadata": {},
   "outputs": [],
   "source": [
    "class mother:\n",
    "    pass\n",
    "class father:\n",
    "    pass\n",
    "class child(mother,father):\n",
    "    pass"
   ]
  },
  {
   "cell_type": "code",
   "execution_count": 209,
   "id": "4f500b72",
   "metadata": {},
   "outputs": [
    {
     "data": {
      "text/plain": [
       "True"
      ]
     },
     "execution_count": 209,
     "metadata": {},
     "output_type": "execute_result"
    }
   ],
   "source": [
    "issubclass(child,mother) and issubclass(child,father)"
   ]
  },
  {
   "cell_type": "code",
   "execution_count": 210,
   "id": "39b32829",
   "metadata": {},
   "outputs": [
    {
     "data": {
      "text/plain": [
       "(__main__.child, __main__.mother, __main__.father, object)"
      ]
     },
     "execution_count": 210,
     "metadata": {},
     "output_type": "execute_result"
    }
   ],
   "source": [
    "child.__mro__"
   ]
  },
  {
   "cell_type": "code",
   "execution_count": 211,
   "id": "637fdb3f",
   "metadata": {},
   "outputs": [
    {
     "data": {
      "text/plain": [
       "[__main__.child, __main__.mother, __main__.father, object]"
      ]
     },
     "execution_count": 211,
     "metadata": {},
     "output_type": "execute_result"
    }
   ],
   "source": [
    "child.mro()"
   ]
  },
  {
   "cell_type": "code",
   "execution_count": 212,
   "id": "4f2ccd35",
   "metadata": {},
   "outputs": [],
   "source": [
    "class a:pass\n",
    "class b : pass\n",
    "class c : pass\n",
    "class x(a,b):pass\n",
    "class y(b,c):pass\n",
    "class x(a,b,c):pass"
   ]
  },
  {
   "cell_type": "code",
   "execution_count": 213,
   "id": "f313d86e",
   "metadata": {},
   "outputs": [
    {
     "data": {
      "text/plain": [
       "[__main__.x, __main__.a, __main__.b, __main__.c, object]"
      ]
     },
     "execution_count": 213,
     "metadata": {},
     "output_type": "execute_result"
    }
   ],
   "source": [
    "x.mro()"
   ]
  },
  {
   "cell_type": "code",
   "execution_count": 215,
   "id": "6b96bd94",
   "metadata": {},
   "outputs": [],
   "source": [
    "class a:\n",
    "    id =1\n",
    "class b:\n",
    "    id=2\n",
    "class c :\n",
    "    id =3\n",
    "class m(a,b,c):\n",
    "    pass"
   ]
  },
  {
   "cell_type": "code",
   "execution_count": 216,
   "id": "e5cf8bb7",
   "metadata": {},
   "outputs": [
    {
     "data": {
      "text/plain": [
       "1"
      ]
     },
     "execution_count": 216,
     "metadata": {},
     "output_type": "execute_result"
    }
   ],
   "source": [
    "m.id"
   ]
  },
  {
   "cell_type": "code",
   "execution_count": 217,
   "id": "4c0d51a6",
   "metadata": {},
   "outputs": [],
   "source": [
    "class m(b,a,c):\n",
    "    pass"
   ]
  },
  {
   "cell_type": "code",
   "execution_count": 218,
   "id": "75de5985",
   "metadata": {},
   "outputs": [
    {
     "data": {
      "text/plain": [
       "2"
      ]
     },
     "execution_count": 218,
     "metadata": {},
     "output_type": "execute_result"
    }
   ],
   "source": [
    "m.id"
   ]
  },
  {
   "cell_type": "markdown",
   "id": "01fbbd5a",
   "metadata": {},
   "source": [
    "# python file\n",
    "## a file is a location on disk that stores related information and has a name"
   ]
  },
  {
   "cell_type": "code",
   "execution_count": 219,
   "id": "adab7464",
   "metadata": {},
   "outputs": [],
   "source": [
    "import os # python open file"
   ]
  },
  {
   "cell_type": "code",
   "execution_count": 220,
   "id": "7684a542",
   "metadata": {},
   "outputs": [
    {
     "data": {
      "text/plain": [
       "'C:\\\\Users\\\\yaraz'"
      ]
     },
     "execution_count": 220,
     "metadata": {},
     "output_type": "execute_result"
    }
   ],
   "source": [
    "os.getcwd()"
   ]
  },
  {
   "cell_type": "code",
   "execution_count": 222,
   "id": "7fe73d57",
   "metadata": {},
   "outputs": [
    {
     "data": {
      "text/plain": [
       "['.anaconda_backup',\n",
       " '.android',\n",
       " '.atom',\n",
       " '.aws',\n",
       " '.bash_history',\n",
       " '.config',\n",
       " '.docker',\n",
       " '.gitconfig',\n",
       " '.idea',\n",
       " '.ipynb_checkpoints',\n",
       " '.ipython',\n",
       " '.jupyter',\n",
       " '.pgAdmin4.427924103.addr',\n",
       " '.pgAdmin4.427924103.log',\n",
       " '.pgAdmin4.startup.log',\n",
       " '.pipwin',\n",
       " '.pylint.d',\n",
       " '.python_history',\n",
       " '.spyder-py3',\n",
       " '.ssh',\n",
       " '.vscode',\n",
       " '.~2021-jan-03 6.07.2021-jan-3 6',\n",
       " '.~2021-jan-3 6',\n",
       " '.~stock-21-01-03 10',\n",
       " '2021-jan-3 6',\n",
       " '26-feb.ipynb',\n",
       " '3D Objects',\n",
       " 'Adani_Enterprise.csv',\n",
       " 'algo-13.ipynb',\n",
       " 'algorithm_feb_8.ipynb',\n",
       " 'anaconda3',\n",
       " 'API STOCK',\n",
       " 'api.2021-jan-3 6',\n",
       " 'API.ipynb',\n",
       " 'Apollo_Tyres.csv',\n",
       " 'Apollo_Tyres1.csv',\n",
       " 'Apollo_Tyreslowhigh.csv',\n",
       " 'AppData',\n",
       " 'Application Data',\n",
       " 'Bank_Nifty.csv',\n",
       " 'calc.ipynb',\n",
       " 'config',\n",
       " 'Contacts',\n",
       " 'Cookies',\n",
       " 'debug.log',\n",
       " 'december.15',\n",
       " 'Demo-env',\n",
       " 'Demo-Tutorial',\n",
       " 'demo15.ipynb',\n",
       " 'Desktop',\n",
       " 'Documents',\n",
       " 'Downloads',\n",
       " 'edb_languagepack.exe',\n",
       " 'edb_languagepack_94.exe',\n",
       " 'edb_mtk.exe',\n",
       " 'edb_npgsql.exe',\n",
       " 'edb_pem_agent.exe',\n",
       " 'edb_pem_server.exe',\n",
       " 'edb_pem_server.exe-20200201022218',\n",
       " 'edb_pem_server.exe-20200201022234',\n",
       " 'Election',\n",
       " 'Envs',\n",
       " 'Favorites',\n",
       " 'feb-1.ipynb',\n",
       " 'feb-16.ipynb',\n",
       " 'feb-17 algo.ipynb',\n",
       " 'feb-2.ipynb',\n",
       " 'feb-27.ipynb',\n",
       " 'feb-28.ipynb',\n",
       " 'first.py',\n",
       " 'first_Demo.ipynb',\n",
       " 'getting-started',\n",
       " 'hacking_mail.ipynb',\n",
       " 'img.jpg',\n",
       " 'infy_stock.csv',\n",
       " 'instax',\n",
       " 'instgram_save.ipynb',\n",
       " 'IntelGraphicsProfiles',\n",
       " 'Jarvis.ipynb',\n",
       " 'Jindal_Steel.csv',\n",
       " 'Jindal_steel1.csv',\n",
       " 'kannur_stock.ipynb',\n",
       " 'Links',\n",
       " 'Local Settings',\n",
       " 'loginpage.html',\n",
       " 'manju.txt',\n",
       " 'march-05.ipynb',\n",
       " 'march-06.ipynb',\n",
       " 'march-13.ipynb',\n",
       " 'march-18.ipynb',\n",
       " 'martch-04.ipynb',\n",
       " 'MicrosoftEdgeBackups',\n",
       " 'Module.ipynb',\n",
       " 'Music',\n",
       " 'My Documents',\n",
       " 'NetHood',\n",
       " 'nifty_it_index.csv',\n",
       " 'NTUSER.DAT',\n",
       " 'ntuser.dat.LOG1',\n",
       " 'ntuser.dat.LOG2',\n",
       " 'NTUSER.DAT{10a193c9-1560-11eb-ae0d-f42382946dc7}.TM.blf',\n",
       " 'NTUSER.DAT{10a193c9-1560-11eb-ae0d-f42382946dc7}.TMContainer00000000000000000001.regtrans-ms',\n",
       " 'NTUSER.DAT{10a193c9-1560-11eb-ae0d-f42382946dc7}.TMContainer00000000000000000002.regtrans-ms',\n",
       " 'ntuser.ini',\n",
       " 'OneDrive',\n",
       " 'oops_concept in python.ipynb',\n",
       " 'password.txt',\n",
       " 'pemhttpd.exe',\n",
       " 'pic27218.jpg',\n",
       " 'pic31862.jpg',\n",
       " 'pic98520.jpg',\n",
       " 'Pipfile',\n",
       " 'Pipfile.lock',\n",
       " 'postgresql_94.exe',\n",
       " 'prices.csv',\n",
       " 'PrintHood',\n",
       " 'Program_Example.ipynb',\n",
       " 'python algorithm.ipynb',\n",
       " 'Python Algorithms_ Mastering Basic Algorithms in the Python Language ( PDFDrive ).pdf',\n",
       " 'python-getting-started',\n",
       " 'pythonprogram.ipynb',\n",
       " 'python_function.ipynb',\n",
       " 'python_Generator.ipynb',\n",
       " 'Python_Tutorial.ipynb',\n",
       " 'Recent',\n",
       " 'Saved Games',\n",
       " 'Searches',\n",
       " 'SendTo',\n",
       " 'sherlock',\n",
       " 'Start Menu',\n",
       " 'stock-21-01-03 10',\n",
       " 'tcs_stock.csv',\n",
       " 'Templates',\n",
       " 'timeproject.ipynb',\n",
       " 'token.ipynb',\n",
       " 'Tracing',\n",
       " 'untitled',\n",
       " 'Untitled.ipynb',\n",
       " 'Untitled1.ipynb',\n",
       " 'Untitled2.ipynb',\n",
       " 'Untitled3.ipynb',\n",
       " 'Untitled4.ipynb',\n",
       " 'Videos',\n",
       " 'whatsapp_hack',\n",
       " 'yarazari10.com',\n",
       " '_netrc']"
      ]
     },
     "execution_count": 222,
     "metadata": {},
     "output_type": "execute_result"
    }
   ],
   "source": [
    "os.listdir()"
   ]
  },
  {
   "cell_type": "code",
   "execution_count": 223,
   "id": "b51a0091",
   "metadata": {},
   "outputs": [
    {
     "data": {
      "text/plain": [
       "<_io.TextIOWrapper name='password.txt' mode='r' encoding='cp1252'>"
      ]
     },
     "execution_count": 223,
     "metadata": {},
     "output_type": "execute_result"
    }
   ],
   "source": [
    "open(\"password.txt\")"
   ]
  },
  {
   "cell_type": "code",
   "execution_count": 224,
   "id": "cd205541",
   "metadata": {},
   "outputs": [],
   "source": [
    "todo = open(\"password.txt\")"
   ]
  },
  {
   "cell_type": "code",
   "execution_count": 225,
   "id": "d6a399bf",
   "metadata": {},
   "outputs": [
    {
     "data": {
      "text/plain": [
       "<_io.TextIOWrapper name='password.txt' mode='r' encoding='cp1252'>"
      ]
     },
     "execution_count": 225,
     "metadata": {},
     "output_type": "execute_result"
    }
   ],
   "source": [
    "todo"
   ]
  },
  {
   "cell_type": "markdown",
   "id": "c022fab3",
   "metadata": {},
   "source": [
    "# python file modes"
   ]
  },
  {
   "cell_type": "code",
   "execution_count": 226,
   "id": "b65acaf2",
   "metadata": {},
   "outputs": [],
   "source": [
    "todo = open(\"password.txt\",'r+b') # to read & write"
   ]
  },
  {
   "cell_type": "code",
   "execution_count": 227,
   "id": "e5cca7f4",
   "metadata": {},
   "outputs": [
    {
     "data": {
      "text/plain": [
       "<_io.BufferedRandom name='password.txt'>"
      ]
     },
     "execution_count": 227,
     "metadata": {},
     "output_type": "execute_result"
    }
   ],
   "source": [
    "todo"
   ]
  },
  {
   "cell_type": "code",
   "execution_count": 228,
   "id": "cd2aaa9e",
   "metadata": {},
   "outputs": [],
   "source": [
    "todo = open(\"password.txt\",'a')"
   ]
  },
  {
   "cell_type": "code",
   "execution_count": 229,
   "id": "0afc40ec",
   "metadata": {},
   "outputs": [
    {
     "data": {
      "text/plain": [
       "<_io.TextIOWrapper name='password.txt' mode='a' encoding='cp1252'>"
      ]
     },
     "execution_count": 229,
     "metadata": {},
     "output_type": "execute_result"
    }
   ],
   "source": [
    "todo"
   ]
  },
  {
   "cell_type": "code",
   "execution_count": 234,
   "id": "6c121df7",
   "metadata": {},
   "outputs": [
    {
     "name": "stdout",
     "output_type": "stream",
     "text": [
      "Date,Open,High,Low,Close,Volume,Turnover\n",
      "2019-01-01,14426.45,14480.55,14357.05,14450.9,14008384.0,7192000000.0\n",
      "2019-01-02,14467.4,14593.85,14371.0,14447.1,27024498.0,16231500000.0\n",
      "2019-01-03,14479.75,14542.3,14276.5,14322.15,25156380.0,16665200000.0\n",
      "2019-01-04,14332.65,14359.2,13958.85,14146.15,32610951.0,23330400000.0\n",
      "2019-01-07,14238.05,14316.0,14204.65,14291.5,23053554.0,14895900000.0\n",
      "2019-01-08,14344.6,14357.75,14238.2,14285.7,30284463.0,17870200000.0\n",
      "2019-01-09,14417.2,14495.7,14162.2,14326.05,39777101.0,25342700000.0\n",
      "2019-01-10,14388.85,14393.45,14272.25,14323.25,25385563.0,17260500000.0\n",
      "2019-01-11,14288.95,14326.9,14134.25,14307.1,36388890.0,33542900000.0\n",
      "2019-01-14,14474.5,14495.7,14196.0,14223.6,41011605.0,28035900000.0\n",
      "2019-01-15,14265.7,14685.5,14262.4,14658.5,82293752.0,41739399999.99999\n",
      "2019-01-16,14688.85,14732.75,14610.1,14707.8,41887904.0,21522800000.000004\n",
      "2019-01-17,14714.25,14813.9,14660.05,14800.25,38250488.0,25415700000.0\n",
      "2019-01-18,14744.05,14923.75,14709.45,14892.95,34624811.0,21320300000.000004\n",
      "2019-01-21,14920.35,15100.2,14850.0,14966.4,45511115.0,27651800000.0\n",
      "2019-01-22,14927.15,15019.6,14814.95,14962.6,33064975.0,22952100000.0\n",
      "2019-01-23,14975.2,15003.85,14856.85,14888.75,37429423.0,25440400000.0\n",
      "2019-01-24,14897.45,15003.55,14793.25,14971.85,33165996.0,18489100000.0\n",
      "2019-01-25,14952.75,15161.2,14927.25,15039.25,39347664.0,19856600000.0\n",
      "2019-01-28,15085.05,15161.7,15026.75,15120.1,35878523.0,20372700000.0\n",
      "2019-01-29,15126.15,15293.0,14986.7,15231.3,31191349.0,19720200000.0\n",
      "2019-01-30,15304.0,15381.45,15192.4,15255.2,37418911.0,23508500000.0\n",
      "2019-01-31,15299.45,15513.45,15276.05,15499.3,47438828.0,30958400000.0\n",
      "2019-02-01,15522.55,15751.75,15485.7,15724.3,29344350.0,20073900000.0\n",
      "2019-02-04,15727.2,15819.7,15635.9,15754.8,23254965.0,13056700000.0\n",
      "2019-02-05,15709.0,15812.15,15634.95,15738.7,26077745.0,11932700000.0\n",
      "2019-02-06,15857.7,16090.7,15835.7,16055.6,44339473.0,25440200000.0\n",
      "2019-02-07,16045.55,16167.85,16031.15,16085.85,30232353.0,15259100000.0\n",
      "2019-02-08,16001.15,16145.7,15979.8,16019.8,25548817.0,17711900000.0\n",
      "2019-02-11,16050.2,16159.05,16002.5,16099.05,22644494.0,15925200000.0\n",
      "2019-02-12,16093.45,16094.6,15788.1,15938.6,33477588.0,18428400000.0\n",
      "2019-02-13,15958.4,16087.3,15885.3,16041.65,28680952.0,16798000000.0\n",
      "2019-02-14,15992.45,16002.2,15828.85,15861.65,25024087.0,13903200000.0\n",
      "2019-02-15,15898.4,15912.45,15620.45,15815.6,55717193.0,17698700000.0\n",
      "2019-02-18,15895.5,15948.1,15618.05,15659.0,30337931.0,19109800000.0\n",
      "2019-02-19,15644.05,15651.9,15287.5,15333.5,28734431.0,22375800000.0\n",
      "2019-02-20,15382.45,15651.7,15330.8,15609.45,33005377.0,21409899999.999996\n",
      "2019-02-21,15609.15,15691.4,15492.2,15588.9,40924365.0,31615800000.0\n",
      "2019-02-22,15582.8,15717.3,15543.5,15684.7,26504046.0,16388300000.0\n",
      "2019-02-25,15738.95,16029.95,15729.25,16003.7,25015005.0,18277200000.0\n",
      "2019-02-26,15933.8,16069.4,15874.95,15989.6,33173348.0,28468900000.0\n",
      "2019-02-27,15983.8,16007.65,15803.7,15902.1,39729486.0,25021400000.0\n",
      "2019-02-28,15974.1,15974.1,15694.85,15732.0,48900361.0,37463600000.0\n",
      "2019-03-01,15778.15,15871.1,15752.2,15848.3,31816077.0,21354699999.999996\n",
      "2019-03-05,15839.2,15839.2,15634.55,15664.1,55372214.0,21881700000.0\n",
      "2019-03-06,15732.35,15814.7,15681.1,15735.05,66054615.0,23965000000.0\n",
      "2019-03-07,15788.15,15788.15,15558.95,15582.1,35405290.0,22267700000.0\n",
      "2019-03-08,15544.35,15545.65,15388.2,15408.7,47183037.0,21729800000.0\n",
      "2019-03-11,15432.9,15500.75,15349.6,15388.5,66030778.0,23849600000.0\n",
      "2019-03-12,15408.85,15497.2,15349.8,15384.55,50310706.0,23721000000.0\n",
      "2019-03-13,15442.25,15550.85,15300.25,15342.9,49018707.0,25602700000.0\n",
      "2019-03-14,15422.6,15437.05,15202.05,15260.45,39544967.0,18516500000.0\n",
      "2019-03-15,15346.0,15649.25,15324.85,15546.6,55791714.0,36317500000.0\n",
      "2019-03-18,15614.8,15661.3,15304.75,15359.45,30222245.0,20463900000.0\n",
      "2019-03-19,15432.5,15545.45,15296.0,15495.55,33434307.0,22681800000.0\n",
      "2019-03-20,15563.95,15735.25,15554.45,15599.25,43418330.0,29570500000.0\n",
      "2019-03-22,15652.3,15652.3,15462.2,15551.1,32634674.0,21677600000.000004\n",
      "2019-03-25,15579.05,15579.05,15388.4,15416.85,28304864.0,16617200000.0\n",
      "2019-03-26,15415.5,15426.25,15218.25,15356.6,28385813.0,19935700000.0\n",
      "2019-03-27,15352.6,15421.85,15307.1,15339.4,27539227.0,18428300000.0\n",
      "2019-03-28,15410.35,15636.5,15399.45,15566.75,38025265.0,27088300000.0\n",
      "2019-03-29,15681.6,15729.5,15578.2,15628.2,28698651.0,20184100000.0\n",
      "2019-04-01,15668.8,15922.05,15662.55,15840.65,27734179.0,18203100000.0\n",
      "2019-04-02,15902.9,16013.25,15874.65,15988.4,25358268.0,21119200000.0\n",
      "2019-04-03,15996.5,16009.85,15862.5,15962.95,25163308.0,19511900000.0\n",
      "2019-04-04,15947.8,15954.15,15691.0,15744.8,31363340.0,24176700000.0\n",
      "2019-04-05,15800.45,15952.5,15759.8,15923.05,23506932.0,17888200000.0\n",
      "2019-04-08,15982.85,16061.3,15857.15,16028.25,22086073.0,16572300000.0\n",
      "2019-04-09,16048.25,16203.25,15999.65,16121.6,34843987.0,22440200000.0\n",
      "2019-04-10,16138.85,16172.8,15978.2,15999.15,56982204.0,25768700000.0\n",
      "2019-04-11,16018.0,16030.85,15852.3,15874.75,37532853.0,21011200000.0\n",
      "2019-04-12,15918.1,15989.7,15832.0,15911.1,52345311.0,19940300000.0\n",
      "2019-04-15,15917.7,16136.6,15862.0,16113.7,88386836.0,52716000000.0\n",
      "2019-04-16,16166.15,16176.6,16064.35,16084.9,70237133.0,33061700000.0\n",
      "2019-04-18,16177.85,16177.85,16021.0,16079.3,72219746.0,36951100000.0\n",
      "2019-04-22,16077.55,16204.3,16057.9,16150.6,30038085.0,16400800000.0\n",
      "2019-04-23,16179.45,16193.6,16082.45,16166.3,33651817.0,14365800000.0\n",
      "2019-04-24,16182.9,16405.8,16161.35,16370.35,40592814.0,23396700000.0\n",
      "2019-04-25,16361.0,16388.55,16299.2,16352.75,43108679.0,27768000000.0\n",
      "2019-04-26,16393.8,16523.75,16381.45,16504.45,26445478.0,18068400000.0\n",
      "2019-04-30,16510.95,16720.4,16502.45,16705.4,37839366.0,26851300000.0\n",
      "2019-05-02,16656.9,16673.6,16387.3,16403.7,27472186.0,18510100000.0\n",
      "2019-05-03,16259.5,16265.3,16065.45,16092.9,32287604.0,22244500000.0\n",
      "2019-05-06,15949.3,16146.4,15925.4,16111.35,33864211.0,20332400000.0\n",
      "2019-05-07,16145.65,16225.85,16100.65,16135.75,26138540.0,16914000000.0\n",
      "2019-05-08,16106.05,16129.4,15998.6,16061.6,25144861.0,18068100000.0\n",
      "2019-05-09,16031.6,16164.9,16002.45,16132.85,28758628.0,20813300000.0\n",
      "2019-05-10,16117.6,16146.35,15911.95,15949.6,30520016.0,22613000000.0\n",
      "2019-05-13,15949.0,16095.7,15915.15,15955.3,25189674.0,16344500000.0\n",
      "2019-05-14,15942.95,15966.65,15642.95,15762.75,32260097.0,20850500000.0\n",
      "2019-05-15,15793.35,15896.3,15743.7,15776.8,26513999.0,15634100000.0\n",
      "2019-05-16,15816.65,15994.25,15779.75,15933.95,20983387.0,14040200000.0\n",
      "2019-05-17,15962.4,16000.35,15803.2,15843.35,21610726.0,15147200000.0\n",
      "2019-05-20,15933.3,16009.65,15642.7,15968.2,33973487.0,20550300000.000004\n",
      "2019-05-21,15982.3,15989.05,15737.15,15766.95,21394317.0,14943200000.0\n",
      "2019-05-22,15750.05,15812.25,15640.6,15666.15,29498528.0,19476000000.0\n",
      "2019-05-23,15772.05,15819.05,15506.2,15538.85,26404679.0,18135700000.0\n",
      "2019-05-24,15622.25,15626.35,15461.85,15569.85,27924145.0,19828000000.0\n",
      "2019-05-27,15587.4,15629.6,15526.4,15556.65,32487615.0,19720300000.0\n",
      "2019-05-28,15614.1,15806.2,15554.9,15762.05,104740630.0,54910100000.0\n",
      "2019-05-29,15773.3,15973.0,15754.35,15865.6,30451270.0,22937199999.999996\n",
      "2019-05-30,15908.95,16034.75,15879.2,15997.35,51495682.0,32509800000.0\n",
      "2019-05-31,16070.6,16197.35,16042.6,16160.65,53201572.0,26508200000.0\n",
      "2019-06-03,16159.5,16391.0,16082.8,16360.55,28151209.0,20852900000.0\n",
      "2019-06-04,16276.8,16285.85,16072.9,16105.2,35764516.0,22945600000.0\n",
      "2019-06-06,16155.8,16159.75,15991.4,16012.1,31264718.0,22768000000.0\n",
      "2019-06-07,16042.3,16155.05,15972.75,16109.85,29098049.0,14744800000.0\n",
      "2019-06-10,16176.85,16381.65,16152.2,16362.4,24741844.0,15403800000.000002\n",
      "2019-06-11,16406.25,16488.65,16380.5,16448.1,30617086.0,20015900000.0\n",
      "2019-06-12,16441.75,16446.95,16283.65,16425.95,29518108.0,19742200000.0\n",
      "2019-06-13,16340.05,16421.8,16282.65,16316.6,24126342.0,17621900000.0\n",
      "2019-06-14,16326.7,16336.1,16239.2,16268.2,26301593.0,15969800000.0\n",
      "2019-06-17,16285.0,16313.55,16190.9,16228.2,21959319.0,11098100000.0\n",
      "2019-06-18,16215.7,16352.4,16212.3,16322.5,31939866.0,14848200000.0\n",
      "2019-06-19,16358.75,16391.5,16215.95,16282.7,29330912.0,14989900000.0\n",
      "2019-06-20,16039.0,16338.75,15994.95,16316.9,33530558.0,18390800000.0\n",
      "2019-06-21,16343.35,16358.95,16154.85,16189.4,44927711.0,30912100000.0\n",
      "2019-06-24,16202.4,16231.6,16142.4,16187.4,16349337.0,11101900000.0\n",
      "2019-06-25,16158.8,16252.95,16050.6,16214.45,19774495.0,11052700000.0\n",
      "2019-06-26,16152.7,16255.2,16079.2,16101.7,,\n",
      "2019-06-27,16096.2,16129.4,15946.65,15991.8,41146293.0,25726200000.0\n",
      "2019-06-28,16069.9,16085.4,15904.8,15936.45,37902286.0,17383100000.0\n",
      "2019-07-01,15982.7,16023.55,15893.55,15916.7,16679967.0,13261099999.999998\n",
      "2019-07-02,15952.9,16096.95,15886.45,16074.1,16987207.0,13253400000.0\n",
      "2019-07-03,16091.1,16097.15,15906.4,15927.65,16757982.0,12281600000.0\n",
      "2019-07-04,15901.45,15992.6,15896.9,15942.4,12823195.0,9751400000.0\n",
      "2019-07-05,15960.85,15979.45,15520.0,15550.05,20473922.0,18159600000.0\n",
      "2019-07-08,15410.85,15480.15,15317.4,15376.0,26980287.0,21712300000.0\n",
      "2019-07-09,15381.35,15434.0,15123.6,15254.5,23588410.0,22353800000.0\n",
      "2019-07-10,15077.0,15322.75,15045.1,15168.6,23946977.0,24799600000.0\n",
      "2019-07-11,15256.55,15258.35,15060.9,15214.25,20376482.0,16119600000.0\n",
      "2019-07-12,15227.6,15293.35,15186.1,15227.4,24358006.0,16673599999.999998\n",
      "2019-07-15,15516.25,15697.45,15406.25,15662.05,44809100.0,35904000000.0\n",
      "2019-07-16,15608.75,15630.6,15532.3,15580.45,25114991.0,19710900000.0\n",
      "2019-07-17,15602.7,15708.8,15508.95,15675.95,31073297.0,23172000000.0\n",
      "2019-07-18,15554.9,15636.85,15455.05,15498.45,51334929.0,31969200000.0\n",
      "2019-07-19,15520.7,15611.6,15363.05,15383.65,24071564.0,18412800000.0\n",
      "2019-07-22,15387.45,15494.05,15334.6,15448.25,21199392.0,15874600000.0\n",
      "2019-07-23,15497.55,15645.7,15467.7,15493.4,26632051.0,22974800000.0\n",
      "2019-07-24,15465.8,15531.85,15332.85,15380.75,20116466.0,16918000000.0\n",
      "2019-07-25,15383.15,15510.6,15343.05,15474.65,28335619.0,22442100000.0\n",
      "2019-07-26,15442.5,15461.65,15265.35,15348.05,17995198.0,13429600000.0\n",
      "2019-07-29,15365.1,15528.1,15297.0,15400.85,17712106.0,13853900000.000002\n",
      "2019-07-30,15409.45,15527.5,15361.45,15501.65,24391431.0,20078900000.0\n",
      "2019-07-31,15437.6,15649.15,15303.7,15620.2,30797834.0,23755000000.0\n",
      "2019-08-01,15576.95,15593.55,15277.75,15332.1,39775850.0,24126000000.0\n",
      "2019-08-02,15277.65,15461.05,15208.8,15422.1,25330329.0,19909500000.0\n",
      "2019-08-05,15349.7,15544.9,15312.55,15518.55,26873535.0,20408600000.0\n",
      "2019-08-06,15479.2,15636.5,15434.25,15514.8,29684463.0,22450100000.000004\n",
      "2019-08-07,15591.15,15730.7,15522.85,15583.35,21314090.0,17002400000.0\n",
      "2019-08-08,15677.45,15919.2,15654.45,15867.95,26614771.0,22078000000.0\n",
      "2019-08-09,15898.0,15945.4,15785.75,15821.35,32476723.0,16072200000.0\n",
      "2019-08-13,15809.25,15822.4,15379.6,15424.4,18332921.0,14984800000.0\n",
      "2019-08-14,15467.35,15518.45,15298.5,15466.25,20443965.0,14935600000.0\n",
      "2019-08-16,15547.4,15552.7,15238.55,15365.35,21253923.0,18610300000.0\n",
      "2019-08-19,15420.05,15514.9,15396.0,15415.15,13489446.0,9867200000.0\n",
      "2019-08-20,15503.8,15691.65,15467.35,15597.75,27155209.0,19578800000.0\n",
      "2019-08-21,15598.5,15680.05,15562.0,15578.15,17085453.0,12558900000.000002\n",
      "2019-08-22,15581.5,15703.15,15478.8,15632.0,18016274.0,14767100000.0\n",
      "2019-08-23,15647.65,15872.85,15639.4,15816.6,27917993.0,21928400000.0\n",
      "2019-08-26,15825.25,15922.55,15628.1,15890.2,16822219.0,14363800000.000002\n",
      "2019-08-27,15817.3,15833.55,15631.5,15675.3,34222065.0,29694200000.0\n",
      "2019-08-28,15704.1,15898.0,15703.1,15879.9,20178247.0,17189600000.0\n",
      "2019-08-29,15774.65,15943.3,15754.9,15884.55,20870908.0,16918200000.0\n",
      "2019-08-30,15893.9,16039.25,15734.2,16010.4,25878941.0,21820700000.0\n",
      "2019-09-03,16027.1,16189.45,15935.9,15984.85,20910676.0,18377200000.0\n",
      "2019-09-04,15985.75,16090.85,15944.4,16032.5,19497738.0,15058200000.0\n",
      "2019-09-05,16109.2,16142.65,15972.2,16030.95,19716238.0,16375300000.0\n",
      "2019-09-06,16139.9,16218.8,15991.05,16034.55,33895824.0,22549699999.999996\n",
      "2019-09-09,16023.95,16030.45,15883.6,15919.4,19870754.0,13124400000.0\n",
      "2019-09-11,15901.15,15955.2,15669.3,15701.8,29755328.0,20512700000.0\n",
      "2019-09-12,15674.3,15725.75,15525.15,15583.25,20094724.0,14930100000.0\n",
      "2019-09-13,15608.1,15739.7,15586.7,15722.9,16676082.0,13056300000.000002\n",
      "2019-09-16,15774.45,15854.15,15602.6,15743.15,18942349.0,15930000000.0\n",
      "2019-09-17,15769.85,15769.85,15563.6,15625.65,19404909.0,16814600000.0\n",
      "2019-09-18,15649.05,15731.05,15584.1,15702.3,13894347.0,11521199999.999998\n",
      "2019-09-19,15667.0,15675.15,15469.1,15522.45,16325657.0,13882600000.0\n",
      "2019-09-20,15541.55,15742.55,15434.15,15491.05,47154254.0,42126500000.0\n",
      "2019-09-23,15611.8,15611.8,14735.55,15040.65,38192804.0,33540800000.0\n",
      "2019-09-24,15055.05,15380.35,15055.05,15338.65,35122169.0,30306900000.0\n",
      "2019-09-25,15351.85,15471.0,15268.9,15379.9,26252716.0,23657000000.0\n",
      "2019-09-26,15374.5,15456.85,15208.4,15312.9,36572789.0,31666600000.0\n",
      "2019-09-27,15297.7,15412.9,15214.2,15236.4,19972976.0,16435800000.0\n",
      "2019-09-30,15277.15,15568.45,15259.8,15540.15,24639706.0,21474400000.0\n",
      "2019-10-01,15559.65,15561.5,15240.95,15300.25,20838455.0,18389100000.0\n",
      "2019-10-03,15318.8,15417.25,15228.9,15277.95,19672683.0,15883800000.000002\n",
      "2019-10-04,15328.4,15418.8,15285.15,15340.3,22045346.0,18206900000.0\n",
      "2019-10-07,15368.15,15472.35,15226.7,15246.75,16359132.0,13791300000.000002\n",
      "2019-10-09,15305.1,15317.15,15051.35,15128.75,21599827.0,17461700000.0\n",
      "2019-10-10,15124.85,15235.6,15034.6,15093.8,24092311.0,20587199999.999996\n",
      "2019-10-11,14871.45,15388.95,14865.1,15321.9,46781069.0,50230300000.0\n",
      "2019-10-14,15202.2,15338.6,15147.7,15277.75,28977053.0,24975100000.000004\n",
      "2019-10-15,15254.4,15281.45,15191.05,15208.4,34587081.0,24406600000.0\n",
      "2019-10-16,15223.5,15373.35,15213.2,15344.9,40139861.0,25996900000.0\n",
      "2019-10-17,15257.95,15313.9,15160.2,15281.9,29872973.0,24305300000.000004\n",
      "2019-10-18,15271.95,15434.55,15241.0,15410.1,25035472.0,21430700000.0\n",
      "2019-10-22,15033.3,15085.45,14659.45,14688.65,112307829.0,80660100000.0\n",
      "2019-10-23,14640.85,14911.2,14566.55,14833.35,77030948.0,54165400000.0\n",
      "2019-10-24,14956.65,14970.35,14756.55,14781.5,51576928.0,39634300000.0\n",
      "2019-10-25,14883.4,14943.75,14720.85,14898.85,,\n",
      "2019-10-27,15012.45,15058.45,14916.05,14956.4,4721747.0,3423200000.0\n",
      "2019-10-29,14980.15,15199.9,14970.5,15181.4,35883005.0,30843700000.0\n",
      "2019-10-30,15343.7,15419.65,15212.75,15395.65,41161977.0,34754200000.0\n",
      "2019-10-31,15436.3,15657.75,15417.0,15559.4,48285119.0,41094600000.0\n",
      "2019-11-01,15575.35,15636.3,15411.8,15471.2,29764342.0,25926400000.0\n",
      "2019-11-04,15474.0,15803.35,15428.5,15591.3,46736702.0,36747700000.0\n",
      "2019-11-05,15613.1,15613.1,15422.8,15533.45,25846772.0,21983000000.0\n",
      "2019-11-06,15554.05,15647.05,15440.4,15561.3,40153010.0,32797399999.999996\n",
      "2019-11-07,15635.5,15639.7,15532.15,15624.4,24251273.0,19627000000.0\n",
      "2019-11-08,15646.4,15658.15,15355.7,15383.3,21722268.0,19516900000.0\n",
      "2019-11-11,15343.25,15354.05,15228.8,15308.55,16836070.0,15619800000.0\n",
      "2019-11-13,15307.9,15374.05,15192.3,15240.95,28471486.0,24364699999.999996\n",
      "2019-11-14,15292.9,15410.3,15217.3,15388.75,25379073.0,21084800000.0\n",
      "2019-11-15,15425.05,15471.15,15287.1,15310.6,18374737.0,16781400000.000002\n",
      "2019-11-18,15326.8,15373.85,15251.0,15295.25,22066550.0,16315200000.0\n",
      "2019-11-19,15318.65,15371.8,15256.85,15304.85,25599935.0,21077199999.999996\n",
      "2019-11-20,15349.05,15349.05,15235.0,15318.5,19887942.0,17590000000.0\n",
      "2019-11-21,15353.7,15435.4,15279.4,15293.95,21612732.0,17855000000.0\n",
      "2019-11-22,15216.55,15220.05,14931.35,14995.9,29495740.0,24016000000.0\n",
      "2019-11-25,15002.2,15112.9,14950.95,15100.6,17414541.0,15295600000.0\n",
      "2019-11-26,15174.65,15212.65,14867.45,14922.15,54958881.0,44793600000.0\n",
      "2019-11-27,14957.5,15049.0,14946.55,15022.15,15023394.0,14014600000.0\n",
      "2019-11-28,15069.15,15136.2,15042.65,15121.75,14650309.0,13950400000.0\n",
      "2019-11-29,15132.95,15147.25,14964.25,14998.05,13785332.0,11590200000.0\n",
      "2019-12-02,15056.85,15070.65,14819.4,14852.0,26527817.0,22332800000.000004\n",
      "2019-12-03,14870.9,14956.45,14808.4,14920.75,23102025.0,21035300000.000004\n",
      "2019-12-04,14918.5,15188.55,14896.6,15175.15,27219694.0,22956800000.0\n",
      "2019-12-05,15164.15,15385.45,15101.8,15367.5,28794873.0,24500800000.0\n",
      "2019-12-06,15383.45,15390.05,15269.25,15289.6,16934648.0,13637900000.0\n",
      "2019-12-09,15309.7,15322.55,15136.25,15157.15,18193828.0,15272300000.0\n",
      "2019-12-10,15120.05,15123.35,14903.25,14946.5,20105891.0,18599500000.0\n",
      "2019-12-11,14972.0,15147.35,14963.65,15130.3,22965246.0,21297500000.0\n",
      "2019-12-12,15151.1,15184.15,14890.6,14972.65,27121407.0,27502300000.0\n",
      "2019-12-13,14987.9,15221.45,14965.15,15200.55,30121794.0,26855000000.0\n",
      "2019-12-16,15263.75,15446.25,15223.1,15348.7,28614674.0,26667900000.0\n",
      "2019-12-17,15417.55,15670.35,15387.2,15637.15,35675500.0,35897400000.0\n",
      "2019-12-18,15680.5,15835.8,15649.15,15710.65,46723697.0,45259300000.0\n",
      "2019-12-19,15741.2,15835.5,15654.7,15812.95,25099747.0,26298300000.0\n",
      "2019-12-20,15811.95,15890.95,15781.25,15844.55,29982814.0,27396100000.0\n",
      "2019-12-23,15811.4,15936.0,15809.05,15865.5,15891898.0,14147000000.0\n",
      "2019-12-24,15877.4,15880.15,15739.45,15778.2,16014503.0,15701900000.0\n",
      "2019-12-26,15784.45,15806.85,15690.95,15706.45,17848305.0,14722400000.0\n",
      "2019-12-27,15740.4,15824.15,15657.5,15780.7,16652327.0,14588900000.000002\n",
      "2019-12-30,15801.5,15868.95,15715.1,15775.0,16249651.0,14009900000.0\n",
      "2019-12-31,15754.05,15775.25,15634.5,15652.4,19595240.0,15633900000.000002\n",
      "\n"
     ]
    }
   ],
   "source": [
    "with open(\"nifty_it_index.csv\") as f:\n",
    "    print(f .read())"
   ]
  },
  {
   "cell_type": "code",
   "execution_count": 235,
   "id": "e3f9016d",
   "metadata": {},
   "outputs": [
    {
     "name": "stdout",
     "output_type": "stream",
     "text": [
      "Date,Open,High,Low,Close,Volume,Turnover\n",
      "2019-01-01,14426.45,14480.55,14357.05,14450.9,14008384.0,7192000000.0\n",
      "2019-01-02,14467.4,14593.85,14371.0,14447.1,27024498.0,16231500000.0\n",
      "2019-01-03,14479.75,14542.3,14276.5,14322.15,25156380.0,16665200000.0\n",
      "2019-01-04,14332.65,14359.2,13958.85,14146.15,32610951.0,23330400000.0\n",
      "2019-01-07,14238.05,14316.0,14204.65,14291.5,23053554.0,14895900000.0\n",
      "2019-01-08,14344.6,14357.75,14238.2,14285.7,30284463.0,17870200000.0\n",
      "2019-01-09,14417.2,14495.7,14162.2,14326.05,39777101.0,25342700000.0\n",
      "2019-01-10,14388.85,14393.45,14272.25,14323.25,25385563.0,17260500000.0\n",
      "2019-01-11,14288.95,14326.9,14134.25,14307.1,36388890.0,33542900000.0\n",
      "2019-01-14,14474.5,14495.7,14196.0,14223.6,41011605.0,28035900000.0\n",
      "2019-01-15,14265.7,14685.5,14262.4,14658.5,82293752.0,41739399999.99999\n",
      "2019-01-16,14688.85,14732.75,14610.1,14707.8,41887904.0,21522800000.000004\n",
      "2019-01-17,14714.25,14813.9,14660.05,14800.25,38250488.0,25415700000.0\n",
      "2019-01-18,14744.05,14923.75,14709.45,14892.95,34624811.0,21320300000.000004\n",
      "2019-01-21,14920.35,15100.2,14850.0,14966.4,45511115.0,27651800000.0\n",
      "2019-01-22,14927.15,15019.6,14814.95,14962.6,33064975.0,22952100000.0\n",
      "2019-01-23,14975.2,15003.85,14856.85,14888.75,37429423.0,25440400000.0\n",
      "2019-01-24,14897.45,15003.55,14793.25,14971.85,33165996.0,18489100000.0\n",
      "2019-01-25,14952.75,15161.2,14927.25,15039.25,39347664.0,19856600000.0\n",
      "2019-01-28,15085.05,15161.7,15026.75,15120.1,35878523.0,20372700000.0\n",
      "2019-01-29,15126.15,15293.0,14986.7,15231.3,31191349.0,19720200000.0\n",
      "2019-01-30,15304.0,15381.45,15192.4,15255.2,37418911.0,23508500000.0\n",
      "2019-01-31,15299.45,15513.45,15276.05,15499.3,47438828.0,30958400000.0\n",
      "2019-02-01,15522.55,15751.75,15485.7,15724.3,29344350.0,20073900000.0\n",
      "2019-02-04,15727.2,15819.7,15635.9,15754.8,23254965.0,13056700000.0\n",
      "2019-02-05,15709.0,15812.15,15634.95,15738.7,26077745.0,11932700000.0\n",
      "2019-02-06,15857.7,16090.7,15835.7,16055.6,44339473.0,25440200000.0\n",
      "2019-02-07,16045.55,16167.85,16031.15,16085.85,30232353.0,15259100000.0\n",
      "2019-02-08,16001.15,16145.7,15979.8,16019.8,25548817.0,17711900000.0\n",
      "2019-02-11,16050.2,16159.05,16002.5,16099.05,22644494.0,15925200000.0\n",
      "2019-02-12,16093.45,16094.6,15788.1,15938.6,33477588.0,18428400000.0\n",
      "2019-02-13,15958.4,16087.3,15885.3,16041.65,28680952.0,16798000000.0\n",
      "2019-02-14,15992.45,16002.2,15828.85,15861.65,25024087.0,13903200000.0\n",
      "2019-02-15,15898.4,15912.45,15620.45,15815.6,55717193.0,17698700000.0\n",
      "2019-02-18,15895.5,15948.1,15618.05,15659.0,30337931.0,19109800000.0\n",
      "2019-02-19,15644.05,15651.9,15287.5,15333.5,28734431.0,22375800000.0\n",
      "2019-02-20,15382.45,15651.7,15330.8,15609.45,33005377.0,21409899999.999996\n",
      "2019-02-21,15609.15,15691.4,15492.2,15588.9,40924365.0,31615800000.0\n",
      "2019-02-22,15582.8,15717.3,15543.5,15684.7,26504046.0,16388300000.0\n",
      "2019-02-25,15738.95,16029.95,15729.25,16003.7,25015005.0,18277200000.0\n",
      "2019-02-26,15933.8,16069.4,15874.95,15989.6,33173348.0,28468900000.0\n",
      "2019-02-27,15983.8,16007.65,15803.7,15902.1,39729486.0,25021400000.0\n",
      "2019-02-28,15974.1,15974.1,15694.85,15732.0,48900361.0,37463600000.0\n",
      "2019-03-01,15778.15,15871.1,15752.2,15848.3,31816077.0,21354699999.999996\n",
      "2019-03-05,15839.2,15839.2,15634.55,15664.1,55372214.0,21881700000.0\n",
      "2019-03-06,15732.35,15814.7,15681.1,15735.05,66054615.0,23965000000.0\n",
      "2019-03-07,15788.15,15788.15,15558.95,15582.1,35405290.0,22267700000.0\n",
      "2019-03-08,15544.35,15545.65,15388.2,15408.7,47183037.0,21729800000.0\n",
      "2019-03-11,15432.9,15500.75,15349.6,15388.5,66030778.0,23849600000.0\n",
      "2019-03-12,15408.85,15497.2,15349.8,15384.55,50310706.0,23721000000.0\n",
      "2019-03-13,15442.25,15550.85,15300.25,15342.9,49018707.0,25602700000.0\n",
      "2019-03-14,15422.6,15437.05,15202.05,15260.45,39544967.0,18516500000.0\n",
      "2019-03-15,15346.0,15649.25,15324.85,15546.6,55791714.0,36317500000.0\n",
      "2019-03-18,15614.8,15661.3,15304.75,15359.45,30222245.0,20463900000.0\n",
      "2019-03-19,15432.5,15545.45,15296.0,15495.55,33434307.0,22681800000.0\n",
      "2019-03-20,15563.95,15735.25,15554.45,15599.25,43418330.0,29570500000.0\n",
      "2019-03-22,15652.3,15652.3,15462.2,15551.1,32634674.0,21677600000.000004\n",
      "2019-03-25,15579.05,15579.05,15388.4,15416.85,28304864.0,16617200000.0\n",
      "2019-03-26,15415.5,15426.25,15218.25,15356.6,28385813.0,19935700000.0\n",
      "2019-03-27,15352.6,15421.85,15307.1,15339.4,27539227.0,18428300000.0\n",
      "2019-03-28,15410.35,15636.5,15399.45,15566.75,38025265.0,27088300000.0\n",
      "2019-03-29,15681.6,15729.5,15578.2,15628.2,28698651.0,20184100000.0\n",
      "2019-04-01,15668.8,15922.05,15662.55,15840.65,27734179.0,18203100000.0\n",
      "2019-04-02,15902.9,16013.25,15874.65,15988.4,25358268.0,21119200000.0\n",
      "2019-04-03,15996.5,16009.85,15862.5,15962.95,25163308.0,19511900000.0\n",
      "2019-04-04,15947.8,15954.15,15691.0,15744.8,31363340.0,24176700000.0\n",
      "2019-04-05,15800.45,15952.5,15759.8,15923.05,23506932.0,17888200000.0\n",
      "2019-04-08,15982.85,16061.3,15857.15,16028.25,22086073.0,16572300000.0\n",
      "2019-04-09,16048.25,16203.25,15999.65,16121.6,34843987.0,22440200000.0\n",
      "2019-04-10,16138.85,16172.8,15978.2,15999.15,56982204.0,25768700000.0\n",
      "2019-04-11,16018.0,16030.85,15852.3,15874.75,37532853.0,21011200000.0\n",
      "2019-04-12,15918.1,15989.7,15832.0,15911.1,52345311.0,19940300000.0\n",
      "2019-04-15,15917.7,16136.6,15862.0,16113.7,88386836.0,52716000000.0\n",
      "2019-04-16,16166.15,16176.6,16064.35,16084.9,70237133.0,33061700000.0\n",
      "2019-04-18,16177.85,16177.85,16021.0,16079.3,72219746.0,36951100000.0\n",
      "2019-04-22,16077.55,16204.3,16057.9,16150.6,30038085.0,16400800000.0\n",
      "2019-04-23,16179.45,16193.6,16082.45,16166.3,33651817.0,14365800000.0\n",
      "2019-04-24,16182.9,16405.8,16161.35,16370.35,40592814.0,23396700000.0\n",
      "2019-04-25,16361.0,16388.55,16299.2,16352.75,43108679.0,27768000000.0\n",
      "2019-04-26,16393.8,16523.75,16381.45,16504.45,26445478.0,18068400000.0\n",
      "2019-04-30,16510.95,16720.4,16502.45,16705.4,37839366.0,26851300000.0\n",
      "2019-05-02,16656.9,16673.6,16387.3,16403.7,27472186.0,18510100000.0\n",
      "2019-05-03,16259.5,16265.3,16065.45,16092.9,32287604.0,22244500000.0\n",
      "2019-05-06,15949.3,16146.4,15925.4,16111.35,33864211.0,20332400000.0\n",
      "2019-05-07,16145.65,16225.85,16100.65,16135.75,26138540.0,16914000000.0\n",
      "2019-05-08,16106.05,16129.4,15998.6,16061.6,25144861.0,18068100000.0\n",
      "2019-05-09,16031.6,16164.9,16002.45,16132.85,28758628.0,20813300000.0\n",
      "2019-05-10,16117.6,16146.35,15911.95,15949.6,30520016.0,22613000000.0\n",
      "2019-05-13,15949.0,16095.7,15915.15,15955.3,25189674.0,16344500000.0\n",
      "2019-05-14,15942.95,15966.65,15642.95,15762.75,32260097.0,20850500000.0\n",
      "2019-05-15,15793.35,15896.3,15743.7,15776.8,26513999.0,15634100000.0\n",
      "2019-05-16,15816.65,15994.25,15779.75,15933.95,20983387.0,14040200000.0\n",
      "2019-05-17,15962.4,16000.35,15803.2,15843.35,21610726.0,15147200000.0\n",
      "2019-05-20,15933.3,16009.65,15642.7,15968.2,33973487.0,20550300000.000004\n",
      "2019-05-21,15982.3,15989.05,15737.15,15766.95,21394317.0,14943200000.0\n",
      "2019-05-22,15750.05,15812.25,15640.6,15666.15,29498528.0,19476000000.0\n",
      "2019-05-23,15772.05,15819.05,15506.2,15538.85,26404679.0,18135700000.0\n",
      "2019-05-24,15622.25,15626.35,15461.85,15569.85,27924145.0,19828000000.0\n",
      "2019-05-27,15587.4,15629.6,15526.4,15556.65,32487615.0,19720300000.0\n",
      "2019-05-28,15614.1,15806.2,15554.9,15762.05,104740630.0,54910100000.0\n",
      "2019-05-29,15773.3,15973.0,15754.35,15865.6,30451270.0,22937199999.999996\n",
      "2019-05-30,15908.95,16034.75,15879.2,15997.35,51495682.0,32509800000.0\n",
      "2019-05-31,16070.6,16197.35,16042.6,16160.65,53201572.0,26508200000.0\n",
      "2019-06-03,16159.5,16391.0,16082.8,16360.55,28151209.0,20852900000.0\n",
      "2019-06-04,16276.8,16285.85,16072.9,16105.2,35764516.0,22945600000.0\n",
      "2019-06-06,16155.8,16159.75,15991.4,16012.1,31264718.0,22768000000.0\n",
      "2019-06-07,16042.3,16155.05,15972.75,16109.85,29098049.0,14744800000.0\n",
      "2019-06-10,16176.85,16381.65,16152.2,16362.4,24741844.0,15403800000.000002\n",
      "2019-06-11,16406.25,16488.65,16380.5,16448.1,30617086.0,20015900000.0\n",
      "2019-06-12,16441.75,16446.95,16283.65,16425.95,29518108.0,19742200000.0\n",
      "2019-06-13,16340.05,16421.8,16282.65,16316.6,24126342.0,17621900000.0\n",
      "2019-06-14,16326.7,16336.1,16239.2,16268.2,26301593.0,15969800000.0\n",
      "2019-06-17,16285.0,16313.55,16190.9,16228.2,21959319.0,11098100000.0\n",
      "2019-06-18,16215.7,16352.4,16212.3,16322.5,31939866.0,14848200000.0\n",
      "2019-06-19,16358.75,16391.5,16215.95,16282.7,29330912.0,14989900000.0\n",
      "2019-06-20,16039.0,16338.75,15994.95,16316.9,33530558.0,18390800000.0\n",
      "2019-06-21,16343.35,16358.95,16154.85,16189.4,44927711.0,30912100000.0\n",
      "2019-06-24,16202.4,16231.6,16142.4,16187.4,16349337.0,11101900000.0\n",
      "2019-06-25,16158.8,16252.95,16050.6,16214.45,19774495.0,11052700000.0\n",
      "2019-06-26,16152.7,16255.2,16079.2,16101.7,,\n",
      "2019-06-27,16096.2,16129.4,15946.65,15991.8,41146293.0,25726200000.0\n",
      "2019-06-28,16069.9,16085.4,15904.8,15936.45,37902286.0,17383100000.0\n",
      "2019-07-01,15982.7,16023.55,15893.55,15916.7,16679967.0,13261099999.999998\n",
      "2019-07-02,15952.9,16096.95,15886.45,16074.1,16987207.0,13253400000.0\n",
      "2019-07-03,16091.1,16097.15,15906.4,15927.65,16757982.0,12281600000.0\n",
      "2019-07-04,15901.45,15992.6,15896.9,15942.4,12823195.0,9751400000.0\n",
      "2019-07-05,15960.85,15979.45,15520.0,15550.05,20473922.0,18159600000.0\n",
      "2019-07-08,15410.85,15480.15,15317.4,15376.0,26980287.0,21712300000.0\n",
      "2019-07-09,15381.35,15434.0,15123.6,15254.5,23588410.0,22353800000.0\n",
      "2019-07-10,15077.0,15322.75,15045.1,15168.6,23946977.0,24799600000.0\n",
      "2019-07-11,15256.55,15258.35,15060.9,15214.25,20376482.0,16119600000.0\n",
      "2019-07-12,15227.6,15293.35,15186.1,15227.4,24358006.0,16673599999.999998\n",
      "2019-07-15,15516.25,15697.45,15406.25,15662.05,44809100.0,35904000000.0\n",
      "2019-07-16,15608.75,15630.6,15532.3,15580.45,25114991.0,19710900000.0\n",
      "2019-07-17,15602.7,15708.8,15508.95,15675.95,31073297.0,23172000000.0\n",
      "2019-07-18,15554.9,15636.85,15455.05,15498.45,51334929.0,31969200000.0\n",
      "2019-07-19,15520.7,15611.6,15363.05,15383.65,24071564.0,18412800000.0\n",
      "2019-07-22,15387.45,15494.05,15334.6,15448.25,21199392.0,15874600000.0\n",
      "2019-07-23,15497.55,15645.7,15467.7,15493.4,26632051.0,22974800000.0\n",
      "2019-07-24,15465.8,15531.85,15332.85,15380.75,20116466.0,16918000000.0\n",
      "2019-07-25,15383.15,15510.6,15343.05,15474.65,28335619.0,22442100000.0\n",
      "2019-07-26,15442.5,15461.65,15265.35,15348.05,17995198.0,13429600000.0\n",
      "2019-07-29,15365.1,15528.1,15297.0,15400.85,17712106.0,13853900000.000002\n",
      "2019-07-30,15409.45,15527.5,15361.45,15501.65,24391431.0,20078900000.0\n",
      "2019-07-31,15437.6,15649.15,15303.7,15620.2,30797834.0,23755000000.0\n",
      "2019-08-01,15576.95,15593.55,15277.75,15332.1,39775850.0,24126000000.0\n",
      "2019-08-02,15277.65,15461.05,15208.8,15422.1,25330329.0,19909500000.0\n",
      "2019-08-05,15349.7,15544.9,15312.55,15518.55,26873535.0,20408600000.0\n",
      "2019-08-06,15479.2,15636.5,15434.25,15514.8,29684463.0,22450100000.000004\n",
      "2019-08-07,15591.15,15730.7,15522.85,15583.35,21314090.0,17002400000.0\n",
      "2019-08-08,15677.45,15919.2,15654.45,15867.95,26614771.0,22078000000.0\n",
      "2019-08-09,15898.0,15945.4,15785.75,15821.35,32476723.0,16072200000.0\n",
      "2019-08-13,15809.25,15822.4,15379.6,15424.4,18332921.0,14984800000.0\n",
      "2019-08-14,15467.35,15518.45,15298.5,15466.25,20443965.0,14935600000.0\n",
      "2019-08-16,15547.4,15552.7,15238.55,15365.35,21253923.0,18610300000.0\n",
      "2019-08-19,15420.05,15514.9,15396.0,15415.15,13489446.0,9867200000.0\n",
      "2019-08-20,15503.8,15691.65,15467.35,15597.75,27155209.0,19578800000.0\n",
      "2019-08-21,15598.5,15680.05,15562.0,15578.15,17085453.0,12558900000.000002\n",
      "2019-08-22,15581.5,15703.15,15478.8,15632.0,18016274.0,14767100000.0\n",
      "2019-08-23,15647.65,15872.85,15639.4,15816.6,27917993.0,21928400000.0\n",
      "2019-08-26,15825.25,15922.55,15628.1,15890.2,16822219.0,14363800000.000002\n",
      "2019-08-27,15817.3,15833.55,15631.5,15675.3,34222065.0,29694200000.0\n",
      "2019-08-28,15704.1,15898.0,15703.1,15879.9,20178247.0,17189600000.0\n",
      "2019-08-29,15774.65,15943.3,15754.9,15884.55,20870908.0,16918200000.0\n",
      "2019-08-30,15893.9,16039.25,15734.2,16010.4,25878941.0,21820700000.0\n",
      "2019-09-03,16027.1,16189.45,15935.9,15984.85,20910676.0,18377200000.0\n",
      "2019-09-04,15985.75,16090.85,15944.4,16032.5,19497738.0,15058200000.0\n",
      "2019-09-05,16109.2,16142.65,15972.2,16030.95,19716238.0,16375300000.0\n",
      "2019-09-06,16139.9,16218.8,15991.05,16034.55,33895824.0,22549699999.999996\n",
      "2019-09-09,16023.95,16030.45,15883.6,15919.4,19870754.0,13124400000.0\n",
      "2019-09-11,15901.15,15955.2,15669.3,15701.8,29755328.0,20512700000.0\n",
      "2019-09-12,15674.3,15725.75,15525.15,15583.25,20094724.0,14930100000.0\n",
      "2019-09-13,15608.1,15739.7,15586.7,15722.9,16676082.0,13056300000.000002\n",
      "2019-09-16,15774.45,15854.15,15602.6,15743.15,18942349.0,15930000000.0\n",
      "2019-09-17,15769.85,15769.85,15563.6,15625.65,19404909.0,16814600000.0\n",
      "2019-09-18,15649.05,15731.05,15584.1,15702.3,13894347.0,11521199999.999998\n",
      "2019-09-19,15667.0,15675.15,15469.1,15522.45,16325657.0,13882600000.0\n",
      "2019-09-20,15541.55,15742.55,15434.15,15491.05,47154254.0,42126500000.0\n",
      "2019-09-23,15611.8,15611.8,14735.55,15040.65,38192804.0,33540800000.0\n",
      "2019-09-24,15055.05,15380.35,15055.05,15338.65,35122169.0,30306900000.0\n",
      "2019-09-25,15351.85,15471.0,15268.9,15379.9,26252716.0,23657000000.0\n",
      "2019-09-26,15374.5,15456.85,15208.4,15312.9,36572789.0,31666600000.0\n",
      "2019-09-27,15297.7,15412.9,15214.2,15236.4,19972976.0,16435800000.0\n",
      "2019-09-30,15277.15,15568.45,15259.8,15540.15,24639706.0,21474400000.0\n",
      "2019-10-01,15559.65,15561.5,15240.95,15300.25,20838455.0,18389100000.0\n",
      "2019-10-03,15318.8,15417.25,15228.9,15277.95,19672683.0,15883800000.000002\n",
      "2019-10-04,15328.4,15418.8,15285.15,15340.3,22045346.0,18206900000.0\n",
      "2019-10-07,15368.15,15472.35,15226.7,15246.75,16359132.0,13791300000.000002\n",
      "2019-10-09,15305.1,15317.15,15051.35,15128.75,21599827.0,17461700000.0\n",
      "2019-10-10,15124.85,15235.6,15034.6,15093.8,24092311.0,20587199999.999996\n",
      "2019-10-11,14871.45,15388.95,14865.1,15321.9,46781069.0,50230300000.0\n",
      "2019-10-14,15202.2,15338.6,15147.7,15277.75,28977053.0,24975100000.000004\n",
      "2019-10-15,15254.4,15281.45,15191.05,15208.4,34587081.0,24406600000.0\n",
      "2019-10-16,15223.5,15373.35,15213.2,15344.9,40139861.0,25996900000.0\n",
      "2019-10-17,15257.95,15313.9,15160.2,15281.9,29872973.0,24305300000.000004\n",
      "2019-10-18,15271.95,15434.55,15241.0,15410.1,25035472.0,21430700000.0\n",
      "2019-10-22,15033.3,15085.45,14659.45,14688.65,112307829.0,80660100000.0\n",
      "2019-10-23,14640.85,14911.2,14566.55,14833.35,77030948.0,54165400000.0\n",
      "2019-10-24,14956.65,14970.35,14756.55,14781.5,51576928.0,39634300000.0\n",
      "2019-10-25,14883.4,14943.75,14720.85,14898.85,,\n",
      "2019-10-27,15012.45,15058.45,14916.05,14956.4,4721747.0,3423200000.0\n",
      "2019-10-29,14980.15,15199.9,14970.5,15181.4,35883005.0,30843700000.0\n",
      "2019-10-30,15343.7,15419.65,15212.75,15395.65,41161977.0,34754200000.0\n",
      "2019-10-31,15436.3,15657.75,15417.0,15559.4,48285119.0,41094600000.0\n",
      "2019-11-01,15575.35,15636.3,15411.8,15471.2,29764342.0,25926400000.0\n",
      "2019-11-04,15474.0,15803.35,15428.5,15591.3,46736702.0,36747700000.0\n",
      "2019-11-05,15613.1,15613.1,15422.8,15533.45,25846772.0,21983000000.0\n",
      "2019-11-06,15554.05,15647.05,15440.4,15561.3,40153010.0,32797399999.999996\n",
      "2019-11-07,15635.5,15639.7,15532.15,15624.4,24251273.0,19627000000.0\n",
      "2019-11-08,15646.4,15658.15,15355.7,15383.3,21722268.0,19516900000.0\n",
      "2019-11-11,15343.25,15354.05,15228.8,15308.55,16836070.0,15619800000.0\n",
      "2019-11-13,15307.9,15374.05,15192.3,15240.95,28471486.0,24364699999.999996\n",
      "2019-11-14,15292.9,15410.3,15217.3,15388.75,25379073.0,21084800000.0\n",
      "2019-11-15,15425.05,15471.15,15287.1,15310.6,18374737.0,16781400000.000002\n",
      "2019-11-18,15326.8,15373.85,15251.0,15295.25,22066550.0,16315200000.0\n",
      "2019-11-19,15318.65,15371.8,15256.85,15304.85,25599935.0,21077199999.999996\n",
      "2019-11-20,15349.05,15349.05,15235.0,15318.5,19887942.0,17590000000.0\n",
      "2019-11-21,15353.7,15435.4,15279.4,15293.95,21612732.0,17855000000.0\n",
      "2019-11-22,15216.55,15220.05,14931.35,14995.9,29495740.0,24016000000.0\n",
      "2019-11-25,15002.2,15112.9,14950.95,15100.6,17414541.0,15295600000.0\n",
      "2019-11-26,15174.65,15212.65,14867.45,14922.15,54958881.0,44793600000.0\n",
      "2019-11-27,14957.5,15049.0,14946.55,15022.15,15023394.0,14014600000.0\n",
      "2019-11-28,15069.15,15136.2,15042.65,15121.75,14650309.0,13950400000.0\n",
      "2019-11-29,15132.95,15147.25,14964.25,14998.05,13785332.0,11590200000.0\n",
      "2019-12-02,15056.85,15070.65,14819.4,14852.0,26527817.0,22332800000.000004\n",
      "2019-12-03,14870.9,14956.45,14808.4,14920.75,23102025.0,21035300000.000004\n",
      "2019-12-04,14918.5,15188.55,14896.6,15175.15,27219694.0,22956800000.0\n",
      "2019-12-05,15164.15,15385.45,15101.8,15367.5,28794873.0,24500800000.0\n",
      "2019-12-06,15383.45,15390.05,15269.25,15289.6,16934648.0,13637900000.0\n",
      "2019-12-09,15309.7,15322.55,15136.25,15157.15,18193828.0,15272300000.0\n",
      "2019-12-10,15120.05,15123.35,14903.25,14946.5,20105891.0,18599500000.0\n",
      "2019-12-11,14972.0,15147.35,14963.65,15130.3,22965246.0,21297500000.0\n",
      "2019-12-12,15151.1,15184.15,14890.6,14972.65,27121407.0,27502300000.0\n",
      "2019-12-13,14987.9,15221.45,14965.15,15200.55,30121794.0,26855000000.0\n",
      "2019-12-16,15263.75,15446.25,15223.1,15348.7,28614674.0,26667900000.0\n",
      "2019-12-17,15417.55,15670.35,15387.2,15637.15,35675500.0,35897400000.0\n",
      "2019-12-18,15680.5,15835.8,15649.15,15710.65,46723697.0,45259300000.0\n",
      "2019-12-19,15741.2,15835.5,15654.7,15812.95,25099747.0,26298300000.0\n",
      "2019-12-20,15811.95,15890.95,15781.25,15844.55,29982814.0,27396100000.0\n",
      "2019-12-23,15811.4,15936.0,15809.05,15865.5,15891898.0,14147000000.0\n",
      "2019-12-24,15877.4,15880.15,15739.45,15778.2,16014503.0,15701900000.0\n",
      "2019-12-26,15784.45,15806.85,15690.95,15706.45,17848305.0,14722400000.0\n",
      "2019-12-27,15740.4,15824.15,15657.5,15780.7,16652327.0,14588900000.000002\n",
      "2019-12-30,15801.5,15868.95,15715.1,15775.0,16249651.0,14009900000.0\n",
      "2019-12-31,15754.05,15775.25,15634.5,15652.4,19595240.0,15633900000.000002\n",
      "\n"
     ]
    }
   ],
   "source": [
    "with open(\"nifty_it_index.csv\") as todo:\n",
    "    print(todo.read())"
   ]
  },
  {
   "cell_type": "code",
   "execution_count": 236,
   "id": "87a16c5f",
   "metadata": {},
   "outputs": [],
   "source": [
    "todo = open(\"nifty_it_index.csv\")"
   ]
  },
  {
   "cell_type": "code",
   "execution_count": 237,
   "id": "0ff66dd7",
   "metadata": {},
   "outputs": [
    {
     "data": {
      "text/plain": [
       "'Date,'"
      ]
     },
     "execution_count": 237,
     "metadata": {},
     "output_type": "execute_result"
    }
   ],
   "source": [
    "todo.read(5)"
   ]
  },
  {
   "cell_type": "code",
   "execution_count": 238,
   "id": "a93a4d0f",
   "metadata": {},
   "outputs": [],
   "source": [
    "data = todo.read()"
   ]
  },
  {
   "cell_type": "code",
   "execution_count": 239,
   "id": "5710516b",
   "metadata": {},
   "outputs": [
    {
     "data": {
      "text/plain": [
       "'Open,High,Low,Close,Volume,Turnover\\n2019-01-01,14426.45,14480.55,14357.05,14450.9,14008384.0,7192000000.0\\n2019-01-02,14467.4,14593.85,14371.0,14447.1,27024498.0,16231500000.0\\n2019-01-03,14479.75,14542.3,14276.5,14322.15,25156380.0,16665200000.0\\n2019-01-04,14332.65,14359.2,13958.85,14146.15,32610951.0,23330400000.0\\n2019-01-07,14238.05,14316.0,14204.65,14291.5,23053554.0,14895900000.0\\n2019-01-08,14344.6,14357.75,14238.2,14285.7,30284463.0,17870200000.0\\n2019-01-09,14417.2,14495.7,14162.2,14326.05,39777101.0,25342700000.0\\n2019-01-10,14388.85,14393.45,14272.25,14323.25,25385563.0,17260500000.0\\n2019-01-11,14288.95,14326.9,14134.25,14307.1,36388890.0,33542900000.0\\n2019-01-14,14474.5,14495.7,14196.0,14223.6,41011605.0,28035900000.0\\n2019-01-15,14265.7,14685.5,14262.4,14658.5,82293752.0,41739399999.99999\\n2019-01-16,14688.85,14732.75,14610.1,14707.8,41887904.0,21522800000.000004\\n2019-01-17,14714.25,14813.9,14660.05,14800.25,38250488.0,25415700000.0\\n2019-01-18,14744.05,14923.75,14709.45,14892.95,34624811.0,21320300000.000004\\n2019-01-21,14920.35,15100.2,14850.0,14966.4,45511115.0,27651800000.0\\n2019-01-22,14927.15,15019.6,14814.95,14962.6,33064975.0,22952100000.0\\n2019-01-23,14975.2,15003.85,14856.85,14888.75,37429423.0,25440400000.0\\n2019-01-24,14897.45,15003.55,14793.25,14971.85,33165996.0,18489100000.0\\n2019-01-25,14952.75,15161.2,14927.25,15039.25,39347664.0,19856600000.0\\n2019-01-28,15085.05,15161.7,15026.75,15120.1,35878523.0,20372700000.0\\n2019-01-29,15126.15,15293.0,14986.7,15231.3,31191349.0,19720200000.0\\n2019-01-30,15304.0,15381.45,15192.4,15255.2,37418911.0,23508500000.0\\n2019-01-31,15299.45,15513.45,15276.05,15499.3,47438828.0,30958400000.0\\n2019-02-01,15522.55,15751.75,15485.7,15724.3,29344350.0,20073900000.0\\n2019-02-04,15727.2,15819.7,15635.9,15754.8,23254965.0,13056700000.0\\n2019-02-05,15709.0,15812.15,15634.95,15738.7,26077745.0,11932700000.0\\n2019-02-06,15857.7,16090.7,15835.7,16055.6,44339473.0,25440200000.0\\n2019-02-07,16045.55,16167.85,16031.15,16085.85,30232353.0,15259100000.0\\n2019-02-08,16001.15,16145.7,15979.8,16019.8,25548817.0,17711900000.0\\n2019-02-11,16050.2,16159.05,16002.5,16099.05,22644494.0,15925200000.0\\n2019-02-12,16093.45,16094.6,15788.1,15938.6,33477588.0,18428400000.0\\n2019-02-13,15958.4,16087.3,15885.3,16041.65,28680952.0,16798000000.0\\n2019-02-14,15992.45,16002.2,15828.85,15861.65,25024087.0,13903200000.0\\n2019-02-15,15898.4,15912.45,15620.45,15815.6,55717193.0,17698700000.0\\n2019-02-18,15895.5,15948.1,15618.05,15659.0,30337931.0,19109800000.0\\n2019-02-19,15644.05,15651.9,15287.5,15333.5,28734431.0,22375800000.0\\n2019-02-20,15382.45,15651.7,15330.8,15609.45,33005377.0,21409899999.999996\\n2019-02-21,15609.15,15691.4,15492.2,15588.9,40924365.0,31615800000.0\\n2019-02-22,15582.8,15717.3,15543.5,15684.7,26504046.0,16388300000.0\\n2019-02-25,15738.95,16029.95,15729.25,16003.7,25015005.0,18277200000.0\\n2019-02-26,15933.8,16069.4,15874.95,15989.6,33173348.0,28468900000.0\\n2019-02-27,15983.8,16007.65,15803.7,15902.1,39729486.0,25021400000.0\\n2019-02-28,15974.1,15974.1,15694.85,15732.0,48900361.0,37463600000.0\\n2019-03-01,15778.15,15871.1,15752.2,15848.3,31816077.0,21354699999.999996\\n2019-03-05,15839.2,15839.2,15634.55,15664.1,55372214.0,21881700000.0\\n2019-03-06,15732.35,15814.7,15681.1,15735.05,66054615.0,23965000000.0\\n2019-03-07,15788.15,15788.15,15558.95,15582.1,35405290.0,22267700000.0\\n2019-03-08,15544.35,15545.65,15388.2,15408.7,47183037.0,21729800000.0\\n2019-03-11,15432.9,15500.75,15349.6,15388.5,66030778.0,23849600000.0\\n2019-03-12,15408.85,15497.2,15349.8,15384.55,50310706.0,23721000000.0\\n2019-03-13,15442.25,15550.85,15300.25,15342.9,49018707.0,25602700000.0\\n2019-03-14,15422.6,15437.05,15202.05,15260.45,39544967.0,18516500000.0\\n2019-03-15,15346.0,15649.25,15324.85,15546.6,55791714.0,36317500000.0\\n2019-03-18,15614.8,15661.3,15304.75,15359.45,30222245.0,20463900000.0\\n2019-03-19,15432.5,15545.45,15296.0,15495.55,33434307.0,22681800000.0\\n2019-03-20,15563.95,15735.25,15554.45,15599.25,43418330.0,29570500000.0\\n2019-03-22,15652.3,15652.3,15462.2,15551.1,32634674.0,21677600000.000004\\n2019-03-25,15579.05,15579.05,15388.4,15416.85,28304864.0,16617200000.0\\n2019-03-26,15415.5,15426.25,15218.25,15356.6,28385813.0,19935700000.0\\n2019-03-27,15352.6,15421.85,15307.1,15339.4,27539227.0,18428300000.0\\n2019-03-28,15410.35,15636.5,15399.45,15566.75,38025265.0,27088300000.0\\n2019-03-29,15681.6,15729.5,15578.2,15628.2,28698651.0,20184100000.0\\n2019-04-01,15668.8,15922.05,15662.55,15840.65,27734179.0,18203100000.0\\n2019-04-02,15902.9,16013.25,15874.65,15988.4,25358268.0,21119200000.0\\n2019-04-03,15996.5,16009.85,15862.5,15962.95,25163308.0,19511900000.0\\n2019-04-04,15947.8,15954.15,15691.0,15744.8,31363340.0,24176700000.0\\n2019-04-05,15800.45,15952.5,15759.8,15923.05,23506932.0,17888200000.0\\n2019-04-08,15982.85,16061.3,15857.15,16028.25,22086073.0,16572300000.0\\n2019-04-09,16048.25,16203.25,15999.65,16121.6,34843987.0,22440200000.0\\n2019-04-10,16138.85,16172.8,15978.2,15999.15,56982204.0,25768700000.0\\n2019-04-11,16018.0,16030.85,15852.3,15874.75,37532853.0,21011200000.0\\n2019-04-12,15918.1,15989.7,15832.0,15911.1,52345311.0,19940300000.0\\n2019-04-15,15917.7,16136.6,15862.0,16113.7,88386836.0,52716000000.0\\n2019-04-16,16166.15,16176.6,16064.35,16084.9,70237133.0,33061700000.0\\n2019-04-18,16177.85,16177.85,16021.0,16079.3,72219746.0,36951100000.0\\n2019-04-22,16077.55,16204.3,16057.9,16150.6,30038085.0,16400800000.0\\n2019-04-23,16179.45,16193.6,16082.45,16166.3,33651817.0,14365800000.0\\n2019-04-24,16182.9,16405.8,16161.35,16370.35,40592814.0,23396700000.0\\n2019-04-25,16361.0,16388.55,16299.2,16352.75,43108679.0,27768000000.0\\n2019-04-26,16393.8,16523.75,16381.45,16504.45,26445478.0,18068400000.0\\n2019-04-30,16510.95,16720.4,16502.45,16705.4,37839366.0,26851300000.0\\n2019-05-02,16656.9,16673.6,16387.3,16403.7,27472186.0,18510100000.0\\n2019-05-03,16259.5,16265.3,16065.45,16092.9,32287604.0,22244500000.0\\n2019-05-06,15949.3,16146.4,15925.4,16111.35,33864211.0,20332400000.0\\n2019-05-07,16145.65,16225.85,16100.65,16135.75,26138540.0,16914000000.0\\n2019-05-08,16106.05,16129.4,15998.6,16061.6,25144861.0,18068100000.0\\n2019-05-09,16031.6,16164.9,16002.45,16132.85,28758628.0,20813300000.0\\n2019-05-10,16117.6,16146.35,15911.95,15949.6,30520016.0,22613000000.0\\n2019-05-13,15949.0,16095.7,15915.15,15955.3,25189674.0,16344500000.0\\n2019-05-14,15942.95,15966.65,15642.95,15762.75,32260097.0,20850500000.0\\n2019-05-15,15793.35,15896.3,15743.7,15776.8,26513999.0,15634100000.0\\n2019-05-16,15816.65,15994.25,15779.75,15933.95,20983387.0,14040200000.0\\n2019-05-17,15962.4,16000.35,15803.2,15843.35,21610726.0,15147200000.0\\n2019-05-20,15933.3,16009.65,15642.7,15968.2,33973487.0,20550300000.000004\\n2019-05-21,15982.3,15989.05,15737.15,15766.95,21394317.0,14943200000.0\\n2019-05-22,15750.05,15812.25,15640.6,15666.15,29498528.0,19476000000.0\\n2019-05-23,15772.05,15819.05,15506.2,15538.85,26404679.0,18135700000.0\\n2019-05-24,15622.25,15626.35,15461.85,15569.85,27924145.0,19828000000.0\\n2019-05-27,15587.4,15629.6,15526.4,15556.65,32487615.0,19720300000.0\\n2019-05-28,15614.1,15806.2,15554.9,15762.05,104740630.0,54910100000.0\\n2019-05-29,15773.3,15973.0,15754.35,15865.6,30451270.0,22937199999.999996\\n2019-05-30,15908.95,16034.75,15879.2,15997.35,51495682.0,32509800000.0\\n2019-05-31,16070.6,16197.35,16042.6,16160.65,53201572.0,26508200000.0\\n2019-06-03,16159.5,16391.0,16082.8,16360.55,28151209.0,20852900000.0\\n2019-06-04,16276.8,16285.85,16072.9,16105.2,35764516.0,22945600000.0\\n2019-06-06,16155.8,16159.75,15991.4,16012.1,31264718.0,22768000000.0\\n2019-06-07,16042.3,16155.05,15972.75,16109.85,29098049.0,14744800000.0\\n2019-06-10,16176.85,16381.65,16152.2,16362.4,24741844.0,15403800000.000002\\n2019-06-11,16406.25,16488.65,16380.5,16448.1,30617086.0,20015900000.0\\n2019-06-12,16441.75,16446.95,16283.65,16425.95,29518108.0,19742200000.0\\n2019-06-13,16340.05,16421.8,16282.65,16316.6,24126342.0,17621900000.0\\n2019-06-14,16326.7,16336.1,16239.2,16268.2,26301593.0,15969800000.0\\n2019-06-17,16285.0,16313.55,16190.9,16228.2,21959319.0,11098100000.0\\n2019-06-18,16215.7,16352.4,16212.3,16322.5,31939866.0,14848200000.0\\n2019-06-19,16358.75,16391.5,16215.95,16282.7,29330912.0,14989900000.0\\n2019-06-20,16039.0,16338.75,15994.95,16316.9,33530558.0,18390800000.0\\n2019-06-21,16343.35,16358.95,16154.85,16189.4,44927711.0,30912100000.0\\n2019-06-24,16202.4,16231.6,16142.4,16187.4,16349337.0,11101900000.0\\n2019-06-25,16158.8,16252.95,16050.6,16214.45,19774495.0,11052700000.0\\n2019-06-26,16152.7,16255.2,16079.2,16101.7,,\\n2019-06-27,16096.2,16129.4,15946.65,15991.8,41146293.0,25726200000.0\\n2019-06-28,16069.9,16085.4,15904.8,15936.45,37902286.0,17383100000.0\\n2019-07-01,15982.7,16023.55,15893.55,15916.7,16679967.0,13261099999.999998\\n2019-07-02,15952.9,16096.95,15886.45,16074.1,16987207.0,13253400000.0\\n2019-07-03,16091.1,16097.15,15906.4,15927.65,16757982.0,12281600000.0\\n2019-07-04,15901.45,15992.6,15896.9,15942.4,12823195.0,9751400000.0\\n2019-07-05,15960.85,15979.45,15520.0,15550.05,20473922.0,18159600000.0\\n2019-07-08,15410.85,15480.15,15317.4,15376.0,26980287.0,21712300000.0\\n2019-07-09,15381.35,15434.0,15123.6,15254.5,23588410.0,22353800000.0\\n2019-07-10,15077.0,15322.75,15045.1,15168.6,23946977.0,24799600000.0\\n2019-07-11,15256.55,15258.35,15060.9,15214.25,20376482.0,16119600000.0\\n2019-07-12,15227.6,15293.35,15186.1,15227.4,24358006.0,16673599999.999998\\n2019-07-15,15516.25,15697.45,15406.25,15662.05,44809100.0,35904000000.0\\n2019-07-16,15608.75,15630.6,15532.3,15580.45,25114991.0,19710900000.0\\n2019-07-17,15602.7,15708.8,15508.95,15675.95,31073297.0,23172000000.0\\n2019-07-18,15554.9,15636.85,15455.05,15498.45,51334929.0,31969200000.0\\n2019-07-19,15520.7,15611.6,15363.05,15383.65,24071564.0,18412800000.0\\n2019-07-22,15387.45,15494.05,15334.6,15448.25,21199392.0,15874600000.0\\n2019-07-23,15497.55,15645.7,15467.7,15493.4,26632051.0,22974800000.0\\n2019-07-24,15465.8,15531.85,15332.85,15380.75,20116466.0,16918000000.0\\n2019-07-25,15383.15,15510.6,15343.05,15474.65,28335619.0,22442100000.0\\n2019-07-26,15442.5,15461.65,15265.35,15348.05,17995198.0,13429600000.0\\n2019-07-29,15365.1,15528.1,15297.0,15400.85,17712106.0,13853900000.000002\\n2019-07-30,15409.45,15527.5,15361.45,15501.65,24391431.0,20078900000.0\\n2019-07-31,15437.6,15649.15,15303.7,15620.2,30797834.0,23755000000.0\\n2019-08-01,15576.95,15593.55,15277.75,15332.1,39775850.0,24126000000.0\\n2019-08-02,15277.65,15461.05,15208.8,15422.1,25330329.0,19909500000.0\\n2019-08-05,15349.7,15544.9,15312.55,15518.55,26873535.0,20408600000.0\\n2019-08-06,15479.2,15636.5,15434.25,15514.8,29684463.0,22450100000.000004\\n2019-08-07,15591.15,15730.7,15522.85,15583.35,21314090.0,17002400000.0\\n2019-08-08,15677.45,15919.2,15654.45,15867.95,26614771.0,22078000000.0\\n2019-08-09,15898.0,15945.4,15785.75,15821.35,32476723.0,16072200000.0\\n2019-08-13,15809.25,15822.4,15379.6,15424.4,18332921.0,14984800000.0\\n2019-08-14,15467.35,15518.45,15298.5,15466.25,20443965.0,14935600000.0\\n2019-08-16,15547.4,15552.7,15238.55,15365.35,21253923.0,18610300000.0\\n2019-08-19,15420.05,15514.9,15396.0,15415.15,13489446.0,9867200000.0\\n2019-08-20,15503.8,15691.65,15467.35,15597.75,27155209.0,19578800000.0\\n2019-08-21,15598.5,15680.05,15562.0,15578.15,17085453.0,12558900000.000002\\n2019-08-22,15581.5,15703.15,15478.8,15632.0,18016274.0,14767100000.0\\n2019-08-23,15647.65,15872.85,15639.4,15816.6,27917993.0,21928400000.0\\n2019-08-26,15825.25,15922.55,15628.1,15890.2,16822219.0,14363800000.000002\\n2019-08-27,15817.3,15833.55,15631.5,15675.3,34222065.0,29694200000.0\\n2019-08-28,15704.1,15898.0,15703.1,15879.9,20178247.0,17189600000.0\\n2019-08-29,15774.65,15943.3,15754.9,15884.55,20870908.0,16918200000.0\\n2019-08-30,15893.9,16039.25,15734.2,16010.4,25878941.0,21820700000.0\\n2019-09-03,16027.1,16189.45,15935.9,15984.85,20910676.0,18377200000.0\\n2019-09-04,15985.75,16090.85,15944.4,16032.5,19497738.0,15058200000.0\\n2019-09-05,16109.2,16142.65,15972.2,16030.95,19716238.0,16375300000.0\\n2019-09-06,16139.9,16218.8,15991.05,16034.55,33895824.0,22549699999.999996\\n2019-09-09,16023.95,16030.45,15883.6,15919.4,19870754.0,13124400000.0\\n2019-09-11,15901.15,15955.2,15669.3,15701.8,29755328.0,20512700000.0\\n2019-09-12,15674.3,15725.75,15525.15,15583.25,20094724.0,14930100000.0\\n2019-09-13,15608.1,15739.7,15586.7,15722.9,16676082.0,13056300000.000002\\n2019-09-16,15774.45,15854.15,15602.6,15743.15,18942349.0,15930000000.0\\n2019-09-17,15769.85,15769.85,15563.6,15625.65,19404909.0,16814600000.0\\n2019-09-18,15649.05,15731.05,15584.1,15702.3,13894347.0,11521199999.999998\\n2019-09-19,15667.0,15675.15,15469.1,15522.45,16325657.0,13882600000.0\\n2019-09-20,15541.55,15742.55,15434.15,15491.05,47154254.0,42126500000.0\\n2019-09-23,15611.8,15611.8,14735.55,15040.65,38192804.0,33540800000.0\\n2019-09-24,15055.05,15380.35,15055.05,15338.65,35122169.0,30306900000.0\\n2019-09-25,15351.85,15471.0,15268.9,15379.9,26252716.0,23657000000.0\\n2019-09-26,15374.5,15456.85,15208.4,15312.9,36572789.0,31666600000.0\\n2019-09-27,15297.7,15412.9,15214.2,15236.4,19972976.0,16435800000.0\\n2019-09-30,15277.15,15568.45,15259.8,15540.15,24639706.0,21474400000.0\\n2019-10-01,15559.65,15561.5,15240.95,15300.25,20838455.0,18389100000.0\\n2019-10-03,15318.8,15417.25,15228.9,15277.95,19672683.0,15883800000.000002\\n2019-10-04,15328.4,15418.8,15285.15,15340.3,22045346.0,18206900000.0\\n2019-10-07,15368.15,15472.35,15226.7,15246.75,16359132.0,13791300000.000002\\n2019-10-09,15305.1,15317.15,15051.35,15128.75,21599827.0,17461700000.0\\n2019-10-10,15124.85,15235.6,15034.6,15093.8,24092311.0,20587199999.999996\\n2019-10-11,14871.45,15388.95,14865.1,15321.9,46781069.0,50230300000.0\\n2019-10-14,15202.2,15338.6,15147.7,15277.75,28977053.0,24975100000.000004\\n2019-10-15,15254.4,15281.45,15191.05,15208.4,34587081.0,24406600000.0\\n2019-10-16,15223.5,15373.35,15213.2,15344.9,40139861.0,25996900000.0\\n2019-10-17,15257.95,15313.9,15160.2,15281.9,29872973.0,24305300000.000004\\n2019-10-18,15271.95,15434.55,15241.0,15410.1,25035472.0,21430700000.0\\n2019-10-22,15033.3,15085.45,14659.45,14688.65,112307829.0,80660100000.0\\n2019-10-23,14640.85,14911.2,14566.55,14833.35,77030948.0,54165400000.0\\n2019-10-24,14956.65,14970.35,14756.55,14781.5,51576928.0,39634300000.0\\n2019-10-25,14883.4,14943.75,14720.85,14898.85,,\\n2019-10-27,15012.45,15058.45,14916.05,14956.4,4721747.0,3423200000.0\\n2019-10-29,14980.15,15199.9,14970.5,15181.4,35883005.0,30843700000.0\\n2019-10-30,15343.7,15419.65,15212.75,15395.65,41161977.0,34754200000.0\\n2019-10-31,15436.3,15657.75,15417.0,15559.4,48285119.0,41094600000.0\\n2019-11-01,15575.35,15636.3,15411.8,15471.2,29764342.0,25926400000.0\\n2019-11-04,15474.0,15803.35,15428.5,15591.3,46736702.0,36747700000.0\\n2019-11-05,15613.1,15613.1,15422.8,15533.45,25846772.0,21983000000.0\\n2019-11-06,15554.05,15647.05,15440.4,15561.3,40153010.0,32797399999.999996\\n2019-11-07,15635.5,15639.7,15532.15,15624.4,24251273.0,19627000000.0\\n2019-11-08,15646.4,15658.15,15355.7,15383.3,21722268.0,19516900000.0\\n2019-11-11,15343.25,15354.05,15228.8,15308.55,16836070.0,15619800000.0\\n2019-11-13,15307.9,15374.05,15192.3,15240.95,28471486.0,24364699999.999996\\n2019-11-14,15292.9,15410.3,15217.3,15388.75,25379073.0,21084800000.0\\n2019-11-15,15425.05,15471.15,15287.1,15310.6,18374737.0,16781400000.000002\\n2019-11-18,15326.8,15373.85,15251.0,15295.25,22066550.0,16315200000.0\\n2019-11-19,15318.65,15371.8,15256.85,15304.85,25599935.0,21077199999.999996\\n2019-11-20,15349.05,15349.05,15235.0,15318.5,19887942.0,17590000000.0\\n2019-11-21,15353.7,15435.4,15279.4,15293.95,21612732.0,17855000000.0\\n2019-11-22,15216.55,15220.05,14931.35,14995.9,29495740.0,24016000000.0\\n2019-11-25,15002.2,15112.9,14950.95,15100.6,17414541.0,15295600000.0\\n2019-11-26,15174.65,15212.65,14867.45,14922.15,54958881.0,44793600000.0\\n2019-11-27,14957.5,15049.0,14946.55,15022.15,15023394.0,14014600000.0\\n2019-11-28,15069.15,15136.2,15042.65,15121.75,14650309.0,13950400000.0\\n2019-11-29,15132.95,15147.25,14964.25,14998.05,13785332.0,11590200000.0\\n2019-12-02,15056.85,15070.65,14819.4,14852.0,26527817.0,22332800000.000004\\n2019-12-03,14870.9,14956.45,14808.4,14920.75,23102025.0,21035300000.000004\\n2019-12-04,14918.5,15188.55,14896.6,15175.15,27219694.0,22956800000.0\\n2019-12-05,15164.15,15385.45,15101.8,15367.5,28794873.0,24500800000.0\\n2019-12-06,15383.45,15390.05,15269.25,15289.6,16934648.0,13637900000.0\\n2019-12-09,15309.7,15322.55,15136.25,15157.15,18193828.0,15272300000.0\\n2019-12-10,15120.05,15123.35,14903.25,14946.5,20105891.0,18599500000.0\\n2019-12-11,14972.0,15147.35,14963.65,15130.3,22965246.0,21297500000.0\\n2019-12-12,15151.1,15184.15,14890.6,14972.65,27121407.0,27502300000.0\\n2019-12-13,14987.9,15221.45,14965.15,15200.55,30121794.0,26855000000.0\\n2019-12-16,15263.75,15446.25,15223.1,15348.7,28614674.0,26667900000.0\\n2019-12-17,15417.55,15670.35,15387.2,15637.15,35675500.0,35897400000.0\\n2019-12-18,15680.5,15835.8,15649.15,15710.65,46723697.0,45259300000.0\\n2019-12-19,15741.2,15835.5,15654.7,15812.95,25099747.0,26298300000.0\\n2019-12-20,15811.95,15890.95,15781.25,15844.55,29982814.0,27396100000.0\\n2019-12-23,15811.4,15936.0,15809.05,15865.5,15891898.0,14147000000.0\\n2019-12-24,15877.4,15880.15,15739.45,15778.2,16014503.0,15701900000.0\\n2019-12-26,15784.45,15806.85,15690.95,15706.45,17848305.0,14722400000.0\\n2019-12-27,15740.4,15824.15,15657.5,15780.7,16652327.0,14588900000.000002\\n2019-12-30,15801.5,15868.95,15715.1,15775.0,16249651.0,14009900000.0\\n2019-12-31,15754.05,15775.25,15634.5,15652.4,19595240.0,15633900000.000002\\n'"
      ]
     },
     "execution_count": 239,
     "metadata": {},
     "output_type": "execute_result"
    }
   ],
   "source": [
    "data"
   ]
  },
  {
   "cell_type": "code",
   "execution_count": 241,
   "id": "d8fc2f8d",
   "metadata": {},
   "outputs": [
    {
     "name": "stdout",
     "output_type": "stream",
     "text": [
      "Open,High,Low,Close,Volume,Turnover\n",
      "2019-01-01,14426.45,14480.55,14357.05,14450.9,14008384.0,7192000000.0\n",
      "2019-01-02,14467.4,14593.85,14371.0,14447.1,27024498.0,16231500000.0\n",
      "2019-01-03,14479.75,14542.3,14276.5,14322.15,25156380.0,16665200000.0\n",
      "2019-01-04,14332.65,14359.2,13958.85,14146.15,32610951.0,23330400000.0\n",
      "2019-01-07,14238.05,14316.0,14204.65,14291.5,23053554.0,14895900000.0\n",
      "2019-01-08,14344.6,14357.75,14238.2,14285.7,30284463.0,17870200000.0\n",
      "2019-01-09,14417.2,14495.7,14162.2,14326.05,39777101.0,25342700000.0\n",
      "2019-01-10,14388.85,14393.45,14272.25,14323.25,25385563.0,17260500000.0\n",
      "2019-01-11,14288.95,14326.9,14134.25,14307.1,36388890.0,33542900000.0\n",
      "2019-01-14,14474.5,14495.7,14196.0,14223.6,41011605.0,28035900000.0\n",
      "2019-01-15,14265.7,14685.5,14262.4,14658.5,82293752.0,41739399999.99999\n",
      "2019-01-16,14688.85,14732.75,14610.1,14707.8,41887904.0,21522800000.000004\n",
      "2019-01-17,14714.25,14813.9,14660.05,14800.25,38250488.0,25415700000.0\n",
      "2019-01-18,14744.05,14923.75,14709.45,14892.95,34624811.0,21320300000.000004\n",
      "2019-01-21,14920.35,15100.2,14850.0,14966.4,45511115.0,27651800000.0\n",
      "2019-01-22,14927.15,15019.6,14814.95,14962.6,33064975.0,22952100000.0\n",
      "2019-01-23,14975.2,15003.85,14856.85,14888.75,37429423.0,25440400000.0\n",
      "2019-01-24,14897.45,15003.55,14793.25,14971.85,33165996.0,18489100000.0\n",
      "2019-01-25,14952.75,15161.2,14927.25,15039.25,39347664.0,19856600000.0\n",
      "2019-01-28,15085.05,15161.7,15026.75,15120.1,35878523.0,20372700000.0\n",
      "2019-01-29,15126.15,15293.0,14986.7,15231.3,31191349.0,19720200000.0\n",
      "2019-01-30,15304.0,15381.45,15192.4,15255.2,37418911.0,23508500000.0\n",
      "2019-01-31,15299.45,15513.45,15276.05,15499.3,47438828.0,30958400000.0\n",
      "2019-02-01,15522.55,15751.75,15485.7,15724.3,29344350.0,20073900000.0\n",
      "2019-02-04,15727.2,15819.7,15635.9,15754.8,23254965.0,13056700000.0\n",
      "2019-02-05,15709.0,15812.15,15634.95,15738.7,26077745.0,11932700000.0\n",
      "2019-02-06,15857.7,16090.7,15835.7,16055.6,44339473.0,25440200000.0\n",
      "2019-02-07,16045.55,16167.85,16031.15,16085.85,30232353.0,15259100000.0\n",
      "2019-02-08,16001.15,16145.7,15979.8,16019.8,25548817.0,17711900000.0\n",
      "2019-02-11,16050.2,16159.05,16002.5,16099.05,22644494.0,15925200000.0\n",
      "2019-02-12,16093.45,16094.6,15788.1,15938.6,33477588.0,18428400000.0\n",
      "2019-02-13,15958.4,16087.3,15885.3,16041.65,28680952.0,16798000000.0\n",
      "2019-02-14,15992.45,16002.2,15828.85,15861.65,25024087.0,13903200000.0\n",
      "2019-02-15,15898.4,15912.45,15620.45,15815.6,55717193.0,17698700000.0\n",
      "2019-02-18,15895.5,15948.1,15618.05,15659.0,30337931.0,19109800000.0\n",
      "2019-02-19,15644.05,15651.9,15287.5,15333.5,28734431.0,22375800000.0\n",
      "2019-02-20,15382.45,15651.7,15330.8,15609.45,33005377.0,21409899999.999996\n",
      "2019-02-21,15609.15,15691.4,15492.2,15588.9,40924365.0,31615800000.0\n",
      "2019-02-22,15582.8,15717.3,15543.5,15684.7,26504046.0,16388300000.0\n",
      "2019-02-25,15738.95,16029.95,15729.25,16003.7,25015005.0,18277200000.0\n",
      "2019-02-26,15933.8,16069.4,15874.95,15989.6,33173348.0,28468900000.0\n",
      "2019-02-27,15983.8,16007.65,15803.7,15902.1,39729486.0,25021400000.0\n",
      "2019-02-28,15974.1,15974.1,15694.85,15732.0,48900361.0,37463600000.0\n",
      "2019-03-01,15778.15,15871.1,15752.2,15848.3,31816077.0,21354699999.999996\n",
      "2019-03-05,15839.2,15839.2,15634.55,15664.1,55372214.0,21881700000.0\n",
      "2019-03-06,15732.35,15814.7,15681.1,15735.05,66054615.0,23965000000.0\n",
      "2019-03-07,15788.15,15788.15,15558.95,15582.1,35405290.0,22267700000.0\n",
      "2019-03-08,15544.35,15545.65,15388.2,15408.7,47183037.0,21729800000.0\n",
      "2019-03-11,15432.9,15500.75,15349.6,15388.5,66030778.0,23849600000.0\n",
      "2019-03-12,15408.85,15497.2,15349.8,15384.55,50310706.0,23721000000.0\n",
      "2019-03-13,15442.25,15550.85,15300.25,15342.9,49018707.0,25602700000.0\n",
      "2019-03-14,15422.6,15437.05,15202.05,15260.45,39544967.0,18516500000.0\n",
      "2019-03-15,15346.0,15649.25,15324.85,15546.6,55791714.0,36317500000.0\n",
      "2019-03-18,15614.8,15661.3,15304.75,15359.45,30222245.0,20463900000.0\n",
      "2019-03-19,15432.5,15545.45,15296.0,15495.55,33434307.0,22681800000.0\n",
      "2019-03-20,15563.95,15735.25,15554.45,15599.25,43418330.0,29570500000.0\n",
      "2019-03-22,15652.3,15652.3,15462.2,15551.1,32634674.0,21677600000.000004\n",
      "2019-03-25,15579.05,15579.05,15388.4,15416.85,28304864.0,16617200000.0\n",
      "2019-03-26,15415.5,15426.25,15218.25,15356.6,28385813.0,19935700000.0\n",
      "2019-03-27,15352.6,15421.85,15307.1,15339.4,27539227.0,18428300000.0\n",
      "2019-03-28,15410.35,15636.5,15399.45,15566.75,38025265.0,27088300000.0\n",
      "2019-03-29,15681.6,15729.5,15578.2,15628.2,28698651.0,20184100000.0\n",
      "2019-04-01,15668.8,15922.05,15662.55,15840.65,27734179.0,18203100000.0\n",
      "2019-04-02,15902.9,16013.25,15874.65,15988.4,25358268.0,21119200000.0\n",
      "2019-04-03,15996.5,16009.85,15862.5,15962.95,25163308.0,19511900000.0\n",
      "2019-04-04,15947.8,15954.15,15691.0,15744.8,31363340.0,24176700000.0\n",
      "2019-04-05,15800.45,15952.5,15759.8,15923.05,23506932.0,17888200000.0\n",
      "2019-04-08,15982.85,16061.3,15857.15,16028.25,22086073.0,16572300000.0\n",
      "2019-04-09,16048.25,16203.25,15999.65,16121.6,34843987.0,22440200000.0\n",
      "2019-04-10,16138.85,16172.8,15978.2,15999.15,56982204.0,25768700000.0\n",
      "2019-04-11,16018.0,16030.85,15852.3,15874.75,37532853.0,21011200000.0\n",
      "2019-04-12,15918.1,15989.7,15832.0,15911.1,52345311.0,19940300000.0\n",
      "2019-04-15,15917.7,16136.6,15862.0,16113.7,88386836.0,52716000000.0\n",
      "2019-04-16,16166.15,16176.6,16064.35,16084.9,70237133.0,33061700000.0\n",
      "2019-04-18,16177.85,16177.85,16021.0,16079.3,72219746.0,36951100000.0\n",
      "2019-04-22,16077.55,16204.3,16057.9,16150.6,30038085.0,16400800000.0\n",
      "2019-04-23,16179.45,16193.6,16082.45,16166.3,33651817.0,14365800000.0\n",
      "2019-04-24,16182.9,16405.8,16161.35,16370.35,40592814.0,23396700000.0\n",
      "2019-04-25,16361.0,16388.55,16299.2,16352.75,43108679.0,27768000000.0\n",
      "2019-04-26,16393.8,16523.75,16381.45,16504.45,26445478.0,18068400000.0\n",
      "2019-04-30,16510.95,16720.4,16502.45,16705.4,37839366.0,26851300000.0\n",
      "2019-05-02,16656.9,16673.6,16387.3,16403.7,27472186.0,18510100000.0\n",
      "2019-05-03,16259.5,16265.3,16065.45,16092.9,32287604.0,22244500000.0\n",
      "2019-05-06,15949.3,16146.4,15925.4,16111.35,33864211.0,20332400000.0\n",
      "2019-05-07,16145.65,16225.85,16100.65,16135.75,26138540.0,16914000000.0\n",
      "2019-05-08,16106.05,16129.4,15998.6,16061.6,25144861.0,18068100000.0\n",
      "2019-05-09,16031.6,16164.9,16002.45,16132.85,28758628.0,20813300000.0\n",
      "2019-05-10,16117.6,16146.35,15911.95,15949.6,30520016.0,22613000000.0\n",
      "2019-05-13,15949.0,16095.7,15915.15,15955.3,25189674.0,16344500000.0\n",
      "2019-05-14,15942.95,15966.65,15642.95,15762.75,32260097.0,20850500000.0\n",
      "2019-05-15,15793.35,15896.3,15743.7,15776.8,26513999.0,15634100000.0\n",
      "2019-05-16,15816.65,15994.25,15779.75,15933.95,20983387.0,14040200000.0\n",
      "2019-05-17,15962.4,16000.35,15803.2,15843.35,21610726.0,15147200000.0\n",
      "2019-05-20,15933.3,16009.65,15642.7,15968.2,33973487.0,20550300000.000004\n",
      "2019-05-21,15982.3,15989.05,15737.15,15766.95,21394317.0,14943200000.0\n",
      "2019-05-22,15750.05,15812.25,15640.6,15666.15,29498528.0,19476000000.0\n",
      "2019-05-23,15772.05,15819.05,15506.2,15538.85,26404679.0,18135700000.0\n",
      "2019-05-24,15622.25,15626.35,15461.85,15569.85,27924145.0,19828000000.0\n",
      "2019-05-27,15587.4,15629.6,15526.4,15556.65,32487615.0,19720300000.0\n",
      "2019-05-28,15614.1,15806.2,15554.9,15762.05,104740630.0,54910100000.0\n",
      "2019-05-29,15773.3,15973.0,15754.35,15865.6,30451270.0,22937199999.999996\n",
      "2019-05-30,15908.95,16034.75,15879.2,15997.35,51495682.0,32509800000.0\n",
      "2019-05-31,16070.6,16197.35,16042.6,16160.65,53201572.0,26508200000.0\n",
      "2019-06-03,16159.5,16391.0,16082.8,16360.55,28151209.0,20852900000.0\n",
      "2019-06-04,16276.8,16285.85,16072.9,16105.2,35764516.0,22945600000.0\n",
      "2019-06-06,16155.8,16159.75,15991.4,16012.1,31264718.0,22768000000.0\n",
      "2019-06-07,16042.3,16155.05,15972.75,16109.85,29098049.0,14744800000.0\n",
      "2019-06-10,16176.85,16381.65,16152.2,16362.4,24741844.0,15403800000.000002\n",
      "2019-06-11,16406.25,16488.65,16380.5,16448.1,30617086.0,20015900000.0\n",
      "2019-06-12,16441.75,16446.95,16283.65,16425.95,29518108.0,19742200000.0\n",
      "2019-06-13,16340.05,16421.8,16282.65,16316.6,24126342.0,17621900000.0\n",
      "2019-06-14,16326.7,16336.1,16239.2,16268.2,26301593.0,15969800000.0\n",
      "2019-06-17,16285.0,16313.55,16190.9,16228.2,21959319.0,11098100000.0\n",
      "2019-06-18,16215.7,16352.4,16212.3,16322.5,31939866.0,14848200000.0\n",
      "2019-06-19,16358.75,16391.5,16215.95,16282.7,29330912.0,14989900000.0\n",
      "2019-06-20,16039.0,16338.75,15994.95,16316.9,33530558.0,18390800000.0\n",
      "2019-06-21,16343.35,16358.95,16154.85,16189.4,44927711.0,30912100000.0\n",
      "2019-06-24,16202.4,16231.6,16142.4,16187.4,16349337.0,11101900000.0\n",
      "2019-06-25,16158.8,16252.95,16050.6,16214.45,19774495.0,11052700000.0\n",
      "2019-06-26,16152.7,16255.2,16079.2,16101.7,,\n",
      "2019-06-27,16096.2,16129.4,15946.65,15991.8,41146293.0,25726200000.0\n"
     ]
    },
    {
     "name": "stdout",
     "output_type": "stream",
     "text": [
      "2019-06-28,16069.9,16085.4,15904.8,15936.45,37902286.0,17383100000.0\n",
      "2019-07-01,15982.7,16023.55,15893.55,15916.7,16679967.0,13261099999.999998\n",
      "2019-07-02,15952.9,16096.95,15886.45,16074.1,16987207.0,13253400000.0\n",
      "2019-07-03,16091.1,16097.15,15906.4,15927.65,16757982.0,12281600000.0\n",
      "2019-07-04,15901.45,15992.6,15896.9,15942.4,12823195.0,9751400000.0\n",
      "2019-07-05,15960.85,15979.45,15520.0,15550.05,20473922.0,18159600000.0\n",
      "2019-07-08,15410.85,15480.15,15317.4,15376.0,26980287.0,21712300000.0\n",
      "2019-07-09,15381.35,15434.0,15123.6,15254.5,23588410.0,22353800000.0\n",
      "2019-07-10,15077.0,15322.75,15045.1,15168.6,23946977.0,24799600000.0\n",
      "2019-07-11,15256.55,15258.35,15060.9,15214.25,20376482.0,16119600000.0\n",
      "2019-07-12,15227.6,15293.35,15186.1,15227.4,24358006.0,16673599999.999998\n",
      "2019-07-15,15516.25,15697.45,15406.25,15662.05,44809100.0,35904000000.0\n",
      "2019-07-16,15608.75,15630.6,15532.3,15580.45,25114991.0,19710900000.0\n",
      "2019-07-17,15602.7,15708.8,15508.95,15675.95,31073297.0,23172000000.0\n",
      "2019-07-18,15554.9,15636.85,15455.05,15498.45,51334929.0,31969200000.0\n",
      "2019-07-19,15520.7,15611.6,15363.05,15383.65,24071564.0,18412800000.0\n",
      "2019-07-22,15387.45,15494.05,15334.6,15448.25,21199392.0,15874600000.0\n",
      "2019-07-23,15497.55,15645.7,15467.7,15493.4,26632051.0,22974800000.0\n",
      "2019-07-24,15465.8,15531.85,15332.85,15380.75,20116466.0,16918000000.0\n",
      "2019-07-25,15383.15,15510.6,15343.05,15474.65,28335619.0,22442100000.0\n",
      "2019-07-26,15442.5,15461.65,15265.35,15348.05,17995198.0,13429600000.0\n",
      "2019-07-29,15365.1,15528.1,15297.0,15400.85,17712106.0,13853900000.000002\n",
      "2019-07-30,15409.45,15527.5,15361.45,15501.65,24391431.0,20078900000.0\n",
      "2019-07-31,15437.6,15649.15,15303.7,15620.2,30797834.0,23755000000.0\n",
      "2019-08-01,15576.95,15593.55,15277.75,15332.1,39775850.0,24126000000.0\n",
      "2019-08-02,15277.65,15461.05,15208.8,15422.1,25330329.0,19909500000.0\n",
      "2019-08-05,15349.7,15544.9,15312.55,15518.55,26873535.0,20408600000.0\n",
      "2019-08-06,15479.2,15636.5,15434.25,15514.8,29684463.0,22450100000.000004\n",
      "2019-08-07,15591.15,15730.7,15522.85,15583.35,21314090.0,17002400000.0\n",
      "2019-08-08,15677.45,15919.2,15654.45,15867.95,26614771.0,22078000000.0\n",
      "2019-08-09,15898.0,15945.4,15785.75,15821.35,32476723.0,16072200000.0\n",
      "2019-08-13,15809.25,15822.4,15379.6,15424.4,18332921.0,14984800000.0\n",
      "2019-08-14,15467.35,15518.45,15298.5,15466.25,20443965.0,14935600000.0\n",
      "2019-08-16,15547.4,15552.7,15238.55,15365.35,21253923.0,18610300000.0\n",
      "2019-08-19,15420.05,15514.9,15396.0,15415.15,13489446.0,9867200000.0\n",
      "2019-08-20,15503.8,15691.65,15467.35,15597.75,27155209.0,19578800000.0\n",
      "2019-08-21,15598.5,15680.05,15562.0,15578.15,17085453.0,12558900000.000002\n",
      "2019-08-22,15581.5,15703.15,15478.8,15632.0,18016274.0,14767100000.0\n",
      "2019-08-23,15647.65,15872.85,15639.4,15816.6,27917993.0,21928400000.0\n",
      "2019-08-26,15825.25,15922.55,15628.1,15890.2,16822219.0,14363800000.000002\n",
      "2019-08-27,15817.3,15833.55,15631.5,15675.3,34222065.0,29694200000.0\n",
      "2019-08-28,15704.1,15898.0,15703.1,15879.9,20178247.0,17189600000.0\n",
      "2019-08-29,15774.65,15943.3,15754.9,15884.55,20870908.0,16918200000.0\n",
      "2019-08-30,15893.9,16039.25,15734.2,16010.4,25878941.0,21820700000.0\n",
      "2019-09-03,16027.1,16189.45,15935.9,15984.85,20910676.0,18377200000.0\n",
      "2019-09-04,15985.75,16090.85,15944.4,16032.5,19497738.0,15058200000.0\n",
      "2019-09-05,16109.2,16142.65,15972.2,16030.95,19716238.0,16375300000.0\n",
      "2019-09-06,16139.9,16218.8,15991.05,16034.55,33895824.0,22549699999.999996\n",
      "2019-09-09,16023.95,16030.45,15883.6,15919.4,19870754.0,13124400000.0\n",
      "2019-09-11,15901.15,15955.2,15669.3,15701.8,29755328.0,20512700000.0\n",
      "2019-09-12,15674.3,15725.75,15525.15,15583.25,20094724.0,14930100000.0\n",
      "2019-09-13,15608.1,15739.7,15586.7,15722.9,16676082.0,13056300000.000002\n",
      "2019-09-16,15774.45,15854.15,15602.6,15743.15,18942349.0,15930000000.0\n",
      "2019-09-17,15769.85,15769.85,15563.6,15625.65,19404909.0,16814600000.0\n",
      "2019-09-18,15649.05,15731.05,15584.1,15702.3,13894347.0,11521199999.999998\n",
      "2019-09-19,15667.0,15675.15,15469.1,15522.45,16325657.0,13882600000.0\n",
      "2019-09-20,15541.55,15742.55,15434.15,15491.05,47154254.0,42126500000.0\n",
      "2019-09-23,15611.8,15611.8,14735.55,15040.65,38192804.0,33540800000.0\n",
      "2019-09-24,15055.05,15380.35,15055.05,15338.65,35122169.0,30306900000.0\n",
      "2019-09-25,15351.85,15471.0,15268.9,15379.9,26252716.0,23657000000.0\n",
      "2019-09-26,15374.5,15456.85,15208.4,15312.9,36572789.0,31666600000.0\n",
      "2019-09-27,15297.7,15412.9,15214.2,15236.4,19972976.0,16435800000.0\n",
      "2019-09-30,15277.15,15568.45,15259.8,15540.15,24639706.0,21474400000.0\n",
      "2019-10-01,15559.65,15561.5,15240.95,15300.25,20838455.0,18389100000.0\n",
      "2019-10-03,15318.8,15417.25,15228.9,15277.95,19672683.0,15883800000.000002\n",
      "2019-10-04,15328.4,15418.8,15285.15,15340.3,22045346.0,18206900000.0\n",
      "2019-10-07,15368.15,15472.35,15226.7,15246.75,16359132.0,13791300000.000002\n",
      "2019-10-09,15305.1,15317.15,15051.35,15128.75,21599827.0,17461700000.0\n",
      "2019-10-10,15124.85,15235.6,15034.6,15093.8,24092311.0,20587199999.999996\n",
      "2019-10-11,14871.45,15388.95,14865.1,15321.9,46781069.0,50230300000.0\n",
      "2019-10-14,15202.2,15338.6,15147.7,15277.75,28977053.0,24975100000.000004\n",
      "2019-10-15,15254.4,15281.45,15191.05,15208.4,34587081.0,24406600000.0\n",
      "2019-10-16,15223.5,15373.35,15213.2,15344.9,40139861.0,25996900000.0\n",
      "2019-10-17,15257.95,15313.9,15160.2,15281.9,29872973.0,24305300000.000004\n",
      "2019-10-18,15271.95,15434.55,15241.0,15410.1,25035472.0,21430700000.0\n",
      "2019-10-22,15033.3,15085.45,14659.45,14688.65,112307829.0,80660100000.0\n",
      "2019-10-23,14640.85,14911.2,14566.55,14833.35,77030948.0,54165400000.0\n",
      "2019-10-24,14956.65,14970.35,14756.55,14781.5,51576928.0,39634300000.0\n",
      "2019-10-25,14883.4,14943.75,14720.85,14898.85,,\n",
      "2019-10-27,15012.45,15058.45,14916.05,14956.4,4721747.0,3423200000.0\n",
      "2019-10-29,14980.15,15199.9,14970.5,15181.4,35883005.0,30843700000.0\n",
      "2019-10-30,15343.7,15419.65,15212.75,15395.65,41161977.0,34754200000.0\n",
      "2019-10-31,15436.3,15657.75,15417.0,15559.4,48285119.0,41094600000.0\n",
      "2019-11-01,15575.35,15636.3,15411.8,15471.2,29764342.0,25926400000.0\n",
      "2019-11-04,15474.0,15803.35,15428.5,15591.3,46736702.0,36747700000.0\n",
      "2019-11-05,15613.1,15613.1,15422.8,15533.45,25846772.0,21983000000.0\n",
      "2019-11-06,15554.05,15647.05,15440.4,15561.3,40153010.0,32797399999.999996\n",
      "2019-11-07,15635.5,15639.7,15532.15,15624.4,24251273.0,19627000000.0\n",
      "2019-11-08,15646.4,15658.15,15355.7,15383.3,21722268.0,19516900000.0\n",
      "2019-11-11,15343.25,15354.05,15228.8,15308.55,16836070.0,15619800000.0\n",
      "2019-11-13,15307.9,15374.05,15192.3,15240.95,28471486.0,24364699999.999996\n",
      "2019-11-14,15292.9,15410.3,15217.3,15388.75,25379073.0,21084800000.0\n",
      "2019-11-15,15425.05,15471.15,15287.1,15310.6,18374737.0,16781400000.000002\n",
      "2019-11-18,15326.8,15373.85,15251.0,15295.25,22066550.0,16315200000.0\n",
      "2019-11-19,15318.65,15371.8,15256.85,15304.85,25599935.0,21077199999.999996\n",
      "2019-11-20,15349.05,15349.05,15235.0,15318.5,19887942.0,17590000000.0\n",
      "2019-11-21,15353.7,15435.4,15279.4,15293.95,21612732.0,17855000000.0\n",
      "2019-11-22,15216.55,15220.05,14931.35,14995.9,29495740.0,24016000000.0\n",
      "2019-11-25,15002.2,15112.9,14950.95,15100.6,17414541.0,15295600000.0\n",
      "2019-11-26,15174.65,15212.65,14867.45,14922.15,54958881.0,44793600000.0\n",
      "2019-11-27,14957.5,15049.0,14946.55,15022.15,15023394.0,14014600000.0\n",
      "2019-11-28,15069.15,15136.2,15042.65,15121.75,14650309.0,13950400000.0\n",
      "2019-11-29,15132.95,15147.25,14964.25,14998.05,13785332.0,11590200000.0\n",
      "2019-12-02,15056.85,15070.65,14819.4,14852.0,26527817.0,22332800000.000004\n",
      "2019-12-03,14870.9,14956.45,14808.4,14920.75,23102025.0,21035300000.000004\n",
      "2019-12-04,14918.5,15188.55,14896.6,15175.15,27219694.0,22956800000.0\n",
      "2019-12-05,15164.15,15385.45,15101.8,15367.5,28794873.0,24500800000.0\n",
      "2019-12-06,15383.45,15390.05,15269.25,15289.6,16934648.0,13637900000.0\n",
      "2019-12-09,15309.7,15322.55,15136.25,15157.15,18193828.0,15272300000.0\n",
      "2019-12-10,15120.05,15123.35,14903.25,14946.5,20105891.0,18599500000.0\n",
      "2019-12-11,14972.0,15147.35,14963.65,15130.3,22965246.0,21297500000.0\n",
      "2019-12-12,15151.1,15184.15,14890.6,14972.65,27121407.0,27502300000.0\n",
      "2019-12-13,14987.9,15221.45,14965.15,15200.55,30121794.0,26855000000.0\n",
      "2019-12-16,15263.75,15446.25,15223.1,15348.7,28614674.0,26667900000.0\n",
      "2019-12-17,15417.55,15670.35,15387.2,15637.15,35675500.0,35897400000.0\n",
      "2019-12-18,15680.5,15835.8,15649.15,15710.65,46723697.0,45259300000.0\n",
      "2019-12-19,15741.2,15835.5,15654.7,15812.95,25099747.0,26298300000.0\n",
      "2019-12-20,15811.95,15890.95,15781.25,15844.55,29982814.0,27396100000.0\n",
      "2019-12-23,15811.4,15936.0,15809.05,15865.5,15891898.0,14147000000.0\n",
      "2019-12-24,15877.4,15880.15,15739.45,15778.2,16014503.0,15701900000.0\n",
      "2019-12-26,15784.45,15806.85,15690.95,15706.45,17848305.0,14722400000.0\n",
      "2019-12-27,15740.4,15824.15,15657.5,15780.7,16652327.0,14588900000.000002\n",
      "2019-12-30,15801.5,15868.95,15715.1,15775.0,16249651.0,14009900000.0\n",
      "2019-12-31,15754.05,15775.25,15634.5,15652.4,19595240.0,15633900000.000002\n"
     ]
    }
   ],
   "source": [
    "for item in data:\n",
    "    print(item,end='')"
   ]
  },
  {
   "cell_type": "markdown",
   "id": "ab3be2e6",
   "metadata": {},
   "source": [
    "# file handling in python"
   ]
  },
  {
   "cell_type": "markdown",
   "id": "a97928fa",
   "metadata": {},
   "source": [
    "# file handling\n",
    "1. read\n",
    "2. write\n",
    "3. close\n",
    "4. open"
   ]
  },
  {
   "cell_type": "code",
   "execution_count": 248,
   "id": "f7975d3c",
   "metadata": {},
   "outputs": [
    {
     "ename": "FileNotFoundError",
     "evalue": "[Errno 2] No such file or directory: 'E:\\\\FCL\\\\xml_file\\\\wwa_inttrs_Original_booking_request.xml'",
     "output_type": "error",
     "traceback": [
      "\u001b[1;31m---------------------------------------------------------------------------\u001b[0m",
      "\u001b[1;31mFileNotFoundError\u001b[0m                         Traceback (most recent call last)",
      "\u001b[1;32m~\\AppData\\Local\\Temp/ipykernel_12788/2298691545.py\u001b[0m in \u001b[0;36m<module>\u001b[1;34m\u001b[0m\n\u001b[1;32m----> 1\u001b[1;33m \u001b[0mtodo\u001b[0m \u001b[1;33m=\u001b[0m \u001b[0mopen\u001b[0m\u001b[1;33m(\u001b[0m\u001b[1;34m\"E:\\\\FCL\\\\xml_file\\\\wwa_inttrs_Original_booking_request.xml\"\u001b[0m\u001b[1;33m)\u001b[0m\u001b[1;33m\u001b[0m\u001b[1;33m\u001b[0m\u001b[0m\n\u001b[0m",
      "\u001b[1;31mFileNotFoundError\u001b[0m: [Errno 2] No such file or directory: 'E:\\\\FCL\\\\xml_file\\\\wwa_inttrs_Original_booking_request.xml'"
     ]
    }
   ],
   "source": [
    "todo = open(\"E:\\\\FCL\\\\xml_file\\\\wwa_inttrs_Original_booking_request.xml\")"
   ]
  },
  {
   "cell_type": "markdown",
   "id": "78437244",
   "metadata": {},
   "source": [
    "# python exception\n"
   ]
  },
  {
   "cell_type": "code",
   "execution_count": 249,
   "id": "e5772c3d",
   "metadata": {},
   "outputs": [
    {
     "ename": "SyntaxError",
     "evalue": "invalid syntax (Temp/ipykernel_12788/4209248461.py, line 1)",
     "output_type": "error",
     "traceback": [
      "\u001b[1;36m  File \u001b[1;32m\"C:\\Users\\yaraz\\AppData\\Local\\Temp/ipykernel_12788/4209248461.py\"\u001b[1;36m, line \u001b[1;32m1\u001b[0m\n\u001b[1;33m    if 2<1 print(\"2\")\u001b[0m\n\u001b[1;37m           ^\u001b[0m\n\u001b[1;31mSyntaxError\u001b[0m\u001b[1;31m:\u001b[0m invalid syntax\n"
     ]
    }
   ],
   "source": [
    "if 2<1 print(\"2\")"
   ]
  },
  {
   "cell_type": "code",
   "execution_count": 250,
   "id": "3dd99e8d",
   "metadata": {},
   "outputs": [
    {
     "ename": "ZeroDivisionError",
     "evalue": "division by zero",
     "output_type": "error",
     "traceback": [
      "\u001b[1;31m---------------------------------------------------------------------------\u001b[0m",
      "\u001b[1;31mZeroDivisionError\u001b[0m                         Traceback (most recent call last)",
      "\u001b[1;32m~\\AppData\\Local\\Temp/ipykernel_12788/196021825.py\u001b[0m in \u001b[0;36m<module>\u001b[1;34m\u001b[0m\n\u001b[0;32m      1\u001b[0m \u001b[0ma\u001b[0m\u001b[1;33m,\u001b[0m\u001b[0mb\u001b[0m\u001b[1;33m=\u001b[0m\u001b[1;36m1\u001b[0m\u001b[1;33m,\u001b[0m\u001b[1;36m0\u001b[0m\u001b[1;33m\u001b[0m\u001b[1;33m\u001b[0m\u001b[0m\n\u001b[1;32m----> 2\u001b[1;33m \u001b[0mprint\u001b[0m\u001b[1;33m(\u001b[0m\u001b[0ma\u001b[0m\u001b[1;33m/\u001b[0m\u001b[0mb\u001b[0m\u001b[1;33m)\u001b[0m\u001b[1;33m\u001b[0m\u001b[1;33m\u001b[0m\u001b[0m\n\u001b[0m",
      "\u001b[1;31mZeroDivisionError\u001b[0m: division by zero"
     ]
    }
   ],
   "source": [
    "a,b=1,0\n",
    "print(a/b)"
   ]
  },
  {
   "cell_type": "code",
   "execution_count": 251,
   "id": "2b02d7f1",
   "metadata": {},
   "outputs": [],
   "source": [
    "assert (1==1)"
   ]
  },
  {
   "cell_type": "code",
   "execution_count": 252,
   "id": "ea5e36eb",
   "metadata": {},
   "outputs": [
    {
     "ename": "AssertionError",
     "evalue": "",
     "output_type": "error",
     "traceback": [
      "\u001b[1;31m---------------------------------------------------------------------------\u001b[0m",
      "\u001b[1;31mAssertionError\u001b[0m                            Traceback (most recent call last)",
      "\u001b[1;32m~\\AppData\\Local\\Temp/ipykernel_12788/889009499.py\u001b[0m in \u001b[0;36m<module>\u001b[1;34m\u001b[0m\n\u001b[1;32m----> 1\u001b[1;33m \u001b[1;32massert\u001b[0m\u001b[1;33m(\u001b[0m\u001b[1;36m1\u001b[0m\u001b[1;33m==\u001b[0m\u001b[1;36m2\u001b[0m\u001b[1;33m)\u001b[0m\u001b[1;33m\u001b[0m\u001b[1;33m\u001b[0m\u001b[0m\n\u001b[0m",
      "\u001b[1;31mAssertionError\u001b[0m: "
     ]
    }
   ],
   "source": [
    "assert(1==2)"
   ]
  },
  {
   "cell_type": "markdown",
   "id": "08f016c3",
   "metadata": {},
   "source": [
    "# python exception handling"
   ]
  },
  {
   "cell_type": "code",
   "execution_count": 253,
   "id": "16bb662e",
   "metadata": {},
   "outputs": [
    {
     "name": "stdout",
     "output_type": "stream",
     "text": [
      "you divided by 0\n",
      "this prints exception was handled\n"
     ]
    }
   ],
   "source": [
    "try:\n",
    "    for i in range(3):\n",
    "        print(3/i)\n",
    "except:\n",
    "    print(\"you divided by 0\")\n",
    "    print(\"this prints exception was handled\")"
   ]
  },
  {
   "cell_type": "code",
   "execution_count": 255,
   "id": "58d41eb2",
   "metadata": {},
   "outputs": [
    {
     "name": "stdout",
     "output_type": "stream",
     "text": [
      "you divide by 0\n"
     ]
    }
   ],
   "source": [
    "a,b=1,0\n",
    "try:\n",
    "    print(a/b)\n",
    "    print(\"this wont be printed\")\n",
    "    print('10'+10)\n",
    "except TypeError:\n",
    "    print(\"you added values of \")\n",
    "except ZeroDivisionError:\n",
    "    print(\"you divide by 0\")"
   ]
  },
  {
   "cell_type": "code",
   "execution_count": 256,
   "id": "15c30b7c",
   "metadata": {},
   "outputs": [
    {
     "name": "stdout",
     "output_type": "stream",
     "text": [
      "you con't divide by 0\n",
      "will this be prited\n"
     ]
    }
   ],
   "source": [
    "a,b = 1,0\n",
    "try:\n",
    "    print(a/b)\n",
    "except:\n",
    "    print(\"you con't divide by 0\")\n",
    "    print(\"will this be prited\")"
   ]
  },
  {
   "cell_type": "code",
   "execution_count": 257,
   "id": "b8541bcd",
   "metadata": {},
   "outputs": [
    {
     "name": "stdout",
     "output_type": "stream",
     "text": [
      "invalid input\n"
     ]
    }
   ],
   "source": [
    "try:\n",
    "    print('10'+10)\n",
    "    print(1/0)\n",
    "except (TypeError,ZeroDivisionError):\n",
    "    print(\"invalid input\")"
   ]
  },
  {
   "cell_type": "code",
   "execution_count": 258,
   "id": "8e165916",
   "metadata": {},
   "outputs": [
    {
     "name": "stdout",
     "output_type": "stream",
     "text": [
      "something went wrong\n"
     ]
    }
   ],
   "source": [
    "try:\n",
    "    print('1'+1)\n",
    "    print(sum)\n",
    "    print(1/0)\n",
    "except NameError:\n",
    "    print(\"sum does not exist\")\n",
    "except ZeroDivisionError:\n",
    "    print(\"cannot divide by 0\")\n",
    "except:\n",
    "    print(\"something went wrong\")"
   ]
  },
  {
   "cell_type": "code",
   "execution_count": 260,
   "id": "1dc858d3",
   "metadata": {},
   "outputs": [
    {
     "name": "stdout",
     "output_type": "stream",
     "text": [
      "1\n",
      "2\n"
     ]
    }
   ],
   "source": [
    "try:\n",
    "    print(\"1\")\n",
    "    print(\"2\")\n",
    "except:\n",
    "    print(\"3\")"
   ]
  },
  {
   "cell_type": "code",
   "execution_count": 261,
   "id": "eb58ff58",
   "metadata": {},
   "outputs": [
    {
     "ename": "SyntaxError",
     "evalue": "default 'except:' must be last (Temp/ipykernel_12788/3869209150.py, line 2)",
     "output_type": "error",
     "traceback": [
      "\u001b[1;36m  File \u001b[1;32m\"C:\\Users\\yaraz\\AppData\\Local\\Temp/ipykernel_12788/3869209150.py\"\u001b[1;36m, line \u001b[1;32m2\u001b[0m\n\u001b[1;33m    print(1/0)\u001b[0m\n\u001b[1;37m    ^\u001b[0m\n\u001b[1;31mSyntaxError\u001b[0m\u001b[1;31m:\u001b[0m default 'except:' must be last\n"
     ]
    }
   ],
   "source": [
    "try:\n",
    "    print(1/0)\n",
    "except:\n",
    "    raise\n",
    "except:\n",
    "    print(\"raised exception cautght\")\n",
    "finally:\n",
    "    print(\"okay\")\n",
    "print(\"bye\")"
   ]
  },
  {
   "cell_type": "code",
   "execution_count": 262,
   "id": "d2ae207c",
   "metadata": {},
   "outputs": [
    {
     "name": "stdout",
     "output_type": "stream",
     "text": [
      "this will print no matter what\n"
     ]
    },
    {
     "ename": "ZeroDivisionError",
     "evalue": "division by zero",
     "output_type": "error",
     "traceback": [
      "\u001b[1;31m---------------------------------------------------------------------------\u001b[0m",
      "\u001b[1;31mZeroDivisionError\u001b[0m                         Traceback (most recent call last)",
      "\u001b[1;32m~\\AppData\\Local\\Temp/ipykernel_12788/2151385213.py\u001b[0m in \u001b[0;36m<module>\u001b[1;34m\u001b[0m\n\u001b[0;32m      1\u001b[0m \u001b[1;32mtry\u001b[0m\u001b[1;33m:\u001b[0m\u001b[1;33m\u001b[0m\u001b[1;33m\u001b[0m\u001b[0m\n\u001b[1;32m----> 2\u001b[1;33m     \u001b[0mprint\u001b[0m\u001b[1;33m(\u001b[0m\u001b[1;36m1\u001b[0m\u001b[1;33m/\u001b[0m\u001b[1;36m0\u001b[0m\u001b[1;33m)\u001b[0m\u001b[1;33m\u001b[0m\u001b[1;33m\u001b[0m\u001b[0m\n\u001b[0m\u001b[0;32m      3\u001b[0m \u001b[1;32mexcept\u001b[0m \u001b[0mValueError\u001b[0m\u001b[1;33m:\u001b[0m\u001b[1;33m\u001b[0m\u001b[1;33m\u001b[0m\u001b[0m\n\u001b[0;32m      4\u001b[0m     \u001b[0mprint\u001b[0m\u001b[1;33m(\u001b[0m\u001b[1;34m\"this is a value error\"\u001b[0m\u001b[1;33m)\u001b[0m\u001b[1;33m\u001b[0m\u001b[1;33m\u001b[0m\u001b[0m\n\u001b[0;32m      5\u001b[0m \u001b[1;32mfinally\u001b[0m\u001b[1;33m:\u001b[0m\u001b[1;33m\u001b[0m\u001b[1;33m\u001b[0m\u001b[0m\n",
      "\u001b[1;31mZeroDivisionError\u001b[0m: division by zero"
     ]
    }
   ],
   "source": [
    "try:\n",
    "    print(1/0)\n",
    "except ValueError:\n",
    "    print(\"this is a value error\")\n",
    "finally:\n",
    "    print(\"this will print no matter what\")"
   ]
  },
  {
   "cell_type": "code",
   "execution_count": 266,
   "id": "c98e11ef",
   "metadata": {},
   "outputs": [
    {
     "ename": "IndentationError",
     "evalue": "expected an indented block (Temp/ipykernel_12788/1995005418.py, line 6)",
     "output_type": "error",
     "traceback": [
      "\u001b[1;36m  File \u001b[1;32m\"C:\\Users\\yaraz\\AppData\\Local\\Temp/ipykernel_12788/1995005418.py\"\u001b[1;36m, line \u001b[1;32m6\u001b[0m\n\u001b[1;33m    finally:\u001b[0m\n\u001b[1;37m    ^\u001b[0m\n\u001b[1;31mIndentationError\u001b[0m\u001b[1;31m:\u001b[0m expected an indented block\n"
     ]
    }
   ],
   "source": [
    "try:\n",
    "    print(1/0)\n",
    "except ZeroDivisionError:\n",
    "    print(2/0)\n",
    "except :\n",
    "finally:\n",
    "    print(\"sorry not happenig\")"
   ]
  },
  {
   "cell_type": "code",
   "execution_count": 267,
   "id": "63ffb723",
   "metadata": {},
   "outputs": [
    {
     "name": "stdout",
     "output_type": "stream",
     "text": [
      "1\n",
      "2\n",
      "an assert failed\n",
      "okay\n"
     ]
    },
    {
     "ename": "AssertionError",
     "evalue": "",
     "output_type": "error",
     "traceback": [
      "\u001b[1;31m---------------------------------------------------------------------------\u001b[0m",
      "\u001b[1;31mAssertionError\u001b[0m                            Traceback (most recent call last)",
      "\u001b[1;32m~\\AppData\\Local\\Temp/ipykernel_12788/1093733680.py\u001b[0m in \u001b[0;36m<module>\u001b[1;34m\u001b[0m\n\u001b[0;32m      3\u001b[0m     \u001b[1;32massert\u001b[0m \u001b[1;36m2\u001b[0m\u001b[1;33m+\u001b[0m\u001b[1;36m2\u001b[0m\u001b[1;33m==\u001b[0m\u001b[1;36m4\u001b[0m\u001b[1;33m\u001b[0m\u001b[1;33m\u001b[0m\u001b[0m\n\u001b[0;32m      4\u001b[0m     \u001b[0mprint\u001b[0m\u001b[1;33m(\u001b[0m\u001b[1;36m2\u001b[0m\u001b[1;33m)\u001b[0m\u001b[1;33m\u001b[0m\u001b[1;33m\u001b[0m\u001b[0m\n\u001b[1;32m----> 5\u001b[1;33m     \u001b[1;32massert\u001b[0m \u001b[1;36m1\u001b[0m\u001b[1;33m+\u001b[0m\u001b[1;36m2\u001b[0m\u001b[1;33m==\u001b[0m\u001b[1;36m4\u001b[0m\u001b[1;33m\u001b[0m\u001b[1;33m\u001b[0m\u001b[0m\n\u001b[0m\u001b[0;32m      6\u001b[0m     \u001b[0mprint\u001b[0m\u001b[1;33m(\u001b[0m\u001b[1;36m3\u001b[0m\u001b[1;33m)\u001b[0m\u001b[1;33m\u001b[0m\u001b[1;33m\u001b[0m\u001b[0m\n\u001b[0;32m      7\u001b[0m \u001b[1;32mexcept\u001b[0m\u001b[1;33m:\u001b[0m\u001b[1;33m\u001b[0m\u001b[1;33m\u001b[0m\u001b[0m\n",
      "\u001b[1;31mAssertionError\u001b[0m: "
     ]
    }
   ],
   "source": [
    "try:\n",
    "    print(1)\n",
    "    assert 2+2==4\n",
    "    print(2)\n",
    "    assert 1+2==4\n",
    "    print(3)\n",
    "except:\n",
    "    print(\"an assert failed\")\n",
    "    raise\n",
    "finally:\n",
    "    print(\"okay\")\n",
    "print(\"bye\")"
   ]
  },
  {
   "cell_type": "markdown",
   "id": "0e8d181d",
   "metadata": {},
   "source": [
    "# python assert statements"
   ]
  },
  {
   "cell_type": "code",
   "execution_count": 268,
   "id": "7dd62aa8",
   "metadata": {},
   "outputs": [
    {
     "ename": "AssertionError",
     "evalue": "",
     "output_type": "error",
     "traceback": [
      "\u001b[1;31m---------------------------------------------------------------------------\u001b[0m",
      "\u001b[1;31mAssertionError\u001b[0m                            Traceback (most recent call last)",
      "\u001b[1;32m~\\AppData\\Local\\Temp/ipykernel_12788/2971441187.py\u001b[0m in \u001b[0;36m<module>\u001b[1;34m\u001b[0m\n\u001b[1;32m----> 1\u001b[1;33m \u001b[1;32massert\u001b[0m \u001b[1;36m2\u001b[0m\u001b[1;33m==\u001b[0m\u001b[1;36m3\u001b[0m\u001b[1;33m\u001b[0m\u001b[1;33m\u001b[0m\u001b[0m\n\u001b[0m",
      "\u001b[1;31mAssertionError\u001b[0m: "
     ]
    }
   ],
   "source": [
    "assert 2==3"
   ]
  },
  {
   "cell_type": "code",
   "execution_count": 269,
   "id": "793714f6",
   "metadata": {},
   "outputs": [],
   "source": [
    "def div(a,b):\n",
    "    assert b!=0\n",
    "    return a/b"
   ]
  },
  {
   "cell_type": "code",
   "execution_count": 270,
   "id": "70d458e7",
   "metadata": {},
   "outputs": [
    {
     "data": {
      "text/plain": [
       "0.6666666666666666"
      ]
     },
     "execution_count": 270,
     "metadata": {},
     "output_type": "execute_result"
    }
   ],
   "source": [
    "div(2,3)"
   ]
  },
  {
   "cell_type": "code",
   "execution_count": 271,
   "id": "f9f1a66c",
   "metadata": {},
   "outputs": [
    {
     "data": {
      "text/plain": [
       "0.6666666666666666"
      ]
     },
     "execution_count": 271,
     "metadata": {},
     "output_type": "execute_result"
    }
   ],
   "source": [
    "div(2,3)"
   ]
  },
  {
   "cell_type": "code",
   "execution_count": 272,
   "id": "c75d63c2",
   "metadata": {},
   "outputs": [
    {
     "ename": "AssertionError",
     "evalue": "",
     "output_type": "error",
     "traceback": [
      "\u001b[1;31m---------------------------------------------------------------------------\u001b[0m",
      "\u001b[1;31mAssertionError\u001b[0m                            Traceback (most recent call last)",
      "\u001b[1;32m~\\AppData\\Local\\Temp/ipykernel_12788/767216532.py\u001b[0m in \u001b[0;36m<module>\u001b[1;34m\u001b[0m\n\u001b[1;32m----> 1\u001b[1;33m \u001b[0mdiv\u001b[0m\u001b[1;33m(\u001b[0m\u001b[1;36m2\u001b[0m\u001b[1;33m,\u001b[0m\u001b[1;36m0\u001b[0m\u001b[1;33m)\u001b[0m\u001b[1;33m\u001b[0m\u001b[1;33m\u001b[0m\u001b[0m\n\u001b[0m",
      "\u001b[1;32m~\\AppData\\Local\\Temp/ipykernel_12788/2304159723.py\u001b[0m in \u001b[0;36mdiv\u001b[1;34m(a, b)\u001b[0m\n\u001b[0;32m      1\u001b[0m \u001b[1;32mdef\u001b[0m \u001b[0mdiv\u001b[0m\u001b[1;33m(\u001b[0m\u001b[0ma\u001b[0m\u001b[1;33m,\u001b[0m\u001b[0mb\u001b[0m\u001b[1;33m)\u001b[0m\u001b[1;33m:\u001b[0m\u001b[1;33m\u001b[0m\u001b[1;33m\u001b[0m\u001b[0m\n\u001b[1;32m----> 2\u001b[1;33m     \u001b[1;32massert\u001b[0m \u001b[0mb\u001b[0m\u001b[1;33m!=\u001b[0m\u001b[1;36m0\u001b[0m\u001b[1;33m\u001b[0m\u001b[1;33m\u001b[0m\u001b[0m\n\u001b[0m\u001b[0;32m      3\u001b[0m     \u001b[1;32mreturn\u001b[0m \u001b[0ma\u001b[0m\u001b[1;33m/\u001b[0m\u001b[0mb\u001b[0m\u001b[1;33m\u001b[0m\u001b[1;33m\u001b[0m\u001b[0m\n",
      "\u001b[1;31mAssertionError\u001b[0m: "
     ]
    }
   ],
   "source": [
    "div(2,0)"
   ]
  },
  {
   "cell_type": "code",
   "execution_count": 274,
   "id": "44f2f0af",
   "metadata": {},
   "outputs": [],
   "source": [
    "def div(q,b):\n",
    "    assert b!=0 ,\"you cannot divide a number by zero\\n please try again\"\n",
    "    return a/b\n"
   ]
  },
  {
   "cell_type": "code",
   "execution_count": 275,
   "id": "aa34e1a4",
   "metadata": {},
   "outputs": [
    {
     "ename": "AssertionError",
     "evalue": "you cannot divide a number by zero\n please try again",
     "output_type": "error",
     "traceback": [
      "\u001b[1;31m---------------------------------------------------------------------------\u001b[0m",
      "\u001b[1;31mAssertionError\u001b[0m                            Traceback (most recent call last)",
      "\u001b[1;32m~\\AppData\\Local\\Temp/ipykernel_12788/767216532.py\u001b[0m in \u001b[0;36m<module>\u001b[1;34m\u001b[0m\n\u001b[1;32m----> 1\u001b[1;33m \u001b[0mdiv\u001b[0m\u001b[1;33m(\u001b[0m\u001b[1;36m2\u001b[0m\u001b[1;33m,\u001b[0m\u001b[1;36m0\u001b[0m\u001b[1;33m)\u001b[0m\u001b[1;33m\u001b[0m\u001b[1;33m\u001b[0m\u001b[0m\n\u001b[0m",
      "\u001b[1;32m~\\AppData\\Local\\Temp/ipykernel_12788/1564220557.py\u001b[0m in \u001b[0;36mdiv\u001b[1;34m(q, b)\u001b[0m\n\u001b[0;32m      1\u001b[0m \u001b[1;32mdef\u001b[0m \u001b[0mdiv\u001b[0m\u001b[1;33m(\u001b[0m\u001b[0mq\u001b[0m\u001b[1;33m,\u001b[0m\u001b[0mb\u001b[0m\u001b[1;33m)\u001b[0m\u001b[1;33m:\u001b[0m\u001b[1;33m\u001b[0m\u001b[1;33m\u001b[0m\u001b[0m\n\u001b[1;32m----> 2\u001b[1;33m     \u001b[1;32massert\u001b[0m \u001b[0mb\u001b[0m\u001b[1;33m!=\u001b[0m\u001b[1;36m0\u001b[0m \u001b[1;33m,\u001b[0m\u001b[1;34m\"you cannot divide a number by zero\\n please try again\"\u001b[0m\u001b[1;33m\u001b[0m\u001b[1;33m\u001b[0m\u001b[0m\n\u001b[0m\u001b[0;32m      3\u001b[0m     \u001b[1;32mreturn\u001b[0m \u001b[0ma\u001b[0m\u001b[1;33m/\u001b[0m\u001b[0mb\u001b[0m\u001b[1;33m\u001b[0m\u001b[1;33m\u001b[0m\u001b[0m\n",
      "\u001b[1;31mAssertionError\u001b[0m: you cannot divide a number by zero\n please try again"
     ]
    }
   ],
   "source": [
    "div(2,0)"
   ]
  },
  {
   "cell_type": "code",
   "execution_count": 276,
   "id": "4b28f628",
   "metadata": {},
   "outputs": [
    {
     "data": {
      "text/plain": [
       "0.2"
      ]
     },
     "execution_count": 276,
     "metadata": {},
     "output_type": "execute_result"
    }
   ],
   "source": [
    "div(3,5)"
   ]
  },
  {
   "cell_type": "code",
   "execution_count": 278,
   "id": "b018e5fc",
   "metadata": {},
   "outputs": [],
   "source": [
    "try:\n",
    "    def div(a,b):\n",
    "        assert b!=0 ,'you cannot divide a number by zero'\n",
    "        return a/b\n",
    "except:\n",
    "    print(\"so you tried to divide by 0\")\n",
    "    "
   ]
  },
  {
   "cell_type": "code",
   "execution_count": 279,
   "id": "3de56cae",
   "metadata": {},
   "outputs": [
    {
     "ename": "AssertionError",
     "evalue": "you cannot divide a number by zero",
     "output_type": "error",
     "traceback": [
      "\u001b[1;31m---------------------------------------------------------------------------\u001b[0m",
      "\u001b[1;31mAssertionError\u001b[0m                            Traceback (most recent call last)",
      "\u001b[1;32m~\\AppData\\Local\\Temp/ipykernel_12788/767216532.py\u001b[0m in \u001b[0;36m<module>\u001b[1;34m\u001b[0m\n\u001b[1;32m----> 1\u001b[1;33m \u001b[0mdiv\u001b[0m\u001b[1;33m(\u001b[0m\u001b[1;36m2\u001b[0m\u001b[1;33m,\u001b[0m\u001b[1;36m0\u001b[0m\u001b[1;33m)\u001b[0m\u001b[1;33m\u001b[0m\u001b[1;33m\u001b[0m\u001b[0m\n\u001b[0m",
      "\u001b[1;32m~\\AppData\\Local\\Temp/ipykernel_12788/4144067588.py\u001b[0m in \u001b[0;36mdiv\u001b[1;34m(a, b)\u001b[0m\n\u001b[0;32m      1\u001b[0m \u001b[1;32mtry\u001b[0m\u001b[1;33m:\u001b[0m\u001b[1;33m\u001b[0m\u001b[1;33m\u001b[0m\u001b[0m\n\u001b[0;32m      2\u001b[0m     \u001b[1;32mdef\u001b[0m \u001b[0mdiv\u001b[0m\u001b[1;33m(\u001b[0m\u001b[0ma\u001b[0m\u001b[1;33m,\u001b[0m\u001b[0mb\u001b[0m\u001b[1;33m)\u001b[0m\u001b[1;33m:\u001b[0m\u001b[1;33m\u001b[0m\u001b[1;33m\u001b[0m\u001b[0m\n\u001b[1;32m----> 3\u001b[1;33m         \u001b[1;32massert\u001b[0m \u001b[0mb\u001b[0m\u001b[1;33m!=\u001b[0m\u001b[1;36m0\u001b[0m \u001b[1;33m,\u001b[0m\u001b[1;34m'you cannot divide a number by zero'\u001b[0m\u001b[1;33m\u001b[0m\u001b[1;33m\u001b[0m\u001b[0m\n\u001b[0m\u001b[0;32m      4\u001b[0m         \u001b[1;32mreturn\u001b[0m \u001b[0ma\u001b[0m\u001b[1;33m/\u001b[0m\u001b[0mb\u001b[0m\u001b[1;33m\u001b[0m\u001b[1;33m\u001b[0m\u001b[0m\n\u001b[0;32m      5\u001b[0m \u001b[1;32mexcept\u001b[0m\u001b[1;33m:\u001b[0m\u001b[1;33m\u001b[0m\u001b[1;33m\u001b[0m\u001b[0m\n",
      "\u001b[1;31mAssertionError\u001b[0m: you cannot divide a number by zero"
     ]
    }
   ],
   "source": [
    "div(2,0)"
   ]
  },
  {
   "cell_type": "code",
   "execution_count": 281,
   "id": "278d4c4d",
   "metadata": {},
   "outputs": [],
   "source": [
    "def div(A,b):\n",
    "    try:\n",
    "        assert b!=0 ,'you cannot divide a number by zero'\n",
    "        return A/b\n",
    "    except:\n",
    "        print(\"so you tried to divide by 0\")"
   ]
  },
  {
   "cell_type": "code",
   "execution_count": 282,
   "id": "95101913",
   "metadata": {},
   "outputs": [
    {
     "name": "stdout",
     "output_type": "stream",
     "text": [
      "so you tried to divide by 0\n"
     ]
    }
   ],
   "source": [
    "div(2,0)"
   ]
  },
  {
   "cell_type": "markdown",
   "id": "feb7a9b1",
   "metadata": {},
   "source": [
    "# python Directory & file management"
   ]
  },
  {
   "cell_type": "code",
   "execution_count": 283,
   "id": "0a70b45e",
   "metadata": {},
   "outputs": [],
   "source": [
    "import os"
   ]
  },
  {
   "cell_type": "code",
   "execution_count": 285,
   "id": "8329072f",
   "metadata": {},
   "outputs": [
    {
     "data": {
      "text/plain": [
       "'C:\\\\Users\\\\yaraz'"
      ]
     },
     "execution_count": 285,
     "metadata": {},
     "output_type": "execute_result"
    }
   ],
   "source": [
    "os.getcwd() # current working directory"
   ]
  },
  {
   "cell_type": "code",
   "execution_count": 286,
   "id": "0ee2a9bb",
   "metadata": {},
   "outputs": [
    {
     "data": {
      "text/plain": [
       "b'C:\\\\Users\\\\yaraz'"
      ]
     },
     "execution_count": 286,
     "metadata": {},
     "output_type": "execute_result"
    }
   ],
   "source": [
    "os.getcwdb() # bytes object"
   ]
  },
  {
   "cell_type": "code",
   "execution_count": 288,
   "id": "e107ce1b",
   "metadata": {},
   "outputs": [
    {
     "data": {
      "text/plain": [
       "str"
      ]
     },
     "execution_count": 288,
     "metadata": {},
     "output_type": "execute_result"
    }
   ],
   "source": [
    "type(os.getcwd())"
   ]
  },
  {
   "cell_type": "code",
   "execution_count": 289,
   "id": "29ba96be",
   "metadata": {},
   "outputs": [
    {
     "name": "stdout",
     "output_type": "stream",
     "text": [
      "C:\\Users\\yaraz\n"
     ]
    }
   ],
   "source": [
    "print(os.getcwd())"
   ]
  },
  {
   "cell_type": "code",
   "execution_count": 290,
   "id": "87d4115f",
   "metadata": {},
   "outputs": [
    {
     "ename": "SyntaxError",
     "evalue": "(unicode error) 'unicodeescape' codec can't decode bytes in position 6-7: truncated \\xXX escape (Temp/ipykernel_12788/2061741020.py, line 1)",
     "output_type": "error",
     "traceback": [
      "\u001b[1;36m  File \u001b[1;32m\"C:\\Users\\yaraz\\AppData\\Local\\Temp/ipykernel_12788/2061741020.py\"\u001b[1;36m, line \u001b[1;32m1\u001b[0m\n\u001b[1;33m    os.chdir(\"E:\\FCL\\xml_file\")\u001b[0m\n\u001b[1;37m                              ^\u001b[0m\n\u001b[1;31mSyntaxError\u001b[0m\u001b[1;31m:\u001b[0m (unicode error) 'unicodeescape' codec can't decode bytes in position 6-7: truncated \\xXX escape\n"
     ]
    }
   ],
   "source": [
    "os.chdir(\"E:\\FCL\\xml_file\")"
   ]
  },
  {
   "cell_type": "code",
   "execution_count": null,
   "id": "dd2cf21e",
   "metadata": {},
   "outputs": [],
   "source": []
  }
 ],
 "metadata": {
  "kernelspec": {
   "display_name": "Python 3 (ipykernel)",
   "language": "python",
   "name": "python3"
  },
  "language_info": {
   "codemirror_mode": {
    "name": "ipython",
    "version": 3
   },
   "file_extension": ".py",
   "mimetype": "text/x-python",
   "name": "python",
   "nbconvert_exporter": "python",
   "pygments_lexer": "ipython3",
   "version": "3.9.2"
  }
 },
 "nbformat": 4,
 "nbformat_minor": 5
}
