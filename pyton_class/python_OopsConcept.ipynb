{
 "cells": [
  {
   "cell_type": "markdown",
   "id": "53583825",
   "metadata": {},
   "source": [
    "# python intermediate level topics"
   ]
  },
  {
   "cell_type": "code",
   "execution_count": 1,
   "id": "2cd93f0e",
   "metadata": {},
   "outputs": [],
   "source": [
    "# class \n",
    "# class are created by keyword class\n",
    "# attributes are the variables that belong to class\n",
    "# attributs are always public and can be accessed using dot(.) operator\n",
    "# "
   ]
  },
  {
   "cell_type": "code",
   "execution_count": 2,
   "id": "73d584b3",
   "metadata": {},
   "outputs": [],
   "source": [
    "# sample e.g for class\n",
    "class MyClass:\n",
    "    number = 0\n",
    "    name = 'noname'\n",
    "    #assign the values to the MyClass attributes\n",
    "    \n"
   ]
  },
  {
   "cell_type": "code",
   "execution_count": 3,
   "id": "e898e549",
   "metadata": {},
   "outputs": [],
   "source": [
    "def main():\n",
    "    # creating an object of the MyClass\n",
    "    # here me is the object\n",
    "    me = MyClass()\n",
    "    me.number = 1337\n",
    "    me.name = \"manjunath\"\n",
    "    print(me.name+\" \"+ str(me.number))\n",
    "    "
   ]
  },
  {
   "cell_type": "code",
   "execution_count": 4,
   "id": "e8091729",
   "metadata": {},
   "outputs": [
    {
     "name": "stdout",
     "output_type": "stream",
     "text": [
      "manjunath 1337\n"
     ]
    }
   ],
   "source": [
    "if __name__=='__main__':\n",
    "    main()"
   ]
  },
  {
   "cell_type": "markdown",
   "id": "03735270",
   "metadata": {},
   "source": [
    "2. Methods\n"
   ]
  },
  {
   "cell_type": "code",
   "execution_count": 5,
   "id": "82790580",
   "metadata": {},
   "outputs": [],
   "source": [
    "class Vector:\n",
    "    x = 0.0\n",
    "    y = 0.0\n",
    "    \n",
    "    # creating a method named set\n",
    "    def Set(self,x,y):\n",
    "        self.x = x\n",
    "        self.y = y"
   ]
  },
  {
   "cell_type": "code",
   "execution_count": 8,
   "id": "8502112f",
   "metadata": {},
   "outputs": [],
   "source": [
    "def main():\n",
    "    vec = Vector()\n",
    "    vec.Set(5,6)\n",
    "    print(\"x: \"+str(vec.x)+\"y:\" + str(vec.y))"
   ]
  },
  {
   "cell_type": "code",
   "execution_count": 9,
   "id": "b8b222e6",
   "metadata": {},
   "outputs": [
    {
     "name": "stdout",
     "output_type": "stream",
     "text": [
      "x: 5y:6\n"
     ]
    }
   ],
   "source": [
    "if __name__=='__main__':\n",
    "    main()"
   ]
  },
  {
   "cell_type": "markdown",
   "id": "5d9b3e55",
   "metadata": {},
   "source": [
    "# inheritance \n",
    "1. base class or parent,subclass\n",
    "2. derived class,child,superclass"
   ]
  },
  {
   "cell_type": "code",
   "execution_count": 10,
   "id": "b9309118",
   "metadata": {},
   "outputs": [],
   "source": [
    "# class derived-classname(superclass-name)\n",
    "class Pet:\n",
    "    # __init__is an constructor in python\n",
    "    def __init__(self,name,age):\n",
    "        self.name = name\n",
    "        self.age = age\n",
    "\n",
    "class Cat(Pet):\n",
    "    def __init__(self,name,age):\n",
    "        super().__init__(name,age)\n"
   ]
  },
  {
   "cell_type": "code",
   "execution_count": 12,
   "id": "3866366a",
   "metadata": {},
   "outputs": [],
   "source": [
    "def main():\n",
    "    thepet = Pet('thepet',25)\n",
    "    thecat = Cat('meow',55)\n",
    "    print(\"is jess a cat ?\" +str(isinstance(thepet,Pet)))"
   ]
  },
  {
   "cell_type": "code",
   "execution_count": 13,
   "id": "c01b8384",
   "metadata": {},
   "outputs": [
    {
     "name": "stdout",
     "output_type": "stream",
     "text": [
      "is jess a cat ?True\n"
     ]
    }
   ],
   "source": [
    "if __name__=='__main__':\n",
    "    main()"
   ]
  },
  {
   "cell_type": "markdown",
   "id": "ad157ced",
   "metadata": {},
   "source": [
    "4. iterator"
   ]
  },
  {
   "cell_type": "code",
   "execution_count": 14,
   "id": "fe28d3aa",
   "metadata": {},
   "outputs": [],
   "source": [
    "class Revers:\n",
    "    def __init__(self,data):\n",
    "        self.data = data\n",
    "        self.index = len(data)\n",
    "    def __iter__(self):\n",
    "        return self\n",
    "    def __next__(self):\n",
    "        if self.index == 0:\n",
    "            raise StopIteration\n",
    "            self.index == 1\n",
    "            return self.data[self.index]\n",
    "            "
   ]
  },
  {
   "cell_type": "code",
   "execution_count": 15,
   "id": "0e7b6113",
   "metadata": {},
   "outputs": [],
   "source": [
    "def main():\n",
    "    rev = Reverse(\"manjunath\")\n",
    "    for char in rev:\n",
    "        print(char)"
   ]
  },
  {
   "cell_type": "code",
   "execution_count": 16,
   "id": "ec4faea9",
   "metadata": {},
   "outputs": [
    {
     "ename": "NameError",
     "evalue": "name 'Reverse' is not defined",
     "output_type": "error",
     "traceback": [
      "\u001b[1;31m---------------------------------------------------------------------------\u001b[0m",
      "\u001b[1;31mNameError\u001b[0m                                 Traceback (most recent call last)",
      "\u001b[1;32m~\\AppData\\Local\\Temp/ipykernel_8100/2949861635.py\u001b[0m in \u001b[0;36m<module>\u001b[1;34m\u001b[0m\n\u001b[0;32m      1\u001b[0m \u001b[1;32mif\u001b[0m \u001b[0m__name__\u001b[0m\u001b[1;33m==\u001b[0m\u001b[1;34m'__main__'\u001b[0m\u001b[1;33m:\u001b[0m\u001b[1;33m\u001b[0m\u001b[1;33m\u001b[0m\u001b[0m\n\u001b[1;32m----> 2\u001b[1;33m     \u001b[0mmain\u001b[0m\u001b[1;33m(\u001b[0m\u001b[1;33m)\u001b[0m\u001b[1;33m\u001b[0m\u001b[1;33m\u001b[0m\u001b[0m\n\u001b[0m",
      "\u001b[1;32m~\\AppData\\Local\\Temp/ipykernel_8100/960251988.py\u001b[0m in \u001b[0;36mmain\u001b[1;34m()\u001b[0m\n\u001b[0;32m      1\u001b[0m \u001b[1;32mdef\u001b[0m \u001b[0mmain\u001b[0m\u001b[1;33m(\u001b[0m\u001b[1;33m)\u001b[0m\u001b[1;33m:\u001b[0m\u001b[1;33m\u001b[0m\u001b[1;33m\u001b[0m\u001b[0m\n\u001b[1;32m----> 2\u001b[1;33m     \u001b[0mrev\u001b[0m \u001b[1;33m=\u001b[0m \u001b[0mReverse\u001b[0m\u001b[1;33m(\u001b[0m\u001b[1;34m\"manjunath\"\u001b[0m\u001b[1;33m)\u001b[0m\u001b[1;33m\u001b[0m\u001b[1;33m\u001b[0m\u001b[0m\n\u001b[0m\u001b[0;32m      3\u001b[0m     \u001b[1;32mfor\u001b[0m \u001b[0mchar\u001b[0m \u001b[1;32min\u001b[0m \u001b[0mrev\u001b[0m\u001b[1;33m:\u001b[0m\u001b[1;33m\u001b[0m\u001b[1;33m\u001b[0m\u001b[0m\n\u001b[0;32m      4\u001b[0m         \u001b[0mprint\u001b[0m\u001b[1;33m(\u001b[0m\u001b[0mchar\u001b[0m\u001b[1;33m)\u001b[0m\u001b[1;33m\u001b[0m\u001b[1;33m\u001b[0m\u001b[0m\n",
      "\u001b[1;31mNameError\u001b[0m: name 'Reverse' is not defined"
     ]
    }
   ],
   "source": [
    "if __name__=='__main__':\n",
    "    main()"
   ]
  },
  {
   "cell_type": "code",
   "execution_count": 6,
   "id": "52d77831",
   "metadata": {},
   "outputs": [],
   "source": [
    "class Pet:\n",
    "    def __init__(self,name,age):\n",
    "        self.name = name\n",
    "        self.age = age"
   ]
  },
  {
   "cell_type": "code",
   "execution_count": 7,
   "id": "6829dc8f",
   "metadata": {},
   "outputs": [],
   "source": [
    "class Cat(Pet):\n",
    "    def __init__(self,name,age):\n",
    "        super().__init__(name,age)"
   ]
  },
  {
   "cell_type": "code",
   "execution_count": 11,
   "id": "87818f81",
   "metadata": {},
   "outputs": [],
   "source": [
    "def main():\n",
    "    thepet = Pet('manjunath',55)\n",
    "    thecat = Cat('kannur',65)\n",
    "    print(\"is thepet a cat? \"+str(isinstance(thepet,Pet)))\n",
    "    print(\"is thepet a cat? \"+str(isinstance(thecat,Cat)))\n",
    "    "
   ]
  },
  {
   "cell_type": "code",
   "execution_count": 12,
   "id": "6a442423",
   "metadata": {},
   "outputs": [],
   "source": [
    "if __name__=='__mian__':\n",
    "    main()"
   ]
  },
  {
   "cell_type": "code",
   "execution_count": 14,
   "id": "2658011f",
   "metadata": {},
   "outputs": [
    {
     "name": "stdout",
     "output_type": "stream",
     "text": [
      "is thepet a cat? True\n",
      "is thepet a cat? True\n"
     ]
    }
   ],
   "source": [
    "if __name__=='__main__':\n",
    "    main()"
   ]
  },
  {
   "cell_type": "markdown",
   "id": "848935f2",
   "metadata": {},
   "source": [
    "4. iterator\n",
    "###### iterator are objects can be iterated upon"
   ]
  },
  {
   "cell_type": "code",
   "execution_count": 18,
   "id": "43f7fd4e",
   "metadata": {},
   "outputs": [],
   "source": [
    "class Reverse:\n",
    "    def __init__(self,name,age):\n",
    "        self.name = name\n",
    "        self.age = age\n",
    "    def show(self):\n",
    "        print(\"the username is {}\".format(self.name))\n",
    "        print(\"the userage is {}\".format(self.age))\n",
    "class kannur(Reverse):\n",
    "    def __init__(self,name,age):\n",
    "        super().__init__(name,age)\n",
    "        "
   ]
  },
  {
   "cell_type": "code",
   "execution_count": 28,
   "id": "441ed0e9",
   "metadata": {},
   "outputs": [],
   "source": [
    "def main():\n",
    "    rev = kannur('manjunath',32)\n",
    "    ver = Reverse('yarazari',65)\n",
    "    print(rev.show())\n",
    "    print(ver.name)\n",
    "#     for char in rev:\n",
    "#         print(char)"
   ]
  },
  {
   "cell_type": "code",
   "execution_count": 29,
   "id": "6816ef43",
   "metadata": {},
   "outputs": [
    {
     "name": "stdout",
     "output_type": "stream",
     "text": [
      "the username is manjunath\n",
      "the userage is 32\n",
      "None\n",
      "yarazari\n"
     ]
    }
   ],
   "source": [
    "if __name__=='__main__':\n",
    "    main()"
   ]
  },
  {
   "cell_type": "markdown",
   "id": "431fad7e",
   "metadata": {},
   "source": [
    "# python oops Concepts\n",
    "1. class\n",
    "2. objects\n",
    "3. polymorphism\n",
    "4. encapsulation\n",
    "5. inheritance"
   ]
  },
  {
   "cell_type": "code",
   "execution_count": 30,
   "id": "3c0249c9",
   "metadata": {},
   "outputs": [],
   "source": [
    "# class is collection of objects. A class contains the Blueprints\n",
    "# syntax of class\n",
    "# class classname:\n",
    "#     statement-1\n",
    "#     statement-n\n",
    "class Dog:\n",
    "    pass"
   ]
  },
  {
   "cell_type": "code",
   "execution_count": 31,
   "id": "3843c7f7",
   "metadata": {},
   "outputs": [],
   "source": [
    "class Dog:\n",
    "    # class attribute\n",
    "    attr = \"yarazari\"\n",
    "    \n",
    "    def __init__(self,name):\n",
    "        self.name = name"
   ]
  },
  {
   "cell_type": "code",
   "execution_count": 32,
   "id": "170539d7",
   "metadata": {},
   "outputs": [],
   "source": [
    "roadger = Dog(\"rodger\")\n",
    "tommy = Dog('tommy')"
   ]
  },
  {
   "cell_type": "code",
   "execution_count": 33,
   "id": "e083679f",
   "metadata": {},
   "outputs": [
    {
     "name": "stdout",
     "output_type": "stream",
     "text": [
      "roadger is a yarazari\n",
      "tommy is a yarazari\n"
     ]
    }
   ],
   "source": [
    "# accessing class attributes\n",
    "print(\"roadger is a {}\".format(roadger.__class__.attr))\n",
    "print(\"tommy is a {}\".format(tommy.__class__.attr))"
   ]
  },
  {
   "cell_type": "code",
   "execution_count": 34,
   "id": "52b7f361",
   "metadata": {},
   "outputs": [
    {
     "name": "stdout",
     "output_type": "stream",
     "text": [
      "my name is rodger\n",
      "my name is tommy\n"
     ]
    }
   ],
   "source": [
    "print(\"my name is {}\".format(roadger.name))\n",
    "print(\"my name is {}\".format(tommy.name))"
   ]
  },
  {
   "cell_type": "code",
   "execution_count": 39,
   "id": "6fd64a5f",
   "metadata": {},
   "outputs": [
    {
     "name": "stdout",
     "output_type": "stream",
     "text": [
      "my name is rodger!\n",
      "my name is tommy!\n"
     ]
    }
   ],
   "source": [
    "class Dog:\n",
    "    attr = 'yarazari'\n",
    "    \n",
    "    def __init__(self,name):\n",
    "        self.name= name\n",
    "    def speak(self):\n",
    "        print(\"my name is {}\".format(self.name))\n",
    "def main():\n",
    "    rodger = Dog('rodger!')\n",
    "    tommy = Dog('tommy!')\n",
    "    rodger.speak()\n",
    "    tommy.speak()\n",
    "if __name__=='__main__':\n",
    "    main()"
   ]
  },
  {
   "cell_type": "code",
   "execution_count": 40,
   "id": "82f58ec6",
   "metadata": {},
   "outputs": [],
   "source": [
    "class Person(object):\n",
    "    # __init__ is known as the constructor\n",
    "    def __init__(self,name,idnumber):\n",
    "        self.name = name\n",
    "        self.idnumber = idnumber\n",
    "        \n",
    "    def display(self):\n",
    "        print(self.name)\n",
    "        print(self.idnumber)\n",
    "    def details(self):\n",
    "        print(\"my name is {}\".format(self.name))\n",
    "        print(\"my name is {}\".format(self.idnumber))"
   ]
  },
  {
   "cell_type": "code",
   "execution_count": 41,
   "id": "f8c444ab",
   "metadata": {},
   "outputs": [],
   "source": [
    "class Emp(Person):\n",
    "    def __init__(self,name,idnumber,salary,post):\n",
    "        self.salary = salary\n",
    "        self.post = post\n",
    "        \n",
    "        Person.__init__(self,name,idnumber)\n",
    "    def details(self):\n",
    "        print(\"my name is {}\".format(self.name))\n",
    "        print(\"idnumber is {}\".format(self.idnumber))\n",
    "        print('post: {}'.format(self.post))\n",
    "        print(\"salary is {}\".format(self.salary))"
   ]
  },
  {
   "cell_type": "code",
   "execution_count": 42,
   "id": "b27aa6a5",
   "metadata": {},
   "outputs": [],
   "source": [
    "obj = Emp('manjunath',10,50000,'yarazari')"
   ]
  },
  {
   "cell_type": "code",
   "execution_count": 43,
   "id": "a5e0ef94",
   "metadata": {},
   "outputs": [
    {
     "data": {
      "text/plain": [
       "<__main__.Emp at 0x2b3c0f226a0>"
      ]
     },
     "execution_count": 43,
     "metadata": {},
     "output_type": "execute_result"
    }
   ],
   "source": [
    "obj"
   ]
  },
  {
   "cell_type": "code",
   "execution_count": 44,
   "id": "ec4cbc81",
   "metadata": {},
   "outputs": [
    {
     "name": "stdout",
     "output_type": "stream",
     "text": [
      "my name is manjunath\n",
      "idnumber is 10\n",
      "post: yarazari\n",
      "salary is 50000\n"
     ]
    }
   ],
   "source": [
    "obj.details()"
   ]
  },
  {
   "cell_type": "code",
   "execution_count": 45,
   "id": "afc28167",
   "metadata": {},
   "outputs": [
    {
     "name": "stdout",
     "output_type": "stream",
     "text": [
      "manjunath\n",
      "10\n"
     ]
    }
   ],
   "source": [
    "obj.display()"
   ]
  },
  {
   "cell_type": "markdown",
   "id": "58156ca1",
   "metadata": {},
   "source": [
    "# polymorphism in python"
   ]
  },
  {
   "cell_type": "code",
   "execution_count": 46,
   "id": "56bf5371",
   "metadata": {},
   "outputs": [],
   "source": [
    "class Bird:\n",
    "    def intro(self):\n",
    "        print(\"there are many types of birds: \")\n",
    "    def flight(self):\n",
    "        print(\"most of the birds can fly but some cannot: \")"
   ]
  },
  {
   "cell_type": "code",
   "execution_count": 47,
   "id": "353e8d94",
   "metadata": {},
   "outputs": [],
   "source": [
    "class sparrow(Bird):\n",
    "    def flight(self):\n",
    "        print(\"sparrow can fly :\")"
   ]
  },
  {
   "cell_type": "code",
   "execution_count": 48,
   "id": "9f831f4e",
   "metadata": {},
   "outputs": [],
   "source": [
    "class ostrich(Bird):\n",
    "    def flight(self):\n",
    "        print(\"ostrich cannot fly :\")"
   ]
  },
  {
   "cell_type": "code",
   "execution_count": 49,
   "id": "eb5d743d",
   "metadata": {},
   "outputs": [],
   "source": [
    "obj = Bird()\n",
    "obj1 = sparrow()\n",
    "obj2 = ostrich()"
   ]
  },
  {
   "cell_type": "code",
   "execution_count": 50,
   "id": "bd576d75",
   "metadata": {},
   "outputs": [
    {
     "name": "stdout",
     "output_type": "stream",
     "text": [
      "most of the birds can fly but some cannot: \n"
     ]
    }
   ],
   "source": [
    "obj.flight()"
   ]
  },
  {
   "cell_type": "code",
   "execution_count": 51,
   "id": "20dd11d8",
   "metadata": {},
   "outputs": [
    {
     "name": "stdout",
     "output_type": "stream",
     "text": [
      "sparrow can fly :\n"
     ]
    }
   ],
   "source": [
    "obj1.flight()"
   ]
  },
  {
   "cell_type": "code",
   "execution_count": 52,
   "id": "b8eb3b25",
   "metadata": {},
   "outputs": [
    {
     "name": "stdout",
     "output_type": "stream",
     "text": [
      "ostrich cannot fly :\n"
     ]
    }
   ],
   "source": [
    "obj2.flight()"
   ]
  },
  {
   "cell_type": "code",
   "execution_count": 53,
   "id": "0fc4d1fe",
   "metadata": {},
   "outputs": [
    {
     "name": "stdout",
     "output_type": "stream",
     "text": [
      "there are many types of birds: \n"
     ]
    }
   ],
   "source": [
    "obj.intro()"
   ]
  },
  {
   "cell_type": "markdown",
   "id": "81b2f6fc",
   "metadata": {},
   "source": [
    "# Encapsulation \n"
   ]
  },
  {
   "cell_type": "code",
   "execution_count": 1,
   "id": "9873c383",
   "metadata": {},
   "outputs": [],
   "source": [
    "# demonstrate private members\n",
    "class Base:\n",
    "    def __init__(self):\n",
    "        self.a = 'manjunath kannur'\n",
    "        self.__c = 'yarazari'"
   ]
  },
  {
   "cell_type": "code",
   "execution_count": 3,
   "id": "affa00f0",
   "metadata": {},
   "outputs": [],
   "source": [
    "class Derived(Base):\n",
    "    \n",
    "    def __init__(self):\n",
    "        #Base class\n",
    "        Base.__init__(self)\n",
    "        print(\"calling private memeber of base class :\")\n",
    "        print(self.__c)"
   ]
  },
  {
   "cell_type": "code",
   "execution_count": 4,
   "id": "b70a2e6b",
   "metadata": {},
   "outputs": [],
   "source": [
    "obj = Base()"
   ]
  },
  {
   "cell_type": "code",
   "execution_count": 5,
   "id": "5e19b30c",
   "metadata": {},
   "outputs": [
    {
     "data": {
      "text/plain": [
       "'manjunath kannur'"
      ]
     },
     "execution_count": 5,
     "metadata": {},
     "output_type": "execute_result"
    }
   ],
   "source": [
    "obj.a"
   ]
  },
  {
   "cell_type": "code",
   "execution_count": 7,
   "id": "ba062629",
   "metadata": {},
   "outputs": [
    {
     "ename": "AttributeError",
     "evalue": "'Base' object has no attribute 'c'",
     "output_type": "error",
     "traceback": [
      "\u001b[1;31m---------------------------------------------------------------------------\u001b[0m",
      "\u001b[1;31mAttributeError\u001b[0m                            Traceback (most recent call last)",
      "\u001b[1;32m~\\AppData\\Local\\Temp/ipykernel_7152/2970118778.py\u001b[0m in \u001b[0;36m<module>\u001b[1;34m\u001b[0m\n\u001b[1;32m----> 1\u001b[1;33m \u001b[0mobj\u001b[0m\u001b[1;33m.\u001b[0m\u001b[0mc\u001b[0m\u001b[1;33m\u001b[0m\u001b[1;33m\u001b[0m\u001b[0m\n\u001b[0m",
      "\u001b[1;31mAttributeError\u001b[0m: 'Base' object has no attribute 'c'"
     ]
    }
   ],
   "source": [
    "obj.c"
   ]
  },
  {
   "cell_type": "markdown",
   "id": "02273c12",
   "metadata": {},
   "source": [
    "# object oriented programming in python | set 2 (data hiding and object printin)"
   ]
  },
  {
   "cell_type": "markdown",
   "id": "af8222e0",
   "metadata": {},
   "source": [
    "# Data Hiding or (__)\n"
   ]
  },
  {
   "cell_type": "code",
   "execution_count": 8,
   "id": "6049f001",
   "metadata": {},
   "outputs": [],
   "source": [
    "class MyClass:\n",
    "    __hiddenVariable = 0 # hidden member of the class\n",
    "    \n",
    "    def add(self,incrment):\n",
    "        self.__hiddenVariable += incrment\n",
    "        print(self.__hiddenVariable)\n",
    "    "
   ]
  },
  {
   "cell_type": "code",
   "execution_count": 10,
   "id": "22b8ca01",
   "metadata": {},
   "outputs": [],
   "source": [
    "myobject = MyClass()"
   ]
  },
  {
   "cell_type": "code",
   "execution_count": 11,
   "id": "d06c1224",
   "metadata": {},
   "outputs": [
    {
     "name": "stdout",
     "output_type": "stream",
     "text": [
      "2\n"
     ]
    }
   ],
   "source": [
    "myobject.add(2)"
   ]
  },
  {
   "cell_type": "code",
   "execution_count": 12,
   "id": "6396f4d7",
   "metadata": {},
   "outputs": [
    {
     "ename": "AttributeError",
     "evalue": "'MyClass' object has no attribute '__hiddenVariable'",
     "output_type": "error",
     "traceback": [
      "\u001b[1;31m---------------------------------------------------------------------------\u001b[0m",
      "\u001b[1;31mAttributeError\u001b[0m                            Traceback (most recent call last)",
      "\u001b[1;32m~\\AppData\\Local\\Temp/ipykernel_7152/476571176.py\u001b[0m in \u001b[0;36m<module>\u001b[1;34m\u001b[0m\n\u001b[1;32m----> 1\u001b[1;33m \u001b[0mmyobject\u001b[0m\u001b[1;33m.\u001b[0m\u001b[0m__hiddenVariable\u001b[0m\u001b[1;33m\u001b[0m\u001b[1;33m\u001b[0m\u001b[0m\n\u001b[0m",
      "\u001b[1;31mAttributeError\u001b[0m: 'MyClass' object has no attribute '__hiddenVariable'"
     ]
    }
   ],
   "source": [
    "myobject.__hiddenVariable"
   ]
  },
  {
   "cell_type": "code",
   "execution_count": 13,
   "id": "c8130df4",
   "metadata": {},
   "outputs": [],
   "source": [
    "class Myclass:\n",
    "    __hiddenvariable = 10"
   ]
  },
  {
   "cell_type": "code",
   "execution_count": 14,
   "id": "653c7b52",
   "metadata": {},
   "outputs": [],
   "source": [
    "myobject = Myclass()"
   ]
  },
  {
   "cell_type": "code",
   "execution_count": 15,
   "id": "bf5d7989",
   "metadata": {},
   "outputs": [
    {
     "data": {
      "text/plain": [
       "10"
      ]
     },
     "execution_count": 15,
     "metadata": {},
     "output_type": "execute_result"
    }
   ],
   "source": [
    "myobject._Myclass__hiddenvariable"
   ]
  },
  {
   "cell_type": "markdown",
   "id": "d2f7c83e",
   "metadata": {},
   "source": [
    "# printing objects"
   ]
  },
  {
   "cell_type": "code",
   "execution_count": 20,
   "id": "7c8310b4",
   "metadata": {},
   "outputs": [],
   "source": [
    "class Test:\n",
    "    def __init__(self,a,b):\n",
    "        self.a = a\n",
    "        self.b = b\n",
    "    def __repr__(self):\n",
    "        return \"test a %s b: %s\" % (self.a, self.b)\n",
    "    def __str__(self):\n",
    "        return \"from str method of test: a is %s and  b %s \"%(self.a,self.b)"
   ]
  },
  {
   "cell_type": "code",
   "execution_count": 21,
   "id": "fc8b887c",
   "metadata": {},
   "outputs": [],
   "source": [
    "t = Test(10,20)"
   ]
  },
  {
   "cell_type": "code",
   "execution_count": 22,
   "id": "4e7d35d9",
   "metadata": {},
   "outputs": [
    {
     "data": {
      "text/plain": [
       "test a 10 b: 20"
      ]
     },
     "execution_count": 22,
     "metadata": {},
     "output_type": "execute_result"
    }
   ],
   "source": [
    "t"
   ]
  },
  {
   "cell_type": "code",
   "execution_count": 23,
   "id": "faeaf809",
   "metadata": {},
   "outputs": [
    {
     "name": "stdout",
     "output_type": "stream",
     "text": [
      "from str method of test: a is 10 and  b 20 \n",
      "[test a 10 b: 20]\n"
     ]
    }
   ],
   "source": [
    "print(t)\n",
    "print([t])"
   ]
  },
  {
   "cell_type": "code",
   "execution_count": 24,
   "id": "2db3aad8",
   "metadata": {},
   "outputs": [],
   "source": [
    "class Test:\n",
    "    def __init__(self,a,b):\n",
    "        self.a = a\n",
    "        self.b = b\n",
    "    def __repr__(self):\n",
    "        return \"test a:%s b:%s\"%(self.a,self.b)"
   ]
  },
  {
   "cell_type": "code",
   "execution_count": 25,
   "id": "7f98f2d5",
   "metadata": {},
   "outputs": [],
   "source": [
    "t = Test(10,20)"
   ]
  },
  {
   "cell_type": "code",
   "execution_count": 26,
   "id": "b56a1b72",
   "metadata": {},
   "outputs": [
    {
     "name": "stdout",
     "output_type": "stream",
     "text": [
      "test a:10 b:20\n",
      "[test a:10 b:20]\n"
     ]
    }
   ],
   "source": [
    "print(t)\n",
    "print([t])"
   ]
  },
  {
   "cell_type": "code",
   "execution_count": 27,
   "id": "ae9f59f0",
   "metadata": {},
   "outputs": [],
   "source": [
    "class Test:\n",
    "    def __init__(self,a ,b):\n",
    "        self.a = a\n",
    "        self.b = b"
   ]
  },
  {
   "cell_type": "code",
   "execution_count": 28,
   "id": "8a793be5",
   "metadata": {},
   "outputs": [],
   "source": [
    "t = Test(10,20)"
   ]
  },
  {
   "cell_type": "code",
   "execution_count": 29,
   "id": "84ea8ffe",
   "metadata": {},
   "outputs": [
    {
     "data": {
      "text/plain": [
       "<__main__.Test at 0x20ccd8b1970>"
      ]
     },
     "execution_count": 29,
     "metadata": {},
     "output_type": "execute_result"
    }
   ],
   "source": [
    "t"
   ]
  },
  {
   "cell_type": "code",
   "execution_count": 30,
   "id": "d2294383",
   "metadata": {},
   "outputs": [
    {
     "name": "stdout",
     "output_type": "stream",
     "text": [
      "<__main__.Test object at 0x0000020CCD8B1970>\n"
     ]
    }
   ],
   "source": [
    "print(t)"
   ]
  },
  {
   "cell_type": "code",
   "execution_count": 31,
   "id": "ec3c15e8",
   "metadata": {},
   "outputs": [
    {
     "name": "stdout",
     "output_type": "stream",
     "text": [
      "10\n"
     ]
    }
   ],
   "source": [
    "print(t.a)"
   ]
  },
  {
   "cell_type": "code",
   "execution_count": 32,
   "id": "05334ad4",
   "metadata": {},
   "outputs": [
    {
     "name": "stdout",
     "output_type": "stream",
     "text": [
      "20\n"
     ]
    }
   ],
   "source": [
    "print(t.b)"
   ]
  },
  {
   "cell_type": "code",
   "execution_count": 42,
   "id": "801d2710",
   "metadata": {},
   "outputs": [],
   "source": [
    "class Test:\n",
    "    def __init__(self,a,b):\n",
    "        self.a = a\n",
    "        self.b = b\n",
    "    def __repr__(self):\n",
    "        print(\"a:%s b:%s\" %(self.a,self.b))"
   ]
  },
  {
   "cell_type": "code",
   "execution_count": 43,
   "id": "66e823d2",
   "metadata": {},
   "outputs": [],
   "source": [
    "t = Test(10,20)"
   ]
  },
  {
   "cell_type": "code",
   "execution_count": 44,
   "id": "29e99866",
   "metadata": {},
   "outputs": [
    {
     "name": "stdout",
     "output_type": "stream",
     "text": [
      "a:10 b:20\n"
     ]
    },
    {
     "ename": "TypeError",
     "evalue": "__str__ returned non-string (type NoneType)",
     "output_type": "error",
     "traceback": [
      "\u001b[1;31m---------------------------------------------------------------------------\u001b[0m",
      "\u001b[1;31mTypeError\u001b[0m                                 Traceback (most recent call last)",
      "\u001b[1;32m~\\AppData\\Local\\Temp/ipykernel_7152/2058247866.py\u001b[0m in \u001b[0;36m<module>\u001b[1;34m\u001b[0m\n\u001b[1;32m----> 1\u001b[1;33m \u001b[0mprint\u001b[0m\u001b[1;33m(\u001b[0m\u001b[0mt\u001b[0m\u001b[1;33m)\u001b[0m\u001b[1;33m\u001b[0m\u001b[1;33m\u001b[0m\u001b[0m\n\u001b[0m",
      "\u001b[1;31mTypeError\u001b[0m: __str__ returned non-string (type NoneType)"
     ]
    }
   ],
   "source": [
    "print(t)"
   ]
  },
  {
   "cell_type": "code",
   "execution_count": 45,
   "id": "05f3d0c1",
   "metadata": {},
   "outputs": [],
   "source": [
    "class Test:\n",
    "    def __init__(self,a,b):\n",
    "        self.a = a\n",
    "        self.b = b\n",
    "    def show(self):\n",
    "        print(\"test = a:%s b:%s\"%(self.a,self.b))\n",
    "        "
   ]
  },
  {
   "cell_type": "code",
   "execution_count": 47,
   "id": "95951ee4",
   "metadata": {},
   "outputs": [],
   "source": [
    "t = Test(10,20)"
   ]
  },
  {
   "cell_type": "code",
   "execution_count": 48,
   "id": "18e49c9d",
   "metadata": {},
   "outputs": [
    {
     "name": "stdout",
     "output_type": "stream",
     "text": [
      "<__main__.Test object at 0x0000020CCD8B1FA0>\n"
     ]
    }
   ],
   "source": [
    "print(t)"
   ]
  },
  {
   "cell_type": "code",
   "execution_count": 49,
   "id": "43e14b6f",
   "metadata": {},
   "outputs": [
    {
     "name": "stdout",
     "output_type": "stream",
     "text": [
      "test = a:10 b:20\n"
     ]
    }
   ],
   "source": [
    "t.show()"
   ]
  },
  {
   "cell_type": "code",
   "execution_count": 50,
   "id": "4df96f1a",
   "metadata": {},
   "outputs": [],
   "source": [
    "class Test:\n",
    "    def __init__(self,a,b):\n",
    "        self.a =a\n",
    "        self.b =b\n",
    "    def __repr__(self):\n",
    "        print(\"a:%s and b:%s\"%(self.a,self.b))"
   ]
  },
  {
   "cell_type": "code",
   "execution_count": 51,
   "id": "6afdf503",
   "metadata": {},
   "outputs": [],
   "source": [
    "t = Test(10,20)"
   ]
  },
  {
   "cell_type": "code",
   "execution_count": 52,
   "id": "79c75eb8",
   "metadata": {},
   "outputs": [
    {
     "name": "stdout",
     "output_type": "stream",
     "text": [
      "a:10 and b:20\n"
     ]
    },
    {
     "ename": "TypeError",
     "evalue": "__str__ returned non-string (type NoneType)",
     "output_type": "error",
     "traceback": [
      "\u001b[1;31m---------------------------------------------------------------------------\u001b[0m",
      "\u001b[1;31mTypeError\u001b[0m                                 Traceback (most recent call last)",
      "\u001b[1;32m~\\AppData\\Local\\Temp/ipykernel_7152/2058247866.py\u001b[0m in \u001b[0;36m<module>\u001b[1;34m\u001b[0m\n\u001b[1;32m----> 1\u001b[1;33m \u001b[0mprint\u001b[0m\u001b[1;33m(\u001b[0m\u001b[0mt\u001b[0m\u001b[1;33m)\u001b[0m\u001b[1;33m\u001b[0m\u001b[1;33m\u001b[0m\u001b[0m\n\u001b[0m",
      "\u001b[1;31mTypeError\u001b[0m: __str__ returned non-string (type NoneType)"
     ]
    }
   ],
   "source": [
    "print(t)"
   ]
  },
  {
   "cell_type": "code",
   "execution_count": 53,
   "id": "800427cb",
   "metadata": {},
   "outputs": [],
   "source": [
    "class Person(object):\n",
    "    def __init__(self,name):\n",
    "        self.name = name\n",
    "        \n",
    "    def getname(self):\n",
    "        return self.name\n",
    "    \n",
    "    def isemp(self):\n",
    "        return False"
   ]
  },
  {
   "cell_type": "code",
   "execution_count": 54,
   "id": "4cd5712a",
   "metadata": {},
   "outputs": [],
   "source": [
    "class Emp(Person):\n",
    "    def isemp(self):\n",
    "        return True"
   ]
  },
  {
   "cell_type": "code",
   "execution_count": 55,
   "id": "845773b2",
   "metadata": {},
   "outputs": [
    {
     "name": "stdout",
     "output_type": "stream",
     "text": [
      "manjunath\n"
     ]
    }
   ],
   "source": [
    "emp = Person('manjunath')\n",
    "print(emp.getname())"
   ]
  },
  {
   "cell_type": "code",
   "execution_count": 56,
   "id": "632fd6fb",
   "metadata": {},
   "outputs": [
    {
     "data": {
      "text/plain": [
       "False"
      ]
     },
     "execution_count": 56,
     "metadata": {},
     "output_type": "execute_result"
    }
   ],
   "source": [
    "emp.isemp()"
   ]
  },
  {
   "cell_type": "code",
   "execution_count": 57,
   "id": "55ce1558",
   "metadata": {},
   "outputs": [],
   "source": [
    "emp2 = Emp('kannur')"
   ]
  },
  {
   "cell_type": "code",
   "execution_count": 58,
   "id": "655b8589",
   "metadata": {},
   "outputs": [
    {
     "name": "stdout",
     "output_type": "stream",
     "text": [
      "kannur\n"
     ]
    }
   ],
   "source": [
    "print(emp2.getname())"
   ]
  },
  {
   "cell_type": "code",
   "execution_count": 59,
   "id": "db43832b",
   "metadata": {},
   "outputs": [
    {
     "data": {
      "text/plain": [
       "True"
      ]
     },
     "execution_count": 59,
     "metadata": {},
     "output_type": "execute_result"
    }
   ],
   "source": [
    "emp2.isemp()"
   ]
  },
  {
   "cell_type": "code",
   "execution_count": 60,
   "id": "7510e500",
   "metadata": {},
   "outputs": [],
   "source": [
    "class Base(object):\n",
    "    pass\n",
    "class Derived(Base):\n",
    "    pass"
   ]
  },
  {
   "cell_type": "code",
   "execution_count": 61,
   "id": "63f02379",
   "metadata": {},
   "outputs": [
    {
     "name": "stdout",
     "output_type": "stream",
     "text": [
      "True\n",
      "False\n"
     ]
    }
   ],
   "source": [
    "print(issubclass(Derived,Base))\n",
    "print(issubclass(Base,Derived))"
   ]
  },
  {
   "cell_type": "code",
   "execution_count": 62,
   "id": "004c88ed",
   "metadata": {},
   "outputs": [],
   "source": [
    "d = Derived()"
   ]
  },
  {
   "cell_type": "code",
   "execution_count": 63,
   "id": "e4f563fe",
   "metadata": {},
   "outputs": [],
   "source": [
    "b = Base()"
   ]
  },
  {
   "cell_type": "code",
   "execution_count": 64,
   "id": "e7a5653c",
   "metadata": {},
   "outputs": [
    {
     "name": "stdout",
     "output_type": "stream",
     "text": [
      "False\n"
     ]
    }
   ],
   "source": [
    "print(isinstance(b,Derived))"
   ]
  },
  {
   "cell_type": "code",
   "execution_count": 65,
   "id": "9a19df70",
   "metadata": {},
   "outputs": [
    {
     "name": "stdout",
     "output_type": "stream",
     "text": [
      "True\n"
     ]
    }
   ],
   "source": [
    "print(isinstance(b,Base))"
   ]
  },
  {
   "cell_type": "code",
   "execution_count": 81,
   "id": "d0ea9a2f",
   "metadata": {},
   "outputs": [],
   "source": [
    "class Base1(object):\n",
    "    def __init__(self):\n",
    "        self.str1 = \"yarazari\"\n",
    "        print(\"base1\")\n"
   ]
  },
  {
   "cell_type": "code",
   "execution_count": 82,
   "id": "c13439d1",
   "metadata": {},
   "outputs": [],
   "source": [
    "class Base2(object):\n",
    "    def __init__(self):\n",
    "        self.str2 = \"kannur\"\n",
    "        print(\"Base2\")"
   ]
  },
  {
   "cell_type": "code",
   "execution_count": 88,
   "id": "b8be0473",
   "metadata": {},
   "outputs": [],
   "source": [
    "class Derived(Base1,Base2):\n",
    "    def __init__(self):\n",
    "        Base1.__init__(self)\n",
    "        Base2.__init__(self)\n",
    "        print(\"Derived..!\")\n",
    "    def printstr(self):\n",
    "        print(\"base1 %s and Base2 %s \"%(self.str1,self.str2))\n",
    "    def __repr__(self):\n",
    "        print(\"base1 %s and base2 %s\"%(self.str1,self.str2))"
   ]
  },
  {
   "cell_type": "code",
   "execution_count": 89,
   "id": "3e65a5d6",
   "metadata": {},
   "outputs": [
    {
     "name": "stdout",
     "output_type": "stream",
     "text": [
      "base\n",
      "Base2\n",
      "Derived..!\n"
     ]
    }
   ],
   "source": [
    "obj = Derived()"
   ]
  },
  {
   "cell_type": "code",
   "execution_count": 90,
   "id": "a2f4aa6f",
   "metadata": {},
   "outputs": [
    {
     "name": "stdout",
     "output_type": "stream",
     "text": [
      "base1 yarazari and Base2 kannur \n"
     ]
    }
   ],
   "source": [
    "obj.printstr()"
   ]
  },
  {
   "cell_type": "code",
   "execution_count": 91,
   "id": "5874a638",
   "metadata": {},
   "outputs": [],
   "source": [
    "class Base(object):\n",
    "    def __init__(self,x):\n",
    "        self.x = x\n",
    "class Derived(Base):\n",
    "    def __init__(self,x,y):\n",
    "        Base.x = x\n",
    "        self.y =y\n",
    "    def printxy(self):\n",
    "        print(Base.x ,self.y)\n"
   ]
  },
  {
   "cell_type": "code",
   "execution_count": 92,
   "id": "6163adb9",
   "metadata": {},
   "outputs": [],
   "source": [
    "d = Derived(10,20)"
   ]
  },
  {
   "cell_type": "code",
   "execution_count": 93,
   "id": "359ee241",
   "metadata": {},
   "outputs": [
    {
     "name": "stdout",
     "output_type": "stream",
     "text": [
      "10 20\n"
     ]
    }
   ],
   "source": [
    "d.printxy()"
   ]
  },
  {
   "cell_type": "code",
   "execution_count": 94,
   "id": "56ac8cd9",
   "metadata": {},
   "outputs": [],
   "source": [
    "class Base(object):\n",
    "    def __init__(self,x):\n",
    "        self.x = x\n",
    "        "
   ]
  },
  {
   "cell_type": "code",
   "execution_count": 96,
   "id": "0302e024",
   "metadata": {},
   "outputs": [],
   "source": [
    "class Derived(Base):\n",
    "    def __init__(self,x,y):\n",
    "        super(Derived,self).__init__(x)\n",
    "        self.y = y\n",
    "    def printxy(self):\n",
    "        print(self.x , self.y)"
   ]
  },
  {
   "cell_type": "code",
   "execution_count": 97,
   "id": "fbf46409",
   "metadata": {},
   "outputs": [],
   "source": [
    "d = Derived(10,20)"
   ]
  },
  {
   "cell_type": "code",
   "execution_count": 98,
   "id": "e324cef9",
   "metadata": {},
   "outputs": [
    {
     "data": {
      "text/plain": [
       "<__main__.Derived at 0x20ccd9ae760>"
      ]
     },
     "execution_count": 98,
     "metadata": {},
     "output_type": "execute_result"
    }
   ],
   "source": [
    "d"
   ]
  },
  {
   "cell_type": "code",
   "execution_count": 99,
   "id": "3b8ac485",
   "metadata": {},
   "outputs": [
    {
     "name": "stdout",
     "output_type": "stream",
     "text": [
      "10 20\n"
     ]
    }
   ],
   "source": [
    "d.printxy()"
   ]
  },
  {
   "cell_type": "code",
   "execution_count": 100,
   "id": "b8e21e6f",
   "metadata": {},
   "outputs": [],
   "source": [
    "class x(object):\n",
    "    def __init__(self,a):\n",
    "        self.num =a\n",
    "    def double(self):\n",
    "        self.num *=2\n",
    "        "
   ]
  },
  {
   "cell_type": "code",
   "execution_count": 101,
   "id": "ddcb10c8",
   "metadata": {},
   "outputs": [],
   "source": [
    "class y(x):\n",
    "    def __init__(self,a):\n",
    "        x.__init__(self,a)\n",
    "    def triple(self):\n",
    "        self.num *=3\n",
    "    "
   ]
  },
  {
   "cell_type": "code",
   "execution_count": 103,
   "id": "01270d51",
   "metadata": {},
   "outputs": [],
   "source": [
    "obj = y(4)"
   ]
  },
  {
   "cell_type": "code",
   "execution_count": 104,
   "id": "12a7443f",
   "metadata": {},
   "outputs": [],
   "source": [
    "obj.double()"
   ]
  },
  {
   "cell_type": "code",
   "execution_count": 105,
   "id": "4baaf19a",
   "metadata": {},
   "outputs": [
    {
     "data": {
      "text/plain": [
       "8"
      ]
     },
     "execution_count": 105,
     "metadata": {},
     "output_type": "execute_result"
    }
   ],
   "source": [
    "obj.num"
   ]
  },
  {
   "cell_type": "code",
   "execution_count": 106,
   "id": "f14ab7c1",
   "metadata": {},
   "outputs": [],
   "source": [
    "obj.triple()"
   ]
  },
  {
   "cell_type": "markdown",
   "id": "113f7e54",
   "metadata": {},
   "source": [
    "# Polymorphism in python"
   ]
  },
  {
   "cell_type": "code",
   "execution_count": 107,
   "id": "f5bb0431",
   "metadata": {},
   "outputs": [
    {
     "name": "stdout",
     "output_type": "stream",
     "text": [
      "8\n"
     ]
    }
   ],
   "source": [
    "# polyphorism means having many forms\n",
    "# morphic functions\n",
    "print(len('yarazari'))"
   ]
  },
  {
   "cell_type": "code",
   "execution_count": 108,
   "id": "d0469ec9",
   "metadata": {},
   "outputs": [
    {
     "name": "stdout",
     "output_type": "stream",
     "text": [
      "10\n"
     ]
    }
   ],
   "source": [
    "print(len([10,20,30,40,50,60,70,80,90,100]))"
   ]
  },
  {
   "cell_type": "code",
   "execution_count": 109,
   "id": "a2df776e",
   "metadata": {},
   "outputs": [],
   "source": [
    "def add(x,y,z=0):\n",
    "    return x+y+z"
   ]
  },
  {
   "cell_type": "code",
   "execution_count": 110,
   "id": "c3820637",
   "metadata": {},
   "outputs": [
    {
     "name": "stdout",
     "output_type": "stream",
     "text": [
      "30\n"
     ]
    }
   ],
   "source": [
    "print(add(10,20))"
   ]
  },
  {
   "cell_type": "code",
   "execution_count": 111,
   "id": "e1d882cd",
   "metadata": {},
   "outputs": [
    {
     "name": "stdout",
     "output_type": "stream",
     "text": [
      "12\n"
     ]
    }
   ],
   "source": [
    "print(add(10,0,2))"
   ]
  },
  {
   "cell_type": "code",
   "execution_count": 123,
   "id": "e256b90d",
   "metadata": {},
   "outputs": [],
   "source": [
    "class India():\n",
    "    def capital(self):\n",
    "        print(\"new delhi is the capital of india: \")\n",
    "    def language(self):\n",
    "        print(\"hindi is the most widely spoken language of india: \")\n",
    "    def type(self):\n",
    "        print(\"india is a developing country: \")"
   ]
  },
  {
   "cell_type": "code",
   "execution_count": 124,
   "id": "92091222",
   "metadata": {},
   "outputs": [],
   "source": [
    "class Uas():\n",
    "    def capital(self):\n",
    "        print(\"washington d.c is the capital of usa: \")\n",
    "    \n",
    "    def language(self):\n",
    "        print(\"english is the primary language of usa :\")\n",
    "    def type(self):\n",
    "        print(\"usa is a Developed country: \")\n",
    "    "
   ]
  },
  {
   "cell_type": "code",
   "execution_count": 125,
   "id": "c94c885a",
   "metadata": {},
   "outputs": [],
   "source": [
    "obj = India()"
   ]
  },
  {
   "cell_type": "code",
   "execution_count": 126,
   "id": "8b962057",
   "metadata": {},
   "outputs": [
    {
     "data": {
      "text/plain": [
       "<__main__.India at 0x20ccd9ae460>"
      ]
     },
     "execution_count": 126,
     "metadata": {},
     "output_type": "execute_result"
    }
   ],
   "source": [
    "obj"
   ]
  },
  {
   "cell_type": "code",
   "execution_count": 127,
   "id": "a8384d0d",
   "metadata": {},
   "outputs": [
    {
     "name": "stdout",
     "output_type": "stream",
     "text": [
      "new delhi is the capital of india: \n"
     ]
    }
   ],
   "source": [
    "obj.capital()"
   ]
  },
  {
   "cell_type": "code",
   "execution_count": 128,
   "id": "308e2cbc",
   "metadata": {},
   "outputs": [],
   "source": [
    "obj_usa = Uas()"
   ]
  },
  {
   "cell_type": "code",
   "execution_count": 129,
   "id": "234ef7e0",
   "metadata": {},
   "outputs": [
    {
     "data": {
      "text/plain": [
       "<__main__.Uas at 0x20ccd8b1a30>"
      ]
     },
     "execution_count": 129,
     "metadata": {},
     "output_type": "execute_result"
    }
   ],
   "source": [
    "obj_usa"
   ]
  },
  {
   "cell_type": "code",
   "execution_count": 130,
   "id": "b31cd4d8",
   "metadata": {},
   "outputs": [
    {
     "name": "stdout",
     "output_type": "stream",
     "text": [
      "usa is a Developed country: \n"
     ]
    }
   ],
   "source": [
    "obj_usa.type()"
   ]
  },
  {
   "cell_type": "code",
   "execution_count": 131,
   "id": "fec8f9e7",
   "metadata": {},
   "outputs": [
    {
     "name": "stdout",
     "output_type": "stream",
     "text": [
      "new delhi is the capital of india: \n",
      "hindi is the most widely spoken language of india: \n",
      "india is a developing country: \n",
      "washington d.c is the capital of usa: \n",
      "english is the primary language of usa :\n",
      "usa is a Developed country: \n"
     ]
    }
   ],
   "source": [
    "for country in (obj,obj_usa):\n",
    "    country.capital()\n",
    "    country.language()\n",
    "    country.type()"
   ]
  },
  {
   "cell_type": "code",
   "execution_count": 132,
   "id": "d5197c15",
   "metadata": {},
   "outputs": [],
   "source": [
    "class Bird:\n",
    "    def intro(self):\n",
    "        print(\"there are many typef of birds: \")\n",
    "    def flight(self):\n",
    "        print(\"most of the birds can fly but some cannot.\")\n",
    "    def sparrow(self):\n",
    "        print(\"sparrow can fly\")"
   ]
  },
  {
   "cell_type": "code",
   "execution_count": 1,
   "id": "6a44fa4b",
   "metadata": {},
   "outputs": [
    {
     "name": "stdout",
     "output_type": "stream",
     "text": [
      "13\n"
     ]
    }
   ],
   "source": [
    "# morphic function\n",
    "print(len('geeksforgeeks'))"
   ]
  },
  {
   "cell_type": "code",
   "execution_count": 2,
   "id": "ec88aaef",
   "metadata": {},
   "outputs": [
    {
     "name": "stdout",
     "output_type": "stream",
     "text": [
      "3\n"
     ]
    }
   ],
   "source": [
    "print(len([10,20,30]))"
   ]
  },
  {
   "cell_type": "code",
   "execution_count": 3,
   "id": "d7c3fe50",
   "metadata": {},
   "outputs": [],
   "source": [
    "# examples of user-defined polymorphic function\n",
    "#polymorphism\n",
    "def add(x,y,z=0):\n",
    "    return x+y+z"
   ]
  },
  {
   "cell_type": "code",
   "execution_count": 4,
   "id": "7d7ee63e",
   "metadata": {},
   "outputs": [
    {
     "data": {
      "text/plain": [
       "30"
      ]
     },
     "execution_count": 4,
     "metadata": {},
     "output_type": "execute_result"
    }
   ],
   "source": [
    "add(10,20)"
   ]
  },
  {
   "cell_type": "code",
   "execution_count": 5,
   "id": "4a83fba6",
   "metadata": {},
   "outputs": [
    {
     "data": {
      "text/plain": [
       "60"
      ]
     },
     "execution_count": 5,
     "metadata": {},
     "output_type": "execute_result"
    }
   ],
   "source": [
    "add(10,20,30)"
   ]
  },
  {
   "cell_type": "code",
   "execution_count": 6,
   "id": "62cdacae",
   "metadata": {},
   "outputs": [],
   "source": [
    "class India():\n",
    "    def capital(self):\n",
    "        print(\"new delhi is the  capital of india: \")\n",
    "    def language(self):\n",
    "        print(\"hindi is the most widely spoken language of india: \")\n",
    "    def type(self):\n",
    "        print(\"india is a developing country: \")\n",
    "    "
   ]
  },
  {
   "cell_type": "code",
   "execution_count": 7,
   "id": "72275ba2",
   "metadata": {},
   "outputs": [],
   "source": [
    "class Usa():\n",
    "    def capital(self):\n",
    "        print(\"washington d.c is the capital of usa.\")\n",
    "    def language(self):\n",
    "        print(\"english is the primary language of usa: \")\n",
    "    def type(self):\n",
    "        print(\"usa is a developed country: \")"
   ]
  },
  {
   "cell_type": "code",
   "execution_count": 8,
   "id": "fd3ba922",
   "metadata": {},
   "outputs": [],
   "source": [
    "obj_india = India()\n",
    "obj_usa = Usa()"
   ]
  },
  {
   "cell_type": "code",
   "execution_count": 10,
   "id": "79687545",
   "metadata": {},
   "outputs": [
    {
     "name": "stdout",
     "output_type": "stream",
     "text": [
      "new delhi is the  capital of india: \n",
      "hindi is the most widely spoken language of india: \n",
      "india is a developing country: \n",
      "washington d.c is the capital of usa.\n",
      "english is the primary language of usa: \n",
      "usa is a developed country: \n"
     ]
    }
   ],
   "source": [
    "for country in (obj_india,obj_usa):\n",
    "    country.capital()\n",
    "    country.language()\n",
    "    country.type()"
   ]
  },
  {
   "cell_type": "code",
   "execution_count": 11,
   "id": "a78ea442",
   "metadata": {},
   "outputs": [],
   "source": [
    "# polymorphism with inheritance\n",
    "# method overriding()\n",
    "class bird:\n",
    "    def intro(self):\n",
    "        print(\"there are many types of birds: \")\n",
    "    def flight(self):\n",
    "        print(\"most of the birds can fly but some cannot.\")\n",
    "        "
   ]
  },
  {
   "cell_type": "code",
   "execution_count": 12,
   "id": "8ae707be",
   "metadata": {},
   "outputs": [],
   "source": [
    "class sparrow(bird):\n",
    "    def flight(self):\n",
    "        print(\"sparrows can fly.\")\n",
    "        "
   ]
  },
  {
   "cell_type": "code",
   "execution_count": 13,
   "id": "f38bddc2",
   "metadata": {},
   "outputs": [],
   "source": [
    "class ostrich(bird):\n",
    "    def flight(self):\n",
    "        print(\"ostrich cannot fly.\")"
   ]
  },
  {
   "cell_type": "code",
   "execution_count": 14,
   "id": "9307c769",
   "metadata": {},
   "outputs": [],
   "source": [
    "obj_bird = bird()\n",
    "obj_sparrow = sparrow()\n",
    "obj_ostrich = ostrich()"
   ]
  },
  {
   "cell_type": "code",
   "execution_count": 15,
   "id": "10e0c014",
   "metadata": {},
   "outputs": [
    {
     "name": "stdout",
     "output_type": "stream",
     "text": [
      "there are many types of birds: \n",
      "there are many types of birds: \n"
     ]
    }
   ],
   "source": [
    "obj_bird.intro()\n",
    "obj_bird.intro()"
   ]
  },
  {
   "cell_type": "code",
   "execution_count": 16,
   "id": "fc2647f5",
   "metadata": {},
   "outputs": [
    {
     "name": "stdout",
     "output_type": "stream",
     "text": [
      "there are many types of birds: \n",
      "sparrows can fly.\n"
     ]
    }
   ],
   "source": [
    "obj_sparrow.intro()\n",
    "obj_sparrow.flight()"
   ]
  },
  {
   "cell_type": "code",
   "execution_count": 17,
   "id": "b269ec44",
   "metadata": {},
   "outputs": [
    {
     "name": "stdout",
     "output_type": "stream",
     "text": [
      "there are many types of birds: \n",
      "ostrich cannot fly.\n"
     ]
    }
   ],
   "source": [
    "obj_ostrich.intro()\n",
    "obj_ostrich.flight()"
   ]
  },
  {
   "cell_type": "code",
   "execution_count": 18,
   "id": "7a8ceca8",
   "metadata": {},
   "outputs": [],
   "source": [
    "def func(obj):\n",
    "    obj.capital()\n",
    "    obj.language()\n",
    "    obj.type()"
   ]
  },
  {
   "cell_type": "code",
   "execution_count": 19,
   "id": "af50e789",
   "metadata": {},
   "outputs": [],
   "source": [
    "obj_ind = India()"
   ]
  },
  {
   "cell_type": "code",
   "execution_count": 20,
   "id": "16dabd05",
   "metadata": {},
   "outputs": [],
   "source": [
    "obj_usa = Usa()"
   ]
  },
  {
   "cell_type": "code",
   "execution_count": 21,
   "id": "9bddfc0c",
   "metadata": {},
   "outputs": [
    {
     "name": "stdout",
     "output_type": "stream",
     "text": [
      "new delhi is the  capital of india: \n",
      "hindi is the most widely spoken language of india: \n",
      "india is a developing country: \n"
     ]
    }
   ],
   "source": [
    "func(obj_ind)"
   ]
  },
  {
   "cell_type": "code",
   "execution_count": 22,
   "id": "5e76acbf",
   "metadata": {},
   "outputs": [
    {
     "name": "stdout",
     "output_type": "stream",
     "text": [
      "washington d.c is the capital of usa.\n",
      "english is the primary language of usa: \n",
      "usa is a developed country: \n"
     ]
    }
   ],
   "source": [
    "func(obj_usa)"
   ]
  },
  {
   "cell_type": "code",
   "execution_count": 23,
   "id": "9b8fe431",
   "metadata": {},
   "outputs": [],
   "source": [
    "# class for computer science student\n",
    "class csstudent:\n",
    "    stream = 'cs' # class variable \n",
    "    def __init__(self,name,roll):\n",
    "        self.name = name # instance variable\n",
    "        self.roll = roll\n",
    "        "
   ]
  },
  {
   "cell_type": "code",
   "execution_count": 27,
   "id": "f6839e3c",
   "metadata": {},
   "outputs": [],
   "source": [
    "a = csstudent('manjunath',10)\n",
    "b = csstudent('kannur',20)"
   ]
  },
  {
   "cell_type": "code",
   "execution_count": 28,
   "id": "3d2b3025",
   "metadata": {},
   "outputs": [
    {
     "data": {
      "text/plain": [
       "'cs'"
      ]
     },
     "execution_count": 28,
     "metadata": {},
     "output_type": "execute_result"
    }
   ],
   "source": [
    "a.stream"
   ]
  },
  {
   "cell_type": "code",
   "execution_count": 29,
   "id": "bb551a4d",
   "metadata": {},
   "outputs": [
    {
     "data": {
      "text/plain": [
       "'manjunath'"
      ]
     },
     "execution_count": 29,
     "metadata": {},
     "output_type": "execute_result"
    }
   ],
   "source": [
    "a.name"
   ]
  },
  {
   "cell_type": "code",
   "execution_count": 30,
   "id": "c43fef40",
   "metadata": {},
   "outputs": [
    {
     "data": {
      "text/plain": [
       "'cs'"
      ]
     },
     "execution_count": 30,
     "metadata": {},
     "output_type": "execute_result"
    }
   ],
   "source": [
    "b.stream"
   ]
  },
  {
   "cell_type": "code",
   "execution_count": 31,
   "id": "9c593625",
   "metadata": {},
   "outputs": [
    {
     "data": {
      "text/plain": [
       "'kannur'"
      ]
     },
     "execution_count": 31,
     "metadata": {},
     "output_type": "execute_result"
    }
   ],
   "source": [
    "b.name"
   ]
  },
  {
   "cell_type": "code",
   "execution_count": 32,
   "id": "2bc92db5",
   "metadata": {},
   "outputs": [
    {
     "name": "stdout",
     "output_type": "stream",
     "text": [
      "manjunath\n"
     ]
    }
   ],
   "source": [
    "print(a.name)"
   ]
  },
  {
   "cell_type": "code",
   "execution_count": 33,
   "id": "3365dd9d",
   "metadata": {},
   "outputs": [
    {
     "name": "stdout",
     "output_type": "stream",
     "text": [
      "cs\n"
     ]
    }
   ],
   "source": [
    "print(b.stream)"
   ]
  },
  {
   "cell_type": "code",
   "execution_count": 35,
   "id": "4bc57f5e",
   "metadata": {},
   "outputs": [
    {
     "name": "stdout",
     "output_type": "stream",
     "text": [
      "cs\n"
     ]
    }
   ],
   "source": [
    "print(csstudent.stream)"
   ]
  },
  {
   "cell_type": "code",
   "execution_count": 36,
   "id": "d6a8a8d8",
   "metadata": {},
   "outputs": [
    {
     "data": {
      "text/plain": [
       "'cs'"
      ]
     },
     "execution_count": 36,
     "metadata": {},
     "output_type": "execute_result"
    }
   ],
   "source": [
    "a.__class__.stream"
   ]
  },
  {
   "cell_type": "code",
   "execution_count": 37,
   "id": "ab587d27",
   "metadata": {},
   "outputs": [
    {
     "name": "stdout",
     "output_type": "stream",
     "text": [
      "cs\n"
     ]
    }
   ],
   "source": [
    "print(csstudent.stream)"
   ]
  },
  {
   "cell_type": "code",
   "execution_count": 38,
   "id": "039920ab",
   "metadata": {},
   "outputs": [
    {
     "name": "stdout",
     "output_type": "stream",
     "text": [
      "cs\n"
     ]
    }
   ],
   "source": [
    "print(a.stream)"
   ]
  },
  {
   "cell_type": "code",
   "execution_count": 39,
   "id": "fed8ff17",
   "metadata": {},
   "outputs": [
    {
     "name": "stdout",
     "output_type": "stream",
     "text": [
      "manjunath\n"
     ]
    }
   ],
   "source": [
    "print(a.name)"
   ]
  },
  {
   "cell_type": "code",
   "execution_count": 40,
   "id": "3f88968e",
   "metadata": {},
   "outputs": [
    {
     "name": "stdout",
     "output_type": "stream",
     "text": [
      "kannur\n"
     ]
    }
   ],
   "source": [
    "print(b.name)"
   ]
  },
  {
   "cell_type": "code",
   "execution_count": 41,
   "id": "181b4515",
   "metadata": {},
   "outputs": [],
   "source": [
    "class student:\n",
    "    stream = 'cs'\n",
    "    def __init__(self,name, roll):\n",
    "        self.name = name\n",
    "        self.roll = roll"
   ]
  },
  {
   "cell_type": "code",
   "execution_count": 43,
   "id": "5621eacb",
   "metadata": {},
   "outputs": [],
   "source": [
    "a = student('manjunath', 20)"
   ]
  },
  {
   "cell_type": "code",
   "execution_count": 44,
   "id": "ac53cdfa",
   "metadata": {},
   "outputs": [
    {
     "data": {
      "text/plain": [
       "<__main__.student at 0x1b99a5ab3d0>"
      ]
     },
     "execution_count": 44,
     "metadata": {},
     "output_type": "execute_result"
    }
   ],
   "source": [
    "a"
   ]
  },
  {
   "cell_type": "code",
   "execution_count": 45,
   "id": "9eb8a97f",
   "metadata": {},
   "outputs": [],
   "source": [
    "b = student('kannur',30)"
   ]
  },
  {
   "cell_type": "code",
   "execution_count": 46,
   "id": "e3a85133",
   "metadata": {},
   "outputs": [
    {
     "data": {
      "text/plain": [
       "'cs'"
      ]
     },
     "execution_count": 46,
     "metadata": {},
     "output_type": "execute_result"
    }
   ],
   "source": [
    "a.stream"
   ]
  },
  {
   "cell_type": "code",
   "execution_count": 47,
   "id": "e8f114e5",
   "metadata": {},
   "outputs": [
    {
     "data": {
      "text/plain": [
       "'manjunath'"
      ]
     },
     "execution_count": 47,
     "metadata": {},
     "output_type": "execute_result"
    }
   ],
   "source": [
    "a.name"
   ]
  },
  {
   "cell_type": "code",
   "execution_count": 48,
   "id": "d0c6625f",
   "metadata": {},
   "outputs": [
    {
     "data": {
      "text/plain": [
       "20"
      ]
     },
     "execution_count": 48,
     "metadata": {},
     "output_type": "execute_result"
    }
   ],
   "source": [
    "a.roll"
   ]
  },
  {
   "cell_type": "code",
   "execution_count": 49,
   "id": "ce22fb4a",
   "metadata": {},
   "outputs": [
    {
     "data": {
      "text/plain": [
       "'kannur'"
      ]
     },
     "execution_count": 49,
     "metadata": {},
     "output_type": "execute_result"
    }
   ],
   "source": [
    "b.name"
   ]
  },
  {
   "cell_type": "code",
   "execution_count": 50,
   "id": "38db96af",
   "metadata": {},
   "outputs": [
    {
     "data": {
      "text/plain": [
       "30"
      ]
     },
     "execution_count": 50,
     "metadata": {},
     "output_type": "execute_result"
    }
   ],
   "source": [
    "b.roll"
   ]
  },
  {
   "cell_type": "code",
   "execution_count": 51,
   "id": "162f0a34",
   "metadata": {},
   "outputs": [
    {
     "name": "stdout",
     "output_type": "stream",
     "text": [
      "initially:\n",
      "a.strem =  cs\n"
     ]
    }
   ],
   "source": [
    "print(\"initially:\")\n",
    "print(\"a.strem = \",a.stream)"
   ]
  },
  {
   "cell_type": "code",
   "execution_count": 52,
   "id": "d1e92e68",
   "metadata": {},
   "outputs": [
    {
     "name": "stdout",
     "output_type": "stream",
     "text": [
      "b.stream =  cs\n"
     ]
    }
   ],
   "source": [
    "print(\"b.stream = \",b.stream)"
   ]
  },
  {
   "cell_type": "code",
   "execution_count": 53,
   "id": "fd81e310",
   "metadata": {},
   "outputs": [],
   "source": [
    "a.stream = 'ece'"
   ]
  },
  {
   "cell_type": "code",
   "execution_count": 54,
   "id": "fec436a4",
   "metadata": {},
   "outputs": [
    {
     "data": {
      "text/plain": [
       "'ece'"
      ]
     },
     "execution_count": 54,
     "metadata": {},
     "output_type": "execute_result"
    }
   ],
   "source": [
    "a.stream"
   ]
  },
  {
   "cell_type": "code",
   "execution_count": 55,
   "id": "1e36a959",
   "metadata": {},
   "outputs": [
    {
     "name": "stdout",
     "output_type": "stream",
     "text": [
      "after change stream: \n",
      "a.stream =  ece\n",
      "b.stream =  cs\n"
     ]
    }
   ],
   "source": [
    "print(\"after change stream: \")\n",
    "print(\"a.stream = \",a.stream)\n",
    "print(\"b.stream = \",b.stream)"
   ]
  },
  {
   "cell_type": "code",
   "execution_count": 56,
   "id": "49813a99",
   "metadata": {},
   "outputs": [],
   "source": [
    "class csstudent:\n",
    "    stream  = 'cs'\n",
    "    def __init__(self,name,roll):\n",
    "        self.name = name\n",
    "        self.roll = roll\n",
    "        "
   ]
  },
  {
   "cell_type": "code",
   "execution_count": 57,
   "id": "39fcb2a5",
   "metadata": {},
   "outputs": [],
   "source": [
    "a = csstudent('check',25)"
   ]
  },
  {
   "cell_type": "code",
   "execution_count": 58,
   "id": "4be46419",
   "metadata": {},
   "outputs": [
    {
     "name": "stdout",
     "output_type": "stream",
     "text": [
      "a.stream =  cs\n"
     ]
    }
   ],
   "source": [
    "print(\"a.stream = \",a.stream)"
   ]
  },
  {
   "cell_type": "code",
   "execution_count": 59,
   "id": "5307cbad",
   "metadata": {},
   "outputs": [],
   "source": [
    "csstudent.stream = 'mec'"
   ]
  },
  {
   "cell_type": "code",
   "execution_count": 60,
   "id": "63336845",
   "metadata": {},
   "outputs": [],
   "source": [
    "b = csstudent('cortel',4)"
   ]
  },
  {
   "cell_type": "code",
   "execution_count": 61,
   "id": "8ec37030",
   "metadata": {},
   "outputs": [
    {
     "data": {
      "text/plain": [
       "<__main__.csstudent at 0x1b99a4e2a60>"
      ]
     },
     "execution_count": 61,
     "metadata": {},
     "output_type": "execute_result"
    }
   ],
   "source": [
    "b"
   ]
  },
  {
   "cell_type": "code",
   "execution_count": 63,
   "id": "c0284d8d",
   "metadata": {},
   "outputs": [
    {
     "name": "stdout",
     "output_type": "stream",
     "text": [
      "a.stream =  mec\n",
      "b.stream =  mec\n"
     ]
    }
   ],
   "source": [
    "print(\"a.stream = \",a.stream)\n",
    "print(\"b.stream = \",b.stream)"
   ]
  },
  {
   "cell_type": "markdown",
   "id": "e4ee6cf1",
   "metadata": {},
   "source": [
    "# Construcotrs in python\n",
    "1. default constructor\n",
    "2. parameterized"
   ]
  },
  {
   "cell_type": "code",
   "execution_count": 64,
   "id": "8a0ebb36",
   "metadata": {},
   "outputs": [],
   "source": [
    "# def __init__(self):\n",
    "# body of the constructor\n",
    "# defualt constructor\n",
    "class geek:\n",
    "    def __init__(self):\n",
    "        self.geek = 'geeksforgeeks'\n",
    "    def print_geek(self):\n",
    "        print(self.geek)"
   ]
  },
  {
   "cell_type": "code",
   "execution_count": 65,
   "id": "e343f029",
   "metadata": {},
   "outputs": [],
   "source": [
    "obj = geek()"
   ]
  },
  {
   "cell_type": "code",
   "execution_count": 66,
   "id": "9e35a864",
   "metadata": {},
   "outputs": [
    {
     "name": "stdout",
     "output_type": "stream",
     "text": [
      "geeksforgeeks\n"
     ]
    }
   ],
   "source": [
    "obj.print_geek()"
   ]
  },
  {
   "cell_type": "code",
   "execution_count": 74,
   "id": "71cb2fd6",
   "metadata": {},
   "outputs": [],
   "source": [
    "class Addition:\n",
    "    first = 0\n",
    "    second = 0\n",
    "    third = 0\n",
    "    \n",
    "    def __init__(self,f,s):\n",
    "        self.first = f\n",
    "        self.second = s\n",
    "    def display(self):\n",
    "        print(\"first number = \" + str(self.first))\n",
    "        print(\"second number = \" + str(self.second))\n",
    "        print(\"addition of two number = \" + str(self.third))\n",
    "    def calu(self):\n",
    "        self.third = self.first + self.second"
   ]
  },
  {
   "cell_type": "code",
   "execution_count": 75,
   "id": "965f3306",
   "metadata": {},
   "outputs": [],
   "source": [
    "obj = Addition(10,20)"
   ]
  },
  {
   "cell_type": "code",
   "execution_count": 76,
   "id": "caa6826e",
   "metadata": {},
   "outputs": [],
   "source": [
    "obj.calu()"
   ]
  },
  {
   "cell_type": "code",
   "execution_count": 77,
   "id": "85c8641e",
   "metadata": {},
   "outputs": [
    {
     "name": "stdout",
     "output_type": "stream",
     "text": [
      "first number = 10\n",
      "second number = 20\n",
      "addition of two number = 30\n"
     ]
    }
   ],
   "source": [
    "obj.display()"
   ]
  },
  {
   "cell_type": "markdown",
   "id": "90766559",
   "metadata": {},
   "source": [
    "# Destructors in python"
   ]
  },
  {
   "cell_type": "code",
   "execution_count": 78,
   "id": "730e0228",
   "metadata": {},
   "outputs": [],
   "source": [
    "# def __del__(self):\n",
    "# body of destructor\n",
    "class Emp:\n",
    "    def __init__(self):\n",
    "        print(\"employee created: \")\n",
    "    def __del__(self):\n",
    "        print(\"destructor called, employee deleted.\")"
   ]
  },
  {
   "cell_type": "code",
   "execution_count": 79,
   "id": "7069f5b8",
   "metadata": {},
   "outputs": [
    {
     "name": "stdout",
     "output_type": "stream",
     "text": [
      "employee created: \n"
     ]
    }
   ],
   "source": [
    "obj = Emp()"
   ]
  },
  {
   "cell_type": "code",
   "execution_count": 80,
   "id": "e1957057",
   "metadata": {},
   "outputs": [
    {
     "name": "stdout",
     "output_type": "stream",
     "text": [
      "destructor called, employee deleted.\n"
     ]
    }
   ],
   "source": [
    "del obj"
   ]
  },
  {
   "cell_type": "code",
   "execution_count": 81,
   "id": "e3a14e31",
   "metadata": {},
   "outputs": [],
   "source": [
    "class student:\n",
    "    def __init__(self):\n",
    "        print(\"created..\")\n",
    "    def show(self):\n",
    "        print(\"first show!\")\n",
    "    def __repr__(self):\n",
    "        print(\"no need call show.object\")\n",
    "    def __del__(self):\n",
    "        print(\"destroy the method..\")\n",
    "        \n",
    "        "
   ]
  },
  {
   "cell_type": "code",
   "execution_count": 82,
   "id": "f005838d",
   "metadata": {},
   "outputs": [
    {
     "name": "stdout",
     "output_type": "stream",
     "text": [
      "created..\n"
     ]
    }
   ],
   "source": [
    "obj = student()"
   ]
  },
  {
   "cell_type": "code",
   "execution_count": 83,
   "id": "78a3dcfb",
   "metadata": {},
   "outputs": [
    {
     "name": "stdout",
     "output_type": "stream",
     "text": [
      "first show!\n"
     ]
    }
   ],
   "source": [
    "obj.show()"
   ]
  },
  {
   "cell_type": "code",
   "execution_count": 84,
   "id": "e3a8d087",
   "metadata": {},
   "outputs": [
    {
     "name": "stdout",
     "output_type": "stream",
     "text": [
      "destroy the method..\n"
     ]
    }
   ],
   "source": [
    "del obj"
   ]
  },
  {
   "cell_type": "markdown",
   "id": "285ed2f7",
   "metadata": {},
   "source": [
    "# Metaprogramming with metaclasses in python"
   ]
  },
  {
   "cell_type": "code",
   "execution_count": 85,
   "id": "16fe46ee",
   "metadata": {},
   "outputs": [
    {
     "name": "stdout",
     "output_type": "stream",
     "text": [
      "type of num is :  <class 'int'>\n"
     ]
    }
   ],
   "source": [
    "# metaclasses\n",
    "num = 25\n",
    "print(\"type of num is : \", type(num))"
   ]
  },
  {
   "cell_type": "code",
   "execution_count": 86,
   "id": "be60f02f",
   "metadata": {},
   "outputs": [
    {
     "name": "stdout",
     "output_type": "stream",
     "text": [
      "type of lst is :  <class 'list'>\n"
     ]
    }
   ],
   "source": [
    "lst = [1,2,4]\n",
    "print(\"type of lst is : \",type(lst))"
   ]
  },
  {
   "cell_type": "code",
   "execution_count": 87,
   "id": "74363430",
   "metadata": {},
   "outputs": [
    {
     "name": "stdout",
     "output_type": "stream",
     "text": [
      "type of name is :  <class 'str'>\n"
     ]
    }
   ],
   "source": [
    "name = \"atul\"\n",
    "print(\"type of name is : \",type(name))"
   ]
  },
  {
   "cell_type": "code",
   "execution_count": 88,
   "id": "0aca0d25",
   "metadata": {},
   "outputs": [],
   "source": [
    "class student:\n",
    "    pass\n"
   ]
  },
  {
   "cell_type": "code",
   "execution_count": 89,
   "id": "9799c245",
   "metadata": {},
   "outputs": [],
   "source": [
    "stu_obj = student()"
   ]
  },
  {
   "cell_type": "code",
   "execution_count": 90,
   "id": "09a2c3f6",
   "metadata": {},
   "outputs": [
    {
     "name": "stdout",
     "output_type": "stream",
     "text": [
      "type of stu_obj is :  <class '__main__.student'>\n"
     ]
    }
   ],
   "source": [
    "print(\"type of stu_obj is : \", type(stu_obj))"
   ]
  },
  {
   "cell_type": "code",
   "execution_count": 91,
   "id": "4885afef",
   "metadata": {},
   "outputs": [],
   "source": [
    "class student:\n",
    "    pass"
   ]
  },
  {
   "cell_type": "code",
   "execution_count": 92,
   "id": "7ed7fdac",
   "metadata": {},
   "outputs": [
    {
     "name": "stdout",
     "output_type": "stream",
     "text": [
      "type of student class is :  <class 'type'>\n"
     ]
    }
   ],
   "source": [
    "print(\"type of student class is : \", type(student))"
   ]
  },
  {
   "cell_type": "code",
   "execution_count": 93,
   "id": "3e653cd0",
   "metadata": {},
   "outputs": [],
   "source": [
    "def test_method(self):\n",
    "    print(\"this is test class method...\")\n",
    "    \n",
    "class Base:\n",
    "    def myfun(self):\n",
    "        print(\"this is inherited method: \")"
   ]
  },
  {
   "cell_type": "markdown",
   "id": "1b32b793",
   "metadata": {},
   "source": [
    "# class and instance attributes in pyton"
   ]
  },
  {
   "cell_type": "code",
   "execution_count": 94,
   "id": "3174eec3",
   "metadata": {},
   "outputs": [],
   "source": [
    "# class attributes\n",
    "class sampleclass:\n",
    "    count  = 0\n",
    "    \n",
    "    def increase(self):\n",
    "        sampleclass.count  +=1"
   ]
  },
  {
   "cell_type": "code",
   "execution_count": 95,
   "id": "2faaf215",
   "metadata": {},
   "outputs": [],
   "source": [
    "s1 = sampleclass()"
   ]
  },
  {
   "cell_type": "code",
   "execution_count": 96,
   "id": "d4a102af",
   "metadata": {},
   "outputs": [
    {
     "data": {
      "text/plain": [
       "<__main__.sampleclass at 0x1b99a5ab3a0>"
      ]
     },
     "execution_count": 96,
     "metadata": {},
     "output_type": "execute_result"
    }
   ],
   "source": [
    "s1"
   ]
  },
  {
   "cell_type": "code",
   "execution_count": 97,
   "id": "39530a5c",
   "metadata": {},
   "outputs": [],
   "source": [
    "s1.increase()"
   ]
  },
  {
   "cell_type": "code",
   "execution_count": 98,
   "id": "55541a2c",
   "metadata": {},
   "outputs": [
    {
     "name": "stdout",
     "output_type": "stream",
     "text": [
      "1\n"
     ]
    }
   ],
   "source": [
    "print(s1.count)"
   ]
  },
  {
   "cell_type": "code",
   "execution_count": 99,
   "id": "bd6980e4",
   "metadata": {},
   "outputs": [],
   "source": [
    "s2 = sampleclass()"
   ]
  },
  {
   "cell_type": "code",
   "execution_count": 100,
   "id": "e66df293",
   "metadata": {},
   "outputs": [],
   "source": [
    "s2.increase()"
   ]
  },
  {
   "cell_type": "code",
   "execution_count": 101,
   "id": "fc34918c",
   "metadata": {},
   "outputs": [
    {
     "name": "stdout",
     "output_type": "stream",
     "text": [
      "2\n"
     ]
    }
   ],
   "source": [
    "print(s2.count)"
   ]
  },
  {
   "cell_type": "code",
   "execution_count": 102,
   "id": "244ce39e",
   "metadata": {},
   "outputs": [],
   "source": [
    "s3 = sampleclass()"
   ]
  },
  {
   "cell_type": "code",
   "execution_count": 103,
   "id": "1e109dca",
   "metadata": {},
   "outputs": [],
   "source": [
    "s3.increase()"
   ]
  },
  {
   "cell_type": "code",
   "execution_count": 104,
   "id": "85b6bffd",
   "metadata": {},
   "outputs": [
    {
     "name": "stdout",
     "output_type": "stream",
     "text": [
      "3\n"
     ]
    }
   ],
   "source": [
    "print(s3.count)"
   ]
  },
  {
   "cell_type": "code",
   "execution_count": 105,
   "id": "10212f11",
   "metadata": {},
   "outputs": [],
   "source": [
    "s4 = sampleclass()"
   ]
  },
  {
   "cell_type": "code",
   "execution_count": 106,
   "id": "b5969382",
   "metadata": {},
   "outputs": [],
   "source": [
    "s4.increase()"
   ]
  },
  {
   "cell_type": "code",
   "execution_count": 107,
   "id": "f1a65ca8",
   "metadata": {},
   "outputs": [
    {
     "name": "stdout",
     "output_type": "stream",
     "text": [
      "4\n"
     ]
    }
   ],
   "source": [
    "print(s4.count)"
   ]
  },
  {
   "cell_type": "code",
   "execution_count": 108,
   "id": "f926724a",
   "metadata": {},
   "outputs": [],
   "source": [
    "# instance attributes\n",
    "# vars()\n",
    "class Emp:\n",
    "    \n",
    "    def __init__(self):\n",
    "        self.name = 'xyz'\n",
    "        self.salary = 91000\n",
    "    def show(self):\n",
    "        print(self.name)\n",
    "        print(self.salary)"
   ]
  },
  {
   "cell_type": "code",
   "execution_count": 109,
   "id": "1d0f166a",
   "metadata": {},
   "outputs": [],
   "source": [
    "e1 = Emp()"
   ]
  },
  {
   "cell_type": "code",
   "execution_count": 110,
   "id": "b3170735",
   "metadata": {},
   "outputs": [
    {
     "name": "stdout",
     "output_type": "stream",
     "text": [
      "dictionary form :  {'name': 'xyz', 'salary': 91000}\n"
     ]
    }
   ],
   "source": [
    "print(\"dictionary form : \" , vars(e1))"
   ]
  },
  {
   "cell_type": "code",
   "execution_count": 111,
   "id": "f82ad99d",
   "metadata": {},
   "outputs": [
    {
     "name": "stdout",
     "output_type": "stream",
     "text": [
      "['__class__', '__delattr__', '__dict__', '__dir__', '__doc__', '__eq__', '__format__', '__ge__', '__getattribute__', '__gt__', '__hash__', '__init__', '__init_subclass__', '__le__', '__lt__', '__module__', '__ne__', '__new__', '__reduce__', '__reduce_ex__', '__repr__', '__setattr__', '__sizeof__', '__str__', '__subclasshook__', '__weakref__', 'name', 'salary', 'show']\n"
     ]
    }
   ],
   "source": [
    "print(dir(e1))"
   ]
  },
  {
   "cell_type": "markdown",
   "id": "aa0c4406",
   "metadata": {},
   "source": [
    "# garbage collection in python"
   ]
  },
  {
   "cell_type": "code",
   "execution_count": 112,
   "id": "76830dd6",
   "metadata": {},
   "outputs": [],
   "source": [
    "b = 9\n",
    "b = 4"
   ]
  },
  {
   "cell_type": "code",
   "execution_count": 113,
   "id": "69ebe1e2",
   "metadata": {},
   "outputs": [],
   "source": [
    "def create():\n",
    "    x = []\n",
    "    a.append(x)"
   ]
  },
  {
   "cell_type": "code",
   "execution_count": 114,
   "id": "4da0d0d8",
   "metadata": {},
   "outputs": [
    {
     "ename": "AttributeError",
     "evalue": "'csstudent' object has no attribute 'append'",
     "output_type": "error",
     "traceback": [
      "\u001b[1;31m---------------------------------------------------------------------------\u001b[0m",
      "\u001b[1;31mAttributeError\u001b[0m                            Traceback (most recent call last)",
      "\u001b[1;32m~\\AppData\\Local\\Temp/ipykernel_10036/684111382.py\u001b[0m in \u001b[0;36m<module>\u001b[1;34m\u001b[0m\n\u001b[1;32m----> 1\u001b[1;33m \u001b[0mcreate\u001b[0m\u001b[1;33m(\u001b[0m\u001b[1;33m)\u001b[0m\u001b[1;33m\u001b[0m\u001b[1;33m\u001b[0m\u001b[0m\n\u001b[0m",
      "\u001b[1;32m~\\AppData\\Local\\Temp/ipykernel_10036/509707640.py\u001b[0m in \u001b[0;36mcreate\u001b[1;34m()\u001b[0m\n\u001b[0;32m      1\u001b[0m \u001b[1;32mdef\u001b[0m \u001b[0mcreate\u001b[0m\u001b[1;33m(\u001b[0m\u001b[1;33m)\u001b[0m\u001b[1;33m:\u001b[0m\u001b[1;33m\u001b[0m\u001b[1;33m\u001b[0m\u001b[0m\n\u001b[0;32m      2\u001b[0m     \u001b[0mx\u001b[0m \u001b[1;33m=\u001b[0m \u001b[1;33m[\u001b[0m\u001b[1;33m]\u001b[0m\u001b[1;33m\u001b[0m\u001b[1;33m\u001b[0m\u001b[0m\n\u001b[1;32m----> 3\u001b[1;33m     \u001b[0ma\u001b[0m\u001b[1;33m.\u001b[0m\u001b[0mappend\u001b[0m\u001b[1;33m(\u001b[0m\u001b[0mx\u001b[0m\u001b[1;33m)\u001b[0m\u001b[1;33m\u001b[0m\u001b[1;33m\u001b[0m\u001b[0m\n\u001b[0m",
      "\u001b[1;31mAttributeError\u001b[0m: 'csstudent' object has no attribute 'append'"
     ]
    }
   ],
   "source": [
    "create()"
   ]
  },
  {
   "cell_type": "code",
   "execution_count": 115,
   "id": "f50065dd",
   "metadata": {},
   "outputs": [],
   "source": [
    "x = []\n",
    "x.append(2)"
   ]
  },
  {
   "cell_type": "code",
   "execution_count": 118,
   "id": "0b6d7a58",
   "metadata": {},
   "outputs": [],
   "source": [
    "x.append(1)"
   ]
  },
  {
   "cell_type": "code",
   "execution_count": 119,
   "id": "91f52207",
   "metadata": {},
   "outputs": [
    {
     "data": {
      "text/plain": [
       "[2, 1, 1]"
      ]
     },
     "execution_count": 119,
     "metadata": {},
     "output_type": "execute_result"
    }
   ],
   "source": [
    "x"
   ]
  },
  {
   "cell_type": "code",
   "execution_count": 120,
   "id": "1ff2e171",
   "metadata": {},
   "outputs": [],
   "source": [
    "del x "
   ]
  },
  {
   "cell_type": "code",
   "execution_count": 121,
   "id": "ee4b4cb8",
   "metadata": {},
   "outputs": [],
   "source": [
    "x = None"
   ]
  },
  {
   "cell_type": "code",
   "execution_count": 122,
   "id": "59b3adcb",
   "metadata": {},
   "outputs": [],
   "source": [
    "x"
   ]
  },
  {
   "cell_type": "code",
   "execution_count": 123,
   "id": "bf4e1d2e",
   "metadata": {},
   "outputs": [],
   "source": [
    "import gc"
   ]
  },
  {
   "cell_type": "code",
   "execution_count": 124,
   "id": "1f7b5270",
   "metadata": {},
   "outputs": [
    {
     "name": "stdout",
     "output_type": "stream",
     "text": [
      "garbage collection thresoholds:  (700, 10, 10)\n"
     ]
    }
   ],
   "source": [
    "print(\"garbage collection thresoholds: \",gc.get_threshold())"
   ]
  },
  {
   "cell_type": "code",
   "execution_count": 125,
   "id": "34776ab3",
   "metadata": {},
   "outputs": [],
   "source": [
    "import gc"
   ]
  },
  {
   "cell_type": "code",
   "execution_count": 126,
   "id": "135650fa",
   "metadata": {},
   "outputs": [],
   "source": [
    "collected = gc.collect()"
   ]
  },
  {
   "cell_type": "code",
   "execution_count": 127,
   "id": "2cc7a077",
   "metadata": {},
   "outputs": [
    {
     "data": {
      "text/plain": [
       "149"
      ]
     },
     "execution_count": 127,
     "metadata": {},
     "output_type": "execute_result"
    }
   ],
   "source": [
    "collected"
   ]
  },
  {
   "cell_type": "code",
   "execution_count": 129,
   "id": "51e0e20b",
   "metadata": {},
   "outputs": [
    {
     "name": "stdout",
     "output_type": "stream",
     "text": [
      "garbage collector : collected 149 \n"
     ]
    }
   ],
   "source": [
    "print(\"garbage collector : collected %d \" % collected)"
   ]
  },
  {
   "cell_type": "markdown",
   "id": "43329c77",
   "metadata": {},
   "source": [
    "# Exception Handling\n",
    "1. try catch & finally\n",
    "2. Error in ptyhon can be two types syntax errors and exception"
   ]
  },
  {
   "cell_type": "code",
   "execution_count": 131,
   "id": "b9732ebf",
   "metadata": {},
   "outputs": [],
   "source": [
    "# difference between syntax erro and exception\n",
    "amount = 100"
   ]
  },
  {
   "cell_type": "code",
   "execution_count": 133,
   "id": "8ffe1efd",
   "metadata": {},
   "outputs": [],
   "source": [
    "if (amount > 199):\n",
    "    print(\"your are eligble to purchase this item: \")"
   ]
  },
  {
   "cell_type": "code",
   "execution_count": 134,
   "id": "ade4d1dd",
   "metadata": {},
   "outputs": [
    {
     "ename": "ZeroDivisionError",
     "evalue": "division by zero",
     "output_type": "error",
     "traceback": [
      "\u001b[1;31m---------------------------------------------------------------------------\u001b[0m",
      "\u001b[1;31mZeroDivisionError\u001b[0m                         Traceback (most recent call last)",
      "\u001b[1;32m~\\AppData\\Local\\Temp/ipykernel_10036/2933496608.py\u001b[0m in \u001b[0;36m<module>\u001b[1;34m\u001b[0m\n\u001b[0;32m      1\u001b[0m \u001b[0mmarks\u001b[0m \u001b[1;33m=\u001b[0m \u001b[1;36m1000\u001b[0m\u001b[1;33m\u001b[0m\u001b[1;33m\u001b[0m\u001b[0m\n\u001b[1;32m----> 2\u001b[1;33m \u001b[0ma\u001b[0m \u001b[1;33m=\u001b[0m \u001b[0mmarks\u001b[0m \u001b[1;33m/\u001b[0m \u001b[1;36m0\u001b[0m\u001b[1;33m\u001b[0m\u001b[1;33m\u001b[0m\u001b[0m\n\u001b[0m\u001b[0;32m      3\u001b[0m \u001b[0mprint\u001b[0m\u001b[1;33m(\u001b[0m\u001b[0ma\u001b[0m\u001b[1;33m)\u001b[0m\u001b[1;33m\u001b[0m\u001b[1;33m\u001b[0m\u001b[0m\n",
      "\u001b[1;31mZeroDivisionError\u001b[0m: division by zero"
     ]
    }
   ],
   "source": [
    "marks = 1000\n",
    "a = marks / 0\n",
    "print(a)"
   ]
  },
  {
   "cell_type": "code",
   "execution_count": 135,
   "id": "b07e9020",
   "metadata": {},
   "outputs": [],
   "source": [
    "a = [1,2,3]"
   ]
  },
  {
   "cell_type": "code",
   "execution_count": 136,
   "id": "e6f9db7d",
   "metadata": {},
   "outputs": [
    {
     "name": "stdout",
     "output_type": "stream",
     "text": [
      "second element = 2 \n",
      "an error occured...\n"
     ]
    }
   ],
   "source": [
    "try:\n",
    "    print(\"second element = %d \" %(a[1]))\n",
    "    print(\"foruth element = %d \" %(a[3]))\n",
    "except:\n",
    "    print(\"an error occured...\")"
   ]
  },
  {
   "cell_type": "code",
   "execution_count": 137,
   "id": "ee379dd2",
   "metadata": {},
   "outputs": [],
   "source": [
    "# try:\n",
    "#     # statement\n",
    "# except IndexError:\n",
    "#     # statement\n",
    "# except ValueError:\n",
    "#     # statement\n",
    "\n",
    "def fun(a):\n",
    "    if a < 4:\n",
    "        b = a/(a-3)\n",
    "        print(\"value of b = \",b)"
   ]
  },
  {
   "cell_type": "code",
   "execution_count": 140,
   "id": "20677147",
   "metadata": {},
   "outputs": [],
   "source": [
    "try:\n",
    "    fun(3)\n",
    "    fun(5)\n",
    "except ZeroDivisionError:\n",
    "    print(\"zerodevision\")\n",
    "except NameError:\n",
    "    print(\"nameError occured and handled: \")"
   ]
  },
  {
   "cell_type": "code",
   "execution_count": 141,
   "id": "35badffc",
   "metadata": {},
   "outputs": [],
   "source": [
    "def ab (a, b):\n",
    "    try :\n",
    "        c = ((a+b)/(a-b))\n",
    "    except ZeroDivisionError:\n",
    "        print(\"a/b result in 0 \")\n",
    "    else:\n",
    "        print(c)"
   ]
  },
  {
   "cell_type": "code",
   "execution_count": 142,
   "id": "ca586f83",
   "metadata": {},
   "outputs": [
    {
     "name": "stdout",
     "output_type": "stream",
     "text": [
      "-5.0\n"
     ]
    }
   ],
   "source": [
    "ab(2.0,3.0)"
   ]
  },
  {
   "cell_type": "code",
   "execution_count": 143,
   "id": "108c9de9",
   "metadata": {},
   "outputs": [
    {
     "name": "stdout",
     "output_type": "stream",
     "text": [
      "-11.0\n"
     ]
    }
   ],
   "source": [
    "ab(5.0,6.0)"
   ]
  },
  {
   "cell_type": "code",
   "execution_count": 144,
   "id": "9f91eaf6",
   "metadata": {},
   "outputs": [
    {
     "name": "stdout",
     "output_type": "stream",
     "text": [
      "can't divide by zero.\n",
      "this is always executed...\n"
     ]
    }
   ],
   "source": [
    "try :\n",
    "    j = 5//0\n",
    "    print(k)\n",
    "except ZeroDivisionError:\n",
    "    print(\"can't divide by zero.\")\n",
    "finally:\n",
    "    print(\"this is always executed...\")"
   ]
  },
  {
   "cell_type": "markdown",
   "id": "b7ff3dda",
   "metadata": {},
   "source": [
    "# raising Exception"
   ]
  },
  {
   "cell_type": "code",
   "execution_count": 145,
   "id": "f68356af",
   "metadata": {},
   "outputs": [
    {
     "name": "stdout",
     "output_type": "stream",
     "text": [
      "an exception..\n"
     ]
    },
    {
     "ename": "NameError",
     "evalue": "hi der...",
     "output_type": "error",
     "traceback": [
      "\u001b[1;31m---------------------------------------------------------------------------\u001b[0m",
      "\u001b[1;31mNameError\u001b[0m                                 Traceback (most recent call last)",
      "\u001b[1;32m~\\AppData\\Local\\Temp/ipykernel_10036/319143982.py\u001b[0m in \u001b[0;36m<module>\u001b[1;34m\u001b[0m\n\u001b[0;32m      1\u001b[0m \u001b[1;32mtry\u001b[0m\u001b[1;33m:\u001b[0m\u001b[1;33m\u001b[0m\u001b[1;33m\u001b[0m\u001b[0m\n\u001b[1;32m----> 2\u001b[1;33m     \u001b[1;32mraise\u001b[0m \u001b[0mNameError\u001b[0m\u001b[1;33m(\u001b[0m\u001b[1;34m\"hi der...\"\u001b[0m\u001b[1;33m)\u001b[0m\u001b[1;33m\u001b[0m\u001b[1;33m\u001b[0m\u001b[0m\n\u001b[0m\u001b[0;32m      3\u001b[0m \u001b[1;32mexcept\u001b[0m \u001b[0mNameError\u001b[0m\u001b[1;33m:\u001b[0m\u001b[1;33m\u001b[0m\u001b[1;33m\u001b[0m\u001b[0m\n\u001b[0;32m      4\u001b[0m     \u001b[0mprint\u001b[0m\u001b[1;33m(\u001b[0m\u001b[1;34m\"an exception..\"\u001b[0m\u001b[1;33m)\u001b[0m\u001b[1;33m\u001b[0m\u001b[1;33m\u001b[0m\u001b[0m\n\u001b[0;32m      5\u001b[0m     \u001b[1;32mraise\u001b[0m\u001b[1;33m\u001b[0m\u001b[1;33m\u001b[0m\u001b[0m\n",
      "\u001b[1;31mNameError\u001b[0m: hi der..."
     ]
    }
   ],
   "source": [
    "try:\n",
    "    raise NameError(\"hi der...\")\n",
    "except NameError:\n",
    "    print(\"an exception..\")\n",
    "    raise"
   ]
  },
  {
   "cell_type": "markdown",
   "id": "0e2878cd",
   "metadata": {},
   "source": [
    "# python thows errors and exception\n",
    "1. IndexError\n",
    "2. ImportError\n",
    "3. IOError\n",
    "4. ZeroDivisionError\n",
    "5. TypeError\n",
    "6. FileNotFoundError"
   ]
  },
  {
   "cell_type": "code",
   "execution_count": 146,
   "id": "bbd9c269",
   "metadata": {},
   "outputs": [],
   "source": [
    "class myerror(Exception):\n",
    "    def __init__(self,value):\n",
    "        self.value = value\n",
    "        \n",
    "    def __str__(self):\n",
    "        return (repr(self.value))"
   ]
  },
  {
   "cell_type": "code",
   "execution_count": 148,
   "id": "0f45e112",
   "metadata": {},
   "outputs": [
    {
     "name": "stdout",
     "output_type": "stream",
     "text": [
      "a new exception occured:  6\n"
     ]
    }
   ],
   "source": [
    "try:\n",
    "    raise(myerror(3*2))\n",
    "except myerror as err:\n",
    "    print(\"a new exception occured: \",err.value)"
   ]
  },
  {
   "cell_type": "code",
   "execution_count": 149,
   "id": "90cac770",
   "metadata": {},
   "outputs": [
    {
     "name": "stdout",
     "output_type": "stream",
     "text": [
      "Help on class Exception in module builtins:\n",
      "\n",
      "class Exception(BaseException)\n",
      " |  Common base class for all non-exit exceptions.\n",
      " |  \n",
      " |  Method resolution order:\n",
      " |      Exception\n",
      " |      BaseException\n",
      " |      object\n",
      " |  \n",
      " |  Built-in subclasses:\n",
      " |      ArithmeticError\n",
      " |      AssertionError\n",
      " |      AttributeError\n",
      " |      BufferError\n",
      " |      ... and 15 other subclasses\n",
      " |  \n",
      " |  Methods defined here:\n",
      " |  \n",
      " |  __init__(self, /, *args, **kwargs)\n",
      " |      Initialize self.  See help(type(self)) for accurate signature.\n",
      " |  \n",
      " |  ----------------------------------------------------------------------\n",
      " |  Static methods defined here:\n",
      " |  \n",
      " |  __new__(*args, **kwargs) from builtins.type\n",
      " |      Create and return a new object.  See help(type) for accurate signature.\n",
      " |  \n",
      " |  ----------------------------------------------------------------------\n",
      " |  Methods inherited from BaseException:\n",
      " |  \n",
      " |  __delattr__(self, name, /)\n",
      " |      Implement delattr(self, name).\n",
      " |  \n",
      " |  __getattribute__(self, name, /)\n",
      " |      Return getattr(self, name).\n",
      " |  \n",
      " |  __reduce__(...)\n",
      " |      Helper for pickle.\n",
      " |  \n",
      " |  __repr__(self, /)\n",
      " |      Return repr(self).\n",
      " |  \n",
      " |  __setattr__(self, name, value, /)\n",
      " |      Implement setattr(self, name, value).\n",
      " |  \n",
      " |  __setstate__(...)\n",
      " |  \n",
      " |  __str__(self, /)\n",
      " |      Return str(self).\n",
      " |  \n",
      " |  with_traceback(...)\n",
      " |      Exception.with_traceback(tb) --\n",
      " |      set self.__traceback__ to tb and return self.\n",
      " |  \n",
      " |  ----------------------------------------------------------------------\n",
      " |  Data descriptors inherited from BaseException:\n",
      " |  \n",
      " |  __cause__\n",
      " |      exception cause\n",
      " |  \n",
      " |  __context__\n",
      " |      exception context\n",
      " |  \n",
      " |  __dict__\n",
      " |  \n",
      " |  __suppress_context__\n",
      " |  \n",
      " |  __traceback__\n",
      " |  \n",
      " |  args\n",
      "\n"
     ]
    }
   ],
   "source": [
    "help(Exception)"
   ]
  },
  {
   "cell_type": "markdown",
   "id": "4645a316",
   "metadata": {},
   "source": [
    "# Built-in Exceptions in python"
   ]
  },
  {
   "cell_type": "code",
   "execution_count": 150,
   "id": "72259f76",
   "metadata": {},
   "outputs": [
    {
     "name": "stdout",
     "output_type": "stream",
     "text": [
      "this statement is raising an arithmetic :\n"
     ]
    }
   ],
   "source": [
    "# try:\n",
    "#     except SomeException:\n",
    "#         tb = sys.exc_info()[2]\n",
    "#         raise OtherException\n",
    "\n",
    "try:\n",
    "    a = 10/0\n",
    "    print(a)\n",
    "except ArithmeticError:\n",
    "    print(\"this statement is raising an arithmetic :\")\n",
    "else:\n",
    "    print(\"success:\")"
   ]
  },
  {
   "cell_type": "code",
   "execution_count": 152,
   "id": "67b5ec87",
   "metadata": {},
   "outputs": [
    {
     "name": "stdout",
     "output_type": "stream",
     "text": [
      "[1, 2, 3]\n",
      "success: \n"
     ]
    }
   ],
   "source": [
    "try:\n",
    "    a = [1,2,3]\n",
    "    print(a)\n",
    "except LookupError:\n",
    "    print(\"index out of bound error:\")\n",
    "else:\n",
    "    print(\"success: \")\n",
    "    "
   ]
  },
  {
   "cell_type": "code",
   "execution_count": 153,
   "id": "1ceac75a",
   "metadata": {},
   "outputs": [],
   "source": [
    "class attrubutes(object):\n",
    "    pass"
   ]
  },
  {
   "cell_type": "code",
   "execution_count": 154,
   "id": "cb3601fd",
   "metadata": {},
   "outputs": [
    {
     "ename": "AttributeError",
     "evalue": "'attrubutes' object has no attribute 'attrubute'",
     "output_type": "error",
     "traceback": [
      "\u001b[1;31m---------------------------------------------------------------------------\u001b[0m",
      "\u001b[1;31mAttributeError\u001b[0m                            Traceback (most recent call last)",
      "\u001b[1;32m~\\AppData\\Local\\Temp/ipykernel_10036/2770714625.py\u001b[0m in \u001b[0;36m<module>\u001b[1;34m\u001b[0m\n\u001b[0;32m      1\u001b[0m \u001b[0mobject\u001b[0m \u001b[1;33m=\u001b[0m \u001b[0mattrubutes\u001b[0m\u001b[1;33m(\u001b[0m\u001b[1;33m)\u001b[0m\u001b[1;33m\u001b[0m\u001b[1;33m\u001b[0m\u001b[0m\n\u001b[1;32m----> 2\u001b[1;33m \u001b[0mprint\u001b[0m\u001b[1;33m(\u001b[0m\u001b[0mobject\u001b[0m\u001b[1;33m.\u001b[0m\u001b[0mattrubute\u001b[0m\u001b[1;33m)\u001b[0m\u001b[1;33m\u001b[0m\u001b[1;33m\u001b[0m\u001b[0m\n\u001b[0m",
      "\u001b[1;31mAttributeError\u001b[0m: 'attrubutes' object has no attribute 'attrubute'"
     ]
    }
   ],
   "source": [
    "object = attrubutes()\n",
    "print(object.attrubute)"
   ]
  },
  {
   "cell_type": "code",
   "execution_count": 155,
   "id": "3656e5b2",
   "metadata": {},
   "outputs": [],
   "source": [
    "import math"
   ]
  },
  {
   "cell_type": "code",
   "execution_count": 156,
   "id": "689dfc0e",
   "metadata": {},
   "outputs": [
    {
     "name": "stdout",
     "output_type": "stream",
     "text": [
      "2.6881171418161356e+43\n"
     ]
    }
   ],
   "source": [
    "print(math.exp(100))"
   ]
  },
  {
   "cell_type": "code",
   "execution_count": 163,
   "id": "9f2a72c0",
   "metadata": {},
   "outputs": [],
   "source": [
    "def my_gen():\n",
    "    try:\n",
    "        for i in range(5):\n",
    "            print(\"yielding \" ,i)\n",
    "            yield i\n",
    "    except GeneratorExit:\n",
    "        print(\"exiting early: \")"
   ]
  },
  {
   "cell_type": "code",
   "execution_count": 164,
   "id": "0f0ce9b5",
   "metadata": {},
   "outputs": [],
   "source": [
    "g = my_gen()"
   ]
  },
  {
   "cell_type": "code",
   "execution_count": 165,
   "id": "a58773f4",
   "metadata": {},
   "outputs": [
    {
     "ename": "AttributeError",
     "evalue": "'generator' object has no attribute 'next'",
     "output_type": "error",
     "traceback": [
      "\u001b[1;31m---------------------------------------------------------------------------\u001b[0m",
      "\u001b[1;31mAttributeError\u001b[0m                            Traceback (most recent call last)",
      "\u001b[1;32m~\\AppData\\Local\\Temp/ipykernel_10036/2076438193.py\u001b[0m in \u001b[0;36m<module>\u001b[1;34m\u001b[0m\n\u001b[1;32m----> 1\u001b[1;33m \u001b[0mprint\u001b[0m\u001b[1;33m(\u001b[0m\u001b[0mg\u001b[0m\u001b[1;33m.\u001b[0m\u001b[0mnext\u001b[0m\u001b[1;33m(\u001b[0m\u001b[1;33m)\u001b[0m\u001b[1;33m)\u001b[0m\u001b[1;33m\u001b[0m\u001b[1;33m\u001b[0m\u001b[0m\n\u001b[0m",
      "\u001b[1;31mAttributeError\u001b[0m: 'generator' object has no attribute 'next'"
     ]
    }
   ],
   "source": [
    "print(g.next())"
   ]
  },
  {
   "cell_type": "code",
   "execution_count": 167,
   "id": "bd66ab88",
   "metadata": {},
   "outputs": [
    {
     "name": "stdout",
     "output_type": "stream",
     "text": [
      "not error: \n"
     ]
    }
   ],
   "source": [
    "try:\n",
    "    \n",
    "    def func():\n",
    "        print(ans)\n",
    "    func()\n",
    "except NameError:\n",
    "    print(\"not error: \")"
   ]
  },
  {
   "cell_type": "markdown",
   "id": "9407a97b",
   "metadata": {},
   "source": [
    "# python Collections"
   ]
  },
  {
   "cell_type": "code",
   "execution_count": 169,
   "id": "00c1ffd0",
   "metadata": {},
   "outputs": [],
   "source": [
    "# Counters in python\n",
    "# counter is a container collection module\n",
    "# containers are object that hold objects.\n",
    "from collections import Counter"
   ]
  },
  {
   "cell_type": "code",
   "execution_count": 170,
   "id": "b6f8f1d4",
   "metadata": {},
   "outputs": [
    {
     "name": "stdout",
     "output_type": "stream",
     "text": [
      "Counter({'manjunathaknnur': 1})\n"
     ]
    }
   ],
   "source": [
    "print(Counter(['manjunathaknnur']))"
   ]
  },
  {
   "cell_type": "code",
   "execution_count": 171,
   "id": "c74b36e4",
   "metadata": {},
   "outputs": [
    {
     "data": {
      "text/plain": [
       "Counter({'m': 1,\n",
       "         'a': 3,\n",
       "         'n': 4,\n",
       "         'j': 1,\n",
       "         'u': 2,\n",
       "         't': 1,\n",
       "         'h': 1,\n",
       "         'k': 1,\n",
       "         'r': 1})"
      ]
     },
     "execution_count": 171,
     "metadata": {},
     "output_type": "execute_result"
    }
   ],
   "source": [
    "Counter('manjuanthkannur')"
   ]
  },
  {
   "cell_type": "code",
   "execution_count": 172,
   "id": "5a788aee",
   "metadata": {},
   "outputs": [
    {
     "name": "stdout",
     "output_type": "stream",
     "text": [
      "Counter({'F': 2, 'A': 1, 'B': 1, 'C': 1, 'D': 1, 'E': 1, 'G': 1, 'I': 1, 'H': 1})\n"
     ]
    }
   ],
   "source": [
    "print(Counter(['A','B','C','D','E','F','G','I','F','H']))"
   ]
  },
  {
   "cell_type": "code",
   "execution_count": 173,
   "id": "b91b2f54",
   "metadata": {},
   "outputs": [
    {
     "name": "stdout",
     "output_type": "stream",
     "text": [
      "Counter({'C': 6, 'B': 5, 'A': 3})\n"
     ]
    }
   ],
   "source": [
    "print(Counter({'A':3,'B':5,'C':6}))"
   ]
  },
  {
   "cell_type": "code",
   "execution_count": 174,
   "id": "02c2f69a",
   "metadata": {},
   "outputs": [
    {
     "name": "stdout",
     "output_type": "stream",
     "text": [
      "Counter({'b': 5, 'a': 3, 'c': 2})\n"
     ]
    }
   ],
   "source": [
    "print(Counter(a=3,b=5,c=2))"
   ]
  },
  {
   "cell_type": "code",
   "execution_count": 176,
   "id": "e02853a3",
   "metadata": {},
   "outputs": [
    {
     "ename": "NameError",
     "evalue": "name 'collections' is not defined",
     "output_type": "error",
     "traceback": [
      "\u001b[1;31m---------------------------------------------------------------------------\u001b[0m",
      "\u001b[1;31mNameError\u001b[0m                                 Traceback (most recent call last)",
      "\u001b[1;32m~\\AppData\\Local\\Temp/ipykernel_10036/3420692234.py\u001b[0m in \u001b[0;36m<module>\u001b[1;34m\u001b[0m\n\u001b[1;32m----> 1\u001b[1;33m \u001b[0mcon\u001b[0m \u001b[1;33m=\u001b[0m \u001b[0mcollections\u001b[0m\u001b[1;33m.\u001b[0m\u001b[0mCounter\u001b[0m\u001b[1;33m(\u001b[0m\u001b[1;33m)\u001b[0m\u001b[1;33m\u001b[0m\u001b[1;33m\u001b[0m\u001b[0m\n\u001b[0m",
      "\u001b[1;31mNameError\u001b[0m: name 'collections' is not defined"
     ]
    }
   ],
   "source": [
    "con = collections.Counter()"
   ]
  },
  {
   "cell_type": "code",
   "execution_count": 177,
   "id": "d55035c6",
   "metadata": {},
   "outputs": [],
   "source": [
    "from collections import Counter"
   ]
  },
  {
   "cell_type": "code",
   "execution_count": 179,
   "id": "468e073f",
   "metadata": {},
   "outputs": [],
   "source": [
    "from collections import Counter"
   ]
  },
  {
   "cell_type": "code",
   "execution_count": 180,
   "id": "aa00bd0e",
   "metadata": {},
   "outputs": [],
   "source": [
    "con = Counter()"
   ]
  },
  {
   "cell_type": "code",
   "execution_count": 181,
   "id": "f2a1f33a",
   "metadata": {},
   "outputs": [],
   "source": [
    "con.update([1,2,3,4,5,6,7,8,9])"
   ]
  },
  {
   "cell_type": "code",
   "execution_count": 182,
   "id": "346e0a15",
   "metadata": {},
   "outputs": [
    {
     "name": "stdout",
     "output_type": "stream",
     "text": [
      "Counter({1: 1, 2: 1, 3: 1, 4: 1, 5: 1, 6: 1, 7: 1, 8: 1, 9: 1})\n"
     ]
    }
   ],
   "source": [
    "print(con)"
   ]
  },
  {
   "cell_type": "code",
   "execution_count": 184,
   "id": "ab3cc058",
   "metadata": {},
   "outputs": [],
   "source": [
    "con.update([1,2,3])"
   ]
  },
  {
   "cell_type": "code",
   "execution_count": 185,
   "id": "140b37d5",
   "metadata": {},
   "outputs": [
    {
     "name": "stdout",
     "output_type": "stream",
     "text": [
      "Counter({1: 2, 2: 2, 3: 2, 4: 1, 5: 1, 6: 1, 7: 1, 8: 1, 9: 1})\n"
     ]
    }
   ],
   "source": [
    "print(con)"
   ]
  },
  {
   "cell_type": "code",
   "execution_count": 186,
   "id": "77694beb",
   "metadata": {},
   "outputs": [
    {
     "data": {
      "text/plain": [
       "Counter({1: 2, 2: 2, 3: 2, 4: 1, 5: 1, 6: 1, 7: 1, 8: 1, 9: 1})"
      ]
     },
     "execution_count": 186,
     "metadata": {},
     "output_type": "execute_result"
    }
   ],
   "source": [
    "con"
   ]
  },
  {
   "cell_type": "code",
   "execution_count": 188,
   "id": "bf2d141f",
   "metadata": {},
   "outputs": [],
   "source": [
    "from collections import Counter"
   ]
  },
  {
   "cell_type": "code",
   "execution_count": 189,
   "id": "27ce619c",
   "metadata": {},
   "outputs": [],
   "source": [
    "c = Counter(a=4,b=5,c=10)"
   ]
  },
  {
   "cell_type": "code",
   "execution_count": 190,
   "id": "4363923c",
   "metadata": {},
   "outputs": [],
   "source": [
    "d = Counter(a = 10, b = 20, c = 60)"
   ]
  },
  {
   "cell_type": "code",
   "execution_count": 191,
   "id": "7b8b4ab8",
   "metadata": {},
   "outputs": [
    {
     "data": {
      "text/plain": [
       "Counter({'a': 10, 'b': 20, 'c': 60})"
      ]
     },
     "execution_count": 191,
     "metadata": {},
     "output_type": "execute_result"
    }
   ],
   "source": [
    "d"
   ]
  },
  {
   "cell_type": "code",
   "execution_count": 195,
   "id": "85f25d03",
   "metadata": {},
   "outputs": [
    {
     "data": {
      "text/plain": [
       "Counter({'a': 4, 'b': 5, 'c': 10})"
      ]
     },
     "execution_count": 195,
     "metadata": {},
     "output_type": "execute_result"
    }
   ],
   "source": [
    "c"
   ]
  },
  {
   "cell_type": "code",
   "execution_count": 196,
   "id": "549fc6d0",
   "metadata": {},
   "outputs": [],
   "source": [
    "from collections import Counter"
   ]
  },
  {
   "cell_type": "code",
   "execution_count": 197,
   "id": "c05ed5bd",
   "metadata": {},
   "outputs": [],
   "source": [
    "z = ['blue','red','blue','yellow','blue','red']"
   ]
  },
  {
   "cell_type": "code",
   "execution_count": 198,
   "id": "a9a7d239",
   "metadata": {},
   "outputs": [
    {
     "data": {
      "text/plain": [
       "['blue', 'red', 'blue', 'yellow', 'blue', 'red']"
      ]
     },
     "execution_count": 198,
     "metadata": {},
     "output_type": "execute_result"
    }
   ],
   "source": [
    "z"
   ]
  },
  {
   "cell_type": "code",
   "execution_count": 199,
   "id": "79c31990",
   "metadata": {},
   "outputs": [
    {
     "name": "stdout",
     "output_type": "stream",
     "text": [
      "Counter({'blue': 3, 'red': 2, 'yellow': 1})\n"
     ]
    }
   ],
   "source": [
    "print(Counter(z))"
   ]
  },
  {
   "cell_type": "markdown",
   "id": "909d87d0",
   "metadata": {},
   "source": [
    "# OrderedDict in python"
   ]
  },
  {
   "cell_type": "code",
   "execution_count": 201,
   "id": "4bb54263",
   "metadata": {},
   "outputs": [],
   "source": [
    "from collections import OrderedDict"
   ]
  },
  {
   "cell_type": "code",
   "execution_count": 202,
   "id": "d4fd9b44",
   "metadata": {},
   "outputs": [
    {
     "name": "stdout",
     "output_type": "stream",
     "text": [
      "this is a Dict: \n"
     ]
    }
   ],
   "source": [
    "print(\"this is a Dict: \")\n",
    "d = {}\n",
    "d['a'] = 1\n",
    "d['b'] = 2\n",
    "d['c'] = 3\n",
    "d['d'] = 4\n",
    "d['e'] = 5\n",
    "d['e'] = 6"
   ]
  },
  {
   "cell_type": "code",
   "execution_count": 203,
   "id": "d3dff752",
   "metadata": {},
   "outputs": [
    {
     "name": "stdout",
     "output_type": "stream",
     "text": [
      "a 1\n",
      "b 2\n",
      "c 3\n",
      "d 4\n",
      "e 6\n"
     ]
    }
   ],
   "source": [
    "for key , values in d. items():\n",
    "    print(key, values)"
   ]
  },
  {
   "cell_type": "code",
   "execution_count": 204,
   "id": "cbd3d3f0",
   "metadata": {},
   "outputs": [
    {
     "name": "stdout",
     "output_type": "stream",
     "text": [
      "this is an OrdredDict dict: \n",
      "\n"
     ]
    }
   ],
   "source": [
    "print(\"this is an OrdredDict dict: \\n\")"
   ]
  },
  {
   "cell_type": "code",
   "execution_count": 205,
   "id": "89ca63a1",
   "metadata": {},
   "outputs": [],
   "source": [
    "od = OrderedDict()"
   ]
  },
  {
   "cell_type": "code",
   "execution_count": 206,
   "id": "23c57ae3",
   "metadata": {},
   "outputs": [],
   "source": [
    "od['a'] = 0\n",
    "od['b'] = 1\n",
    "od['c'] = 2\n",
    "od['d'] = 3\n",
    "od['e'] = 4\n",
    "od ['f'] = 5"
   ]
  },
  {
   "cell_type": "code",
   "execution_count": 207,
   "id": "24abb485",
   "metadata": {},
   "outputs": [
    {
     "name": "stdout",
     "output_type": "stream",
     "text": [
      "a 0\n",
      "b 1\n",
      "c 2\n",
      "d 3\n",
      "e 4\n",
      "f 5\n"
     ]
    }
   ],
   "source": [
    "for key , value in od.items():\n",
    "    print(key,value)"
   ]
  },
  {
   "cell_type": "code",
   "execution_count": 211,
   "id": "1778a477",
   "metadata": {},
   "outputs": [],
   "source": [
    "from collections import OrderedDict"
   ]
  },
  {
   "cell_type": "code",
   "execution_count": 212,
   "id": "80ecbfa0",
   "metadata": {},
   "outputs": [],
   "source": [
    "od = OrderedDict()"
   ]
  },
  {
   "cell_type": "code",
   "execution_count": 213,
   "id": "de28f659",
   "metadata": {},
   "outputs": [],
   "source": [
    "od['a'] = 1\n",
    "od['b'] = 2\n",
    "od['c'] = 3\n",
    "od['d'] = 4"
   ]
  },
  {
   "cell_type": "code",
   "execution_count": 214,
   "id": "8337c5aa",
   "metadata": {},
   "outputs": [
    {
     "name": "stdout",
     "output_type": "stream",
     "text": [
      "a 1\n",
      "b 2\n",
      "c 3\n",
      "d 4\n"
     ]
    }
   ],
   "source": [
    "for key ,value in od.items():\n",
    "    print(key,value)"
   ]
  },
  {
   "cell_type": "code",
   "execution_count": 216,
   "id": "3c1c658e",
   "metadata": {},
   "outputs": [
    {
     "data": {
      "text/plain": [
       "3"
      ]
     },
     "execution_count": 216,
     "metadata": {},
     "output_type": "execute_result"
    }
   ],
   "source": [
    "od.pop('c')"
   ]
  },
  {
   "cell_type": "code",
   "execution_count": 217,
   "id": "ceb9a5bf",
   "metadata": {},
   "outputs": [
    {
     "name": "stdout",
     "output_type": "stream",
     "text": [
      "a 1\n",
      "b 2\n",
      "d 4\n"
     ]
    }
   ],
   "source": [
    "for key,value in od.items():\n",
    "    print(key,value)"
   ]
  },
  {
   "cell_type": "code",
   "execution_count": 218,
   "id": "a565e107",
   "metadata": {},
   "outputs": [],
   "source": [
    "od['c'] = 3"
   ]
  },
  {
   "cell_type": "code",
   "execution_count": 219,
   "id": "c512ce29",
   "metadata": {},
   "outputs": [
    {
     "name": "stdout",
     "output_type": "stream",
     "text": [
      "a 1\n",
      "b 2\n",
      "d 4\n",
      "c 3\n"
     ]
    }
   ],
   "source": [
    "for key,values in od.items():\n",
    "    print(key,values)"
   ]
  },
  {
   "cell_type": "code",
   "execution_count": 221,
   "id": "0b95b1aa",
   "metadata": {},
   "outputs": [
    {
     "name": "stdout",
     "output_type": "stream",
     "text": [
      "a 1\n",
      "b 2\n",
      "d 4\n",
      "c 3\n"
     ]
    }
   ],
   "source": [
    "for key,values in od.items():\n",
    "    print(key,values)"
   ]
  },
  {
   "cell_type": "markdown",
   "id": "4ff8e849",
   "metadata": {},
   "source": [
    "# DefaultDict in python"
   ]
  },
  {
   "cell_type": "code",
   "execution_count": 222,
   "id": "f61b6cea",
   "metadata": {},
   "outputs": [],
   "source": [
    "don = {1:'geeks',2:'for',3:'geeks'}"
   ]
  },
  {
   "cell_type": "code",
   "execution_count": 224,
   "id": "a10762e7",
   "metadata": {},
   "outputs": [
    {
     "name": "stdout",
     "output_type": "stream",
     "text": [
      "dictionary: \n",
      "{1: 'geeks', 2: 'for', 3: 'geeks'}\n",
      "geeks\n"
     ]
    }
   ],
   "source": [
    "print(\"dictionary: \")\n",
    "print(don)\n",
    "print(don[1])"
   ]
  },
  {
   "cell_type": "code",
   "execution_count": 226,
   "id": "a0667b06",
   "metadata": {},
   "outputs": [],
   "source": [
    "# default is container like dictonaries present\n",
    "from collections import defaultdict\n",
    "def value():\n",
    "    return 'not present'"
   ]
  },
  {
   "cell_type": "code",
   "execution_count": 228,
   "id": "e95fdbc4",
   "metadata": {},
   "outputs": [],
   "source": [
    "d = defaultdict(value)\n",
    "d['a'] = 1\n",
    "d['b'] = 2"
   ]
  },
  {
   "cell_type": "code",
   "execution_count": 230,
   "id": "afc7cd06",
   "metadata": {},
   "outputs": [
    {
     "name": "stdout",
     "output_type": "stream",
     "text": [
      "1\n",
      "2\n",
      "not present\n",
      "not present\n"
     ]
    }
   ],
   "source": [
    "print(d['a'])\n",
    "print(d['b'])\n",
    "print(d['c'])\n",
    "print(d['d'])"
   ]
  },
  {
   "cell_type": "code",
   "execution_count": 231,
   "id": "19a10795",
   "metadata": {},
   "outputs": [],
   "source": [
    "from collections import defaultdict"
   ]
  },
  {
   "cell_type": "code",
   "execution_count": 232,
   "id": "deac1ba5",
   "metadata": {},
   "outputs": [],
   "source": [
    "d = defaultdict(lambda : \"not present\")"
   ]
  },
  {
   "cell_type": "code",
   "execution_count": 233,
   "id": "b1a5441b",
   "metadata": {},
   "outputs": [],
   "source": [
    "d['a'] = 0\n",
    "d['b'] = 1"
   ]
  },
  {
   "cell_type": "code",
   "execution_count": 234,
   "id": "d3241c2d",
   "metadata": {},
   "outputs": [
    {
     "name": "stdout",
     "output_type": "stream",
     "text": [
      "0\n",
      "1\n",
      "not present\n"
     ]
    }
   ],
   "source": [
    "print(d['a'])\n",
    "print(d['b'])\n",
    "print(d['c'])"
   ]
  },
  {
   "cell_type": "code",
   "execution_count": 235,
   "id": "c31d0d79",
   "metadata": {},
   "outputs": [],
   "source": [
    "from collections import defaultdict"
   ]
  },
  {
   "cell_type": "code",
   "execution_count": 236,
   "id": "34157ac1",
   "metadata": {},
   "outputs": [],
   "source": [
    "d = defaultdict(list)"
   ]
  },
  {
   "cell_type": "code",
   "execution_count": 237,
   "id": "c51f75e0",
   "metadata": {},
   "outputs": [
    {
     "name": "stdout",
     "output_type": "stream",
     "text": [
      "dictionary with values as list: \n",
      "defaultdict(<class 'list'>, {0: [0], 1: [1], 2: [2], 3: [3], 4: [4]})\n"
     ]
    }
   ],
   "source": [
    "for i in range(5):\n",
    "    d[i].append(i)\n",
    "print(\"dictionary with values as list: \")\n",
    "print(d)"
   ]
  },
  {
   "cell_type": "code",
   "execution_count": 238,
   "id": "915e825c",
   "metadata": {},
   "outputs": [],
   "source": [
    "from collections import defaultdict"
   ]
  },
  {
   "cell_type": "code",
   "execution_count": 239,
   "id": "ff13a9be",
   "metadata": {},
   "outputs": [],
   "source": [
    "d = defaultdict(int)"
   ]
  },
  {
   "cell_type": "code",
   "execution_count": 240,
   "id": "b3900a1b",
   "metadata": {},
   "outputs": [],
   "source": [
    "l = [1,2,3,4,5,6,7,8,9,0]"
   ]
  },
  {
   "cell_type": "code",
   "execution_count": 249,
   "id": "4b00df77",
   "metadata": {},
   "outputs": [
    {
     "name": "stdout",
     "output_type": "stream",
     "text": [
      "**********0\n"
     ]
    }
   ],
   "source": [
    "for i in l:\n",
    "    d[i]+=1\n",
    "    print(\"*\",end = '')\n",
    "print(i) "
   ]
  },
  {
   "cell_type": "markdown",
   "id": "f5d8f8b7",
   "metadata": {},
   "source": [
    "# chinmap in python"
   ]
  },
  {
   "cell_type": "code",
   "execution_count": 251,
   "id": "bb907c61",
   "metadata": {},
   "outputs": [],
   "source": [
    "# python contains a containers called chinmap\n",
    "from collections import ChainMap"
   ]
  },
  {
   "cell_type": "code",
   "execution_count": 252,
   "id": "cbd33ab7",
   "metadata": {},
   "outputs": [],
   "source": [
    "d1 = {'a':1,'b':2}\n",
    "d2 = {'c':3,'d':4}\n",
    "d3 = {'e':5,'f':6}"
   ]
  },
  {
   "cell_type": "code",
   "execution_count": 253,
   "id": "df249754",
   "metadata": {},
   "outputs": [],
   "source": [
    "c = ChainMap(d1,d2,d3)"
   ]
  },
  {
   "cell_type": "code",
   "execution_count": 254,
   "id": "021e6b8e",
   "metadata": {},
   "outputs": [
    {
     "data": {
      "text/plain": [
       "ChainMap({'a': 1, 'b': 2}, {'c': 3, 'd': 4}, {'e': 5, 'f': 6})"
      ]
     },
     "execution_count": 254,
     "metadata": {},
     "output_type": "execute_result"
    }
   ],
   "source": [
    "c"
   ]
  },
  {
   "cell_type": "code",
   "execution_count": 255,
   "id": "c9ac8ced",
   "metadata": {},
   "outputs": [],
   "source": [
    "import collections"
   ]
  },
  {
   "cell_type": "code",
   "execution_count": 256,
   "id": "4be212dc",
   "metadata": {},
   "outputs": [],
   "source": [
    "d = {'a':1,'b':2}\n",
    "d1 = {'b':3,'d':4}"
   ]
  },
  {
   "cell_type": "code",
   "execution_count": 257,
   "id": "5d81f45a",
   "metadata": {},
   "outputs": [],
   "source": [
    "chian = collections.ChainMap(d,d1)"
   ]
  },
  {
   "cell_type": "code",
   "execution_count": 258,
   "id": "5938d1ac",
   "metadata": {},
   "outputs": [
    {
     "data": {
      "text/plain": [
       "[{'a': 1, 'b': 2}, {'b': 3, 'd': 4}]"
      ]
     },
     "execution_count": 258,
     "metadata": {},
     "output_type": "execute_result"
    }
   ],
   "source": [
    "chian.maps"
   ]
  },
  {
   "cell_type": "code",
   "execution_count": 259,
   "id": "8e171376",
   "metadata": {},
   "outputs": [
    {
     "data": {
      "text/plain": [
       "KeysView(ChainMap({'a': 1, 'b': 2}, {'b': 3, 'd': 4}))"
      ]
     },
     "execution_count": 259,
     "metadata": {},
     "output_type": "execute_result"
    }
   ],
   "source": [
    "chian.keys()"
   ]
  },
  {
   "cell_type": "code",
   "execution_count": 260,
   "id": "759b86e6",
   "metadata": {},
   "outputs": [
    {
     "data": {
      "text/plain": [
       "ValuesView(ChainMap({'a': 1, 'b': 2}, {'b': 3, 'd': 4}))"
      ]
     },
     "execution_count": 260,
     "metadata": {},
     "output_type": "execute_result"
    }
   ],
   "source": [
    "chian.values()"
   ]
  },
  {
   "cell_type": "code",
   "execution_count": 262,
   "id": "9d77630b",
   "metadata": {},
   "outputs": [
    {
     "data": {
      "text/plain": [
       "[{'a': 1, 'b': 2}, {'b': 3, 'd': 4}]"
      ]
     },
     "execution_count": 262,
     "metadata": {},
     "output_type": "execute_result"
    }
   ],
   "source": [
    "chian.maps"
   ]
  },
  {
   "cell_type": "code",
   "execution_count": 263,
   "id": "bd2d960e",
   "metadata": {},
   "outputs": [],
   "source": [
    "import collections"
   ]
  },
  {
   "cell_type": "code",
   "execution_count": 264,
   "id": "c10d5ec3",
   "metadata": {},
   "outputs": [],
   "source": [
    "d = {'a':1,'b':2}\n",
    "d2 = {'b':3,'c':5}\n",
    "d3 = {'f':5}"
   ]
  },
  {
   "cell_type": "code",
   "execution_count": 265,
   "id": "42b41d60",
   "metadata": {},
   "outputs": [],
   "source": [
    "chain = collections.ChainMap(d,d3)"
   ]
  },
  {
   "cell_type": "code",
   "execution_count": 266,
   "id": "dd86c3a0",
   "metadata": {},
   "outputs": [
    {
     "data": {
      "text/plain": [
       "ChainMap({'a': 1, 'b': 2}, {'f': 5})"
      ]
     },
     "execution_count": 266,
     "metadata": {},
     "output_type": "execute_result"
    }
   ],
   "source": [
    "chain"
   ]
  },
  {
   "cell_type": "code",
   "execution_count": 267,
   "id": "0fb22feb",
   "metadata": {},
   "outputs": [
    {
     "data": {
      "text/plain": [
       "[{'a': 1, 'b': 2}, {'f': 5}]"
      ]
     },
     "execution_count": 267,
     "metadata": {},
     "output_type": "execute_result"
    }
   ],
   "source": [
    "chain.maps"
   ]
  },
  {
   "cell_type": "markdown",
   "id": "20c99868",
   "metadata": {},
   "source": [
    "# Namedtuple in python"
   ]
  },
  {
   "cell_type": "code",
   "execution_count": 268,
   "id": "e9b772b1",
   "metadata": {},
   "outputs": [],
   "source": [
    "# python support typs of container like dictionaries\n",
    "from collections import namedtuple"
   ]
  },
  {
   "cell_type": "code",
   "execution_count": 274,
   "id": "0a19eeb4",
   "metadata": {},
   "outputs": [],
   "source": [
    "student1 = namedtuple('student',['name','age','salary','dob'])"
   ]
  },
  {
   "cell_type": "code",
   "execution_count": 275,
   "id": "17946438",
   "metadata": {},
   "outputs": [
    {
     "data": {
      "text/plain": [
       "__main__.student"
      ]
     },
     "execution_count": 275,
     "metadata": {},
     "output_type": "execute_result"
    }
   ],
   "source": [
    "student1"
   ]
  },
  {
   "cell_type": "code",
   "execution_count": 276,
   "id": "cee59016",
   "metadata": {},
   "outputs": [],
   "source": [
    "s = student1('manjunath',25,91000,25/2/2021)"
   ]
  },
  {
   "cell_type": "code",
   "execution_count": 277,
   "id": "7df1376b",
   "metadata": {},
   "outputs": [
    {
     "data": {
      "text/plain": [
       "student(name='manjunath', age=25, salary=91000, dob=0.006185056902523503)"
      ]
     },
     "execution_count": 277,
     "metadata": {},
     "output_type": "execute_result"
    }
   ],
   "source": [
    "s"
   ]
  },
  {
   "cell_type": "code",
   "execution_count": 278,
   "id": "e10d7aea",
   "metadata": {},
   "outputs": [
    {
     "data": {
      "text/plain": [
       "'manjunath'"
      ]
     },
     "execution_count": 278,
     "metadata": {},
     "output_type": "execute_result"
    }
   ],
   "source": [
    "s.name"
   ]
  },
  {
   "cell_type": "code",
   "execution_count": 279,
   "id": "3c062366",
   "metadata": {},
   "outputs": [
    {
     "data": {
      "text/plain": [
       "25"
      ]
     },
     "execution_count": 279,
     "metadata": {},
     "output_type": "execute_result"
    }
   ],
   "source": [
    "s.age"
   ]
  },
  {
   "cell_type": "code",
   "execution_count": 280,
   "id": "d51ba845",
   "metadata": {},
   "outputs": [
    {
     "data": {
      "text/plain": [
       "25"
      ]
     },
     "execution_count": 280,
     "metadata": {},
     "output_type": "execute_result"
    }
   ],
   "source": [
    "s[1]"
   ]
  },
  {
   "cell_type": "code",
   "execution_count": 281,
   "id": "e8c1f40e",
   "metadata": {},
   "outputs": [
    {
     "data": {
      "text/plain": [
       "'manjunath'"
      ]
     },
     "execution_count": 281,
     "metadata": {},
     "output_type": "execute_result"
    }
   ],
   "source": [
    "s[0]"
   ]
  },
  {
   "cell_type": "markdown",
   "id": "4f167f3a",
   "metadata": {},
   "source": [
    "# deque in python"
   ]
  },
  {
   "cell_type": "code",
   "execution_count": 282,
   "id": "7a6bc102",
   "metadata": {},
   "outputs": [],
   "source": [
    "from collections import deque"
   ]
  },
  {
   "cell_type": "code",
   "execution_count": 283,
   "id": "64251547",
   "metadata": {},
   "outputs": [],
   "source": [
    "que = deque(['name','age','salary'])"
   ]
  },
  {
   "cell_type": "code",
   "execution_count": 284,
   "id": "01566146",
   "metadata": {},
   "outputs": [
    {
     "data": {
      "text/plain": [
       "deque(['name', 'age', 'salary'])"
      ]
     },
     "execution_count": 284,
     "metadata": {},
     "output_type": "execute_result"
    }
   ],
   "source": [
    "que"
   ]
  },
  {
   "cell_type": "code",
   "execution_count": 285,
   "id": "201e7849",
   "metadata": {},
   "outputs": [],
   "source": [
    "d = collections.deque(['name','age','salary'])"
   ]
  },
  {
   "cell_type": "code",
   "execution_count": 286,
   "id": "ddc85674",
   "metadata": {},
   "outputs": [
    {
     "data": {
      "text/plain": [
       "deque(['name', 'age', 'salary'])"
      ]
     },
     "execution_count": 286,
     "metadata": {},
     "output_type": "execute_result"
    }
   ],
   "source": [
    "d"
   ]
  },
  {
   "cell_type": "code",
   "execution_count": 287,
   "id": "1e3a482b",
   "metadata": {},
   "outputs": [],
   "source": [
    "d.append('mynameis')"
   ]
  },
  {
   "cell_type": "code",
   "execution_count": 288,
   "id": "b1c634a9",
   "metadata": {},
   "outputs": [
    {
     "data": {
      "text/plain": [
       "deque(['name', 'age', 'salary', 'mynameis'])"
      ]
     },
     "execution_count": 288,
     "metadata": {},
     "output_type": "execute_result"
    }
   ],
   "source": [
    "d"
   ]
  },
  {
   "cell_type": "code",
   "execution_count": 289,
   "id": "a3a49bd9",
   "metadata": {},
   "outputs": [],
   "source": [
    "d.append(6)"
   ]
  },
  {
   "cell_type": "code",
   "execution_count": 290,
   "id": "0e3667b1",
   "metadata": {},
   "outputs": [
    {
     "data": {
      "text/plain": [
       "deque(['name', 'age', 'salary', 'mynameis', 6])"
      ]
     },
     "execution_count": 290,
     "metadata": {},
     "output_type": "execute_result"
    }
   ],
   "source": [
    "d"
   ]
  },
  {
   "cell_type": "code",
   "execution_count": 292,
   "id": "ed794159",
   "metadata": {},
   "outputs": [
    {
     "data": {
      "text/plain": [
       "6"
      ]
     },
     "execution_count": 292,
     "metadata": {},
     "output_type": "execute_result"
    }
   ],
   "source": [
    "d.pop()"
   ]
  },
  {
   "cell_type": "code",
   "execution_count": 293,
   "id": "b39c7b89",
   "metadata": {},
   "outputs": [
    {
     "data": {
      "text/plain": [
       "'mynameis'"
      ]
     },
     "execution_count": 293,
     "metadata": {},
     "output_type": "execute_result"
    }
   ],
   "source": [
    "d.pop()"
   ]
  },
  {
   "cell_type": "code",
   "execution_count": 294,
   "id": "f9dcd20f",
   "metadata": {},
   "outputs": [],
   "source": [
    "d.append('nameispreeti')"
   ]
  },
  {
   "cell_type": "code",
   "execution_count": 295,
   "id": "f689fb49",
   "metadata": {},
   "outputs": [
    {
     "data": {
      "text/plain": [
       "deque(['name', 'age', 'salary', 'nameispreeti'])"
      ]
     },
     "execution_count": 295,
     "metadata": {},
     "output_type": "execute_result"
    }
   ],
   "source": [
    "d"
   ]
  },
  {
   "cell_type": "code",
   "execution_count": 296,
   "id": "dcc3dc59",
   "metadata": {},
   "outputs": [],
   "source": [
    "# insert(),index(),remove(),count()\n",
    "import collections"
   ]
  },
  {
   "cell_type": "code",
   "execution_count": 299,
   "id": "57117e9b",
   "metadata": {},
   "outputs": [
    {
     "name": "stdout",
     "output_type": "stream",
     "text": [
      "the number 4 first occurs at a position: \n"
     ]
    },
    {
     "ename": "ValueError",
     "evalue": "3 is not in deque",
     "output_type": "error",
     "traceback": [
      "\u001b[1;31m---------------------------------------------------------------------------\u001b[0m",
      "\u001b[1;31mValueError\u001b[0m                                Traceback (most recent call last)",
      "\u001b[1;32m~\\AppData\\Local\\Temp/ipykernel_10036/1674436249.py\u001b[0m in \u001b[0;36m<module>\u001b[1;34m\u001b[0m\n\u001b[0;32m      1\u001b[0m \u001b[0mde\u001b[0m \u001b[1;33m=\u001b[0m \u001b[0mcollections\u001b[0m\u001b[1;33m.\u001b[0m\u001b[0mdeque\u001b[0m\u001b[1;33m(\u001b[0m\u001b[1;33m[\u001b[0m\u001b[1;36m1\u001b[0m\u001b[1;33m,\u001b[0m\u001b[1;36m2\u001b[0m\u001b[1;33m,\u001b[0m\u001b[1;36m3\u001b[0m\u001b[1;33m,\u001b[0m\u001b[1;36m3\u001b[0m\u001b[1;33m,\u001b[0m\u001b[1;36m4\u001b[0m\u001b[1;33m,\u001b[0m\u001b[1;36m2\u001b[0m\u001b[1;33m,\u001b[0m\u001b[1;36m4\u001b[0m\u001b[1;33m]\u001b[0m\u001b[1;33m)\u001b[0m\u001b[1;33m\u001b[0m\u001b[1;33m\u001b[0m\u001b[0m\n\u001b[0;32m      2\u001b[0m \u001b[0mprint\u001b[0m\u001b[1;33m(\u001b[0m\u001b[1;34m\"the number 4 first occurs at a position: \"\u001b[0m\u001b[1;33m)\u001b[0m\u001b[1;33m\u001b[0m\u001b[1;33m\u001b[0m\u001b[0m\n\u001b[1;32m----> 3\u001b[1;33m \u001b[0mprint\u001b[0m\u001b[1;33m(\u001b[0m\u001b[0md\u001b[0m\u001b[1;33m.\u001b[0m\u001b[0mindex\u001b[0m\u001b[1;33m(\u001b[0m\u001b[1;36m3\u001b[0m\u001b[1;33m)\u001b[0m\u001b[1;33m)\u001b[0m\u001b[1;33m\u001b[0m\u001b[1;33m\u001b[0m\u001b[0m\n\u001b[0m",
      "\u001b[1;31mValueError\u001b[0m: 3 is not in deque"
     ]
    }
   ],
   "source": [
    "de = collections.deque([1,2,3,3,4,2,4])\n",
    "print(\"the number 4 first occurs at a position: \")\n",
    "print(d.index(3))"
   ]
  },
  {
   "cell_type": "code",
   "execution_count": 300,
   "id": "95492648",
   "metadata": {},
   "outputs": [],
   "source": [
    "de.insert(4,3)"
   ]
  },
  {
   "cell_type": "code",
   "execution_count": 301,
   "id": "8f711721",
   "metadata": {},
   "outputs": [
    {
     "data": {
      "text/plain": [
       "deque([1, 2, 3, 3, 3, 4, 2, 4])"
      ]
     },
     "execution_count": 301,
     "metadata": {},
     "output_type": "execute_result"
    }
   ],
   "source": [
    "de"
   ]
  },
  {
   "cell_type": "code",
   "execution_count": 302,
   "id": "d8dda8f3",
   "metadata": {},
   "outputs": [
    {
     "data": {
      "text/plain": [
       "3"
      ]
     },
     "execution_count": 302,
     "metadata": {},
     "output_type": "execute_result"
    }
   ],
   "source": [
    "de.count(3)"
   ]
  },
  {
   "cell_type": "code",
   "execution_count": 303,
   "id": "873d1fef",
   "metadata": {},
   "outputs": [],
   "source": [
    "don = Counter(de)"
   ]
  },
  {
   "cell_type": "code",
   "execution_count": 304,
   "id": "54680dca",
   "metadata": {},
   "outputs": [
    {
     "data": {
      "text/plain": [
       "Counter({1: 1, 2: 2, 3: 3, 4: 2})"
      ]
     },
     "execution_count": 304,
     "metadata": {},
     "output_type": "execute_result"
    }
   ],
   "source": [
    "don"
   ]
  },
  {
   "cell_type": "code",
   "execution_count": 305,
   "id": "78f53ca2",
   "metadata": {},
   "outputs": [],
   "source": [
    "import heapq"
   ]
  },
  {
   "cell_type": "code",
   "execution_count": 306,
   "id": "0e40dc36",
   "metadata": {},
   "outputs": [],
   "source": [
    "li = [5,7,9,1,3]"
   ]
  },
  {
   "cell_type": "code",
   "execution_count": 307,
   "id": "038465f1",
   "metadata": {},
   "outputs": [
    {
     "data": {
      "text/plain": [
       "[5, 7, 9, 1, 3]"
      ]
     },
     "execution_count": 307,
     "metadata": {},
     "output_type": "execute_result"
    }
   ],
   "source": [
    "li"
   ]
  },
  {
   "cell_type": "code",
   "execution_count": 309,
   "id": "e9fc6bbb",
   "metadata": {},
   "outputs": [],
   "source": [
    "heapq.heapify(li)"
   ]
  },
  {
   "cell_type": "code",
   "execution_count": 310,
   "id": "dce1c789",
   "metadata": {},
   "outputs": [
    {
     "name": "stdout",
     "output_type": "stream",
     "text": [
      "[1, 3, 9, 7, 5]\n"
     ]
    }
   ],
   "source": [
    "print(li)"
   ]
  },
  {
   "cell_type": "code",
   "execution_count": 311,
   "id": "0d3106ad",
   "metadata": {},
   "outputs": [],
   "source": [
    "heapq.heappush(li,4)"
   ]
  },
  {
   "cell_type": "code",
   "execution_count": 312,
   "id": "a1aebaad",
   "metadata": {},
   "outputs": [
    {
     "data": {
      "text/plain": [
       "[1, 3, 4, 7, 5, 9]"
      ]
     },
     "execution_count": 312,
     "metadata": {},
     "output_type": "execute_result"
    }
   ],
   "source": [
    "li"
   ]
  },
  {
   "cell_type": "code",
   "execution_count": 313,
   "id": "9f9f404a",
   "metadata": {},
   "outputs": [
    {
     "data": {
      "text/plain": [
       "1"
      ]
     },
     "execution_count": 313,
     "metadata": {},
     "output_type": "execute_result"
    }
   ],
   "source": [
    "heapq.heappop(li)"
   ]
  },
  {
   "cell_type": "code",
   "execution_count": 314,
   "id": "d7d618b1",
   "metadata": {},
   "outputs": [
    {
     "data": {
      "text/plain": [
       "[3, 5, 4, 7, 9]"
      ]
     },
     "execution_count": 314,
     "metadata": {},
     "output_type": "execute_result"
    }
   ],
   "source": [
    "li"
   ]
  },
  {
   "cell_type": "code",
   "execution_count": 315,
   "id": "50b585e7",
   "metadata": {},
   "outputs": [],
   "source": [
    "import heapq"
   ]
  },
  {
   "cell_type": "code",
   "execution_count": 316,
   "id": "479d5ba2",
   "metadata": {},
   "outputs": [],
   "source": [
    "list = [5,7,9,4,3,2,1,0,5,6,8]"
   ]
  },
  {
   "cell_type": "code",
   "execution_count": 317,
   "id": "c040729c",
   "metadata": {},
   "outputs": [
    {
     "data": {
      "text/plain": [
       "[5, 7, 9, 4, 3, 2, 1, 0, 5, 6, 8]"
      ]
     },
     "execution_count": 317,
     "metadata": {},
     "output_type": "execute_result"
    }
   ],
   "source": [
    "list"
   ]
  },
  {
   "cell_type": "code",
   "execution_count": 318,
   "id": "348896f2",
   "metadata": {},
   "outputs": [],
   "source": [
    "list2  = [5,7,6,8]"
   ]
  },
  {
   "cell_type": "code",
   "execution_count": 319,
   "id": "01e2e7c3",
   "metadata": {},
   "outputs": [],
   "source": [
    "heapq.heapify(list)\n",
    "heapq.heapify(list2)"
   ]
  },
  {
   "cell_type": "code",
   "execution_count": 320,
   "id": "2201e8a6",
   "metadata": {},
   "outputs": [
    {
     "data": {
      "text/plain": [
       "[0, 3, 1, 4, 5, 2, 9, 7, 5, 6, 8]"
      ]
     },
     "execution_count": 320,
     "metadata": {},
     "output_type": "execute_result"
    }
   ],
   "source": [
    "list"
   ]
  },
  {
   "cell_type": "code",
   "execution_count": 321,
   "id": "56584037",
   "metadata": {},
   "outputs": [
    {
     "data": {
      "text/plain": [
       "[5, 7, 6, 8]"
      ]
     },
     "execution_count": 321,
     "metadata": {},
     "output_type": "execute_result"
    }
   ],
   "source": [
    "list2"
   ]
  },
  {
   "cell_type": "code",
   "execution_count": 322,
   "id": "19854b83",
   "metadata": {},
   "outputs": [],
   "source": [
    "from collections import UserDict"
   ]
  },
  {
   "cell_type": "code",
   "execution_count": 323,
   "id": "b21153da",
   "metadata": {},
   "outputs": [],
   "source": [
    "d = {'a':2,\n",
    "    'b':5,\n",
    "    'c':3}"
   ]
  },
  {
   "cell_type": "code",
   "execution_count": 324,
   "id": "9115984b",
   "metadata": {},
   "outputs": [
    {
     "data": {
      "text/plain": [
       "{'a': 2, 'b': 5, 'c': 3}"
      ]
     },
     "execution_count": 324,
     "metadata": {},
     "output_type": "execute_result"
    }
   ],
   "source": [
    "d"
   ]
  },
  {
   "cell_type": "code",
   "execution_count": 325,
   "id": "e2238eb0",
   "metadata": {},
   "outputs": [],
   "source": [
    "userid = UserDict(d)"
   ]
  },
  {
   "cell_type": "code",
   "execution_count": 326,
   "id": "772f11b0",
   "metadata": {},
   "outputs": [
    {
     "data": {
      "text/plain": [
       "{'a': 2, 'b': 5, 'c': 3}"
      ]
     },
     "execution_count": 326,
     "metadata": {},
     "output_type": "execute_result"
    }
   ],
   "source": [
    "userid"
   ]
  },
  {
   "cell_type": "code",
   "execution_count": 327,
   "id": "92f21077",
   "metadata": {},
   "outputs": [
    {
     "data": {
      "text/plain": [
       "{'a': 2, 'b': 5, 'c': 3}"
      ]
     },
     "execution_count": 327,
     "metadata": {},
     "output_type": "execute_result"
    }
   ],
   "source": [
    "userid.data"
   ]
  },
  {
   "cell_type": "code",
   "execution_count": 328,
   "id": "45cdc377",
   "metadata": {},
   "outputs": [
    {
     "name": "stdout",
     "output_type": "stream",
     "text": [
      "{'a': 2, 'b': 5, 'c': 3}\n"
     ]
    }
   ],
   "source": [
    "print(userid.data)"
   ]
  },
  {
   "cell_type": "markdown",
   "id": "7646c2cc",
   "metadata": {},
   "source": [
    "# UserList collections"
   ]
  },
  {
   "cell_type": "code",
   "execution_count": 329,
   "id": "f03633db",
   "metadata": {},
   "outputs": [],
   "source": [
    "from collections import UserList"
   ]
  },
  {
   "cell_type": "code",
   "execution_count": 330,
   "id": "276fa235",
   "metadata": {},
   "outputs": [],
   "source": [
    "l = [1,2,3,4,5]"
   ]
  },
  {
   "cell_type": "code",
   "execution_count": 331,
   "id": "af59ae0c",
   "metadata": {},
   "outputs": [],
   "source": [
    "userl = UserList(l)"
   ]
  },
  {
   "cell_type": "code",
   "execution_count": 332,
   "id": "9a9c6b39",
   "metadata": {},
   "outputs": [
    {
     "data": {
      "text/plain": [
       "[1, 2, 3, 4, 5]"
      ]
     },
     "execution_count": 332,
     "metadata": {},
     "output_type": "execute_result"
    }
   ],
   "source": [
    "userl"
   ]
  },
  {
   "cell_type": "code",
   "execution_count": 333,
   "id": "52900319",
   "metadata": {},
   "outputs": [
    {
     "data": {
      "text/plain": [
       "[1, 2, 3, 4, 5]"
      ]
     },
     "execution_count": 333,
     "metadata": {},
     "output_type": "execute_result"
    }
   ],
   "source": [
    "userl.data"
   ]
  },
  {
   "cell_type": "code",
   "execution_count": 334,
   "id": "70adbe16",
   "metadata": {},
   "outputs": [],
   "source": [
    "string = \"welcome to the geeks word\""
   ]
  },
  {
   "cell_type": "code",
   "execution_count": 335,
   "id": "8fb0c492",
   "metadata": {},
   "outputs": [
    {
     "name": "stdout",
     "output_type": "stream",
     "text": [
      "welcome to the geeks word\n"
     ]
    }
   ],
   "source": [
    "print(string)"
   ]
  },
  {
   "cell_type": "code",
   "execution_count": 336,
   "id": "dfd70a61",
   "metadata": {},
   "outputs": [],
   "source": [
    "from collections import UserString"
   ]
  },
  {
   "cell_type": "code",
   "execution_count": 337,
   "id": "f8275620",
   "metadata": {},
   "outputs": [],
   "source": [
    "d = 12344"
   ]
  },
  {
   "cell_type": "code",
   "execution_count": 339,
   "id": "feb7aa1e",
   "metadata": {},
   "outputs": [],
   "source": [
    "users = UserString(d)"
   ]
  },
  {
   "cell_type": "code",
   "execution_count": 340,
   "id": "2864236f",
   "metadata": {},
   "outputs": [
    {
     "data": {
      "text/plain": [
       "'12344'"
      ]
     },
     "execution_count": 340,
     "metadata": {},
     "output_type": "execute_result"
    }
   ],
   "source": [
    "users"
   ]
  },
  {
   "cell_type": "code",
   "execution_count": null,
   "id": "31d4c994",
   "metadata": {},
   "outputs": [],
   "source": [
    "users = UserString(\"\")\n",
    "print(users.data)"
   ]
  },
  {
   "cell_type": "code",
   "execution_count": null,
   "id": "7eaa10a4",
   "metadata": {},
   "outputs": [],
   "source": []
  }
 ],
 "metadata": {
  "kernelspec": {
   "display_name": "Python 3 (ipykernel)",
   "language": "python",
   "name": "python3"
  },
  "language_info": {
   "codemirror_mode": {
    "name": "ipython",
    "version": 3
   },
   "file_extension": ".py",
   "mimetype": "text/x-python",
   "name": "python",
   "nbconvert_exporter": "python",
   "pygments_lexer": "ipython3",
   "version": "3.9.2"
  }
 },
 "nbformat": 4,
 "nbformat_minor": 5
}
