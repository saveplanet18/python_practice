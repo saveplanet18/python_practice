{
 "cells": [
  {
   "cell_type": "markdown",
   "id": "71204f14",
   "metadata": {},
   "source": [
    "# python_ function\n",
    "1. python function is a block of related statements designed to perform a computatinal logical or evaluative task"
   ]
  },
  {
   "cell_type": "code",
   "execution_count": null,
   "id": "7087dcc2",
   "metadata": {},
   "outputs": [],
   "source": [
    "# def function_name(parameters):\n",
    "#     \"\"\"doc string\"\"\"\n",
    "#     statement(s)\n",
    "#     return expression\n",
    "\n"
   ]
  }
 ],
 "metadata": {
  "kernelspec": {
   "display_name": "Python 3 (ipykernel)",
   "language": "python",
   "name": "python3"
  },
  "language_info": {
   "codemirror_mode": {
    "name": "ipython",
    "version": 3
   },
   "file_extension": ".py",
   "mimetype": "text/x-python",
   "name": "python",
   "nbconvert_exporter": "python",
   "pygments_lexer": "ipython3",
   "version": "3.9.2"
  }
 },
 "nbformat": 4,
 "nbformat_minor": 5
}
