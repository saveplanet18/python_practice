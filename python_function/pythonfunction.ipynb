{
 "cells": [
  {
   "cell_type": "markdown",
   "id": "6930b6d1",
   "metadata": {},
   "source": [
    "# Syntax: \n",
    "## def function_name(parameter):\n",
    "## \"\"\"docstring\"\"\"\n",
    "## statement(s)\n",
    "## return expression"
   ]
  },
  {
   "cell_type": "code",
   "execution_count": 1,
   "id": "98243b70",
   "metadata": {},
   "outputs": [],
   "source": [
    "# def function_name (parameter):\n",
    "#     \"\"\"docstring\"\"\"\n",
    "#     statement(s)\n",
    "#     return expression\n"
   ]
  },
  {
   "cell_type": "code",
   "execution_count": 2,
   "id": "b8c4b5f5",
   "metadata": {},
   "outputs": [],
   "source": [
    "# creating function in python\n",
    "def fun():\n",
    "    print(\"well come to geg: \")"
   ]
  },
  {
   "cell_type": "code",
   "execution_count": 3,
   "id": "39b5d644",
   "metadata": {},
   "outputs": [
    {
     "name": "stdout",
     "output_type": "stream",
     "text": [
      "well come to geg: \n"
     ]
    }
   ],
   "source": [
    "fun()"
   ]
  },
  {
   "cell_type": "code",
   "execution_count": 4,
   "id": "de8cb3d5",
   "metadata": {},
   "outputs": [],
   "source": [
    "def fun():\n",
    "    yield \"the fun is goin on everyday: \""
   ]
  },
  {
   "cell_type": "code",
   "execution_count": 5,
   "id": "6d5782c7",
   "metadata": {},
   "outputs": [
    {
     "data": {
      "text/plain": [
       "<generator object fun at 0x0000019D994F8740>"
      ]
     },
     "execution_count": 5,
     "metadata": {},
     "output_type": "execute_result"
    }
   ],
   "source": [
    "fun()"
   ]
  },
  {
   "cell_type": "code",
   "execution_count": 6,
   "id": "d25ea380",
   "metadata": {},
   "outputs": [],
   "source": [
    "call = fun()"
   ]
  },
  {
   "cell_type": "code",
   "execution_count": 7,
   "id": "993261c9",
   "metadata": {},
   "outputs": [
    {
     "data": {
      "text/plain": [
       "'the fun is goin on everyday: '"
      ]
     },
     "execution_count": 7,
     "metadata": {},
     "output_type": "execute_result"
    }
   ],
   "source": [
    "next(call)"
   ]
  },
  {
   "cell_type": "code",
   "execution_count": 8,
   "id": "02329520",
   "metadata": {},
   "outputs": [
    {
     "name": "stdout",
     "output_type": "stream",
     "text": [
      "well come to yarazari: \n"
     ]
    }
   ],
   "source": [
    "def fun():\n",
    "    print(\"well come to yarazari: \")\n",
    "fun()"
   ]
  },
  {
   "cell_type": "code",
   "execution_count": 9,
   "id": "5ab9f51f",
   "metadata": {},
   "outputs": [
    {
     "name": "stdout",
     "output_type": "stream",
     "text": [
      "well come to yarazari: \n"
     ]
    }
   ],
   "source": [
    "call = fun()"
   ]
  },
  {
   "cell_type": "code",
   "execution_count": 10,
   "id": "b62425e6",
   "metadata": {},
   "outputs": [],
   "source": [
    "call = fun"
   ]
  },
  {
   "cell_type": "code",
   "execution_count": 11,
   "id": "c485c661",
   "metadata": {},
   "outputs": [
    {
     "data": {
      "text/plain": [
       "<function __main__.fun()>"
      ]
     },
     "execution_count": 11,
     "metadata": {},
     "output_type": "execute_result"
    }
   ],
   "source": [
    "call"
   ]
  },
  {
   "cell_type": "code",
   "execution_count": 12,
   "id": "d88e5d0a",
   "metadata": {},
   "outputs": [
    {
     "name": "stdout",
     "output_type": "stream",
     "text": [
      "well come to yarazari: \n"
     ]
    }
   ],
   "source": [
    "call()"
   ]
  },
  {
   "cell_type": "markdown",
   "id": "3fa61155",
   "metadata": {},
   "source": [
    "# arguments of a fucntion\n",
    "# types of argument"
   ]
  },
  {
   "cell_type": "code",
   "execution_count": 16,
   "id": "7e096705",
   "metadata": {},
   "outputs": [],
   "source": [
    "# arguments are the values passed insed the parenthesis of the function\n",
    "def eveodd(x):\n",
    "    if (x%2 == 0):\n",
    "        print(\"even\",x)\n",
    "    else:\n",
    "        print(\"odd\",x)"
   ]
  },
  {
   "cell_type": "code",
   "execution_count": 17,
   "id": "cbd063d8",
   "metadata": {},
   "outputs": [
    {
     "name": "stdout",
     "output_type": "stream",
     "text": [
      "even 10\n"
     ]
    }
   ],
   "source": [
    "eveodd(10)"
   ]
  },
  {
   "cell_type": "code",
   "execution_count": 18,
   "id": "88eb9362",
   "metadata": {},
   "outputs": [
    {
     "name": "stdout",
     "output_type": "stream",
     "text": [
      "odd 3\n"
     ]
    }
   ],
   "source": [
    "eveodd(3)"
   ]
  },
  {
   "cell_type": "code",
   "execution_count": 19,
   "id": "858d8329",
   "metadata": {},
   "outputs": [],
   "source": [
    "# default arguments in parameter\n",
    "def myfun(x, y = 50):\n",
    "    print(\"x : \", x)\n",
    "    print(\"y : \", y)\n"
   ]
  },
  {
   "cell_type": "code",
   "execution_count": 20,
   "id": "eec5540e",
   "metadata": {},
   "outputs": [
    {
     "name": "stdout",
     "output_type": "stream",
     "text": [
      "x :  10\n",
      "y :  50\n"
     ]
    }
   ],
   "source": [
    "myfun(10)"
   ]
  },
  {
   "cell_type": "code",
   "execution_count": 21,
   "id": "3c928db3",
   "metadata": {},
   "outputs": [],
   "source": [
    "def default(x= 10 ,y= 20):\n",
    "    print(\"x :\",x)\n",
    "    print(\"y :\",y)"
   ]
  },
  {
   "cell_type": "code",
   "execution_count": 23,
   "id": "92589626",
   "metadata": {},
   "outputs": [
    {
     "name": "stdout",
     "output_type": "stream",
     "text": [
      "x : 10\n",
      "y : 20\n"
     ]
    }
   ],
   "source": [
    "default()"
   ]
  },
  {
   "cell_type": "code",
   "execution_count": 24,
   "id": "18af034e",
   "metadata": {},
   "outputs": [
    {
     "name": "stdout",
     "output_type": "stream",
     "text": [
      "x : 30\n",
      "y : 40\n"
     ]
    }
   ],
   "source": [
    "default(30,40)  # we asssing to function "
   ]
  },
  {
   "cell_type": "code",
   "execution_count": 25,
   "id": "8dca7f32",
   "metadata": {},
   "outputs": [],
   "source": [
    "# keyword arguments\n",
    "# to allow the caller to specify the arguments name with values\n",
    "\n",
    "def student(fname,lname):\n",
    "    yield fname\n",
    "    yield lname\n",
    "    "
   ]
  },
  {
   "cell_type": "code",
   "execution_count": 26,
   "id": "0a6c63dc",
   "metadata": {},
   "outputs": [],
   "source": [
    "call = student('manjunath','kannur')"
   ]
  },
  {
   "cell_type": "code",
   "execution_count": 27,
   "id": "199dfd5c",
   "metadata": {},
   "outputs": [
    {
     "data": {
      "text/plain": [
       "<generator object student at 0x0000019D9956FE40>"
      ]
     },
     "execution_count": 27,
     "metadata": {},
     "output_type": "execute_result"
    }
   ],
   "source": [
    "call"
   ]
  },
  {
   "cell_type": "code",
   "execution_count": 28,
   "id": "b78d4984",
   "metadata": {},
   "outputs": [
    {
     "data": {
      "text/plain": [
       "'manjunath'"
      ]
     },
     "execution_count": 28,
     "metadata": {},
     "output_type": "execute_result"
    }
   ],
   "source": [
    "next(call)"
   ]
  },
  {
   "cell_type": "code",
   "execution_count": 29,
   "id": "a5a17b9f",
   "metadata": {},
   "outputs": [
    {
     "data": {
      "text/plain": [
       "'kannur'"
      ]
     },
     "execution_count": 29,
     "metadata": {},
     "output_type": "execute_result"
    }
   ],
   "source": [
    "next(call)"
   ]
  },
  {
   "cell_type": "code",
   "execution_count": 31,
   "id": "4af00484",
   "metadata": {},
   "outputs": [],
   "source": [
    "# variable -length arguments\n",
    "# * args (none-keyword arguments)\n",
    "# ** kwargs(keyword arguments)\n",
    "\n",
    "def myfun(*args):\n",
    "    for arg in args:\n",
    "        print(arg)"
   ]
  },
  {
   "cell_type": "code",
   "execution_count": 32,
   "id": "18c84fb1",
   "metadata": {},
   "outputs": [
    {
     "name": "stdout",
     "output_type": "stream",
     "text": [
      "hello\n",
      "well come to yarazari\n",
      "my\n",
      "hero\n",
      "jack\n"
     ]
    }
   ],
   "source": [
    "myfun(\"hello\",'well come to yarazari','my','hero','jack')"
   ]
  },
  {
   "cell_type": "code",
   "execution_count": 35,
   "id": "3c154ad1",
   "metadata": {},
   "outputs": [],
   "source": [
    "def myfun(**kwargs):\n",
    "    for key,value in kwargs.items():\n",
    "        print(\"%s==%s\" %(key,value))"
   ]
  },
  {
   "cell_type": "code",
   "execution_count": 36,
   "id": "33dc7cff",
   "metadata": {},
   "outputs": [
    {
     "name": "stdout",
     "output_type": "stream",
     "text": [
      "first==geeks\n",
      "mid==for\n",
      "last==geeks\n"
     ]
    }
   ],
   "source": [
    "myfun(first=\"geeks\",mid = \"for\",last = \"geeks\")"
   ]
  },
  {
   "cell_type": "code",
   "execution_count": 37,
   "id": "69d9be27",
   "metadata": {},
   "outputs": [],
   "source": [
    "# docstring\n",
    "# document string or functionality of the function\n",
    "# syntax: print(function_name.__name__())\n",
    "def evenodd(x):\n",
    "    \"\"\" function to check if the number is even or odd\"\"\"\n",
    "    if (x %2 == 0):\n",
    "        print(\"even\")\n",
    "    else:\n",
    "        print(\"odd\")\n"
   ]
  },
  {
   "cell_type": "code",
   "execution_count": 38,
   "id": "6c39a9f9",
   "metadata": {},
   "outputs": [
    {
     "data": {
      "text/plain": [
       "' function to check if the number is even or odd'"
      ]
     },
     "execution_count": 38,
     "metadata": {},
     "output_type": "execute_result"
    }
   ],
   "source": [
    "evenodd.__doc__"
   ]
  },
  {
   "cell_type": "code",
   "execution_count": 40,
   "id": "d4c98019",
   "metadata": {},
   "outputs": [
    {
     "name": "stdout",
     "output_type": "stream",
     "text": [
      "odd\n",
      "None\n"
     ]
    }
   ],
   "source": [
    "print(evenodd(5))"
   ]
  },
  {
   "cell_type": "code",
   "execution_count": 41,
   "id": "ba083e55",
   "metadata": {},
   "outputs": [],
   "source": [
    "# the return statement\n",
    "# syntax : return [expression_list]\n",
    "def squre(num):\n",
    "    \"\"\"this function return the square value of the\"\"\"\n",
    "    return num**2"
   ]
  },
  {
   "cell_type": "code",
   "execution_count": 42,
   "id": "2818e601",
   "metadata": {},
   "outputs": [
    {
     "data": {
      "text/plain": [
       "4"
      ]
     },
     "execution_count": 42,
     "metadata": {},
     "output_type": "execute_result"
    }
   ],
   "source": [
    "squre(2)"
   ]
  },
  {
   "cell_type": "code",
   "execution_count": 43,
   "id": "99f7153f",
   "metadata": {},
   "outputs": [],
   "source": [
    "def three(num):\n",
    "    \"\"\"this function return thrice\"\"\"\n",
    "    return num**3"
   ]
  },
  {
   "cell_type": "code",
   "execution_count": 44,
   "id": "0becd8c7",
   "metadata": {},
   "outputs": [
    {
     "data": {
      "text/plain": [
       "8"
      ]
     },
     "execution_count": 44,
     "metadata": {},
     "output_type": "execute_result"
    }
   ],
   "source": [
    "three(2)"
   ]
  },
  {
   "cell_type": "code",
   "execution_count": 45,
   "id": "25b3aa51",
   "metadata": {},
   "outputs": [
    {
     "name": "stdout",
     "output_type": "stream",
     "text": [
      "x is to be added:  [10, 20, 30, 40, 50, 60, 70, 80, 90, 100]\n"
     ]
    }
   ],
   "source": [
    "# is python function pass by references or pass by value\n",
    "def myfun(x):\n",
    "    x[0] = 10\n",
    "    print(\"x is to be added: \",x)\n",
    "lst = [1,20,30,40,50,60,70,80,90,100]\n",
    "myfun(lst)"
   ]
  },
  {
   "cell_type": "code",
   "execution_count": 51,
   "id": "8c3f305f",
   "metadata": {},
   "outputs": [
    {
     "name": "stdout",
     "output_type": "stream",
     "text": [
      "None\n"
     ]
    }
   ],
   "source": [
    "def myfun(x):\n",
    "    x = [20,30,40]\n",
    "lst = [10,11,12,13,14,15,16,17,18,19]\n",
    "print(myfun(lst))"
   ]
  },
  {
   "cell_type": "code",
   "execution_count": 47,
   "id": "7e6064a5",
   "metadata": {},
   "outputs": [],
   "source": [
    "myfun(60)"
   ]
  },
  {
   "cell_type": "code",
   "execution_count": 48,
   "id": "810eb0fc",
   "metadata": {},
   "outputs": [],
   "source": [
    "myfun(50)"
   ]
  },
  {
   "cell_type": "code",
   "execution_count": 49,
   "id": "05909f76",
   "metadata": {},
   "outputs": [
    {
     "name": "stdout",
     "output_type": "stream",
     "text": [
      "None\n"
     ]
    }
   ],
   "source": [
    "print(myfun(70))"
   ]
  },
  {
   "cell_type": "code",
   "execution_count": 50,
   "id": "366f9d3f",
   "metadata": {},
   "outputs": [
    {
     "name": "stdout",
     "output_type": "stream",
     "text": [
      "10\n"
     ]
    }
   ],
   "source": [
    "def myfun(x):\n",
    "    x = 20\n",
    "    print(\"x is to be added: \",x)\n",
    "lst = 10\n",
    "print(lst)"
   ]
  },
  {
   "cell_type": "code",
   "execution_count": 57,
   "id": "ca4b7dea",
   "metadata": {},
   "outputs": [],
   "source": [
    "def swap(x,y):\n",
    "    temp = x\n",
    "    x = y\n",
    "    y = temp\n",
    "    return x,y"
   ]
  },
  {
   "cell_type": "code",
   "execution_count": 58,
   "id": "c3aa0f07",
   "metadata": {},
   "outputs": [
    {
     "name": "stdout",
     "output_type": "stream",
     "text": [
      "(4, 5)\n"
     ]
    }
   ],
   "source": [
    "print(swap(5,4))"
   ]
  },
  {
   "cell_type": "code",
   "execution_count": 59,
   "id": "b9f924b7",
   "metadata": {},
   "outputs": [],
   "source": [
    "# anonymous function\n",
    "# in python an anonymous function means that a function is wihout a name \n",
    "def cub(x):\n",
    "    return x*x*x\n"
   ]
  },
  {
   "cell_type": "code",
   "execution_count": 60,
   "id": "e1a53f2b",
   "metadata": {},
   "outputs": [
    {
     "data": {
      "text/plain": [
       "8"
      ]
     },
     "execution_count": 60,
     "metadata": {},
     "output_type": "execute_result"
    }
   ],
   "source": [
    "cub(2)"
   ]
  },
  {
   "cell_type": "code",
   "execution_count": 63,
   "id": "0e9e251a",
   "metadata": {},
   "outputs": [],
   "source": [
    "def cub(x):\n",
    "    return x**3"
   ]
  },
  {
   "cell_type": "code",
   "execution_count": 64,
   "id": "fbf998c1",
   "metadata": {},
   "outputs": [
    {
     "data": {
      "text/plain": [
       "8"
      ]
     },
     "execution_count": 64,
     "metadata": {},
     "output_type": "execute_result"
    }
   ],
   "source": [
    "cub(2)"
   ]
  },
  {
   "cell_type": "code",
   "execution_count": 68,
   "id": "7868268e",
   "metadata": {},
   "outputs": [],
   "source": [
    "cube = lambda x: x**3"
   ]
  },
  {
   "cell_type": "code",
   "execution_count": 70,
   "id": "016f0923",
   "metadata": {},
   "outputs": [
    {
     "data": {
      "text/plain": [
       "8"
      ]
     },
     "execution_count": 70,
     "metadata": {},
     "output_type": "execute_result"
    }
   ],
   "source": [
    "cube(2)"
   ]
  },
  {
   "cell_type": "code",
   "execution_count": 72,
   "id": "0d271a17",
   "metadata": {},
   "outputs": [],
   "source": [
    "cube = lambda x : x**3"
   ]
  },
  {
   "cell_type": "code",
   "execution_count": 73,
   "id": "e5dbb72f",
   "metadata": {},
   "outputs": [
    {
     "data": {
      "text/plain": [
       "8"
      ]
     },
     "execution_count": 73,
     "metadata": {},
     "output_type": "execute_result"
    }
   ],
   "source": [
    "cube(2)"
   ]
  },
  {
   "cell_type": "markdown",
   "id": "fa94a7b7",
   "metadata": {},
   "source": [
    "# python function within function\n"
   ]
  },
  {
   "cell_type": "code",
   "execution_count": 75,
   "id": "581ae17c",
   "metadata": {},
   "outputs": [
    {
     "name": "stdout",
     "output_type": "stream",
     "text": [
      " my name is string: Manjunath\n"
     ]
    }
   ],
   "source": [
    "# a function that is define inside another function is known as the inner function\n",
    "def fun():\n",
    "    s = \" my name is string: Manjunath\"\n",
    "    def fun2():\n",
    "        print(s)\n",
    "    fun2()\n",
    "fun()"
   ]
  },
  {
   "cell_type": "code",
   "execution_count": 79,
   "id": "362793d2",
   "metadata": {},
   "outputs": [
    {
     "name": "stdout",
     "output_type": "stream",
     "text": [
      "enter your name \n",
      ": kannur\n"
     ]
    }
   ],
   "source": [
    "def show():\n",
    "    string = input(\"enter your name \\n: \")\n",
    "    def fun():\n",
    "        #print(string)\n",
    "        pass\n",
    "    fun()\n",
    "show()"
   ]
  },
  {
   "cell_type": "code",
   "execution_count": 3,
   "id": "3f337738",
   "metadata": {},
   "outputs": [
    {
     "name": "stdout",
     "output_type": "stream",
     "text": [
      "20\n"
     ]
    }
   ],
   "source": [
    "def inner(x):\n",
    "    x = 10\n",
    "    def outer():\n",
    "        global x\n",
    "        x = 20\n",
    "        print(x)\n",
    "    outer()\n",
    "inner(30)\n",
    "        "
   ]
  },
  {
   "cell_type": "code",
   "execution_count": 1,
   "id": "16601041",
   "metadata": {},
   "outputs": [
    {
     "name": "stdout",
     "output_type": "stream",
     "text": [
      "10\n",
      "20\n"
     ]
    }
   ],
   "source": [
    "def inner():\n",
    "    x = 10\n",
    "    print(x)\n",
    "    def outer():\n",
    "        global x \n",
    "        x = 20\n",
    "        print(x)\n",
    "    outer()\n",
    "inner()"
   ]
  },
  {
   "cell_type": "markdown",
   "id": "f3248262",
   "metadata": {},
   "source": [
    "# class method \n",
    "# @ classmethod\n",
    "# def fun(cls,args1,args2...):\n",
    "#     ........\n",
    "#     fun : function that needs to be converted into a class method\n",
    "#     return : a class method for function\n",
    "\n"
   ]
  },
  {
   "cell_type": "code",
   "execution_count": 2,
   "id": "2f179f46",
   "metadata": {},
   "outputs": [],
   "source": [
    "# the @classmethod decorator is built-in function decorator that is an expression that gets evaluated\n",
    "# class c (object):\n",
    "#  syntax:\n",
    "# class c (object):\n",
    "#     @staticmethod \n",
    "#     def fun(arg1,arg2,......):\n",
    "#         .....\n",
    "#     return : static method for function fun.\n",
    "\n",
    "\n",
    "from datetime import date"
   ]
  },
  {
   "cell_type": "code",
   "execution_count": 6,
   "id": "2ce0a351",
   "metadata": {},
   "outputs": [
    {
     "name": "stdout",
     "output_type": "stream",
     "text": [
      "21\n",
      "32\n"
     ]
    }
   ],
   "source": [
    "class person:\n",
    "    def __init__(self,name,age):\n",
    "        self.name = name\n",
    "        self.age = age\n",
    "        \n",
    "    @classmethod\n",
    "    def frombirthyear(cls, name ,year):\n",
    "        return cls(name,date.today().year-year)\n",
    "    \n",
    "    @staticmethod\n",
    "    def  adult(age):\n",
    "        return age > 18\n",
    "person1 = person('manjunath',21)\n",
    "person2 = person('kannur',32)\n",
    "print(person1.age)\n",
    "print(person2.age)"
   ]
  },
  {
   "cell_type": "code",
   "execution_count": 5,
   "id": "e90cc0b7",
   "metadata": {},
   "outputs": [
    {
     "name": "stdout",
     "output_type": "stream",
     "text": [
      "True\n"
     ]
    }
   ],
   "source": [
    "print(person.adult(32))"
   ]
  },
  {
   "cell_type": "markdown",
   "id": "fc10de45",
   "metadata": {},
   "source": [
    "# How to write an empty function in Python – pass statement?"
   ]
  },
  {
   "cell_type": "code",
   "execution_count": 7,
   "id": "4190cc76",
   "metadata": {},
   "outputs": [
    {
     "ename": "IndentationError",
     "evalue": "expected an indented block (Temp/ipykernel_900/4006846422.py, line 3)",
     "output_type": "error",
     "traceback": [
      "\u001b[1;36m  File \u001b[1;32m\"C:\\Users\\yaraz\\AppData\\Local\\Temp/ipykernel_900/4006846422.py\"\u001b[1;36m, line \u001b[1;32m3\u001b[0m\n\u001b[1;33m    \u001b[0m\n\u001b[1;37m    ^\u001b[0m\n\u001b[1;31mIndentationError\u001b[0m\u001b[1;31m:\u001b[0m expected an indented block\n"
     ]
    }
   ],
   "source": [
    "# empty function\n",
    "def fun():\n",
    "    "
   ]
  },
  {
   "cell_type": "code",
   "execution_count": 9,
   "id": "0c1b06d1",
   "metadata": {},
   "outputs": [],
   "source": [
    "def fun():\n",
    "    pass # while pass in empty statement also"
   ]
  },
  {
   "cell_type": "code",
   "execution_count": null,
   "id": "31058b72",
   "metadata": {},
   "outputs": [],
   "source": [
    "mutex = True\n",
    "while (mutex==True):\n",
    "    pass"
   ]
  },
  {
   "cell_type": "code",
   "execution_count": 1,
   "id": "dcb2137a",
   "metadata": {},
   "outputs": [],
   "source": [
    "mutex = True\n",
    "if (mutex == True):\n",
    "    pass\n",
    "else:\n",
    "    print(\"false\")"
   ]
  },
  {
   "cell_type": "code",
   "execution_count": null,
   "id": "81ca3c63",
   "metadata": {},
   "outputs": [],
   "source": []
  }
 ],
 "metadata": {
  "kernelspec": {
   "display_name": "Python 3 (ipykernel)",
   "language": "python",
   "name": "python3"
  },
  "language_info": {
   "codemirror_mode": {
    "name": "ipython",
    "version": 3
   },
   "file_extension": ".py",
   "mimetype": "text/x-python",
   "name": "python",
   "nbconvert_exporter": "python",
   "pygments_lexer": "ipython3",
   "version": "3.9.2"
  }
 },
 "nbformat": 4,
 "nbformat_minor": 5
}
