{
 "cells": [
  {
   "cell_type": "code",
   "execution_count": 1,
   "id": "fb419539",
   "metadata": {},
   "outputs": [
    {
     "name": "stdout",
     "output_type": "stream",
     "text": [
      "hello world\n"
     ]
    }
   ],
   "source": [
    "x = \"hello world\"\n",
    "\n",
    "print(x)"
   ]
  },
  {
   "cell_type": "markdown",
   "id": "ffef2e24",
   "metadata": {},
   "source": [
    "this first demo"
   ]
  },
  {
   "cell_type": "markdown",
   "id": "48f059cf",
   "metadata": {},
   "source": [
    "# basic introduction to markdown cells\n"
   ]
  },
  {
   "cell_type": "code",
   "execution_count": 3,
   "id": "d61e2cef",
   "metadata": {},
   "outputs": [
    {
     "data": {
      "text/plain": [
       "['In',\n",
       " 'Out',\n",
       " '_',\n",
       " '_2',\n",
       " '__',\n",
       " '___',\n",
       " '__builtin__',\n",
       " '__builtins__',\n",
       " '__doc__',\n",
       " '__loader__',\n",
       " '__name__',\n",
       " '__package__',\n",
       " '__spec__',\n",
       " '_dh',\n",
       " '_i',\n",
       " '_i1',\n",
       " '_i2',\n",
       " '_i3',\n",
       " '_ih',\n",
       " '_ii',\n",
       " '_iii',\n",
       " '_oh',\n",
       " 'exit',\n",
       " 'get_ipython',\n",
       " 'quit',\n",
       " 'x']"
      ]
     },
     "execution_count": 3,
     "metadata": {},
     "output_type": "execute_result"
    }
   ],
   "source": [
    "dir()\n"
   ]
  },
  {
   "cell_type": "code",
   "execution_count": 4,
   "id": "3687a946",
   "metadata": {},
   "outputs": [],
   "source": [
    "del x "
   ]
  },
  {
   "cell_type": "code",
   "execution_count": 5,
   "id": "e7c0ecc0",
   "metadata": {},
   "outputs": [
    {
     "data": {
      "text/plain": [
       "['In',\n",
       " 'Out',\n",
       " '_',\n",
       " '_2',\n",
       " '_3',\n",
       " '__',\n",
       " '___',\n",
       " '__builtin__',\n",
       " '__builtins__',\n",
       " '__doc__',\n",
       " '__loader__',\n",
       " '__name__',\n",
       " '__package__',\n",
       " '__spec__',\n",
       " '_dh',\n",
       " '_i',\n",
       " '_i1',\n",
       " '_i2',\n",
       " '_i3',\n",
       " '_i4',\n",
       " '_i5',\n",
       " '_ih',\n",
       " '_ii',\n",
       " '_iii',\n",
       " '_oh',\n",
       " 'exit',\n",
       " 'get_ipython',\n",
       " 'quit']"
      ]
     },
     "execution_count": 5,
     "metadata": {},
     "output_type": "execute_result"
    }
   ],
   "source": [
    "dir()"
   ]
  },
  {
   "cell_type": "markdown",
   "id": "ef087513",
   "metadata": {},
   "source": [
    "# collapsing cells"
   ]
  },
  {
   "cell_type": "code",
   "execution_count": 9,
   "id": "91b11bed",
   "metadata": {
    "scrolled": true
   },
   "outputs": [
    {
     "name": "stdout",
     "output_type": "stream",
     "text": [
      "0\n",
      "1\n",
      "3\n",
      "7\n",
      "15\n",
      "31\n",
      "63\n",
      "127\n",
      "255\n",
      "511\n",
      "1023\n",
      "2047\n",
      "4095\n",
      "8191\n",
      "16383\n",
      "32767\n",
      "65535\n",
      "131071\n",
      "262143\n",
      "524287\n",
      "1048575\n",
      "2097151\n",
      "4194303\n",
      "8388607\n",
      "16777215\n",
      "33554431\n",
      "67108863\n",
      "134217727\n",
      "268435455\n",
      "536870911\n",
      "1073741823\n",
      "2147483647\n",
      "4294967295\n",
      "8589934591\n",
      "17179869183\n",
      "34359738367\n",
      "68719476735\n",
      "137438953471\n",
      "274877906943\n",
      "549755813887\n",
      "1099511627775\n",
      "2199023255551\n",
      "4398046511103\n",
      "8796093022207\n",
      "17592186044415\n",
      "35184372088831\n",
      "70368744177663\n",
      "140737488355327\n",
      "281474976710655\n",
      "562949953421311\n"
     ]
    }
   ],
   "source": [
    "for i in range(50):\n",
    "    print(2**i-1)"
   ]
  },
  {
   "cell_type": "code",
   "execution_count": 10,
   "id": "fffc8c3c",
   "metadata": {},
   "outputs": [
    {
     "name": "stdout",
     "output_type": "stream",
     "text": [
      " Volume in drive C has no label.\n",
      " Volume Serial Number is 3EBE-2C28\n",
      "\n",
      " Directory of C:\\Users\\yaraz\n",
      "\n",
      "07/14/2021  09:26 PM    <DIR>          .\n",
      "07/14/2021  09:26 PM    <DIR>          ..\n",
      "01/03/2021  09:17 AM                 0 .~2021-jan-03 6.07.2021-jan-3 6\n",
      "01/03/2021  06:35 AM                 0 .~2021-jan-3 6\n",
      "01/03/2021  11:15 AM                 0 .~stock-21-01-03 10\n",
      "03/30/2021  04:30 AM    <DIR>          .anaconda_backup\n",
      "01/11/2021  07:49 AM    <DIR>          .android\n",
      "03/14/2020  02:55 PM    <DIR>          .atom\n",
      "04/01/2021  05:45 AM    <DIR>          .aws\n",
      "02/09/2021  01:15 PM            15,046 .bash_history\n",
      "04/13/2020  05:48 AM    <DIR>          .config\n",
      "02/05/2020  06:52 AM                37 .gitconfig\n",
      "02/20/2020  12:55 AM    <DIR>          .idea\n",
      "07/14/2021  09:10 PM    <DIR>          .ipynb_checkpoints\n",
      "07/12/2021  09:02 PM    <DIR>          .ipython\n",
      "07/12/2021  09:58 PM    <DIR>          .jupyter\n",
      "02/27/2021  07:34 AM                65 .pgAdmin4.427924103.addr\n",
      "02/27/2021  09:07 AM             3,252 .pgAdmin4.427924103.log\n",
      "02/27/2021  07:34 AM             1,554 .pgAdmin4.startup.log\n",
      "03/04/2021  11:57 AM         1,199,536 .pipwin\n",
      "03/30/2021  02:59 AM    <DIR>          .pylint.d\n",
      "03/31/2021  12:21 AM               641 .python_history\n",
      "04/13/2020  05:50 AM    <DIR>          .spyder-py3\n",
      "04/12/2021  12:54 AM    <DIR>          .ssh\n",
      "03/03/2021  09:46 PM    <DIR>          .vscode\n",
      "03/24/2021  11:21 PM               200 _netrc\n",
      "01/03/2021  06:35 AM                 0 2021-jan-3 6\n",
      "02/26/2021  10:20 AM            22,407 26-feb.ipynb\n",
      "10/23/2020  11:16 AM    <DIR>          3D Objects\n",
      "01/03/2021  10:54 AM                42 Adani_Enterprise.csv\n",
      "02/24/2021  12:37 AM            69,158 algo-13.ipynb\n",
      "02/08/2021  06:22 AM            15,343 algorithm_feb_8.ipynb\n",
      "07/12/2021  09:49 PM    <DIR>          anaconda3\n",
      "01/04/2021  07:07 AM    <DIR>          API STOCK\n",
      "01/03/2021  06:37 AM                 0 api.2021-jan-3 6\n",
      "03/14/2021  10:32 PM             2,365 API.ipynb\n",
      "01/03/2021  10:54 AM                42 Apollo_Tyres.csv\n",
      "01/04/2021  12:36 AM             1,082 Apollo_Tyres1.csv\n",
      "01/04/2021  01:06 AM             1,082 Apollo_Tyreslowhigh.csv\n",
      "01/03/2021  10:54 AM            17,791 Bank_Nifty.csv\n",
      "01/03/2021  12:35 AM             1,409 calc.ipynb\n",
      "02/02/2021  12:29 PM    <DIR>          config\n",
      "10/23/2020  11:16 AM    <DIR>          Contacts\n",
      "10/12/2020  01:16 AM               183 debug.log\n",
      "12/14/2020  09:19 PM             5,039 december.15\n",
      "07/14/2021  09:26 PM             4,491 demo15.ipynb\n",
      "07/09/2021  09:56 PM    <DIR>          Demo-env\n",
      "07/09/2021  10:00 PM    <DIR>          Demo-Tutorial\n",
      "01/05/2021  07:46 AM    <DIR>          Desktop\n",
      "10/28/2019  04:23 AM    <DIR>          Documents\n",
      "07/12/2021  10:00 PM    <DIR>          Downloads\n",
      "02/01/2020  03:03 AM        62,926,600 edb_languagepack.exe\n",
      "02/01/2020  03:06 AM        43,714,536 edb_languagepack_94.exe\n",
      "02/01/2020  03:07 AM        11,212,568 edb_mtk.exe\n",
      "02/01/2020  03:08 AM         9,577,920 edb_npgsql.exe\n",
      "02/01/2020  03:09 AM        17,969,200 edb_pem_agent.exe\n",
      "02/01/2020  04:18 AM       234,401,792 edb_pem_server.exe\n",
      "02/01/2020  03:22 AM       109,850,624 edb_pem_server.exe-20200201022218\n",
      "02/01/2020  03:22 AM       111,144,960 edb_pem_server.exe-20200201022234\n",
      "12/06/2020  09:52 PM               555 Election\n",
      "03/26/2021  02:14 AM    <DIR>          Envs\n",
      "10/23/2020  11:16 AM    <DIR>          Favorites\n",
      "02/02/2021  03:35 AM        38,533,690 feb-1.ipynb\n",
      "02/16/2021  09:15 AM             2,323 feb-16.ipynb\n",
      "02/19/2021  10:01 AM            83,880 feb-17 algo.ipynb\n",
      "02/02/2021  12:49 PM           321,768 feb-2.ipynb\n",
      "02/27/2021  08:12 AM               997 feb-27.ipynb\n",
      "02/27/2021  10:11 AM               555 feb-28.ipynb\n",
      "03/03/2021  09:50 PM                 0 first.py\n",
      "07/13/2021  10:43 PM             7,278 first_Demo.ipynb\n",
      "02/09/2021  08:00 AM            10,448 hacking_mail.ipynb\n",
      "03/07/2021  10:10 AM           105,754 img.jpg\n",
      "01/03/2021  12:29 PM            28,715 infy_stock.csv\n",
      "02/08/2021  10:42 AM    <DIR>          instax\n",
      "02/12/2021  03:45 AM            23,139 instgram_save.ipynb\n",
      "03/11/2021  02:58 AM             9,867 Jarvis.ipynb\n",
      "01/03/2021  10:54 AM                42 Jindal_Steel.csv\n",
      "01/04/2021  12:36 AM            12,262 Jindal_steel1.csv\n",
      "03/29/2021  05:15 AM           314,636 kannur_stock.ipynb\n",
      "10/23/2020  11:16 AM    <DIR>          Links\n",
      "11/14/2020  10:38 AM             4,529 loginpage.html\n",
      "03/05/2021  04:31 AM               187 manju.txt\n",
      "03/05/2021  09:59 AM            12,642 march-05.ipynb\n",
      "03/12/2021  09:36 AM           184,245 march-06.ipynb\n",
      "03/13/2021  02:09 AM           662,194 march-13.ipynb\n",
      "03/19/2021  12:20 AM             2,993 march-18.ipynb\n",
      "03/04/2021  10:33 AM            46,158 martch-04.ipynb\n",
      "03/29/2021  10:25 PM            33,901 Module.ipynb\n",
      "10/23/2020  11:16 AM    <DIR>          Music\n",
      "01/03/2021  12:29 PM            17,530 nifty_it_index.csv\n",
      "07/14/2021  08:49 PM    <DIR>          OneDrive\n",
      "11/14/2020  10:00 AM                 0 password.txt\n",
      "02/01/2020  03:41 AM        38,738,720 pemhttpd.exe\n",
      "02/12/2021  03:01 AM                 0 pic27218.jpg\n",
      "02/12/2021  03:03 AM                 0 pic31862.jpg\n",
      "02/12/2021  03:02 AM                 0 pic98520.jpg\n",
      "10/28/2019  02:10 AM               138 Pipfile\n",
      "10/28/2019  02:10 AM               453 Pipfile.lock\n",
      "02/01/2020  04:12 AM        64,198,376 postgresql_94.exe\n",
      "01/04/2021  01:04 AM           140,756 prices.csv\n",
      "02/09/2021  09:45 AM             7,253 Program_Example.ipynb\n",
      "02/05/2021  07:19 AM           149,643 python algorithm.ipynb\n",
      "02/23/2021  09:02 AM         4,900,092 Python Algorithms_ Mastering Basic Algorithms in the Python Language ( PDFDrive ).pdf\n",
      "03/15/2021  03:36 AM    <DIR>          python-getting-started\n",
      "03/19/2021  11:48 PM            11,778 pythonprogram.ipynb\n",
      "10/23/2020  11:16 AM    <DIR>          Saved Games\n",
      "10/23/2020  11:16 AM    <DIR>          Searches\n",
      "02/08/2021  05:02 AM    <DIR>          sherlock\n",
      "01/03/2021  11:15 AM                 0 stock-21-01-03 10\n",
      "01/03/2021  12:29 PM            30,019 tcs_stock.csv\n",
      "01/23/2021  09:56 AM        20,947,078 timeproject.ipynb\n",
      "03/13/2021  11:01 AM            11,420 token.ipynb\n",
      "04/27/2021  09:06 PM    <DIR>          Tracing\n",
      "05/05/2020  04:09 AM                 0 untitled\n",
      "03/29/2021  08:36 PM                72 Untitled.ipynb\n",
      "07/12/2021  09:58 PM                72 Untitled1.ipynb\n",
      "10/23/2020  11:16 AM    <DIR>          Videos\n",
      "02/09/2021  12:22 PM    <DIR>          whatsapp_hack\n",
      "05/05/2020  03:58 AM            38,986 yarazari10.com\n",
      "              81 File(s)    771,754,109 bytes\n",
      "              38 Dir(s)  35,832,164,352 bytes free\n"
     ]
    }
   ],
   "source": [
    "ls"
   ]
  },
  {
   "cell_type": "code",
   "execution_count": 11,
   "id": "d2a5a3cd",
   "metadata": {},
   "outputs": [],
   "source": [
    "import pandas as pd"
   ]
  },
  {
   "cell_type": "code",
   "execution_count": 14,
   "id": "6e7b1c0e",
   "metadata": {},
   "outputs": [],
   "source": [
    "df = pd.read_csv('Jindal_steel1.csv')"
   ]
  },
  {
   "cell_type": "code",
   "execution_count": 15,
   "id": "b52ec791",
   "metadata": {},
   "outputs": [
    {
     "data": {
      "text/html": [
       "<div>\n",
       "<style scoped>\n",
       "    .dataframe tbody tr th:only-of-type {\n",
       "        vertical-align: middle;\n",
       "    }\n",
       "\n",
       "    .dataframe tbody tr th {\n",
       "        vertical-align: top;\n",
       "    }\n",
       "\n",
       "    .dataframe thead th {\n",
       "        text-align: right;\n",
       "    }\n",
       "</style>\n",
       "<table border=\"1\" class=\"dataframe\">\n",
       "  <thead>\n",
       "    <tr style=\"text-align: right;\">\n",
       "      <th></th>\n",
       "      <th>Symbol</th>\n",
       "      <th>Series</th>\n",
       "      <th>Prev Close</th>\n",
       "      <th>Open</th>\n",
       "      <th>High</th>\n",
       "      <th>Low</th>\n",
       "      <th>Last</th>\n",
       "      <th>Close</th>\n",
       "      <th>VWAP</th>\n",
       "      <th>Volume</th>\n",
       "      <th>Turnover</th>\n",
       "      <th>Trades</th>\n",
       "      <th>Deliverable Volume</th>\n",
       "      <th>%Deliverble</th>\n",
       "    </tr>\n",
       "  </thead>\n",
       "  <tbody>\n",
       "    <tr>\n",
       "      <th>0</th>\n",
       "      <td>JINDALPHOT</td>\n",
       "      <td>EQ</td>\n",
       "      <td>31.85</td>\n",
       "      <td>31.85</td>\n",
       "      <td>32.60</td>\n",
       "      <td>31.85</td>\n",
       "      <td>32.60</td>\n",
       "      <td>32.60</td>\n",
       "      <td>32.19</td>\n",
       "      <td>2290</td>\n",
       "      <td>7.371095e+09</td>\n",
       "      <td>22</td>\n",
       "      <td>2168</td>\n",
       "      <td>0.9467</td>\n",
       "    </tr>\n",
       "    <tr>\n",
       "      <th>1</th>\n",
       "      <td>JINDALPHOT</td>\n",
       "      <td>EQ</td>\n",
       "      <td>32.60</td>\n",
       "      <td>32.50</td>\n",
       "      <td>32.55</td>\n",
       "      <td>31.60</td>\n",
       "      <td>31.85</td>\n",
       "      <td>31.65</td>\n",
       "      <td>31.77</td>\n",
       "      <td>3930</td>\n",
       "      <td>1.248531e+10</td>\n",
       "      <td>26</td>\n",
       "      <td>2719</td>\n",
       "      <td>0.6919</td>\n",
       "    </tr>\n",
       "    <tr>\n",
       "      <th>2</th>\n",
       "      <td>JINDALPHOT</td>\n",
       "      <td>EQ</td>\n",
       "      <td>31.65</td>\n",
       "      <td>31.35</td>\n",
       "      <td>32.20</td>\n",
       "      <td>31.35</td>\n",
       "      <td>31.60</td>\n",
       "      <td>31.60</td>\n",
       "      <td>31.72</td>\n",
       "      <td>1718</td>\n",
       "      <td>5.450100e+09</td>\n",
       "      <td>19</td>\n",
       "      <td>1458</td>\n",
       "      <td>0.8487</td>\n",
       "    </tr>\n",
       "    <tr>\n",
       "      <th>3</th>\n",
       "      <td>JINDALPHOT</td>\n",
       "      <td>EQ</td>\n",
       "      <td>31.60</td>\n",
       "      <td>32.00</td>\n",
       "      <td>32.35</td>\n",
       "      <td>31.15</td>\n",
       "      <td>32.35</td>\n",
       "      <td>32.10</td>\n",
       "      <td>32.01</td>\n",
       "      <td>2541</td>\n",
       "      <td>8.132810e+09</td>\n",
       "      <td>36</td>\n",
       "      <td>2042</td>\n",
       "      <td>0.8036</td>\n",
       "    </tr>\n",
       "    <tr>\n",
       "      <th>4</th>\n",
       "      <td>JINDALPHOT</td>\n",
       "      <td>EQ</td>\n",
       "      <td>32.10</td>\n",
       "      <td>32.10</td>\n",
       "      <td>32.10</td>\n",
       "      <td>31.50</td>\n",
       "      <td>31.90</td>\n",
       "      <td>31.55</td>\n",
       "      <td>31.89</td>\n",
       "      <td>1312</td>\n",
       "      <td>4.183505e+09</td>\n",
       "      <td>46</td>\n",
       "      <td>1115</td>\n",
       "      <td>0.8498</td>\n",
       "    </tr>\n",
       "    <tr>\n",
       "      <th>...</th>\n",
       "      <td>...</td>\n",
       "      <td>...</td>\n",
       "      <td>...</td>\n",
       "      <td>...</td>\n",
       "      <td>...</td>\n",
       "      <td>...</td>\n",
       "      <td>...</td>\n",
       "      <td>...</td>\n",
       "      <td>...</td>\n",
       "      <td>...</td>\n",
       "      <td>...</td>\n",
       "      <td>...</td>\n",
       "      <td>...</td>\n",
       "      <td>...</td>\n",
       "    </tr>\n",
       "    <tr>\n",
       "      <th>127</th>\n",
       "      <td>JINDALPHOT</td>\n",
       "      <td>EQ</td>\n",
       "      <td>14.05</td>\n",
       "      <td>14.05</td>\n",
       "      <td>14.50</td>\n",
       "      <td>12.65</td>\n",
       "      <td>13.45</td>\n",
       "      <td>13.40</td>\n",
       "      <td>13.05</td>\n",
       "      <td>33698</td>\n",
       "      <td>4.396046e+10</td>\n",
       "      <td>95</td>\n",
       "      <td>21305</td>\n",
       "      <td>0.6322</td>\n",
       "    </tr>\n",
       "    <tr>\n",
       "      <th>128</th>\n",
       "      <td>JINDALPHOT</td>\n",
       "      <td>EQ</td>\n",
       "      <td>13.40</td>\n",
       "      <td>13.00</td>\n",
       "      <td>14.20</td>\n",
       "      <td>13.00</td>\n",
       "      <td>13.90</td>\n",
       "      <td>13.90</td>\n",
       "      <td>13.74</td>\n",
       "      <td>3697</td>\n",
       "      <td>5.078915e+09</td>\n",
       "      <td>51</td>\n",
       "      <td>2727</td>\n",
       "      <td>0.7376</td>\n",
       "    </tr>\n",
       "    <tr>\n",
       "      <th>129</th>\n",
       "      <td>JINDALPHOT</td>\n",
       "      <td>EQ</td>\n",
       "      <td>13.90</td>\n",
       "      <td>14.90</td>\n",
       "      <td>14.90</td>\n",
       "      <td>13.30</td>\n",
       "      <td>13.70</td>\n",
       "      <td>13.70</td>\n",
       "      <td>13.52</td>\n",
       "      <td>4234</td>\n",
       "      <td>5.723340e+09</td>\n",
       "      <td>47</td>\n",
       "      <td>3866</td>\n",
       "      <td>0.9131</td>\n",
       "    </tr>\n",
       "    <tr>\n",
       "      <th>130</th>\n",
       "      <td>JINDALPHOT</td>\n",
       "      <td>EQ</td>\n",
       "      <td>13.70</td>\n",
       "      <td>12.85</td>\n",
       "      <td>14.00</td>\n",
       "      <td>12.45</td>\n",
       "      <td>13.65</td>\n",
       "      <td>13.65</td>\n",
       "      <td>13.64</td>\n",
       "      <td>5452</td>\n",
       "      <td>7.436915e+09</td>\n",
       "      <td>57</td>\n",
       "      <td>4618</td>\n",
       "      <td>0.8470</td>\n",
       "    </tr>\n",
       "    <tr>\n",
       "      <th>131</th>\n",
       "      <td>JINDALPHOT</td>\n",
       "      <td>EQ</td>\n",
       "      <td>13.65</td>\n",
       "      <td>13.05</td>\n",
       "      <td>14.20</td>\n",
       "      <td>13.05</td>\n",
       "      <td>13.65</td>\n",
       "      <td>13.65</td>\n",
       "      <td>13.67</td>\n",
       "      <td>7261</td>\n",
       "      <td>9.924500e+09</td>\n",
       "      <td>67</td>\n",
       "      <td>3661</td>\n",
       "      <td>0.5042</td>\n",
       "    </tr>\n",
       "  </tbody>\n",
       "</table>\n",
       "<p>132 rows × 14 columns</p>\n",
       "</div>"
      ],
      "text/plain": [
       "         Symbol Series  Prev Close   Open   High    Low   Last  Close   VWAP  \\\n",
       "0    JINDALPHOT     EQ       31.85  31.85  32.60  31.85  32.60  32.60  32.19   \n",
       "1    JINDALPHOT     EQ       32.60  32.50  32.55  31.60  31.85  31.65  31.77   \n",
       "2    JINDALPHOT     EQ       31.65  31.35  32.20  31.35  31.60  31.60  31.72   \n",
       "3    JINDALPHOT     EQ       31.60  32.00  32.35  31.15  32.35  32.10  32.01   \n",
       "4    JINDALPHOT     EQ       32.10  32.10  32.10  31.50  31.90  31.55  31.89   \n",
       "..          ...    ...         ...    ...    ...    ...    ...    ...    ...   \n",
       "127  JINDALPHOT     EQ       14.05  14.05  14.50  12.65  13.45  13.40  13.05   \n",
       "128  JINDALPHOT     EQ       13.40  13.00  14.20  13.00  13.90  13.90  13.74   \n",
       "129  JINDALPHOT     EQ       13.90  14.90  14.90  13.30  13.70  13.70  13.52   \n",
       "130  JINDALPHOT     EQ       13.70  12.85  14.00  12.45  13.65  13.65  13.64   \n",
       "131  JINDALPHOT     EQ       13.65  13.05  14.20  13.05  13.65  13.65  13.67   \n",
       "\n",
       "     Volume      Turnover  Trades  Deliverable Volume  %Deliverble  \n",
       "0      2290  7.371095e+09      22                2168       0.9467  \n",
       "1      3930  1.248531e+10      26                2719       0.6919  \n",
       "2      1718  5.450100e+09      19                1458       0.8487  \n",
       "3      2541  8.132810e+09      36                2042       0.8036  \n",
       "4      1312  4.183505e+09      46                1115       0.8498  \n",
       "..      ...           ...     ...                 ...          ...  \n",
       "127   33698  4.396046e+10      95               21305       0.6322  \n",
       "128    3697  5.078915e+09      51                2727       0.7376  \n",
       "129    4234  5.723340e+09      47                3866       0.9131  \n",
       "130    5452  7.436915e+09      57                4618       0.8470  \n",
       "131    7261  9.924500e+09      67                3661       0.5042  \n",
       "\n",
       "[132 rows x 14 columns]"
      ]
     },
     "execution_count": 15,
     "metadata": {},
     "output_type": "execute_result"
    }
   ],
   "source": [
    "df"
   ]
  },
  {
   "cell_type": "code",
   "execution_count": 16,
   "id": "d805c945",
   "metadata": {},
   "outputs": [
    {
     "data": {
      "text/html": [
       "<div>\n",
       "<style scoped>\n",
       "    .dataframe tbody tr th:only-of-type {\n",
       "        vertical-align: middle;\n",
       "    }\n",
       "\n",
       "    .dataframe tbody tr th {\n",
       "        vertical-align: top;\n",
       "    }\n",
       "\n",
       "    .dataframe thead th {\n",
       "        text-align: right;\n",
       "    }\n",
       "</style>\n",
       "<table border=\"1\" class=\"dataframe\">\n",
       "  <thead>\n",
       "    <tr style=\"text-align: right;\">\n",
       "      <th></th>\n",
       "      <th>Symbol</th>\n",
       "      <th>Series</th>\n",
       "      <th>Prev Close</th>\n",
       "      <th>Open</th>\n",
       "      <th>High</th>\n",
       "      <th>Low</th>\n",
       "      <th>Last</th>\n",
       "      <th>Close</th>\n",
       "      <th>VWAP</th>\n",
       "      <th>Volume</th>\n",
       "      <th>Turnover</th>\n",
       "      <th>Trades</th>\n",
       "      <th>Deliverable Volume</th>\n",
       "      <th>%Deliverble</th>\n",
       "    </tr>\n",
       "  </thead>\n",
       "  <tbody>\n",
       "    <tr>\n",
       "      <th>0</th>\n",
       "      <td>JINDALPHOT</td>\n",
       "      <td>EQ</td>\n",
       "      <td>31.85</td>\n",
       "      <td>31.85</td>\n",
       "      <td>32.60</td>\n",
       "      <td>31.85</td>\n",
       "      <td>32.60</td>\n",
       "      <td>32.60</td>\n",
       "      <td>32.19</td>\n",
       "      <td>2290</td>\n",
       "      <td>7.371095e+09</td>\n",
       "      <td>22</td>\n",
       "      <td>2168</td>\n",
       "      <td>0.9467</td>\n",
       "    </tr>\n",
       "    <tr>\n",
       "      <th>1</th>\n",
       "      <td>JINDALPHOT</td>\n",
       "      <td>EQ</td>\n",
       "      <td>32.60</td>\n",
       "      <td>32.50</td>\n",
       "      <td>32.55</td>\n",
       "      <td>31.60</td>\n",
       "      <td>31.85</td>\n",
       "      <td>31.65</td>\n",
       "      <td>31.77</td>\n",
       "      <td>3930</td>\n",
       "      <td>1.248531e+10</td>\n",
       "      <td>26</td>\n",
       "      <td>2719</td>\n",
       "      <td>0.6919</td>\n",
       "    </tr>\n",
       "    <tr>\n",
       "      <th>2</th>\n",
       "      <td>JINDALPHOT</td>\n",
       "      <td>EQ</td>\n",
       "      <td>31.65</td>\n",
       "      <td>31.35</td>\n",
       "      <td>32.20</td>\n",
       "      <td>31.35</td>\n",
       "      <td>31.60</td>\n",
       "      <td>31.60</td>\n",
       "      <td>31.72</td>\n",
       "      <td>1718</td>\n",
       "      <td>5.450100e+09</td>\n",
       "      <td>19</td>\n",
       "      <td>1458</td>\n",
       "      <td>0.8487</td>\n",
       "    </tr>\n",
       "    <tr>\n",
       "      <th>3</th>\n",
       "      <td>JINDALPHOT</td>\n",
       "      <td>EQ</td>\n",
       "      <td>31.60</td>\n",
       "      <td>32.00</td>\n",
       "      <td>32.35</td>\n",
       "      <td>31.15</td>\n",
       "      <td>32.35</td>\n",
       "      <td>32.10</td>\n",
       "      <td>32.01</td>\n",
       "      <td>2541</td>\n",
       "      <td>8.132810e+09</td>\n",
       "      <td>36</td>\n",
       "      <td>2042</td>\n",
       "      <td>0.8036</td>\n",
       "    </tr>\n",
       "    <tr>\n",
       "      <th>4</th>\n",
       "      <td>JINDALPHOT</td>\n",
       "      <td>EQ</td>\n",
       "      <td>32.10</td>\n",
       "      <td>32.10</td>\n",
       "      <td>32.10</td>\n",
       "      <td>31.50</td>\n",
       "      <td>31.90</td>\n",
       "      <td>31.55</td>\n",
       "      <td>31.89</td>\n",
       "      <td>1312</td>\n",
       "      <td>4.183505e+09</td>\n",
       "      <td>46</td>\n",
       "      <td>1115</td>\n",
       "      <td>0.8498</td>\n",
       "    </tr>\n",
       "  </tbody>\n",
       "</table>\n",
       "</div>"
      ],
      "text/plain": [
       "       Symbol Series  Prev Close   Open   High    Low   Last  Close   VWAP  \\\n",
       "0  JINDALPHOT     EQ       31.85  31.85  32.60  31.85  32.60  32.60  32.19   \n",
       "1  JINDALPHOT     EQ       32.60  32.50  32.55  31.60  31.85  31.65  31.77   \n",
       "2  JINDALPHOT     EQ       31.65  31.35  32.20  31.35  31.60  31.60  31.72   \n",
       "3  JINDALPHOT     EQ       31.60  32.00  32.35  31.15  32.35  32.10  32.01   \n",
       "4  JINDALPHOT     EQ       32.10  32.10  32.10  31.50  31.90  31.55  31.89   \n",
       "\n",
       "   Volume      Turnover  Trades  Deliverable Volume  %Deliverble  \n",
       "0    2290  7.371095e+09      22                2168       0.9467  \n",
       "1    3930  1.248531e+10      26                2719       0.6919  \n",
       "2    1718  5.450100e+09      19                1458       0.8487  \n",
       "3    2541  8.132810e+09      36                2042       0.8036  \n",
       "4    1312  4.183505e+09      46                1115       0.8498  "
      ]
     },
     "execution_count": 16,
     "metadata": {},
     "output_type": "execute_result"
    }
   ],
   "source": [
    "df.head()"
   ]
  },
  {
   "cell_type": "code",
   "execution_count": 17,
   "id": "b9e7c35e",
   "metadata": {},
   "outputs": [
    {
     "name": "stdout",
     "output_type": "stream",
     "text": [
      " Volume in drive C has no label.\n",
      " Volume Serial Number is 3EBE-2C28\n",
      "\n",
      " Directory of C:\\Users\\yaraz\n",
      "\n",
      "07/14/2021  09:36 PM    <DIR>          .\n",
      "07/14/2021  09:36 PM    <DIR>          ..\n",
      "01/03/2021  09:17 AM                 0 .~2021-jan-03 6.07.2021-jan-3 6\n",
      "01/03/2021  06:35 AM                 0 .~2021-jan-3 6\n",
      "01/03/2021  11:15 AM                 0 .~stock-21-01-03 10\n",
      "03/30/2021  04:30 AM    <DIR>          .anaconda_backup\n",
      "01/11/2021  07:49 AM    <DIR>          .android\n",
      "03/14/2020  02:55 PM    <DIR>          .atom\n",
      "04/01/2021  05:45 AM    <DIR>          .aws\n",
      "02/09/2021  01:15 PM            15,046 .bash_history\n",
      "04/13/2020  05:48 AM    <DIR>          .config\n",
      "02/05/2020  06:52 AM                37 .gitconfig\n",
      "02/20/2020  12:55 AM    <DIR>          .idea\n",
      "07/14/2021  09:10 PM    <DIR>          .ipynb_checkpoints\n",
      "07/12/2021  09:02 PM    <DIR>          .ipython\n",
      "07/12/2021  09:58 PM    <DIR>          .jupyter\n",
      "02/27/2021  07:34 AM                65 .pgAdmin4.427924103.addr\n",
      "02/27/2021  09:07 AM             3,252 .pgAdmin4.427924103.log\n",
      "02/27/2021  07:34 AM             1,554 .pgAdmin4.startup.log\n",
      "03/04/2021  11:57 AM         1,199,536 .pipwin\n",
      "03/30/2021  02:59 AM    <DIR>          .pylint.d\n",
      "03/31/2021  12:21 AM               641 .python_history\n",
      "04/13/2020  05:50 AM    <DIR>          .spyder-py3\n",
      "04/12/2021  12:54 AM    <DIR>          .ssh\n",
      "03/03/2021  09:46 PM    <DIR>          .vscode\n",
      "03/24/2021  11:21 PM               200 _netrc\n",
      "01/03/2021  06:35 AM                 0 2021-jan-3 6\n",
      "02/26/2021  10:20 AM            22,407 26-feb.ipynb\n",
      "10/23/2020  11:16 AM    <DIR>          3D Objects\n",
      "01/03/2021  10:54 AM                42 Adani_Enterprise.csv\n",
      "02/24/2021  12:37 AM            69,158 algo-13.ipynb\n",
      "02/08/2021  06:22 AM            15,343 algorithm_feb_8.ipynb\n",
      "07/12/2021  09:49 PM    <DIR>          anaconda3\n",
      "01/04/2021  07:07 AM    <DIR>          API STOCK\n",
      "01/03/2021  06:37 AM                 0 api.2021-jan-3 6\n",
      "03/14/2021  10:32 PM             2,365 API.ipynb\n",
      "01/03/2021  10:54 AM                42 Apollo_Tyres.csv\n",
      "01/04/2021  12:36 AM             1,082 Apollo_Tyres1.csv\n",
      "01/04/2021  01:06 AM             1,082 Apollo_Tyreslowhigh.csv\n",
      "01/03/2021  10:54 AM            17,791 Bank_Nifty.csv\n",
      "01/03/2021  12:35 AM             1,409 calc.ipynb\n",
      "02/02/2021  12:29 PM    <DIR>          config\n",
      "10/23/2020  11:16 AM    <DIR>          Contacts\n",
      "10/12/2020  01:16 AM               183 debug.log\n",
      "12/14/2020  09:19 PM             5,039 december.15\n",
      "07/14/2021  09:36 PM            22,598 demo15.ipynb\n",
      "07/09/2021  09:56 PM    <DIR>          Demo-env\n",
      "07/09/2021  10:00 PM    <DIR>          Demo-Tutorial\n",
      "01/05/2021  07:46 AM    <DIR>          Desktop\n",
      "10/28/2019  04:23 AM    <DIR>          Documents\n",
      "07/12/2021  10:00 PM    <DIR>          Downloads\n",
      "02/01/2020  03:03 AM        62,926,600 edb_languagepack.exe\n",
      "02/01/2020  03:06 AM        43,714,536 edb_languagepack_94.exe\n",
      "02/01/2020  03:07 AM        11,212,568 edb_mtk.exe\n",
      "02/01/2020  03:08 AM         9,577,920 edb_npgsql.exe\n",
      "02/01/2020  03:09 AM        17,969,200 edb_pem_agent.exe\n",
      "02/01/2020  04:18 AM       234,401,792 edb_pem_server.exe\n",
      "02/01/2020  03:22 AM       109,850,624 edb_pem_server.exe-20200201022218\n",
      "02/01/2020  03:22 AM       111,144,960 edb_pem_server.exe-20200201022234\n",
      "12/06/2020  09:52 PM               555 Election\n",
      "03/26/2021  02:14 AM    <DIR>          Envs\n",
      "10/23/2020  11:16 AM    <DIR>          Favorites\n",
      "02/02/2021  03:35 AM        38,533,690 feb-1.ipynb\n",
      "02/16/2021  09:15 AM             2,323 feb-16.ipynb\n",
      "02/19/2021  10:01 AM            83,880 feb-17 algo.ipynb\n",
      "02/02/2021  12:49 PM           321,768 feb-2.ipynb\n",
      "02/27/2021  08:12 AM               997 feb-27.ipynb\n",
      "02/27/2021  10:11 AM               555 feb-28.ipynb\n",
      "03/03/2021  09:50 PM                 0 first.py\n",
      "07/13/2021  10:43 PM             7,278 first_Demo.ipynb\n",
      "02/09/2021  08:00 AM            10,448 hacking_mail.ipynb\n",
      "03/07/2021  10:10 AM           105,754 img.jpg\n",
      "01/03/2021  12:29 PM            28,715 infy_stock.csv\n",
      "02/08/2021  10:42 AM    <DIR>          instax\n",
      "02/12/2021  03:45 AM            23,139 instgram_save.ipynb\n",
      "03/11/2021  02:58 AM             9,867 Jarvis.ipynb\n",
      "01/03/2021  10:54 AM                42 Jindal_Steel.csv\n",
      "01/04/2021  12:36 AM            12,262 Jindal_steel1.csv\n",
      "03/29/2021  05:15 AM           314,636 kannur_stock.ipynb\n",
      "10/23/2020  11:16 AM    <DIR>          Links\n",
      "11/14/2020  10:38 AM             4,529 loginpage.html\n",
      "03/05/2021  04:31 AM               187 manju.txt\n",
      "03/05/2021  09:59 AM            12,642 march-05.ipynb\n",
      "03/12/2021  09:36 AM           184,245 march-06.ipynb\n",
      "03/13/2021  02:09 AM           662,194 march-13.ipynb\n",
      "03/19/2021  12:20 AM             2,993 march-18.ipynb\n",
      "03/04/2021  10:33 AM            46,158 martch-04.ipynb\n",
      "03/29/2021  10:25 PM            33,901 Module.ipynb\n",
      "10/23/2020  11:16 AM    <DIR>          Music\n",
      "01/03/2021  12:29 PM            17,530 nifty_it_index.csv\n",
      "07/14/2021  08:49 PM    <DIR>          OneDrive\n",
      "11/14/2020  10:00 AM                 0 password.txt\n",
      "02/01/2020  03:41 AM        38,738,720 pemhttpd.exe\n",
      "02/12/2021  03:01 AM                 0 pic27218.jpg\n",
      "02/12/2021  03:03 AM                 0 pic31862.jpg\n",
      "02/12/2021  03:02 AM                 0 pic98520.jpg\n",
      "10/28/2019  02:10 AM               138 Pipfile\n",
      "10/28/2019  02:10 AM               453 Pipfile.lock\n",
      "02/01/2020  04:12 AM        64,198,376 postgresql_94.exe\n",
      "01/04/2021  01:04 AM           140,756 prices.csv\n",
      "02/09/2021  09:45 AM             7,253 Program_Example.ipynb\n",
      "02/05/2021  07:19 AM           149,643 python algorithm.ipynb\n",
      "02/23/2021  09:02 AM         4,900,092 Python Algorithms_ Mastering Basic Algorithms in the Python Language ( PDFDrive ).pdf\n",
      "03/15/2021  03:36 AM    <DIR>          python-getting-started\n",
      "03/19/2021  11:48 PM            11,778 pythonprogram.ipynb\n",
      "10/23/2020  11:16 AM    <DIR>          Saved Games\n",
      "10/23/2020  11:16 AM    <DIR>          Searches\n",
      "02/08/2021  05:02 AM    <DIR>          sherlock\n",
      "01/03/2021  11:15 AM                 0 stock-21-01-03 10\n",
      "01/03/2021  12:29 PM            30,019 tcs_stock.csv\n",
      "01/23/2021  09:56 AM        20,947,078 timeproject.ipynb\n",
      "03/13/2021  11:01 AM            11,420 token.ipynb\n",
      "04/27/2021  09:06 PM    <DIR>          Tracing\n",
      "05/05/2020  04:09 AM                 0 untitled\n",
      "03/29/2021  08:36 PM                72 Untitled.ipynb\n",
      "07/12/2021  09:58 PM                72 Untitled1.ipynb\n",
      "10/23/2020  11:16 AM    <DIR>          Videos\n",
      "02/09/2021  12:22 PM    <DIR>          whatsapp_hack\n",
      "05/05/2020  03:58 AM            38,986 yarazari10.com\n",
      "              81 File(s)    771,772,216 bytes\n",
      "              38 Dir(s)  35,869,761,536 bytes free\n"
     ]
    }
   ],
   "source": [
    "ls\n"
   ]
  },
  {
   "cell_type": "markdown",
   "id": "9358b255",
   "metadata": {},
   "source": [
    "# python variables and data types"
   ]
  },
  {
   "cell_type": "code",
   "execution_count": 20,
   "id": "db4dc951",
   "metadata": {},
   "outputs": [
    {
     "name": "stdout",
     "output_type": "stream",
     "text": [
      "<class 'int'>\n"
     ]
    }
   ],
   "source": [
    "x = 45\n",
    "print(type(x))"
   ]
  },
  {
   "cell_type": "code",
   "execution_count": 21,
   "id": "51c5b312",
   "metadata": {},
   "outputs": [
    {
     "data": {
      "text/plain": [
       "45"
      ]
     },
     "execution_count": 21,
     "metadata": {},
     "output_type": "execute_result"
    }
   ],
   "source": [
    "x"
   ]
  },
  {
   "cell_type": "code",
   "execution_count": 22,
   "id": "7c3d1411",
   "metadata": {},
   "outputs": [],
   "source": [
    "name = \"manjunath kannur\""
   ]
  },
  {
   "cell_type": "code",
   "execution_count": 23,
   "id": "938b8ef3",
   "metadata": {},
   "outputs": [
    {
     "name": "stdout",
     "output_type": "stream",
     "text": [
      "<class 'str'>\n"
     ]
    }
   ],
   "source": [
    "print(type(name))"
   ]
  },
  {
   "cell_type": "code",
   "execution_count": 24,
   "id": "dbdd27fb",
   "metadata": {},
   "outputs": [
    {
     "data": {
      "text/plain": [
       "'manjunath kannur'"
      ]
     },
     "execution_count": 24,
     "metadata": {},
     "output_type": "execute_result"
    }
   ],
   "source": [
    "name"
   ]
  },
  {
   "cell_type": "code",
   "execution_count": 26,
   "id": "f4a8cca2",
   "metadata": {},
   "outputs": [
    {
     "name": "stdout",
     "output_type": "stream",
     "text": [
      "<class 'list'>\n"
     ]
    }
   ],
   "source": [
    "nums = [1,8.5,9]\n",
    "print(type(nums))"
   ]
  },
  {
   "cell_type": "code",
   "execution_count": 27,
   "id": "03ce0fea",
   "metadata": {},
   "outputs": [
    {
     "data": {
      "text/plain": [
       "[1, 8.5, 9]"
      ]
     },
     "execution_count": 27,
     "metadata": {},
     "output_type": "execute_result"
    }
   ],
   "source": [
    "nums"
   ]
  },
  {
   "cell_type": "code",
   "execution_count": 28,
   "id": "a097eb51",
   "metadata": {
    "scrolled": true
   },
   "outputs": [
    {
     "data": {
      "text/plain": [
       "['In',\n",
       " 'Out',\n",
       " '_',\n",
       " '_13',\n",
       " '_15',\n",
       " '_16',\n",
       " '_19',\n",
       " '_2',\n",
       " '_21',\n",
       " '_24',\n",
       " '_27',\n",
       " '_3',\n",
       " '_5',\n",
       " '__',\n",
       " '___',\n",
       " '__builtin__',\n",
       " '__builtins__',\n",
       " '__doc__',\n",
       " '__loader__',\n",
       " '__name__',\n",
       " '__package__',\n",
       " '__spec__',\n",
       " '_dh',\n",
       " '_exit_code',\n",
       " '_i',\n",
       " '_i1',\n",
       " '_i10',\n",
       " '_i11',\n",
       " '_i12',\n",
       " '_i13',\n",
       " '_i14',\n",
       " '_i15',\n",
       " '_i16',\n",
       " '_i17',\n",
       " '_i18',\n",
       " '_i19',\n",
       " '_i2',\n",
       " '_i20',\n",
       " '_i21',\n",
       " '_i22',\n",
       " '_i23',\n",
       " '_i24',\n",
       " '_i25',\n",
       " '_i26',\n",
       " '_i27',\n",
       " '_i28',\n",
       " '_i3',\n",
       " '_i4',\n",
       " '_i5',\n",
       " '_i6',\n",
       " '_i7',\n",
       " '_i8',\n",
       " '_i9',\n",
       " '_ih',\n",
       " '_ii',\n",
       " '_iii',\n",
       " '_oh',\n",
       " 'df',\n",
       " 'exit',\n",
       " 'get_ipython',\n",
       " 'i',\n",
       " 'name',\n",
       " 'nums',\n",
       " 'pd',\n",
       " 'quit',\n",
       " 'x']"
      ]
     },
     "execution_count": 28,
     "metadata": {},
     "output_type": "execute_result"
    }
   ],
   "source": [
    "dir()"
   ]
  },
  {
   "cell_type": "code",
   "execution_count": 31,
   "id": "5ac34f5f",
   "metadata": {},
   "outputs": [],
   "source": [
    "lives = 98"
   ]
  },
  {
   "cell_type": "code",
   "execution_count": 32,
   "id": "d1923dab",
   "metadata": {},
   "outputs": [
    {
     "data": {
      "text/plain": [
       "98"
      ]
     },
     "execution_count": 32,
     "metadata": {},
     "output_type": "execute_result"
    }
   ],
   "source": [
    "lives"
   ]
  },
  {
   "cell_type": "code",
   "execution_count": 33,
   "id": "24f32fa4",
   "metadata": {},
   "outputs": [
    {
     "name": "stdout",
     "output_type": "stream",
     "text": [
      "<class 'int'>\n"
     ]
    }
   ],
   "source": [
    "print(type(lives))"
   ]
  },
  {
   "cell_type": "markdown",
   "id": "d91fb05d",
   "metadata": {},
   "source": [
    "python variables naming rules"
   ]
  },
  {
   "cell_type": "code",
   "execution_count": 34,
   "id": "6ebb8763",
   "metadata": {},
   "outputs": [],
   "source": [
    "flag = 0"
   ]
  },
  {
   "cell_type": "code",
   "execution_count": 35,
   "id": "cbce6d37",
   "metadata": {},
   "outputs": [
    {
     "data": {
      "text/plain": [
       "0"
      ]
     },
     "execution_count": 35,
     "metadata": {},
     "output_type": "execute_result"
    }
   ],
   "source": [
    "flag"
   ]
  },
  {
   "cell_type": "code",
   "execution_count": 36,
   "id": "6f11d2db",
   "metadata": {},
   "outputs": [],
   "source": [
    "_9lives = 'cat'"
   ]
  },
  {
   "cell_type": "code",
   "execution_count": 38,
   "id": "7b5b0342",
   "metadata": {},
   "outputs": [
    {
     "data": {
      "text/plain": [
       "'cat'"
      ]
     },
     "execution_count": 38,
     "metadata": {},
     "output_type": "execute_result"
    }
   ],
   "source": [
    "_9lives"
   ]
  },
  {
   "cell_type": "code",
   "execution_count": 39,
   "id": "b703e8f4",
   "metadata": {},
   "outputs": [],
   "source": [
    "year2 = \"manjunath\""
   ]
  },
  {
   "cell_type": "code",
   "execution_count": 40,
   "id": "de12b47b",
   "metadata": {},
   "outputs": [
    {
     "data": {
      "text/plain": [
       "'manjunath'"
      ]
     },
     "execution_count": 40,
     "metadata": {},
     "output_type": "execute_result"
    }
   ],
   "source": [
    "year2"
   ]
  },
  {
   "cell_type": "markdown",
   "id": "0012d3ad",
   "metadata": {},
   "source": [
    "# Python is case-sensitive, and so are Python identifiers. Name and name are two different identifiers"
   ]
  },
  {
   "cell_type": "code",
   "execution_count": 41,
   "id": "6d63d9ce",
   "metadata": {},
   "outputs": [],
   "source": [
    "name = 'kannur'"
   ]
  },
  {
   "cell_type": "code",
   "execution_count": 42,
   "id": "43cab833",
   "metadata": {},
   "outputs": [
    {
     "data": {
      "text/plain": [
       "'kannur'"
      ]
     },
     "execution_count": 42,
     "metadata": {},
     "output_type": "execute_result"
    }
   ],
   "source": [
    "name"
   ]
  },
  {
   "cell_type": "code",
   "execution_count": 43,
   "id": "e9ced021",
   "metadata": {},
   "outputs": [
    {
     "name": "stdout",
     "output_type": "stream",
     "text": [
      "30\n"
     ]
    }
   ],
   "source": [
    "age = 30\n",
    "print(age)"
   ]
  },
  {
   "cell_type": "code",
   "execution_count": 44,
   "id": "4344bb75",
   "metadata": {},
   "outputs": [
    {
     "data": {
      "text/plain": [
       "30"
      ]
     },
     "execution_count": 44,
     "metadata": {},
     "output_type": "execute_result"
    }
   ],
   "source": [
    "age"
   ]
  },
  {
   "cell_type": "code",
   "execution_count": 45,
   "id": "d0c52b19",
   "metadata": {},
   "outputs": [
    {
     "ename": "NameError",
     "evalue": "name 'kannur' is not defined",
     "output_type": "error",
     "traceback": [
      "\u001b[1;31m---------------------------------------------------------------------------\u001b[0m",
      "\u001b[1;31mNameError\u001b[0m                                 Traceback (most recent call last)",
      "\u001b[1;32m<ipython-input-45-9a73230a69bf>\u001b[0m in \u001b[0;36m<module>\u001b[1;34m\u001b[0m\n\u001b[1;32m----> 1\u001b[1;33m \u001b[0mkannur\u001b[0m\u001b[1;33m\u001b[0m\u001b[1;33m\u001b[0m\u001b[0m\n\u001b[0m",
      "\u001b[1;31mNameError\u001b[0m: name 'kannur' is not defined"
     ]
    }
   ],
   "source": [
    "kannur"
   ]
  },
  {
   "cell_type": "code",
   "execution_count": 46,
   "id": "74dd8c5e",
   "metadata": {},
   "outputs": [
    {
     "ename": "SyntaxError",
     "evalue": "cannot assign to False (<ipython-input-46-93dfc36efa82>, line 1)",
     "output_type": "error",
     "traceback": [
      "\u001b[1;36m  File \u001b[1;32m\"<ipython-input-46-93dfc36efa82>\"\u001b[1;36m, line \u001b[1;32m1\u001b[0m\n\u001b[1;33m    False = name\u001b[0m\n\u001b[1;37m    ^\u001b[0m\n\u001b[1;31mSyntaxError\u001b[0m\u001b[1;31m:\u001b[0m cannot assign to False\n"
     ]
    }
   ],
   "source": [
    "False = name"
   ]
  },
  {
   "cell_type": "code",
   "execution_count": 47,
   "id": "05b6af83",
   "metadata": {},
   "outputs": [],
   "source": [
    "name = False"
   ]
  },
  {
   "cell_type": "code",
   "execution_count": 48,
   "id": "6c52266e",
   "metadata": {},
   "outputs": [
    {
     "data": {
      "text/plain": [
       "False"
      ]
     },
     "execution_count": 48,
     "metadata": {},
     "output_type": "execute_result"
    }
   ],
   "source": [
    "name"
   ]
  },
  {
   "cell_type": "markdown",
   "id": "68f99595",
   "metadata": {},
   "source": [
    "# Multiple Assignment"
   ]
  },
  {
   "cell_type": "code",
   "execution_count": 50,
   "id": "ab1186e2",
   "metadata": {},
   "outputs": [
    {
     "name": "stdout",
     "output_type": "stream",
     "text": [
      "30 bangalore\n"
     ]
    }
   ],
   "source": [
    "age , city = 30 , 'bangalore'\n",
    "print(age,city)"
   ]
  },
  {
   "cell_type": "code",
   "execution_count": 51,
   "id": "4c85fceb",
   "metadata": {},
   "outputs": [
    {
     "name": "stdout",
     "output_type": "stream",
     "text": [
      "7 7\n"
     ]
    }
   ],
   "source": [
    "age=fav=7\n",
    "print(age,fav)"
   ]
  },
  {
   "cell_type": "code",
   "execution_count": 53,
   "id": "a98a8f51",
   "metadata": {},
   "outputs": [
    {
     "name": "stdout",
     "output_type": "stream",
     "text": [
      "no\n"
     ]
    }
   ],
   "source": [
    "if age==city:\n",
    "    print(\"yes\")\n",
    "else:\n",
    "    print(\"no\")"
   ]
  },
  {
   "cell_type": "markdown",
   "id": "5c4ce270",
   "metadata": {},
   "source": [
    "# Swapping Variables"
   ]
  },
  {
   "cell_type": "code",
   "execution_count": 54,
   "id": "477404dc",
   "metadata": {},
   "outputs": [],
   "source": [
    "a,b = 'red','blue'"
   ]
  },
  {
   "cell_type": "code",
   "execution_count": 56,
   "id": "b1eedec1",
   "metadata": {},
   "outputs": [
    {
     "name": "stdout",
     "output_type": "stream",
     "text": [
      "red blue\n"
     ]
    }
   ],
   "source": [
    "a,b = b,a\n",
    "print(a,b)"
   ]
  },
  {
   "cell_type": "code",
   "execution_count": 57,
   "id": "81e7a18c",
   "metadata": {},
   "outputs": [
    {
     "name": "stdout",
     "output_type": "stream",
     "text": [
      "red blue\n"
     ]
    }
   ],
   "source": [
    "print(a,b)"
   ]
  },
  {
   "cell_type": "code",
   "execution_count": 58,
   "id": "9e04e13d",
   "metadata": {},
   "outputs": [],
   "source": [
    "a = 'red'"
   ]
  },
  {
   "cell_type": "code",
   "execution_count": 59,
   "id": "ad32830f",
   "metadata": {},
   "outputs": [],
   "source": [
    "b = 'blue'"
   ]
  },
  {
   "cell_type": "code",
   "execution_count": 60,
   "id": "ca2cf3ce",
   "metadata": {},
   "outputs": [],
   "source": [
    "a,b = b,a"
   ]
  },
  {
   "cell_type": "code",
   "execution_count": 61,
   "id": "e58a3b7a",
   "metadata": {},
   "outputs": [
    {
     "name": "stdout",
     "output_type": "stream",
     "text": [
      "blue red\n"
     ]
    }
   ],
   "source": [
    "print(a,b)"
   ]
  },
  {
   "cell_type": "markdown",
   "id": "49c15b67",
   "metadata": {},
   "source": [
    " # Deleting Variables"
   ]
  },
  {
   "cell_type": "code",
   "execution_count": 62,
   "id": "1dcd4a9d",
   "metadata": {},
   "outputs": [],
   "source": [
    "a = 'red'"
   ]
  },
  {
   "cell_type": "code",
   "execution_count": 63,
   "id": "a98a1a21",
   "metadata": {},
   "outputs": [
    {
     "data": {
      "text/plain": [
       "'red'"
      ]
     },
     "execution_count": 63,
     "metadata": {},
     "output_type": "execute_result"
    }
   ],
   "source": [
    "a"
   ]
  },
  {
   "cell_type": "code",
   "execution_count": 64,
   "id": "7fd3ae54",
   "metadata": {},
   "outputs": [],
   "source": [
    "del a"
   ]
  },
  {
   "cell_type": "code",
   "execution_count": 65,
   "id": "5e238b0f",
   "metadata": {},
   "outputs": [
    {
     "ename": "NameError",
     "evalue": "name 'a' is not defined",
     "output_type": "error",
     "traceback": [
      "\u001b[1;31m---------------------------------------------------------------------------\u001b[0m",
      "\u001b[1;31mNameError\u001b[0m                                 Traceback (most recent call last)",
      "\u001b[1;32m<ipython-input-65-3f786850e387>\u001b[0m in \u001b[0;36m<module>\u001b[1;34m\u001b[0m\n\u001b[1;32m----> 1\u001b[1;33m \u001b[0ma\u001b[0m\u001b[1;33m\u001b[0m\u001b[1;33m\u001b[0m\u001b[0m\n\u001b[0m",
      "\u001b[1;31mNameError\u001b[0m: name 'a' is not defined"
     ]
    }
   ],
   "source": [
    "a"
   ]
  },
  {
   "cell_type": "markdown",
   "id": "d6061306",
   "metadata": {},
   "source": [
    "### My Great Heading {#custom-id}"
   ]
  },
  {
   "cell_type": "markdown",
   "id": "236cf47e",
   "metadata": {},
   "source": [
    "First Term\n",
    ": This is the definition of the first term.\n",
    "\n",
    "Second Term\n",
    ": This is one definition of the second term.\n",
    ": This is another definition of the second term."
   ]
  },
  {
   "cell_type": "markdown",
   "id": "b043e83b",
   "metadata": {},
   "source": [
    "| Syntax      | Description |\n",
    "| ----------- | ----------- |\n",
    "| Header      | Title       |\n",
    "| Paragraph   | Text        |"
   ]
  },
  {
   "cell_type": "markdown",
   "id": "ee25c34d",
   "metadata": {},
   "source": [
    "# python numbers"
   ]
  },
  {
   "cell_type": "code",
   "execution_count": 87,
   "id": "8c1d0164",
   "metadata": {},
   "outputs": [
    {
     "name": "stdout",
     "output_type": "stream",
     "text": [
      "<class 'int'>\n"
     ]
    }
   ],
   "source": [
    "a = 7\n",
    "print(type(a))"
   ]
  },
  {
   "cell_type": "code",
   "execution_count": 88,
   "id": "dc1cc865",
   "metadata": {},
   "outputs": [
    {
     "name": "stdout",
     "output_type": "stream",
     "text": [
      "<class 'int'>\n"
     ]
    }
   ],
   "source": [
    "a = 999999999999999999999999999999999999999999999999999999999999\n",
    "print(type(a))"
   ]
  },
  {
   "cell_type": "code",
   "execution_count": 89,
   "id": "337575a0",
   "metadata": {},
   "outputs": [
    {
     "name": "stdout",
     "output_type": "stream",
     "text": [
      "<class 'float'>\n"
     ]
    }
   ],
   "source": [
    "a = 3.5\n",
    "print(type(a))"
   ]
  },
  {
   "cell_type": "code",
   "execution_count": 91,
   "id": "3bcae059",
   "metadata": {},
   "outputs": [
    {
     "name": "stdout",
     "output_type": "stream",
     "text": [
      "<class 'complex'>\n"
     ]
    }
   ],
   "source": [
    "complex1 = 2+3j\n",
    "print(type(complex1))"
   ]
  },
  {
   "cell_type": "code",
   "execution_count": 92,
   "id": "645d5d39",
   "metadata": {},
   "outputs": [
    {
     "data": {
      "text/plain": [
       "(2+3j)"
      ]
     },
     "execution_count": 92,
     "metadata": {},
     "output_type": "execute_result"
    }
   ],
   "source": [
    "complex1"
   ]
  },
  {
   "cell_type": "markdown",
   "id": "4536e885",
   "metadata": {},
   "source": [
    "# string\n",
    "## A string is a sequence of characters"
   ]
  },
  {
   "cell_type": "code",
   "execution_count": 93,
   "id": "734f9535",
   "metadata": {},
   "outputs": [],
   "source": [
    "city = 'bangalore'"
   ]
  },
  {
   "cell_type": "code",
   "execution_count": 94,
   "id": "0f6cabd4",
   "metadata": {},
   "outputs": [
    {
     "data": {
      "text/plain": [
       "'bangalore'"
      ]
     },
     "execution_count": 94,
     "metadata": {},
     "output_type": "execute_result"
    }
   ],
   "source": [
    "city"
   ]
  },
  {
   "cell_type": "code",
   "execution_count": 99,
   "id": "3a7dda05",
   "metadata": {},
   "outputs": [
    {
     "name": "stdout",
     "output_type": "stream",
     "text": [
      "if \n",
      "only\n"
     ]
    }
   ],
   "source": [
    "var = \"\"\"if \n",
    "only\"\"\"\n",
    "print(var)"
   ]
  },
  {
   "cell_type": "code",
   "execution_count": 100,
   "id": "428f661f",
   "metadata": {},
   "outputs": [
    {
     "data": {
      "text/plain": [
       "'if \\nonly'"
      ]
     },
     "execution_count": 100,
     "metadata": {},
     "output_type": "execute_result"
    }
   ],
   "source": [
    "var"
   ]
  },
  {
   "cell_type": "code",
   "execution_count": 104,
   "id": "6d0f712a",
   "metadata": {},
   "outputs": [],
   "source": [
    "lesson = 'disappointment'"
   ]
  },
  {
   "cell_type": "code",
   "execution_count": 105,
   "id": "3fd239ae",
   "metadata": {},
   "outputs": [
    {
     "data": {
      "text/plain": [
       "'d'"
      ]
     },
     "execution_count": 105,
     "metadata": {},
     "output_type": "execute_result"
    }
   ],
   "source": [
    "lesson[0]"
   ]
  },
  {
   "cell_type": "code",
   "execution_count": 107,
   "id": "c3eafbad",
   "metadata": {},
   "outputs": [
    {
     "data": {
      "text/plain": [
       "'i'"
      ]
     },
     "execution_count": 107,
     "metadata": {},
     "output_type": "execute_result"
    }
   ],
   "source": [
    "lesson[1]"
   ]
  },
  {
   "cell_type": "code",
   "execution_count": 108,
   "id": "d23a3853",
   "metadata": {},
   "outputs": [
    {
     "data": {
      "text/plain": [
       "'s'"
      ]
     },
     "execution_count": 108,
     "metadata": {},
     "output_type": "execute_result"
    }
   ],
   "source": [
    "lesson[2]"
   ]
  },
  {
   "cell_type": "code",
   "execution_count": 109,
   "id": "699b16ea",
   "metadata": {},
   "outputs": [
    {
     "data": {
      "text/plain": [
       "'point'"
      ]
     },
     "execution_count": 109,
     "metadata": {},
     "output_type": "execute_result"
    }
   ],
   "source": [
    "lesson[5:10]"
   ]
  },
  {
   "cell_type": "markdown",
   "id": "83add364",
   "metadata": {},
   "source": [
    "# String Formatters"
   ]
  },
  {
   "cell_type": "code",
   "execution_count": 110,
   "id": "37e5d4bb",
   "metadata": {},
   "outputs": [],
   "source": [
    "x = 30"
   ]
  },
  {
   "cell_type": "code",
   "execution_count": 111,
   "id": "92323a6a",
   "metadata": {},
   "outputs": [],
   "source": [
    "name = 'manjunath'"
   ]
  },
  {
   "cell_type": "code",
   "execution_count": 112,
   "id": "e6552498",
   "metadata": {},
   "outputs": [
    {
     "name": "stdout",
     "output_type": "stream",
     "text": [
      "i just printed age is 30 and name is manjunath\n"
     ]
    }
   ],
   "source": [
    "print(\"i just printed age is %s and name is %s\"%(x,name))"
   ]
  },
  {
   "cell_type": "code",
   "execution_count": 113,
   "id": "2b88e72e",
   "metadata": {},
   "outputs": [
    {
     "name": "stdout",
     "output_type": "stream",
     "text": [
      "i just printed age is 30 and name is manjunath\n"
     ]
    }
   ],
   "source": [
    "print(\"i just printed age is {0} and name is {1}\".format(x,name))"
   ]
  },
  {
   "cell_type": "code",
   "execution_count": 114,
   "id": "c251f67b",
   "metadata": {},
   "outputs": [
    {
     "name": "stdout",
     "output_type": "stream",
     "text": [
      "i just printed age is 7 and name is kannur\n"
     ]
    }
   ],
   "source": [
    "print(\"i just printed age is {x} and name is {name}\".format(x=7,name='kannur'))"
   ]
  },
  {
   "cell_type": "code",
   "execution_count": 116,
   "id": "6a6a6c02",
   "metadata": {},
   "outputs": [
    {
     "name": "stdout",
     "output_type": "stream",
     "text": [
      "i just printed 30 pages to the printermanjunath\n"
     ]
    }
   ],
   "source": [
    "print(f\"i just printed {x} pages to the printer{name}\")"
   ]
  },
  {
   "cell_type": "markdown",
   "id": "d97b299c",
   "metadata": {},
   "source": [
    "# String Concatenation"
   ]
  },
  {
   "cell_type": "code",
   "execution_count": 117,
   "id": "e5d874c6",
   "metadata": {},
   "outputs": [
    {
     "name": "stdout",
     "output_type": "stream",
     "text": [
      "1010\n"
     ]
    }
   ],
   "source": [
    "a='10'\n",
    "print(a+a)"
   ]
  },
  {
   "cell_type": "code",
   "execution_count": 118,
   "id": "c6e89524",
   "metadata": {},
   "outputs": [
    {
     "ename": "TypeError",
     "evalue": "can only concatenate str (not \"int\") to str",
     "output_type": "error",
     "traceback": [
      "\u001b[1;31m---------------------------------------------------------------------------\u001b[0m",
      "\u001b[1;31mTypeError\u001b[0m                                 Traceback (most recent call last)",
      "\u001b[1;32m<ipython-input-118-308a455eb55d>\u001b[0m in \u001b[0;36m<module>\u001b[1;34m\u001b[0m\n\u001b[1;32m----> 1\u001b[1;33m \u001b[0mprint\u001b[0m\u001b[1;33m(\u001b[0m\u001b[1;34m'10'\u001b[0m\u001b[1;33m+\u001b[0m\u001b[1;36m10\u001b[0m\u001b[1;33m)\u001b[0m\u001b[1;33m\u001b[0m\u001b[1;33m\u001b[0m\u001b[0m\n\u001b[0m",
      "\u001b[1;31mTypeError\u001b[0m: can only concatenate str (not \"int\") to str"
     ]
    }
   ],
   "source": [
    "print('10'+10)"
   ]
  },
  {
   "cell_type": "markdown",
   "id": "d61fec67",
   "metadata": {},
   "source": [
    "# Python Lists"
   ]
  },
  {
   "cell_type": "code",
   "execution_count": 119,
   "id": "ee49b378",
   "metadata": {},
   "outputs": [],
   "source": [
    "days = ['Monday','Tuesday',3,4,5,6,7]"
   ]
  },
  {
   "cell_type": "code",
   "execution_count": 120,
   "id": "0cb05015",
   "metadata": {},
   "outputs": [
    {
     "data": {
      "text/plain": [
       "['Monday', 'Tuesday', 3, 4, 5, 6, 7]"
      ]
     },
     "execution_count": 120,
     "metadata": {},
     "output_type": "execute_result"
    }
   ],
   "source": [
    "days"
   ]
  },
  {
   "cell_type": "code",
   "execution_count": 121,
   "id": "a91d8254",
   "metadata": {},
   "outputs": [
    {
     "name": "stdout",
     "output_type": "stream",
     "text": [
      "<class 'list'>\n"
     ]
    }
   ],
   "source": [
    "print(type(days))"
   ]
  },
  {
   "cell_type": "code",
   "execution_count": 122,
   "id": "d14ed28d",
   "metadata": {},
   "outputs": [
    {
     "data": {
      "text/plain": [
       "['Tuesday', 3]"
      ]
     },
     "execution_count": 122,
     "metadata": {},
     "output_type": "execute_result"
    }
   ],
   "source": [
    "days[1:3]"
   ]
  },
  {
   "cell_type": "code",
   "execution_count": 123,
   "id": "2ac8af12",
   "metadata": {},
   "outputs": [
    {
     "data": {
      "text/plain": [
       "[3, 4, 5]"
      ]
     },
     "execution_count": 123,
     "metadata": {},
     "output_type": "execute_result"
    }
   ],
   "source": [
    "days[2:5]"
   ]
  },
  {
   "cell_type": "code",
   "execution_count": 124,
   "id": "e1d8b2ea",
   "metadata": {},
   "outputs": [
    {
     "data": {
      "text/plain": [
       "[4, 5]"
      ]
     },
     "execution_count": 124,
     "metadata": {},
     "output_type": "execute_result"
    }
   ],
   "source": [
    "days[3:5]"
   ]
  },
  {
   "cell_type": "code",
   "execution_count": 125,
   "id": "05cbe980",
   "metadata": {},
   "outputs": [
    {
     "data": {
      "text/plain": [
       "[7, 6, 5, 4, 3, 'Tuesday', 'Monday']"
      ]
     },
     "execution_count": 125,
     "metadata": {},
     "output_type": "execute_result"
    }
   ],
   "source": [
    "days[::-1]"
   ]
  },
  {
   "cell_type": "code",
   "execution_count": 126,
   "id": "449e21b0",
   "metadata": {},
   "outputs": [
    {
     "data": {
      "text/plain": [
       "7"
      ]
     },
     "execution_count": 126,
     "metadata": {},
     "output_type": "execute_result"
    }
   ],
   "source": [
    "len(days)"
   ]
  },
  {
   "cell_type": "code",
   "execution_count": 127,
   "id": "9045b5e2",
   "metadata": {},
   "outputs": [],
   "source": [
    "days[2]='wednesday'"
   ]
  },
  {
   "cell_type": "code",
   "execution_count": 137,
   "id": "b4ccf5aa",
   "metadata": {},
   "outputs": [
    {
     "data": {
      "text/plain": [
       "['Monday', 'Tuesday', 'wednesday', 'thursday', 'friday', 'saturday', 'sunday']"
      ]
     },
     "execution_count": 137,
     "metadata": {},
     "output_type": "execute_result"
    }
   ],
   "source": [
    "days"
   ]
  },
  {
   "cell_type": "code",
   "execution_count": 129,
   "id": "993a5e46",
   "metadata": {},
   "outputs": [
    {
     "data": {
      "text/plain": [
       "7"
      ]
     },
     "execution_count": 129,
     "metadata": {},
     "output_type": "execute_result"
    }
   ],
   "source": [
    "len(days)"
   ]
  },
  {
   "cell_type": "code",
   "execution_count": 136,
   "id": "f1b80921",
   "metadata": {},
   "outputs": [],
   "source": [
    "days[6]='sunday'"
   ]
  },
  {
   "cell_type": "code",
   "execution_count": 138,
   "id": "e473cffe",
   "metadata": {},
   "outputs": [
    {
     "data": {
      "text/plain": [
       "['Monday', 'Tuesday', 'wednesday', 'thursday', 'friday', 'saturday', 'sunday']"
      ]
     },
     "execution_count": 138,
     "metadata": {},
     "output_type": "execute_result"
    }
   ],
   "source": [
    "days"
   ]
  },
  {
   "cell_type": "markdown",
   "id": "905c4319",
   "metadata": {},
   "source": [
    "# d.Iterating on the List"
   ]
  },
  {
   "cell_type": "code",
   "execution_count": 139,
   "id": "53c2b9fe",
   "metadata": {},
   "outputs": [
    {
     "name": "stdout",
     "output_type": "stream",
     "text": [
      "1\n",
      "2\n",
      "5\n",
      "6\n",
      "8\n"
     ]
    }
   ],
   "source": [
    "nums = [1,2,5,6,8]\n",
    "for n in nums:\n",
    "    print(n)"
   ]
  },
  {
   "cell_type": "code",
   "execution_count": 145,
   "id": "3ba6dae0",
   "metadata": {},
   "outputs": [
    {
     "name": "stdout",
     "output_type": "stream",
     "text": [
      "Monday 6\n",
      "Tuesday 7\n",
      "wednesday 9\n",
      "thursday 8\n",
      "friday 6\n",
      "saturday 8\n",
      "sunday 6\n"
     ]
    }
   ],
   "source": [
    "for n in days:\n",
    "    print(n,len(n))"
   ]
  },
  {
   "cell_type": "markdown",
   "id": "4f14dd31",
   "metadata": {},
   "source": [
    "# e. Multidimensional Lists"
   ]
  },
  {
   "cell_type": "code",
   "execution_count": 146,
   "id": "ff4a50cd",
   "metadata": {},
   "outputs": [],
   "source": [
    "a = [[1,2,3],[4,5,6]]"
   ]
  },
  {
   "cell_type": "code",
   "execution_count": 147,
   "id": "b5451bd5",
   "metadata": {},
   "outputs": [
    {
     "data": {
      "text/plain": [
       "[[1, 2, 3], [4, 5, 6]]"
      ]
     },
     "execution_count": 147,
     "metadata": {},
     "output_type": "execute_result"
    }
   ],
   "source": [
    "a"
   ]
  },
  {
   "cell_type": "code",
   "execution_count": 159,
   "id": "d251cd88",
   "metadata": {},
   "outputs": [],
   "source": [
    "string = \"this is my string\""
   ]
  },
  {
   "cell_type": "code",
   "execution_count": 155,
   "id": "84dec30f",
   "metadata": {},
   "outputs": [],
   "source": [
    "mylist = [''.join(string)]"
   ]
  },
  {
   "cell_type": "markdown",
   "id": "b75f4f88",
   "metadata": {},
   "source": [
    "mylist"
   ]
  },
  {
   "cell_type": "code",
   "execution_count": 160,
   "id": "a8a3f71f",
   "metadata": {},
   "outputs": [],
   "source": [
    "my = ''.join(list(string))"
   ]
  },
  {
   "cell_type": "code",
   "execution_count": 161,
   "id": "711cf206",
   "metadata": {},
   "outputs": [
    {
     "data": {
      "text/plain": [
       "'this is my string'"
      ]
     },
     "execution_count": 161,
     "metadata": {},
     "output_type": "execute_result"
    }
   ],
   "source": [
    "my"
   ]
  },
  {
   "cell_type": "markdown",
   "id": "af0aa3a4",
   "metadata": {},
   "source": [
    "# 4. Python Tuples "
   ]
  },
  {
   "cell_type": "code",
   "execution_count": 162,
   "id": "ad95419c",
   "metadata": {},
   "outputs": [],
   "source": [
    "subject = ('physics','chemistry','maths')"
   ]
  },
  {
   "cell_type": "code",
   "execution_count": 165,
   "id": "5634b443",
   "metadata": {},
   "outputs": [
    {
     "data": {
      "text/plain": [
       "'maths'"
      ]
     },
     "execution_count": 165,
     "metadata": {},
     "output_type": "execute_result"
    }
   ],
   "source": [
    "subject[1];subject[2]"
   ]
  },
  {
   "cell_type": "code",
   "execution_count": 166,
   "id": "88f0da9c",
   "metadata": {},
   "outputs": [
    {
     "data": {
      "text/plain": [
       "'physics'"
      ]
     },
     "execution_count": 166,
     "metadata": {},
     "output_type": "execute_result"
    }
   ],
   "source": [
    "subject[0]"
   ]
  },
  {
   "cell_type": "code",
   "execution_count": 167,
   "id": "6a539c83",
   "metadata": {},
   "outputs": [
    {
     "ename": "IndexError",
     "evalue": "tuple index out of range",
     "output_type": "error",
     "traceback": [
      "\u001b[1;31m---------------------------------------------------------------------------\u001b[0m",
      "\u001b[1;31mIndexError\u001b[0m                                Traceback (most recent call last)",
      "\u001b[1;32m<ipython-input-167-34dfe071ba43>\u001b[0m in \u001b[0;36m<module>\u001b[1;34m\u001b[0m\n\u001b[1;32m----> 1\u001b[1;33m \u001b[0msubject\u001b[0m\u001b[1;33m[\u001b[0m\u001b[1;36m3\u001b[0m\u001b[1;33m]\u001b[0m\u001b[1;33m\u001b[0m\u001b[1;33m\u001b[0m\u001b[0m\n\u001b[0m",
      "\u001b[1;31mIndexError\u001b[0m: tuple index out of range"
     ]
    }
   ],
   "source": [
    "subject[3]"
   ]
  },
  {
   "cell_type": "markdown",
   "id": "4688d7bd",
   "metadata": {},
   "source": [
    "# b. A tuple is Immutable"
   ]
  },
  {
   "cell_type": "code",
   "execution_count": 168,
   "id": "72dd7bdc",
   "metadata": {},
   "outputs": [
    {
     "ename": "TypeError",
     "evalue": "'tuple' object does not support item assignment",
     "output_type": "error",
     "traceback": [
      "\u001b[1;31m---------------------------------------------------------------------------\u001b[0m",
      "\u001b[1;31mTypeError\u001b[0m                                 Traceback (most recent call last)",
      "\u001b[1;32m<ipython-input-168-77d6860f489e>\u001b[0m in \u001b[0;36m<module>\u001b[1;34m\u001b[0m\n\u001b[1;32m----> 1\u001b[1;33m \u001b[0msubject\u001b[0m\u001b[1;33m[\u001b[0m\u001b[1;36m2\u001b[0m\u001b[1;33m]\u001b[0m \u001b[1;33m=\u001b[0m \u001b[1;34m'biology'\u001b[0m\u001b[1;33m\u001b[0m\u001b[1;33m\u001b[0m\u001b[0m\n\u001b[0m",
      "\u001b[1;31mTypeError\u001b[0m: 'tuple' object does not support item assignment"
     ]
    }
   ],
   "source": [
    "subject[2] = 'biology'"
   ]
  },
  {
   "cell_type": "markdown",
   "id": "280b5e22",
   "metadata": {},
   "source": [
    "# 5. Dictionaries\n",
    "## A dictionary holds key-value pairs. Declare it in curly braces, with pairs separated by commas. Separate keys and values by a colon(:)."
   ]
  },
  {
   "cell_type": "code",
   "execution_count": 169,
   "id": "8c5c8f6d",
   "metadata": {},
   "outputs": [],
   "source": [
    "person = {'city':'bangalore','age':30}"
   ]
  },
  {
   "cell_type": "code",
   "execution_count": 170,
   "id": "490b3fe8",
   "metadata": {},
   "outputs": [
    {
     "data": {
      "text/plain": [
       "{'city': 'bangalore', 'age': 30}"
      ]
     },
     "execution_count": 170,
     "metadata": {},
     "output_type": "execute_result"
    }
   ],
   "source": [
    "person"
   ]
  },
  {
   "cell_type": "code",
   "execution_count": 171,
   "id": "80b5ad67",
   "metadata": {},
   "outputs": [
    {
     "data": {
      "text/plain": [
       "dict_keys(['city', 'age'])"
      ]
     },
     "execution_count": 171,
     "metadata": {},
     "output_type": "execute_result"
    }
   ],
   "source": [
    "person.keys()"
   ]
  },
  {
   "cell_type": "code",
   "execution_count": 172,
   "id": "2c1c6848",
   "metadata": {},
   "outputs": [
    {
     "data": {
      "text/plain": [
       "dict_values(['bangalore', 30])"
      ]
     },
     "execution_count": 172,
     "metadata": {},
     "output_type": "execute_result"
    }
   ],
   "source": [
    "person.values()"
   ]
  },
  {
   "cell_type": "code",
   "execution_count": 174,
   "id": "ea761084",
   "metadata": {},
   "outputs": [
    {
     "name": "stdout",
     "output_type": "stream",
     "text": [
      "<class 'dict'>\n"
     ]
    }
   ],
   "source": [
    "print(type(person))"
   ]
  },
  {
   "cell_type": "code",
   "execution_count": 175,
   "id": "610495b4",
   "metadata": {},
   "outputs": [
    {
     "data": {
      "text/plain": [
       "'bangalore'"
      ]
     },
     "execution_count": 175,
     "metadata": {},
     "output_type": "execute_result"
    }
   ],
   "source": [
    "person['city']"
   ]
  },
  {
   "cell_type": "code",
   "execution_count": 176,
   "id": "6d20386a",
   "metadata": {},
   "outputs": [
    {
     "data": {
      "text/plain": [
       "30"
      ]
     },
     "execution_count": 176,
     "metadata": {},
     "output_type": "execute_result"
    }
   ],
   "source": [
    "person['age']"
   ]
  },
  {
   "cell_type": "code",
   "execution_count": 177,
   "id": "eefb1b9e",
   "metadata": {},
   "outputs": [],
   "source": [
    "person['age']='3'"
   ]
  },
  {
   "cell_type": "code",
   "execution_count": 178,
   "id": "d09e5123",
   "metadata": {},
   "outputs": [
    {
     "data": {
      "text/plain": [
       "{'city': 'bangalore', 'age': '3'}"
      ]
     },
     "execution_count": 178,
     "metadata": {},
     "output_type": "execute_result"
    }
   ],
   "source": [
    "person"
   ]
  },
  {
   "cell_type": "markdown",
   "id": "e127603b",
   "metadata": {},
   "source": [
    "# c. List of Keys"
   ]
  },
  {
   "cell_type": "code",
   "execution_count": 180,
   "id": "c58f3a06",
   "metadata": {},
   "outputs": [
    {
     "data": {
      "text/plain": [
       "dict_keys(['city', 'age'])"
      ]
     },
     "execution_count": 180,
     "metadata": {},
     "output_type": "execute_result"
    }
   ],
   "source": [
    "person.keys()"
   ]
  },
  {
   "cell_type": "code",
   "execution_count": 181,
   "id": "9cd67296",
   "metadata": {},
   "outputs": [
    {
     "data": {
      "text/plain": [
       "dict_values(['bangalore', '3'])"
      ]
     },
     "execution_count": 181,
     "metadata": {},
     "output_type": "execute_result"
    }
   ],
   "source": [
    "person.values()"
   ]
  },
  {
   "cell_type": "markdown",
   "id": "e0484d0b",
   "metadata": {},
   "source": [
    "# 6. bool"
   ]
  },
  {
   "cell_type": "code",
   "execution_count": 182,
   "id": "5a363e67",
   "metadata": {},
   "outputs": [
    {
     "name": "stdout",
     "output_type": "stream",
     "text": [
      "<class 'bool'>\n"
     ]
    }
   ],
   "source": [
    "a = 2>1\n",
    "print(type(a))"
   ]
  },
  {
   "cell_type": "markdown",
   "id": "7799f46e",
   "metadata": {},
   "source": [
    "# 7. Sets"
   ]
  },
  {
   "cell_type": "code",
   "execution_count": 183,
   "id": "9c0897f5",
   "metadata": {},
   "outputs": [],
   "source": [
    "a = set()"
   ]
  },
  {
   "cell_type": "code",
   "execution_count": 184,
   "id": "a279be53",
   "metadata": {},
   "outputs": [
    {
     "data": {
      "text/plain": [
       "set()"
      ]
     },
     "execution_count": 184,
     "metadata": {},
     "output_type": "execute_result"
    }
   ],
   "source": [
    "a"
   ]
  },
  {
   "cell_type": "code",
   "execution_count": 185,
   "id": "19e8c2bd",
   "metadata": {},
   "outputs": [],
   "source": [
    "a = {}"
   ]
  },
  {
   "cell_type": "code",
   "execution_count": 186,
   "id": "dff03fec",
   "metadata": {},
   "outputs": [
    {
     "name": "stdout",
     "output_type": "stream",
     "text": [
      "<class 'dict'>\n"
     ]
    }
   ],
   "source": [
    "print(type(a))"
   ]
  },
  {
   "cell_type": "code",
   "execution_count": 187,
   "id": "baf28500",
   "metadata": {},
   "outputs": [
    {
     "name": "stdout",
     "output_type": "stream",
     "text": [
      "<class 'set'>\n"
     ]
    }
   ],
   "source": [
    "a = set()\n",
    "print(type(a))"
   ]
  },
  {
   "cell_type": "code",
   "execution_count": 188,
   "id": "ecec6e27",
   "metadata": {},
   "outputs": [],
   "source": [
    "a = {1,2,3,4}"
   ]
  },
  {
   "cell_type": "code",
   "execution_count": 189,
   "id": "348a6b13",
   "metadata": {},
   "outputs": [
    {
     "name": "stdout",
     "output_type": "stream",
     "text": [
      "{1, 2, 3, 4}\n"
     ]
    }
   ],
   "source": [
    "print(a)"
   ]
  },
  {
   "cell_type": "code",
   "execution_count": 190,
   "id": "9a4e704c",
   "metadata": {},
   "outputs": [
    {
     "name": "stdout",
     "output_type": "stream",
     "text": [
      "<class 'set'>\n"
     ]
    }
   ],
   "source": [
    "print(type(a))"
   ]
  },
  {
   "cell_type": "code",
   "execution_count": 192,
   "id": "c62c6a39",
   "metadata": {},
   "outputs": [],
   "source": [
    "a = {2 ,5,6,9,8,3,2,1,6,4,9,8,7,1,2,6,9,8,9,7,4,1,6}"
   ]
  },
  {
   "cell_type": "code",
   "execution_count": 193,
   "id": "587ac320",
   "metadata": {},
   "outputs": [
    {
     "data": {
      "text/plain": [
       "{1, 2, 3, 4, 5, 6, 7, 8, 9}"
      ]
     },
     "execution_count": 193,
     "metadata": {},
     "output_type": "execute_result"
    }
   ],
   "source": [
    "a"
   ]
  },
  {
   "cell_type": "code",
   "execution_count": 195,
   "id": "9e62f763",
   "metadata": {},
   "outputs": [],
   "source": [
    "a.remove(6)"
   ]
  },
  {
   "cell_type": "code",
   "execution_count": 196,
   "id": "5758c1f9",
   "metadata": {},
   "outputs": [
    {
     "data": {
      "text/plain": [
       "{1, 2, 3, 4, 5, 7, 8, 9}"
      ]
     },
     "execution_count": 196,
     "metadata": {},
     "output_type": "execute_result"
    }
   ],
   "source": [
    "a"
   ]
  },
  {
   "cell_type": "code",
   "execution_count": 197,
   "id": "b5861908",
   "metadata": {},
   "outputs": [],
   "source": [
    "a.add(6)"
   ]
  },
  {
   "cell_type": "code",
   "execution_count": 198,
   "id": "6beaeab3",
   "metadata": {},
   "outputs": [
    {
     "data": {
      "text/plain": [
       "{1, 2, 3, 4, 5, 6, 7, 8, 9}"
      ]
     },
     "execution_count": 198,
     "metadata": {},
     "output_type": "execute_result"
    }
   ],
   "source": [
    "a"
   ]
  },
  {
   "cell_type": "markdown",
   "id": "7dbcb328",
   "metadata": {},
   "source": [
    "# Type Conversion"
   ]
  },
  {
   "cell_type": "markdown",
   "id": "28da0cdf",
   "metadata": {},
   "source": [
    "## 1. int()"
   ]
  },
  {
   "cell_type": "code",
   "execution_count": 199,
   "id": "790946a3",
   "metadata": {},
   "outputs": [
    {
     "data": {
      "text/plain": [
       "3"
      ]
     },
     "execution_count": 199,
     "metadata": {},
     "output_type": "execute_result"
    }
   ],
   "source": [
    "int(3.5)"
   ]
  },
  {
   "cell_type": "code",
   "execution_count": 200,
   "id": "46cf44ef",
   "metadata": {},
   "outputs": [
    {
     "ename": "ValueError",
     "evalue": "invalid literal for int() with base 10: 'a'",
     "output_type": "error",
     "traceback": [
      "\u001b[1;31m---------------------------------------------------------------------------\u001b[0m",
      "\u001b[1;31mValueError\u001b[0m                                Traceback (most recent call last)",
      "\u001b[1;32m<ipython-input-200-d9136db7b558>\u001b[0m in \u001b[0;36m<module>\u001b[1;34m\u001b[0m\n\u001b[1;32m----> 1\u001b[1;33m \u001b[0mint\u001b[0m\u001b[1;33m(\u001b[0m\u001b[1;34m\"a\"\u001b[0m\u001b[1;33m)\u001b[0m\u001b[1;33m\u001b[0m\u001b[1;33m\u001b[0m\u001b[0m\n\u001b[0m",
      "\u001b[1;31mValueError\u001b[0m: invalid literal for int() with base 10: 'a'"
     ]
    }
   ],
   "source": [
    "int(\"a\")"
   ]
  },
  {
   "cell_type": "code",
   "execution_count": 201,
   "id": "311a69ff",
   "metadata": {},
   "outputs": [
    {
     "data": {
      "text/plain": [
       "45"
      ]
     },
     "execution_count": 201,
     "metadata": {},
     "output_type": "execute_result"
    }
   ],
   "source": [
    "int(\"45\")"
   ]
  },
  {
   "cell_type": "markdown",
   "id": "e28fe843",
   "metadata": {},
   "source": [
    "## 2. float()"
   ]
  },
  {
   "cell_type": "code",
   "execution_count": 1,
   "id": "935c988e",
   "metadata": {},
   "outputs": [
    {
     "data": {
      "text/plain": [
       "77.0"
      ]
     },
     "execution_count": 1,
     "metadata": {},
     "output_type": "execute_result"
    }
   ],
   "source": [
    "float(\"77\")"
   ]
  },
  {
   "cell_type": "code",
   "execution_count": 2,
   "id": "2b8d507e",
   "metadata": {},
   "outputs": [
    {
     "data": {
      "text/plain": [
       "25.0"
      ]
     },
     "execution_count": 2,
     "metadata": {},
     "output_type": "execute_result"
    }
   ],
   "source": [
    "float(25)"
   ]
  },
  {
   "cell_type": "markdown",
   "id": "956426cd",
   "metadata": {},
   "source": [
    "# Python Variable Scope\n"
   ]
  },
  {
   "cell_type": "code",
   "execution_count": 4,
   "id": "47d79928",
   "metadata": {},
   "outputs": [],
   "source": [
    "b =8 # global variable"
   ]
  },
  {
   "cell_type": "code",
   "execution_count": 5,
   "id": "ec48a8c1",
   "metadata": {},
   "outputs": [],
   "source": [
    "def func():\n",
    "    a =7 # local variable\n",
    "    print(a)\n",
    "    print(b)"
   ]
  },
  {
   "cell_type": "code",
   "execution_count": 6,
   "id": "0ae037b1",
   "metadata": {},
   "outputs": [
    {
     "name": "stdout",
     "output_type": "stream",
     "text": [
      "7\n",
      "8\n"
     ]
    }
   ],
   "source": [
    "func()"
   ]
  },
  {
   "cell_type": "markdown",
   "id": "1119df60",
   "metadata": {},
   "source": [
    "# Types of Python Variable Scope\n",
    "-built-in\n",
    "-global scope\n",
    "-enclosing scope\n",
    "-local scope"
   ]
  },
  {
   "cell_type": "markdown",
   "id": "a1da8656",
   "metadata": {},
   "source": [
    "## 1. Local Scope in Python"
   ]
  },
  {
   "cell_type": "code",
   "execution_count": 7,
   "id": "5cae2666",
   "metadata": {},
   "outputs": [
    {
     "ename": "SyntaxError",
     "evalue": "invalid syntax (<ipython-input-7-b452c9228e12>, line 1)",
     "output_type": "error",
     "traceback": [
      "\u001b[1;36m  File \u001b[1;32m\"<ipython-input-7-b452c9228e12>\"\u001b[1;36m, line \u001b[1;32m1\u001b[0m\n\u001b[1;33m    def show()\u001b[0m\n\u001b[1;37m              ^\u001b[0m\n\u001b[1;31mSyntaxError\u001b[0m\u001b[1;31m:\u001b[0m invalid syntax\n"
     ]
    }
   ],
   "source": [
    "def show()"
   ]
  },
  {
   "cell_type": "code",
   "execution_count": 8,
   "id": "b485bed5",
   "metadata": {},
   "outputs": [],
   "source": [
    "b=8"
   ]
  },
  {
   "cell_type": "code",
   "execution_count": 9,
   "id": "18ebea52",
   "metadata": {},
   "outputs": [
    {
     "name": "stdout",
     "output_type": "stream",
     "text": [
      "7\n",
      "8\n"
     ]
    }
   ],
   "source": [
    "def show():\n",
    "    a=7\n",
    "    print(a)\n",
    "    print(b)\n",
    "show()"
   ]
  },
  {
   "cell_type": "markdown",
   "id": "fc12056f",
   "metadata": {},
   "source": [
    "## Types of Python Variable Scope"
   ]
  },
  {
   "cell_type": "markdown",
   "id": "bb24dd9f",
   "metadata": {},
   "source": [
    "### 1. Local Scope in Python"
   ]
  },
  {
   "cell_type": "code",
   "execution_count": 11,
   "id": "2e810a1b",
   "metadata": {},
   "outputs": [],
   "source": [
    "a = 0"
   ]
  },
  {
   "cell_type": "code",
   "execution_count": 12,
   "id": "639c6979",
   "metadata": {},
   "outputs": [
    {
     "ename": "UnboundLocalError",
     "evalue": "local variable 'a' referenced before assignment",
     "output_type": "error",
     "traceback": [
      "\u001b[1;31m---------------------------------------------------------------------------\u001b[0m",
      "\u001b[1;31mUnboundLocalError\u001b[0m                         Traceback (most recent call last)",
      "\u001b[1;32m<ipython-input-12-dd931ece5e3e>\u001b[0m in \u001b[0;36m<module>\u001b[1;34m\u001b[0m\n\u001b[0;32m      3\u001b[0m     \u001b[0ma\u001b[0m\u001b[1;33m=\u001b[0m\u001b[1;36m1\u001b[0m\u001b[1;33m\u001b[0m\u001b[1;33m\u001b[0m\u001b[0m\n\u001b[0;32m      4\u001b[0m     \u001b[0mprint\u001b[0m\u001b[1;33m(\u001b[0m\u001b[0ma\u001b[0m\u001b[1;33m)\u001b[0m\u001b[1;33m\u001b[0m\u001b[1;33m\u001b[0m\u001b[0m\n\u001b[1;32m----> 5\u001b[1;33m \u001b[0mfunc\u001b[0m\u001b[1;33m(\u001b[0m\u001b[1;33m)\u001b[0m\u001b[1;33m\u001b[0m\u001b[1;33m\u001b[0m\u001b[0m\n\u001b[0m",
      "\u001b[1;32m<ipython-input-12-dd931ece5e3e>\u001b[0m in \u001b[0;36mfunc\u001b[1;34m()\u001b[0m\n\u001b[0;32m      1\u001b[0m \u001b[1;32mdef\u001b[0m \u001b[0mfunc\u001b[0m\u001b[1;33m(\u001b[0m\u001b[1;33m)\u001b[0m\u001b[1;33m:\u001b[0m\u001b[1;33m\u001b[0m\u001b[1;33m\u001b[0m\u001b[0m\n\u001b[1;32m----> 2\u001b[1;33m     \u001b[0mprint\u001b[0m\u001b[1;33m(\u001b[0m\u001b[0ma\u001b[0m\u001b[1;33m)\u001b[0m\u001b[1;33m\u001b[0m\u001b[1;33m\u001b[0m\u001b[0m\n\u001b[0m\u001b[0;32m      3\u001b[0m     \u001b[0ma\u001b[0m\u001b[1;33m=\u001b[0m\u001b[1;36m1\u001b[0m\u001b[1;33m\u001b[0m\u001b[1;33m\u001b[0m\u001b[0m\n\u001b[0;32m      4\u001b[0m     \u001b[0mprint\u001b[0m\u001b[1;33m(\u001b[0m\u001b[0ma\u001b[0m\u001b[1;33m)\u001b[0m\u001b[1;33m\u001b[0m\u001b[1;33m\u001b[0m\u001b[0m\n\u001b[0;32m      5\u001b[0m \u001b[0mfunc\u001b[0m\u001b[1;33m(\u001b[0m\u001b[1;33m)\u001b[0m\u001b[1;33m\u001b[0m\u001b[1;33m\u001b[0m\u001b[0m\n",
      "\u001b[1;31mUnboundLocalError\u001b[0m: local variable 'a' referenced before assignment"
     ]
    }
   ],
   "source": [
    "def func():\n",
    "    print(a)\n",
    "    a=1\n",
    "    print(a)\n",
    "func()"
   ]
  },
  {
   "cell_type": "code",
   "execution_count": 13,
   "id": "89fbdfc9",
   "metadata": {},
   "outputs": [
    {
     "name": "stdout",
     "output_type": "stream",
     "text": [
      "1\n"
     ]
    }
   ],
   "source": [
    "def func(a=0):\n",
    "    a+=1\n",
    "    print(a)\n",
    "func()"
   ]
  },
  {
   "cell_type": "markdown",
   "id": "4450af2e",
   "metadata": {},
   "source": [
    "### 2. Global Scope in Python "
   ]
  },
  {
   "cell_type": "code",
   "execution_count": 14,
   "id": "3aecae8c",
   "metadata": {},
   "outputs": [
    {
     "name": "stdout",
     "output_type": "stream",
     "text": [
      "1\n",
      "2\n",
      "1\n"
     ]
    }
   ],
   "source": [
    "def red():\n",
    "    a = 1\n",
    "    def blue():\n",
    "        b = 2\n",
    "        print(a)\n",
    "        print(b)\n",
    "    blue()\n",
    "    print(a)\n",
    "red()"
   ]
  },
  {
   "cell_type": "code",
   "execution_count": 15,
   "id": "1859ea56",
   "metadata": {},
   "outputs": [
    {
     "name": "stdout",
     "output_type": "stream",
     "text": [
      "2\n"
     ]
    }
   ],
   "source": [
    "a=1\n",
    "def counter():\n",
    "    a=2\n",
    "    print(a)\n",
    "counter()"
   ]
  },
  {
   "cell_type": "code",
   "execution_count": 16,
   "id": "26f1a762",
   "metadata": {},
   "outputs": [
    {
     "data": {
      "text/plain": [
       "1"
      ]
     },
     "execution_count": 16,
     "metadata": {},
     "output_type": "execute_result"
    }
   ],
   "source": [
    "a"
   ]
  },
  {
   "cell_type": "code",
   "execution_count": 17,
   "id": "2b0bd005",
   "metadata": {},
   "outputs": [
    {
     "name": "stdout",
     "output_type": "stream",
     "text": [
      "2\n"
     ]
    }
   ],
   "source": [
    "a = 1\n",
    "def counter():\n",
    "    global a\n",
    "    a =2\n",
    "    print(a)\n",
    "counter()"
   ]
  },
  {
   "cell_type": "code",
   "execution_count": 18,
   "id": "7d032ee7",
   "metadata": {},
   "outputs": [
    {
     "data": {
      "text/plain": [
       "2"
      ]
     },
     "execution_count": 18,
     "metadata": {},
     "output_type": "execute_result"
    }
   ],
   "source": [
    "a"
   ]
  },
  {
   "cell_type": "code",
   "execution_count": 21,
   "id": "74757567",
   "metadata": {},
   "outputs": [
    {
     "name": "stdout",
     "output_type": "stream",
     "text": [
      "2\n",
      "2\n",
      "1\n"
     ]
    }
   ],
   "source": [
    "def show():\n",
    "    a = 1\n",
    "    def inner():\n",
    "        a=2\n",
    "        b=2\n",
    "        print(a)\n",
    "        print(b)\n",
    "    inner()\n",
    "    print(a)\n",
    "show()"
   ]
  },
  {
   "cell_type": "code",
   "execution_count": 22,
   "id": "d04b1342",
   "metadata": {},
   "outputs": [
    {
     "name": "stdout",
     "output_type": "stream",
     "text": [
      "2\n",
      "2\n",
      "2\n"
     ]
    }
   ],
   "source": [
    "def red():\n",
    "    a =1\n",
    "    def blue():\n",
    "        nonlocal a\n",
    "        a = 2\n",
    "        b = 2\n",
    "        print(a)\n",
    "        print(b)\n",
    "    blue()\n",
    "    print(a)\n",
    "red()"
   ]
  },
  {
   "cell_type": "markdown",
   "id": "0560c486",
   "metadata": {},
   "source": [
    "# Python String Functions and Operations\n",
    "1. introduction\n",
    "2. declaring string \n",
    "3. using quotes inside a string\n",
    "4. spanning a string across lines\n",
    "5. accesing a string\n",
    "6. string conatenation\n",
    "7. string fromatters\n",
    "8. escape sequences\n",
    "9. string functions\n",
    "10. operation on string"
   ]
  },
  {
   "cell_type": "code",
   "execution_count": 23,
   "id": "a6e8c450",
   "metadata": {},
   "outputs": [
    {
     "data": {
      "text/plain": [
       "str"
      ]
     },
     "execution_count": 23,
     "metadata": {},
     "output_type": "execute_result"
    }
   ],
   "source": [
    "type(\"dogs are love\")"
   ]
  },
  {
   "cell_type": "code",
   "execution_count": 24,
   "id": "62a9d657",
   "metadata": {},
   "outputs": [
    {
     "name": "stdout",
     "output_type": "stream",
     "text": [
      "<class 'str'>\n"
     ]
    }
   ],
   "source": [
    "print(type('dogs are love'))"
   ]
  },
  {
   "cell_type": "code",
   "execution_count": 25,
   "id": "9765cfb9",
   "metadata": {},
   "outputs": [],
   "source": [
    "a = 'dogs are love'"
   ]
  },
  {
   "cell_type": "code",
   "execution_count": 26,
   "id": "f85f449a",
   "metadata": {},
   "outputs": [
    {
     "name": "stdout",
     "output_type": "stream",
     "text": [
      "dogs are love\n"
     ]
    }
   ],
   "source": [
    "print(a)"
   ]
  },
  {
   "cell_type": "code",
   "execution_count": 27,
   "id": "b085fbd8",
   "metadata": {},
   "outputs": [],
   "source": [
    "a = \"dogs are love\""
   ]
  },
  {
   "cell_type": "code",
   "execution_count": 28,
   "id": "12eec90b",
   "metadata": {},
   "outputs": [
    {
     "name": "stdout",
     "output_type": "stream",
     "text": [
      "dogs are love\n"
     ]
    }
   ],
   "source": [
    "print(a)"
   ]
  },
  {
   "cell_type": "code",
   "execution_count": 30,
   "id": "70648c3a",
   "metadata": {},
   "outputs": [],
   "source": [
    "a = \"dogs are love\""
   ]
  },
  {
   "cell_type": "code",
   "execution_count": 31,
   "id": "7032dd51",
   "metadata": {},
   "outputs": [
    {
     "data": {
      "text/plain": [
       "'dogs are love'"
      ]
     },
     "execution_count": 31,
     "metadata": {},
     "output_type": "execute_result"
    }
   ],
   "source": [
    "a"
   ]
  },
  {
   "cell_type": "code",
   "execution_count": 32,
   "id": "5d010d5a",
   "metadata": {},
   "outputs": [
    {
     "ename": "SyntaxError",
     "evalue": "invalid syntax (<ipython-input-32-edc40f7612c8>, line 1)",
     "output_type": "error",
     "traceback": [
      "\u001b[1;36m  File \u001b[1;32m\"<ipython-input-32-edc40f7612c8>\"\u001b[1;36m, line \u001b[1;32m1\u001b[0m\n\u001b[1;33m    a = \"dogs are \"love\"\"\u001b[0m\n\u001b[1;37m                   ^\u001b[0m\n\u001b[1;31mSyntaxError\u001b[0m\u001b[1;31m:\u001b[0m invalid syntax\n"
     ]
    }
   ],
   "source": [
    "a = \"dogs are \"love\"\""
   ]
  },
  {
   "cell_type": "code",
   "execution_count": 33,
   "id": "7931c889",
   "metadata": {},
   "outputs": [],
   "source": [
    "a = ' dogs are \"love\"'"
   ]
  },
  {
   "cell_type": "code",
   "execution_count": 34,
   "id": "17e238a4",
   "metadata": {},
   "outputs": [
    {
     "data": {
      "text/plain": [
       "' dogs are \"love\"'"
      ]
     },
     "execution_count": 34,
     "metadata": {},
     "output_type": "execute_result"
    }
   ],
   "source": [
    "a"
   ]
  },
  {
   "cell_type": "code",
   "execution_count": 35,
   "id": "10cb97b2",
   "metadata": {},
   "outputs": [],
   "source": [
    "a = \"dogs are 'love'\""
   ]
  },
  {
   "cell_type": "code",
   "execution_count": 36,
   "id": "55e603ff",
   "metadata": {},
   "outputs": [
    {
     "data": {
      "text/plain": [
       "\"dogs are 'love'\""
      ]
     },
     "execution_count": 36,
     "metadata": {},
     "output_type": "execute_result"
    }
   ],
   "source": [
    "a"
   ]
  },
  {
   "cell_type": "code",
   "execution_count": 37,
   "id": "84a8bd91",
   "metadata": {},
   "outputs": [
    {
     "name": "stdout",
     "output_type": "stream",
     "text": [
      "dogs are 'love'\n"
     ]
    }
   ],
   "source": [
    "print(a)"
   ]
  },
  {
   "cell_type": "code",
   "execution_count": 38,
   "id": "a8dfa4f0",
   "metadata": {},
   "outputs": [],
   "source": [
    "a = \"\"\" hello\n",
    "wellcome\n",
    "\"\"\""
   ]
  },
  {
   "cell_type": "code",
   "execution_count": 39,
   "id": "baff0905",
   "metadata": {},
   "outputs": [
    {
     "data": {
      "text/plain": [
       "' hello\\nwellcome\\n'"
      ]
     },
     "execution_count": 39,
     "metadata": {},
     "output_type": "execute_result"
    }
   ],
   "source": [
    "a"
   ]
  },
  {
   "cell_type": "code",
   "execution_count": 40,
   "id": "43ce19f9",
   "metadata": {},
   "outputs": [
    {
     "name": "stdout",
     "output_type": "stream",
     "text": [
      " hello\n",
      "wellcome\n",
      "\n"
     ]
    }
   ],
   "source": [
    "print(a)"
   ]
  },
  {
   "cell_type": "code",
   "execution_count": 41,
   "id": "f4b43db3",
   "metadata": {},
   "outputs": [
    {
     "name": "stdout",
     "output_type": "stream",
     "text": [
      "hellowellcome\n"
     ]
    }
   ],
   "source": [
    "a = \"hello\\\n",
    "wellcome\"\n",
    "print(a)"
   ]
  },
  {
   "cell_type": "code",
   "execution_count": 42,
   "id": "16f3aa40",
   "metadata": {},
   "outputs": [],
   "source": [
    "a = \"dogs\""
   ]
  },
  {
   "cell_type": "code",
   "execution_count": 43,
   "id": "75335b9d",
   "metadata": {},
   "outputs": [
    {
     "data": {
      "text/plain": [
       "'dogs'"
      ]
     },
     "execution_count": 43,
     "metadata": {},
     "output_type": "execute_result"
    }
   ],
   "source": [
    "a"
   ]
  },
  {
   "cell_type": "code",
   "execution_count": 44,
   "id": "6547eb6d",
   "metadata": {},
   "outputs": [
    {
     "data": {
      "text/plain": [
       "'d'"
      ]
     },
     "execution_count": 44,
     "metadata": {},
     "output_type": "execute_result"
    }
   ],
   "source": [
    "a[0]"
   ]
  },
  {
   "cell_type": "markdown",
   "id": "029d59e5",
   "metadata": {},
   "source": [
    "### python string is a sequence of charecters"
   ]
  },
  {
   "cell_type": "code",
   "execution_count": 1,
   "id": "9401f452",
   "metadata": {},
   "outputs": [
    {
     "data": {
      "text/plain": [
       "str"
      ]
     },
     "execution_count": 1,
     "metadata": {},
     "output_type": "execute_result"
    }
   ],
   "source": [
    "type('dogs are love')"
   ]
  },
  {
   "cell_type": "code",
   "execution_count": 2,
   "id": "162f822b",
   "metadata": {},
   "outputs": [],
   "source": [
    "a = 'dogs are love'"
   ]
  },
  {
   "cell_type": "code",
   "execution_count": 3,
   "id": "2e00b02a",
   "metadata": {},
   "outputs": [
    {
     "data": {
      "text/plain": [
       "'dogs are love'"
      ]
     },
     "execution_count": 3,
     "metadata": {},
     "output_type": "execute_result"
    }
   ],
   "source": [
    "a"
   ]
  },
  {
   "cell_type": "code",
   "execution_count": 4,
   "id": "f6cc10a2",
   "metadata": {},
   "outputs": [
    {
     "name": "stdout",
     "output_type": "stream",
     "text": [
      "dogs are love\n"
     ]
    }
   ],
   "source": [
    "print(a)"
   ]
  },
  {
   "cell_type": "code",
   "execution_count": 6,
   "id": "e0684509",
   "metadata": {},
   "outputs": [],
   "source": [
    "a = \"dogs are love\""
   ]
  },
  {
   "cell_type": "code",
   "execution_count": 7,
   "id": "4f2e1b46",
   "metadata": {},
   "outputs": [
    {
     "data": {
      "text/plain": [
       "'dogs are love'"
      ]
     },
     "execution_count": 7,
     "metadata": {},
     "output_type": "execute_result"
    }
   ],
   "source": [
    "a"
   ]
  },
  {
   "cell_type": "code",
   "execution_count": 9,
   "id": "a4152ee8",
   "metadata": {},
   "outputs": [],
   "source": [
    "a = \"dogs are 'love'\""
   ]
  },
  {
   "cell_type": "code",
   "execution_count": 10,
   "id": "790a487e",
   "metadata": {},
   "outputs": [
    {
     "data": {
      "text/plain": [
       "\"dogs are 'love'\""
      ]
     },
     "execution_count": 10,
     "metadata": {},
     "output_type": "execute_result"
    }
   ],
   "source": [
    "a"
   ]
  },
  {
   "cell_type": "code",
   "execution_count": 11,
   "id": "3528d8a8",
   "metadata": {},
   "outputs": [],
   "source": [
    "a = \"dogs are 'love'\""
   ]
  },
  {
   "cell_type": "code",
   "execution_count": 12,
   "id": "0be696ec",
   "metadata": {},
   "outputs": [
    {
     "data": {
      "text/plain": [
       "\"dogs are 'love'\""
      ]
     },
     "execution_count": 12,
     "metadata": {},
     "output_type": "execute_result"
    }
   ],
   "source": [
    "a"
   ]
  },
  {
   "cell_type": "code",
   "execution_count": 13,
   "id": "af10ff4b",
   "metadata": {},
   "outputs": [],
   "source": [
    "a = \"'dogs''are''love'\""
   ]
  },
  {
   "cell_type": "code",
   "execution_count": 14,
   "id": "04673505",
   "metadata": {},
   "outputs": [
    {
     "data": {
      "text/plain": [
       "\"'dogs''are''love'\""
      ]
     },
     "execution_count": 14,
     "metadata": {},
     "output_type": "execute_result"
    }
   ],
   "source": [
    "a"
   ]
  },
  {
   "cell_type": "code",
   "execution_count": 15,
   "id": "1daa312b",
   "metadata": {},
   "outputs": [
    {
     "name": "stdout",
     "output_type": "stream",
     "text": [
      "'dogs''are''love'\n"
     ]
    }
   ],
   "source": [
    "print(a)"
   ]
  },
  {
   "cell_type": "code",
   "execution_count": 16,
   "id": "01e34405",
   "metadata": {},
   "outputs": [],
   "source": [
    "a = \"\"\"hello\n",
    "wellcome\"\"\""
   ]
  },
  {
   "cell_type": "code",
   "execution_count": 17,
   "id": "910e5377",
   "metadata": {},
   "outputs": [
    {
     "data": {
      "text/plain": [
       "'hello\\nwellcome'"
      ]
     },
     "execution_count": 17,
     "metadata": {},
     "output_type": "execute_result"
    }
   ],
   "source": [
    "a"
   ]
  },
  {
   "cell_type": "code",
   "execution_count": 18,
   "id": "9f5549c9",
   "metadata": {},
   "outputs": [
    {
     "name": "stdout",
     "output_type": "stream",
     "text": [
      "hello\n",
      "wellcome\n"
     ]
    }
   ],
   "source": [
    "print(a)"
   ]
  },
  {
   "cell_type": "markdown",
   "id": "1346bcc6",
   "metadata": {},
   "source": [
    "# How to Access the Python String"
   ]
  },
  {
   "cell_type": "code",
   "execution_count": 19,
   "id": "a79f044f",
   "metadata": {},
   "outputs": [],
   "source": [
    "name = \"manjunathkananur\""
   ]
  },
  {
   "cell_type": "code",
   "execution_count": 20,
   "id": "1fc359ba",
   "metadata": {},
   "outputs": [
    {
     "data": {
      "text/plain": [
       "'manjunathkananur'"
      ]
     },
     "execution_count": 20,
     "metadata": {},
     "output_type": "execute_result"
    }
   ],
   "source": [
    "name"
   ]
  },
  {
   "cell_type": "code",
   "execution_count": 21,
   "id": "e69b33c0",
   "metadata": {},
   "outputs": [
    {
     "name": "stdout",
     "output_type": "stream",
     "text": [
      "manjunathkananur\n"
     ]
    }
   ],
   "source": [
    "print(name)"
   ]
  },
  {
   "cell_type": "code",
   "execution_count": 22,
   "id": "621397f5",
   "metadata": {},
   "outputs": [
    {
     "data": {
      "text/plain": [
       "'m'"
      ]
     },
     "execution_count": 22,
     "metadata": {},
     "output_type": "execute_result"
    }
   ],
   "source": [
    "name[0]"
   ]
  },
  {
   "cell_type": "code",
   "execution_count": 23,
   "id": "4a6ed9fe",
   "metadata": {},
   "outputs": [
    {
     "data": {
      "text/plain": [
       "'a'"
      ]
     },
     "execution_count": 23,
     "metadata": {},
     "output_type": "execute_result"
    }
   ],
   "source": [
    "name[1]"
   ]
  },
  {
   "cell_type": "code",
   "execution_count": 24,
   "id": "22430e52",
   "metadata": {},
   "outputs": [
    {
     "data": {
      "text/plain": [
       "'n'"
      ]
     },
     "execution_count": 24,
     "metadata": {},
     "output_type": "execute_result"
    }
   ],
   "source": [
    "name[2]"
   ]
  },
  {
   "cell_type": "code",
   "execution_count": 25,
   "id": "c77e918c",
   "metadata": {},
   "outputs": [
    {
     "data": {
      "text/plain": [
       "'j'"
      ]
     },
     "execution_count": 25,
     "metadata": {},
     "output_type": "execute_result"
    }
   ],
   "source": [
    "name[3]"
   ]
  },
  {
   "cell_type": "code",
   "execution_count": 26,
   "id": "7f594dbc",
   "metadata": {},
   "outputs": [
    {
     "data": {
      "text/plain": [
       "16"
      ]
     },
     "execution_count": 26,
     "metadata": {},
     "output_type": "execute_result"
    }
   ],
   "source": [
    "len(name)"
   ]
  },
  {
   "cell_type": "code",
   "execution_count": 27,
   "id": "23374a14",
   "metadata": {},
   "outputs": [
    {
     "ename": "TypeError",
     "evalue": "'str' object does not support item assignment",
     "output_type": "error",
     "traceback": [
      "\u001b[1;31m---------------------------------------------------------------------------\u001b[0m",
      "\u001b[1;31mTypeError\u001b[0m                                 Traceback (most recent call last)",
      "\u001b[1;32m<ipython-input-27-ffd853a713fd>\u001b[0m in \u001b[0;36m<module>\u001b[1;34m\u001b[0m\n\u001b[1;32m----> 1\u001b[1;33m \u001b[0mname\u001b[0m\u001b[1;33m[\u001b[0m\u001b[1;36m0\u001b[0m\u001b[1;33m]\u001b[0m \u001b[1;33m=\u001b[0m \u001b[1;34m'H'\u001b[0m\u001b[1;33m\u001b[0m\u001b[1;33m\u001b[0m\u001b[0m\n\u001b[0m",
      "\u001b[1;31mTypeError\u001b[0m: 'str' object does not support item assignment"
     ]
    }
   ],
   "source": [
    "name[0] = 'H'"
   ]
  },
  {
   "cell_type": "code",
   "execution_count": 28,
   "id": "b6ce4022",
   "metadata": {},
   "outputs": [
    {
     "name": "stdout",
     "output_type": "stream",
     "text": [
      "manjunathkananur\n"
     ]
    }
   ],
   "source": [
    "print(name)"
   ]
  },
  {
   "cell_type": "markdown",
   "id": "45f5973c",
   "metadata": {},
   "source": [
    "## 1. Displaying a single character"
   ]
  },
  {
   "cell_type": "code",
   "execution_count": 29,
   "id": "e4ed8300",
   "metadata": {},
   "outputs": [
    {
     "data": {
      "text/plain": [
       "'a'"
      ]
     },
     "execution_count": 29,
     "metadata": {},
     "output_type": "execute_result"
    }
   ],
   "source": [
    "name[1]"
   ]
  },
  {
   "cell_type": "code",
   "execution_count": 30,
   "id": "51704576",
   "metadata": {},
   "outputs": [
    {
     "data": {
      "text/plain": [
       "'n'"
      ]
     },
     "execution_count": 30,
     "metadata": {},
     "output_type": "execute_result"
    }
   ],
   "source": [
    "name[5]"
   ]
  },
  {
   "cell_type": "code",
   "execution_count": 31,
   "id": "613573b6",
   "metadata": {},
   "outputs": [
    {
     "data": {
      "text/plain": [
       "'r'"
      ]
     },
     "execution_count": 31,
     "metadata": {},
     "output_type": "execute_result"
    }
   ],
   "source": [
    "name[15]"
   ]
  },
  {
   "cell_type": "markdown",
   "id": "57367dfd",
   "metadata": {},
   "source": [
    "## 2. Slicing a string"
   ]
  },
  {
   "cell_type": "code",
   "execution_count": 32,
   "id": "162dea5b",
   "metadata": {},
   "outputs": [
    {
     "data": {
      "text/plain": [
       "'junat'"
      ]
     },
     "execution_count": 32,
     "metadata": {},
     "output_type": "execute_result"
    }
   ],
   "source": [
    "name[3:8]"
   ]
  },
  {
   "cell_type": "markdown",
   "id": "a01a9b7d",
   "metadata": {},
   "source": [
    "|m|a|n|j|u|n|a|t|h|k|a|n|n|u|r\n",
    "|0|1|2|3|4|5|6|7|8|9|10|11|12|13|"
   ]
  },
  {
   "cell_type": "code",
   "execution_count": 33,
   "id": "138cb829",
   "metadata": {},
   "outputs": [
    {
     "data": {
      "text/plain": [
       "'hello\\nwe'"
      ]
     },
     "execution_count": 33,
     "metadata": {},
     "output_type": "execute_result"
    }
   ],
   "source": [
    "a[:8]"
   ]
  },
  {
   "cell_type": "code",
   "execution_count": 34,
   "id": "2cb3c07e",
   "metadata": {},
   "outputs": [
    {
     "data": {
      "text/plain": [
       "'manju'"
      ]
     },
     "execution_count": 34,
     "metadata": {},
     "output_type": "execute_result"
    }
   ],
   "source": [
    "name[:5]"
   ]
  },
  {
   "cell_type": "code",
   "execution_count": 35,
   "id": "fc04a84b",
   "metadata": {},
   "outputs": [
    {
     "data": {
      "text/plain": [
       "'runanakhtanujnam'"
      ]
     },
     "execution_count": 35,
     "metadata": {},
     "output_type": "execute_result"
    }
   ],
   "source": [
    "name[::-1]"
   ]
  },
  {
   "cell_type": "code",
   "execution_count": 36,
   "id": "11f04abd",
   "metadata": {},
   "outputs": [
    {
     "data": {
      "text/plain": [
       "'hkananur'"
      ]
     },
     "execution_count": 36,
     "metadata": {},
     "output_type": "execute_result"
    }
   ],
   "source": [
    "name[8:]"
   ]
  },
  {
   "cell_type": "code",
   "execution_count": 37,
   "id": "cc3850b3",
   "metadata": {},
   "outputs": [
    {
     "data": {
      "text/plain": [
       "'manjunathkananur'"
      ]
     },
     "execution_count": 37,
     "metadata": {},
     "output_type": "execute_result"
    }
   ],
   "source": [
    "name[:]"
   ]
  },
  {
   "cell_type": "code",
   "execution_count": 38,
   "id": "6e5f6807",
   "metadata": {},
   "outputs": [
    {
     "data": {
      "text/plain": [
       "'manjunathkanan'"
      ]
     },
     "execution_count": 38,
     "metadata": {},
     "output_type": "execute_result"
    }
   ],
   "source": [
    "name[:-2]"
   ]
  },
  {
   "cell_type": "code",
   "execution_count": 39,
   "id": "a266d2d0",
   "metadata": {},
   "outputs": [
    {
     "data": {
      "text/plain": [
       "'ur'"
      ]
     },
     "execution_count": 39,
     "metadata": {},
     "output_type": "execute_result"
    }
   ],
   "source": [
    "name[-2:]"
   ]
  },
  {
   "cell_type": "markdown",
   "id": "17db58d0",
   "metadata": {},
   "source": [
    "### |m|a|n|j|u|n|a|t|h|k|a|n|n|u|r|\n",
    "    |0|1|2|3|4|5|6|7|8|9|10|11|12|13|"
   ]
  },
  {
   "cell_type": "code",
   "execution_count": 40,
   "id": "770c3d1d",
   "metadata": {},
   "outputs": [
    {
     "data": {
      "text/plain": [
       "'n'"
      ]
     },
     "execution_count": 40,
     "metadata": {},
     "output_type": "execute_result"
    }
   ],
   "source": [
    "name[-3:-2]"
   ]
  },
  {
   "cell_type": "markdown",
   "id": "6a804338",
   "metadata": {},
   "source": [
    "# Python String Concatenation"
   ]
  },
  {
   "cell_type": "code",
   "execution_count": 41,
   "id": "64672c0f",
   "metadata": {},
   "outputs": [],
   "source": [
    "string = 'do you see this, '"
   ]
  },
  {
   "cell_type": "code",
   "execution_count": 42,
   "id": "a1b599f3",
   "metadata": {},
   "outputs": [
    {
     "data": {
      "text/plain": [
       "'do you see this, '"
      ]
     },
     "execution_count": 42,
     "metadata": {},
     "output_type": "execute_result"
    }
   ],
   "source": [
    "string"
   ]
  },
  {
   "cell_type": "code",
   "execution_count": 43,
   "id": "ac2078ac",
   "metadata": {},
   "outputs": [],
   "source": [
    "con = \"$$?\""
   ]
  },
  {
   "cell_type": "code",
   "execution_count": 44,
   "id": "e13a35cb",
   "metadata": {},
   "outputs": [
    {
     "data": {
      "text/plain": [
       "'do you see this, $$?'"
      ]
     },
     "execution_count": 44,
     "metadata": {},
     "output_type": "execute_result"
    }
   ],
   "source": [
    "string+con"
   ]
  },
  {
   "cell_type": "code",
   "execution_count": 45,
   "id": "ce413d20",
   "metadata": {},
   "outputs": [
    {
     "name": "stdout",
     "output_type": "stream",
     "text": [
      "1010\n"
     ]
    }
   ],
   "source": [
    "a = '10'\n",
    "print(a*2)"
   ]
  },
  {
   "cell_type": "code",
   "execution_count": 59,
   "id": "1041bdd0",
   "metadata": {},
   "outputs": [
    {
     "name": "stdout",
     "output_type": "stream",
     "text": [
      "0\n",
      "1\n",
      "3\n",
      "7\n",
      "15\n"
     ]
    }
   ],
   "source": [
    "for i in range(5):\n",
    "    print(2**i-1)"
   ]
  },
  {
   "cell_type": "code",
   "execution_count": 63,
   "id": "6d0b481d",
   "metadata": {},
   "outputs": [],
   "source": [
    "def star():\n",
    "    row = int(input(\"enter the number of rows\"))\n",
    "    for i in range(0,row):\n",
    "        for j in range(0,i+1):\n",
    "            print(\"*\",end='')\n",
    "        print(\"\")"
   ]
  },
  {
   "cell_type": "code",
   "execution_count": 64,
   "id": "e59f6c02",
   "metadata": {},
   "outputs": [
    {
     "name": "stdout",
     "output_type": "stream",
     "text": [
      "enter the number of rows5\n",
      "*\n",
      "**\n",
      "***\n",
      "****\n",
      "*****\n"
     ]
    }
   ],
   "source": [
    "star()"
   ]
  },
  {
   "cell_type": "code",
   "execution_count": 65,
   "id": "79200353",
   "metadata": {},
   "outputs": [],
   "source": [
    "city = 'muddebihal'"
   ]
  },
  {
   "cell_type": "code",
   "execution_count": 66,
   "id": "59a60691",
   "metadata": {},
   "outputs": [
    {
     "name": "stdout",
     "output_type": "stream",
     "text": [
      "age 21 City muddebihal\n"
     ]
    }
   ],
   "source": [
    "print(\"age\",\"21\",\"City\",city)"
   ]
  },
  {
   "cell_type": "code",
   "execution_count": 67,
   "id": "5a66dd02",
   "metadata": {},
   "outputs": [],
   "source": [
    "name = \"manjunath\""
   ]
  },
  {
   "cell_type": "code",
   "execution_count": 68,
   "id": "95ffa681",
   "metadata": {},
   "outputs": [
    {
     "name": "stdout",
     "output_type": "stream",
     "text": [
      "my name is manjunath\n"
     ]
    }
   ],
   "source": [
    "print(f'my name is {name}')"
   ]
  },
  {
   "cell_type": "code",
   "execution_count": 69,
   "id": "9278014c",
   "metadata": {},
   "outputs": [
    {
     "name": "stdout",
     "output_type": "stream",
     "text": [
      "i love manjunath\n"
     ]
    }
   ],
   "source": [
    "print(\"i love {0}\".format(name))"
   ]
  },
  {
   "cell_type": "code",
   "execution_count": 70,
   "id": "16693fa1",
   "metadata": {},
   "outputs": [
    {
     "name": "stdout",
     "output_type": "stream",
     "text": [
      "i love manjunath\n"
     ]
    }
   ],
   "source": [
    "print(\"i love {a}\".format(a=\"manjunath\"))"
   ]
  },
  {
   "cell_type": "code",
   "execution_count": 71,
   "id": "441e5c38",
   "metadata": {},
   "outputs": [],
   "source": [
    "firstname = \"manjunath\""
   ]
  },
  {
   "cell_type": "code",
   "execution_count": 72,
   "id": "967dd8ef",
   "metadata": {},
   "outputs": [],
   "source": [
    "lastname = \"kannur\""
   ]
  },
  {
   "cell_type": "code",
   "execution_count": 73,
   "id": "30118a9c",
   "metadata": {},
   "outputs": [
    {
     "name": "stdout",
     "output_type": "stream",
     "text": [
      "i love manjunath and kannur\n"
     ]
    }
   ],
   "source": [
    "print(\"i love %s and %s\"%(firstname,lastname))"
   ]
  },
  {
   "cell_type": "code",
   "execution_count": 74,
   "id": "fffbf475",
   "metadata": {},
   "outputs": [
    {
     "name": "stdout",
     "output_type": "stream",
     "text": [
      "hello\to\n"
     ]
    }
   ],
   "source": [
    "print(\"hello\\to\")"
   ]
  },
  {
   "cell_type": "markdown",
   "id": "4df8dc32",
   "metadata": {},
   "source": [
    "# Python String Functions"
   ]
  },
  {
   "cell_type": "markdown",
   "id": "c73ca151",
   "metadata": {},
   "source": [
    "## len"
   ]
  },
  {
   "cell_type": "code",
   "execution_count": 75,
   "id": "2d6e157a",
   "metadata": {},
   "outputs": [
    {
     "data": {
      "text/plain": [
       "9"
      ]
     },
     "execution_count": 75,
     "metadata": {},
     "output_type": "execute_result"
    }
   ],
   "source": [
    "len(name)"
   ]
  },
  {
   "cell_type": "code",
   "execution_count": 76,
   "id": "3b972db7",
   "metadata": {},
   "outputs": [
    {
     "data": {
      "text/plain": [
       "9"
      ]
     },
     "execution_count": 76,
     "metadata": {},
     "output_type": "execute_result"
    }
   ],
   "source": [
    "len(firstname)"
   ]
  },
  {
   "cell_type": "code",
   "execution_count": 77,
   "id": "ed69116f",
   "metadata": {},
   "outputs": [
    {
     "data": {
      "text/plain": [
       "6"
      ]
     },
     "execution_count": 77,
     "metadata": {},
     "output_type": "execute_result"
    }
   ],
   "source": [
    "len(lastname)"
   ]
  },
  {
   "cell_type": "code",
   "execution_count": 78,
   "id": "dcf7e002",
   "metadata": {},
   "outputs": [
    {
     "data": {
      "text/plain": [
       "7"
      ]
     },
     "execution_count": 78,
     "metadata": {},
     "output_type": "execute_result"
    }
   ],
   "source": [
    "len(firstname[2:])"
   ]
  },
  {
   "cell_type": "markdown",
   "id": "3b49e40f",
   "metadata": {},
   "source": [
    "## str()"
   ]
  },
  {
   "cell_type": "markdown",
   "id": "519efcbd",
   "metadata": {},
   "source": [
    "### this function converts any data type into string"
   ]
  },
  {
   "cell_type": "code",
   "execution_count": 79,
   "id": "e671500c",
   "metadata": {},
   "outputs": [
    {
     "data": {
      "text/plain": [
       "\"['red', 'green', 'blue']\""
      ]
     },
     "execution_count": 79,
     "metadata": {},
     "output_type": "execute_result"
    }
   ],
   "source": [
    "str(['red','green','blue'])"
   ]
  },
  {
   "cell_type": "code",
   "execution_count": 80,
   "id": "47f21e68",
   "metadata": {},
   "outputs": [],
   "source": [
    "mylist = ['1','5','6','8','9','3']"
   ]
  },
  {
   "cell_type": "code",
   "execution_count": 83,
   "id": "e1e1b609",
   "metadata": {},
   "outputs": [],
   "source": [
    "string =''.join(str(mylist))"
   ]
  },
  {
   "cell_type": "code",
   "execution_count": 84,
   "id": "4ca8e624",
   "metadata": {},
   "outputs": [
    {
     "data": {
      "text/plain": [
       "\"['1', '5', '6', '8', '9', '3']\""
      ]
     },
     "execution_count": 84,
     "metadata": {},
     "output_type": "execute_result"
    }
   ],
   "source": [
    "string"
   ]
  },
  {
   "cell_type": "markdown",
   "id": "ace41186",
   "metadata": {},
   "source": [
    " ## 3. lower() and upper()"
   ]
  },
  {
   "cell_type": "code",
   "execution_count": 85,
   "id": "d790e45d",
   "metadata": {},
   "outputs": [],
   "source": [
    "string = \"renukadevi\""
   ]
  },
  {
   "cell_type": "code",
   "execution_count": 86,
   "id": "c4e3083d",
   "metadata": {},
   "outputs": [
    {
     "data": {
      "text/plain": [
       "'renukadevi'"
      ]
     },
     "execution_count": 86,
     "metadata": {},
     "output_type": "execute_result"
    }
   ],
   "source": [
    "string.lower()"
   ]
  },
  {
   "cell_type": "code",
   "execution_count": 87,
   "id": "478b8fc2",
   "metadata": {},
   "outputs": [
    {
     "data": {
      "text/plain": [
       "'RENUKADEVI'"
      ]
     },
     "execution_count": 87,
     "metadata": {},
     "output_type": "execute_result"
    }
   ],
   "source": [
    "string.upper()"
   ]
  },
  {
   "cell_type": "code",
   "execution_count": 88,
   "id": "af46f9ab",
   "metadata": {},
   "outputs": [
    {
     "data": {
      "text/plain": [
       "'renukadevi'"
      ]
     },
     "execution_count": 88,
     "metadata": {},
     "output_type": "execute_result"
    }
   ],
   "source": [
    "string.strip()"
   ]
  },
  {
   "cell_type": "code",
   "execution_count": 91,
   "id": "90de7fcc",
   "metadata": {},
   "outputs": [
    {
     "name": "stdout",
     "output_type": "stream",
     "text": [
      " kannur\n"
     ]
    }
   ],
   "source": [
    "name = \" kannur\"\n",
    "print(name)"
   ]
  },
  {
   "cell_type": "markdown",
   "id": "43ef1b6c",
   "metadata": {},
   "source": [
    "## 4. strip()"
   ]
  },
  {
   "cell_type": "code",
   "execution_count": 92,
   "id": "2c4c34ea",
   "metadata": {},
   "outputs": [],
   "source": [
    "space = name.strip()"
   ]
  },
  {
   "cell_type": "code",
   "execution_count": 93,
   "id": "830fcacd",
   "metadata": {},
   "outputs": [
    {
     "data": {
      "text/plain": [
       "' kannur'"
      ]
     },
     "execution_count": 93,
     "metadata": {},
     "output_type": "execute_result"
    }
   ],
   "source": [
    "name"
   ]
  },
  {
   "cell_type": "code",
   "execution_count": 94,
   "id": "dc0bcf7b",
   "metadata": {},
   "outputs": [
    {
     "data": {
      "text/plain": [
       "'kannur'"
      ]
     },
     "execution_count": 94,
     "metadata": {},
     "output_type": "execute_result"
    }
   ],
   "source": [
    "space"
   ]
  },
  {
   "cell_type": "code",
   "execution_count": 95,
   "id": "1530a7a7",
   "metadata": {},
   "outputs": [],
   "source": [
    "a = ' book'"
   ]
  },
  {
   "cell_type": "code",
   "execution_count": 96,
   "id": "5ad174ad",
   "metadata": {},
   "outputs": [
    {
     "data": {
      "text/plain": [
       "' book'"
      ]
     },
     "execution_count": 96,
     "metadata": {},
     "output_type": "execute_result"
    }
   ],
   "source": [
    "a"
   ]
  },
  {
   "cell_type": "code",
   "execution_count": 97,
   "id": "d4922ed9",
   "metadata": {},
   "outputs": [
    {
     "data": {
      "text/plain": [
       "'book'"
      ]
     },
     "execution_count": 97,
     "metadata": {},
     "output_type": "execute_result"
    }
   ],
   "source": [
    "a.strip()"
   ]
  },
  {
   "cell_type": "markdown",
   "id": "9d3ce836",
   "metadata": {},
   "source": [
    "### 5. isdigit()"
   ]
  },
  {
   "cell_type": "code",
   "execution_count": 98,
   "id": "7a3b0c02",
   "metadata": {},
   "outputs": [],
   "source": [
    "a = '777'"
   ]
  },
  {
   "cell_type": "code",
   "execution_count": 99,
   "id": "beddb8b2",
   "metadata": {},
   "outputs": [
    {
     "data": {
      "text/plain": [
       "True"
      ]
     },
     "execution_count": 99,
     "metadata": {},
     "output_type": "execute_result"
    }
   ],
   "source": [
    "a.isdigit()"
   ]
  },
  {
   "cell_type": "code",
   "execution_count": 100,
   "id": "cc316da9",
   "metadata": {},
   "outputs": [],
   "source": [
    "non = 'this is not digit number'"
   ]
  },
  {
   "cell_type": "code",
   "execution_count": 102,
   "id": "b3ac4d2c",
   "metadata": {},
   "outputs": [
    {
     "data": {
      "text/plain": [
       "False"
      ]
     },
     "execution_count": 102,
     "metadata": {},
     "output_type": "execute_result"
    }
   ],
   "source": [
    "non.isdigit()"
   ]
  },
  {
   "cell_type": "code",
   "execution_count": 103,
   "id": "77a21431",
   "metadata": {},
   "outputs": [],
   "source": [
    "a = '77a'"
   ]
  },
  {
   "cell_type": "code",
   "execution_count": 104,
   "id": "b345dd3a",
   "metadata": {},
   "outputs": [
    {
     "data": {
      "text/plain": [
       "False"
      ]
     },
     "execution_count": 104,
     "metadata": {},
     "output_type": "execute_result"
    }
   ],
   "source": [
    "a.isdigit()"
   ]
  },
  {
   "cell_type": "markdown",
   "id": "4a1c91eb",
   "metadata": {},
   "source": [
    "# 6. isalpha()\n",
    "### Returns True if all characters in a string are characters from an alphabet."
   ]
  },
  {
   "cell_type": "code",
   "execution_count": 109,
   "id": "bc023cb4",
   "metadata": {},
   "outputs": [],
   "source": [
    "name = \"manjuanth kannur\""
   ]
  },
  {
   "cell_type": "code",
   "execution_count": 114,
   "id": "b2f43a49",
   "metadata": {},
   "outputs": [],
   "source": [
    "non = name.strip()"
   ]
  },
  {
   "cell_type": "code",
   "execution_count": 115,
   "id": "08229811",
   "metadata": {},
   "outputs": [
    {
     "data": {
      "text/plain": [
       "'manjuanth kannur'"
      ]
     },
     "execution_count": 115,
     "metadata": {},
     "output_type": "execute_result"
    }
   ],
   "source": [
    "non"
   ]
  },
  {
   "cell_type": "code",
   "execution_count": 117,
   "id": "21fc5e0c",
   "metadata": {},
   "outputs": [
    {
     "data": {
      "text/plain": [
       "False"
      ]
     },
     "execution_count": 117,
     "metadata": {},
     "output_type": "execute_result"
    }
   ],
   "source": [
    "non.isalpha()"
   ]
  },
  {
   "cell_type": "code",
   "execution_count": 118,
   "id": "213ebf4a",
   "metadata": {},
   "outputs": [],
   "source": [
    "a ='abc'"
   ]
  },
  {
   "cell_type": "code",
   "execution_count": 119,
   "id": "11b416ae",
   "metadata": {},
   "outputs": [
    {
     "data": {
      "text/plain": [
       "'abc'"
      ]
     },
     "execution_count": 119,
     "metadata": {},
     "output_type": "execute_result"
    }
   ],
   "source": [
    "a"
   ]
  },
  {
   "cell_type": "code",
   "execution_count": 120,
   "id": "57947ee4",
   "metadata": {},
   "outputs": [],
   "source": [
    "b = 'abc77'"
   ]
  },
  {
   "cell_type": "code",
   "execution_count": 121,
   "id": "3a5196dd",
   "metadata": {},
   "outputs": [
    {
     "data": {
      "text/plain": [
       "'abc77'"
      ]
     },
     "execution_count": 121,
     "metadata": {},
     "output_type": "execute_result"
    }
   ],
   "source": [
    "b"
   ]
  },
  {
   "cell_type": "code",
   "execution_count": 122,
   "id": "fb39a5fb",
   "metadata": {},
   "outputs": [],
   "source": [
    "a = ' '"
   ]
  },
  {
   "cell_type": "code",
   "execution_count": 123,
   "id": "d23a25ec",
   "metadata": {},
   "outputs": [
    {
     "data": {
      "text/plain": [
       "True"
      ]
     },
     "execution_count": 123,
     "metadata": {},
     "output_type": "execute_result"
    }
   ],
   "source": [
    "a.isspace()"
   ]
  },
  {
   "cell_type": "code",
   "execution_count": 125,
   "id": "fcf53c07",
   "metadata": {},
   "outputs": [
    {
     "data": {
      "text/plain": [
       "False"
      ]
     },
     "execution_count": 125,
     "metadata": {},
     "output_type": "execute_result"
    }
   ],
   "source": [
    "a = '\\''\n",
    "a.isspace()"
   ]
  },
  {
   "cell_type": "markdown",
   "id": "bf8de471",
   "metadata": {},
   "source": [
    "# 8. startswith()\n",
    "### It takes a string as an argument, and returns True if the string it is applied on begins with the string in the argument."
   ]
  },
  {
   "cell_type": "code",
   "execution_count": 126,
   "id": "9aeba6d6",
   "metadata": {},
   "outputs": [],
   "source": [
    "name = 'manjunath'"
   ]
  },
  {
   "cell_type": "code",
   "execution_count": 127,
   "id": "591997af",
   "metadata": {},
   "outputs": [
    {
     "data": {
      "text/plain": [
       "True"
      ]
     },
     "execution_count": 127,
     "metadata": {},
     "output_type": "execute_result"
    }
   ],
   "source": [
    "name.startswith('m')"
   ]
  },
  {
   "cell_type": "code",
   "execution_count": 128,
   "id": "ddf4ddda",
   "metadata": {},
   "outputs": [
    {
     "data": {
      "text/plain": [
       "False"
      ]
     },
     "execution_count": 128,
     "metadata": {},
     "output_type": "execute_result"
    }
   ],
   "source": [
    "name.startswith('k')"
   ]
  },
  {
   "cell_type": "code",
   "execution_count": 129,
   "id": "0476dc0c",
   "metadata": {},
   "outputs": [
    {
     "data": {
      "text/plain": [
       "True"
      ]
     },
     "execution_count": 129,
     "metadata": {},
     "output_type": "execute_result"
    }
   ],
   "source": [
    "name.endswith('h')"
   ]
  },
  {
   "cell_type": "code",
   "execution_count": 130,
   "id": "4a560a30",
   "metadata": {},
   "outputs": [
    {
     "data": {
      "text/plain": [
       "True"
      ]
     },
     "execution_count": 130,
     "metadata": {},
     "output_type": "execute_result"
    }
   ],
   "source": [
    "name.startswith('manjunath')"
   ]
  },
  {
   "cell_type": "code",
   "execution_count": 132,
   "id": "56bf3740",
   "metadata": {},
   "outputs": [
    {
     "data": {
      "text/plain": [
       "True"
      ]
     },
     "execution_count": 132,
     "metadata": {},
     "output_type": "execute_result"
    }
   ],
   "source": [
    "name.endswith('th')"
   ]
  },
  {
   "cell_type": "code",
   "execution_count": 133,
   "id": "ea88dae3",
   "metadata": {},
   "outputs": [],
   "source": [
    "a = 'therefore'"
   ]
  },
  {
   "cell_type": "code",
   "execution_count": 134,
   "id": "f4a34e4b",
   "metadata": {},
   "outputs": [
    {
     "data": {
      "text/plain": [
       "'therefore'"
      ]
     },
     "execution_count": 134,
     "metadata": {},
     "output_type": "execute_result"
    }
   ],
   "source": [
    "a"
   ]
  },
  {
   "cell_type": "code",
   "execution_count": 135,
   "id": "e0b5c0ab",
   "metadata": {},
   "outputs": [
    {
     "data": {
      "text/plain": [
       "True"
      ]
     },
     "execution_count": 135,
     "metadata": {},
     "output_type": "execute_result"
    }
   ],
   "source": [
    "a.endswith('fore')"
   ]
  },
  {
   "cell_type": "markdown",
   "id": "8f3d18c9",
   "metadata": {},
   "source": [
    "# 10. find()\n",
    " ### It takes an argument and searches for it in the string on which it is applied."
   ]
  },
  {
   "cell_type": "code",
   "execution_count": 136,
   "id": "2fd367ff",
   "metadata": {},
   "outputs": [
    {
     "data": {
      "text/plain": [
       "2"
      ]
     },
     "execution_count": 136,
     "metadata": {},
     "output_type": "execute_result"
    }
   ],
   "source": [
    "'homeowner'.find('meow')"
   ]
  },
  {
   "cell_type": "code",
   "execution_count": 137,
   "id": "e6fbcf46",
   "metadata": {},
   "outputs": [],
   "source": [
    "string = 'this is my string'"
   ]
  },
  {
   "cell_type": "code",
   "execution_count": 138,
   "id": "00e675b5",
   "metadata": {},
   "outputs": [
    {
     "data": {
      "text/plain": [
       "'this is my string'"
      ]
     },
     "execution_count": 138,
     "metadata": {},
     "output_type": "execute_result"
    }
   ],
   "source": [
    "string"
   ]
  },
  {
   "cell_type": "code",
   "execution_count": 139,
   "id": "df2e03fe",
   "metadata": {},
   "outputs": [
    {
     "data": {
      "text/plain": [
       "2"
      ]
     },
     "execution_count": 139,
     "metadata": {},
     "output_type": "execute_result"
    }
   ],
   "source": [
    "string.find('is')"
   ]
  },
  {
   "cell_type": "code",
   "execution_count": 140,
   "id": "ad257d47",
   "metadata": {},
   "outputs": [
    {
     "data": {
      "text/plain": [
       "11"
      ]
     },
     "execution_count": 140,
     "metadata": {},
     "output_type": "execute_result"
    }
   ],
   "source": [
    "string.find('string')"
   ]
  },
  {
   "cell_type": "code",
   "execution_count": 141,
   "id": "72c742b2",
   "metadata": {},
   "outputs": [
    {
     "data": {
      "text/plain": [
       "3"
      ]
     },
     "execution_count": 141,
     "metadata": {},
     "output_type": "execute_result"
    }
   ],
   "source": [
    "string.find('s')"
   ]
  },
  {
   "cell_type": "code",
   "execution_count": 142,
   "id": "f97fe0bb",
   "metadata": {},
   "outputs": [
    {
     "data": {
      "text/plain": [
       "2"
      ]
     },
     "execution_count": 142,
     "metadata": {},
     "output_type": "execute_result"
    }
   ],
   "source": [
    "string.find('i')"
   ]
  },
  {
   "cell_type": "markdown",
   "id": "19f7524e",
   "metadata": {},
   "source": [
    "11. replace()\n",
    "### It takes two arguments. The first is the substring to be replaced. The second is the substring to replace with."
   ]
  },
  {
   "cell_type": "code",
   "execution_count": 143,
   "id": "8395797b",
   "metadata": {},
   "outputs": [],
   "source": [
    "import uuid"
   ]
  },
  {
   "cell_type": "code",
   "execution_count": 146,
   "id": "86a0c14d",
   "metadata": {},
   "outputs": [],
   "source": [
    "uniqueid = str(uuid.uuid1()).replace('','')"
   ]
  },
  {
   "cell_type": "code",
   "execution_count": 147,
   "id": "dc9e241d",
   "metadata": {},
   "outputs": [
    {
     "data": {
      "text/plain": [
       "'740cfac3-e920-11eb-9e7e-74e6e2320902'"
      ]
     },
     "execution_count": 147,
     "metadata": {},
     "output_type": "execute_result"
    }
   ],
   "source": [
    "uniqueid"
   ]
  },
  {
   "cell_type": "code",
   "execution_count": 148,
   "id": "3f8700d7",
   "metadata": {},
   "outputs": [],
   "source": [
    "sessionid = uuid.uuid1()"
   ]
  },
  {
   "cell_type": "code",
   "execution_count": 149,
   "id": "343955b0",
   "metadata": {},
   "outputs": [
    {
     "data": {
      "text/plain": [
       "UUID('8af2173d-e920-11eb-8d53-74e6e2320902')"
      ]
     },
     "execution_count": 149,
     "metadata": {},
     "output_type": "execute_result"
    }
   ],
   "source": [
    "sessionid"
   ]
  },
  {
   "cell_type": "code",
   "execution_count": 150,
   "id": "0630fbfe",
   "metadata": {},
   "outputs": [
    {
     "name": "stdout",
     "output_type": "stream",
     "text": [
      "8af2173d-e920-11eb-8d53-74e6e2320902\n"
     ]
    }
   ],
   "source": [
    "print(sessionid)"
   ]
  },
  {
   "cell_type": "code",
   "execution_count": 151,
   "id": "7859da8e",
   "metadata": {},
   "outputs": [
    {
     "name": "stdout",
     "output_type": "stream",
     "text": [
      "740cfac3-e920-11eb-9e7e-74e6e2320902\n"
     ]
    }
   ],
   "source": [
    "print(uniqueid)"
   ]
  },
  {
   "cell_type": "markdown",
   "id": "e9d88b68",
   "metadata": {},
   "source": [
    " # 12. split()\n",
    "### It takes one argument. The string is then split around every occurrence of the argument in the string."
   ]
  },
  {
   "cell_type": "code",
   "execution_count": 152,
   "id": "4a4c3880",
   "metadata": {},
   "outputs": [
    {
     "data": {
      "text/plain": [
       "['No', ' okay', ' why']"
      ]
     },
     "execution_count": 152,
     "metadata": {},
     "output_type": "execute_result"
    }
   ],
   "source": [
    "'No. okay. why'.split('.')"
   ]
  },
  {
   "cell_type": "code",
   "execution_count": 153,
   "id": "62d68d23",
   "metadata": {},
   "outputs": [],
   "source": [
    "string = \"this is my word\".split()"
   ]
  },
  {
   "cell_type": "code",
   "execution_count": 154,
   "id": "0e3dfa03",
   "metadata": {},
   "outputs": [
    {
     "data": {
      "text/plain": [
       "['this', 'is', 'my', 'word']"
      ]
     },
     "execution_count": 154,
     "metadata": {},
     "output_type": "execute_result"
    }
   ],
   "source": [
    "string"
   ]
  },
  {
   "cell_type": "code",
   "execution_count": 155,
   "id": "f909435c",
   "metadata": {},
   "outputs": [],
   "source": [
    "import secrets"
   ]
  },
  {
   "cell_type": "code",
   "execution_count": 157,
   "id": "2fd3e05c",
   "metadata": {},
   "outputs": [],
   "source": [
    "res = secrets.choice(string)"
   ]
  },
  {
   "cell_type": "code",
   "execution_count": 158,
   "id": "e67fd39b",
   "metadata": {},
   "outputs": [
    {
     "data": {
      "text/plain": [
       "'this'"
      ]
     },
     "execution_count": 158,
     "metadata": {},
     "output_type": "execute_result"
    }
   ],
   "source": [
    "res"
   ]
  },
  {
   "cell_type": "code",
   "execution_count": 159,
   "id": "ddfee8c8",
   "metadata": {},
   "outputs": [
    {
     "data": {
      "text/plain": [
       "'this'"
      ]
     },
     "execution_count": 159,
     "metadata": {},
     "output_type": "execute_result"
    }
   ],
   "source": [
    "res"
   ]
  },
  {
   "cell_type": "code",
   "execution_count": 160,
   "id": "b15732ed",
   "metadata": {},
   "outputs": [
    {
     "data": {
      "text/plain": [
       "'this'"
      ]
     },
     "execution_count": 160,
     "metadata": {},
     "output_type": "execute_result"
    }
   ],
   "source": [
    "res"
   ]
  },
  {
   "cell_type": "markdown",
   "id": "12148b13",
   "metadata": {},
   "source": [
    "# 13. join()\n",
    "### It takes a list as an argument and joins the elements in the list using the string it is applied on."
   ]
  },
  {
   "cell_type": "code",
   "execution_count": 161,
   "id": "9c6d9f79",
   "metadata": {},
   "outputs": [
    {
     "data": {
      "text/plain": [
       "'redgreenblue'"
      ]
     },
     "execution_count": 161,
     "metadata": {},
     "output_type": "execute_result"
    }
   ],
   "source": [
    "\"\".join(['red','green','blue'])"
   ]
  },
  {
   "cell_type": "code",
   "execution_count": 162,
   "id": "dbf377e1",
   "metadata": {},
   "outputs": [
    {
     "data": {
      "text/plain": [
       "'redgreenbluedot'"
      ]
     },
     "execution_count": 162,
     "metadata": {},
     "output_type": "execute_result"
    }
   ],
   "source": [
    "\"\".join(('red','green','blue','dot'))"
   ]
  },
  {
   "cell_type": "code",
   "execution_count": 163,
   "id": "accbe1fe",
   "metadata": {},
   "outputs": [
    {
     "data": {
      "text/plain": [
       "'redgreendot'"
      ]
     },
     "execution_count": 163,
     "metadata": {},
     "output_type": "execute_result"
    }
   ],
   "source": [
    "\"\".join({'red':'blue','green':'white','dot':'color'})"
   ]
  },
  {
   "cell_type": "markdown",
   "id": "23380ac3",
   "metadata": {},
   "source": [
    "# Python String Operations"
   ]
  },
  {
   "cell_type": "markdown",
   "id": "ca290a76",
   "metadata": {},
   "source": [
    "1. comparsion\n",
    "2. arithmetic\n",
    "3. membership\n",
    "4. identity\n",
    "5. logical"
   ]
  },
  {
   "cell_type": "markdown",
   "id": "feb83ece",
   "metadata": {},
   "source": [
    "# 1. Comparison Operation in Python\n",
    "Python Strings can compare using relational operators."
   ]
  },
  {
   "cell_type": "code",
   "execution_count": 164,
   "id": "cf72e372",
   "metadata": {},
   "outputs": [
    {
     "data": {
      "text/plain": [
       "True"
      ]
     },
     "execution_count": 164,
     "metadata": {},
     "output_type": "execute_result"
    }
   ],
   "source": [
    "'hey'<'hi'"
   ]
  },
  {
   "cell_type": "code",
   "execution_count": 165,
   "id": "c5d36338",
   "metadata": {},
   "outputs": [
    {
     "data": {
      "text/plain": [
       "False"
      ]
     },
     "execution_count": 165,
     "metadata": {},
     "output_type": "execute_result"
    }
   ],
   "source": [
    "'hi'<'hey'"
   ]
  },
  {
   "cell_type": "code",
   "execution_count": 166,
   "id": "4f0f73d2",
   "metadata": {},
   "outputs": [],
   "source": [
    "name = 'manjunath'"
   ]
  },
  {
   "cell_type": "code",
   "execution_count": 167,
   "id": "15eeef4d",
   "metadata": {},
   "outputs": [
    {
     "data": {
      "text/plain": [
       "True"
      ]
     },
     "execution_count": 167,
     "metadata": {},
     "output_type": "execute_result"
    }
   ],
   "source": [
    "name=='manjunath'"
   ]
  },
  {
   "cell_type": "code",
   "execution_count": 168,
   "id": "25f66c92",
   "metadata": {},
   "outputs": [
    {
     "data": {
      "text/plain": [
       "False"
      ]
     },
     "execution_count": 168,
     "metadata": {},
     "output_type": "execute_result"
    }
   ],
   "source": [
    "name=='manjunath2'"
   ]
  },
  {
   "cell_type": "code",
   "execution_count": 169,
   "id": "ac692f78",
   "metadata": {},
   "outputs": [
    {
     "data": {
      "text/plain": [
       "True"
      ]
     },
     "execution_count": 169,
     "metadata": {},
     "output_type": "execute_result"
    }
   ],
   "source": [
    "'yes'!= 'No'"
   ]
  },
  {
   "cell_type": "markdown",
   "id": "4036aeb9",
   "metadata": {},
   "source": [
    "# 2. Arithmetic Operation in Python\n",
    "### Some arithmetic operations can be applied on strings."
   ]
  },
  {
   "cell_type": "code",
   "execution_count": 171,
   "id": "f1f4d1fa",
   "metadata": {},
   "outputs": [],
   "source": [
    "res = 'ba'+'na'*2"
   ]
  },
  {
   "cell_type": "code",
   "execution_count": 172,
   "id": "69239e9b",
   "metadata": {},
   "outputs": [
    {
     "data": {
      "text/plain": [
       "'banana'"
      ]
     },
     "execution_count": 172,
     "metadata": {},
     "output_type": "execute_result"
    }
   ],
   "source": [
    "res"
   ]
  },
  {
   "cell_type": "markdown",
   "id": "245a92be",
   "metadata": {},
   "source": [
    "# 3. Membership Operation in Python\n",
    "### The membership operators of Python can be used to check if string is a substring to another."
   ]
  },
  {
   "cell_type": "code",
   "execution_count": 173,
   "id": "1492a390",
   "metadata": {},
   "outputs": [
    {
     "data": {
      "text/plain": [
       "True"
      ]
     },
     "execution_count": 173,
     "metadata": {},
     "output_type": "execute_result"
    }
   ],
   "source": [
    "'na' in 'banana'"
   ]
  },
  {
   "cell_type": "code",
   "execution_count": 174,
   "id": "aea44739",
   "metadata": {},
   "outputs": [],
   "source": [
    "mylist = ['one','two','three','four','five','six','seven','eight','nine','ten']"
   ]
  },
  {
   "cell_type": "code",
   "execution_count": 175,
   "id": "c804168a",
   "metadata": {},
   "outputs": [
    {
     "data": {
      "text/plain": [
       "['one', 'two', 'three', 'four', 'five', 'six', 'seven', 'eight', 'nine', 'ten']"
      ]
     },
     "execution_count": 175,
     "metadata": {},
     "output_type": "execute_result"
    }
   ],
   "source": [
    "mylist"
   ]
  },
  {
   "cell_type": "code",
   "execution_count": 176,
   "id": "22d929af",
   "metadata": {},
   "outputs": [
    {
     "data": {
      "text/plain": [
       "True"
      ]
     },
     "execution_count": 176,
     "metadata": {},
     "output_type": "execute_result"
    }
   ],
   "source": [
    "'two' in mylist"
   ]
  },
  {
   "cell_type": "code",
   "execution_count": 177,
   "id": "67a0cf6d",
   "metadata": {},
   "outputs": [
    {
     "data": {
      "text/plain": [
       "False"
      ]
     },
     "execution_count": 177,
     "metadata": {},
     "output_type": "execute_result"
    }
   ],
   "source": [
    "'less' not in 'helpless'"
   ]
  },
  {
   "cell_type": "code",
   "execution_count": 178,
   "id": "c9da6468",
   "metadata": {},
   "outputs": [
    {
     "data": {
      "text/plain": [
       "False"
      ]
     },
     "execution_count": 178,
     "metadata": {},
     "output_type": "execute_result"
    }
   ],
   "source": [
    "'nothing' in mylist"
   ]
  },
  {
   "cell_type": "code",
   "execution_count": 179,
   "id": "23e8d153",
   "metadata": {},
   "outputs": [
    {
     "name": "stderr",
     "output_type": "stream",
     "text": [
      "<>:1: SyntaxWarning: \"is not\" with a literal. Did you mean \"!=\"?\n",
      "<>:1: SyntaxWarning: \"is not\" with a literal. Did you mean \"!=\"?\n",
      "<ipython-input-179-4e70c5c91403>:1: SyntaxWarning: \"is not\" with a literal. Did you mean \"!=\"?\n",
      "  'yo' is not 'Yo'\n"
     ]
    },
    {
     "data": {
      "text/plain": [
       "True"
      ]
     },
     "execution_count": 179,
     "metadata": {},
     "output_type": "execute_result"
    }
   ],
   "source": [
    "'yo' is not 'Yo'"
   ]
  },
  {
   "cell_type": "markdown",
   "id": "b5f22cd7",
   "metadata": {},
   "source": [
    "# 5. Logical Operation in Python\n",
    "### Python’s and, or, and not operators can be applied too. An empty string has a Boolean value of False"
   ]
  },
  {
   "cell_type": "code",
   "execution_count": 180,
   "id": "fb8b3a21",
   "metadata": {},
   "outputs": [
    {
     "data": {
      "text/plain": [
       "''"
      ]
     },
     "execution_count": 180,
     "metadata": {},
     "output_type": "execute_result"
    }
   ],
   "source": [
    "'' and '4'"
   ]
  },
  {
   "cell_type": "code",
   "execution_count": 181,
   "id": "b06dc98e",
   "metadata": {},
   "outputs": [
    {
     "data": {
      "text/plain": [
       "''"
      ]
     },
     "execution_count": 181,
     "metadata": {},
     "output_type": "execute_result"
    }
   ],
   "source": [
    "'1' and ''"
   ]
  },
  {
   "cell_type": "code",
   "execution_count": 182,
   "id": "6c75047e",
   "metadata": {},
   "outputs": [],
   "source": [
    "# -*- coding: encoding -*-"
   ]
  },
  {
   "cell_type": "code",
   "execution_count": 183,
   "id": "f14f002a",
   "metadata": {},
   "outputs": [],
   "source": [
    "def bar(a):\n",
    "    x=3\n",
    "    return x+a"
   ]
  },
  {
   "cell_type": "code",
   "execution_count": 186,
   "id": "23f8f078",
   "metadata": {},
   "outputs": [
    {
     "data": {
      "text/plain": [
       "<function __main__.bar(a)>"
      ]
     },
     "execution_count": 186,
     "metadata": {},
     "output_type": "execute_result"
    }
   ],
   "source": [
    "bar"
   ]
  },
  {
   "cell_type": "code",
   "execution_count": 187,
   "id": "b85a6be7",
   "metadata": {
    "scrolled": true
   },
   "outputs": [
    {
     "data": {
      "text/plain": [
       "['__class__',\n",
       " '__delattr__',\n",
       " '__dir__',\n",
       " '__doc__',\n",
       " '__eq__',\n",
       " '__format__',\n",
       " '__ge__',\n",
       " '__getattribute__',\n",
       " '__gt__',\n",
       " '__hash__',\n",
       " '__init__',\n",
       " '__init_subclass__',\n",
       " '__le__',\n",
       " '__lt__',\n",
       " '__ne__',\n",
       " '__new__',\n",
       " '__reduce__',\n",
       " '__reduce_ex__',\n",
       " '__repr__',\n",
       " '__setattr__',\n",
       " '__sizeof__',\n",
       " '__str__',\n",
       " '__subclasshook__',\n",
       " 'co_argcount',\n",
       " 'co_cellvars',\n",
       " 'co_code',\n",
       " 'co_consts',\n",
       " 'co_filename',\n",
       " 'co_firstlineno',\n",
       " 'co_flags',\n",
       " 'co_freevars',\n",
       " 'co_kwonlyargcount',\n",
       " 'co_lnotab',\n",
       " 'co_name',\n",
       " 'co_names',\n",
       " 'co_nlocals',\n",
       " 'co_posonlyargcount',\n",
       " 'co_stacksize',\n",
       " 'co_varnames',\n",
       " 'replace']"
      ]
     },
     "execution_count": 187,
     "metadata": {},
     "output_type": "execute_result"
    }
   ],
   "source": [
    "dir(bar.__code__)"
   ]
  },
  {
   "cell_type": "code",
   "execution_count": 209,
   "id": "79330a59",
   "metadata": {},
   "outputs": [],
   "source": [
    "def mylist(x):\n",
    "    a=[0,1,2,3,4,5,6,7,8,9]\n",
    "    return a+x\n"
   ]
  },
  {
   "cell_type": "code",
   "execution_count": 210,
   "id": "16ae6cc4",
   "metadata": {},
   "outputs": [
    {
     "data": {
      "text/plain": [
       "<function __main__.mylist(x)>"
      ]
     },
     "execution_count": 210,
     "metadata": {},
     "output_type": "execute_result"
    }
   ],
   "source": [
    "mylist"
   ]
  },
  {
   "cell_type": "code",
   "execution_count": 211,
   "id": "08edbc3d",
   "metadata": {},
   "outputs": [
    {
     "data": {
      "text/plain": [
       "[0, 1, 2, 3, 4, 5, 6, 7, 8, 9, 58]"
      ]
     },
     "execution_count": 211,
     "metadata": {},
     "output_type": "execute_result"
    }
   ],
   "source": [
    "mylist([58])"
   ]
  },
  {
   "cell_type": "code",
   "execution_count": 212,
   "id": "24fc2be1",
   "metadata": {},
   "outputs": [
    {
     "name": "stdout",
     "output_type": "stream",
     "text": [
      "The Zen of Python, by Tim Peters\n",
      "\n",
      "Beautiful is better than ugly.\n",
      "Explicit is better than implicit.\n",
      "Simple is better than complex.\n",
      "Complex is better than complicated.\n",
      "Flat is better than nested.\n",
      "Sparse is better than dense.\n",
      "Readability counts.\n",
      "Special cases aren't special enough to break the rules.\n",
      "Although practicality beats purity.\n",
      "Errors should never pass silently.\n",
      "Unless explicitly silenced.\n",
      "In the face of ambiguity, refuse the temptation to guess.\n",
      "There should be one-- and preferably only one --obvious way to do it.\n",
      "Although that way may not be obvious at first unless you're Dutch.\n",
      "Now is better than never.\n",
      "Although never is often better than *right* now.\n",
      "If the implementation is hard to explain, it's a bad idea.\n",
      "If the implementation is easy to explain, it may be a good idea.\n",
      "Namespaces are one honking great idea -- let's do more of those!\n"
     ]
    }
   ],
   "source": [
    "import this"
   ]
  },
  {
   "cell_type": "code",
   "execution_count": 213,
   "id": "f4e7de61",
   "metadata": {},
   "outputs": [],
   "source": [
    "import dis"
   ]
  },
  {
   "cell_type": "code",
   "execution_count": 214,
   "id": "fdd8049e",
   "metadata": {},
   "outputs": [
    {
     "name": "stdout",
     "output_type": "stream",
     "text": [
      "  2           0 LOAD_CONST               1 (3)\n",
      "              2 STORE_FAST               1 (x)\n",
      "\n",
      "  3           4 LOAD_FAST                1 (x)\n",
      "              6 LOAD_FAST                0 (a)\n",
      "              8 BINARY_ADD\n",
      "             10 RETURN_VALUE\n"
     ]
    }
   ],
   "source": [
    "dis.dis(bar.__code__)"
   ]
  },
  {
   "cell_type": "markdown",
   "id": "0c708e4e",
   "metadata": {},
   "source": [
    "# Python Operator – Types of Operators in Python"
   ]
  },
  {
   "cell_type": "markdown",
   "id": "1a669872",
   "metadata": {},
   "source": [
    "1. arithmetic\n",
    "2. relational operators\n",
    "3. assignment\n",
    "4. logical operators\n",
    "5. bitwise operators\n",
    "6. membrship\n",
    "7. identity operators"
   ]
  },
  {
   "cell_type": "markdown",
   "id": "4c00c540",
   "metadata": {},
   "source": [
    "# 1. Arithmetic Operators in Python"
   ]
  },
  {
   "cell_type": "markdown",
   "id": "bc926068",
   "metadata": {},
   "source": [
    "1. addition\n",
    "2. floor division\n",
    "3. division\n",
    "4. substraction\n",
    "5. multiplication\n",
    "6. modulus(%)\n",
    "7. exponentiation"
   ]
  },
  {
   "cell_type": "code",
   "execution_count": 215,
   "id": "2d34f0a6",
   "metadata": {},
   "outputs": [
    {
     "data": {
      "text/plain": [
       "10"
      ]
     },
     "execution_count": 215,
     "metadata": {},
     "output_type": "execute_result"
    }
   ],
   "source": [
    "3+7"
   ]
  },
  {
   "cell_type": "code",
   "execution_count": 216,
   "id": "39c0fb4e",
   "metadata": {},
   "outputs": [
    {
     "data": {
      "text/plain": [
       "-1"
      ]
     },
     "execution_count": 216,
     "metadata": {},
     "output_type": "execute_result"
    }
   ],
   "source": [
    "3-4"
   ]
  },
  {
   "cell_type": "code",
   "execution_count": 217,
   "id": "b329b239",
   "metadata": {},
   "outputs": [
    {
     "data": {
      "text/plain": [
       "33"
      ]
     },
     "execution_count": 217,
     "metadata": {},
     "output_type": "execute_result"
    }
   ],
   "source": [
    "88-55"
   ]
  },
  {
   "cell_type": "code",
   "execution_count": 218,
   "id": "800fdd60",
   "metadata": {},
   "outputs": [
    {
     "data": {
      "text/plain": [
       "12"
      ]
     },
     "execution_count": 218,
     "metadata": {},
     "output_type": "execute_result"
    }
   ],
   "source": [
    "3*4"
   ]
  },
  {
   "cell_type": "code",
   "execution_count": 219,
   "id": "b959e670",
   "metadata": {},
   "outputs": [
    {
     "data": {
      "text/plain": [
       "0.75"
      ]
     },
     "execution_count": 219,
     "metadata": {},
     "output_type": "execute_result"
    }
   ],
   "source": [
    "3/4"
   ]
  },
  {
   "cell_type": "code",
   "execution_count": 220,
   "id": "29939e27",
   "metadata": {},
   "outputs": [
    {
     "data": {
      "text/plain": [
       "81"
      ]
     },
     "execution_count": 220,
     "metadata": {},
     "output_type": "execute_result"
    }
   ],
   "source": [
    "3**4"
   ]
  },
  {
   "cell_type": "code",
   "execution_count": 221,
   "id": "aef9dd41",
   "metadata": {},
   "outputs": [
    {
     "data": {
      "text/plain": [
       "0"
      ]
     },
     "execution_count": 221,
     "metadata": {},
     "output_type": "execute_result"
    }
   ],
   "source": [
    "55//66"
   ]
  },
  {
   "cell_type": "code",
   "execution_count": 222,
   "id": "a93dcce1",
   "metadata": {},
   "outputs": [
    {
     "data": {
      "text/plain": [
       "0"
      ]
     },
     "execution_count": 222,
     "metadata": {},
     "output_type": "execute_result"
    }
   ],
   "source": [
    "3//4"
   ]
  },
  {
   "cell_type": "code",
   "execution_count": 223,
   "id": "2d9fa318",
   "metadata": {},
   "outputs": [
    {
     "data": {
      "text/plain": [
       "1"
      ]
     },
     "execution_count": 223,
     "metadata": {},
     "output_type": "execute_result"
    }
   ],
   "source": [
    "66//55"
   ]
  },
  {
   "cell_type": "code",
   "execution_count": 224,
   "id": "b00cfb49",
   "metadata": {},
   "outputs": [
    {
     "data": {
      "text/plain": [
       "3"
      ]
     },
     "execution_count": 224,
     "metadata": {},
     "output_type": "execute_result"
    }
   ],
   "source": [
    "10//3"
   ]
  },
  {
   "cell_type": "code",
   "execution_count": 225,
   "id": "75834c92",
   "metadata": {},
   "outputs": [
    {
     "data": {
      "text/plain": [
       "3"
      ]
     },
     "execution_count": 225,
     "metadata": {},
     "output_type": "execute_result"
    }
   ],
   "source": [
    "3%4"
   ]
  },
  {
   "cell_type": "code",
   "execution_count": 226,
   "id": "3f6abb83",
   "metadata": {},
   "outputs": [
    {
     "data": {
      "text/plain": [
       "1"
      ]
     },
     "execution_count": 226,
     "metadata": {},
     "output_type": "execute_result"
    }
   ],
   "source": [
    "4%3"
   ]
  },
  {
   "cell_type": "code",
   "execution_count": 227,
   "id": "b443021d",
   "metadata": {},
   "outputs": [
    {
     "data": {
      "text/plain": [
       "1"
      ]
     },
     "execution_count": 227,
     "metadata": {},
     "output_type": "execute_result"
    }
   ],
   "source": [
    "10%3"
   ]
  },
  {
   "cell_type": "markdown",
   "id": "81c39df4",
   "metadata": {},
   "source": [
    "# 2. Python Relational Operator"
   ]
  },
  {
   "cell_type": "markdown",
   "id": "e15a2f29",
   "metadata": {},
   "source": [
    "1. less than(<)\n",
    "2. equal to (==)"
   ]
  },
  {
   "cell_type": "code",
   "execution_count": 228,
   "id": "eaa2f164",
   "metadata": {},
   "outputs": [
    {
     "data": {
      "text/plain": [
       "True"
      ]
     },
     "execution_count": 228,
     "metadata": {},
     "output_type": "execute_result"
    }
   ],
   "source": [
    "3<4"
   ]
  },
  {
   "cell_type": "code",
   "execution_count": 229,
   "id": "9b155fc1",
   "metadata": {},
   "outputs": [
    {
     "data": {
      "text/plain": [
       "False"
      ]
     },
     "execution_count": 229,
     "metadata": {},
     "output_type": "execute_result"
    }
   ],
   "source": [
    "3>4"
   ]
  },
  {
   "cell_type": "code",
   "execution_count": 230,
   "id": "dfb6c22a",
   "metadata": {},
   "outputs": [
    {
     "data": {
      "text/plain": [
       "True"
      ]
     },
     "execution_count": 230,
     "metadata": {},
     "output_type": "execute_result"
    }
   ],
   "source": [
    "7<=7"
   ]
  },
  {
   "cell_type": "code",
   "execution_count": 231,
   "id": "09edeae9",
   "metadata": {},
   "outputs": [
    {
     "data": {
      "text/plain": [
       "False"
      ]
     },
     "execution_count": 231,
     "metadata": {},
     "output_type": "execute_result"
    }
   ],
   "source": [
    "0>0"
   ]
  },
  {
   "cell_type": "code",
   "execution_count": 232,
   "id": "b4f6f01f",
   "metadata": {},
   "outputs": [
    {
     "data": {
      "text/plain": [
       "False"
      ]
     },
     "execution_count": 232,
     "metadata": {},
     "output_type": "execute_result"
    }
   ],
   "source": [
    "3==0.0"
   ]
  },
  {
   "cell_type": "code",
   "execution_count": 233,
   "id": "9f08cc12",
   "metadata": {},
   "outputs": [
    {
     "data": {
      "text/plain": [
       "True"
      ]
     },
     "execution_count": 233,
     "metadata": {},
     "output_type": "execute_result"
    }
   ],
   "source": [
    "1==True"
   ]
  },
  {
   "cell_type": "markdown",
   "id": "4e8af6ee",
   "metadata": {},
   "source": [
    "# 3. Python Assignment Operator"
   ]
  },
  {
   "cell_type": "code",
   "execution_count": 234,
   "id": "a6cfcbb1",
   "metadata": {},
   "outputs": [
    {
     "name": "stdout",
     "output_type": "stream",
     "text": [
      "7\n"
     ]
    }
   ],
   "source": [
    "a = 7\n",
    "print(a)"
   ]
  },
  {
   "cell_type": "code",
   "execution_count": 235,
   "id": "ba9f6d09",
   "metadata": {},
   "outputs": [
    {
     "name": "stdout",
     "output_type": "stream",
     "text": [
      "14\n"
     ]
    }
   ],
   "source": [
    "a+=7\n",
    "print(a)"
   ]
  },
  {
   "cell_type": "code",
   "execution_count": 236,
   "id": "e994e816",
   "metadata": {},
   "outputs": [
    {
     "name": "stdout",
     "output_type": "stream",
     "text": [
      "12\n"
     ]
    }
   ],
   "source": [
    "a-=2\n",
    "print(a)"
   ]
  },
  {
   "cell_type": "code",
   "execution_count": 237,
   "id": "c38d4592",
   "metadata": {},
   "outputs": [
    {
     "name": "stdout",
     "output_type": "stream",
     "text": [
      "1.7142857142857142\n"
     ]
    }
   ],
   "source": [
    "a/=7\n",
    "print(a)"
   ]
  },
  {
   "cell_type": "code",
   "execution_count": 238,
   "id": "f78f8c01",
   "metadata": {},
   "outputs": [
    {
     "name": "stdout",
     "output_type": "stream",
     "text": [
      "13.714285714285714\n"
     ]
    }
   ],
   "source": [
    "a*=8\n",
    "print(a)"
   ]
  },
  {
   "cell_type": "code",
   "execution_count": 239,
   "id": "a5a76407",
   "metadata": {},
   "outputs": [
    {
     "name": "stdout",
     "output_type": "stream",
     "text": [
      "1.7142857142857135\n"
     ]
    }
   ],
   "source": [
    "a%=3\n",
    "print(a)"
   ]
  },
  {
   "cell_type": "code",
   "execution_count": 240,
   "id": "d72881c4",
   "metadata": {},
   "outputs": [
    {
     "name": "stdout",
     "output_type": "stream",
     "text": [
      "14.8052597132147\n"
     ]
    }
   ],
   "source": [
    "a**=5\n",
    "print(a)"
   ]
  },
  {
   "cell_type": "code",
   "execution_count": 241,
   "id": "bcc2dc49",
   "metadata": {},
   "outputs": [
    {
     "name": "stdout",
     "output_type": "stream",
     "text": [
      "4.0\n"
     ]
    }
   ],
   "source": [
    "a//=3\n",
    "print(a)"
   ]
  },
  {
   "cell_type": "code",
   "execution_count": 242,
   "id": "4b680d61",
   "metadata": {},
   "outputs": [
    {
     "name": "stdout",
     "output_type": "stream",
     "text": [
      "False\n"
     ]
    }
   ],
   "source": [
    "a =7>7 and 2>-1\n",
    "print(a)"
   ]
  },
  {
   "cell_type": "code",
   "execution_count": 243,
   "id": "026c1c24",
   "metadata": {},
   "outputs": [
    {
     "data": {
      "text/plain": [
       "5"
      ]
     },
     "execution_count": 243,
     "metadata": {},
     "output_type": "execute_result"
    }
   ],
   "source": [
    "7 and 0 or 5"
   ]
  },
  {
   "cell_type": "code",
   "execution_count": 244,
   "id": "b1e4c9bd",
   "metadata": {},
   "outputs": [],
   "source": [
    "a =not(0)"
   ]
  },
  {
   "cell_type": "code",
   "execution_count": 245,
   "id": "4dbd3ace",
   "metadata": {},
   "outputs": [
    {
     "name": "stdout",
     "output_type": "stream",
     "text": [
      "True\n"
     ]
    }
   ],
   "source": [
    "print(a)"
   ]
  },
  {
   "cell_type": "code",
   "execution_count": 246,
   "id": "1a73cb38",
   "metadata": {},
   "outputs": [],
   "source": [
    "pets = ['dog','cat','ferret']"
   ]
  },
  {
   "cell_type": "code",
   "execution_count": 247,
   "id": "ac1d8f3b",
   "metadata": {},
   "outputs": [
    {
     "data": {
      "text/plain": [
       "['dog', 'cat', 'ferret']"
      ]
     },
     "execution_count": 247,
     "metadata": {},
     "output_type": "execute_result"
    }
   ],
   "source": [
    "pets"
   ]
  },
  {
   "cell_type": "code",
   "execution_count": 248,
   "id": "f470de1d",
   "metadata": {},
   "outputs": [
    {
     "data": {
      "text/plain": [
       "True"
      ]
     },
     "execution_count": 248,
     "metadata": {},
     "output_type": "execute_result"
    }
   ],
   "source": [
    "'cat' in pets"
   ]
  },
  {
   "cell_type": "code",
   "execution_count": 249,
   "id": "35799768",
   "metadata": {},
   "outputs": [
    {
     "data": {
      "text/plain": [
       "True"
      ]
     },
     "execution_count": 249,
     "metadata": {},
     "output_type": "execute_result"
    }
   ],
   "source": [
    "'me' in 'disappointment'"
   ]
  },
  {
   "cell_type": "code",
   "execution_count": 250,
   "id": "9b892f15",
   "metadata": {},
   "outputs": [
    {
     "data": {
      "text/plain": [
       "True"
      ]
     },
     "execution_count": 250,
     "metadata": {},
     "output_type": "execute_result"
    }
   ],
   "source": [
    "'pot' not in 'disappoint'"
   ]
  },
  {
   "cell_type": "code",
   "execution_count": 251,
   "id": "a78b7a02",
   "metadata": {},
   "outputs": [
    {
     "ename": "TypeError",
     "evalue": "argument of type 'int' is not iterable",
     "output_type": "error",
     "traceback": [
      "\u001b[1;31m---------------------------------------------------------------------------\u001b[0m",
      "\u001b[1;31mTypeError\u001b[0m                                 Traceback (most recent call last)",
      "\u001b[1;32m<ipython-input-251-1913d74985ea>\u001b[0m in \u001b[0;36m<module>\u001b[1;34m\u001b[0m\n\u001b[1;32m----> 1\u001b[1;33m \u001b[1;36m2\u001b[0m \u001b[1;32min\u001b[0m \u001b[1;36m20\u001b[0m\u001b[1;33m\u001b[0m\u001b[1;33m\u001b[0m\u001b[0m\n\u001b[0m",
      "\u001b[1;31mTypeError\u001b[0m: argument of type 'int' is not iterable"
     ]
    }
   ],
   "source": [
    "2 in 20"
   ]
  },
  {
   "cell_type": "code",
   "execution_count": 252,
   "id": "71403b07",
   "metadata": {},
   "outputs": [
    {
     "name": "stderr",
     "output_type": "stream",
     "text": [
      "<>:1: SyntaxWarning: \"is not\" with a literal. Did you mean \"!=\"?\n",
      "<>:1: SyntaxWarning: \"is not\" with a literal. Did you mean \"!=\"?\n",
      "<ipython-input-252-9f9059803d53>:1: SyntaxWarning: \"is not\" with a literal. Did you mean \"!=\"?\n",
      "  2 is not '2'\n"
     ]
    },
    {
     "data": {
      "text/plain": [
       "True"
      ]
     },
     "execution_count": 252,
     "metadata": {},
     "output_type": "execute_result"
    }
   ],
   "source": [
    "2 is not '2'"
   ]
  },
  {
   "cell_type": "code",
   "execution_count": 253,
   "id": "32740836",
   "metadata": {},
   "outputs": [
    {
     "data": {
      "text/plain": [
       "2"
      ]
     },
     "execution_count": 253,
     "metadata": {},
     "output_type": "execute_result"
    }
   ],
   "source": [
    "2&3"
   ]
  },
  {
   "cell_type": "code",
   "execution_count": 254,
   "id": "f580899e",
   "metadata": {},
   "outputs": [
    {
     "data": {
      "text/plain": [
       "0"
      ]
     },
     "execution_count": 254,
     "metadata": {},
     "output_type": "execute_result"
    }
   ],
   "source": [
    "3&4"
   ]
  },
  {
   "cell_type": "code",
   "execution_count": 255,
   "id": "6d84a4ca",
   "metadata": {},
   "outputs": [
    {
     "data": {
      "text/plain": [
       "3"
      ]
     },
     "execution_count": 255,
     "metadata": {},
     "output_type": "execute_result"
    }
   ],
   "source": [
    "2|3"
   ]
  },
  {
   "cell_type": "code",
   "execution_count": 256,
   "id": "8e5a8a9f",
   "metadata": {},
   "outputs": [
    {
     "data": {
      "text/plain": [
       "1"
      ]
     },
     "execution_count": 256,
     "metadata": {},
     "output_type": "execute_result"
    }
   ],
   "source": [
    "2^3"
   ]
  },
  {
   "cell_type": "code",
   "execution_count": 257,
   "id": "98494f5e",
   "metadata": {},
   "outputs": [
    {
     "data": {
      "text/plain": [
       "2"
      ]
     },
     "execution_count": 257,
     "metadata": {},
     "output_type": "execute_result"
    }
   ],
   "source": [
    "~-3"
   ]
  },
  {
   "cell_type": "code",
   "execution_count": 258,
   "id": "2e3819be",
   "metadata": {},
   "outputs": [
    {
     "data": {
      "text/plain": [
       "8"
      ]
     },
     "execution_count": 258,
     "metadata": {},
     "output_type": "execute_result"
    }
   ],
   "source": [
    "2<<2"
   ]
  },
  {
   "cell_type": "code",
   "execution_count": 259,
   "id": "83efec57",
   "metadata": {},
   "outputs": [
    {
     "data": {
      "text/plain": [
       "0"
      ]
     },
     "execution_count": 259,
     "metadata": {},
     "output_type": "execute_result"
    }
   ],
   "source": [
    "3>>2"
   ]
  },
  {
   "cell_type": "code",
   "execution_count": 260,
   "id": "c032b64c",
   "metadata": {},
   "outputs": [
    {
     "data": {
      "text/plain": [
       "1"
      ]
     },
     "execution_count": 260,
     "metadata": {},
     "output_type": "execute_result"
    }
   ],
   "source": [
    "3>>1"
   ]
  },
  {
   "cell_type": "code",
   "execution_count": 261,
   "id": "03113467",
   "metadata": {},
   "outputs": [
    {
     "data": {
      "text/plain": [
       "'0b101'"
      ]
     },
     "execution_count": 261,
     "metadata": {},
     "output_type": "execute_result"
    }
   ],
   "source": [
    "bin(5)"
   ]
  },
  {
   "cell_type": "code",
   "execution_count": 262,
   "id": "de853d8a",
   "metadata": {},
   "outputs": [
    {
     "data": {
      "text/plain": [
       "'0b111'"
      ]
     },
     "execution_count": 262,
     "metadata": {},
     "output_type": "execute_result"
    }
   ],
   "source": [
    "bin(7)"
   ]
  },
  {
   "cell_type": "code",
   "execution_count": 263,
   "id": "23659486",
   "metadata": {},
   "outputs": [
    {
     "data": {
      "text/plain": [
       "7"
      ]
     },
     "execution_count": 263,
     "metadata": {},
     "output_type": "execute_result"
    }
   ],
   "source": [
    "5 and 7"
   ]
  },
  {
   "cell_type": "code",
   "execution_count": 264,
   "id": "ae3d252f",
   "metadata": {},
   "outputs": [
    {
     "data": {
      "text/plain": [
       "5"
      ]
     },
     "execution_count": 264,
     "metadata": {},
     "output_type": "execute_result"
    }
   ],
   "source": [
    "5&7"
   ]
  },
  {
   "cell_type": "code",
   "execution_count": 265,
   "id": "ccf0991f",
   "metadata": {},
   "outputs": [
    {
     "data": {
      "text/plain": [
       "0.5"
      ]
     },
     "execution_count": 265,
     "metadata": {},
     "output_type": "execute_result"
    }
   ],
   "source": [
    "True/2"
   ]
  },
  {
   "cell_type": "code",
   "execution_count": 266,
   "id": "15c467a9",
   "metadata": {},
   "outputs": [
    {
     "data": {
      "text/plain": [
       "0"
      ]
     },
     "execution_count": 266,
     "metadata": {},
     "output_type": "execute_result"
    }
   ],
   "source": [
    "False*2"
   ]
  },
  {
   "cell_type": "code",
   "execution_count": 267,
   "id": "492b1964",
   "metadata": {},
   "outputs": [
    {
     "data": {
      "text/plain": [
       "0"
      ]
     },
     "execution_count": 267,
     "metadata": {},
     "output_type": "execute_result"
    }
   ],
   "source": [
    "4&8"
   ]
  },
  {
   "cell_type": "code",
   "execution_count": 268,
   "id": "efb35326",
   "metadata": {},
   "outputs": [
    {
     "ename": "TypeError",
     "evalue": "unsupported operand type(s) for &: 'str' and 'str'",
     "output_type": "error",
     "traceback": [
      "\u001b[1;31m---------------------------------------------------------------------------\u001b[0m",
      "\u001b[1;31mTypeError\u001b[0m                                 Traceback (most recent call last)",
      "\u001b[1;32m<ipython-input-268-66c102b47b67>\u001b[0m in \u001b[0;36m<module>\u001b[1;34m\u001b[0m\n\u001b[1;32m----> 1\u001b[1;33m \u001b[1;34m'$'\u001b[0m\u001b[1;33m&\u001b[0m\u001b[1;34m'%'\u001b[0m\u001b[1;33m\u001b[0m\u001b[1;33m\u001b[0m\u001b[0m\n\u001b[0m",
      "\u001b[1;31mTypeError\u001b[0m: unsupported operand type(s) for &: 'str' and 'str'"
     ]
    }
   ],
   "source": [
    "'$'&'%'"
   ]
  },
  {
   "cell_type": "code",
   "execution_count": 269,
   "id": "d4cff09e",
   "metadata": {},
   "outputs": [
    {
     "data": {
      "text/plain": [
       "False"
      ]
     },
     "execution_count": 269,
     "metadata": {},
     "output_type": "execute_result"
    }
   ],
   "source": [
    "False & True"
   ]
  },
  {
   "cell_type": "code",
   "execution_count": 270,
   "id": "0a7a51a3",
   "metadata": {},
   "outputs": [
    {
     "data": {
      "text/plain": [
       "1"
      ]
     },
     "execution_count": 270,
     "metadata": {},
     "output_type": "execute_result"
    }
   ],
   "source": [
    "1 & True"
   ]
  },
  {
   "cell_type": "code",
   "execution_count": 271,
   "id": "902d6be7",
   "metadata": {},
   "outputs": [
    {
     "data": {
      "text/plain": [
       "'0b1110'"
      ]
     },
     "execution_count": 271,
     "metadata": {},
     "output_type": "execute_result"
    }
   ],
   "source": [
    "bin(14)"
   ]
  },
  {
   "cell_type": "code",
   "execution_count": 272,
   "id": "b1883fdf",
   "metadata": {},
   "outputs": [
    {
     "data": {
      "text/plain": [
       "4"
      ]
     },
     "execution_count": 272,
     "metadata": {},
     "output_type": "execute_result"
    }
   ],
   "source": [
    "True <<2"
   ]
  },
  {
   "cell_type": "code",
   "execution_count": 273,
   "id": "7724b801",
   "metadata": {},
   "outputs": [
    {
     "data": {
      "text/plain": [
       "4"
      ]
     },
     "execution_count": 273,
     "metadata": {},
     "output_type": "execute_result"
    }
   ],
   "source": [
    "2<<1"
   ]
  },
  {
   "cell_type": "code",
   "execution_count": 274,
   "id": "a738aabb",
   "metadata": {},
   "outputs": [
    {
     "data": {
      "text/plain": [
       "12"
      ]
     },
     "execution_count": 274,
     "metadata": {},
     "output_type": "execute_result"
    }
   ],
   "source": [
    "3<<2"
   ]
  },
  {
   "cell_type": "code",
   "execution_count": 275,
   "id": "56146343",
   "metadata": {},
   "outputs": [
    {
     "data": {
      "text/plain": [
       "1"
      ]
     },
     "execution_count": 275,
     "metadata": {},
     "output_type": "execute_result"
    }
   ],
   "source": [
    "3>>1"
   ]
  },
  {
   "cell_type": "code",
   "execution_count": 277,
   "id": "21747536",
   "metadata": {},
   "outputs": [
    {
     "data": {
      "text/plain": [
       "31"
      ]
     },
     "execution_count": 277,
     "metadata": {},
     "output_type": "execute_result"
    }
   ],
   "source": [
    "int(0b11111)"
   ]
  },
  {
   "cell_type": "code",
   "execution_count": 278,
   "id": "023aad31",
   "metadata": {},
   "outputs": [
    {
     "data": {
      "text/plain": [
       "3"
      ]
     },
     "execution_count": 278,
     "metadata": {},
     "output_type": "execute_result"
    }
   ],
   "source": [
    "31>>3"
   ]
  },
  {
   "cell_type": "markdown",
   "id": "bc83cc4f",
   "metadata": {},
   "source": [
    "# Python Comparison Operators"
   ]
  },
  {
   "cell_type": "markdown",
   "id": "ef70c588",
   "metadata": {},
   "source": [
    "1. less than\n",
    "2. greater than\n",
    "3. less than or equal to\n",
    "4. greater than or equal to\n",
    "5. equal to \n",
    "6. not equal to"
   ]
  },
  {
   "cell_type": "code",
   "execution_count": 279,
   "id": "4b40cc98",
   "metadata": {},
   "outputs": [
    {
     "data": {
      "text/plain": [
       "True"
      ]
     },
     "execution_count": 279,
     "metadata": {},
     "output_type": "execute_result"
    }
   ],
   "source": [
    "3<6"
   ]
  },
  {
   "cell_type": "code",
   "execution_count": 280,
   "id": "ec769c26",
   "metadata": {},
   "outputs": [
    {
     "data": {
      "text/plain": [
       "False"
      ]
     },
     "execution_count": 280,
     "metadata": {},
     "output_type": "execute_result"
    }
   ],
   "source": [
    "3<3"
   ]
  },
  {
   "cell_type": "code",
   "execution_count": 281,
   "id": "902b3268",
   "metadata": {},
   "outputs": [
    {
     "data": {
      "text/plain": [
       "False"
      ]
     },
     "execution_count": 281,
     "metadata": {},
     "output_type": "execute_result"
    }
   ],
   "source": [
    "3.0 <3"
   ]
  },
  {
   "cell_type": "code",
   "execution_count": 282,
   "id": "f8e73f1e",
   "metadata": {},
   "outputs": [
    {
     "data": {
      "text/plain": [
       "True"
      ]
     },
     "execution_count": 282,
     "metadata": {},
     "output_type": "execute_result"
    }
   ],
   "source": [
    "'Manjunath'<'manjunath'"
   ]
  },
  {
   "cell_type": "code",
   "execution_count": 283,
   "id": "1faaf8b3",
   "metadata": {},
   "outputs": [
    {
     "data": {
      "text/plain": [
       "True"
      ]
     },
     "execution_count": 283,
     "metadata": {},
     "output_type": "execute_result"
    }
   ],
   "source": [
    "'kannur'>'Kannur'"
   ]
  },
  {
   "cell_type": "code",
   "execution_count": 285,
   "id": "09766b6a",
   "metadata": {},
   "outputs": [
    {
     "data": {
      "text/plain": [
       "True"
      ]
     },
     "execution_count": 285,
     "metadata": {},
     "output_type": "execute_result"
    }
   ],
   "source": [
    "0.9999<True"
   ]
  },
  {
   "cell_type": "markdown",
   "id": "fdb9e9d9",
   "metadata": {},
   "source": [
    "# Operator Overloading"
   ]
  },
  {
   "cell_type": "markdown",
   "id": "8e37aa58",
   "metadata": {},
   "source": [
    "1. unary Operators\n",
    "2. binary Operators\n",
    "3. Comparison Operators\n",
    "4. Extended assignments"
   ]
  },
  {
   "cell_type": "code",
   "execution_count": 286,
   "id": "3fa93791",
   "metadata": {},
   "outputs": [
    {
     "data": {
      "text/plain": [
       "43"
      ]
     },
     "execution_count": 286,
     "metadata": {},
     "output_type": "execute_result"
    }
   ],
   "source": [
    "42+1"
   ]
  },
  {
   "cell_type": "code",
   "execution_count": 287,
   "id": "18ddecb9",
   "metadata": {},
   "outputs": [
    {
     "data": {
      "text/plain": [
       "'421'"
      ]
     },
     "execution_count": 287,
     "metadata": {},
     "output_type": "execute_result"
    }
   ],
   "source": [
    "'42'+'1'"
   ]
  },
  {
   "cell_type": "code",
   "execution_count": 288,
   "id": "de6bec80",
   "metadata": {},
   "outputs": [
    {
     "data": {
      "text/plain": [
       "'helloworld'"
      ]
     },
     "execution_count": 288,
     "metadata": {},
     "output_type": "execute_result"
    }
   ],
   "source": [
    "'hello'+'world'"
   ]
  },
  {
   "cell_type": "code",
   "execution_count": 289,
   "id": "0cbcda4e",
   "metadata": {},
   "outputs": [
    {
     "data": {
      "text/plain": [
       "[1, 2, 3, 4, 5, 6]"
      ]
     },
     "execution_count": 289,
     "metadata": {},
     "output_type": "execute_result"
    }
   ],
   "source": [
    "[1,2,3]+[4,5,6]"
   ]
  },
  {
   "cell_type": "code",
   "execution_count": 294,
   "id": "864fd1ab",
   "metadata": {},
   "outputs": [],
   "source": [
    "class myfloat:\n",
    "    def __init__(self,whole,fraction):\n",
    "        self.whole = whole\n",
    "        self.fraction = fraction\n",
    "    def shownumber(self):\n",
    "        print(f\"i am {self.whole},{self.fraction}\")\n",
    "        "
   ]
  },
  {
   "cell_type": "code",
   "execution_count": 295,
   "id": "e99a7f1e",
   "metadata": {},
   "outputs": [],
   "source": [
    "obj =myfloat(3,7)"
   ]
  },
  {
   "cell_type": "code",
   "execution_count": 296,
   "id": "7b8b5b88",
   "metadata": {},
   "outputs": [
    {
     "name": "stdout",
     "output_type": "stream",
     "text": [
      "i am 3,7\n"
     ]
    }
   ],
   "source": [
    "obj.shownumber()"
   ]
  },
  {
   "cell_type": "code",
   "execution_count": 297,
   "id": "a13b5718",
   "metadata": {},
   "outputs": [
    {
     "data": {
      "text/plain": [
       "3"
      ]
     },
     "execution_count": 297,
     "metadata": {},
     "output_type": "execute_result"
    }
   ],
   "source": [
    "3&3"
   ]
  },
  {
   "cell_type": "code",
   "execution_count": 298,
   "id": "a6b98bef",
   "metadata": {},
   "outputs": [],
   "source": [
    "class Myclass:\n",
    "    def __init__(self):\n",
    "        self.age = age\n",
    "    def __add__(self,other):\n",
    "        return self.age+other\n",
    "    def __radd__(self,other):\n",
    "        return self.age+other\n",
    "    "
   ]
  },
  {
   "cell_type": "code",
   "execution_count": 306,
   "id": "9967703b",
   "metadata": {},
   "outputs": [],
   "source": [
    "a,b = 2,3"
   ]
  },
  {
   "cell_type": "code",
   "execution_count": 307,
   "id": "18f834d3",
   "metadata": {},
   "outputs": [
    {
     "name": "stdout",
     "output_type": "stream",
     "text": [
      "b\n"
     ]
    }
   ],
   "source": [
    "if a>b:\n",
    "    print('a')\n",
    "else:\n",
    "    print('b')"
   ]
  },
  {
   "cell_type": "code",
   "execution_count": 308,
   "id": "7e9007f4",
   "metadata": {},
   "outputs": [
    {
     "name": "stdout",
     "output_type": "stream",
     "text": [
      "a\n"
     ]
    }
   ],
   "source": [
    "a,b = 2,3\n",
    "print('a'if a<b else 'B')"
   ]
  },
  {
   "cell_type": "code",
   "execution_count": 309,
   "id": "67f466e9",
   "metadata": {},
   "outputs": [],
   "source": [
    "from random import random"
   ]
  },
  {
   "cell_type": "code",
   "execution_count": 310,
   "id": "7a1db1a5",
   "metadata": {},
   "outputs": [],
   "source": [
    "a,b = random(),random()"
   ]
  },
  {
   "cell_type": "code",
   "execution_count": 311,
   "id": "91aa6f4b",
   "metadata": {},
   "outputs": [],
   "source": [
    "res = 'a' if a>b else 'b'\n"
   ]
  },
  {
   "cell_type": "code",
   "execution_count": 312,
   "id": "332b0352",
   "metadata": {},
   "outputs": [
    {
     "data": {
      "text/plain": [
       "'a'"
      ]
     },
     "execution_count": 312,
     "metadata": {},
     "output_type": "execute_result"
    }
   ],
   "source": [
    "res"
   ]
  },
  {
   "cell_type": "code",
   "execution_count": 313,
   "id": "11768435",
   "metadata": {},
   "outputs": [],
   "source": [
    "a = random()"
   ]
  },
  {
   "cell_type": "code",
   "execution_count": 314,
   "id": "79082cd4",
   "metadata": {},
   "outputs": [
    {
     "data": {
      "text/plain": [
       "0.06795298392254001"
      ]
     },
     "execution_count": 314,
     "metadata": {},
     "output_type": "execute_result"
    }
   ],
   "source": [
    "a"
   ]
  },
  {
   "cell_type": "code",
   "execution_count": 315,
   "id": "ecadfc88",
   "metadata": {},
   "outputs": [
    {
     "data": {
      "text/plain": [
       "0.06795298392254001"
      ]
     },
     "execution_count": 315,
     "metadata": {},
     "output_type": "execute_result"
    }
   ],
   "source": [
    "a"
   ]
  },
  {
   "cell_type": "code",
   "execution_count": 316,
   "id": "1b5622a7",
   "metadata": {},
   "outputs": [],
   "source": [
    "b=random()"
   ]
  },
  {
   "cell_type": "code",
   "execution_count": 317,
   "id": "36400136",
   "metadata": {},
   "outputs": [
    {
     "data": {
      "text/plain": [
       "0.42184401216527434"
      ]
     },
     "execution_count": 317,
     "metadata": {},
     "output_type": "execute_result"
    }
   ],
   "source": [
    "b"
   ]
  },
  {
   "cell_type": "code",
   "execution_count": 318,
   "id": "7d46d41f",
   "metadata": {},
   "outputs": [
    {
     "data": {
      "text/plain": [
       "(0.06795298392254001, 0.42184401216527434)"
      ]
     },
     "execution_count": 318,
     "metadata": {},
     "output_type": "execute_result"
    }
   ],
   "source": [
    "a,b"
   ]
  },
  {
   "cell_type": "code",
   "execution_count": 319,
   "id": "3605fe2f",
   "metadata": {},
   "outputs": [],
   "source": [
    "a,b = random(),random()"
   ]
  },
  {
   "cell_type": "code",
   "execution_count": 320,
   "id": "77a7886f",
   "metadata": {},
   "outputs": [
    {
     "data": {
      "text/plain": [
       "0.26176437093987015"
      ]
     },
     "execution_count": 320,
     "metadata": {},
     "output_type": "execute_result"
    }
   ],
   "source": [
    "a"
   ]
  },
  {
   "cell_type": "code",
   "execution_count": 321,
   "id": "78094124",
   "metadata": {},
   "outputs": [
    {
     "data": {
      "text/plain": [
       "0.7403498954617609"
      ]
     },
     "execution_count": 321,
     "metadata": {},
     "output_type": "execute_result"
    }
   ],
   "source": [
    "b"
   ]
  },
  {
   "cell_type": "markdown",
   "id": "e87720e8",
   "metadata": {},
   "source": [
    "# 3. Using Lambdas"
   ]
  },
  {
   "cell_type": "code",
   "execution_count": 322,
   "id": "dbf947d4",
   "metadata": {},
   "outputs": [],
   "source": [
    "a = random()"
   ]
  },
  {
   "cell_type": "code",
   "execution_count": 323,
   "id": "659e8d03",
   "metadata": {},
   "outputs": [
    {
     "data": {
      "text/plain": [
       "0.730250589880463"
      ]
     },
     "execution_count": 323,
     "metadata": {},
     "output_type": "execute_result"
    }
   ],
   "source": [
    "a"
   ]
  },
  {
   "cell_type": "code",
   "execution_count": 324,
   "id": "dbab20bd",
   "metadata": {},
   "outputs": [
    {
     "data": {
      "text/plain": [
       "7"
      ]
     },
     "execution_count": 324,
     "metadata": {},
     "output_type": "execute_result"
    }
   ],
   "source": [
    "4+3"
   ]
  },
  {
   "cell_type": "markdown",
   "id": "ceacd518",
   "metadata": {},
   "source": [
    "# python operator"
   ]
  },
  {
   "cell_type": "code",
   "execution_count": 326,
   "id": "0d89f504",
   "metadata": {},
   "outputs": [
    {
     "data": {
      "text/plain": [
       "False"
      ]
     },
     "execution_count": 326,
     "metadata": {},
     "output_type": "execute_result"
    }
   ],
   "source": [
    "def check(i):\n",
    "    return i\n",
    "all (check(i) for i in [1,2,0,2,3])"
   ]
  },
  {
   "cell_type": "code",
   "execution_count": 327,
   "id": "2f769b0f",
   "metadata": {},
   "outputs": [
    {
     "name": "stdout",
     "output_type": "stream",
     "text": [
      "two\n",
      "three\n"
     ]
    }
   ],
   "source": [
    "print('one') if print(\"two\") else print(\"three\")"
   ]
  },
  {
   "cell_type": "code",
   "execution_count": 328,
   "id": "0a20d9a4",
   "metadata": {},
   "outputs": [
    {
     "name": "stdout",
     "output_type": "stream",
     "text": [
      "two\n"
     ]
    },
    {
     "data": {
      "text/plain": [
       "False"
      ]
     },
     "execution_count": 328,
     "metadata": {},
     "output_type": "execute_result"
    }
   ],
   "source": [
    "bool(print(\"two\"))"
   ]
  },
  {
   "cell_type": "code",
   "execution_count": 329,
   "id": "b2fa71af",
   "metadata": {},
   "outputs": [
    {
     "data": {
      "text/plain": [
       "3"
      ]
     },
     "execution_count": 329,
     "metadata": {},
     "output_type": "execute_result"
    }
   ],
   "source": [
    "3*5//4"
   ]
  },
  {
   "cell_type": "code",
   "execution_count": 330,
   "id": "c2bd103a",
   "metadata": {},
   "outputs": [
    {
     "data": {
      "text/plain": [
       "3"
      ]
     },
     "execution_count": 330,
     "metadata": {},
     "output_type": "execute_result"
    }
   ],
   "source": [
    "3*(5//4)"
   ]
  },
  {
   "cell_type": "markdown",
   "id": "abca1ade",
   "metadata": {},
   "source": [
    "# python namespace"
   ]
  },
  {
   "cell_type": "code",
   "execution_count": 331,
   "id": "5dba01c3",
   "metadata": {},
   "outputs": [],
   "source": [
    "import this"
   ]
  },
  {
   "cell_type": "code",
   "execution_count": 332,
   "id": "0aaca10c",
   "metadata": {},
   "outputs": [
    {
     "data": {
      "text/plain": [
       "<module 'this' from 'C:\\\\Users\\\\yaraz\\\\anaconda3\\\\lib\\\\this.py'>"
      ]
     },
     "execution_count": 332,
     "metadata": {},
     "output_type": "execute_result"
    }
   ],
   "source": [
    "this"
   ]
  },
  {
   "cell_type": "code",
   "execution_count": 333,
   "id": "c3a9b973",
   "metadata": {},
   "outputs": [],
   "source": [
    "rank = 1"
   ]
  },
  {
   "cell_type": "code",
   "execution_count": 334,
   "id": "752c0df7",
   "metadata": {},
   "outputs": [
    {
     "data": {
      "text/plain": [
       "1"
      ]
     },
     "execution_count": 334,
     "metadata": {},
     "output_type": "execute_result"
    }
   ],
   "source": [
    "rank"
   ]
  },
  {
   "cell_type": "code",
   "execution_count": 335,
   "id": "3c7f530b",
   "metadata": {},
   "outputs": [
    {
     "data": {
      "text/plain": [
       "140717443589936"
      ]
     },
     "execution_count": 335,
     "metadata": {},
     "output_type": "execute_result"
    }
   ],
   "source": [
    "id(rank)"
   ]
  },
  {
   "cell_type": "code",
   "execution_count": 336,
   "id": "234dee7f",
   "metadata": {},
   "outputs": [
    {
     "data": {
      "text/plain": [
       "140717443589936"
      ]
     },
     "execution_count": 336,
     "metadata": {},
     "output_type": "execute_result"
    }
   ],
   "source": [
    "id(rank)"
   ]
  },
  {
   "cell_type": "code",
   "execution_count": 337,
   "id": "6cdccb3f",
   "metadata": {},
   "outputs": [
    {
     "data": {
      "text/plain": [
       "140717443589936"
      ]
     },
     "execution_count": 337,
     "metadata": {},
     "output_type": "execute_result"
    }
   ],
   "source": [
    "id(1)"
   ]
  },
  {
   "cell_type": "code",
   "execution_count": 338,
   "id": "1304b29b",
   "metadata": {},
   "outputs": [],
   "source": [
    "my = 5\n"
   ]
  },
  {
   "cell_type": "code",
   "execution_count": 339,
   "id": "61dd2e55",
   "metadata": {},
   "outputs": [
    {
     "data": {
      "text/plain": [
       "140717443590064"
      ]
     },
     "execution_count": 339,
     "metadata": {},
     "output_type": "execute_result"
    }
   ],
   "source": [
    "id(my)"
   ]
  },
  {
   "cell_type": "code",
   "execution_count": 340,
   "id": "0da09bc6",
   "metadata": {},
   "outputs": [],
   "source": [
    "a =2"
   ]
  },
  {
   "cell_type": "code",
   "execution_count": 341,
   "id": "ce6e7b58",
   "metadata": {},
   "outputs": [
    {
     "data": {
      "text/plain": [
       "140717443589968"
      ]
     },
     "execution_count": 341,
     "metadata": {},
     "output_type": "execute_result"
    }
   ],
   "source": [
    "id(a)"
   ]
  },
  {
   "cell_type": "code",
   "execution_count": 342,
   "id": "05521837",
   "metadata": {},
   "outputs": [],
   "source": [
    "a+=1"
   ]
  },
  {
   "cell_type": "code",
   "execution_count": 343,
   "id": "2f84653d",
   "metadata": {},
   "outputs": [
    {
     "data": {
      "text/plain": [
       "140717443590000"
      ]
     },
     "execution_count": 343,
     "metadata": {},
     "output_type": "execute_result"
    }
   ],
   "source": [
    "id(a)"
   ]
  },
  {
   "cell_type": "code",
   "execution_count": 344,
   "id": "a4799fb9",
   "metadata": {},
   "outputs": [],
   "source": [
    "b=2"
   ]
  },
  {
   "cell_type": "code",
   "execution_count": 345,
   "id": "042801a0",
   "metadata": {},
   "outputs": [
    {
     "data": {
      "text/plain": [
       "140717443589968"
      ]
     },
     "execution_count": 345,
     "metadata": {},
     "output_type": "execute_result"
    }
   ],
   "source": [
    "id(b)"
   ]
  },
  {
   "cell_type": "code",
   "execution_count": 346,
   "id": "13cf4632",
   "metadata": {},
   "outputs": [
    {
     "data": {
      "text/plain": [
       "140717443590000"
      ]
     },
     "execution_count": 346,
     "metadata": {},
     "output_type": "execute_result"
    }
   ],
   "source": [
    "id(3)"
   ]
  },
  {
   "cell_type": "code",
   "execution_count": 347,
   "id": "d6ce9826",
   "metadata": {},
   "outputs": [],
   "source": [
    "a = 1"
   ]
  },
  {
   "cell_type": "code",
   "execution_count": 348,
   "id": "e86788d1",
   "metadata": {},
   "outputs": [],
   "source": [
    "a = 'one'"
   ]
  },
  {
   "cell_type": "code",
   "execution_count": 349,
   "id": "7650eb37",
   "metadata": {},
   "outputs": [],
   "source": [
    "identity = id"
   ]
  },
  {
   "cell_type": "code",
   "execution_count": 351,
   "id": "43006e2a",
   "metadata": {},
   "outputs": [
    {
     "data": {
      "text/plain": [
       "140717443589968"
      ]
     },
     "execution_count": 351,
     "metadata": {},
     "output_type": "execute_result"
    }
   ],
   "source": [
    "identity(2)"
   ]
  },
  {
   "cell_type": "code",
   "execution_count": 352,
   "id": "9296f8c1",
   "metadata": {},
   "outputs": [],
   "source": [
    "def sayhello():\n",
    "    print(\"hello\")"
   ]
  },
  {
   "cell_type": "code",
   "execution_count": 353,
   "id": "79e0d4ee",
   "metadata": {},
   "outputs": [
    {
     "name": "stdout",
     "output_type": "stream",
     "text": [
      "hello\n"
     ]
    }
   ],
   "source": [
    "sayhello()"
   ]
  },
  {
   "cell_type": "code",
   "execution_count": 354,
   "id": "718eb0e0",
   "metadata": {},
   "outputs": [
    {
     "name": "stdout",
     "output_type": "stream",
     "text": [
      "hello\n"
     ]
    }
   ],
   "source": [
    "hi = sayhello()"
   ]
  },
  {
   "cell_type": "code",
   "execution_count": 355,
   "id": "66b157ef",
   "metadata": {},
   "outputs": [],
   "source": [
    "hi"
   ]
  },
  {
   "cell_type": "code",
   "execution_count": 356,
   "id": "b21bd4a9",
   "metadata": {},
   "outputs": [
    {
     "name": "stdout",
     "output_type": "stream",
     "text": [
      "hello\n"
     ]
    }
   ],
   "source": [
    "hello = sayhello()"
   ]
  },
  {
   "cell_type": "code",
   "execution_count": 357,
   "id": "2c22229b",
   "metadata": {},
   "outputs": [],
   "source": [
    "hello"
   ]
  },
  {
   "cell_type": "code",
   "execution_count": 358,
   "id": "14572336",
   "metadata": {},
   "outputs": [
    {
     "data": {
      "text/plain": [
       "NoneType"
      ]
     },
     "execution_count": 358,
     "metadata": {},
     "output_type": "execute_result"
    }
   ],
   "source": [
    "type(hi)"
   ]
  },
  {
   "cell_type": "code",
   "execution_count": 359,
   "id": "13e4000f",
   "metadata": {},
   "outputs": [
    {
     "name": "stdout",
     "output_type": "stream",
     "text": [
      "<class 'NoneType'>\n"
     ]
    }
   ],
   "source": [
    "print(type(hi))"
   ]
  },
  {
   "cell_type": "code",
   "execution_count": 360,
   "id": "3ccabbe7",
   "metadata": {},
   "outputs": [],
   "source": [
    "def func():\n",
    "    print(\"hi\")\n",
    "    return 1 # return integer"
   ]
  },
  {
   "cell_type": "code",
   "execution_count": 361,
   "id": "5ded56e2",
   "metadata": {},
   "outputs": [
    {
     "name": "stdout",
     "output_type": "stream",
     "text": [
      "hi\n"
     ]
    }
   ],
   "source": [
    "func2 = func()"
   ]
  },
  {
   "cell_type": "code",
   "execution_count": 362,
   "id": "3e13daf2",
   "metadata": {},
   "outputs": [
    {
     "name": "stdout",
     "output_type": "stream",
     "text": [
      "<class 'int'>\n"
     ]
    }
   ],
   "source": [
    "print(type(func2))"
   ]
  },
  {
   "cell_type": "code",
   "execution_count": 363,
   "id": "949ae11c",
   "metadata": {},
   "outputs": [
    {
     "name": "stdout",
     "output_type": "stream",
     "text": [
      "hello to the word\n"
     ]
    }
   ],
   "source": [
    "def show():\n",
    "    print(\"hello to the word\")\n",
    "show()"
   ]
  },
  {
   "cell_type": "code",
   "execution_count": 364,
   "id": "1fdc2156",
   "metadata": {},
   "outputs": [
    {
     "name": "stdout",
     "output_type": "stream",
     "text": [
      "hello to the word\n"
     ]
    }
   ],
   "source": [
    "say = show()"
   ]
  },
  {
   "cell_type": "code",
   "execution_count": 365,
   "id": "6cb0c7c0",
   "metadata": {},
   "outputs": [
    {
     "name": "stdout",
     "output_type": "stream",
     "text": [
      "<class 'NoneType'>\n"
     ]
    }
   ],
   "source": [
    "print(type(say))"
   ]
  },
  {
   "cell_type": "code",
   "execution_count": 366,
   "id": "dc40bf87",
   "metadata": {},
   "outputs": [],
   "source": [
    "None"
   ]
  },
  {
   "cell_type": "markdown",
   "id": "827df745",
   "metadata": {},
   "source": [
    "# What is Python Namespaces?"
   ]
  },
  {
   "cell_type": "markdown",
   "id": "0512910e",
   "metadata": {},
   "source": [
    "### A namespace in python is a collection of names. So, a namespace is essentially a mapping of names to corresponding objects."
   ]
  },
  {
   "cell_type": "markdown",
   "id": "0b2a0591",
   "metadata": {},
   "source": [
    "#### Built-in Namespace\n",
    "1. global namespace\n",
    "2. local namespace\n",
    "#mapping names into coresponding objects"
   ]
  },
  {
   "cell_type": "code",
   "execution_count": 367,
   "id": "314fbcaa",
   "metadata": {},
   "outputs": [
    {
     "name": "stdout",
     "output_type": "stream",
     "text": [
      "a=2,b=3,c=3\n",
      "b=2\n"
     ]
    }
   ],
   "source": [
    "a = 1\n",
    "def func():\n",
    "    b = 2\n",
    "    def func3():\n",
    "        a = 2\n",
    "        b= 3\n",
    "        c= 3\n",
    "        print(f\"a={a},b={b},c={c}\")\n",
    "    func3()\n",
    "    print(f\"b={b}\")\n",
    "func()\n",
    "        "
   ]
  },
  {
   "cell_type": "markdown",
   "id": "d9d679bc",
   "metadata": {},
   "source": [
    "# Decision making\n",
    "1. if statement\n",
    "2. if-else statement\n",
    "3. nested if statement\n",
    "4. chained conditionals(the elif ladder)\n",
    "5. single statement condition"
   ]
  },
  {
   "cell_type": "markdown",
   "id": "99962182",
   "metadata": {},
   "source": [
    "# if statement"
   ]
  },
  {
   "cell_type": "code",
   "execution_count": 4,
   "id": "a45c3d8a",
   "metadata": {},
   "outputs": [
    {
     "name": "stdout",
     "output_type": "stream",
     "text": [
      "7 is good\n"
     ]
    }
   ],
   "source": [
    "a = 7\n",
    "if a>6:\n",
    "     print(f\"{a} is good\")"
   ]
  },
  {
   "cell_type": "code",
   "execution_count": 5,
   "id": "c7861ce9",
   "metadata": {},
   "outputs": [
    {
     "name": "stdout",
     "output_type": "stream",
     "text": [
      "hey\n"
     ]
    }
   ],
   "source": [
    "if 1:\n",
    "    print(\"hey\")"
   ]
  },
  {
   "cell_type": "code",
   "execution_count": 6,
   "id": "ea5c8241",
   "metadata": {},
   "outputs": [
    {
     "name": "stdout",
     "output_type": "stream",
     "text": [
      "1\n"
     ]
    }
   ],
   "source": [
    "if (1==1):\n",
    "    print(\"1\")"
   ]
  },
  {
   "cell_type": "markdown",
   "id": "9a88a365",
   "metadata": {},
   "source": [
    "# if else statements"
   ]
  },
  {
   "cell_type": "code",
   "execution_count": 8,
   "id": "586bc829",
   "metadata": {},
   "outputs": [],
   "source": [
    "a = 10\n",
    "b = 5"
   ]
  },
  {
   "cell_type": "code",
   "execution_count": 9,
   "id": "61a6cead",
   "metadata": {},
   "outputs": [
    {
     "name": "stdout",
     "output_type": "stream",
     "text": [
      "b\n"
     ]
    }
   ],
   "source": [
    "if a < b :\n",
    "    print(\"a\")\n",
    "else:\n",
    "    print(\"b\")"
   ]
  },
  {
   "cell_type": "code",
   "execution_count": 10,
   "id": "6aeb3c20",
   "metadata": {},
   "outputs": [
    {
     "name": "stdout",
     "output_type": "stream",
     "text": [
      "a\n"
     ]
    }
   ],
   "source": [
    "if a > b :\n",
    "    print(\"a\")\n",
    "else:\n",
    "    print(\"b\")"
   ]
  },
  {
   "cell_type": "code",
   "execution_count": 12,
   "id": "c8b8e20f",
   "metadata": {},
   "outputs": [
    {
     "name": "stdout",
     "output_type": "stream",
     "text": [
      "1\n"
     ]
    }
   ],
   "source": [
    "if 2<1:\n",
    "    print(\"2\")\n",
    "else:\n",
    "    print(\"1\")"
   ]
  },
  {
   "cell_type": "code",
   "execution_count": 13,
   "id": "b9ae0b5d",
   "metadata": {},
   "outputs": [
    {
     "name": "stdout",
     "output_type": "stream",
     "text": [
      "2\n"
     ]
    }
   ],
   "source": [
    "if 2>1:\n",
    "    print(\"2\")\n",
    "else:\n",
    "    print(\"1\")"
   ]
  },
  {
   "cell_type": "code",
   "execution_count": 14,
   "id": "ecd0955e",
   "metadata": {},
   "outputs": [
    {
     "ename": "SyntaxError",
     "evalue": "invalid syntax (<ipython-input-14-f7b14ead57f7>, line 5)",
     "output_type": "error",
     "traceback": [
      "\u001b[1;36m  File \u001b[1;32m\"<ipython-input-14-f7b14ead57f7>\"\u001b[1;36m, line \u001b[1;32m5\u001b[0m\n\u001b[1;33m    else:\u001b[0m\n\u001b[1;37m    ^\u001b[0m\n\u001b[1;31mSyntaxError\u001b[0m\u001b[1;31m:\u001b[0m invalid syntax\n"
     ]
    }
   ],
   "source": [
    "if 2<1:\n",
    "    print(\"2\")\n",
    "else:\n",
    "    print(\"1\")\n",
    "else:"
   ]
  },
  {
   "cell_type": "code",
   "execution_count": 16,
   "id": "318fca2e",
   "metadata": {},
   "outputs": [
    {
     "name": "stdout",
     "output_type": "stream",
     "text": [
      "1\n"
     ]
    }
   ],
   "source": [
    "if 2<1:\n",
    "    print(\"2\")\n",
    "else:\n",
    "    print(\"1\")"
   ]
  },
  {
   "cell_type": "markdown",
   "id": "a0f7ff7d",
   "metadata": {},
   "source": [
    "# 3.Chained Conditionals (elif ladder)"
   ]
  },
  {
   "cell_type": "code",
   "execution_count": 19,
   "id": "0cf6750a",
   "metadata": {},
   "outputs": [
    {
     "name": "stdout",
     "output_type": "stream",
     "text": [
      "3\n"
     ]
    }
   ],
   "source": [
    "if 2<1:\n",
    "    print(\"2\")\n",
    "elif 3>1:\n",
    "    print(\"3\")\n",
    "else:\n",
    "    print(\"1\")"
   ]
  },
  {
   "cell_type": "code",
   "execution_count": 20,
   "id": "9dde59cf",
   "metadata": {},
   "outputs": [],
   "source": [
    "a = 1\n",
    "b = 2"
   ]
  },
  {
   "cell_type": "code",
   "execution_count": 21,
   "id": "41d5ad40",
   "metadata": {},
   "outputs": [
    {
     "name": "stdout",
     "output_type": "stream",
     "text": [
      "a is 1 and b is 2\n"
     ]
    }
   ],
   "source": [
    "if a==1:\n",
    "    if b==2:\n",
    "        print(\"a is 1 and b is 2\")"
   ]
  },
  {
   "cell_type": "code",
   "execution_count": 22,
   "id": "fc927c95",
   "metadata": {},
   "outputs": [],
   "source": [
    "if a==2:\n",
    "    if b==1:\n",
    "        print(\"a is 2 and b is 1\")"
   ]
  },
  {
   "cell_type": "code",
   "execution_count": 23,
   "id": "c19e770d",
   "metadata": {},
   "outputs": [],
   "source": [
    "a = 7\n"
   ]
  },
  {
   "cell_type": "code",
   "execution_count": 24,
   "id": "1d5d3ab0",
   "metadata": {},
   "outputs": [
    {
     "name": "stdout",
     "output_type": "stream",
     "text": [
      "greater\n"
     ]
    }
   ],
   "source": [
    "if a>4:\n",
    "    print(\"greater\")"
   ]
  },
  {
   "cell_type": "code",
   "execution_count": 25,
   "id": "6f55617d",
   "metadata": {},
   "outputs": [
    {
     "name": "stdout",
     "output_type": "stream",
     "text": [
      "hi\n",
      "works\n"
     ]
    }
   ],
   "source": [
    "if a>4:print(\"hi\");print(\"works\")"
   ]
  },
  {
   "cell_type": "markdown",
   "id": "77730e4c",
   "metadata": {},
   "source": [
    "# What is Python Switch Case Statemen"
   ]
  },
  {
   "cell_type": "code",
   "execution_count": 27,
   "id": "892349ab",
   "metadata": {},
   "outputs": [],
   "source": [
    "def week(i):\n",
    "    switcher = {\n",
    "        0:'sunday',\n",
    "        1: 'Monday',\n",
    "        2: 'Tuesday',\n",
    "        3: 'Wednesday',\n",
    "        4: 'Thursday',\n",
    "        5: 'friday',\n",
    "        3: 'Saturday'\n",
    "    }\n",
    "    return switcher.get(i,\"invalid day of week\")"
   ]
  },
  {
   "cell_type": "code",
   "execution_count": 28,
   "id": "ce74348a",
   "metadata": {},
   "outputs": [
    {
     "data": {
      "text/plain": [
       "'Tuesday'"
      ]
     },
     "execution_count": 28,
     "metadata": {},
     "output_type": "execute_result"
    }
   ],
   "source": [
    "week(2)"
   ]
  },
  {
   "cell_type": "code",
   "execution_count": 29,
   "id": "a966480a",
   "metadata": {},
   "outputs": [
    {
     "data": {
      "text/plain": [
       "'sunday'"
      ]
     },
     "execution_count": 29,
     "metadata": {},
     "output_type": "execute_result"
    }
   ],
   "source": [
    "week(0)"
   ]
  },
  {
   "cell_type": "code",
   "execution_count": 30,
   "id": "ebaea9b2",
   "metadata": {},
   "outputs": [
    {
     "data": {
      "text/plain": [
       "'Saturday'"
      ]
     },
     "execution_count": 30,
     "metadata": {},
     "output_type": "execute_result"
    }
   ],
   "source": [
    "week(3)"
   ]
  },
  {
   "cell_type": "code",
   "execution_count": 43,
   "id": "51064f60",
   "metadata": {},
   "outputs": [],
   "source": [
    "# use dictionary in swicth case in python\n",
    "def switch(x):\n",
    "    return {\n",
    "        a:1,\n",
    "        b:2,\n",
    "    }[x]"
   ]
  },
  {
   "cell_type": "code",
   "execution_count": 45,
   "id": "fb664856",
   "metadata": {},
   "outputs": [
    {
     "data": {
      "text/plain": [
       "1"
      ]
     },
     "execution_count": 45,
     "metadata": {},
     "output_type": "execute_result"
    }
   ],
   "source": [
    "switch(a)"
   ]
  },
  {
   "cell_type": "code",
   "execution_count": 47,
   "id": "8ca0a658",
   "metadata": {},
   "outputs": [],
   "source": [
    "def show(x):\n",
    "    return {\n",
    "        a : 1,\n",
    "        b :2\n",
    "        \n",
    "    }.get(x,9)"
   ]
  },
  {
   "cell_type": "code",
   "execution_count": 48,
   "id": "a03c7da3",
   "metadata": {},
   "outputs": [
    {
     "data": {
      "text/plain": [
       "1"
      ]
     },
     "execution_count": 48,
     "metadata": {},
     "output_type": "execute_result"
    }
   ],
   "source": [
    "show(a)"
   ]
  },
  {
   "cell_type": "code",
   "execution_count": 49,
   "id": "faad4315",
   "metadata": {},
   "outputs": [
    {
     "data": {
      "text/plain": [
       "9"
      ]
     },
     "execution_count": 49,
     "metadata": {},
     "output_type": "execute_result"
    }
   ],
   "source": [
    "show(5)"
   ]
  },
  {
   "cell_type": "markdown",
   "id": "0ccfbfa2",
   "metadata": {},
   "source": [
    "# n addition to the dictionary methods (which I really like, BTW), you can also use if-elif-else to obtain the switch/case/default functionality\n"
   ]
  },
  {
   "cell_type": "code",
   "execution_count": 50,
   "id": "c76aa029",
   "metadata": {},
   "outputs": [
    {
     "ename": "IndentationError",
     "evalue": "expected an indented block (<ipython-input-50-72d141bf4b5a>, line 3)",
     "output_type": "error",
     "traceback": [
      "\u001b[1;36m  File \u001b[1;32m\"<ipython-input-50-72d141bf4b5a>\"\u001b[1;36m, line \u001b[1;32m3\u001b[0m\n\u001b[1;33m    elif x =='b':\u001b[0m\n\u001b[1;37m    ^\u001b[0m\n\u001b[1;31mIndentationError\u001b[0m\u001b[1;31m:\u001b[0m expected an indented block\n"
     ]
    }
   ],
   "source": [
    "if x =='a':\n",
    "    # do something\n",
    "elif x =='b':\n",
    "    # do something other thin\n",
    "if x in 'bc':\n",
    "    # fall through by not using elif \n",
    "elif x in 'xyz':\n",
    "    # do yet another thing\n",
    "else:\n",
    "    # do the default\n",
    "    "
   ]
  },
  {
   "cell_type": "code",
   "execution_count": 51,
   "id": "eb00e711",
   "metadata": {},
   "outputs": [],
   "source": [
    "class switch(object):\n",
    "    value = None\n",
    "    def __new__(var,value):\n",
    "        var.value = value\n",
    "        return True\n",
    "def case(*args):\n",
    "    return any((arg==swicth.value for arg in args))"
   ]
  },
  {
   "cell_type": "code",
   "execution_count": 54,
   "id": "a7033e61",
   "metadata": {},
   "outputs": [],
   "source": [
    "obj = switch(25)"
   ]
  },
  {
   "cell_type": "code",
   "execution_count": 57,
   "id": "39f5d229",
   "metadata": {},
   "outputs": [
    {
     "data": {
      "text/plain": [
       "True"
      ]
     },
     "execution_count": 57,
     "metadata": {},
     "output_type": "execute_result"
    }
   ],
   "source": [
    "obj"
   ]
  },
  {
   "cell_type": "code",
   "execution_count": 60,
   "id": "7f36e234",
   "metadata": {},
   "outputs": [
    {
     "ename": "KeyError",
     "evalue": "2",
     "output_type": "error",
     "traceback": [
      "\u001b[1;31m---------------------------------------------------------------------------\u001b[0m",
      "\u001b[1;31mKeyError\u001b[0m                                  Traceback (most recent call last)",
      "\u001b[1;32m<ipython-input-60-f2c5805a7f45>\u001b[0m in \u001b[0;36m<module>\u001b[1;34m\u001b[0m\n\u001b[0;32m      1\u001b[0m \u001b[0mn\u001b[0m \u001b[1;33m=\u001b[0m\u001b[1;36m2\u001b[0m\u001b[1;33m\u001b[0m\u001b[1;33m\u001b[0m\u001b[0m\n\u001b[1;32m----> 2\u001b[1;33m \u001b[1;32mwhile\u001b[0m \u001b[0mswicth\u001b[0m\u001b[1;33m(\u001b[0m\u001b[0mn\u001b[0m\u001b[1;33m)\u001b[0m\u001b[1;33m:\u001b[0m\u001b[1;33m\u001b[0m\u001b[1;33m\u001b[0m\u001b[0m\n\u001b[0m\u001b[0;32m      3\u001b[0m     \u001b[1;32mif\u001b[0m \u001b[0mcase\u001b[0m\u001b[1;33m(\u001b[0m\u001b[1;36m0\u001b[0m\u001b[1;33m)\u001b[0m\u001b[1;33m:\u001b[0m\u001b[1;33m\u001b[0m\u001b[1;33m\u001b[0m\u001b[0m\n\u001b[0;32m      4\u001b[0m         \u001b[0mprint\u001b[0m\u001b[1;33m(\u001b[0m\u001b[1;34m\"you typed zero\"\u001b[0m\u001b[1;33m)\u001b[0m\u001b[1;33m\u001b[0m\u001b[1;33m\u001b[0m\u001b[0m\n\u001b[0;32m      5\u001b[0m         \u001b[1;32mbreak\u001b[0m\u001b[1;33m\u001b[0m\u001b[1;33m\u001b[0m\u001b[0m\n",
      "\u001b[1;32m<ipython-input-34-0b90ad7cb5c8>\u001b[0m in \u001b[0;36mswicth\u001b[1;34m(x)\u001b[0m\n\u001b[0;32m      1\u001b[0m \u001b[1;31m# use dictionary in swicth case in python\u001b[0m\u001b[1;33m\u001b[0m\u001b[1;33m\u001b[0m\u001b[1;33m\u001b[0m\u001b[0m\n\u001b[0;32m      2\u001b[0m \u001b[1;32mdef\u001b[0m \u001b[0mswicth\u001b[0m\u001b[1;33m(\u001b[0m\u001b[0mx\u001b[0m\u001b[1;33m)\u001b[0m\u001b[1;33m:\u001b[0m\u001b[1;33m\u001b[0m\u001b[1;33m\u001b[0m\u001b[0m\n\u001b[1;32m----> 3\u001b[1;33m     return {\n\u001b[0m\u001b[0;32m      4\u001b[0m         \u001b[1;34m'a'\u001b[0m\u001b[1;33m:\u001b[0m\u001b[1;36m1\u001b[0m\u001b[1;33m,\u001b[0m\u001b[1;33m\u001b[0m\u001b[1;33m\u001b[0m\u001b[0m\n\u001b[0;32m      5\u001b[0m         \u001b[1;34m'b'\u001b[0m\u001b[1;33m:\u001b[0m\u001b[1;36m2\u001b[0m\u001b[1;33m,\u001b[0m\u001b[1;33m\u001b[0m\u001b[1;33m\u001b[0m\u001b[0m\n",
      "\u001b[1;31mKeyError\u001b[0m: 2"
     ]
    }
   ],
   "source": [
    "n =2\n",
    "while swicth(n):\n",
    "    if case(0):\n",
    "        print(\"you typed zero\")\n",
    "        break\n",
    "    if case(1,4,9):\n",
    "        print(\"n is a perfect square\")\n",
    "        break\n",
    "    print(\"only single digit numbers are allowed\")\n",
    "    break"
   ]
  },
  {
   "cell_type": "code",
   "execution_count": 67,
   "id": "0465498b",
   "metadata": {},
   "outputs": [],
   "source": [
    "def first():\n",
    "    return 'first'\n",
    "def second():\n",
    "    return 'second'\n",
    "def third():\n",
    "    return 'third'\n",
    "def four():\n",
    "    return 'four'\n",
    "\n",
    "\n"
   ]
  },
  {
   "cell_type": "code",
   "execution_count": 69,
   "id": "e6518ec3",
   "metadata": {},
   "outputs": [],
   "source": [
    "mycase = {\n",
    "    'first':first, # do not use ()\n",
    "    'second' : second, # do not use ()\n",
    "    'third' : third,# do not use ()\n",
    "    'four' : four\n",
    "}"
   ]
  },
  {
   "cell_type": "code",
   "execution_count": 70,
   "id": "3ebed720",
   "metadata": {},
   "outputs": [],
   "source": [
    "myfunc = mycase['second']"
   ]
  },
  {
   "cell_type": "code",
   "execution_count": 72,
   "id": "ef6caa9a",
   "metadata": {},
   "outputs": [
    {
     "data": {
      "text/plain": [
       "'second'"
      ]
     },
     "execution_count": 72,
     "metadata": {},
     "output_type": "execute_result"
    }
   ],
   "source": [
    "myfunc()"
   ]
  },
  {
   "cell_type": "code",
   "execution_count": 74,
   "id": "9abe1061",
   "metadata": {},
   "outputs": [],
   "source": [
    "def f(x):\n",
    "    try:\n",
    "        return {\n",
    "            a :1,\n",
    "            b : 2\n",
    "        }[x]\n",
    "    except KeyError:\n",
    "        return 'default'"
   ]
  },
  {
   "cell_type": "code",
   "execution_count": 75,
   "id": "f72aee2f",
   "metadata": {},
   "outputs": [
    {
     "data": {
      "text/plain": [
       "2"
      ]
     },
     "execution_count": 75,
     "metadata": {},
     "output_type": "execute_result"
    }
   ],
   "source": [
    "f(2)"
   ]
  },
  {
   "cell_type": "code",
   "execution_count": 76,
   "id": "59c87cfd",
   "metadata": {},
   "outputs": [
    {
     "data": {
      "text/plain": [
       "1"
      ]
     },
     "execution_count": 76,
     "metadata": {},
     "output_type": "execute_result"
    }
   ],
   "source": [
    "f(a)"
   ]
  },
  {
   "cell_type": "code",
   "execution_count": 77,
   "id": "6dfff8fc",
   "metadata": {},
   "outputs": [
    {
     "ename": "NameError",
     "evalue": "name 'c' is not defined",
     "output_type": "error",
     "traceback": [
      "\u001b[1;31m---------------------------------------------------------------------------\u001b[0m",
      "\u001b[1;31mNameError\u001b[0m                                 Traceback (most recent call last)",
      "\u001b[1;32m<ipython-input-77-353824ea5dca>\u001b[0m in \u001b[0;36m<module>\u001b[1;34m\u001b[0m\n\u001b[1;32m----> 1\u001b[1;33m \u001b[0mf\u001b[0m\u001b[1;33m(\u001b[0m\u001b[0mc\u001b[0m\u001b[1;33m)\u001b[0m\u001b[1;33m\u001b[0m\u001b[1;33m\u001b[0m\u001b[0m\n\u001b[0m",
      "\u001b[1;31mNameError\u001b[0m: name 'c' is not defined"
     ]
    }
   ],
   "source": [
    "f(c)"
   ]
  },
  {
   "cell_type": "code",
   "execution_count": 78,
   "id": "c8a299b5",
   "metadata": {},
   "outputs": [],
   "source": [
    "l = ['Dog', 'Cat', 'Bird', 'Bigfoot',\n",
    "     'Dragonfly', 'Snake', 'Bat', 'Loch Ness Monster']"
   ]
  },
  {
   "cell_type": "code",
   "execution_count": 79,
   "id": "db7a76bd",
   "metadata": {},
   "outputs": [
    {
     "data": {
      "text/plain": [
       "['Dog',\n",
       " 'Cat',\n",
       " 'Bird',\n",
       " 'Bigfoot',\n",
       " 'Dragonfly',\n",
       " 'Snake',\n",
       " 'Bat',\n",
       " 'Loch Ness Monster']"
      ]
     },
     "execution_count": 79,
     "metadata": {},
     "output_type": "execute_result"
    }
   ],
   "source": [
    "l"
   ]
  },
  {
   "cell_type": "code",
   "execution_count": 82,
   "id": "aff70b21",
   "metadata": {},
   "outputs": [
    {
     "name": "stdout",
     "output_type": "stream",
     "text": [
      "Doghas four legs\n",
      "Cathas four legs\n",
      "Birdis a big mystery by default\n",
      "Bigfootis a big mystery by default\n",
      "Dragonflyhas wings\n",
      "Snakehas wings\n",
      "Bathas wings\n",
      "Loch Ness Monsteris a big mystery by default\n",
      "\n"
     ]
    }
   ],
   "source": [
    "for x in l:\n",
    "    if x in('Dog','Cat'):\n",
    "        x += 'has four legs'\n",
    "    elif x in ('Dragonfly','Snake','Bat'):\n",
    "        x +='has wings'\n",
    "    elif x in ('Snake'):\n",
    "        x +=\"has a forked tongue\"\n",
    "    else:\n",
    "        x += 'is a big mystery by default'\n",
    "    print(x)\n",
    "print()\n",
    "for x in range(10):\n",
    "    if x in (0,1):\n",
    "        x = \"values 0 and 1\"\n",
    "    elif x in (2,):\n",
    "        x = \"values 2 caught here\"\n",
    "    elif x in (3,7,8):\n",
    "        x =\"values 3 ,7,8 caught here\""
   ]
  },
  {
   "cell_type": "code",
   "execution_count": 83,
   "id": "61d37bd7",
   "metadata": {},
   "outputs": [
    {
     "name": "stdout",
     "output_type": "stream",
     "text": [
      "must be less than 5\n"
     ]
    }
   ],
   "source": [
    "some = 0\n",
    "while True:\n",
    "    if some >5:\n",
    "        print(\"greater than five\")\n",
    "        break\n",
    "    if some ==5:\n",
    "        print(\"equal to five\")\n",
    "        break\n",
    "    else:\n",
    "        print(\"must be less than 5\")\n",
    "        break"
   ]
  },
  {
   "cell_type": "code",
   "execution_count": 84,
   "id": "aa4ccce3",
   "metadata": {},
   "outputs": [],
   "source": [
    "def switch10(x):\n",
    "    dictionary = {'a':1,'b':2,'c':3}\n",
    "    return dictionary.get(x,'not found')"
   ]
  },
  {
   "cell_type": "code",
   "execution_count": 86,
   "id": "c005a073",
   "metadata": {},
   "outputs": [
    {
     "data": {
      "text/plain": [
       "1"
      ]
     },
     "execution_count": 86,
     "metadata": {},
     "output_type": "execute_result"
    }
   ],
   "source": [
    "switch10('a')"
   ]
  },
  {
   "cell_type": "code",
   "execution_count": 87,
   "id": "9b84fb16",
   "metadata": {},
   "outputs": [
    {
     "data": {
      "text/plain": [
       "2"
      ]
     },
     "execution_count": 87,
     "metadata": {},
     "output_type": "execute_result"
    }
   ],
   "source": [
    "switch10('b')"
   ]
  },
  {
   "cell_type": "code",
   "execution_count": 88,
   "id": "efcddd72",
   "metadata": {},
   "outputs": [
    {
     "data": {
      "text/plain": [
       "3"
      ]
     },
     "execution_count": 88,
     "metadata": {},
     "output_type": "execute_result"
    }
   ],
   "source": [
    "switch10('c')"
   ]
  },
  {
   "cell_type": "code",
   "execution_count": 89,
   "id": "bf414690",
   "metadata": {},
   "outputs": [
    {
     "data": {
      "text/plain": [
       "'not found'"
      ]
     },
     "execution_count": 89,
     "metadata": {},
     "output_type": "execute_result"
    }
   ],
   "source": [
    "switch10('1')"
   ]
  },
  {
   "cell_type": "code",
   "execution_count": 91,
   "id": "274b3132",
   "metadata": {},
   "outputs": [],
   "source": [
    "def case1():\n",
    "    print(\"this is case 1\")"
   ]
  },
  {
   "cell_type": "code",
   "execution_count": 92,
   "id": "a17733de",
   "metadata": {},
   "outputs": [],
   "source": [
    "def case2():\n",
    "    print(\"this is case 2\")"
   ]
  },
  {
   "cell_type": "code",
   "execution_count": 93,
   "id": "79c90e3e",
   "metadata": {},
   "outputs": [],
   "source": [
    "def case3():\n",
    "    print(\"this is case 3\")"
   ]
  },
  {
   "cell_type": "code",
   "execution_count": 94,
   "id": "9fe9a824",
   "metadata": {},
   "outputs": [],
   "source": [
    "token_dict ={\n",
    "    \"case1\":case1,\n",
    "    \"case2\":case2,\n",
    "    \"case3\":case3,\n",
    "}"
   ]
  },
  {
   "cell_type": "code",
   "execution_count": 95,
   "id": "4f2a5cb0",
   "metadata": {},
   "outputs": [
    {
     "data": {
      "text/plain": [
       "{'case1': <function __main__.case1()>,\n",
       " 'case2': <function __main__.case2()>,\n",
       " 'case3': <function __main__.case3()>}"
      ]
     },
     "execution_count": 95,
     "metadata": {},
     "output_type": "execute_result"
    }
   ],
   "source": [
    "token_dict"
   ]
  },
  {
   "cell_type": "code",
   "execution_count": 96,
   "id": "b0f866fb",
   "metadata": {},
   "outputs": [],
   "source": [
    "def main():\n",
    "    cases = (\"case1\",'case3','case2','case1')\n",
    "    for case in cases:\n",
    "        token_dict[case]()\n",
    "        "
   ]
  },
  {
   "cell_type": "code",
   "execution_count": 97,
   "id": "0279e8bc",
   "metadata": {},
   "outputs": [
    {
     "name": "stdout",
     "output_type": "stream",
     "text": [
      "this is case 1\n",
      "this is case 3\n",
      "this is case 2\n",
      "this is case 1\n"
     ]
    }
   ],
   "source": [
    "if __name__=='__main__':\n",
    "    main()"
   ]
  },
  {
   "cell_type": "code",
   "execution_count": 98,
   "id": "d08f345c",
   "metadata": {},
   "outputs": [],
   "source": [
    "code = [200,300,400,500,100,600,404,405,408,406,401,402,403,407]"
   ]
  },
  {
   "cell_type": "code",
   "execution_count": 99,
   "id": "f4b22485",
   "metadata": {},
   "outputs": [
    {
     "data": {
      "text/plain": [
       "[200, 300, 400, 500, 100, 600, 404, 405, 408, 406, 401, 402, 403, 407]"
      ]
     },
     "execution_count": 99,
     "metadata": {},
     "output_type": "execute_result"
    }
   ],
   "source": [
    "code"
   ]
  },
  {
   "cell_type": "code",
   "execution_count": 100,
   "id": "8cf79f9a",
   "metadata": {},
   "outputs": [],
   "source": [
    "def convert(code):\n",
    "    if (code ==200):\n",
    "        return 'okay'\n",
    "    elif (code == 400):\n",
    "        return 'bad request'\n",
    "    elif (code == 404):\n",
    "        return 'not found'\n",
    "    else:\n",
    "        return None"
   ]
  },
  {
   "cell_type": "code",
   "execution_count": 104,
   "id": "72276e13",
   "metadata": {},
   "outputs": [],
   "source": [
    "convert(500)\n"
   ]
  },
  {
   "cell_type": "code",
   "execution_count": 105,
   "id": "4f266687",
   "metadata": {},
   "outputs": [
    {
     "data": {
      "text/plain": [
       "'okay'"
      ]
     },
     "execution_count": 105,
     "metadata": {},
     "output_type": "execute_result"
    }
   ],
   "source": [
    "convert(200)"
   ]
  },
  {
   "cell_type": "code",
   "execution_count": 106,
   "id": "3537598a",
   "metadata": {},
   "outputs": [
    {
     "data": {
      "text/plain": [
       "'not found'"
      ]
     },
     "execution_count": 106,
     "metadata": {},
     "output_type": "execute_result"
    }
   ],
   "source": [
    "convert(404)"
   ]
  },
  {
   "cell_type": "code",
   "execution_count": 108,
   "id": "bfdf79a7",
   "metadata": {},
   "outputs": [],
   "source": [
    "def number(args):\n",
    "    switch={\n",
    "        0:\"0\",\n",
    "        1:\"1\",\n",
    "        2:\"2\",\n",
    "    }\n",
    "    return switch.get(args,'nothing')"
   ]
  },
  {
   "cell_type": "code",
   "execution_count": 109,
   "id": "1520ecb2",
   "metadata": {},
   "outputs": [
    {
     "data": {
      "text/plain": [
       "'2'"
      ]
     },
     "execution_count": 109,
     "metadata": {},
     "output_type": "execute_result"
    }
   ],
   "source": [
    "number(2)"
   ]
  },
  {
   "cell_type": "code",
   "execution_count": 110,
   "id": "ae53e09d",
   "metadata": {},
   "outputs": [
    {
     "ename": "SyntaxError",
     "evalue": "invalid syntax (<ipython-input-110-9623abe505b5>, line 4)",
     "output_type": "error",
     "traceback": [
      "\u001b[1;36m  File \u001b[1;32m\"<ipython-input-110-9623abe505b5>\"\u001b[1;36m, line \u001b[1;32m4\u001b[0m\n\u001b[1;33m    case 0 :\u001b[0m\n\u001b[1;37m         ^\u001b[0m\n\u001b[1;31mSyntaxError\u001b[0m\u001b[1;31m:\u001b[0m invalid syntax\n"
     ]
    }
   ],
   "source": [
    "funcion(args):{\n",
    "    \n",
    "    switch(args):{\n",
    "        case 0 :\n",
    "            return 'zero'\n",
    "        case 1:\n",
    "            return 'one'\n",
    "        case 2:\n",
    "            return 'two'\n",
    "        default:\n",
    "            return 'nothing'\n",
    "            \n",
    "        \n",
    "    }\n",
    "}       "
   ]
  },
  {
   "cell_type": "code",
   "execution_count": 111,
   "id": "75148d73",
   "metadata": {},
   "outputs": [
    {
     "data": {
      "text/plain": [
       "'invalid day of week'"
      ]
     },
     "execution_count": 111,
     "metadata": {},
     "output_type": "execute_result"
    }
   ],
   "source": [
    "week(7)"
   ]
  },
  {
   "cell_type": "code",
   "execution_count": 112,
   "id": "cdce1661",
   "metadata": {},
   "outputs": [
    {
     "data": {
      "text/plain": [
       "'friday'"
      ]
     },
     "execution_count": 112,
     "metadata": {},
     "output_type": "execute_result"
    }
   ],
   "source": [
    "week(5)"
   ]
  },
  {
   "cell_type": "code",
   "execution_count": 113,
   "id": "8698554e",
   "metadata": {},
   "outputs": [],
   "source": [
    "def zero():\n",
    "    return 'zero'\n",
    "def one():\n",
    "    return 'one'\n",
    "def two():\n",
    "    return 'two'\n",
    "def indirect(i):\n",
    "    swich={\n",
    "        0:zero, # do not use ()\n",
    "        1:one,\n",
    "        2:two,\n",
    "        3:lambda :'three'\n",
    "    }\n",
    "    func = swich.get(i,lambda:'invalid')\n",
    "    return func()"
   ]
  },
  {
   "cell_type": "code",
   "execution_count": 114,
   "id": "b8b7fc4c",
   "metadata": {},
   "outputs": [
    {
     "data": {
      "text/plain": [
       "'invalid'"
      ]
     },
     "execution_count": 114,
     "metadata": {},
     "output_type": "execute_result"
    }
   ],
   "source": [
    "indirect(5)\n"
   ]
  },
  {
   "cell_type": "code",
   "execution_count": 115,
   "id": "cd278298",
   "metadata": {},
   "outputs": [
    {
     "data": {
      "text/plain": [
       "'two'"
      ]
     },
     "execution_count": 115,
     "metadata": {},
     "output_type": "execute_result"
    }
   ],
   "source": [
    "indirect(2)"
   ]
  },
  {
   "cell_type": "code",
   "execution_count": 116,
   "id": "bbe0bc2e",
   "metadata": {},
   "outputs": [
    {
     "data": {
      "text/plain": [
       "'three'"
      ]
     },
     "execution_count": 116,
     "metadata": {},
     "output_type": "execute_result"
    }
   ],
   "source": [
    "indirect(3)\n"
   ]
  },
  {
   "cell_type": "code",
   "execution_count": 117,
   "id": "c15ccce9",
   "metadata": {},
   "outputs": [
    {
     "data": {
      "text/plain": [
       "'invalid'"
      ]
     },
     "execution_count": 117,
     "metadata": {},
     "output_type": "execute_result"
    }
   ],
   "source": [
    "indirect(4)"
   ]
  },
  {
   "cell_type": "markdown",
   "id": "5850c211",
   "metadata": {},
   "source": [
    "# Python Data Structures – Lists, Tuples, Sets, Dictionaries\n"
   ]
  },
  {
   "cell_type": "markdown",
   "id": "c8a71484",
   "metadata": {},
   "source": [
    "# Built-in Data Types in Python\n",
    "1. binary types = memeoryview,bytearray,bytes\n",
    "2. boolen type = bool\n",
    "3. set types = frozenset ,set\n",
    "4. sequence type = range,tuple ,list\n",
    "5. numeric types = complex, float,int\n",
    "6. mapping type = dict\n",
    "7. text type = str"
   ]
  },
  {
   "cell_type": "markdown",
   "id": "50bff6f0",
   "metadata": {},
   "source": [
    "1. list\n",
    "2. tuple\n",
    "3. dictionaries\n",
    "4. sets\n",
    "5. None\n",
    "6.\n"
   ]
  },
  {
   "cell_type": "markdown",
   "id": "98782594",
   "metadata": {},
   "source": [
    "# 1. How to Declare Python List?"
   ]
  },
  {
   "cell_type": "code",
   "execution_count": 1,
   "id": "e5ad9fc0",
   "metadata": {},
   "outputs": [],
   "source": [
    "languages = ['python','english','kannd','scratch']"
   ]
  },
  {
   "cell_type": "code",
   "execution_count": 2,
   "id": "cec957b1",
   "metadata": {},
   "outputs": [
    {
     "data": {
      "text/plain": [
       "['python', 'english', 'kannd', 'scratch']"
      ]
     },
     "execution_count": 2,
     "metadata": {},
     "output_type": "execute_result"
    }
   ],
   "source": [
    "languages"
   ]
  },
  {
   "cell_type": "code",
   "execution_count": 3,
   "id": "e1b8df17",
   "metadata": {},
   "outputs": [],
   "source": [
    "x = [i for i in range(10)]"
   ]
  },
  {
   "cell_type": "code",
   "execution_count": 4,
   "id": "155930be",
   "metadata": {},
   "outputs": [
    {
     "data": {
      "text/plain": [
       "[0, 1, 2, 3, 4, 5, 6, 7, 8, 9]"
      ]
     },
     "execution_count": 4,
     "metadata": {},
     "output_type": "execute_result"
    }
   ],
   "source": [
    "x"
   ]
  },
  {
   "cell_type": "code",
   "execution_count": 5,
   "id": "9228e1c3",
   "metadata": {},
   "outputs": [
    {
     "name": "stdout",
     "output_type": "stream",
     "text": [
      "0\n",
      "1\n",
      "2\n",
      "3\n",
      "4\n",
      "5\n",
      "6\n",
      "7\n",
      "8\n",
      "9\n"
     ]
    }
   ],
   "source": [
    "for i in x:\n",
    "    print(i)"
   ]
  },
  {
   "cell_type": "code",
   "execution_count": 6,
   "id": "e67172a2",
   "metadata": {},
   "outputs": [
    {
     "data": {
      "text/plain": [
       "'scratch'"
      ]
     },
     "execution_count": 6,
     "metadata": {},
     "output_type": "execute_result"
    }
   ],
   "source": [
    "languages[3]"
   ]
  },
  {
   "cell_type": "code",
   "execution_count": 8,
   "id": "2d9729b5",
   "metadata": {},
   "outputs": [
    {
     "ename": "IndexError",
     "evalue": "list index out of range",
     "output_type": "error",
     "traceback": [
      "\u001b[1;31m---------------------------------------------------------------------------\u001b[0m",
      "\u001b[1;31mIndexError\u001b[0m                                Traceback (most recent call last)",
      "\u001b[1;32m<ipython-input-8-f5a629ba7e34>\u001b[0m in \u001b[0;36m<module>\u001b[1;34m\u001b[0m\n\u001b[1;32m----> 1\u001b[1;33m \u001b[0mlanguages\u001b[0m\u001b[1;33m[\u001b[0m\u001b[1;36m4\u001b[0m\u001b[1;33m]\u001b[0m\u001b[1;33m\u001b[0m\u001b[1;33m\u001b[0m\u001b[0m\n\u001b[0m",
      "\u001b[1;31mIndexError\u001b[0m: list index out of range"
     ]
    }
   ],
   "source": [
    "languages[4]"
   ]
  },
  {
   "cell_type": "code",
   "execution_count": 11,
   "id": "b3b61fde",
   "metadata": {},
   "outputs": [],
   "source": [
    "mylist =[0,1,2,3,4,5,6,7,8,9]"
   ]
  },
  {
   "cell_type": "code",
   "execution_count": 17,
   "id": "1d982897",
   "metadata": {},
   "outputs": [],
   "source": [
    "try:\n",
    "    goto = mylist[25]\n",
    "except IndexError:\n",
    "    goto = 'null'"
   ]
  },
  {
   "cell_type": "code",
   "execution_count": 18,
   "id": "8159e83f",
   "metadata": {},
   "outputs": [
    {
     "data": {
      "text/plain": [
       "'null'"
      ]
     },
     "execution_count": 18,
     "metadata": {},
     "output_type": "execute_result"
    }
   ],
   "source": [
    "goto"
   ]
  },
  {
   "cell_type": "markdown",
   "id": "3c0de6a0",
   "metadata": {},
   "source": [
    "# python does not support arrays,we have python list"
   ]
  },
  {
   "cell_type": "code",
   "execution_count": 2,
   "id": "c02846e3",
   "metadata": {},
   "outputs": [],
   "source": [
    "keylist = [1,2,3,5,6]"
   ]
  },
  {
   "cell_type": "code",
   "execution_count": 3,
   "id": "d9feda6f",
   "metadata": {},
   "outputs": [
    {
     "data": {
      "text/plain": [
       "[1, 2, 3, 5, 6]"
      ]
     },
     "execution_count": 3,
     "metadata": {},
     "output_type": "execute_result"
    }
   ],
   "source": [
    "keylist"
   ]
  },
  {
   "cell_type": "code",
   "execution_count": 5,
   "id": "649eeb5b",
   "metadata": {},
   "outputs": [],
   "source": [
    "try:\n",
    "    mylist = keylist[2]    \n",
    "except IndexError:\n",
    "    mylist = 'null'"
   ]
  },
  {
   "cell_type": "code",
   "execution_count": 7,
   "id": "da398ca0",
   "metadata": {},
   "outputs": [
    {
     "name": "stdout",
     "output_type": "stream",
     "text": [
      "n\n",
      "u\n",
      "l\n",
      "l\n"
     ]
    }
   ],
   "source": [
    "for i in mylist:\n",
    "    print(i)"
   ]
  },
  {
   "cell_type": "markdown",
   "id": "a36d9fb1",
   "metadata": {},
   "source": [
    "# python list\n",
    "1. creating list\n",
    "2. accessing lists\n",
    "3. slicing lists\n",
    "4. reassigning lists\n",
    "5. deleting elements\n",
    "6. multidimensional lists\n",
    "6. concatenation of lists\n",
    "7. operation on lists\n",
    "8. iterating on a list\n",
    "9. list comprehension\n",
    "10. built-in function\n",
    "11. built-in methods"
   ]
  },
  {
   "cell_type": "code",
   "execution_count": 8,
   "id": "b3c7c534",
   "metadata": {},
   "outputs": [],
   "source": [
    "color = ['red','green','blue']"
   ]
  },
  {
   "cell_type": "code",
   "execution_count": 9,
   "id": "9af96c14",
   "metadata": {},
   "outputs": [
    {
     "data": {
      "text/plain": [
       "['red', 'green', 'blue']"
      ]
     },
     "execution_count": 9,
     "metadata": {},
     "output_type": "execute_result"
    }
   ],
   "source": [
    "color"
   ]
  },
  {
   "cell_type": "code",
   "execution_count": 10,
   "id": "13beaf66",
   "metadata": {},
   "outputs": [
    {
     "name": "stdout",
     "output_type": "stream",
     "text": [
      "red\n",
      "green\n",
      "blue\n"
     ]
    }
   ],
   "source": [
    "for item in color:\n",
    "    print(item)"
   ]
  },
  {
   "cell_type": "code",
   "execution_count": 15,
   "id": "3c602b22",
   "metadata": {},
   "outputs": [
    {
     "name": "stdout",
     "output_type": "stream",
     "text": [
      "red 0\n",
      "green 1\n",
      "blue 2\n"
     ]
    }
   ],
   "source": [
    "for item in range(len(color)):\n",
    "    print(color[item],item)"
   ]
  },
  {
   "cell_type": "code",
   "execution_count": 16,
   "id": "dac8a2f5",
   "metadata": {},
   "outputs": [],
   "source": [
    "# python list hold different types of values\n",
    "days = ['Monday','Tuesday','wednesday',4,5,6,7.0]"
   ]
  },
  {
   "cell_type": "code",
   "execution_count": 17,
   "id": "aad70397",
   "metadata": {},
   "outputs": [
    {
     "data": {
      "text/plain": [
       "['Monday', 'Tuesday', 'wednesday', 4, 5, 6, 7.0]"
      ]
     },
     "execution_count": 17,
     "metadata": {},
     "output_type": "execute_result"
    }
   ],
   "source": [
    "days"
   ]
  },
  {
   "cell_type": "code",
   "execution_count": 18,
   "id": "27ac0719",
   "metadata": {},
   "outputs": [
    {
     "name": "stdout",
     "output_type": "stream",
     "text": [
      "<class 'list'>\n"
     ]
    }
   ],
   "source": [
    "print(type(days))"
   ]
  },
  {
   "cell_type": "code",
   "execution_count": 27,
   "id": "e1e16cfe",
   "metadata": {},
   "outputs": [],
   "source": [
    "lang = [('english','kannad'),'hindi','Romanian','spanish']"
   ]
  },
  {
   "cell_type": "code",
   "execution_count": 28,
   "id": "44dbba87",
   "metadata": {},
   "outputs": [
    {
     "data": {
      "text/plain": [
       "[('english', 'kannad'), 'hindi', 'Romanian', 'spanish']"
      ]
     },
     "execution_count": 28,
     "metadata": {},
     "output_type": "execute_result"
    }
   ],
   "source": [
    "lang"
   ]
  },
  {
   "cell_type": "code",
   "execution_count": 29,
   "id": "ea6b6086",
   "metadata": {},
   "outputs": [
    {
     "data": {
      "text/plain": [
       "('english', 'kannad')"
      ]
     },
     "execution_count": 29,
     "metadata": {},
     "output_type": "execute_result"
    }
   ],
   "source": [
    "lang[0]"
   ]
  },
  {
   "cell_type": "code",
   "execution_count": 30,
   "id": "9369dbd5",
   "metadata": {},
   "outputs": [
    {
     "name": "stdout",
     "output_type": "stream",
     "text": [
      "<class 'list'>\n"
     ]
    }
   ],
   "source": [
    "print(type(lang))"
   ]
  },
  {
   "cell_type": "code",
   "execution_count": 31,
   "id": "94635190",
   "metadata": {},
   "outputs": [
    {
     "ename": "TypeError",
     "evalue": "'tuple' object does not support item assignment",
     "output_type": "error",
     "traceback": [
      "\u001b[1;31m---------------------------------------------------------------------------\u001b[0m",
      "\u001b[1;31mTypeError\u001b[0m                                 Traceback (most recent call last)",
      "\u001b[1;32m<ipython-input-31-e7f097a7193e>\u001b[0m in \u001b[0;36m<module>\u001b[1;34m\u001b[0m\n\u001b[1;32m----> 1\u001b[1;33m \u001b[0mlang\u001b[0m\u001b[1;33m[\u001b[0m\u001b[1;36m0\u001b[0m\u001b[1;33m]\u001b[0m\u001b[1;33m[\u001b[0m\u001b[1;36m0\u001b[0m\u001b[1;33m]\u001b[0m\u001b[1;33m=\u001b[0m\u001b[1;34m'kokani'\u001b[0m\u001b[1;33m\u001b[0m\u001b[1;33m\u001b[0m\u001b[0m\n\u001b[0m",
      "\u001b[1;31mTypeError\u001b[0m: 'tuple' object does not support item assignment"
     ]
    }
   ],
   "source": [
    "lang[0][0]='kokani'"
   ]
  },
  {
   "cell_type": "code",
   "execution_count": 32,
   "id": "72758267",
   "metadata": {},
   "outputs": [
    {
     "data": {
      "text/plain": [
       "[('english', 'kannad'), 'hindi', 'Romanian', 'spanish']"
      ]
     },
     "execution_count": 32,
     "metadata": {},
     "output_type": "execute_result"
    }
   ],
   "source": [
    "lang"
   ]
  },
  {
   "cell_type": "markdown",
   "id": "a77d99cd",
   "metadata": {},
   "source": [
    "# 2. How to Access Python List?"
   ]
  },
  {
   "cell_type": "code",
   "execution_count": 33,
   "id": "db3e22b2",
   "metadata": {},
   "outputs": [
    {
     "data": {
      "text/plain": [
       "['Monday', 'Tuesday', 'wednesday', 4, 5, 6, 7.0]"
      ]
     },
     "execution_count": 33,
     "metadata": {},
     "output_type": "execute_result"
    }
   ],
   "source": [
    "days"
   ]
  },
  {
   "cell_type": "code",
   "execution_count": 34,
   "id": "71d6c7fa",
   "metadata": {},
   "outputs": [
    {
     "name": "stdout",
     "output_type": "stream",
     "text": [
      "['Monday', 'Tuesday', 'wednesday', 4, 5, 6, 7.0]\n"
     ]
    }
   ],
   "source": [
    "print(days)"
   ]
  },
  {
   "cell_type": "code",
   "execution_count": 35,
   "id": "059c0c8a",
   "metadata": {},
   "outputs": [
    {
     "data": {
      "text/plain": [
       "'Monday'"
      ]
     },
     "execution_count": 35,
     "metadata": {},
     "output_type": "execute_result"
    }
   ],
   "source": [
    "days[0]"
   ]
  },
  {
   "cell_type": "code",
   "execution_count": 36,
   "id": "f539f915",
   "metadata": {},
   "outputs": [
    {
     "data": {
      "text/plain": [
       "'Tuesday'"
      ]
     },
     "execution_count": 36,
     "metadata": {},
     "output_type": "execute_result"
    }
   ],
   "source": [
    "days[1]"
   ]
  },
  {
   "cell_type": "code",
   "execution_count": 37,
   "id": "f808db46",
   "metadata": {},
   "outputs": [
    {
     "data": {
      "text/plain": [
       "7.0"
      ]
     },
     "execution_count": 37,
     "metadata": {},
     "output_type": "execute_result"
    }
   ],
   "source": [
    "days[6]"
   ]
  },
  {
   "cell_type": "code",
   "execution_count": 38,
   "id": "cb565c03",
   "metadata": {},
   "outputs": [],
   "source": [
    "dic = {'name':'manjunath','last':'kannur','age':30}"
   ]
  },
  {
   "cell_type": "code",
   "execution_count": 39,
   "id": "5fd38a20",
   "metadata": {},
   "outputs": [],
   "source": [
    "mydict = dic.get('manjunath')"
   ]
  },
  {
   "cell_type": "code",
   "execution_count": 40,
   "id": "388a985a",
   "metadata": {},
   "outputs": [],
   "source": [
    "mydict"
   ]
  },
  {
   "cell_type": "code",
   "execution_count": 41,
   "id": "b965bbbb",
   "metadata": {},
   "outputs": [],
   "source": [
    "myidict = dic.get('name')"
   ]
  },
  {
   "cell_type": "code",
   "execution_count": 42,
   "id": "edaff853",
   "metadata": {},
   "outputs": [],
   "source": [
    "mydict"
   ]
  },
  {
   "cell_type": "code",
   "execution_count": 43,
   "id": "550ec8cd",
   "metadata": {},
   "outputs": [],
   "source": [
    "indices = ['zero','one','two','three','four','five','six']"
   ]
  },
  {
   "cell_type": "code",
   "execution_count": 44,
   "id": "ea3ea93c",
   "metadata": {},
   "outputs": [
    {
     "data": {
      "text/plain": [
       "['zero', 'one', 'two', 'three', 'four', 'five', 'six']"
      ]
     },
     "execution_count": 44,
     "metadata": {},
     "output_type": "execute_result"
    }
   ],
   "source": [
    "indices"
   ]
  },
  {
   "cell_type": "code",
   "execution_count": 45,
   "id": "ca0c56f0",
   "metadata": {},
   "outputs": [
    {
     "data": {
      "text/plain": [
       "['two', 'three']"
      ]
     },
     "execution_count": 45,
     "metadata": {},
     "output_type": "execute_result"
    }
   ],
   "source": [
    "indices[2:4]"
   ]
  },
  {
   "cell_type": "code",
   "execution_count": 46,
   "id": "f1edd202",
   "metadata": {},
   "outputs": [
    {
     "data": {
      "text/plain": [
       "['zero', 'one', 'two', 'three']"
      ]
     },
     "execution_count": 46,
     "metadata": {},
     "output_type": "execute_result"
    }
   ],
   "source": [
    "indices[:4]"
   ]
  },
  {
   "cell_type": "code",
   "execution_count": 47,
   "id": "f41344d3",
   "metadata": {},
   "outputs": [
    {
     "data": {
      "text/plain": [
       "['zero', 'four']"
      ]
     },
     "execution_count": 47,
     "metadata": {},
     "output_type": "execute_result"
    }
   ],
   "source": [
    "indices[::4]"
   ]
  },
  {
   "cell_type": "code",
   "execution_count": 48,
   "id": "38372e8d",
   "metadata": {},
   "outputs": [
    {
     "data": {
      "text/plain": [
       "['three', 'four', 'five']"
      ]
     },
     "execution_count": 48,
     "metadata": {},
     "output_type": "execute_result"
    }
   ],
   "source": [
    "indices[3:6]"
   ]
  },
  {
   "cell_type": "code",
   "execution_count": 49,
   "id": "6e04ca6c",
   "metadata": {},
   "outputs": [
    {
     "data": {
      "text/plain": [
       "['four', 'five', 'six']"
      ]
     },
     "execution_count": 49,
     "metadata": {},
     "output_type": "execute_result"
    }
   ],
   "source": [
    "indices[4:]"
   ]
  },
  {
   "cell_type": "code",
   "execution_count": 50,
   "id": "9f14778b",
   "metadata": {},
   "outputs": [
    {
     "data": {
      "text/plain": [
       "['zero', 'one', 'two', 'three', 'four']"
      ]
     },
     "execution_count": 50,
     "metadata": {},
     "output_type": "execute_result"
    }
   ],
   "source": [
    "indices[:5]"
   ]
  },
  {
   "cell_type": "code",
   "execution_count": 51,
   "id": "85290761",
   "metadata": {},
   "outputs": [
    {
     "data": {
      "text/plain": [
       "['two', 'three', 'four']"
      ]
     },
     "execution_count": 51,
     "metadata": {},
     "output_type": "execute_result"
    }
   ],
   "source": [
    "indices[2:5]"
   ]
  },
  {
   "cell_type": "code",
   "execution_count": 52,
   "id": "7d0f9f3d",
   "metadata": {},
   "outputs": [
    {
     "data": {
      "text/plain": [
       "['zero', 'one', 'two', 'three', 'four', 'five', 'six']"
      ]
     },
     "execution_count": 52,
     "metadata": {},
     "output_type": "execute_result"
    }
   ],
   "source": [
    "indices[:]"
   ]
  },
  {
   "cell_type": "code",
   "execution_count": 53,
   "id": "ab7a0f2f",
   "metadata": {},
   "outputs": [
    {
     "data": {
      "text/plain": [
       "['one', 'two', 'three', 'four']"
      ]
     },
     "execution_count": 53,
     "metadata": {},
     "output_type": "execute_result"
    }
   ],
   "source": [
    "indices[1:-2]"
   ]
  },
  {
   "cell_type": "code",
   "execution_count": 55,
   "id": "b991244c",
   "metadata": {},
   "outputs": [
    {
     "data": {
      "text/plain": [
       "['six', 'five', 'four', 'three', 'two', 'one', 'zero']"
      ]
     },
     "execution_count": 55,
     "metadata": {},
     "output_type": "execute_result"
    }
   ],
   "source": [
    "indices[::-1]"
   ]
  },
  {
   "cell_type": "markdown",
   "id": "92c1d087",
   "metadata": {},
   "source": [
    "# 4. Reassigning a Python List (Mutable)"
   ]
  },
  {
   "cell_type": "code",
   "execution_count": 59,
   "id": "3095c480",
   "metadata": {},
   "outputs": [],
   "source": [
    "colors = ['red','green','blue']"
   ]
  },
  {
   "cell_type": "code",
   "execution_count": 63,
   "id": "f86cb997",
   "metadata": {},
   "outputs": [
    {
     "data": {
      "text/plain": [
       "['caramel', 'gold', 'silver', 'occur']"
      ]
     },
     "execution_count": 63,
     "metadata": {},
     "output_type": "execute_result"
    }
   ],
   "source": [
    "colors"
   ]
  },
  {
   "cell_type": "code",
   "execution_count": 61,
   "id": "008e547c",
   "metadata": {},
   "outputs": [],
   "source": [
    "colors = ['caramel','gold','silver','occur']"
   ]
  },
  {
   "cell_type": "code",
   "execution_count": 62,
   "id": "16ae7629",
   "metadata": {},
   "outputs": [
    {
     "data": {
      "text/plain": [
       "['caramel', 'gold', 'silver', 'occur']"
      ]
     },
     "execution_count": 62,
     "metadata": {},
     "output_type": "execute_result"
    }
   ],
   "source": [
    "colors"
   ]
  },
  {
   "cell_type": "code",
   "execution_count": 64,
   "id": "24306196",
   "metadata": {},
   "outputs": [],
   "source": [
    "colors = ['bronze','silver']"
   ]
  },
  {
   "cell_type": "code",
   "execution_count": 65,
   "id": "f731010d",
   "metadata": {},
   "outputs": [
    {
     "data": {
      "text/plain": [
       "['bronze', 'silver']"
      ]
     },
     "execution_count": 65,
     "metadata": {},
     "output_type": "execute_result"
    }
   ],
   "source": [
    "colors"
   ]
  },
  {
   "cell_type": "code",
   "execution_count": 66,
   "id": "d065d779",
   "metadata": {},
   "outputs": [],
   "source": [
    "colors = ['caramel','gold','silver','occur']"
   ]
  },
  {
   "cell_type": "code",
   "execution_count": 67,
   "id": "1ce0b943",
   "metadata": {},
   "outputs": [
    {
     "data": {
      "text/plain": [
       "['caramel', 'gold', 'silver', 'occur']"
      ]
     },
     "execution_count": 67,
     "metadata": {},
     "output_type": "execute_result"
    }
   ],
   "source": [
    "colors"
   ]
  },
  {
   "cell_type": "code",
   "execution_count": 68,
   "id": "afd6c51c",
   "metadata": {},
   "outputs": [],
   "source": [
    "colors[2:3] = ['bronze','silver']"
   ]
  },
  {
   "cell_type": "code",
   "execution_count": 69,
   "id": "79883845",
   "metadata": {},
   "outputs": [
    {
     "data": {
      "text/plain": [
       "['caramel', 'gold', 'bronze', 'silver', 'occur']"
      ]
     },
     "execution_count": 69,
     "metadata": {},
     "output_type": "execute_result"
    }
   ],
   "source": [
    "colors"
   ]
  },
  {
   "cell_type": "code",
   "execution_count": 72,
   "id": "b497d34f",
   "metadata": {},
   "outputs": [],
   "source": [
    "colors [2:2] = ['occur']"
   ]
  },
  {
   "cell_type": "code",
   "execution_count": 73,
   "id": "256f3360",
   "metadata": {},
   "outputs": [
    {
     "data": {
      "text/plain": [
       "['caramel',\n",
       " 'gold',\n",
       " 'occur',\n",
       " 'o',\n",
       " 'c',\n",
       " 'c',\n",
       " 'u',\n",
       " 'r',\n",
       " 'bronze',\n",
       " 'silver',\n",
       " 'occur']"
      ]
     },
     "execution_count": 73,
     "metadata": {},
     "output_type": "execute_result"
    }
   ],
   "source": [
    "colors"
   ]
  },
  {
   "cell_type": "code",
   "execution_count": 74,
   "id": "11c33255",
   "metadata": {},
   "outputs": [],
   "source": [
    "colors[3]='bronze'"
   ]
  },
  {
   "cell_type": "code",
   "execution_count": 75,
   "id": "c45e5f87",
   "metadata": {},
   "outputs": [
    {
     "data": {
      "text/plain": [
       "['caramel',\n",
       " 'gold',\n",
       " 'occur',\n",
       " 'bronze',\n",
       " 'c',\n",
       " 'c',\n",
       " 'u',\n",
       " 'r',\n",
       " 'bronze',\n",
       " 'silver',\n",
       " 'occur']"
      ]
     },
     "execution_count": 75,
     "metadata": {},
     "output_type": "execute_result"
    }
   ],
   "source": [
    "colors"
   ]
  },
  {
   "cell_type": "code",
   "execution_count": 76,
   "id": "7f9fba1f",
   "metadata": {},
   "outputs": [],
   "source": [
    "colors[4] = 'holographic'"
   ]
  },
  {
   "cell_type": "code",
   "execution_count": 78,
   "id": "1da76ae7",
   "metadata": {},
   "outputs": [
    {
     "data": {
      "text/plain": [
       "['caramel',\n",
       " 'gold',\n",
       " 'occur',\n",
       " 'bronze',\n",
       " 'holographic',\n",
       " 'c',\n",
       " 'u',\n",
       " 'r',\n",
       " 'bronze',\n",
       " 'silver',\n",
       " 'occur']"
      ]
     },
     "execution_count": 78,
     "metadata": {},
     "output_type": "execute_result"
    }
   ],
   "source": [
    "colors"
   ]
  },
  {
   "cell_type": "code",
   "execution_count": 81,
   "id": "02a75e4a",
   "metadata": {},
   "outputs": [],
   "source": [
    "colors[1] ='kannur'"
   ]
  },
  {
   "cell_type": "code",
   "execution_count": 82,
   "id": "4c9f5b5b",
   "metadata": {},
   "outputs": [
    {
     "data": {
      "text/plain": [
       "['caramel',\n",
       " 'kannur',\n",
       " 'occur',\n",
       " 'bronze',\n",
       " 'holographic',\n",
       " 'c',\n",
       " 'u',\n",
       " 'r',\n",
       " 'bronze',\n",
       " 'silver',\n",
       " 'occur']"
      ]
     },
     "execution_count": 82,
     "metadata": {},
     "output_type": "execute_result"
    }
   ],
   "source": [
    "colors"
   ]
  },
  {
   "cell_type": "code",
   "execution_count": 85,
   "id": "24d2a14f",
   "metadata": {},
   "outputs": [],
   "source": [
    "colors[2] = ['gold','silver','bronze','mack']"
   ]
  },
  {
   "cell_type": "code",
   "execution_count": 86,
   "id": "b37c6749",
   "metadata": {},
   "outputs": [
    {
     "data": {
      "text/plain": [
       "['caramel',\n",
       " 'kannur',\n",
       " ['gold', 'silver', 'bronze', 'mack'],\n",
       " 'bronze',\n",
       " 'holographic',\n",
       " 'c',\n",
       " 'u',\n",
       " 'r',\n",
       " 'bronze',\n",
       " 'silver',\n",
       " 'occur']"
      ]
     },
     "execution_count": 86,
     "metadata": {},
     "output_type": "execute_result"
    }
   ],
   "source": [
    "colors"
   ]
  },
  {
   "cell_type": "code",
   "execution_count": 87,
   "id": "5f315956",
   "metadata": {},
   "outputs": [],
   "source": [
    "del colors"
   ]
  },
  {
   "cell_type": "code",
   "execution_count": 88,
   "id": "7305684c",
   "metadata": {},
   "outputs": [
    {
     "name": "stderr",
     "output_type": "stream",
     "text": [
      "UsageError: %colors: you must specify a color scheme. See '%colors?'\n"
     ]
    }
   ],
   "source": [
    "colors"
   ]
  },
  {
   "cell_type": "code",
   "execution_count": 89,
   "id": "5c61d227",
   "metadata": {},
   "outputs": [],
   "source": [
    "mylist = [',','gold','silver','bronze','holographic']"
   ]
  },
  {
   "cell_type": "code",
   "execution_count": 90,
   "id": "ee2d00ab",
   "metadata": {},
   "outputs": [
    {
     "data": {
      "text/plain": [
       "[',', 'gold', 'silver', 'bronze', 'holographic']"
      ]
     },
     "execution_count": 90,
     "metadata": {},
     "output_type": "execute_result"
    }
   ],
   "source": [
    "mylist"
   ]
  },
  {
   "cell_type": "code",
   "execution_count": 92,
   "id": "6c093575",
   "metadata": {},
   "outputs": [],
   "source": [
    "del mylist[2:4]"
   ]
  },
  {
   "cell_type": "code",
   "execution_count": 93,
   "id": "fd1f9dca",
   "metadata": {},
   "outputs": [
    {
     "data": {
      "text/plain": [
       "[',', 'gold', 'holographic']"
      ]
     },
     "execution_count": 93,
     "metadata": {},
     "output_type": "execute_result"
    }
   ],
   "source": [
    "mylist"
   ]
  },
  {
   "cell_type": "code",
   "execution_count": 95,
   "id": "6be42b2a",
   "metadata": {},
   "outputs": [
    {
     "data": {
      "text/plain": [
       "'holographic'"
      ]
     },
     "execution_count": 95,
     "metadata": {},
     "output_type": "execute_result"
    }
   ],
   "source": [
    "mylist[2]"
   ]
  },
  {
   "cell_type": "code",
   "execution_count": 97,
   "id": "576901f1",
   "metadata": {},
   "outputs": [],
   "source": [
    "del mylist[0] # deleting single element"
   ]
  },
  {
   "cell_type": "code",
   "execution_count": 98,
   "id": "7f947042",
   "metadata": {},
   "outputs": [
    {
     "data": {
      "text/plain": [
       "['gold', 'holographic']"
      ]
     },
     "execution_count": 98,
     "metadata": {},
     "output_type": "execute_result"
    }
   ],
   "source": [
    "mylist"
   ]
  },
  {
   "cell_type": "markdown",
   "id": "6fff4fa4",
   "metadata": {},
   "source": [
    "# Multidimensional Lists in Python"
   ]
  },
  {
   "cell_type": "code",
   "execution_count": 99,
   "id": "60816672",
   "metadata": {},
   "outputs": [],
   "source": [
    "grocery_list = [['caramel','p&b','jelly'],['onions','potatoes'],['flour','oil']]"
   ]
  },
  {
   "cell_type": "code",
   "execution_count": 100,
   "id": "38a10ad0",
   "metadata": {},
   "outputs": [
    {
     "data": {
      "text/plain": [
       "[['caramel', 'p&b', 'jelly'], ['onions', 'potatoes'], ['flour', 'oil']]"
      ]
     },
     "execution_count": 100,
     "metadata": {},
     "output_type": "execute_result"
    }
   ],
   "source": [
    "grocery_list"
   ]
  },
  {
   "cell_type": "code",
   "execution_count": 101,
   "id": "3b7f8955",
   "metadata": {},
   "outputs": [],
   "source": [
    "a =[[1,2],[3,4],[5,6],[7,8],[9,0]]"
   ]
  },
  {
   "cell_type": "code",
   "execution_count": 102,
   "id": "5d6789d1",
   "metadata": {},
   "outputs": [
    {
     "data": {
      "text/plain": [
       "[[1, 2], [3, 4], [5, 6], [7, 8], [9, 0]]"
      ]
     },
     "execution_count": 102,
     "metadata": {},
     "output_type": "execute_result"
    }
   ],
   "source": [
    "a"
   ]
  },
  {
   "cell_type": "code",
   "execution_count": 103,
   "id": "b1c4c57b",
   "metadata": {},
   "outputs": [
    {
     "data": {
      "text/plain": [
       "[1, 2]"
      ]
     },
     "execution_count": 103,
     "metadata": {},
     "output_type": "execute_result"
    }
   ],
   "source": [
    "a[0]"
   ]
  },
  {
   "cell_type": "code",
   "execution_count": 104,
   "id": "36b90695",
   "metadata": {},
   "outputs": [
    {
     "data": {
      "text/plain": [
       "[3, 4]"
      ]
     },
     "execution_count": 104,
     "metadata": {},
     "output_type": "execute_result"
    }
   ],
   "source": [
    "a[1]"
   ]
  },
  {
   "cell_type": "code",
   "execution_count": 105,
   "id": "c06efe66",
   "metadata": {},
   "outputs": [
    {
     "data": {
      "text/plain": [
       "[5, 6]"
      ]
     },
     "execution_count": 105,
     "metadata": {},
     "output_type": "execute_result"
    }
   ],
   "source": [
    "a[2]"
   ]
  },
  {
   "cell_type": "code",
   "execution_count": 106,
   "id": "a27cbca9",
   "metadata": {},
   "outputs": [
    {
     "data": {
      "text/plain": [
       "[7, 8]"
      ]
     },
     "execution_count": 106,
     "metadata": {},
     "output_type": "execute_result"
    }
   ],
   "source": [
    "a[3]"
   ]
  },
  {
   "cell_type": "code",
   "execution_count": 107,
   "id": "1bbe5964",
   "metadata": {},
   "outputs": [
    {
     "data": {
      "text/plain": [
       "[9, 0]"
      ]
     },
     "execution_count": 107,
     "metadata": {},
     "output_type": "execute_result"
    }
   ],
   "source": [
    "a[4]"
   ]
  },
  {
   "cell_type": "code",
   "execution_count": 108,
   "id": "671d0b31",
   "metadata": {},
   "outputs": [
    {
     "data": {
      "text/plain": [
       "2"
      ]
     },
     "execution_count": 108,
     "metadata": {},
     "output_type": "execute_result"
    }
   ],
   "source": [
    "a[0][1]"
   ]
  },
  {
   "cell_type": "code",
   "execution_count": 109,
   "id": "85c61c4f",
   "metadata": {},
   "outputs": [
    {
     "data": {
      "text/plain": [
       "[[1, 2], [3, 4], [5, 6], [7, 8], [9, 0]]"
      ]
     },
     "execution_count": 109,
     "metadata": {},
     "output_type": "execute_result"
    }
   ],
   "source": [
    "a"
   ]
  },
  {
   "cell_type": "code",
   "execution_count": 110,
   "id": "19b256b5",
   "metadata": {},
   "outputs": [
    {
     "data": {
      "text/plain": [
       "4"
      ]
     },
     "execution_count": 110,
     "metadata": {},
     "output_type": "execute_result"
    }
   ],
   "source": [
    "a[1][1]"
   ]
  },
  {
   "cell_type": "code",
   "execution_count": 111,
   "id": "777420b8",
   "metadata": {},
   "outputs": [
    {
     "data": {
      "text/plain": [
       "5"
      ]
     },
     "execution_count": 111,
     "metadata": {},
     "output_type": "execute_result"
    }
   ],
   "source": [
    "a[2][0]"
   ]
  },
  {
   "cell_type": "code",
   "execution_count": 113,
   "id": "6ca95bf2",
   "metadata": {},
   "outputs": [
    {
     "data": {
      "text/plain": [
       "2"
      ]
     },
     "execution_count": 113,
     "metadata": {},
     "output_type": "execute_result"
    }
   ],
   "source": [
    "a[0][1]"
   ]
  },
  {
   "cell_type": "code",
   "execution_count": 114,
   "id": "c5d6424a",
   "metadata": {},
   "outputs": [],
   "source": [
    "a,b = [3,1,2],[5,4,6]"
   ]
  },
  {
   "cell_type": "code",
   "execution_count": 115,
   "id": "a6dee40a",
   "metadata": {},
   "outputs": [
    {
     "data": {
      "text/plain": [
       "[3, 1, 2, 5, 4, 6]"
      ]
     },
     "execution_count": 115,
     "metadata": {},
     "output_type": "execute_result"
    }
   ],
   "source": [
    "a+b"
   ]
  },
  {
   "cell_type": "code",
   "execution_count": 116,
   "id": "a2f77c25",
   "metadata": {},
   "outputs": [
    {
     "data": {
      "text/plain": [
       "[3, 1, 2]"
      ]
     },
     "execution_count": 116,
     "metadata": {},
     "output_type": "execute_result"
    }
   ],
   "source": [
    "a"
   ]
  },
  {
   "cell_type": "code",
   "execution_count": 117,
   "id": "ee858039",
   "metadata": {},
   "outputs": [
    {
     "data": {
      "text/plain": [
       "[5, 4, 6]"
      ]
     },
     "execution_count": 117,
     "metadata": {},
     "output_type": "execute_result"
    }
   ],
   "source": [
    "b"
   ]
  },
  {
   "cell_type": "markdown",
   "id": "0c9760ad",
   "metadata": {},
   "source": [
    "# Python List Operations "
   ]
  },
  {
   "cell_type": "code",
   "execution_count": 118,
   "id": "ec194942",
   "metadata": {},
   "outputs": [],
   "source": [
    "a*=3"
   ]
  },
  {
   "cell_type": "code",
   "execution_count": 119,
   "id": "0d4a7ae8",
   "metadata": {},
   "outputs": [
    {
     "data": {
      "text/plain": [
       "[3, 1, 2, 3, 1, 2, 3, 1, 2]"
      ]
     },
     "execution_count": 119,
     "metadata": {},
     "output_type": "execute_result"
    }
   ],
   "source": [
    "a"
   ]
  },
  {
   "cell_type": "code",
   "execution_count": 120,
   "id": "5f770ea0",
   "metadata": {},
   "outputs": [
    {
     "data": {
      "text/plain": [
       "True"
      ]
     },
     "execution_count": 120,
     "metadata": {},
     "output_type": "execute_result"
    }
   ],
   "source": [
    "1 in a"
   ]
  },
  {
   "cell_type": "code",
   "execution_count": 121,
   "id": "dae7d299",
   "metadata": {},
   "outputs": [
    {
     "data": {
      "text/plain": [
       "False"
      ]
     },
     "execution_count": 121,
     "metadata": {},
     "output_type": "execute_result"
    }
   ],
   "source": [
    "5 in a"
   ]
  },
  {
   "cell_type": "markdown",
   "id": "0d1008b3",
   "metadata": {},
   "source": [
    "# Iterating on a list\n",
    "### Python list can be traversed with a for loop in python."
   ]
  },
  {
   "cell_type": "code",
   "execution_count": 122,
   "id": "73ed2503",
   "metadata": {},
   "outputs": [
    {
     "name": "stdout",
     "output_type": "stream",
     "text": [
      "2 is composit number\n",
      "\n"
     ]
    }
   ],
   "source": [
    "for i in [1,2,3]:\n",
    "    if i %2 ==0:\n",
    "        print(f\"{i} is composit number\\n\")"
   ]
  },
  {
   "cell_type": "markdown",
   "id": "80c7c492",
   "metadata": {},
   "source": [
    "# Python List Comprehension\n",
    "#### You can create a new list just like you would do in mathematics. To do so, type an expression followed by a for statement, all inside square brackets. You may assign it to a variable. Let’s make a list for all even numbers from 1 to 20."
   ]
  },
  {
   "cell_type": "code",
   "execution_count": 124,
   "id": "7cb1d4f5",
   "metadata": {},
   "outputs": [],
   "source": [
    "even = [2*i for i in range(1,11)]"
   ]
  },
  {
   "cell_type": "code",
   "execution_count": 125,
   "id": "e3194a15",
   "metadata": {},
   "outputs": [
    {
     "data": {
      "text/plain": [
       "[2, 4, 6, 8, 10, 12, 14, 16, 18, 20]"
      ]
     },
     "execution_count": 125,
     "metadata": {},
     "output_type": "execute_result"
    }
   ],
   "source": [
    "even"
   ]
  },
  {
   "cell_type": "code",
   "execution_count": 126,
   "id": "e9761fe2",
   "metadata": {},
   "outputs": [],
   "source": [
    "even = [2*i for i in range(1,11) if i%3 ==0]"
   ]
  },
  {
   "cell_type": "code",
   "execution_count": 127,
   "id": "3eefe381",
   "metadata": {},
   "outputs": [
    {
     "data": {
      "text/plain": [
       "[6, 12, 18]"
      ]
     },
     "execution_count": 127,
     "metadata": {},
     "output_type": "execute_result"
    }
   ],
   "source": [
    "even"
   ]
  },
  {
   "cell_type": "markdown",
   "id": "496cda6f",
   "metadata": {},
   "source": [
    "# Built-in List Functions\n",
    "#### There are some built-in functions in Python that you can use on python lists.\n",
    "1. len()\n",
    "2. max()\n",
    "3. min()\n",
    "4. sum()\n",
    "5. sorted()\n",
    "6. list()\n",
    "7. any()\n",
    "8. all()"
   ]
  },
  {
   "cell_type": "code",
   "execution_count": 128,
   "id": "9a014ec4",
   "metadata": {},
   "outputs": [
    {
     "data": {
      "text/plain": [
       "[6, 12, 18]"
      ]
     },
     "execution_count": 128,
     "metadata": {},
     "output_type": "execute_result"
    }
   ],
   "source": [
    "even"
   ]
  },
  {
   "cell_type": "code",
   "execution_count": 129,
   "id": "7be4d12c",
   "metadata": {},
   "outputs": [],
   "source": [
    "b = [1,2,3,4,5,6,7,8,9,0]"
   ]
  },
  {
   "cell_type": "code",
   "execution_count": 130,
   "id": "3fcb084f",
   "metadata": {},
   "outputs": [
    {
     "data": {
      "text/plain": [
       "[1, 2, 3, 4, 5, 6, 7, 8, 9, 0]"
      ]
     },
     "execution_count": 130,
     "metadata": {},
     "output_type": "execute_result"
    }
   ],
   "source": [
    "b"
   ]
  },
  {
   "cell_type": "code",
   "execution_count": 131,
   "id": "bfa10c5a",
   "metadata": {},
   "outputs": [
    {
     "name": "stdout",
     "output_type": "stream",
     "text": [
      "<class 'list'>\n"
     ]
    }
   ],
   "source": [
    "print(type(b))"
   ]
  },
  {
   "cell_type": "code",
   "execution_count": 132,
   "id": "b7ce4444",
   "metadata": {},
   "outputs": [
    {
     "data": {
      "text/plain": [
       "10"
      ]
     },
     "execution_count": 132,
     "metadata": {},
     "output_type": "execute_result"
    }
   ],
   "source": [
    "len(b)"
   ]
  },
  {
   "cell_type": "code",
   "execution_count": 133,
   "id": "90690d97",
   "metadata": {},
   "outputs": [
    {
     "data": {
      "text/plain": [
       "9"
      ]
     },
     "execution_count": 133,
     "metadata": {},
     "output_type": "execute_result"
    }
   ],
   "source": [
    "max(b)"
   ]
  },
  {
   "cell_type": "code",
   "execution_count": 134,
   "id": "eaf84a3a",
   "metadata": {},
   "outputs": [
    {
     "data": {
      "text/plain": [
       "0"
      ]
     },
     "execution_count": 134,
     "metadata": {},
     "output_type": "execute_result"
    }
   ],
   "source": [
    "min(b)"
   ]
  },
  {
   "cell_type": "code",
   "execution_count": 138,
   "id": "e8c869a1",
   "metadata": {},
   "outputs": [
    {
     "data": {
      "text/plain": [
       "9"
      ]
     },
     "execution_count": 138,
     "metadata": {},
     "output_type": "execute_result"
    }
   ],
   "source": [
    "max(b[:-1])"
   ]
  },
  {
   "cell_type": "code",
   "execution_count": 139,
   "id": "e925cd29",
   "metadata": {},
   "outputs": [
    {
     "data": {
      "text/plain": [
       "[1, 2, 3, 4, 5, 6, 7, 8, 9, 0]"
      ]
     },
     "execution_count": 139,
     "metadata": {},
     "output_type": "execute_result"
    }
   ],
   "source": [
    "b"
   ]
  },
  {
   "cell_type": "code",
   "execution_count": 150,
   "id": "560ec51d",
   "metadata": {},
   "outputs": [
    {
     "name": "stdout",
     "output_type": "stream",
     "text": [
      "1\n",
      "2\n",
      "3\n",
      "4\n",
      "5\n",
      "6\n",
      "7\n",
      "8\n",
      "9\n",
      "10\n"
     ]
    }
   ],
   "source": [
    "count = 0\n",
    "for i in b:\n",
    "    count = count+1\n",
    "    print(count)"
   ]
  },
  {
   "cell_type": "code",
   "execution_count": 151,
   "id": "072ed16c",
   "metadata": {},
   "outputs": [],
   "source": [
    "test_list = [1,4,5,7,8,9]"
   ]
  },
  {
   "cell_type": "code",
   "execution_count": 152,
   "id": "828261e4",
   "metadata": {},
   "outputs": [
    {
     "name": "stdout",
     "output_type": "stream",
     "text": [
      "the list is :[1, 4, 5, 7, 8, 9]\n"
     ]
    }
   ],
   "source": [
    "print(\"the list is :\"+str(test_list))"
   ]
  },
  {
   "cell_type": "code",
   "execution_count": 153,
   "id": "61830c12",
   "metadata": {},
   "outputs": [
    {
     "name": "stdout",
     "output_type": "stream",
     "text": [
      "length of list using naive method is :6\n"
     ]
    }
   ],
   "source": [
    "counter = 0\n",
    "for i in test_list:\n",
    "    counter = counter +1\n",
    "print(\"length of list using naive method is :\" + str(counter))"
   ]
  },
  {
   "cell_type": "code",
   "execution_count": 154,
   "id": "5eb9a00c",
   "metadata": {},
   "outputs": [
    {
     "data": {
      "text/plain": [
       "'3'"
      ]
     },
     "execution_count": 154,
     "metadata": {},
     "output_type": "execute_result"
    }
   ],
   "source": [
    "max(['1','2','3'])"
   ]
  },
  {
   "cell_type": "code",
   "execution_count": 155,
   "id": "6fbfe9c5",
   "metadata": {},
   "outputs": [
    {
     "data": {
      "text/plain": [
       "'1'"
      ]
     },
     "execution_count": 155,
     "metadata": {},
     "output_type": "execute_result"
    }
   ],
   "source": [
    "min(['1','2','3'])"
   ]
  },
  {
   "cell_type": "code",
   "execution_count": 156,
   "id": "30ee6891",
   "metadata": {},
   "outputs": [
    {
     "data": {
      "text/plain": [
       "[1, 4, 5, 7, 8, 9]"
      ]
     },
     "execution_count": 156,
     "metadata": {},
     "output_type": "execute_result"
    }
   ],
   "source": [
    "test_list"
   ]
  },
  {
   "cell_type": "code",
   "execution_count": 158,
   "id": "df2e682f",
   "metadata": {},
   "outputs": [
    {
     "data": {
      "text/plain": [
       "6"
      ]
     },
     "execution_count": 158,
     "metadata": {},
     "output_type": "execute_result"
    }
   ],
   "source": [
    "len(test_list)"
   ]
  },
  {
   "cell_type": "code",
   "execution_count": 159,
   "id": "2942dadb",
   "metadata": {},
   "outputs": [
    {
     "name": "stdout",
     "output_type": "stream",
     "text": [
      "6\n"
     ]
    }
   ],
   "source": [
    "count = 0\n",
    "for i in test_list:\n",
    "    count = count+1\n",
    "print(count)"
   ]
  },
  {
   "cell_type": "code",
   "execution_count": 160,
   "id": "4d360737",
   "metadata": {},
   "outputs": [
    {
     "data": {
      "text/plain": [
       "36"
      ]
     },
     "execution_count": 160,
     "metadata": {},
     "output_type": "execute_result"
    }
   ],
   "source": [
    "sum(even)"
   ]
  },
  {
   "cell_type": "code",
   "execution_count": 161,
   "id": "2181eccd",
   "metadata": {},
   "outputs": [],
   "source": [
    "a = [3,1,2]"
   ]
  },
  {
   "cell_type": "code",
   "execution_count": 162,
   "id": "aa0dee58",
   "metadata": {},
   "outputs": [
    {
     "data": {
      "text/plain": [
       "[1, 2, 3]"
      ]
     },
     "execution_count": 162,
     "metadata": {},
     "output_type": "execute_result"
    }
   ],
   "source": [
    "sorted(a) # it returns a sorted version of the list"
   ]
  },
  {
   "cell_type": "code",
   "execution_count": 163,
   "id": "29f7fe21",
   "metadata": {},
   "outputs": [
    {
     "data": {
      "text/plain": [
       "[3, 1, 2]"
      ]
     },
     "execution_count": 163,
     "metadata": {},
     "output_type": "execute_result"
    }
   ],
   "source": [
    "a"
   ]
  },
  {
   "cell_type": "code",
   "execution_count": 164,
   "id": "fca36170",
   "metadata": {},
   "outputs": [
    {
     "data": {
      "text/plain": [
       "['hell', 'hello', 'hellomiami']"
      ]
     },
     "execution_count": 164,
     "metadata": {},
     "output_type": "execute_result"
    }
   ],
   "source": [
    "sorted(['hello','hell','hellomiami'])"
   ]
  },
  {
   "cell_type": "code",
   "execution_count": 165,
   "id": "12b732ba",
   "metadata": {},
   "outputs": [
    {
     "data": {
      "text/plain": [
       "['a', 'b', 'c']"
      ]
     },
     "execution_count": 165,
     "metadata": {},
     "output_type": "execute_result"
    }
   ],
   "source": [
    "list('abc') # it converts a different data types into list"
   ]
  },
  {
   "cell_type": "markdown",
   "id": "955720f6",
   "metadata": {},
   "source": [
    "# Built-in Methods\n",
    "#### While a function is what you can apply on a construct and get a result, a method is what you can do to it and change it. To call a method on a construct, you use the dot-operator(.). Python supports some built-in methods to alter a Python list.\n",
    "1. append()\n",
    "2. insert()\n",
    "3. remove()\n",
    "4. pop()\n",
    "5. clear()\n",
    "6. index()\n",
    "7. count()\n",
    "8. sort()\n",
    "9. reverse()"
   ]
  },
  {
   "cell_type": "code",
   "execution_count": 167,
   "id": "b76b7de1",
   "metadata": {},
   "outputs": [],
   "source": [
    "mylist = []"
   ]
  },
  {
   "cell_type": "code",
   "execution_count": 168,
   "id": "91376d3d",
   "metadata": {},
   "outputs": [
    {
     "data": {
      "text/plain": [
       "[]"
      ]
     },
     "execution_count": 168,
     "metadata": {},
     "output_type": "execute_result"
    }
   ],
   "source": [
    "mylist"
   ]
  },
  {
   "cell_type": "code",
   "execution_count": 169,
   "id": "b6e71857",
   "metadata": {},
   "outputs": [],
   "source": [
    "mylist.append(2)"
   ]
  },
  {
   "cell_type": "code",
   "execution_count": 170,
   "id": "9bebd42d",
   "metadata": {},
   "outputs": [
    {
     "data": {
      "text/plain": [
       "[2]"
      ]
     },
     "execution_count": 170,
     "metadata": {},
     "output_type": "execute_result"
    }
   ],
   "source": [
    "mylist"
   ]
  },
  {
   "cell_type": "code",
   "execution_count": 171,
   "id": "acd13421",
   "metadata": {},
   "outputs": [],
   "source": [
    "mylist.append(6) # it adds an item to the end of the list"
   ]
  },
  {
   "cell_type": "code",
   "execution_count": 172,
   "id": "64678d60",
   "metadata": {},
   "outputs": [
    {
     "data": {
      "text/plain": [
       "[2, 6]"
      ]
     },
     "execution_count": 172,
     "metadata": {},
     "output_type": "execute_result"
    }
   ],
   "source": [
    "mylist"
   ]
  },
  {
   "cell_type": "code",
   "execution_count": 173,
   "id": "5a1569bb",
   "metadata": {},
   "outputs": [],
   "source": [
    "mylist.append(5)"
   ]
  },
  {
   "cell_type": "code",
   "execution_count": 174,
   "id": "9550af46",
   "metadata": {},
   "outputs": [],
   "source": [
    "mylist.append('kannur')"
   ]
  },
  {
   "cell_type": "code",
   "execution_count": 175,
   "id": "10958898",
   "metadata": {},
   "outputs": [
    {
     "data": {
      "text/plain": [
       "[2, 6, 5, 'kannur']"
      ]
     },
     "execution_count": 175,
     "metadata": {},
     "output_type": "execute_result"
    }
   ],
   "source": [
    "mylist"
   ]
  },
  {
   "cell_type": "code",
   "execution_count": 176,
   "id": "6501f0b0",
   "metadata": {},
   "outputs": [],
   "source": [
    "mylist.append('manjunath')"
   ]
  },
  {
   "cell_type": "code",
   "execution_count": 177,
   "id": "eb5664a6",
   "metadata": {},
   "outputs": [],
   "source": [
    "mylist.append(\"siddappa\")"
   ]
  },
  {
   "cell_type": "code",
   "execution_count": 178,
   "id": "2b8925f9",
   "metadata": {},
   "outputs": [
    {
     "data": {
      "text/plain": [
       "[2, 6, 5, 'kannur', 'manjunath', 'siddappa']"
      ]
     },
     "execution_count": 178,
     "metadata": {},
     "output_type": "execute_result"
    }
   ],
   "source": [
    "mylist"
   ]
  },
  {
   "cell_type": "code",
   "execution_count": 179,
   "id": "04dfbb47",
   "metadata": {},
   "outputs": [],
   "source": [
    "mylist.insert(3,7)"
   ]
  },
  {
   "cell_type": "code",
   "execution_count": 180,
   "id": "08bfb811",
   "metadata": {},
   "outputs": [
    {
     "data": {
      "text/plain": [
       "[2, 6, 5, 7, 'kannur', 'manjunath', 'siddappa']"
      ]
     },
     "execution_count": 180,
     "metadata": {},
     "output_type": "execute_result"
    }
   ],
   "source": [
    "mylist"
   ]
  },
  {
   "cell_type": "code",
   "execution_count": 184,
   "id": "516a9434",
   "metadata": {},
   "outputs": [
    {
     "ename": "ValueError",
     "evalue": "invalid literal for int() with base 10: 'kannur'",
     "output_type": "error",
     "traceback": [
      "\u001b[1;31m---------------------------------------------------------------------------\u001b[0m",
      "\u001b[1;31mValueError\u001b[0m                                Traceback (most recent call last)",
      "\u001b[1;32m<ipython-input-184-7c72841cb173>\u001b[0m in \u001b[0;36m<module>\u001b[1;34m\u001b[0m\n\u001b[1;32m----> 1\u001b[1;33m \u001b[0mmylist\u001b[0m\u001b[1;33m.\u001b[0m\u001b[0msort\u001b[0m\u001b[1;33m(\u001b[0m\u001b[0mkey\u001b[0m\u001b[1;33m=\u001b[0m\u001b[0mint\u001b[0m\u001b[1;33m)\u001b[0m\u001b[1;33m\u001b[0m\u001b[1;33m\u001b[0m\u001b[0m\n\u001b[0m",
      "\u001b[1;31mValueError\u001b[0m: invalid literal for int() with base 10: 'kannur'"
     ]
    }
   ],
   "source": [
    "mylist.sort(key=int)"
   ]
  },
  {
   "cell_type": "code",
   "execution_count": 185,
   "id": "f5f34715",
   "metadata": {},
   "outputs": [],
   "source": [
    "mylist = [1,2,3,4,'1','5','6','7','8','9']"
   ]
  },
  {
   "cell_type": "code",
   "execution_count": 186,
   "id": "9761d916",
   "metadata": {},
   "outputs": [
    {
     "data": {
      "text/plain": [
       "[1, 2, 3, 4, '1', '5', '6', '7', '8', '9']"
      ]
     },
     "execution_count": 186,
     "metadata": {},
     "output_type": "execute_result"
    }
   ],
   "source": [
    "mylist"
   ]
  },
  {
   "cell_type": "code",
   "execution_count": 187,
   "id": "a1bc8344",
   "metadata": {},
   "outputs": [],
   "source": [
    "res = mylist.sort(key=int)"
   ]
  },
  {
   "cell_type": "code",
   "execution_count": 188,
   "id": "d03edf51",
   "metadata": {},
   "outputs": [],
   "source": [
    "res"
   ]
  },
  {
   "cell_type": "code",
   "execution_count": 189,
   "id": "dc08528c",
   "metadata": {},
   "outputs": [
    {
     "data": {
      "text/plain": [
       "[1, '1', 2, 3, 4, '5', '6', '7', '8', '9']"
      ]
     },
     "execution_count": 189,
     "metadata": {},
     "output_type": "execute_result"
    }
   ],
   "source": [
    "mylist"
   ]
  },
  {
   "cell_type": "code",
   "execution_count": 190,
   "id": "aaa8acd8",
   "metadata": {},
   "outputs": [],
   "source": [
    "a = [2,1,3,5,2,4]"
   ]
  },
  {
   "cell_type": "code",
   "execution_count": 191,
   "id": "de551165",
   "metadata": {},
   "outputs": [],
   "source": [
    "a.remove(2)"
   ]
  },
  {
   "cell_type": "code",
   "execution_count": 192,
   "id": "68413e53",
   "metadata": {},
   "outputs": [
    {
     "data": {
      "text/plain": [
       "[1, 3, 5, 2, 4]"
      ]
     },
     "execution_count": 192,
     "metadata": {},
     "output_type": "execute_result"
    }
   ],
   "source": [
    "a"
   ]
  },
  {
   "cell_type": "code",
   "execution_count": 194,
   "id": "f65a79b6",
   "metadata": {},
   "outputs": [
    {
     "data": {
      "text/plain": [
       "2"
      ]
     },
     "execution_count": 194,
     "metadata": {},
     "output_type": "execute_result"
    }
   ],
   "source": [
    "a.pop(3)"
   ]
  },
  {
   "cell_type": "code",
   "execution_count": 195,
   "id": "ec9b05dc",
   "metadata": {},
   "outputs": [
    {
     "data": {
      "text/plain": [
       "[1, 3, 5, 4]"
      ]
     },
     "execution_count": 195,
     "metadata": {},
     "output_type": "execute_result"
    }
   ],
   "source": [
    "a"
   ]
  },
  {
   "cell_type": "code",
   "execution_count": 196,
   "id": "81bac161",
   "metadata": {},
   "outputs": [],
   "source": [
    "a.clear()"
   ]
  },
  {
   "cell_type": "code",
   "execution_count": 197,
   "id": "fcc1a4fb",
   "metadata": {},
   "outputs": [
    {
     "data": {
      "text/plain": [
       "[]"
      ]
     },
     "execution_count": 197,
     "metadata": {},
     "output_type": "execute_result"
    }
   ],
   "source": [
    "a"
   ]
  },
  {
   "cell_type": "code",
   "execution_count": 198,
   "id": "6a42b588",
   "metadata": {},
   "outputs": [
    {
     "data": {
      "text/plain": [
       "False"
      ]
     },
     "execution_count": 198,
     "metadata": {},
     "output_type": "execute_result"
    }
   ],
   "source": [
    "bool(a)"
   ]
  },
  {
   "cell_type": "code",
   "execution_count": 199,
   "id": "229c150c",
   "metadata": {},
   "outputs": [],
   "source": [
    "# index"
   ]
  },
  {
   "cell_type": "code",
   "execution_count": 200,
   "id": "88c6ec32",
   "metadata": {},
   "outputs": [],
   "source": [
    "a=[1,5,6,7,8,9]"
   ]
  },
  {
   "cell_type": "code",
   "execution_count": 203,
   "id": "9995a48a",
   "metadata": {},
   "outputs": [
    {
     "data": {
      "text/plain": [
       "4"
      ]
     },
     "execution_count": 203,
     "metadata": {},
     "output_type": "execute_result"
    }
   ],
   "source": [
    "a.index(8)"
   ]
  },
  {
   "cell_type": "code",
   "execution_count": 204,
   "id": "fb98d23c",
   "metadata": {},
   "outputs": [
    {
     "data": {
      "text/plain": [
       "5"
      ]
     },
     "execution_count": 204,
     "metadata": {},
     "output_type": "execute_result"
    }
   ],
   "source": [
    "a.index(9)"
   ]
  },
  {
   "cell_type": "code",
   "execution_count": 205,
   "id": "5b53b278",
   "metadata": {},
   "outputs": [
    {
     "data": {
      "text/plain": [
       "1"
      ]
     },
     "execution_count": 205,
     "metadata": {},
     "output_type": "execute_result"
    }
   ],
   "source": [
    "a.count(5)"
   ]
  },
  {
   "cell_type": "code",
   "execution_count": 206,
   "id": "e3bd081c",
   "metadata": {},
   "outputs": [],
   "source": [
    "mylist = [1,2,3,4,5,6,7,8,9,0,1,2,3,4,5,6,7,8,9,0,4,5,6,9,8,8,5,4,7,9,5]"
   ]
  },
  {
   "cell_type": "code",
   "execution_count": 207,
   "id": "c26d3890",
   "metadata": {},
   "outputs": [
    {
     "data": {
      "text/plain": [
       "[1,\n",
       " 2,\n",
       " 3,\n",
       " 4,\n",
       " 5,\n",
       " 6,\n",
       " 7,\n",
       " 8,\n",
       " 9,\n",
       " 0,\n",
       " 1,\n",
       " 2,\n",
       " 3,\n",
       " 4,\n",
       " 5,\n",
       " 6,\n",
       " 7,\n",
       " 8,\n",
       " 9,\n",
       " 0,\n",
       " 4,\n",
       " 5,\n",
       " 6,\n",
       " 9,\n",
       " 8,\n",
       " 8,\n",
       " 5,\n",
       " 4,\n",
       " 7,\n",
       " 9,\n",
       " 5]"
      ]
     },
     "execution_count": 207,
     "metadata": {},
     "output_type": "execute_result"
    }
   ],
   "source": [
    "mylist"
   ]
  },
  {
   "cell_type": "code",
   "execution_count": 208,
   "id": "1ccc289b",
   "metadata": {},
   "outputs": [
    {
     "data": {
      "text/plain": [
       "4"
      ]
     },
     "execution_count": 208,
     "metadata": {},
     "output_type": "execute_result"
    }
   ],
   "source": [
    "mylist.index(5)"
   ]
  },
  {
   "cell_type": "code",
   "execution_count": 209,
   "id": "1bbbf406",
   "metadata": {},
   "outputs": [
    {
     "data": {
      "text/plain": [
       "4"
      ]
     },
     "execution_count": 209,
     "metadata": {},
     "output_type": "execute_result"
    }
   ],
   "source": [
    "mylist.count(8)"
   ]
  },
  {
   "cell_type": "code",
   "execution_count": 211,
   "id": "5d9b4b9f",
   "metadata": {},
   "outputs": [
    {
     "name": "stdout",
     "output_type": "stream",
     "text": [
      "[1, 2, 3, 4, 5, 6, 7, 8, 9, 0, 1, 2, 3, 4, 5, 6, 7, 8, 9, 0, 4, 5, 6, 9, 8, 8, 5, 4, 7, 9, 5]\n"
     ]
    }
   ],
   "source": [
    "new = []\n",
    "for i in mylist:\n",
    "    new.append(i)\n",
    "    new.count(8)\n",
    "print(new)"
   ]
  },
  {
   "cell_type": "code",
   "execution_count": 212,
   "id": "3dbc436e",
   "metadata": {},
   "outputs": [
    {
     "data": {
      "text/plain": [
       "[1,\n",
       " 2,\n",
       " 3,\n",
       " 4,\n",
       " 5,\n",
       " 6,\n",
       " 7,\n",
       " 8,\n",
       " 9,\n",
       " 0,\n",
       " 1,\n",
       " 2,\n",
       " 3,\n",
       " 4,\n",
       " 5,\n",
       " 6,\n",
       " 7,\n",
       " 8,\n",
       " 9,\n",
       " 0,\n",
       " 4,\n",
       " 5,\n",
       " 6,\n",
       " 9,\n",
       " 8,\n",
       " 8,\n",
       " 5,\n",
       " 4,\n",
       " 7,\n",
       " 9,\n",
       " 5]"
      ]
     },
     "execution_count": 212,
     "metadata": {},
     "output_type": "execute_result"
    }
   ],
   "source": [
    "new"
   ]
  },
  {
   "cell_type": "code",
   "execution_count": 213,
   "id": "4c80c4b3",
   "metadata": {},
   "outputs": [
    {
     "data": {
      "text/plain": [
       "4"
      ]
     },
     "execution_count": 213,
     "metadata": {},
     "output_type": "execute_result"
    }
   ],
   "source": [
    "new.count(8)"
   ]
  },
  {
   "cell_type": "code",
   "execution_count": 214,
   "id": "3d16d97c",
   "metadata": {},
   "outputs": [],
   "source": [
    "new.sort()"
   ]
  },
  {
   "cell_type": "code",
   "execution_count": 215,
   "id": "3c140c7b",
   "metadata": {},
   "outputs": [
    {
     "data": {
      "text/plain": [
       "[0,\n",
       " 0,\n",
       " 1,\n",
       " 1,\n",
       " 2,\n",
       " 2,\n",
       " 3,\n",
       " 3,\n",
       " 4,\n",
       " 4,\n",
       " 4,\n",
       " 4,\n",
       " 5,\n",
       " 5,\n",
       " 5,\n",
       " 5,\n",
       " 5,\n",
       " 6,\n",
       " 6,\n",
       " 6,\n",
       " 7,\n",
       " 7,\n",
       " 7,\n",
       " 8,\n",
       " 8,\n",
       " 8,\n",
       " 8,\n",
       " 9,\n",
       " 9,\n",
       " 9,\n",
       " 9]"
      ]
     },
     "execution_count": 215,
     "metadata": {},
     "output_type": "execute_result"
    }
   ],
   "source": [
    "new"
   ]
  },
  {
   "cell_type": "code",
   "execution_count": 216,
   "id": "979ce733",
   "metadata": {},
   "outputs": [],
   "source": [
    "new.reverse()"
   ]
  },
  {
   "cell_type": "code",
   "execution_count": 217,
   "id": "39a07a07",
   "metadata": {},
   "outputs": [
    {
     "data": {
      "text/plain": [
       "[9,\n",
       " 9,\n",
       " 9,\n",
       " 9,\n",
       " 8,\n",
       " 8,\n",
       " 8,\n",
       " 8,\n",
       " 7,\n",
       " 7,\n",
       " 7,\n",
       " 6,\n",
       " 6,\n",
       " 6,\n",
       " 5,\n",
       " 5,\n",
       " 5,\n",
       " 5,\n",
       " 5,\n",
       " 4,\n",
       " 4,\n",
       " 4,\n",
       " 4,\n",
       " 3,\n",
       " 3,\n",
       " 2,\n",
       " 2,\n",
       " 1,\n",
       " 1,\n",
       " 0,\n",
       " 0]"
      ]
     },
     "execution_count": 217,
     "metadata": {},
     "output_type": "execute_result"
    }
   ],
   "source": [
    "new"
   ]
  },
  {
   "cell_type": "markdown",
   "id": "d0d2270a",
   "metadata": {},
   "source": [
    "# python tuple\n",
    "1. creating tuple\n",
    "2. accessing a tuple\n",
    "3. slicing a tuple\n",
    "4. deleting a tuple\n",
    "5. reassigning a tuple\n",
    "6. functions on tuples\n",
    "7. method on tuples\n",
    "8. operations on tuples\n",
    "9. iterating on tuple\n",
    "10. nested tuples"
   ]
  },
  {
   "cell_type": "markdown",
   "id": "b21a2586",
   "metadata": {},
   "source": [
    "# Python Tuples are like a list. It can hold a sequence of items. The difference is that it is immutable. Let’s learn the syntax to create a tuple in Python"
   ]
  },
  {
   "cell_type": "code",
   "execution_count": 218,
   "id": "b737620d",
   "metadata": {},
   "outputs": [],
   "source": [
    "mytuple = (90,95,89)"
   ]
  },
  {
   "cell_type": "code",
   "execution_count": 219,
   "id": "5f4ea834",
   "metadata": {},
   "outputs": [
    {
     "data": {
      "text/plain": [
       "(90, 95, 89)"
      ]
     },
     "execution_count": 219,
     "metadata": {},
     "output_type": "execute_result"
    }
   ],
   "source": [
    "mytuple"
   ]
  },
  {
   "cell_type": "markdown",
   "id": "e0441625",
   "metadata": {},
   "source": [
    "### 1. Python Tuples Packing\n",
    "You can also create a Python tuple without parentheses. This is called tuple packing."
   ]
  },
  {
   "cell_type": "code",
   "execution_count": 220,
   "id": "dc2efb98",
   "metadata": {},
   "outputs": [],
   "source": [
    "b = 1,2.0,'three'"
   ]
  },
  {
   "cell_type": "markdown",
   "id": "5b3bd20a",
   "metadata": {},
   "source": [
    "### 2. Python Tuples Unpacking\n",
    "Python tuple unpacking is when you assign values from a tuple to a sequence of variables in python."
   ]
  },
  {
   "cell_type": "code",
   "execution_count": 221,
   "id": "e3116ed7",
   "metadata": {},
   "outputs": [
    {
     "data": {
      "text/plain": [
       "(90, 95, 89)"
      ]
     },
     "execution_count": 221,
     "metadata": {},
     "output_type": "execute_result"
    }
   ],
   "source": [
    "mytuple "
   ]
  },
  {
   "cell_type": "code",
   "execution_count": 222,
   "id": "f70a6995",
   "metadata": {},
   "outputs": [],
   "source": [
    "a,b,c = mytuple"
   ]
  },
  {
   "cell_type": "code",
   "execution_count": 223,
   "id": "d2696467",
   "metadata": {},
   "outputs": [
    {
     "data": {
      "text/plain": [
       "90"
      ]
     },
     "execution_count": 223,
     "metadata": {},
     "output_type": "execute_result"
    }
   ],
   "source": [
    "a"
   ]
  },
  {
   "cell_type": "code",
   "execution_count": 224,
   "id": "b50a6951",
   "metadata": {},
   "outputs": [
    {
     "data": {
      "text/plain": [
       "95"
      ]
     },
     "execution_count": 224,
     "metadata": {},
     "output_type": "execute_result"
    }
   ],
   "source": [
    "b"
   ]
  },
  {
   "cell_type": "code",
   "execution_count": 225,
   "id": "bdf53d4f",
   "metadata": {},
   "outputs": [
    {
     "data": {
      "text/plain": [
       "89"
      ]
     },
     "execution_count": 225,
     "metadata": {},
     "output_type": "execute_result"
    }
   ],
   "source": [
    "c"
   ]
  },
  {
   "cell_type": "markdown",
   "id": "5f583ffc",
   "metadata": {},
   "source": [
    "<!-- 3. Creating a tuple with a single item\n",
    "Until now, we have seen how easy it is to declare a Python tuple. But when you do so with just one element, it may create some problems. Let’s take a look at it. -->"
   ]
  },
  {
   "cell_type": "code",
   "execution_count": 226,
   "id": "c35fd001",
   "metadata": {},
   "outputs": [],
   "source": [
    "# 3. Creating a tuple with a single item\n",
    "# Until now, we have seen how easy it is to declare a Python tuple. But when you do so with just one element, it may create some problems. Let’s take a look at it."
   ]
  },
  {
   "cell_type": "code",
   "execution_count": 227,
   "id": "268426f4",
   "metadata": {},
   "outputs": [],
   "source": [
    "a = 1"
   ]
  },
  {
   "cell_type": "code",
   "execution_count": 228,
   "id": "3cb3c0b2",
   "metadata": {},
   "outputs": [
    {
     "name": "stdout",
     "output_type": "stream",
     "text": [
      "<class 'int'>\n"
     ]
    }
   ],
   "source": [
    "print(type(a))"
   ]
  },
  {
   "cell_type": "code",
   "execution_count": 229,
   "id": "b34f7c65",
   "metadata": {},
   "outputs": [],
   "source": [
    "a =(1)"
   ]
  },
  {
   "cell_type": "code",
   "execution_count": 230,
   "id": "1dcd5d76",
   "metadata": {},
   "outputs": [
    {
     "name": "stdout",
     "output_type": "stream",
     "text": [
      "<class 'int'>\n"
     ]
    }
   ],
   "source": [
    "print(type(a))"
   ]
  },
  {
   "cell_type": "code",
   "execution_count": 231,
   "id": "50c833ba",
   "metadata": {},
   "outputs": [],
   "source": [
    "a=(1,)"
   ]
  },
  {
   "cell_type": "code",
   "execution_count": 232,
   "id": "e9e161f9",
   "metadata": {},
   "outputs": [
    {
     "name": "stdout",
     "output_type": "stream",
     "text": [
      "<class 'tuple'>\n"
     ]
    }
   ],
   "source": [
    "print(type(a))"
   ]
  },
  {
   "cell_type": "code",
   "execution_count": 233,
   "id": "f2b41780",
   "metadata": {},
   "outputs": [
    {
     "name": "stdout",
     "output_type": "stream",
     "text": [
      "<class 'tuple'>\n"
     ]
    }
   ],
   "source": [
    "a= 1,\n",
    "print(type(a))"
   ]
  },
  {
   "cell_type": "code",
   "execution_count": 234,
   "id": "2f37727b",
   "metadata": {},
   "outputs": [
    {
     "data": {
      "text/plain": [
       "(90, 95, 89)"
      ]
     },
     "execution_count": 234,
     "metadata": {},
     "output_type": "execute_result"
    }
   ],
   "source": [
    "mytuple"
   ]
  },
  {
   "cell_type": "code",
   "execution_count": 235,
   "id": "434409da",
   "metadata": {},
   "outputs": [
    {
     "data": {
      "text/plain": [
       "90"
      ]
     },
     "execution_count": 235,
     "metadata": {},
     "output_type": "execute_result"
    }
   ],
   "source": [
    "mytuple[0]"
   ]
  },
  {
   "cell_type": "code",
   "execution_count": 236,
   "id": "8176cf17",
   "metadata": {},
   "outputs": [
    {
     "ename": "IndexError",
     "evalue": "tuple index out of range",
     "output_type": "error",
     "traceback": [
      "\u001b[1;31m---------------------------------------------------------------------------\u001b[0m",
      "\u001b[1;31mIndexError\u001b[0m                                Traceback (most recent call last)",
      "\u001b[1;32m<ipython-input-236-8ce59f704f7e>\u001b[0m in \u001b[0;36m<module>\u001b[1;34m\u001b[0m\n\u001b[1;32m----> 1\u001b[1;33m \u001b[0mmytuple\u001b[0m\u001b[1;33m[\u001b[0m\u001b[1;36m3\u001b[0m\u001b[1;33m]\u001b[0m\u001b[1;33m\u001b[0m\u001b[1;33m\u001b[0m\u001b[0m\n\u001b[0m",
      "\u001b[1;31mIndexError\u001b[0m: tuple index out of range"
     ]
    }
   ],
   "source": [
    "mytuple[3]"
   ]
  },
  {
   "cell_type": "code",
   "execution_count": 237,
   "id": "948b4058",
   "metadata": {},
   "outputs": [
    {
     "data": {
      "text/plain": [
       "(90, 95, 89)"
      ]
     },
     "execution_count": 237,
     "metadata": {},
     "output_type": "execute_result"
    }
   ],
   "source": [
    "mytuple"
   ]
  },
  {
   "cell_type": "code",
   "execution_count": 238,
   "id": "c570725b",
   "metadata": {},
   "outputs": [],
   "source": [
    "percentages=(99,95,90,89,93,96)"
   ]
  },
  {
   "cell_type": "code",
   "execution_count": 239,
   "id": "fa1355c9",
   "metadata": {},
   "outputs": [
    {
     "data": {
      "text/plain": [
       "(99, 95, 90, 89, 93, 96)"
      ]
     },
     "execution_count": 239,
     "metadata": {},
     "output_type": "execute_result"
    }
   ],
   "source": [
    "percentages"
   ]
  },
  {
   "cell_type": "code",
   "execution_count": 241,
   "id": "f96867d9",
   "metadata": {},
   "outputs": [
    {
     "data": {
      "text/plain": [
       "(90, 89)"
      ]
     },
     "execution_count": 241,
     "metadata": {},
     "output_type": "execute_result"
    }
   ],
   "source": [
    "percentages[2:4]"
   ]
  },
  {
   "cell_type": "code",
   "execution_count": 242,
   "id": "9438e6fe",
   "metadata": {},
   "outputs": [
    {
     "data": {
      "text/plain": [
       "(99, 95, 90, 89)"
      ]
     },
     "execution_count": 242,
     "metadata": {},
     "output_type": "execute_result"
    }
   ],
   "source": [
    "percentages[:4]"
   ]
  },
  {
   "cell_type": "code",
   "execution_count": 245,
   "id": "6a5dc006",
   "metadata": {},
   "outputs": [
    {
     "data": {
      "text/plain": [
       "(93, 96)"
      ]
     },
     "execution_count": 245,
     "metadata": {},
     "output_type": "execute_result"
    }
   ],
   "source": [
    "percentages[4:]"
   ]
  },
  {
   "cell_type": "code",
   "execution_count": 246,
   "id": "5d2073c3",
   "metadata": {},
   "outputs": [
    {
     "data": {
      "text/plain": [
       "()"
      ]
     },
     "execution_count": 246,
     "metadata": {},
     "output_type": "execute_result"
    }
   ],
   "source": [
    "percentages[2:2]"
   ]
  },
  {
   "cell_type": "code",
   "execution_count": 247,
   "id": "ed07ba70",
   "metadata": {},
   "outputs": [
    {
     "data": {
      "text/plain": [
       "(93, 96)"
      ]
     },
     "execution_count": 247,
     "metadata": {},
     "output_type": "execute_result"
    }
   ],
   "source": [
    "percentages[-2:]"
   ]
  },
  {
   "cell_type": "code",
   "execution_count": 248,
   "id": "5c7bf6be",
   "metadata": {},
   "outputs": [
    {
     "data": {
      "text/plain": [
       "(99, 95, 90, 89, 93, 96)"
      ]
     },
     "execution_count": 248,
     "metadata": {},
     "output_type": "execute_result"
    }
   ],
   "source": [
    "percentages[:]"
   ]
  },
  {
   "cell_type": "markdown",
   "id": "0c5cb7ea",
   "metadata": {},
   "source": [
    "# Deleting a Python Tuple\n",
    "As we discussed above, a Python tuple is immutable. This also means that you can’t delete just a part of it. You must delete an entire tuple, if you may."
   ]
  },
  {
   "cell_type": "code",
   "execution_count": 249,
   "id": "11f08643",
   "metadata": {},
   "outputs": [],
   "source": [
    "del percentages"
   ]
  },
  {
   "cell_type": "code",
   "execution_count": 250,
   "id": "b6544172",
   "metadata": {},
   "outputs": [
    {
     "ename": "NameError",
     "evalue": "name 'percentages' is not defined",
     "output_type": "error",
     "traceback": [
      "\u001b[1;31m---------------------------------------------------------------------------\u001b[0m",
      "\u001b[1;31mNameError\u001b[0m                                 Traceback (most recent call last)",
      "\u001b[1;32m<ipython-input-250-bfad06697c2e>\u001b[0m in \u001b[0;36m<module>\u001b[1;34m\u001b[0m\n\u001b[1;32m----> 1\u001b[1;33m \u001b[0mpercentages\u001b[0m\u001b[1;33m\u001b[0m\u001b[1;33m\u001b[0m\u001b[0m\n\u001b[0m",
      "\u001b[1;31mNameError\u001b[0m: name 'percentages' is not defined"
     ]
    }
   ],
   "source": [
    "percentages"
   ]
  },
  {
   "cell_type": "code",
   "execution_count": 251,
   "id": "8ff0bacb",
   "metadata": {},
   "outputs": [],
   "source": [
    "my_tuple = (1,2,3,[4,5])"
   ]
  },
  {
   "cell_type": "code",
   "execution_count": 252,
   "id": "d4f0f969",
   "metadata": {},
   "outputs": [
    {
     "data": {
      "text/plain": [
       "(1, 2, 3, [4, 5])"
      ]
     },
     "execution_count": 252,
     "metadata": {},
     "output_type": "execute_result"
    }
   ],
   "source": [
    "my_tuple"
   ]
  },
  {
   "cell_type": "code",
   "execution_count": 253,
   "id": "a96b2820",
   "metadata": {},
   "outputs": [
    {
     "ename": "TypeError",
     "evalue": "'tuple' object does not support item assignment",
     "output_type": "error",
     "traceback": [
      "\u001b[1;31m---------------------------------------------------------------------------\u001b[0m",
      "\u001b[1;31mTypeError\u001b[0m                                 Traceback (most recent call last)",
      "\u001b[1;32m<ipython-input-253-2eca477e5844>\u001b[0m in \u001b[0;36m<module>\u001b[1;34m\u001b[0m\n\u001b[1;32m----> 1\u001b[1;33m \u001b[0mmy_tuple\u001b[0m\u001b[1;33m[\u001b[0m\u001b[1;36m3\u001b[0m\u001b[1;33m]\u001b[0m\u001b[1;33m=\u001b[0m\u001b[1;36m6\u001b[0m\u001b[1;33m\u001b[0m\u001b[1;33m\u001b[0m\u001b[0m\n\u001b[0m",
      "\u001b[1;31mTypeError\u001b[0m: 'tuple' object does not support item assignment"
     ]
    }
   ],
   "source": [
    "my_tuple[3]=6"
   ]
  },
  {
   "cell_type": "code",
   "execution_count": 254,
   "id": "3535669a",
   "metadata": {},
   "outputs": [],
   "source": [
    "my_tuple[3][0]=6"
   ]
  },
  {
   "cell_type": "code",
   "execution_count": 255,
   "id": "6e851e8f",
   "metadata": {},
   "outputs": [
    {
     "data": {
      "text/plain": [
       "(1, 2, 3, [6, 5])"
      ]
     },
     "execution_count": 255,
     "metadata": {},
     "output_type": "execute_result"
    }
   ],
   "source": [
    "my_tuple"
   ]
  },
  {
   "cell_type": "code",
   "execution_count": 257,
   "id": "817bdb36",
   "metadata": {},
   "outputs": [],
   "source": [
    "my_tuple[3][1]=7"
   ]
  },
  {
   "cell_type": "code",
   "execution_count": 258,
   "id": "1500480d",
   "metadata": {},
   "outputs": [
    {
     "data": {
      "text/plain": [
       "(1, 2, 3, [6, 7])"
      ]
     },
     "execution_count": 258,
     "metadata": {},
     "output_type": "execute_result"
    }
   ],
   "source": [
    "my_tuple"
   ]
  },
  {
   "cell_type": "code",
   "execution_count": 259,
   "id": "1a292ce4",
   "metadata": {},
   "outputs": [],
   "source": [
    "new = (2,3,4,5,8,9,[10,20,30,40,50,60,70,80,90,0],[11,22,33,44,55,66])"
   ]
  },
  {
   "cell_type": "code",
   "execution_count": 260,
   "id": "1fb11646",
   "metadata": {},
   "outputs": [
    {
     "data": {
      "text/plain": [
       "(2,\n",
       " 3,\n",
       " 4,\n",
       " 5,\n",
       " 8,\n",
       " 9,\n",
       " [10, 20, 30, 40, 50, 60, 70, 80, 90, 0],\n",
       " [11, 22, 33, 44, 55, 66])"
      ]
     },
     "execution_count": 260,
     "metadata": {},
     "output_type": "execute_result"
    }
   ],
   "source": [
    "new"
   ]
  },
  {
   "cell_type": "code",
   "execution_count": 261,
   "id": "94027279",
   "metadata": {},
   "outputs": [
    {
     "ename": "TypeError",
     "evalue": "'tuple' object does not support item assignment",
     "output_type": "error",
     "traceback": [
      "\u001b[1;31m---------------------------------------------------------------------------\u001b[0m",
      "\u001b[1;31mTypeError\u001b[0m                                 Traceback (most recent call last)",
      "\u001b[1;32m<ipython-input-261-2fd14c88b261>\u001b[0m in \u001b[0;36m<module>\u001b[1;34m\u001b[0m\n\u001b[1;32m----> 1\u001b[1;33m \u001b[0mnew\u001b[0m\u001b[1;33m[\u001b[0m\u001b[1;36m0\u001b[0m\u001b[1;33m]\u001b[0m\u001b[1;33m=\u001b[0m\u001b[1;36m5\u001b[0m\u001b[1;33m\u001b[0m\u001b[1;33m\u001b[0m\u001b[0m\n\u001b[0m",
      "\u001b[1;31mTypeError\u001b[0m: 'tuple' object does not support item assignment"
     ]
    }
   ],
   "source": [
    "new[0]=5"
   ]
  },
  {
   "cell_type": "code",
   "execution_count": 262,
   "id": "cca9d13a",
   "metadata": {},
   "outputs": [],
   "source": [
    "new[6][9]=100"
   ]
  },
  {
   "cell_type": "code",
   "execution_count": 263,
   "id": "d11763fa",
   "metadata": {},
   "outputs": [
    {
     "data": {
      "text/plain": [
       "(2,\n",
       " 3,\n",
       " 4,\n",
       " 5,\n",
       " 8,\n",
       " 9,\n",
       " [10, 20, 30, 40, 50, 60, 70, 80, 90, 100],\n",
       " [11, 22, 33, 44, 55, 66])"
      ]
     },
     "execution_count": 263,
     "metadata": {},
     "output_type": "execute_result"
    }
   ],
   "source": [
    "new"
   ]
  },
  {
   "cell_type": "code",
   "execution_count": 264,
   "id": "d31ffdcf",
   "metadata": {},
   "outputs": [
    {
     "data": {
      "text/plain": [
       "(2,\n",
       " 3,\n",
       " 4,\n",
       " 5,\n",
       " 8,\n",
       " 9,\n",
       " [10, 20, 30, 40, 50, 60, 70, 80, 90, 100],\n",
       " [11, 22, 33, 44, 55, 66])"
      ]
     },
     "execution_count": 264,
     "metadata": {},
     "output_type": "execute_result"
    }
   ],
   "source": [
    "new"
   ]
  },
  {
   "cell_type": "code",
   "execution_count": 265,
   "id": "b24303d2",
   "metadata": {},
   "outputs": [],
   "source": [
    "my = (1,2,3,4,{0:'zero',1:'one',2:'two'},[5,6,7])"
   ]
  },
  {
   "cell_type": "code",
   "execution_count": 266,
   "id": "65a1eb4f",
   "metadata": {},
   "outputs": [
    {
     "data": {
      "text/plain": [
       "(1, 2, 3, 4, {0: 'zero', 1: 'one', 2: 'two'}, [5, 6, 7])"
      ]
     },
     "execution_count": 266,
     "metadata": {},
     "output_type": "execute_result"
    }
   ],
   "source": [
    "my"
   ]
  },
  {
   "cell_type": "code",
   "execution_count": 268,
   "id": "015349a7",
   "metadata": {},
   "outputs": [
    {
     "data": {
      "text/plain": [
       "dict_keys([0, 1, 2])"
      ]
     },
     "execution_count": 268,
     "metadata": {},
     "output_type": "execute_result"
    }
   ],
   "source": [
    "my[4].keys()"
   ]
  },
  {
   "cell_type": "code",
   "execution_count": 269,
   "id": "7f129901",
   "metadata": {},
   "outputs": [
    {
     "data": {
      "text/plain": [
       "dict_values(['zero', 'one', 'two'])"
      ]
     },
     "execution_count": 269,
     "metadata": {},
     "output_type": "execute_result"
    }
   ],
   "source": [
    "my[4].values()"
   ]
  },
  {
   "cell_type": "code",
   "execution_count": 270,
   "id": "dfe17e87",
   "metadata": {},
   "outputs": [
    {
     "data": {
      "text/plain": [
       "1"
      ]
     },
     "execution_count": 270,
     "metadata": {},
     "output_type": "execute_result"
    }
   ],
   "source": [
    "my[5].count(5)"
   ]
  },
  {
   "cell_type": "code",
   "execution_count": 274,
   "id": "1ebe82e2",
   "metadata": {},
   "outputs": [],
   "source": [
    "my[5].insert(2,8)"
   ]
  },
  {
   "cell_type": "code",
   "execution_count": 275,
   "id": "e3a26871",
   "metadata": {},
   "outputs": [
    {
     "data": {
      "text/plain": [
       "(1, 2, 3, 4, {0: 'zero', 1: 'one', 2: 'two'}, [5, 6, 8, 7])"
      ]
     },
     "execution_count": 275,
     "metadata": {},
     "output_type": "execute_result"
    }
   ],
   "source": [
    "my"
   ]
  },
  {
   "cell_type": "markdown",
   "id": "e66f6144",
   "metadata": {},
   "source": [
    "# Python Tuple Functions\n",
    "A lot of functions that work on lists work on tuples too. A function applies on a construct and returns a result. It does not modify the construct. Let’s see what we can do."
   ]
  },
  {
   "cell_type": "markdown",
   "id": "950fc9d7",
   "metadata": {},
   "source": [
    "# Python Tuple Functions\n",
    "1. len()\n",
    "2. max()\n",
    "3. min()\n",
    "4. sum()\n",
    "5. any()\n",
    "6.all()\n",
    "7. sorted()\n",
    "8. tuple()p"
   ]
  },
  {
   "cell_type": "code",
   "execution_count": 276,
   "id": "0083fc5d",
   "metadata": {},
   "outputs": [
    {
     "data": {
      "text/plain": [
       "(1, 2, 3, [6, 7])"
      ]
     },
     "execution_count": 276,
     "metadata": {},
     "output_type": "execute_result"
    }
   ],
   "source": [
    "my_tuple"
   ]
  },
  {
   "cell_type": "code",
   "execution_count": 277,
   "id": "572b2d28",
   "metadata": {},
   "outputs": [
    {
     "data": {
      "text/plain": [
       "4"
      ]
     },
     "execution_count": 277,
     "metadata": {},
     "output_type": "execute_result"
    }
   ],
   "source": [
    "len(my_tuple)"
   ]
  },
  {
   "cell_type": "code",
   "execution_count": 278,
   "id": "3ddbb4ad",
   "metadata": {},
   "outputs": [
    {
     "name": "stdout",
     "output_type": "stream",
     "text": [
      "4\n"
     ]
    }
   ],
   "source": [
    "count = 0\n",
    "for item in my_tuple:\n",
    "    count = count+1\n",
    "print(count)"
   ]
  },
  {
   "cell_type": "code",
   "execution_count": 279,
   "id": "3268924e",
   "metadata": {},
   "outputs": [],
   "source": [
    "a = (3,1,5,4,6)"
   ]
  },
  {
   "cell_type": "code",
   "execution_count": 280,
   "id": "c0ecee92",
   "metadata": {},
   "outputs": [
    {
     "data": {
      "text/plain": [
       "6"
      ]
     },
     "execution_count": 280,
     "metadata": {},
     "output_type": "execute_result"
    }
   ],
   "source": [
    "max(a)"
   ]
  },
  {
   "cell_type": "code",
   "execution_count": 282,
   "id": "cadba54b",
   "metadata": {},
   "outputs": [],
   "source": [
    "mylist = sorted(a)"
   ]
  },
  {
   "cell_type": "code",
   "execution_count": 284,
   "id": "cbd51fd8",
   "metadata": {},
   "outputs": [
    {
     "data": {
      "text/plain": [
       "[1, 3, 4, 5, 6]"
      ]
     },
     "execution_count": 284,
     "metadata": {},
     "output_type": "execute_result"
    }
   ],
   "source": [
    "mylist"
   ]
  },
  {
   "cell_type": "code",
   "execution_count": 285,
   "id": "79fb536d",
   "metadata": {},
   "outputs": [
    {
     "ename": "TypeError",
     "evalue": "'int' object is not iterable",
     "output_type": "error",
     "traceback": [
      "\u001b[1;31m---------------------------------------------------------------------------\u001b[0m",
      "\u001b[1;31mTypeError\u001b[0m                                 Traceback (most recent call last)",
      "\u001b[1;32m<ipython-input-285-b51ba415d602>\u001b[0m in \u001b[0;36m<module>\u001b[1;34m\u001b[0m\n\u001b[1;32m----> 1\u001b[1;33m \u001b[0mmax\u001b[0m\u001b[1;33m(\u001b[0m\u001b[0mmylist\u001b[0m\u001b[1;33m[\u001b[0m\u001b[1;33m-\u001b[0m\u001b[1;36m2\u001b[0m\u001b[1;33m]\u001b[0m\u001b[1;33m)\u001b[0m\u001b[1;33m\u001b[0m\u001b[1;33m\u001b[0m\u001b[0m\n\u001b[0m",
      "\u001b[1;31mTypeError\u001b[0m: 'int' object is not iterable"
     ]
    }
   ],
   "source": [
    "max(mylist[-2])"
   ]
  },
  {
   "cell_type": "code",
   "execution_count": 286,
   "id": "99098b08",
   "metadata": {},
   "outputs": [
    {
     "data": {
      "text/plain": [
       "6"
      ]
     },
     "execution_count": 286,
     "metadata": {},
     "output_type": "execute_result"
    }
   ],
   "source": [
    "max(a)"
   ]
  },
  {
   "cell_type": "code",
   "execution_count": 289,
   "id": "0f322c99",
   "metadata": {},
   "outputs": [
    {
     "data": {
      "text/plain": [
       "5"
      ]
     },
     "execution_count": 289,
     "metadata": {},
     "output_type": "execute_result"
    }
   ],
   "source": [
    "max(a[:-1])"
   ]
  },
  {
   "cell_type": "code",
   "execution_count": 290,
   "id": "3ef16639",
   "metadata": {},
   "outputs": [
    {
     "data": {
      "text/plain": [
       "'manju'"
      ]
     },
     "execution_count": 290,
     "metadata": {},
     "output_type": "execute_result"
    }
   ],
   "source": [
    "max((\"manju\",\"kannur\",'las'))"
   ]
  },
  {
   "cell_type": "code",
   "execution_count": 291,
   "id": "4b4ed43a",
   "metadata": {},
   "outputs": [
    {
     "data": {
      "text/plain": [
       "'2'"
      ]
     },
     "execution_count": 291,
     "metadata": {},
     "output_type": "execute_result"
    }
   ],
   "source": [
    "min(('2','6','8','4','3'))"
   ]
  },
  {
   "cell_type": "code",
   "execution_count": 292,
   "id": "120e9ded",
   "metadata": {},
   "outputs": [
    {
     "data": {
      "text/plain": [
       "19"
      ]
     },
     "execution_count": 292,
     "metadata": {},
     "output_type": "execute_result"
    }
   ],
   "source": [
    "sum(a)"
   ]
  },
  {
   "cell_type": "code",
   "execution_count": 293,
   "id": "d957cd20",
   "metadata": {},
   "outputs": [
    {
     "data": {
      "text/plain": [
       "True"
      ]
     },
     "execution_count": 293,
     "metadata": {},
     "output_type": "execute_result"
    }
   ],
   "source": [
    "any(a)"
   ]
  },
  {
   "cell_type": "code",
   "execution_count": 294,
   "id": "55985a96",
   "metadata": {},
   "outputs": [
    {
     "data": {
      "text/plain": [
       "[1, 3, 4, 5, 6]"
      ]
     },
     "execution_count": 294,
     "metadata": {},
     "output_type": "execute_result"
    }
   ],
   "source": [
    "sorted(a)"
   ]
  },
  {
   "cell_type": "code",
   "execution_count": 295,
   "id": "a120518f",
   "metadata": {},
   "outputs": [
    {
     "data": {
      "text/plain": [
       "(1, 2, 3)"
      ]
     },
     "execution_count": 295,
     "metadata": {},
     "output_type": "execute_result"
    }
   ],
   "source": [
    "list1 =[1,2,3]\n",
    "tuple(list1)"
   ]
  },
  {
   "cell_type": "code",
   "execution_count": 296,
   "id": "46bcbd71",
   "metadata": {},
   "outputs": [],
   "source": [
    "string=\"this is my planet\""
   ]
  },
  {
   "cell_type": "code",
   "execution_count": 297,
   "id": "fc6843cb",
   "metadata": {},
   "outputs": [
    {
     "data": {
      "text/plain": [
       "('t',\n",
       " 'h',\n",
       " 'i',\n",
       " 's',\n",
       " ' ',\n",
       " 'i',\n",
       " 's',\n",
       " ' ',\n",
       " 'm',\n",
       " 'y',\n",
       " ' ',\n",
       " 'p',\n",
       " 'l',\n",
       " 'a',\n",
       " 'n',\n",
       " 'e',\n",
       " 't')"
      ]
     },
     "execution_count": 297,
     "metadata": {},
     "output_type": "execute_result"
    }
   ],
   "source": [
    "tuple(string)"
   ]
  },
  {
   "cell_type": "code",
   "execution_count": 298,
   "id": "d5fcfad5",
   "metadata": {},
   "outputs": [
    {
     "data": {
      "text/plain": [
       "(1, 2, 3)"
      ]
     },
     "execution_count": 298,
     "metadata": {},
     "output_type": "execute_result"
    }
   ],
   "source": [
    "set1 ={1,2,3}\n",
    "tuple(set1)"
   ]
  },
  {
   "cell_type": "code",
   "execution_count": 299,
   "id": "73caf7c2",
   "metadata": {},
   "outputs": [
    {
     "data": {
      "text/plain": [
       "{1, 2, 3}"
      ]
     },
     "execution_count": 299,
     "metadata": {},
     "output_type": "execute_result"
    }
   ],
   "source": [
    "set1"
   ]
  },
  {
   "cell_type": "markdown",
   "id": "6e475bc4",
   "metadata": {},
   "source": [
    "# Python Tuple Methods"
   ]
  },
  {
   "cell_type": "markdown",
   "id": "ec7e6b2f",
   "metadata": {},
   "source": [
    "# index()\n"
   ]
  },
  {
   "cell_type": "code",
   "execution_count": 300,
   "id": "b170da20",
   "metadata": {},
   "outputs": [],
   "source": [
    "a = (1,2,3,4,5,2)"
   ]
  },
  {
   "cell_type": "code",
   "execution_count": 301,
   "id": "6c3789c1",
   "metadata": {},
   "outputs": [
    {
     "data": {
      "text/plain": [
       "(1, 2, 3, 4, 5, 2)"
      ]
     },
     "execution_count": 301,
     "metadata": {},
     "output_type": "execute_result"
    }
   ],
   "source": [
    "a"
   ]
  },
  {
   "cell_type": "code",
   "execution_count": 302,
   "id": "efea46de",
   "metadata": {},
   "outputs": [
    {
     "data": {
      "text/plain": [
       "1"
      ]
     },
     "execution_count": 302,
     "metadata": {},
     "output_type": "execute_result"
    }
   ],
   "source": [
    "a.index(2)"
   ]
  },
  {
   "cell_type": "code",
   "execution_count": 304,
   "id": "14d389da",
   "metadata": {},
   "outputs": [
    {
     "data": {
      "text/plain": [
       "2"
      ]
     },
     "execution_count": 304,
     "metadata": {},
     "output_type": "execute_result"
    }
   ],
   "source": [
    "a.count(2)"
   ]
  },
  {
   "cell_type": "code",
   "execution_count": 305,
   "id": "f46e32de",
   "metadata": {},
   "outputs": [],
   "source": [
    "from collections import Counter"
   ]
  },
  {
   "cell_type": "code",
   "execution_count": 306,
   "id": "55b54201",
   "metadata": {},
   "outputs": [
    {
     "data": {
      "text/plain": [
       "Counter({1: 1, 2: 2, 3: 1, 4: 1, 5: 1})"
      ]
     },
     "execution_count": 306,
     "metadata": {},
     "output_type": "execute_result"
    }
   ],
   "source": [
    "Counter(a)"
   ]
  },
  {
   "cell_type": "code",
   "execution_count": 307,
   "id": "3d7f040b",
   "metadata": {},
   "outputs": [
    {
     "data": {
      "text/plain": [
       "False"
      ]
     },
     "execution_count": 307,
     "metadata": {},
     "output_type": "execute_result"
    }
   ],
   "source": [
    "'a' in tuple(\"string\")"
   ]
  },
  {
   "cell_type": "code",
   "execution_count": 308,
   "id": "e324bf07",
   "metadata": {},
   "outputs": [
    {
     "data": {
      "text/plain": [
       "(1, 2, 3, 4, 5, 6)"
      ]
     },
     "execution_count": 308,
     "metadata": {},
     "output_type": "execute_result"
    }
   ],
   "source": [
    "(1,2,3)+(4,5,6)# concatenation"
   ]
  },
  {
   "cell_type": "code",
   "execution_count": 309,
   "id": "a4456989",
   "metadata": {},
   "outputs": [
    {
     "data": {
      "text/plain": [
       "False"
      ]
     },
     "execution_count": 309,
     "metadata": {},
     "output_type": "execute_result"
    }
   ],
   "source": [
    "(1,2,3)>(4,5,6) # logical operation"
   ]
  },
  {
   "cell_type": "code",
   "execution_count": 314,
   "id": "e3bb2697",
   "metadata": {},
   "outputs": [
    {
     "name": "stdout",
     "output_type": "stream",
     "text": [
      "1\n",
      "2\n",
      "3\n"
     ]
    }
   ],
   "source": [
    "for i in (1,2,3):\n",
    "    print(i)"
   ]
  },
  {
   "cell_type": "code",
   "execution_count": 315,
   "id": "5fe81e66",
   "metadata": {},
   "outputs": [],
   "source": [
    "a = (1,2,3),(4,(5,6))"
   ]
  },
  {
   "cell_type": "code",
   "execution_count": 316,
   "id": "fa52eefd",
   "metadata": {},
   "outputs": [
    {
     "data": {
      "text/plain": [
       "((1, 2, 3), (4, (5, 6)))"
      ]
     },
     "execution_count": 316,
     "metadata": {},
     "output_type": "execute_result"
    }
   ],
   "source": [
    "a"
   ]
  },
  {
   "cell_type": "code",
   "execution_count": 324,
   "id": "15653a4f",
   "metadata": {},
   "outputs": [
    {
     "data": {
      "text/plain": [
       "(1, 2, 3)"
      ]
     },
     "execution_count": 324,
     "metadata": {},
     "output_type": "execute_result"
    }
   ],
   "source": [
    "a[0]"
   ]
  },
  {
   "cell_type": "code",
   "execution_count": 325,
   "id": "cf03669c",
   "metadata": {},
   "outputs": [
    {
     "data": {
      "text/plain": [
       "(4, (5, 6))"
      ]
     },
     "execution_count": 325,
     "metadata": {},
     "output_type": "execute_result"
    }
   ],
   "source": [
    "a[1]"
   ]
  },
  {
   "cell_type": "code",
   "execution_count": 326,
   "id": "15529346",
   "metadata": {},
   "outputs": [
    {
     "data": {
      "text/plain": [
       "6"
      ]
     },
     "execution_count": 326,
     "metadata": {},
     "output_type": "execute_result"
    }
   ],
   "source": [
    "a[1][1][1]"
   ]
  },
  {
   "cell_type": "markdown",
   "id": "b3a1063f",
   "metadata": {},
   "source": [
    "# What are Sets in Python?\n",
    "First, we focus on Python sets. A set in Python holds a sequence of values. It is sequenced but does not support indexing.\n",
    "1. creating set        \n",
    "2. accessing set\n",
    "3. deleting a set\n",
    "4. operations on set\n",
    "5. the frozenset\n",
    "6. updating a set\n",
    "7. functions on sets\n",
    "8. mehthods on sets\n",
    "9. iterating on sets\n",
    "# booleans\n",
    "1. value of a boolean\n",
    "2. the bool() function\n",
    "3. operations of boolean\n",
    "4. declaring a bool\n",
    "5. boolean values of version"
   ]
  },
  {
   "cell_type": "code",
   "execution_count": 329,
   "id": "49e056a5",
   "metadata": {},
   "outputs": [],
   "source": [
    "a =set()# it is sequenced but does not support indexing"
   ]
  },
  {
   "cell_type": "code",
   "execution_count": 330,
   "id": "1d9cd694",
   "metadata": {},
   "outputs": [
    {
     "data": {
      "text/plain": [
       "set()"
      ]
     },
     "execution_count": 330,
     "metadata": {},
     "output_type": "execute_result"
    }
   ],
   "source": [
    "a"
   ]
  },
  {
   "cell_type": "code",
   "execution_count": 331,
   "id": "040e94e4",
   "metadata": {},
   "outputs": [],
   "source": [
    "a ={1,2,3}"
   ]
  },
  {
   "cell_type": "code",
   "execution_count": 332,
   "id": "788dca01",
   "metadata": {},
   "outputs": [
    {
     "data": {
      "text/plain": [
       "{1, 2, 3}"
      ]
     },
     "execution_count": 332,
     "metadata": {},
     "output_type": "execute_result"
    }
   ],
   "source": [
    "a"
   ]
  },
  {
   "cell_type": "code",
   "execution_count": 333,
   "id": "82681c8c",
   "metadata": {},
   "outputs": [],
   "source": [
    "c = {1,2.0,'three'}"
   ]
  },
  {
   "cell_type": "code",
   "execution_count": 334,
   "id": "d7c9548e",
   "metadata": {},
   "outputs": [
    {
     "data": {
      "text/plain": [
       "{1, 2.0, 'three'}"
      ]
     },
     "execution_count": 334,
     "metadata": {},
     "output_type": "execute_result"
    }
   ],
   "source": [
    "c"
   ]
  },
  {
   "cell_type": "code",
   "execution_count": 335,
   "id": "7e787e6c",
   "metadata": {},
   "outputs": [],
   "source": [
    "b ={3,2,1,2} # a set also cannot contian duplicat elements "
   ]
  },
  {
   "cell_type": "code",
   "execution_count": 336,
   "id": "d304439e",
   "metadata": {},
   "outputs": [
    {
     "data": {
      "text/plain": [
       "{1, 2, 3}"
      ]
     },
     "execution_count": 336,
     "metadata": {},
     "output_type": "execute_result"
    }
   ],
   "source": [
    "b"
   ]
  },
  {
   "cell_type": "code",
   "execution_count": 337,
   "id": "63480c6e",
   "metadata": {},
   "outputs": [
    {
     "ename": "TypeError",
     "evalue": "unhashable type: 'list'",
     "output_type": "error",
     "traceback": [
      "\u001b[1;31m---------------------------------------------------------------------------\u001b[0m",
      "\u001b[1;31mTypeError\u001b[0m                                 Traceback (most recent call last)",
      "\u001b[1;32m<ipython-input-337-9d7afa83e088>\u001b[0m in \u001b[0;36m<module>\u001b[1;34m\u001b[0m\n\u001b[1;32m----> 1\u001b[1;33m \u001b[0md\u001b[0m \u001b[1;33m=\u001b[0m \u001b[1;33m{\u001b[0m\u001b[1;33m[\u001b[0m\u001b[1;36m1\u001b[0m\u001b[1;33m,\u001b[0m\u001b[1;36m2\u001b[0m\u001b[1;33m,\u001b[0m\u001b[1;36m3\u001b[0m\u001b[1;33m]\u001b[0m\u001b[1;33m,\u001b[0m\u001b[1;36m4\u001b[0m\u001b[1;33m}\u001b[0m\u001b[1;33m\u001b[0m\u001b[1;33m\u001b[0m\u001b[0m\n\u001b[0m",
      "\u001b[1;31mTypeError\u001b[0m: unhashable type: 'list'"
     ]
    }
   ],
   "source": [
    "d = {[1,2,3],4}"
   ]
  },
  {
   "cell_type": "code",
   "execution_count": 338,
   "id": "656a4a03",
   "metadata": {},
   "outputs": [
    {
     "data": {
      "text/plain": [
       "set"
      ]
     },
     "execution_count": 338,
     "metadata": {},
     "output_type": "execute_result"
    }
   ],
   "source": [
    "d = set()\n",
    "type(d)"
   ]
  },
  {
   "cell_type": "code",
   "execution_count": 339,
   "id": "601958d1",
   "metadata": {},
   "outputs": [
    {
     "data": {
      "text/plain": [
       "dict"
      ]
     },
     "execution_count": 339,
     "metadata": {},
     "output_type": "execute_result"
    }
   ],
   "source": [
    "d = {}\n",
    "type(d)"
   ]
  },
  {
   "cell_type": "code",
   "execution_count": 340,
   "id": "3703ac9f",
   "metadata": {},
   "outputs": [],
   "source": [
    "d= set([1,2,3])"
   ]
  },
  {
   "cell_type": "code",
   "execution_count": 341,
   "id": "4678ae74",
   "metadata": {},
   "outputs": [
    {
     "data": {
      "text/plain": [
       "{1, 2, 3}"
      ]
     },
     "execution_count": 341,
     "metadata": {},
     "output_type": "execute_result"
    }
   ],
   "source": [
    "d"
   ]
  },
  {
   "cell_type": "code",
   "execution_count": 342,
   "id": "482fdcd1",
   "metadata": {},
   "outputs": [
    {
     "data": {
      "text/plain": [
       "{1, 2, 3}"
      ]
     },
     "execution_count": 342,
     "metadata": {},
     "output_type": "execute_result"
    }
   ],
   "source": [
    "a"
   ]
  },
  {
   "cell_type": "code",
   "execution_count": 343,
   "id": "a5331188",
   "metadata": {},
   "outputs": [],
   "source": [
    "numbers = {3,2,1,4,5,8}"
   ]
  },
  {
   "cell_type": "code",
   "execution_count": 344,
   "id": "2ea78817",
   "metadata": {},
   "outputs": [
    {
     "data": {
      "text/plain": [
       "{1, 2, 3, 4, 5, 8}"
      ]
     },
     "execution_count": 344,
     "metadata": {},
     "output_type": "execute_result"
    }
   ],
   "source": [
    "numbers"
   ]
  },
  {
   "cell_type": "code",
   "execution_count": 345,
   "id": "205aed2e",
   "metadata": {},
   "outputs": [],
   "source": [
    "numbers.discard(3)"
   ]
  },
  {
   "cell_type": "code",
   "execution_count": 346,
   "id": "470209ec",
   "metadata": {},
   "outputs": [
    {
     "data": {
      "text/plain": [
       "{1, 2, 4, 5, 8}"
      ]
     },
     "execution_count": 346,
     "metadata": {},
     "output_type": "execute_result"
    }
   ],
   "source": [
    "numbers"
   ]
  },
  {
   "cell_type": "code",
   "execution_count": 350,
   "id": "7e5f9a56",
   "metadata": {
    "scrolled": true
   },
   "outputs": [],
   "source": [
    "numbers.remove(4)"
   ]
  },
  {
   "cell_type": "code",
   "execution_count": 351,
   "id": "cdaaac7b",
   "metadata": {},
   "outputs": [
    {
     "data": {
      "text/plain": [
       "{1, 2, 8}"
      ]
     },
     "execution_count": 351,
     "metadata": {},
     "output_type": "execute_result"
    }
   ],
   "source": [
    "numbers"
   ]
  },
  {
   "cell_type": "code",
   "execution_count": 352,
   "id": "7ed55f44",
   "metadata": {},
   "outputs": [],
   "source": [
    "numbers.discard(7)"
   ]
  },
  {
   "cell_type": "code",
   "execution_count": 353,
   "id": "9ba4c489",
   "metadata": {},
   "outputs": [
    {
     "data": {
      "text/plain": [
       "{1, 2, 8}"
      ]
     },
     "execution_count": 353,
     "metadata": {},
     "output_type": "execute_result"
    }
   ],
   "source": [
    "numbers"
   ]
  },
  {
   "cell_type": "code",
   "execution_count": 354,
   "id": "9793ce65",
   "metadata": {},
   "outputs": [
    {
     "data": {
      "text/plain": [
       "1"
      ]
     },
     "execution_count": 354,
     "metadata": {},
     "output_type": "execute_result"
    }
   ],
   "source": [
    "numbers.pop()"
   ]
  },
  {
   "cell_type": "code",
   "execution_count": 355,
   "id": "763303a2",
   "metadata": {},
   "outputs": [
    {
     "data": {
      "text/plain": [
       "{2, 8}"
      ]
     },
     "execution_count": 355,
     "metadata": {},
     "output_type": "execute_result"
    }
   ],
   "source": [
    "numbers"
   ]
  },
  {
   "cell_type": "code",
   "execution_count": 356,
   "id": "54b43f07",
   "metadata": {},
   "outputs": [],
   "source": [
    "mylist = [1,22,3]"
   ]
  },
  {
   "cell_type": "code",
   "execution_count": 357,
   "id": "0ab30fd8",
   "metadata": {},
   "outputs": [
    {
     "data": {
      "text/plain": [
       "3"
      ]
     },
     "execution_count": 357,
     "metadata": {},
     "output_type": "execute_result"
    }
   ],
   "source": [
    "mylist.pop()"
   ]
  },
  {
   "cell_type": "code",
   "execution_count": 358,
   "id": "f2f4177b",
   "metadata": {},
   "outputs": [
    {
     "data": {
      "text/plain": [
       "[1, 22]"
      ]
     },
     "execution_count": 358,
     "metadata": {},
     "output_type": "execute_result"
    }
   ],
   "source": [
    "mylist"
   ]
  },
  {
   "cell_type": "code",
   "execution_count": 359,
   "id": "a22443f5",
   "metadata": {},
   "outputs": [
    {
     "data": {
      "text/plain": [
       "2"
      ]
     },
     "execution_count": 359,
     "metadata": {},
     "output_type": "execute_result"
    }
   ],
   "source": [
    "numbers.pop()"
   ]
  },
  {
   "cell_type": "code",
   "execution_count": 360,
   "id": "e9edb545",
   "metadata": {},
   "outputs": [
    {
     "data": {
      "text/plain": [
       "{8}"
      ]
     },
     "execution_count": 360,
     "metadata": {},
     "output_type": "execute_result"
    }
   ],
   "source": [
    "numbers"
   ]
  },
  {
   "cell_type": "code",
   "execution_count": 361,
   "id": "eb61c625",
   "metadata": {},
   "outputs": [],
   "source": [
    "numbers.clear()"
   ]
  },
  {
   "cell_type": "code",
   "execution_count": 362,
   "id": "41ec6469",
   "metadata": {},
   "outputs": [
    {
     "data": {
      "text/plain": [
       "set()"
      ]
     },
     "execution_count": 362,
     "metadata": {},
     "output_type": "execute_result"
    }
   ],
   "source": [
    "numbers"
   ]
  },
  {
   "cell_type": "code",
   "execution_count": 363,
   "id": "e849e14c",
   "metadata": {},
   "outputs": [],
   "source": [
    "numbers = {3,1,2,4,5,6,8,7,9,0}"
   ]
  },
  {
   "cell_type": "code",
   "execution_count": 364,
   "id": "41e3d2d9",
   "metadata": {},
   "outputs": [
    {
     "data": {
      "text/plain": [
       "{0, 1, 2, 3, 4, 5, 6, 7, 8, 9}"
      ]
     },
     "execution_count": 364,
     "metadata": {},
     "output_type": "execute_result"
    }
   ],
   "source": [
    "numbers"
   ]
  },
  {
   "cell_type": "code",
   "execution_count": 365,
   "id": "a2e317cf",
   "metadata": {},
   "outputs": [
    {
     "ename": "TypeError",
     "evalue": "'set' object is not subscriptable",
     "output_type": "error",
     "traceback": [
      "\u001b[1;31m---------------------------------------------------------------------------\u001b[0m",
      "\u001b[1;31mTypeError\u001b[0m                                 Traceback (most recent call last)",
      "\u001b[1;32m<ipython-input-365-a211ca56b224>\u001b[0m in \u001b[0;36m<module>\u001b[1;34m\u001b[0m\n\u001b[1;32m----> 1\u001b[1;33m \u001b[0mnumbers\u001b[0m\u001b[1;33m[\u001b[0m\u001b[1;36m3\u001b[0m\u001b[1;33m]\u001b[0m\u001b[1;33m\u001b[0m\u001b[1;33m\u001b[0m\u001b[0m\n\u001b[0m",
      "\u001b[1;31mTypeError\u001b[0m: 'set' object is not subscriptable"
     ]
    }
   ],
   "source": [
    "numbers[3]"
   ]
  },
  {
   "cell_type": "code",
   "execution_count": 366,
   "id": "8d610511",
   "metadata": {},
   "outputs": [],
   "source": [
    "numbers.add(3.5)"
   ]
  },
  {
   "cell_type": "code",
   "execution_count": 367,
   "id": "1b7c6868",
   "metadata": {},
   "outputs": [
    {
     "data": {
      "text/plain": [
       "{0, 1, 2, 3, 3.5, 4, 5, 6, 7, 8, 9}"
      ]
     },
     "execution_count": 367,
     "metadata": {},
     "output_type": "execute_result"
    }
   ],
   "source": [
    "numbers"
   ]
  },
  {
   "cell_type": "code",
   "execution_count": 368,
   "id": "9b0cf2b7",
   "metadata": {},
   "outputs": [],
   "source": [
    "numbers.add(4)"
   ]
  },
  {
   "cell_type": "code",
   "execution_count": 369,
   "id": "7d7f8a0c",
   "metadata": {},
   "outputs": [
    {
     "data": {
      "text/plain": [
       "{0, 1, 2, 3, 3.5, 4, 5, 6, 7, 8, 9}"
      ]
     },
     "execution_count": 369,
     "metadata": {},
     "output_type": "execute_result"
    }
   ],
   "source": [
    "numbers"
   ]
  },
  {
   "cell_type": "code",
   "execution_count": 370,
   "id": "3097153e",
   "metadata": {},
   "outputs": [],
   "source": [
    "numbers.update([7,8],{1,2,3})"
   ]
  },
  {
   "cell_type": "code",
   "execution_count": 371,
   "id": "26a61f77",
   "metadata": {},
   "outputs": [
    {
     "data": {
      "text/plain": [
       "{0, 1, 2, 3, 3.5, 4, 5, 6, 7, 8, 9}"
      ]
     },
     "execution_count": 371,
     "metadata": {},
     "output_type": "execute_result"
    }
   ],
   "source": [
    "numbers"
   ]
  },
  {
   "cell_type": "code",
   "execution_count": 372,
   "id": "09edcd34",
   "metadata": {},
   "outputs": [],
   "source": [
    "days ={\n",
    "    'monday',\n",
    "    'Tuesday',\n",
    "    'Wednesday',\n",
    "    'Thursday',\n",
    "    'Friday',\n",
    "    'Saturday',\n",
    "    'Sunday'\n",
    "}"
   ]
  },
  {
   "cell_type": "code",
   "execution_count": 373,
   "id": "b763efc0",
   "metadata": {},
   "outputs": [
    {
     "data": {
      "text/plain": [
       "{'Friday', 'Saturday', 'Sunday', 'Thursday', 'Tuesday', 'Wednesday', 'monday'}"
      ]
     },
     "execution_count": 373,
     "metadata": {},
     "output_type": "execute_result"
    }
   ],
   "source": [
    "days"
   ]
  },
  {
   "cell_type": "code",
   "execution_count": 374,
   "id": "3e04ad72",
   "metadata": {},
   "outputs": [
    {
     "data": {
      "text/plain": [
       "7"
      ]
     },
     "execution_count": 374,
     "metadata": {},
     "output_type": "execute_result"
    }
   ],
   "source": [
    "len(days)"
   ]
  },
  {
   "cell_type": "code",
   "execution_count": 375,
   "id": "ea0f1a13",
   "metadata": {},
   "outputs": [
    {
     "data": {
      "text/plain": [
       "'monday'"
      ]
     },
     "execution_count": 375,
     "metadata": {},
     "output_type": "execute_result"
    }
   ],
   "source": [
    "max(days)"
   ]
  },
  {
   "cell_type": "code",
   "execution_count": 376,
   "id": "07998145",
   "metadata": {},
   "outputs": [
    {
     "data": {
      "text/plain": [
       "'Friday'"
      ]
     },
     "execution_count": 376,
     "metadata": {},
     "output_type": "execute_result"
    }
   ],
   "source": [
    "min(days)"
   ]
  },
  {
   "cell_type": "code",
   "execution_count": 377,
   "id": "43b70f44",
   "metadata": {},
   "outputs": [
    {
     "data": {
      "text/plain": [
       "3"
      ]
     },
     "execution_count": 377,
     "metadata": {},
     "output_type": "execute_result"
    }
   ],
   "source": [
    "max({3,1,2})"
   ]
  },
  {
   "cell_type": "code",
   "execution_count": 378,
   "id": "6fcc1be1",
   "metadata": {},
   "outputs": [
    {
     "data": {
      "text/plain": [
       "'monday'"
      ]
     },
     "execution_count": 378,
     "metadata": {},
     "output_type": "execute_result"
    }
   ],
   "source": [
    "max(days)"
   ]
  },
  {
   "cell_type": "markdown",
   "id": "578e8c36",
   "metadata": {},
   "source": [
    "# Python Methods on Sets"
   ]
  },
  {
   "cell_type": "code",
   "execution_count": 379,
   "id": "2001b3f6",
   "metadata": {},
   "outputs": [],
   "source": [
    "set1,set2,set3 = {1,2,3},{3,4,5},{5,6,7}"
   ]
  },
  {
   "cell_type": "code",
   "execution_count": 380,
   "id": "19980dbd",
   "metadata": {},
   "outputs": [
    {
     "data": {
      "text/plain": [
       "{1, 2, 3, 4, 5, 6, 7}"
      ]
     },
     "execution_count": 380,
     "metadata": {},
     "output_type": "execute_result"
    }
   ],
   "source": [
    "set1.union(set2,set3) # unions"
   ]
  },
  {
   "cell_type": "code",
   "execution_count": 381,
   "id": "7c6518a7",
   "metadata": {},
   "outputs": [
    {
     "data": {
      "text/plain": [
       "{1, 2, 3, 4, 5, 6, 7}"
      ]
     },
     "execution_count": 381,
     "metadata": {},
     "output_type": "execute_result"
    }
   ],
   "source": [
    "set2.union(set1,set3)"
   ]
  },
  {
   "cell_type": "code",
   "execution_count": 382,
   "id": "a47f41f3",
   "metadata": {},
   "outputs": [
    {
     "data": {
      "text/plain": [
       "{5, 6, 7}"
      ]
     },
     "execution_count": 382,
     "metadata": {},
     "output_type": "execute_result"
    }
   ],
   "source": [
    "set3"
   ]
  },
  {
   "cell_type": "code",
   "execution_count": 384,
   "id": "a9071529",
   "metadata": {},
   "outputs": [
    {
     "data": {
      "text/plain": [
       "{3}"
      ]
     },
     "execution_count": 384,
     "metadata": {},
     "output_type": "execute_result"
    }
   ],
   "source": [
    "set2.intersection(set1) # intersection"
   ]
  },
  {
   "cell_type": "code",
   "execution_count": 385,
   "id": "34e16181",
   "metadata": {},
   "outputs": [
    {
     "data": {
      "text/plain": [
       "{1, 2}"
      ]
     },
     "execution_count": 385,
     "metadata": {},
     "output_type": "execute_result"
    }
   ],
   "source": [
    "set1.difference(set2)"
   ]
  },
  {
   "cell_type": "code",
   "execution_count": 389,
   "id": "7e74b2e1",
   "metadata": {},
   "outputs": [],
   "source": [
    "mylist = []\n",
    "for i in 'anxiety':\n",
    "    mylist.append(i)\n",
    "mylist"
   ]
  },
  {
   "cell_type": "code",
   "execution_count": 390,
   "id": "1c5a3707",
   "metadata": {},
   "outputs": [
    {
     "data": {
      "text/plain": [
       "['a', 'n', 'x', 'i', 'e', 't', 'y']"
      ]
     },
     "execution_count": 390,
     "metadata": {},
     "output_type": "execute_result"
    }
   ],
   "source": [
    "mylist"
   ]
  },
  {
   "cell_type": "markdown",
   "id": "89dd496a",
   "metadata": {},
   "source": [
    "# What is Python List Comprehension?\n",
    "To get Python list comprehensions back into memory, we’ll take a"
   ]
  },
  {
   "cell_type": "code",
   "execution_count": 392,
   "id": "5b530269",
   "metadata": {},
   "outputs": [
    {
     "data": {
      "text/plain": [
       "['a', 'x', 'i', 'e', 't', 'y']"
      ]
     },
     "execution_count": 392,
     "metadata": {},
     "output_type": "execute_result"
    }
   ],
   "source": [
    "[i for i in 'axiety']"
   ]
  },
  {
   "cell_type": "code",
   "execution_count": 393,
   "id": "6b5e4000",
   "metadata": {},
   "outputs": [
    {
     "data": {
      "text/plain": [
       "[2, 4, 6]"
      ]
     },
     "execution_count": 393,
     "metadata": {},
     "output_type": "execute_result"
    }
   ],
   "source": [
    "[i*2 for i in {3,2,1}]"
   ]
  },
  {
   "cell_type": "code",
   "execution_count": 394,
   "id": "16c0a4a8",
   "metadata": {},
   "outputs": [],
   "source": [
    "myset = {3,1,2}\n",
    "makelist = lambda i:list(i)\n",
    "mylist = makelist(myset)"
   ]
  },
  {
   "cell_type": "code",
   "execution_count": 395,
   "id": "eb932ea5",
   "metadata": {},
   "outputs": [
    {
     "data": {
      "text/plain": [
       "[1, 2, 3]"
      ]
     },
     "execution_count": 395,
     "metadata": {},
     "output_type": "execute_result"
    }
   ],
   "source": [
    "mylist"
   ]
  },
  {
   "cell_type": "code",
   "execution_count": 396,
   "id": "38764b4d",
   "metadata": {},
   "outputs": [
    {
     "data": {
      "text/plain": [
       "<function __main__.<lambda>(i)>"
      ]
     },
     "execution_count": 396,
     "metadata": {},
     "output_type": "execute_result"
    }
   ],
   "source": [
    "makelist"
   ]
  },
  {
   "cell_type": "code",
   "execution_count": 397,
   "id": "6fd1767b",
   "metadata": {},
   "outputs": [
    {
     "data": {
      "text/plain": [
       "list"
      ]
     },
     "execution_count": 397,
     "metadata": {},
     "output_type": "execute_result"
    }
   ],
   "source": [
    "type(mylist)"
   ]
  },
  {
   "cell_type": "code",
   "execution_count": 398,
   "id": "3003a0e4",
   "metadata": {},
   "outputs": [
    {
     "name": "stdout",
     "output_type": "stream",
     "text": [
      "<class 'list'>\n"
     ]
    }
   ],
   "source": [
    "print(type(mylist))"
   ]
  },
  {
   "cell_type": "code",
   "execution_count": 401,
   "id": "9a618eae",
   "metadata": {},
   "outputs": [
    {
     "data": {
      "text/plain": [
       "[1, 3, 5, 7]"
      ]
     },
     "execution_count": 401,
     "metadata": {},
     "output_type": "execute_result"
    }
   ],
   "source": [
    "[i for i in range(8) if i%2!=0] # odd numbers"
   ]
  },
  {
   "cell_type": "code",
   "execution_count": 402,
   "id": "cc5723ff",
   "metadata": {},
   "outputs": [
    {
     "data": {
      "text/plain": [
       "[0, 2, 4, 6]"
      ]
     },
     "execution_count": 402,
     "metadata": {},
     "output_type": "execute_result"
    }
   ],
   "source": [
    "[i for i in range(8) if i%2==0] # even numbers"
   ]
  },
  {
   "cell_type": "markdown",
   "id": "4be9994c",
   "metadata": {},
   "source": [
    "# Python Loop"
   ]
  },
  {
   "cell_type": "markdown",
   "id": "1090c754",
   "metadata": {},
   "source": [
    "### When you want some statements to execute a hundred times, you don’t repeat them 100 times.\n",
    "\n",
    "Think of when you want to print numbers 1 to 99. Or that you want to say Hello to 99 friends.\n",
    "\n",
    "In such a case, you can use loops in python.\n",
    "\n",
    "Here, we will discuss 4 types of Python Loop:\n",
    "\n",
    "Python For Loop\n",
    "Python While Loop\n",
    "Python Loop Control Statements\n",
    "Nested For Loop in Python"
   ]
  },
  {
   "cell_type": "markdown",
   "id": "0e4c3711",
   "metadata": {},
   "source": [
    "# Python While Loop\n",
    "A while loop in python iterates till its condition becomes False. In other words, it executes the statements under itself while the condition it takes is True"
   ]
  },
  {
   "cell_type": "code",
   "execution_count": 404,
   "id": "f5dadd4e",
   "metadata": {},
   "outputs": [
    {
     "name": "stdout",
     "output_type": "stream",
     "text": [
      "3\n",
      "2\n",
      "1\n",
      "reached 0\n"
     ]
    }
   ],
   "source": [
    "a =3\n",
    "while (a>0):\n",
    "    print(a)\n",
    "    a-=1\n",
    "else:\n",
    "    print(\"reached 0\")"
   ]
  },
  {
   "cell_type": "code",
   "execution_count": 406,
   "id": "0ce92025",
   "metadata": {},
   "outputs": [
    {
     "name": "stdout",
     "output_type": "stream",
     "text": [
      "3\n",
      "2\n"
     ]
    }
   ],
   "source": [
    "a =3\n",
    "while(a>0):\n",
    "    print(a)\n",
    "    a-=1\n",
    "    if a==1 :break;\n",
    "else:\n",
    "    print(\"reached 0\")"
   ]
  },
  {
   "cell_type": "code",
   "execution_count": 1,
   "id": "d663ba49",
   "metadata": {},
   "outputs": [
    {
     "name": "stdout",
     "output_type": "stream",
     "text": [
      "0\n",
      "1\n",
      "2\n"
     ]
    }
   ],
   "source": [
    "for a in range(3):\n",
    "    print(a)"
   ]
  },
  {
   "cell_type": "code",
   "execution_count": 3,
   "id": "90d0960c",
   "metadata": {},
   "outputs": [
    {
     "name": "stdout",
     "output_type": "stream",
     "text": [
      "2\n",
      "3\n",
      "4\n"
     ]
    }
   ],
   "source": [
    "for i in {2,3,3,4}:\n",
    "    print(i)"
   ]
  },
  {
   "cell_type": "code",
   "execution_count": 4,
   "id": "d4754ff8",
   "metadata": {},
   "outputs": [
    {
     "name": "stdout",
     "output_type": "stream",
     "text": [
      "k\n",
      "a\n",
      "n\n",
      "n\n",
      "u\n",
      "r\n"
     ]
    }
   ],
   "source": [
    "for i in 'kannur':\n",
    "    print(i)"
   ]
  },
  {
   "cell_type": "code",
   "execution_count": 5,
   "id": "187ce8f1",
   "metadata": {},
   "outputs": [],
   "source": [
    "mylist = ['Romanian','spanish','Gujrati']"
   ]
  },
  {
   "cell_type": "code",
   "execution_count": 7,
   "id": "f2fafeac",
   "metadata": {},
   "outputs": [
    {
     "name": "stdout",
     "output_type": "stream",
     "text": [
      "Romanian 0\n",
      "spanish 1\n",
      "Gujrati 2\n"
     ]
    }
   ],
   "source": [
    "for item in range(len(mylist)):\n",
    "    print(mylist[item],item)"
   ]
  },
  {
   "cell_type": "code",
   "execution_count": 8,
   "id": "500067fe",
   "metadata": {},
   "outputs": [],
   "source": [
    "string = \"jlskjflaksjflksjflkasjflksvsjkfjslkjyuioepwwpoeiuyghbnjmm,mnbbhfjdklss\""
   ]
  },
  {
   "cell_type": "code",
   "execution_count": 9,
   "id": "4fdb35ef",
   "metadata": {},
   "outputs": [
    {
     "data": {
      "text/plain": [
       "'jlskjflaksjflksjflkasjflksvsjkfjslkjyuioepwwpoeiuyghbnjmm,mnbbhfjdklss'"
      ]
     },
     "execution_count": 9,
     "metadata": {},
     "output_type": "execute_result"
    }
   ],
   "source": [
    "string"
   ]
  },
  {
   "cell_type": "code",
   "execution_count": 11,
   "id": "535e3ab9",
   "metadata": {},
   "outputs": [],
   "source": [
    "from collections import Counter"
   ]
  },
  {
   "cell_type": "code",
   "execution_count": 12,
   "id": "1530de53",
   "metadata": {},
   "outputs": [],
   "source": [
    "mystring = Counter(string)"
   ]
  },
  {
   "cell_type": "code",
   "execution_count": 13,
   "id": "62c1c853",
   "metadata": {},
   "outputs": [
    {
     "data": {
      "text/plain": [
       "Counter({'j': 10,\n",
       "         'l': 7,\n",
       "         's': 9,\n",
       "         'k': 8,\n",
       "         'f': 6,\n",
       "         'a': 2,\n",
       "         'v': 1,\n",
       "         'y': 2,\n",
       "         'u': 2,\n",
       "         'i': 2,\n",
       "         'o': 2,\n",
       "         'e': 2,\n",
       "         'p': 2,\n",
       "         'w': 2,\n",
       "         'g': 1,\n",
       "         'h': 2,\n",
       "         'b': 3,\n",
       "         'n': 2,\n",
       "         'm': 3,\n",
       "         ',': 1,\n",
       "         'd': 1})"
      ]
     },
     "execution_count": 13,
     "metadata": {},
     "output_type": "execute_result"
    }
   ],
   "source": [
    "mystring"
   ]
  },
  {
   "cell_type": "code",
   "execution_count": 16,
   "id": "af412a08",
   "metadata": {},
   "outputs": [
    {
     "name": "stdout",
     "output_type": "stream",
     "text": [
      "0\n",
      "1\n",
      "2\n",
      "3\n",
      "4\n",
      "5\n",
      "6\n",
      "7\n",
      "8\n",
      "9\n",
      "reached else\n"
     ]
    }
   ],
   "source": [
    "for i in range((10)):\n",
    "    print(i)\n",
    "else:\n",
    "    print(\"reached else\")"
   ]
  },
  {
   "cell_type": "code",
   "execution_count": 19,
   "id": "f5aef7ae",
   "metadata": {},
   "outputs": [
    {
     "name": "stdout",
     "output_type": "stream",
     "text": [
      "0\n",
      "1\n",
      "2\n",
      "3\n",
      "4\n",
      "5\n",
      "6\n",
      "7\n"
     ]
    }
   ],
   "source": [
    "for item in range(10):\n",
    "    print(item)\n",
    "    if item==7: break\n",
    "else:\n",
    "    print(\"reached else\")"
   ]
  },
  {
   "cell_type": "code",
   "execution_count": 24,
   "id": "ff181f02",
   "metadata": {},
   "outputs": [
    {
     "name": "stdout",
     "output_type": "stream",
     "text": [
      "*\n",
      "**\n",
      "***\n",
      "****\n"
     ]
    }
   ],
   "source": [
    "for i in range(1,5):\n",
    "    #print(i)\n",
    "    for j in range(i):\n",
    "        #print(j)\n",
    "        print('*',end='')\n",
    "    print()"
   ]
  },
  {
   "cell_type": "code",
   "execution_count": 30,
   "id": "cbc5f221",
   "metadata": {},
   "outputs": [
    {
     "name": "stdout",
     "output_type": "stream",
     "text": [
      "\n",
      "\n",
      "*\n",
      "**\n",
      "***\n"
     ]
    }
   ],
   "source": [
    "for i in range(1,6):\n",
    "    for j in range(i-1-1):\n",
    "        print('*',end='')\n",
    "    print()\n",
    "    "
   ]
  },
  {
   "cell_type": "code",
   "execution_count": 31,
   "id": "cf2193e9",
   "metadata": {},
   "outputs": [
    {
     "name": "stdout",
     "output_type": "stream",
     "text": [
      "\n",
      "*\n",
      "**\n",
      "***\n",
      "****\n",
      "*****\n"
     ]
    }
   ],
   "source": [
    "i=6\n",
    "while(i>0):\n",
    "    j=6\n",
    "    while(j>i):\n",
    "        print('*',end='')\n",
    "        j-=1\n",
    "    i-=1\n",
    "    print()"
   ]
  },
  {
   "cell_type": "markdown",
   "id": "a4f132e3",
   "metadata": {},
   "source": [
    "# Loop Control Statements in Python"
   ]
  },
  {
   "cell_type": "markdown",
   "id": "7165cd88",
   "metadata": {},
   "source": [
    "1. break statement\n",
    "2. continue statement\n",
    "3. pass statement"
   ]
  },
  {
   "cell_type": "code",
   "execution_count": 32,
   "id": "c0f2e63e",
   "metadata": {},
   "outputs": [
    {
     "name": "stdout",
     "output_type": "stream",
     "text": [
      "b\n",
      "r\n",
      "e\n",
      "a\n"
     ]
    }
   ],
   "source": [
    "for i in 'break':\n",
    "    print(i)\n",
    "    if i=='a': break"
   ]
  },
  {
   "cell_type": "code",
   "execution_count": 33,
   "id": "47aca2a5",
   "metadata": {},
   "outputs": [
    {
     "name": "stdout",
     "output_type": "stream",
     "text": [
      "1\n",
      "2\n",
      "3\n",
      "4\n",
      "5\n",
      "7\n",
      "8\n"
     ]
    }
   ],
   "source": [
    "i=0\n",
    "while (i<8):\n",
    "    i+=1\n",
    "    if (i==6):continue\n",
    "    print(i)"
   ]
  },
  {
   "cell_type": "code",
   "execution_count": null,
   "id": "8434bdc6",
   "metadata": {},
   "outputs": [
    {
     "name": "stdout",
     "output_type": "stream",
     "text": [
      "0\n",
      "1\n",
      "2\n",
      "3\n",
      "4\n",
      "5\n"
     ]
    }
   ],
   "source": [
    "i =0\n",
    "while (i<8):\n",
    "    if (i==6): continue\n",
    "    print(i)\n",
    "    i+=1\n",
    "    "
   ]
  },
  {
   "cell_type": "code",
   "execution_count": null,
   "id": "47239391",
   "metadata": {},
   "outputs": [],
   "source": [
    "for i in 'selfhelp':\n",
    "    pass\n",
    "print(i)"
   ]
  },
  {
   "cell_type": "markdown",
   "id": "54447bb9",
   "metadata": {},
   "source": [
    "# 1. Python Function "
   ]
  },
  {
   "cell_type": "markdown",
   "id": "302501ca",
   "metadata": {},
   "source": [
    "1. User-defined function\n",
    "2. Built-in function\n",
    "3. Lambda function\n",
    "4. Recursion function"
   ]
  },
  {
   "cell_type": "code",
   "execution_count": 1,
   "id": "ab2516d9",
   "metadata": {},
   "outputs": [],
   "source": [
    "def hello():\n",
    "    print(\"hello\")"
   ]
  },
  {
   "cell_type": "code",
   "execution_count": 2,
   "id": "22ae77f7",
   "metadata": {},
   "outputs": [
    {
     "name": "stdout",
     "output_type": "stream",
     "text": [
      "hello\n"
     ]
    }
   ],
   "source": [
    "hello()"
   ]
  },
  {
   "cell_type": "code",
   "execution_count": 3,
   "id": "e6040160",
   "metadata": {},
   "outputs": [],
   "source": [
    "def hello():\n",
    "    \"\"\"\n",
    "    this python function simply prints hello to the screen\n",
    "    \"\"\"\n",
    "    print('hello')"
   ]
  },
  {
   "cell_type": "code",
   "execution_count": 4,
   "id": "ac337d36",
   "metadata": {},
   "outputs": [
    {
     "name": "stdout",
     "output_type": "stream",
     "text": [
      "hello\n"
     ]
    }
   ],
   "source": [
    "hello()"
   ]
  },
  {
   "cell_type": "code",
   "execution_count": 5,
   "id": "93c5bb83",
   "metadata": {},
   "outputs": [
    {
     "data": {
      "text/plain": [
       "'\\n    this python function simply prints hello to the screen\\n    '"
      ]
     },
     "execution_count": 5,
     "metadata": {},
     "output_type": "execute_result"
    }
   ],
   "source": [
    "hello.__doc__"
   ]
  },
  {
   "cell_type": "code",
   "execution_count": 6,
   "id": "b98d156c",
   "metadata": {},
   "outputs": [],
   "source": [
    "def hello1():\n",
    "    pass"
   ]
  },
  {
   "cell_type": "code",
   "execution_count": 7,
   "id": "3c8f8a38",
   "metadata": {},
   "outputs": [],
   "source": [
    "hello1()"
   ]
  },
  {
   "cell_type": "code",
   "execution_count": 8,
   "id": "097f3bdf",
   "metadata": {},
   "outputs": [],
   "source": [
    "def sum1(a,b):\n",
    "    print(f\"{a}+{b}={a+b}\")"
   ]
  },
  {
   "cell_type": "code",
   "execution_count": 9,
   "id": "e14fc93b",
   "metadata": {},
   "outputs": [
    {
     "name": "stdout",
     "output_type": "stream",
     "text": [
      "2+3=5\n"
     ]
    }
   ],
   "source": [
    "sum1(2,3)"
   ]
  },
  {
   "cell_type": "code",
   "execution_count": 10,
   "id": "bb656732",
   "metadata": {},
   "outputs": [],
   "source": [
    "def sum2(a,b):\n",
    "    print(f\"{a}+{b}={a+b}\")"
   ]
  },
  {
   "cell_type": "code",
   "execution_count": 12,
   "id": "d3fc3b63",
   "metadata": {},
   "outputs": [
    {
     "name": "stdout",
     "output_type": "stream",
     "text": [
      "3.0+5=8.0\n"
     ]
    }
   ],
   "source": [
    "sum2(3.0,5)"
   ]
  },
  {
   "cell_type": "code",
   "execution_count": 15,
   "id": "65bdd644",
   "metadata": {},
   "outputs": [],
   "source": [
    "def func1(a):\n",
    "    if a%2==0:\n",
    "        return 0\n",
    "    else:\n",
    "        return 1"
   ]
  },
  {
   "cell_type": "code",
   "execution_count": 16,
   "id": "02baa671",
   "metadata": {},
   "outputs": [
    {
     "data": {
      "text/plain": [
       "1"
      ]
     },
     "execution_count": 16,
     "metadata": {},
     "output_type": "execute_result"
    }
   ],
   "source": [
    "func1(7)"
   ]
  },
  {
   "cell_type": "code",
   "execution_count": 17,
   "id": "900261b7",
   "metadata": {},
   "outputs": [],
   "source": [
    "def total(a,b):\n",
    "    return a+b"
   ]
  },
  {
   "cell_type": "code",
   "execution_count": 18,
   "id": "ebf5c5e4",
   "metadata": {},
   "outputs": [
    {
     "data": {
      "text/plain": [
       "5"
      ]
     },
     "execution_count": 18,
     "metadata": {},
     "output_type": "execute_result"
    }
   ],
   "source": [
    "total(2,3)"
   ]
  },
  {
   "cell_type": "code",
   "execution_count": 19,
   "id": "0af951c9",
   "metadata": {},
   "outputs": [
    {
     "name": "stdout",
     "output_type": "stream",
     "text": [
      "hello\n"
     ]
    }
   ],
   "source": [
    "hello()"
   ]
  },
  {
   "cell_type": "code",
   "execution_count": 20,
   "id": "83b32b68",
   "metadata": {},
   "outputs": [
    {
     "name": "stdout",
     "output_type": "stream",
     "text": [
      "7\n"
     ]
    }
   ],
   "source": [
    "def func3():\n",
    "    x=7\n",
    "    print(x)\n",
    "func3()"
   ]
  },
  {
   "cell_type": "code",
   "execution_count": 21,
   "id": "339154f1",
   "metadata": {},
   "outputs": [
    {
     "name": "stdout",
     "output_type": "stream",
     "text": [
      "7\n"
     ]
    }
   ],
   "source": [
    "y=7\n",
    "def func():\n",
    "    print(y)\n",
    "func()"
   ]
  },
  {
   "cell_type": "code",
   "execution_count": 22,
   "id": "a06c8523",
   "metadata": {},
   "outputs": [
    {
     "name": "stdout",
     "output_type": "stream",
     "text": [
      "8\n"
     ]
    }
   ],
   "source": [
    "def func4():\n",
    "    global y\n",
    "    y+=1\n",
    "    print(y)\n",
    "func4()"
   ]
  },
  {
   "cell_type": "code",
   "execution_count": 23,
   "id": "a8b6349c",
   "metadata": {},
   "outputs": [],
   "source": [
    "def thing(*args):\n",
    "    print(\"now args is \",args)"
   ]
  },
  {
   "cell_type": "code",
   "execution_count": 24,
   "id": "09678a51",
   "metadata": {},
   "outputs": [
    {
     "name": "stdout",
     "output_type": "stream",
     "text": [
      "now args is  (5, 6, 9, 8, 3, 2)\n"
     ]
    }
   ],
   "source": [
    "thing(5,6,9,8,3,2)"
   ]
  },
  {
   "cell_type": "code",
   "execution_count": 25,
   "id": "3111bd99",
   "metadata": {},
   "outputs": [],
   "source": [
    "def login():\n",
    "    username = input(\"username:\")\n",
    "    password = input(\"password:\")\n",
    "    return (username,password)"
   ]
  },
  {
   "cell_type": "code",
   "execution_count": 26,
   "id": "86c7c7c8",
   "metadata": {},
   "outputs": [
    {
     "name": "stdout",
     "output_type": "stream",
     "text": [
      "username:manjunath\n",
      "password:kannur\n"
     ]
    },
    {
     "data": {
      "text/plain": [
       "('manjunath', 'kannur')"
      ]
     },
     "execution_count": 26,
     "metadata": {},
     "output_type": "execute_result"
    }
   ],
   "source": [
    "login()"
   ]
  },
  {
   "cell_type": "code",
   "execution_count": 27,
   "id": "ee778c90",
   "metadata": {},
   "outputs": [
    {
     "name": "stdout",
     "output_type": "stream",
     "text": [
      "username:manjunath\n",
      "password:kannur\n"
     ]
    }
   ],
   "source": [
    "username,password = login()"
   ]
  },
  {
   "cell_type": "code",
   "execution_count": 2,
   "id": "4425a54c",
   "metadata": {},
   "outputs": [],
   "source": [
    "def get_new_info(username):\n",
    "    print(\"changing user information of %s\"%username)\n",
    "    username = input(\"user name:\")\n",
    "    password = input(\"user password:\")\n",
    "    fullname = input(\"full name:\")\n",
    "    phonenumber = input(\"phone number:\")\n",
    "    return (username,password,fullname,phonenumber)"
   ]
  },
  {
   "cell_type": "code",
   "execution_count": 5,
   "id": "fefcc8b0",
   "metadata": {},
   "outputs": [
    {
     "name": "stdout",
     "output_type": "stream",
     "text": [
      "changing user information of 2568\n",
      "user name:manjunath\n",
      "user password:kannur\n",
      "full name:manjunath siddappa kannur\n",
      "phone number:9008094753\n"
     ]
    },
    {
     "data": {
      "text/plain": [
       "('manjunath', 'kannur', 'manjunath siddappa kannur', '9008094753')"
      ]
     },
     "execution_count": 5,
     "metadata": {},
     "output_type": "execute_result"
    }
   ],
   "source": [
    "get_new_info(2568)"
   ]
  },
  {
   "cell_type": "code",
   "execution_count": 6,
   "id": "71f0c54f",
   "metadata": {},
   "outputs": [],
   "source": [
    "class User:\n",
    "    \n",
    "    def change_info(self):\n",
    "        print(\"changing user information of %s\"%self.username)\n",
    "        self.username = input(\"new username\")\n",
    "        self.password = input(\"new password\")\n",
    "        self.fullname = input(\"full name:\")\n",
    "        self.phonenumber = input(\"phone number:\")"
   ]
  },
  {
   "cell_type": "code",
   "execution_count": 7,
   "id": "db606aeb",
   "metadata": {},
   "outputs": [],
   "source": [
    "def thing(*args,**kwargs):\n",
    "    print(\"now args is\",args)"
   ]
  },
  {
   "cell_type": "code",
   "execution_count": 8,
   "id": "439a172a",
   "metadata": {},
   "outputs": [
    {
     "name": "stdout",
     "output_type": "stream",
     "text": [
      "now args is ()\n"
     ]
    }
   ],
   "source": [
    "thing()"
   ]
  },
  {
   "cell_type": "code",
   "execution_count": 9,
   "id": "0256d866",
   "metadata": {},
   "outputs": [
    {
     "name": "stdout",
     "output_type": "stream",
     "text": [
      "now args is (1, 2, 3, 4, 566, 7, 8, 9)\n"
     ]
    }
   ],
   "source": [
    "thing(1,2,3,4,566,7,8,9)"
   ]
  },
  {
   "cell_type": "code",
   "execution_count": 10,
   "id": "7f0be83a",
   "metadata": {},
   "outputs": [],
   "source": [
    "stuff = ['hello','world','test']"
   ]
  },
  {
   "cell_type": "code",
   "execution_count": 11,
   "id": "d85d1cdd",
   "metadata": {},
   "outputs": [
    {
     "data": {
      "text/plain": [
       "['hello', 'world', 'test']"
      ]
     },
     "execution_count": 11,
     "metadata": {},
     "output_type": "execute_result"
    }
   ],
   "source": [
    "stuff"
   ]
  },
  {
   "cell_type": "code",
   "execution_count": 12,
   "id": "7051b054",
   "metadata": {},
   "outputs": [
    {
     "name": "stdout",
     "output_type": "stream",
     "text": [
      "hello world test\n"
     ]
    }
   ],
   "source": [
    "print(*stuff)"
   ]
  },
  {
   "cell_type": "code",
   "execution_count": 13,
   "id": "bff206d9",
   "metadata": {},
   "outputs": [],
   "source": [
    "def thing(**kwargs):\n",
    "    print(\"now kwargs is :\",kwargs)"
   ]
  },
  {
   "cell_type": "code",
   "execution_count": 14,
   "id": "2f0448db",
   "metadata": {},
   "outputs": [
    {
     "name": "stdout",
     "output_type": "stream",
     "text": [
      "now kwargs is : {'a': 1, 'b': 2}\n"
     ]
    }
   ],
   "source": [
    "thing(a=1,b=2)"
   ]
  },
  {
   "cell_type": "code",
   "execution_count": 19,
   "id": "586f7868",
   "metadata": {},
   "outputs": [],
   "source": [
    "def print_box(message,border):\n",
    "    print(border*len(message))\n",
    "    print(message)\n",
    "    print(border*len(message))"
   ]
  },
  {
   "cell_type": "code",
   "execution_count": 20,
   "id": "991053da",
   "metadata": {},
   "outputs": [],
   "source": [
    "kwargs ={'message':'hello word!','border':'*'}"
   ]
  },
  {
   "cell_type": "code",
   "execution_count": 21,
   "id": "59f7b3e9",
   "metadata": {},
   "outputs": [
    {
     "ename": "TypeError",
     "evalue": "'message' is an invalid keyword argument for print()",
     "output_type": "error",
     "traceback": [
      "\u001b[1;31m---------------------------------------------------------------------------\u001b[0m",
      "\u001b[1;31mTypeError\u001b[0m                                 Traceback (most recent call last)",
      "\u001b[1;32m<ipython-input-21-d4e1429338de>\u001b[0m in \u001b[0;36m<module>\u001b[1;34m\u001b[0m\n\u001b[1;32m----> 1\u001b[1;33m \u001b[0mprint\u001b[0m\u001b[1;33m(\u001b[0m\u001b[1;33m**\u001b[0m\u001b[0mkwargs\u001b[0m\u001b[1;33m)\u001b[0m\u001b[1;33m\u001b[0m\u001b[1;33m\u001b[0m\u001b[0m\n\u001b[0m",
      "\u001b[1;31mTypeError\u001b[0m: 'message' is an invalid keyword argument for print()"
     ]
    }
   ],
   "source": [
    "print(**kwargs)"
   ]
  },
  {
   "cell_type": "code",
   "execution_count": 22,
   "id": "89794789",
   "metadata": {},
   "outputs": [
    {
     "name": "stdout",
     "output_type": "stream",
     "text": [
      "7\n"
     ]
    }
   ],
   "source": [
    "def func7():\n",
    "    print(\"7\")\n",
    "func7()"
   ]
  },
  {
   "cell_type": "code",
   "execution_count": 23,
   "id": "693da517",
   "metadata": {},
   "outputs": [
    {
     "ename": "SyntaxError",
     "evalue": "cannot delete function call (<ipython-input-23-6dabef9e1da4>, line 1)",
     "output_type": "error",
     "traceback": [
      "\u001b[1;36m  File \u001b[1;32m\"<ipython-input-23-6dabef9e1da4>\"\u001b[1;36m, line \u001b[1;32m1\u001b[0m\n\u001b[1;33m    del func7()\u001b[0m\n\u001b[1;37m        ^\u001b[0m\n\u001b[1;31mSyntaxError\u001b[0m\u001b[1;31m:\u001b[0m cannot delete function call\n"
     ]
    }
   ],
   "source": [
    "del func7()"
   ]
  },
  {
   "cell_type": "code",
   "execution_count": 24,
   "id": "2c735dc2",
   "metadata": {},
   "outputs": [],
   "source": [
    "myvar = lambda a,b:(a*b)+2"
   ]
  },
  {
   "cell_type": "code",
   "execution_count": 26,
   "id": "e5bf7ba9",
   "metadata": {},
   "outputs": [
    {
     "data": {
      "text/plain": [
       "17"
      ]
     },
     "execution_count": 26,
     "metadata": {},
     "output_type": "execute_result"
    }
   ],
   "source": [
    "myvar(3,5)"
   ]
  },
  {
   "cell_type": "code",
   "execution_count": 27,
   "id": "cb5ed319",
   "metadata": {},
   "outputs": [
    {
     "name": "stdout",
     "output_type": "stream",
     "text": [
      "Collecting git+https://github.com/sat28/githubcommit.gitNote: you may need to restart the kernel to use updated packages.\n"
     ]
    },
    {
     "name": "stderr",
     "output_type": "stream",
     "text": [
      "  Running command git clone -q https://github.com/sat28/githubcommit.git 'C:\\Users\\yaraz\\AppData\\Local\\Temp\\pip-req-build-f5iyh0a1'\n"
     ]
    },
    {
     "name": "stdout",
     "output_type": "stream",
     "text": [
      "\n",
      "  Cloning https://github.com/sat28/githubcommit.git to c:\\users\\yaraz\\appdata\\local\\temp\\pip-req-build-f5iyh0a1\n",
      "Requirement already satisfied: psutil in c:\\users\\yaraz\\anaconda3\\lib\\site-packages (from githubcommit==0.1.0) (5.8.0)\n",
      "Requirement already satisfied: notebook in c:\\users\\yaraz\\anaconda3\\lib\\site-packages (from githubcommit==0.1.0) (6.3.0)\n",
      "Collecting gitpython\n",
      "  Downloading GitPython-3.1.18-py3-none-any.whl (170 kB)\n",
      "Collecting gitdb<5,>=4.0.1\n",
      "  Downloading gitdb-4.0.7-py3-none-any.whl (63 kB)\n",
      "Collecting smmap<5,>=3.0.1\n",
      "  Downloading smmap-4.0.0-py2.py3-none-any.whl (24 kB)\n",
      "Requirement already satisfied: jupyter-core>=4.6.1 in c:\\users\\yaraz\\anaconda3\\lib\\site-packages (from notebook->githubcommit==0.1.0) (4.7.1)\n",
      "Requirement already satisfied: nbconvert in c:\\users\\yaraz\\anaconda3\\lib\\site-packages (from notebook->githubcommit==0.1.0) (6.0.7)\n",
      "Requirement already satisfied: traitlets>=4.2.1 in c:\\users\\yaraz\\anaconda3\\lib\\site-packages (from notebook->githubcommit==0.1.0) (5.0.5)\n",
      "Requirement already satisfied: jinja2 in c:\\users\\yaraz\\anaconda3\\lib\\site-packages (from notebook->githubcommit==0.1.0) (2.11.3)\n",
      "Requirement already satisfied: Send2Trash>=1.5.0 in c:\\users\\yaraz\\anaconda3\\lib\\site-packages (from notebook->githubcommit==0.1.0) (1.5.0)\n",
      "Requirement already satisfied: terminado>=0.8.3 in c:\\users\\yaraz\\anaconda3\\lib\\site-packages (from notebook->githubcommit==0.1.0) (0.9.4)\n",
      "Requirement already satisfied: pyzmq>=17 in c:\\users\\yaraz\\anaconda3\\lib\\site-packages (from notebook->githubcommit==0.1.0) (20.0.0)\n",
      "Requirement already satisfied: jupyter-client>=5.3.4 in c:\\users\\yaraz\\anaconda3\\lib\\site-packages (from notebook->githubcommit==0.1.0) (6.1.12)\n",
      "Requirement already satisfied: ipykernel in c:\\users\\yaraz\\anaconda3\\lib\\site-packages (from notebook->githubcommit==0.1.0) (5.3.4)\n",
      "Requirement already satisfied: prometheus-client in c:\\users\\yaraz\\anaconda3\\lib\\site-packages (from notebook->githubcommit==0.1.0) (0.10.1)\n",
      "Requirement already satisfied: nbformat in c:\\users\\yaraz\\anaconda3\\lib\\site-packages (from notebook->githubcommit==0.1.0) (5.1.3)\n",
      "Requirement already satisfied: ipython-genutils in c:\\users\\yaraz\\anaconda3\\lib\\site-packages (from notebook->githubcommit==0.1.0) (0.2.0)\n",
      "Requirement already satisfied: argon2-cffi in c:\\users\\yaraz\\anaconda3\\lib\\site-packages (from notebook->githubcommit==0.1.0) (20.1.0)\n",
      "Requirement already satisfied: tornado>=6.1 in c:\\users\\yaraz\\anaconda3\\lib\\site-packages (from notebook->githubcommit==0.1.0) (6.1)\n",
      "Requirement already satisfied: python-dateutil>=2.1 in c:\\users\\yaraz\\anaconda3\\lib\\site-packages (from jupyter-client>=5.3.4->notebook->githubcommit==0.1.0) (2.8.1)\n",
      "Requirement already satisfied: pywin32>=1.0 in c:\\users\\yaraz\\anaconda3\\lib\\site-packages (from jupyter-core>=4.6.1->notebook->githubcommit==0.1.0) (227)\n",
      "Requirement already satisfied: six>=1.5 in c:\\users\\yaraz\\anaconda3\\lib\\site-packages (from python-dateutil>=2.1->jupyter-client>=5.3.4->notebook->githubcommit==0.1.0) (1.15.0)\n",
      "Requirement already satisfied: pywinpty>=0.5 in c:\\users\\yaraz\\anaconda3\\lib\\site-packages (from terminado>=0.8.3->notebook->githubcommit==0.1.0) (0.5.7)\n",
      "Requirement already satisfied: cffi>=1.0.0 in c:\\users\\yaraz\\anaconda3\\lib\\site-packages (from argon2-cffi->notebook->githubcommit==0.1.0) (1.14.5)\n",
      "Requirement already satisfied: pycparser in c:\\users\\yaraz\\anaconda3\\lib\\site-packages (from cffi>=1.0.0->argon2-cffi->notebook->githubcommit==0.1.0) (2.20)\n",
      "Requirement already satisfied: ipython>=5.0.0 in c:\\users\\yaraz\\anaconda3\\lib\\site-packages (from ipykernel->notebook->githubcommit==0.1.0) (7.22.0)\n",
      "Requirement already satisfied: prompt-toolkit!=3.0.0,!=3.0.1,<3.1.0,>=2.0.0 in c:\\users\\yaraz\\anaconda3\\lib\\site-packages (from ipython>=5.0.0->ipykernel->notebook->githubcommit==0.1.0) (3.0.17)\n",
      "Requirement already satisfied: decorator in c:\\users\\yaraz\\anaconda3\\lib\\site-packages (from ipython>=5.0.0->ipykernel->notebook->githubcommit==0.1.0) (5.0.6)\n",
      "Requirement already satisfied: colorama in c:\\users\\yaraz\\anaconda3\\lib\\site-packages (from ipython>=5.0.0->ipykernel->notebook->githubcommit==0.1.0) (0.4.4)\n",
      "Requirement already satisfied: backcall in c:\\users\\yaraz\\anaconda3\\lib\\site-packages (from ipython>=5.0.0->ipykernel->notebook->githubcommit==0.1.0) (0.2.0)\n",
      "Requirement already satisfied: jedi>=0.16 in c:\\users\\yaraz\\anaconda3\\lib\\site-packages (from ipython>=5.0.0->ipykernel->notebook->githubcommit==0.1.0) (0.17.2)\n",
      "Requirement already satisfied: setuptools>=18.5 in c:\\users\\yaraz\\anaconda3\\lib\\site-packages (from ipython>=5.0.0->ipykernel->notebook->githubcommit==0.1.0) (52.0.0.post20210125)\n",
      "Requirement already satisfied: pygments in c:\\users\\yaraz\\anaconda3\\lib\\site-packages (from ipython>=5.0.0->ipykernel->notebook->githubcommit==0.1.0) (2.8.1)\n",
      "Requirement already satisfied: pickleshare in c:\\users\\yaraz\\anaconda3\\lib\\site-packages (from ipython>=5.0.0->ipykernel->notebook->githubcommit==0.1.0) (0.7.5)\n",
      "Requirement already satisfied: parso<0.8.0,>=0.7.0 in c:\\users\\yaraz\\anaconda3\\lib\\site-packages (from jedi>=0.16->ipython>=5.0.0->ipykernel->notebook->githubcommit==0.1.0) (0.7.0)\n",
      "Requirement already satisfied: wcwidth in c:\\users\\yaraz\\anaconda3\\lib\\site-packages (from prompt-toolkit!=3.0.0,!=3.0.1,<3.1.0,>=2.0.0->ipython>=5.0.0->ipykernel->notebook->githubcommit==0.1.0) (0.2.5)\n",
      "Requirement already satisfied: MarkupSafe>=0.23 in c:\\users\\yaraz\\anaconda3\\lib\\site-packages (from jinja2->notebook->githubcommit==0.1.0) (1.1.1)\n",
      "Requirement already satisfied: testpath in c:\\users\\yaraz\\anaconda3\\lib\\site-packages (from nbconvert->notebook->githubcommit==0.1.0) (0.4.4)\n",
      "Requirement already satisfied: nbclient<0.6.0,>=0.5.0 in c:\\users\\yaraz\\anaconda3\\lib\\site-packages (from nbconvert->notebook->githubcommit==0.1.0) (0.5.3)\n",
      "Requirement already satisfied: pandocfilters>=1.4.1 in c:\\users\\yaraz\\anaconda3\\lib\\site-packages (from nbconvert->notebook->githubcommit==0.1.0) (1.4.3)\n",
      "Requirement already satisfied: mistune<2,>=0.8.1 in c:\\users\\yaraz\\anaconda3\\lib\\site-packages (from nbconvert->notebook->githubcommit==0.1.0) (0.8.4)\n",
      "Requirement already satisfied: entrypoints>=0.2.2 in c:\\users\\yaraz\\anaconda3\\lib\\site-packages (from nbconvert->notebook->githubcommit==0.1.0) (0.3)\n",
      "Requirement already satisfied: bleach in c:\\users\\yaraz\\anaconda3\\lib\\site-packages (from nbconvert->notebook->githubcommit==0.1.0) (3.3.0)\n",
      "Requirement already satisfied: defusedxml in c:\\users\\yaraz\\anaconda3\\lib\\site-packages (from nbconvert->notebook->githubcommit==0.1.0) (0.7.1)\n",
      "Requirement already satisfied: jupyterlab-pygments in c:\\users\\yaraz\\anaconda3\\lib\\site-packages (from nbconvert->notebook->githubcommit==0.1.0) (0.1.2)\n",
      "Requirement already satisfied: async-generator in c:\\users\\yaraz\\anaconda3\\lib\\site-packages (from nbclient<0.6.0,>=0.5.0->nbconvert->notebook->githubcommit==0.1.0) (1.10)\n",
      "Requirement already satisfied: nest-asyncio in c:\\users\\yaraz\\anaconda3\\lib\\site-packages (from nbclient<0.6.0,>=0.5.0->nbconvert->notebook->githubcommit==0.1.0) (1.5.1)\n",
      "Requirement already satisfied: jsonschema!=2.5.0,>=2.4 in c:\\users\\yaraz\\anaconda3\\lib\\site-packages (from nbformat->notebook->githubcommit==0.1.0) (3.2.0)\n",
      "Requirement already satisfied: pyrsistent>=0.14.0 in c:\\users\\yaraz\\anaconda3\\lib\\site-packages (from jsonschema!=2.5.0,>=2.4->nbformat->notebook->githubcommit==0.1.0) (0.17.3)\n",
      "Requirement already satisfied: attrs>=17.4.0 in c:\\users\\yaraz\\anaconda3\\lib\\site-packages (from jsonschema!=2.5.0,>=2.4->nbformat->notebook->githubcommit==0.1.0) (20.3.0)\n",
      "Requirement already satisfied: packaging in c:\\users\\yaraz\\anaconda3\\lib\\site-packages (from bleach->nbconvert->notebook->githubcommit==0.1.0) (20.9)\n",
      "Requirement already satisfied: webencodings in c:\\users\\yaraz\\anaconda3\\lib\\site-packages (from bleach->nbconvert->notebook->githubcommit==0.1.0) (0.5.1)\n",
      "Requirement already satisfied: pyparsing>=2.0.2 in c:\\users\\yaraz\\anaconda3\\lib\\site-packages (from packaging->bleach->nbconvert->notebook->githubcommit==0.1.0) (2.4.7)\n",
      "Building wheels for collected packages: githubcommit\n",
      "  Building wheel for githubcommit (setup.py): started\n",
      "  Building wheel for githubcommit (setup.py): finished with status 'done'\n",
      "  Created wheel for githubcommit: filename=githubcommit-0.1.0-py3-none-any.whl size=5851 sha256=71a7ebd3ea92c293d72b2f154cd752fd75d643e89b80545afccc57735fdee331\n",
      "  Stored in directory: C:\\Users\\yaraz\\AppData\\Local\\Temp\\pip-ephem-wheel-cache-md_n7bil\\wheels\\8d\\ed\\0c\\00489af68dd1b4b5c2e44c4dec5750b4c53129f94846100eee\n",
      "Successfully built githubcommit\n",
      "Installing collected packages: smmap, gitdb, gitpython, githubcommit\n",
      "Successfully installed gitdb-4.0.7 githubcommit-0.1.0 gitpython-3.1.18 smmap-4.0.0\n"
     ]
    }
   ],
   "source": [
    "pip install git+https://github.com/sat28/githubcommit.git"
   ]
  },
  {
   "cell_type": "code",
   "execution_count": 29,
   "id": "a0d51bcd",
   "metadata": {},
   "outputs": [
    {
     "data": {
      "text/plain": [
       "120"
      ]
     },
     "execution_count": 29,
     "metadata": {},
     "output_type": "execute_result"
    }
   ],
   "source": [
    "def facto(n):\n",
    "    if n==1:\n",
    "        return 1\n",
    "    return n*facto(n-1)\n",
    "facto(5)"
   ]
  },
  {
   "cell_type": "code",
   "execution_count": 30,
   "id": "f319ac31",
   "metadata": {},
   "outputs": [
    {
     "name": "stdout",
     "output_type": "stream",
     "text": [
      "hello\n"
     ]
    }
   ],
   "source": [
    "def sayhello():\n",
    "    \"\"\"\n",
    "    this prints hello\n",
    "    \"\"\"\n",
    "    print(\"hello\")\n",
    "sayhello()"
   ]
  },
  {
   "cell_type": "code",
   "execution_count": 31,
   "id": "c0a8afd9",
   "metadata": {},
   "outputs": [
    {
     "data": {
      "text/plain": [
       "11"
      ]
     },
     "execution_count": 31,
     "metadata": {},
     "output_type": "execute_result"
    }
   ],
   "source": [
    "def sum1(a,b):\n",
    "    return a+b\n",
    "sum1(3,8)"
   ]
  },
  {
   "cell_type": "code",
   "execution_count": 32,
   "id": "2d65f74c",
   "metadata": {},
   "outputs": [
    {
     "data": {
      "text/plain": [
       "10"
      ]
     },
     "execution_count": 32,
     "metadata": {},
     "output_type": "execute_result"
    }
   ],
   "source": [
    "sum1(5,5)"
   ]
  },
  {
   "cell_type": "code",
   "execution_count": 33,
   "id": "262d857e",
   "metadata": {},
   "outputs": [
    {
     "name": "stdout",
     "output_type": "stream",
     "text": [
      "hello,manjunath\n"
     ]
    }
   ],
   "source": [
    "def greeting(name=\"User\"):\n",
    "    print(f\"hello,{name}\")\n",
    "greeting(\"manjunath\")"
   ]
  },
  {
   "cell_type": "code",
   "execution_count": 1,
   "id": "2fcc54af",
   "metadata": {},
   "outputs": [
    {
     "data": {
      "text/plain": [
       "8"
      ]
     },
     "execution_count": 1,
     "metadata": {},
     "output_type": "execute_result"
    }
   ],
   "source": [
    "def sum1(a,b):\n",
    "    return a+b\n",
    "sum1(2,6)"
   ]
  },
  {
   "cell_type": "code",
   "execution_count": 2,
   "id": "70c9a308",
   "metadata": {},
   "outputs": [
    {
     "name": "stdout",
     "output_type": "stream",
     "text": [
      "7\n"
     ]
    }
   ],
   "source": [
    "def func3():\n",
    "    x = 7\n",
    "    print(7)\n",
    "func3()"
   ]
  },
  {
   "cell_type": "code",
   "execution_count": 3,
   "id": "35175343",
   "metadata": {},
   "outputs": [
    {
     "name": "stdout",
     "output_type": "stream",
     "text": [
      "7\n"
     ]
    }
   ],
   "source": [
    "x =7\n",
    "def func4():\n",
    "    print(x)\n",
    "func4()"
   ]
  },
  {
   "cell_type": "code",
   "execution_count": 4,
   "id": "7d8c9756",
   "metadata": {},
   "outputs": [
    {
     "name": "stdout",
     "output_type": "stream",
     "text": [
      "8\n"
     ]
    }
   ],
   "source": [
    "def func5():\n",
    "    global x\n",
    "    x+=1\n",
    "    print(x)\n",
    "func5()"
   ]
  },
  {
   "cell_type": "code",
   "execution_count": 5,
   "id": "7b437b1d",
   "metadata": {},
   "outputs": [
    {
     "name": "stdout",
     "output_type": "stream",
     "text": [
      "1\n"
     ]
    }
   ],
   "source": [
    "def func1():\n",
    "    counter =0\n",
    "    counter+=1\n",
    "    print(counter)\n",
    "func1()"
   ]
  },
  {
   "cell_type": "code",
   "execution_count": 7,
   "id": "fa9c6a13",
   "metadata": {},
   "outputs": [],
   "source": [
    "del func1"
   ]
  },
  {
   "cell_type": "code",
   "execution_count": 9,
   "id": "6b627d77",
   "metadata": {},
   "outputs": [],
   "source": [
    "myvar = lambda a,b :(a*b)+2\n"
   ]
  },
  {
   "cell_type": "code",
   "execution_count": 11,
   "id": "49029162",
   "metadata": {},
   "outputs": [
    {
     "data": {
      "text/plain": [
       "27"
      ]
     },
     "execution_count": 11,
     "metadata": {},
     "output_type": "execute_result"
    }
   ],
   "source": [
    "myvar(5,5)"
   ]
  },
  {
   "cell_type": "code",
   "execution_count": 12,
   "id": "392e3aa7",
   "metadata": {},
   "outputs": [
    {
     "data": {
      "text/plain": [
       "120"
      ]
     },
     "execution_count": 12,
     "metadata": {},
     "output_type": "execute_result"
    }
   ],
   "source": [
    "def facto(n):\n",
    "    if n==1:\n",
    "        return 1\n",
    "    return n*facto(n-1)\n",
    "facto(5)"
   ]
  },
  {
   "cell_type": "markdown",
   "id": "f86c5623",
   "metadata": {},
   "source": [
    "# python function\n",
    "1. User-defined function\n",
    "2. built-in function\n",
    "3. lambda function\n",
    "4. recursion functions"
   ]
  },
  {
   "cell_type": "code",
   "execution_count": 1,
   "id": "dee625a9",
   "metadata": {},
   "outputs": [],
   "source": [
    "def hello():\n",
    "    print(\"hello\")"
   ]
  },
  {
   "cell_type": "code",
   "execution_count": 2,
   "id": "14fcaec4",
   "metadata": {},
   "outputs": [
    {
     "name": "stdout",
     "output_type": "stream",
     "text": [
      "hello\n"
     ]
    }
   ],
   "source": [
    "hello()"
   ]
  },
  {
   "cell_type": "code",
   "execution_count": 3,
   "id": "900d837e",
   "metadata": {},
   "outputs": [],
   "source": [
    "def hello():\n",
    "    \"\"\"\n",
    "    this python function simpy prints hello to the screen\n",
    "    \"\"\"\n",
    "    print(\"hi\")"
   ]
  },
  {
   "cell_type": "code",
   "execution_count": 4,
   "id": "ed009344",
   "metadata": {},
   "outputs": [
    {
     "name": "stdout",
     "output_type": "stream",
     "text": [
      "hi\n"
     ]
    }
   ],
   "source": [
    "hello()"
   ]
  },
  {
   "cell_type": "code",
   "execution_count": 5,
   "id": "28a54faa",
   "metadata": {},
   "outputs": [],
   "source": [
    "def func1():\n",
    "    \"\"\"this is the docstring\n",
    "    \"\"\"\n",
    "    print(\"hello\")"
   ]
  },
  {
   "cell_type": "code",
   "execution_count": 6,
   "id": "0e4e9869",
   "metadata": {},
   "outputs": [
    {
     "data": {
      "text/plain": [
       "'this is the docstring\\n    '"
      ]
     },
     "execution_count": 6,
     "metadata": {},
     "output_type": "execute_result"
    }
   ],
   "source": [
    "func1.__doc__"
   ]
  },
  {
   "cell_type": "code",
   "execution_count": 7,
   "id": "2796a014",
   "metadata": {},
   "outputs": [
    {
     "name": "stdout",
     "output_type": "stream",
     "text": [
      "<class 'str'>\n"
     ]
    }
   ],
   "source": [
    "print(type(func1.__doc__))"
   ]
  },
  {
   "cell_type": "code",
   "execution_count": 8,
   "id": "48cd0dbd",
   "metadata": {},
   "outputs": [],
   "source": [
    "def hello1():\n",
    "    pass\n",
    "hello1()"
   ]
  },
  {
   "cell_type": "markdown",
   "id": "cb267f8e",
   "metadata": {},
   "source": [
    "# python function parameters"
   ]
  },
  {
   "cell_type": "code",
   "execution_count": 9,
   "id": "6f328ffe",
   "metadata": {},
   "outputs": [],
   "source": [
    "def func2(a,b):\n",
    "    print(f\"{a}+{b}={a+b}\")"
   ]
  },
  {
   "cell_type": "code",
   "execution_count": 10,
   "id": "fdf60af6",
   "metadata": {},
   "outputs": [
    {
     "name": "stdout",
     "output_type": "stream",
     "text": [
      "5+6=11\n"
     ]
    }
   ],
   "source": [
    "func2(5,6)"
   ]
  },
  {
   "cell_type": "code",
   "execution_count": 11,
   "id": "f7c7b4f8",
   "metadata": {},
   "outputs": [
    {
     "name": "stdout",
     "output_type": "stream",
     "text": [
      "5+5=10\n"
     ]
    }
   ],
   "source": [
    "def func3(a,b):\n",
    "    print(f\"{a}+{b}={a+b}\")\n",
    "func3(5,5)"
   ]
  },
  {
   "cell_type": "code",
   "execution_count": 12,
   "id": "39fa5609",
   "metadata": {},
   "outputs": [
    {
     "ename": "TypeError",
     "evalue": "can only concatenate str (not \"int\") to str",
     "output_type": "error",
     "traceback": [
      "\u001b[1;31m---------------------------------------------------------------------------\u001b[0m",
      "\u001b[1;31mTypeError\u001b[0m                                 Traceback (most recent call last)",
      "\u001b[1;32m~\\AppData\\Local\\Temp/ipykernel_13740/1116248750.py\u001b[0m in \u001b[0;36m<module>\u001b[1;34m\u001b[0m\n\u001b[1;32m----> 1\u001b[1;33m \u001b[0mfunc3\u001b[0m\u001b[1;33m(\u001b[0m\u001b[1;34m'hello'\u001b[0m\u001b[1;33m,\u001b[0m\u001b[1;36m5\u001b[0m\u001b[1;33m)\u001b[0m\u001b[1;33m\u001b[0m\u001b[1;33m\u001b[0m\u001b[0m\n\u001b[0m",
      "\u001b[1;32m~\\AppData\\Local\\Temp/ipykernel_13740/795504980.py\u001b[0m in \u001b[0;36mfunc3\u001b[1;34m(a, b)\u001b[0m\n\u001b[0;32m      1\u001b[0m \u001b[1;32mdef\u001b[0m \u001b[0mfunc3\u001b[0m\u001b[1;33m(\u001b[0m\u001b[0ma\u001b[0m\u001b[1;33m,\u001b[0m\u001b[0mb\u001b[0m\u001b[1;33m)\u001b[0m\u001b[1;33m:\u001b[0m\u001b[1;33m\u001b[0m\u001b[1;33m\u001b[0m\u001b[0m\n\u001b[1;32m----> 2\u001b[1;33m     \u001b[0mprint\u001b[0m\u001b[1;33m(\u001b[0m\u001b[1;34mf\"{a}+{b}={a+b}\"\u001b[0m\u001b[1;33m)\u001b[0m\u001b[1;33m\u001b[0m\u001b[1;33m\u001b[0m\u001b[0m\n\u001b[0m\u001b[0;32m      3\u001b[0m \u001b[0mfunc3\u001b[0m\u001b[1;33m(\u001b[0m\u001b[1;36m5\u001b[0m\u001b[1;33m,\u001b[0m\u001b[1;36m5\u001b[0m\u001b[1;33m)\u001b[0m\u001b[1;33m\u001b[0m\u001b[1;33m\u001b[0m\u001b[0m\n",
      "\u001b[1;31mTypeError\u001b[0m: can only concatenate str (not \"int\") to str"
     ]
    }
   ],
   "source": [
    "func3('hello',5)"
   ]
  },
  {
   "cell_type": "code",
   "execution_count": 13,
   "id": "0df4c3c1",
   "metadata": {},
   "outputs": [
    {
     "data": {
      "text/plain": [
       "1"
      ]
     },
     "execution_count": 13,
     "metadata": {},
     "output_type": "execute_result"
    }
   ],
   "source": [
    "def func4(a):\n",
    "    if a%2==0:\n",
    "        return 0\n",
    "    else:\n",
    "        return 1\n",
    "func4(7)"
   ]
  },
  {
   "cell_type": "code",
   "execution_count": 14,
   "id": "0dc5297c",
   "metadata": {},
   "outputs": [
    {
     "data": {
      "text/plain": [
       "10"
      ]
     },
     "execution_count": 14,
     "metadata": {},
     "output_type": "execute_result"
    }
   ],
   "source": [
    "def total(a,b):\n",
    "    return a+b\n",
    "total(5,5)"
   ]
  },
  {
   "cell_type": "code",
   "execution_count": 15,
   "id": "e807291e",
   "metadata": {},
   "outputs": [
    {
     "name": "stdout",
     "output_type": "stream",
     "text": [
      "7\n"
     ]
    }
   ],
   "source": [
    "def func5():\n",
    "    x=7\n",
    "    print(x)\n",
    "func5()"
   ]
  },
  {
   "cell_type": "code",
   "execution_count": 16,
   "id": "8022536b",
   "metadata": {},
   "outputs": [
    {
     "ename": "NameError",
     "evalue": "name 'x' is not defined",
     "output_type": "error",
     "traceback": [
      "\u001b[1;31m---------------------------------------------------------------------------\u001b[0m",
      "\u001b[1;31mNameError\u001b[0m                                 Traceback (most recent call last)",
      "\u001b[1;32m~\\AppData\\Local\\Temp/ipykernel_13740/32546335.py\u001b[0m in \u001b[0;36m<module>\u001b[1;34m\u001b[0m\n\u001b[1;32m----> 1\u001b[1;33m \u001b[0mx\u001b[0m\u001b[1;33m\u001b[0m\u001b[1;33m\u001b[0m\u001b[0m\n\u001b[0m",
      "\u001b[1;31mNameError\u001b[0m: name 'x' is not defined"
     ]
    }
   ],
   "source": [
    "x"
   ]
  },
  {
   "cell_type": "code",
   "execution_count": 17,
   "id": "387001fc",
   "metadata": {},
   "outputs": [],
   "source": [
    "y =7"
   ]
  },
  {
   "cell_type": "code",
   "execution_count": 18,
   "id": "8814d75e",
   "metadata": {},
   "outputs": [
    {
     "name": "stdout",
     "output_type": "stream",
     "text": [
      "7\n"
     ]
    }
   ],
   "source": [
    "def func6():\n",
    "    print(y)\n",
    "func6()"
   ]
  },
  {
   "cell_type": "code",
   "execution_count": 19,
   "id": "07a044f0",
   "metadata": {},
   "outputs": [
    {
     "name": "stdout",
     "output_type": "stream",
     "text": [
      "8\n"
     ]
    }
   ],
   "source": [
    "def func7():\n",
    "    global y\n",
    "    y+=1\n",
    "    print(y)\n",
    "func7()"
   ]
  },
  {
   "cell_type": "code",
   "execution_count": 20,
   "id": "2e259bc0",
   "metadata": {},
   "outputs": [
    {
     "name": "stdout",
     "output_type": "stream",
     "text": [
      "1\n"
     ]
    }
   ],
   "source": [
    "def func8():\n",
    "    counter = 0\n",
    "    counter+=1\n",
    "    print(counter)\n",
    "func8()"
   ]
  },
  {
   "cell_type": "code",
   "execution_count": 21,
   "id": "0ba121e0",
   "metadata": {},
   "outputs": [
    {
     "name": "stdout",
     "output_type": "stream",
     "text": [
      "9\n"
     ]
    }
   ],
   "source": [
    "def func9():\n",
    "    print(\"9\")\n",
    "func9()"
   ]
  },
  {
   "cell_type": "code",
   "execution_count": 22,
   "id": "ede2379c",
   "metadata": {},
   "outputs": [],
   "source": [
    "myvar = lambda a,b :(a*b)+2"
   ]
  },
  {
   "cell_type": "code",
   "execution_count": 23,
   "id": "62fb44aa",
   "metadata": {},
   "outputs": [
    {
     "data": {
      "text/plain": [
       "7"
      ]
     },
     "execution_count": 23,
     "metadata": {},
     "output_type": "execute_result"
    }
   ],
   "source": [
    "myvar(1,5)"
   ]
  },
  {
   "cell_type": "code",
   "execution_count": 25,
   "id": "75f12103",
   "metadata": {},
   "outputs": [
    {
     "data": {
      "text/plain": [
       "120"
      ]
     },
     "execution_count": 25,
     "metadata": {},
     "output_type": "execute_result"
    }
   ],
   "source": [
    "def facto(n):\n",
    "    if n==1:\n",
    "        return 1\n",
    "    return n*facto(n-1)\n",
    "facto(5)"
   ]
  },
  {
   "cell_type": "code",
   "execution_count": 26,
   "id": "a93fa4ef",
   "metadata": {},
   "outputs": [
    {
     "data": {
      "text/plain": [
       "720"
      ]
     },
     "execution_count": 26,
     "metadata": {},
     "output_type": "execute_result"
    }
   ],
   "source": [
    "facto(6)"
   ]
  },
  {
   "cell_type": "code",
   "execution_count": 27,
   "id": "4efba9d0",
   "metadata": {},
   "outputs": [
    {
     "data": {
      "text/plain": [
       "2"
      ]
     },
     "execution_count": 27,
     "metadata": {},
     "output_type": "execute_result"
    }
   ],
   "source": [
    "facto(2)"
   ]
  },
  {
   "cell_type": "code",
   "execution_count": 28,
   "id": "b09a6e2b",
   "metadata": {},
   "outputs": [
    {
     "data": {
      "text/plain": [
       "6"
      ]
     },
     "execution_count": 28,
     "metadata": {},
     "output_type": "execute_result"
    }
   ],
   "source": [
    "facto(3)"
   ]
  },
  {
   "cell_type": "code",
   "execution_count": 29,
   "id": "a089a5f1",
   "metadata": {},
   "outputs": [
    {
     "data": {
      "text/plain": [
       "24"
      ]
     },
     "execution_count": 29,
     "metadata": {},
     "output_type": "execute_result"
    }
   ],
   "source": [
    "facto(4)"
   ]
  },
  {
   "cell_type": "code",
   "execution_count": 30,
   "id": "de2bc13a",
   "metadata": {},
   "outputs": [
    {
     "data": {
      "text/plain": [
       "120"
      ]
     },
     "execution_count": 30,
     "metadata": {},
     "output_type": "execute_result"
    }
   ],
   "source": [
    "facto(5)"
   ]
  },
  {
   "cell_type": "code",
   "execution_count": 32,
   "id": "7da26372",
   "metadata": {},
   "outputs": [],
   "source": [
    "def sayhello():\n",
    "    \"\"\"\n",
    "    this prints hello\n",
    "    \"\"\"\n",
    "    print(\"hello\")"
   ]
  },
  {
   "cell_type": "code",
   "execution_count": 33,
   "id": "52370769",
   "metadata": {},
   "outputs": [
    {
     "name": "stdout",
     "output_type": "stream",
     "text": [
      "hello\n"
     ]
    }
   ],
   "source": [
    "sayhello()"
   ]
  },
  {
   "cell_type": "code",
   "execution_count": 34,
   "id": "716784fb",
   "metadata": {},
   "outputs": [
    {
     "data": {
      "text/plain": [
       "<function __main__.sayhello()>"
      ]
     },
     "execution_count": 34,
     "metadata": {},
     "output_type": "execute_result"
    }
   ],
   "source": [
    "sayhello"
   ]
  },
  {
   "cell_type": "code",
   "execution_count": 35,
   "id": "c0ffda36",
   "metadata": {},
   "outputs": [
    {
     "name": "stdout",
     "output_type": "stream",
     "text": [
      "hello\n"
     ]
    }
   ],
   "source": [
    "sayhello()"
   ]
  },
  {
   "cell_type": "code",
   "execution_count": 36,
   "id": "b0f81af8",
   "metadata": {},
   "outputs": [
    {
     "data": {
      "text/plain": [
       "10"
      ]
     },
     "execution_count": 36,
     "metadata": {},
     "output_type": "execute_result"
    }
   ],
   "source": [
    "def tag(a,b):\n",
    "    return a+b\n",
    "tag(5,5)"
   ]
  },
  {
   "cell_type": "code",
   "execution_count": 37,
   "id": "c362581f",
   "metadata": {},
   "outputs": [
    {
     "name": "stdout",
     "output_type": "stream",
     "text": [
      "hello {'manjunath'}\n"
     ]
    }
   ],
   "source": [
    "def greetings(name =\"user\"):\n",
    "    print(f\"hello\",{name})\n",
    "greetings(\"manjunath\")"
   ]
  },
  {
   "cell_type": "code",
   "execution_count": 38,
   "id": "24eabe5e",
   "metadata": {},
   "outputs": [
    {
     "name": "stdout",
     "output_type": "stream",
     "text": [
      "hello {'kannur'}\n"
     ]
    }
   ],
   "source": [
    "greetings(\"kannur\")"
   ]
  },
  {
   "cell_type": "code",
   "execution_count": 39,
   "id": "4adcd9e3",
   "metadata": {},
   "outputs": [
    {
     "name": "stdout",
     "output_type": "stream",
     "text": [
      "<class 'function'>\n"
     ]
    }
   ],
   "source": [
    "print(type(greetings))"
   ]
  },
  {
   "cell_type": "code",
   "execution_count": 40,
   "id": "3c88d4b1",
   "metadata": {},
   "outputs": [
    {
     "ename": "SyntaxError",
     "evalue": "non-default argument follows default argument (Temp/ipykernel_13740/701477428.py, line 1)",
     "output_type": "error",
     "traceback": [
      "\u001b[1;36m  File \u001b[1;32m\"C:\\Users\\yaraz\\AppData\\Local\\Temp/ipykernel_13740/701477428.py\"\u001b[1;36m, line \u001b[1;32m1\u001b[0m\n\u001b[1;33m    def total(a=1,b):\u001b[0m\n\u001b[1;37m                   ^\u001b[0m\n\u001b[1;31mSyntaxError\u001b[0m\u001b[1;31m:\u001b[0m non-default argument follows default argument\n"
     ]
    }
   ],
   "source": [
    "def total(a=1,b):\n",
    "    return a+b"
   ]
  },
  {
   "cell_type": "code",
   "execution_count": 41,
   "id": "10e739e0",
   "metadata": {},
   "outputs": [
    {
     "data": {
      "text/plain": [
       "0.6"
      ]
     },
     "execution_count": 41,
     "metadata": {},
     "output_type": "execute_result"
    }
   ],
   "source": [
    "def divide(a,b):\n",
    "    return a/b\n",
    "divide(3,5)"
   ]
  },
  {
   "cell_type": "code",
   "execution_count": 42,
   "id": "0e6102a7",
   "metadata": {},
   "outputs": [
    {
     "data": {
      "text/plain": [
       "0.14285714285714285"
      ]
     },
     "execution_count": 42,
     "metadata": {},
     "output_type": "execute_result"
    }
   ],
   "source": [
    "divide(a=1,b=7)"
   ]
  },
  {
   "cell_type": "code",
   "execution_count": 43,
   "id": "09124d04",
   "metadata": {},
   "outputs": [
    {
     "ename": "SyntaxError",
     "evalue": "positional argument follows keyword argument (Temp/ipykernel_13740/2232875684.py, line 1)",
     "output_type": "error",
     "traceback": [
      "\u001b[1;36m  File \u001b[1;32m\"C:\\Users\\yaraz\\AppData\\Local\\Temp/ipykernel_13740/2232875684.py\"\u001b[1;36m, line \u001b[1;32m1\u001b[0m\n\u001b[1;33m    divide(b=2,1)\u001b[0m\n\u001b[1;37m                ^\u001b[0m\n\u001b[1;31mSyntaxError\u001b[0m\u001b[1;31m:\u001b[0m positional argument follows keyword argument\n"
     ]
    }
   ],
   "source": [
    "divide(b=2,1)"
   ]
  },
  {
   "cell_type": "code",
   "execution_count": 44,
   "id": "81dfa2f2",
   "metadata": {},
   "outputs": [],
   "source": [
    "def sayhello(*names):\n",
    "    for name in names:\n",
    "        print(f\"hello\",{name})"
   ]
  },
  {
   "cell_type": "code",
   "execution_count": 45,
   "id": "05584f81",
   "metadata": {},
   "outputs": [],
   "source": [
    "sayhello()"
   ]
  },
  {
   "cell_type": "code",
   "execution_count": 46,
   "id": "45bcccf6",
   "metadata": {},
   "outputs": [
    {
     "name": "stdout",
     "output_type": "stream",
     "text": [
      "hello {'manjunath'}\n"
     ]
    }
   ],
   "source": [
    "sayhello(\"manjunath\")"
   ]
  },
  {
   "cell_type": "code",
   "execution_count": 47,
   "id": "6ee63eac",
   "metadata": {},
   "outputs": [
    {
     "name": "stdout",
     "output_type": "stream",
     "text": [
      "hello {'kannur'}\n",
      "hello {'manjunath'}\n"
     ]
    }
   ],
   "source": [
    "sayhello(\"kannur\",'manjunath')"
   ]
  },
  {
   "cell_type": "code",
   "execution_count": 48,
   "id": "65c13121",
   "metadata": {},
   "outputs": [
    {
     "name": "stdout",
     "output_type": "stream",
     "text": [
      "hello {'yarazari'}\n",
      "hello {'jack'}\n",
      "hello {'king'}\n",
      "hello {'to be an identity'}\n"
     ]
    }
   ],
   "source": [
    "sayhello(\"yarazari\",'jack','king','to be an identity')"
   ]
  },
  {
   "cell_type": "markdown",
   "id": "e763dba5",
   "metadata": {},
   "source": [
    "# Python Built-In Functions"
   ]
  },
  {
   "cell_type": "code",
   "execution_count": 49,
   "id": "65a62057",
   "metadata": {},
   "outputs": [
    {
     "data": {
      "text/plain": [
       "7"
      ]
     },
     "execution_count": 49,
     "metadata": {},
     "output_type": "execute_result"
    }
   ],
   "source": [
    "abs(-7)"
   ]
  },
  {
   "cell_type": "code",
   "execution_count": 50,
   "id": "5c3bdf9a",
   "metadata": {},
   "outputs": [
    {
     "data": {
      "text/plain": [
       "0"
      ]
     },
     "execution_count": 50,
     "metadata": {},
     "output_type": "execute_result"
    }
   ],
   "source": [
    "abs(0)"
   ]
  },
  {
   "cell_type": "code",
   "execution_count": 51,
   "id": "4a963de1",
   "metadata": {},
   "outputs": [
    {
     "data": {
      "text/plain": [
       "False"
      ]
     },
     "execution_count": 51,
     "metadata": {},
     "output_type": "execute_result"
    }
   ],
   "source": [
    "all({'*','',''})"
   ]
  },
  {
   "cell_type": "code",
   "execution_count": 53,
   "id": "2f031c3b",
   "metadata": {},
   "outputs": [
    {
     "data": {
      "text/plain": [
       "False"
      ]
     },
     "execution_count": 53,
     "metadata": {},
     "output_type": "execute_result"
    }
   ],
   "source": [
    "all(['','',''])"
   ]
  },
  {
   "cell_type": "code",
   "execution_count": 54,
   "id": "87080d6c",
   "metadata": {},
   "outputs": [
    {
     "data": {
      "text/plain": [
       "True"
      ]
     },
     "execution_count": 54,
     "metadata": {},
     "output_type": "execute_result"
    }
   ],
   "source": [
    "any((1,3,5))"
   ]
  },
  {
   "cell_type": "code",
   "execution_count": 55,
   "id": "fdfaee72",
   "metadata": {},
   "outputs": [
    {
     "data": {
      "text/plain": [
       "'0b111'"
      ]
     },
     "execution_count": 55,
     "metadata": {},
     "output_type": "execute_result"
    }
   ],
   "source": [
    "bin(7)"
   ]
  },
  {
   "cell_type": "code",
   "execution_count": 56,
   "id": "b2599bff",
   "metadata": {},
   "outputs": [
    {
     "data": {
      "text/plain": [
       "'0b0'"
      ]
     },
     "execution_count": 56,
     "metadata": {},
     "output_type": "execute_result"
    }
   ],
   "source": [
    "bin(0)"
   ]
  },
  {
   "cell_type": "code",
   "execution_count": 57,
   "id": "6f5698d8",
   "metadata": {},
   "outputs": [
    {
     "data": {
      "text/plain": [
       "'0b1'"
      ]
     },
     "execution_count": 57,
     "metadata": {},
     "output_type": "execute_result"
    }
   ],
   "source": [
    "bin(1)"
   ]
  },
  {
   "cell_type": "code",
   "execution_count": 58,
   "id": "dd522245",
   "metadata": {},
   "outputs": [
    {
     "data": {
      "text/plain": [
       "'0b10'"
      ]
     },
     "execution_count": 58,
     "metadata": {},
     "output_type": "execute_result"
    }
   ],
   "source": [
    "bin(2)"
   ]
  },
  {
   "cell_type": "code",
   "execution_count": 59,
   "id": "246bd0b0",
   "metadata": {},
   "outputs": [
    {
     "ename": "TypeError",
     "evalue": "'float' object cannot be interpreted as an integer",
     "output_type": "error",
     "traceback": [
      "\u001b[1;31m---------------------------------------------------------------------------\u001b[0m",
      "\u001b[1;31mTypeError\u001b[0m                                 Traceback (most recent call last)",
      "\u001b[1;32m~\\AppData\\Local\\Temp/ipykernel_13740/4226291129.py\u001b[0m in \u001b[0;36m<module>\u001b[1;34m\u001b[0m\n\u001b[1;32m----> 1\u001b[1;33m \u001b[0mbin\u001b[0m\u001b[1;33m(\u001b[0m\u001b[1;36m7.0\u001b[0m\u001b[1;33m)\u001b[0m\u001b[1;33m\u001b[0m\u001b[1;33m\u001b[0m\u001b[0m\n\u001b[0m",
      "\u001b[1;31mTypeError\u001b[0m: 'float' object cannot be interpreted as an integer"
     ]
    }
   ],
   "source": [
    "bin(7.0)"
   ]
  },
  {
   "cell_type": "code",
   "execution_count": 60,
   "id": "801358fa",
   "metadata": {},
   "outputs": [
    {
     "data": {
      "text/plain": [
       "True"
      ]
     },
     "execution_count": 60,
     "metadata": {},
     "output_type": "execute_result"
    }
   ],
   "source": [
    "bool(0.5)"
   ]
  },
  {
   "cell_type": "code",
   "execution_count": 61,
   "id": "6ed51349",
   "metadata": {},
   "outputs": [
    {
     "data": {
      "text/plain": [
       "False"
      ]
     },
     "execution_count": 61,
     "metadata": {},
     "output_type": "execute_result"
    }
   ],
   "source": [
    "bool('')"
   ]
  },
  {
   "cell_type": "code",
   "execution_count": 62,
   "id": "7eb60ebe",
   "metadata": {},
   "outputs": [],
   "source": [
    "a =bytearray(5)"
   ]
  },
  {
   "cell_type": "code",
   "execution_count": 63,
   "id": "77a674cf",
   "metadata": {},
   "outputs": [
    {
     "data": {
      "text/plain": [
       "bytearray(b'\\x00\\x00\\x00\\x00\\x00')"
      ]
     },
     "execution_count": 63,
     "metadata": {},
     "output_type": "execute_result"
    }
   ],
   "source": [
    "a"
   ]
  },
  {
   "cell_type": "code",
   "execution_count": 64,
   "id": "dd3b511f",
   "metadata": {},
   "outputs": [],
   "source": [
    "a.append(5)"
   ]
  },
  {
   "cell_type": "code",
   "execution_count": 65,
   "id": "eae8a896",
   "metadata": {},
   "outputs": [
    {
     "data": {
      "text/plain": [
       "bytearray(b'\\x00\\x00\\x00\\x00\\x00\\x05')"
      ]
     },
     "execution_count": 65,
     "metadata": {},
     "output_type": "execute_result"
    }
   ],
   "source": [
    "a"
   ]
  },
  {
   "cell_type": "code",
   "execution_count": 66,
   "id": "150ce0ae",
   "metadata": {},
   "outputs": [],
   "source": [
    "a[0]=1"
   ]
  },
  {
   "cell_type": "code",
   "execution_count": 67,
   "id": "388259be",
   "metadata": {},
   "outputs": [
    {
     "data": {
      "text/plain": [
       "bytearray(b'\\x01\\x00\\x00\\x00\\x00\\x05')"
      ]
     },
     "execution_count": 67,
     "metadata": {},
     "output_type": "execute_result"
    }
   ],
   "source": [
    "a"
   ]
  },
  {
   "cell_type": "code",
   "execution_count": 68,
   "id": "c8b948c4",
   "metadata": {},
   "outputs": [
    {
     "data": {
      "text/plain": [
       "1"
      ]
     },
     "execution_count": 68,
     "metadata": {},
     "output_type": "execute_result"
    }
   ],
   "source": [
    "a[0]"
   ]
  },
  {
   "cell_type": "code",
   "execution_count": 69,
   "id": "4103cfd3",
   "metadata": {},
   "outputs": [
    {
     "data": {
      "text/plain": [
       "bytearray(b'\\x01\\x02\\x03')"
      ]
     },
     "execution_count": 69,
     "metadata": {},
     "output_type": "execute_result"
    }
   ],
   "source": [
    "bytearray([1,2,3])"
   ]
  },
  {
   "cell_type": "code",
   "execution_count": 70,
   "id": "362c2339",
   "metadata": {},
   "outputs": [
    {
     "data": {
      "text/plain": [
       "b'\\x00\\x00\\x00\\x00\\x00'"
      ]
     },
     "execution_count": 70,
     "metadata": {},
     "output_type": "execute_result"
    }
   ],
   "source": [
    "bytes(5)"
   ]
  },
  {
   "cell_type": "code",
   "execution_count": 71,
   "id": "b9f55404",
   "metadata": {},
   "outputs": [
    {
     "data": {
      "text/plain": [
       "b'\\x01\\x02\\x03\\x04\\x05\\x06'"
      ]
     },
     "execution_count": 71,
     "metadata": {},
     "output_type": "execute_result"
    }
   ],
   "source": [
    "bytes([1,2,3,4,5,6])"
   ]
  },
  {
   "cell_type": "code",
   "execution_count": 72,
   "id": "fe6354a5",
   "metadata": {},
   "outputs": [
    {
     "data": {
      "text/plain": [
       "False"
      ]
     },
     "execution_count": 72,
     "metadata": {},
     "output_type": "execute_result"
    }
   ],
   "source": [
    "callable([1,2,3])"
   ]
  },
  {
   "cell_type": "code",
   "execution_count": 73,
   "id": "aef7a9e8",
   "metadata": {},
   "outputs": [
    {
     "data": {
      "text/plain": [
       "'A'"
      ]
     },
     "execution_count": 73,
     "metadata": {},
     "output_type": "execute_result"
    }
   ],
   "source": [
    "chr(65)"
   ]
  },
  {
   "cell_type": "code",
   "execution_count": 74,
   "id": "42069dec",
   "metadata": {},
   "outputs": [
    {
     "data": {
      "text/plain": [
       "'b'"
      ]
     },
     "execution_count": 74,
     "metadata": {},
     "output_type": "execute_result"
    }
   ],
   "source": [
    "chr(98)"
   ]
  },
  {
   "cell_type": "code",
   "execution_count": 75,
   "id": "3a72b6c8",
   "metadata": {},
   "outputs": [
    {
     "data": {
      "text/plain": [
       "'\\t'"
      ]
     },
     "execution_count": 75,
     "metadata": {},
     "output_type": "execute_result"
    }
   ],
   "source": [
    "chr(9)"
   ]
  },
  {
   "cell_type": "code",
   "execution_count": 76,
   "id": "b767d789",
   "metadata": {},
   "outputs": [
    {
     "data": {
      "text/plain": [
       "'0'"
      ]
     },
     "execution_count": 76,
     "metadata": {},
     "output_type": "execute_result"
    }
   ],
   "source": [
    "chr(48)"
   ]
  },
  {
   "cell_type": "code",
   "execution_count": 79,
   "id": "b63600d8",
   "metadata": {},
   "outputs": [],
   "source": [
    "class fruit:\n",
    "    def sayhi(self):\n",
    "        print(\"hi i'm a fruit\")"
   ]
  },
  {
   "cell_type": "code",
   "execution_count": 81,
   "id": "62a08414",
   "metadata": {},
   "outputs": [],
   "source": [
    "fruit.sayhi=classmethod(fruit.sayhi)"
   ]
  },
  {
   "cell_type": "code",
   "execution_count": 82,
   "id": "a20cb3f3",
   "metadata": {},
   "outputs": [
    {
     "name": "stdout",
     "output_type": "stream",
     "text": [
      "hi i'm a fruit\n"
     ]
    }
   ],
   "source": [
    "fruit.sayhi()"
   ]
  },
  {
   "cell_type": "code",
   "execution_count": 83,
   "id": "e707decd",
   "metadata": {},
   "outputs": [
    {
     "data": {
      "text/plain": [
       "(3+0j)"
      ]
     },
     "execution_count": 83,
     "metadata": {},
     "output_type": "execute_result"
    }
   ],
   "source": [
    "complex(3)"
   ]
  },
  {
   "cell_type": "code",
   "execution_count": 84,
   "id": "5b0267d9",
   "metadata": {},
   "outputs": [
    {
     "data": {
      "text/plain": [
       "(3.5+0j)"
      ]
     },
     "execution_count": 84,
     "metadata": {},
     "output_type": "execute_result"
    }
   ],
   "source": [
    "complex(3.5+0j)"
   ]
  },
  {
   "cell_type": "code",
   "execution_count": 85,
   "id": "b01ed4d6",
   "metadata": {},
   "outputs": [
    {
     "data": {
      "text/plain": [
       "7"
      ]
     },
     "execution_count": 85,
     "metadata": {},
     "output_type": "execute_result"
    }
   ],
   "source": [
    "class fruit:\n",
    "    size =7\n",
    "orange = fruit()\n",
    "orange.size"
   ]
  },
  {
   "cell_type": "code",
   "execution_count": 86,
   "id": "7a3dc15c",
   "metadata": {},
   "outputs": [
    {
     "ename": "AttributeError",
     "evalue": "'fruit' object has no attribute 'size'",
     "output_type": "error",
     "traceback": [
      "\u001b[1;31m---------------------------------------------------------------------------\u001b[0m",
      "\u001b[1;31mAttributeError\u001b[0m                            Traceback (most recent call last)",
      "\u001b[1;32m~\\AppData\\Local\\Temp/ipykernel_13740/1271638745.py\u001b[0m in \u001b[0;36m<module>\u001b[1;34m\u001b[0m\n\u001b[0;32m      1\u001b[0m \u001b[0mdelattr\u001b[0m\u001b[1;33m(\u001b[0m\u001b[0mfruit\u001b[0m\u001b[1;33m,\u001b[0m\u001b[1;34m'size'\u001b[0m\u001b[1;33m)\u001b[0m\u001b[1;33m\u001b[0m\u001b[1;33m\u001b[0m\u001b[0m\n\u001b[1;32m----> 2\u001b[1;33m \u001b[0morange\u001b[0m\u001b[1;33m.\u001b[0m\u001b[0msize\u001b[0m\u001b[1;33m\u001b[0m\u001b[1;33m\u001b[0m\u001b[0m\n\u001b[0m",
      "\u001b[1;31mAttributeError\u001b[0m: 'fruit' object has no attribute 'size'"
     ]
    }
   ],
   "source": [
    "delattr(fruit,'size')\n",
    "orange.size"
   ]
  },
  {
   "cell_type": "code",
   "execution_count": 87,
   "id": "56869b80",
   "metadata": {},
   "outputs": [
    {
     "data": {
      "text/plain": [
       "{}"
      ]
     },
     "execution_count": 87,
     "metadata": {},
     "output_type": "execute_result"
    }
   ],
   "source": [
    "dict()"
   ]
  },
  {
   "cell_type": "code",
   "execution_count": 88,
   "id": "a1364619",
   "metadata": {},
   "outputs": [
    {
     "data": {
      "text/plain": [
       "{1: 2, 3: 4}"
      ]
     },
     "execution_count": 88,
     "metadata": {},
     "output_type": "execute_result"
    }
   ],
   "source": [
    "dict([(1,2),(3,4)])"
   ]
  },
  {
   "cell_type": "code",
   "execution_count": 89,
   "id": "71b5bf9b",
   "metadata": {},
   "outputs": [
    {
     "data": {
      "text/plain": [
       "['__class__',\n",
       " '__delattr__',\n",
       " '__dict__',\n",
       " '__dir__',\n",
       " '__doc__',\n",
       " '__eq__',\n",
       " '__format__',\n",
       " '__ge__',\n",
       " '__getattribute__',\n",
       " '__gt__',\n",
       " '__hash__',\n",
       " '__init__',\n",
       " '__init_subclass__',\n",
       " '__le__',\n",
       " '__lt__',\n",
       " '__module__',\n",
       " '__ne__',\n",
       " '__new__',\n",
       " '__reduce__',\n",
       " '__reduce_ex__',\n",
       " '__repr__',\n",
       " '__setattr__',\n",
       " '__sizeof__',\n",
       " '__str__',\n",
       " '__subclasshook__',\n",
       " '__weakref__',\n",
       " 'shape',\n",
       " 'size']"
      ]
     },
     "execution_count": 89,
     "metadata": {},
     "output_type": "execute_result"
    }
   ],
   "source": [
    "class fruit:\n",
    "    size = 7\n",
    "    shape ='round'\n",
    "orange = fruit()\n",
    "dir(orange)"
   ]
  },
  {
   "cell_type": "code",
   "execution_count": 92,
   "id": "23e42d0d",
   "metadata": {},
   "outputs": [
    {
     "data": {
      "text/plain": [
       "(0, 3)"
      ]
     },
     "execution_count": 92,
     "metadata": {},
     "output_type": "execute_result"
    }
   ],
   "source": [
    "divmod(3,7) # python build-in function takes two parameters"
   ]
  },
  {
   "cell_type": "code",
   "execution_count": 93,
   "id": "ceacfa67",
   "metadata": {},
   "outputs": [
    {
     "data": {
      "text/plain": [
       "(2, 1)"
      ]
     },
     "execution_count": 93,
     "metadata": {},
     "output_type": "execute_result"
    }
   ],
   "source": [
    "divmod(7,3)"
   ]
  },
  {
   "cell_type": "code",
   "execution_count": 94,
   "id": "b0aa62ff",
   "metadata": {},
   "outputs": [
    {
     "name": "stdout",
     "output_type": "stream",
     "text": [
      "(0, 'a')\n",
      "(1, 'b')\n",
      "(2, 'c')\n"
     ]
    }
   ],
   "source": [
    "for i in enumerate(['a','b','c']):\n",
    "    print(i)"
   ]
  },
  {
   "cell_type": "code",
   "execution_count": 96,
   "id": "8256a37f",
   "metadata": {},
   "outputs": [
    {
     "name": "stdout",
     "output_type": "stream",
     "text": [
      "(0, 'manjunath')\n",
      "(1, 'kannur')\n"
     ]
    }
   ],
   "source": [
    "for item in enumerate({'manjunath':25,'kannur':58}):\n",
    "    print(item)"
   ]
  },
  {
   "cell_type": "code",
   "execution_count": 97,
   "id": "70ff7d83",
   "metadata": {},
   "outputs": [],
   "source": [
    "x=7"
   ]
  },
  {
   "cell_type": "code",
   "execution_count": 98,
   "id": "9a53a859",
   "metadata": {},
   "outputs": [
    {
     "data": {
      "text/plain": [
       "14"
      ]
     },
     "execution_count": 98,
     "metadata": {},
     "output_type": "execute_result"
    }
   ],
   "source": [
    "eval('x+7')"
   ]
  },
  {
   "cell_type": "code",
   "execution_count": 99,
   "id": "9469b5dd",
   "metadata": {},
   "outputs": [
    {
     "data": {
      "text/plain": [
       "8"
      ]
     },
     "execution_count": 99,
     "metadata": {},
     "output_type": "execute_result"
    }
   ],
   "source": [
    "eval('x+(x%2)')"
   ]
  },
  {
   "cell_type": "code",
   "execution_count": 102,
   "id": "455afb46",
   "metadata": {},
   "outputs": [
    {
     "name": "stdout",
     "output_type": "stream",
     "text": [
      "5\n"
     ]
    }
   ],
   "source": [
    "exec('a=2;b=3;print(a+b)')"
   ]
  },
  {
   "cell_type": "code",
   "execution_count": 104,
   "id": "93bb89ac",
   "metadata": {},
   "outputs": [
    {
     "name": "stdout",
     "output_type": "stream",
     "text": [
      "enter your programx\n"
     ]
    }
   ],
   "source": [
    "exec(input(\"enter your program\"))"
   ]
  },
  {
   "cell_type": "code",
   "execution_count": 107,
   "id": "005f22a6",
   "metadata": {},
   "outputs": [],
   "source": [
    "avg =list(filter(lambda x:x%2==0,[1,22,0,False]))"
   ]
  },
  {
   "cell_type": "code",
   "execution_count": 108,
   "id": "55adc902",
   "metadata": {},
   "outputs": [
    {
     "data": {
      "text/plain": [
       "[22, 0, False]"
      ]
     },
     "execution_count": 108,
     "metadata": {},
     "output_type": "execute_result"
    }
   ],
   "source": [
    "avg"
   ]
  },
  {
   "cell_type": "code",
   "execution_count": 109,
   "id": "6bb4240e",
   "metadata": {},
   "outputs": [
    {
     "data": {
      "text/plain": [
       "2.0"
      ]
     },
     "execution_count": 109,
     "metadata": {},
     "output_type": "execute_result"
    }
   ],
   "source": [
    "float(2)"
   ]
  },
  {
   "cell_type": "code",
   "execution_count": 110,
   "id": "53ad6f62",
   "metadata": {},
   "outputs": [
    {
     "data": {
      "text/plain": [
       "3.0"
      ]
     },
     "execution_count": 110,
     "metadata": {},
     "output_type": "execute_result"
    }
   ],
   "source": [
    "float('3')"
   ]
  },
  {
   "cell_type": "code",
   "execution_count": 111,
   "id": "484814f9",
   "metadata": {},
   "outputs": [
    {
     "data": {
      "text/plain": [
       "0.0"
      ]
     },
     "execution_count": 111,
     "metadata": {},
     "output_type": "execute_result"
    }
   ],
   "source": [
    "float(False)"
   ]
  },
  {
   "cell_type": "code",
   "execution_count": 112,
   "id": "16892a16",
   "metadata": {},
   "outputs": [
    {
     "data": {
      "text/plain": [
       "4.7"
      ]
     },
     "execution_count": 112,
     "metadata": {},
     "output_type": "execute_result"
    }
   ],
   "source": [
    "float(4.7)"
   ]
  },
  {
   "cell_type": "code",
   "execution_count": 113,
   "id": "1b688614",
   "metadata": {},
   "outputs": [
    {
     "name": "stdout",
     "output_type": "stream",
     "text": [
      "a=2 and b=3\n"
     ]
    }
   ],
   "source": [
    "a,b=2,3\n",
    "print(\"a={0} and b={1}\".format(a,b))"
   ]
  },
  {
   "cell_type": "code",
   "execution_count": 114,
   "id": "0028c361",
   "metadata": {},
   "outputs": [
    {
     "data": {
      "text/plain": [
       "frozenset({2, 3, 5})"
      ]
     },
     "execution_count": 114,
     "metadata": {},
     "output_type": "execute_result"
    }
   ],
   "source": [
    "frozenset((2,3,5))"
   ]
  },
  {
   "cell_type": "code",
   "execution_count": 115,
   "id": "c1fff298",
   "metadata": {},
   "outputs": [
    {
     "data": {
      "text/plain": [
       "7"
      ]
     },
     "execution_count": 115,
     "metadata": {},
     "output_type": "execute_result"
    }
   ],
   "source": [
    "getattr(orange,'size')"
   ]
  },
  {
   "cell_type": "code",
   "execution_count": 116,
   "id": "f00d5f09",
   "metadata": {},
   "outputs": [
    {
     "data": {
      "text/plain": [
       "{'__name__': '__main__',\n",
       " '__doc__': 'Automatically created module for IPython interactive environment',\n",
       " '__package__': None,\n",
       " '__loader__': None,\n",
       " '__spec__': None,\n",
       " '__builtin__': <module 'builtins' (built-in)>,\n",
       " '__builtins__': <module 'builtins' (built-in)>,\n",
       " '_ih': ['',\n",
       "  'def hello():\\n    print(\"hello\")',\n",
       "  'hello()',\n",
       "  'def hello():\\n    \"\"\"\\n    this python function simpy prints hello to the screen\\n    \"\"\"\\n    print(\"hi\")',\n",
       "  'hello()',\n",
       "  'def func1():\\n    \"\"\"this is the docstring\\n    \"\"\"\\n    print(\"hello\")',\n",
       "  'func1.__doc__',\n",
       "  'print(type(func1.__doc__))',\n",
       "  'def hello1():\\n    pass\\nhello1()',\n",
       "  'def func2(a,b):\\n    print(f\"{a}+{b}={a+b}\")',\n",
       "  'func2(5,6)',\n",
       "  'def func3(a,b):\\n    print(f\"{a}+{b}={a+b}\")\\nfunc3(5,5)',\n",
       "  \"func3('hello',5)\",\n",
       "  'def func4(a):\\n    if a%2==0:\\n        return 0\\n    else:\\n        return 1\\nfunc4(7)',\n",
       "  'def total(a,b):\\n    return a+b\\ntotal(5,5)',\n",
       "  'def func5():\\n    x=7\\n    print(x)\\nfunc5()',\n",
       "  'x',\n",
       "  'y =7',\n",
       "  'def func6():\\n    print(y)\\nfunc6()',\n",
       "  'def func7():\\n    global y\\n    y+=1\\n    print(y)\\nfunc7()',\n",
       "  'def func8():\\n    counter = 0\\n    counter+=1\\n    print(counter)\\nfunc8()',\n",
       "  'def func9():\\n    print(\"9\")\\nfunc9()',\n",
       "  'myvar = lambda a,b :(a*b)+2',\n",
       "  'myvar(1,5)',\n",
       "  'def facto(n):\\n    if n==1:\\n        retrun 1\\n    return n*facto(n-1)\\nfacto(5)',\n",
       "  'def facto(n):\\n    if n==1:\\n        return 1\\n    return n*facto(n-1)\\nfacto(5)',\n",
       "  'facto(6)',\n",
       "  'facto(2)',\n",
       "  'facto(3)',\n",
       "  'facto(4)',\n",
       "  'facto(5)',\n",
       "  'def sayhello():\\n    \"\"',\n",
       "  'def sayhello():\\n    \"\"\"\\n    this prints hello\\n    \"\"\"\\n    print(\"hello\")',\n",
       "  'sayhello()',\n",
       "  'sayhello',\n",
       "  'sayhello()',\n",
       "  'def tag(a,b):\\n    return a+b\\ntag(5,5)',\n",
       "  'def greetings(name =\"user\"):\\n    print(f\"hello\",{name})\\ngreetings(\"manjunath\")',\n",
       "  'greetings(\"kannur\")',\n",
       "  'print(type(greetings))',\n",
       "  'def total(a=1,b):\\n    return a+b',\n",
       "  'def divide(a,b):\\n    return a/b\\ndivide(3,5)',\n",
       "  'divide(a=1,b=7)',\n",
       "  'divide(b=2,1)',\n",
       "  'def sayhello(*names):\\n    for name in names:\\n        print(f\"hello\",{name})',\n",
       "  'sayhello()',\n",
       "  'sayhello(\"manjunath\")',\n",
       "  'sayhello(\"kannur\",\\'manjunath\\')',\n",
       "  'sayhello(\"yarazari\",\\'jack\\',\\'king\\',\\'to be an identity\\')',\n",
       "  'abs(-7)',\n",
       "  'abs(0)',\n",
       "  \"all({'*','',''})\",\n",
       "  \"all('','','')\",\n",
       "  \"all(['','',''])\",\n",
       "  'any((1,3,5))',\n",
       "  'bin(7)',\n",
       "  'bin(0)',\n",
       "  'bin(1)',\n",
       "  'bin(2)',\n",
       "  'bin(7.0)',\n",
       "  'bool(0.5)',\n",
       "  \"bool('')\",\n",
       "  'a =bytearray(5)',\n",
       "  'a',\n",
       "  'a.append(5)',\n",
       "  'a',\n",
       "  'a[0]=1',\n",
       "  'a',\n",
       "  'a[0]',\n",
       "  'bytearray([1,2,3])',\n",
       "  'bytes(5)',\n",
       "  'bytes([1,2,3,4,5,6])',\n",
       "  'callable([1,2,3])',\n",
       "  'chr(65)',\n",
       "  'chr(98)',\n",
       "  'chr(9)',\n",
       "  'chr(48)',\n",
       "  'class fruit:\\n    def sayhi(self):\\n        print(\"hi\",i\\'m a fruit)',\n",
       "  'class fruit:\\n    def sayhi(self):\\n        print(\"hi\",im a fruit)',\n",
       "  'class fruit:\\n    def sayhi(self):\\n        print(\"hi i\\'m a fruit\")',\n",
       "  'f1.sayhi=classmethod(fruit.sayhi)',\n",
       "  'fruit.sayhi=classmethod(fruit.sayhi)',\n",
       "  'fruit.sayhi()',\n",
       "  'complex(3)',\n",
       "  'complex(3.5+0j)',\n",
       "  'class fruit:\\n    size =7\\norange = fruit()\\norange.size',\n",
       "  \"delattr(fruit,'size')\\norange.size\",\n",
       "  'dict()',\n",
       "  'dict([(1,2),(3,4)])',\n",
       "  \"class fruit:\\n    size = 7\\n    shape ='round'\\norange = fruit()\\ndir(orange)\",\n",
       "  'divmod()',\n",
       "  'divmod() # python build-in function takes two parameters',\n",
       "  'divmod(3,7) # python build-in function takes two parameters',\n",
       "  'divmod(7,3)',\n",
       "  \"for i in enumerate(['a','b','c']):\\n    print(i)\",\n",
       "  \"for item in enumerate({'manjunath':25,'kannur':58})\",\n",
       "  \"for item in enumerate({'manjunath':25,'kannur':58}):\\n    print(item)\",\n",
       "  'x=7',\n",
       "  \"eval('x+7')\",\n",
       "  \"eval('x+(x%2)')\",\n",
       "  'exec()p',\n",
       "  'exec()',\n",
       "  \"exec('a=2;b=3;print(a+b)')\",\n",
       "  'exec(input(\"enter your program\"))',\n",
       "  'exec(input(\"enter your program\"))',\n",
       "  'avg =filter()',\n",
       "  'avg =list(filter(lambda x:x%2==0,[1,22,0,False])',\n",
       "  'avg =list(filter(lambda x:x%2==0,[1,22,0,False]))',\n",
       "  'avg',\n",
       "  'float(2)',\n",
       "  \"float('3')\",\n",
       "  'float(False)',\n",
       "  'float(4.7)',\n",
       "  'a,b=2,3\\nprint(\"a={0} and b={1}\".format(a,b))',\n",
       "  'frozenset((2,3,5))',\n",
       "  \"getattr(orange,'size')\",\n",
       "  'globals()'],\n",
       " '_oh': {6: 'this is the docstring\\n    ',\n",
       "  13: 1,\n",
       "  14: 10,\n",
       "  23: 7,\n",
       "  25: 120,\n",
       "  26: 720,\n",
       "  27: 2,\n",
       "  28: 6,\n",
       "  29: 24,\n",
       "  30: 120,\n",
       "  34: <function __main__.sayhello()>,\n",
       "  36: 10,\n",
       "  41: 0.6,\n",
       "  42: 0.14285714285714285,\n",
       "  49: 7,\n",
       "  50: 0,\n",
       "  51: False,\n",
       "  53: False,\n",
       "  54: True,\n",
       "  55: '0b111',\n",
       "  56: '0b0',\n",
       "  57: '0b1',\n",
       "  58: '0b10',\n",
       "  60: True,\n",
       "  61: False,\n",
       "  63: bytearray(b'\\x01\\x00\\x00\\x00\\x00\\x05'),\n",
       "  65: bytearray(b'\\x01\\x00\\x00\\x00\\x00\\x05'),\n",
       "  67: bytearray(b'\\x01\\x00\\x00\\x00\\x00\\x05'),\n",
       "  68: 1,\n",
       "  69: bytearray(b'\\x01\\x02\\x03'),\n",
       "  70: b'\\x00\\x00\\x00\\x00\\x00',\n",
       "  71: b'\\x01\\x02\\x03\\x04\\x05\\x06',\n",
       "  72: False,\n",
       "  73: 'A',\n",
       "  74: 'b',\n",
       "  75: '\\t',\n",
       "  76: '0',\n",
       "  83: (3+0j),\n",
       "  84: (3.5+0j),\n",
       "  85: 7,\n",
       "  87: {},\n",
       "  88: {1: 2, 3: 4},\n",
       "  89: ['__class__',\n",
       "   '__delattr__',\n",
       "   '__dict__',\n",
       "   '__dir__',\n",
       "   '__doc__',\n",
       "   '__eq__',\n",
       "   '__format__',\n",
       "   '__ge__',\n",
       "   '__getattribute__',\n",
       "   '__gt__',\n",
       "   '__hash__',\n",
       "   '__init__',\n",
       "   '__init_subclass__',\n",
       "   '__le__',\n",
       "   '__lt__',\n",
       "   '__module__',\n",
       "   '__ne__',\n",
       "   '__new__',\n",
       "   '__reduce__',\n",
       "   '__reduce_ex__',\n",
       "   '__repr__',\n",
       "   '__setattr__',\n",
       "   '__sizeof__',\n",
       "   '__str__',\n",
       "   '__subclasshook__',\n",
       "   '__weakref__',\n",
       "   'shape',\n",
       "   'size'],\n",
       "  92: (0, 3),\n",
       "  93: (2, 1),\n",
       "  98: 14,\n",
       "  99: 8,\n",
       "  108: [22, 0, False],\n",
       "  109: 2.0,\n",
       "  110: 3.0,\n",
       "  111: 0.0,\n",
       "  112: 4.7,\n",
       "  114: frozenset({2, 3, 5}),\n",
       "  115: 7},\n",
       " '_dh': ['C:\\\\Users\\\\yaraz'],\n",
       " 'In': ['',\n",
       "  'def hello():\\n    print(\"hello\")',\n",
       "  'hello()',\n",
       "  'def hello():\\n    \"\"\"\\n    this python function simpy prints hello to the screen\\n    \"\"\"\\n    print(\"hi\")',\n",
       "  'hello()',\n",
       "  'def func1():\\n    \"\"\"this is the docstring\\n    \"\"\"\\n    print(\"hello\")',\n",
       "  'func1.__doc__',\n",
       "  'print(type(func1.__doc__))',\n",
       "  'def hello1():\\n    pass\\nhello1()',\n",
       "  'def func2(a,b):\\n    print(f\"{a}+{b}={a+b}\")',\n",
       "  'func2(5,6)',\n",
       "  'def func3(a,b):\\n    print(f\"{a}+{b}={a+b}\")\\nfunc3(5,5)',\n",
       "  \"func3('hello',5)\",\n",
       "  'def func4(a):\\n    if a%2==0:\\n        return 0\\n    else:\\n        return 1\\nfunc4(7)',\n",
       "  'def total(a,b):\\n    return a+b\\ntotal(5,5)',\n",
       "  'def func5():\\n    x=7\\n    print(x)\\nfunc5()',\n",
       "  'x',\n",
       "  'y =7',\n",
       "  'def func6():\\n    print(y)\\nfunc6()',\n",
       "  'def func7():\\n    global y\\n    y+=1\\n    print(y)\\nfunc7()',\n",
       "  'def func8():\\n    counter = 0\\n    counter+=1\\n    print(counter)\\nfunc8()',\n",
       "  'def func9():\\n    print(\"9\")\\nfunc9()',\n",
       "  'myvar = lambda a,b :(a*b)+2',\n",
       "  'myvar(1,5)',\n",
       "  'def facto(n):\\n    if n==1:\\n        retrun 1\\n    return n*facto(n-1)\\nfacto(5)',\n",
       "  'def facto(n):\\n    if n==1:\\n        return 1\\n    return n*facto(n-1)\\nfacto(5)',\n",
       "  'facto(6)',\n",
       "  'facto(2)',\n",
       "  'facto(3)',\n",
       "  'facto(4)',\n",
       "  'facto(5)',\n",
       "  'def sayhello():\\n    \"\"',\n",
       "  'def sayhello():\\n    \"\"\"\\n    this prints hello\\n    \"\"\"\\n    print(\"hello\")',\n",
       "  'sayhello()',\n",
       "  'sayhello',\n",
       "  'sayhello()',\n",
       "  'def tag(a,b):\\n    return a+b\\ntag(5,5)',\n",
       "  'def greetings(name =\"user\"):\\n    print(f\"hello\",{name})\\ngreetings(\"manjunath\")',\n",
       "  'greetings(\"kannur\")',\n",
       "  'print(type(greetings))',\n",
       "  'def total(a=1,b):\\n    return a+b',\n",
       "  'def divide(a,b):\\n    return a/b\\ndivide(3,5)',\n",
       "  'divide(a=1,b=7)',\n",
       "  'divide(b=2,1)',\n",
       "  'def sayhello(*names):\\n    for name in names:\\n        print(f\"hello\",{name})',\n",
       "  'sayhello()',\n",
       "  'sayhello(\"manjunath\")',\n",
       "  'sayhello(\"kannur\",\\'manjunath\\')',\n",
       "  'sayhello(\"yarazari\",\\'jack\\',\\'king\\',\\'to be an identity\\')',\n",
       "  'abs(-7)',\n",
       "  'abs(0)',\n",
       "  \"all({'*','',''})\",\n",
       "  \"all('','','')\",\n",
       "  \"all(['','',''])\",\n",
       "  'any((1,3,5))',\n",
       "  'bin(7)',\n",
       "  'bin(0)',\n",
       "  'bin(1)',\n",
       "  'bin(2)',\n",
       "  'bin(7.0)',\n",
       "  'bool(0.5)',\n",
       "  \"bool('')\",\n",
       "  'a =bytearray(5)',\n",
       "  'a',\n",
       "  'a.append(5)',\n",
       "  'a',\n",
       "  'a[0]=1',\n",
       "  'a',\n",
       "  'a[0]',\n",
       "  'bytearray([1,2,3])',\n",
       "  'bytes(5)',\n",
       "  'bytes([1,2,3,4,5,6])',\n",
       "  'callable([1,2,3])',\n",
       "  'chr(65)',\n",
       "  'chr(98)',\n",
       "  'chr(9)',\n",
       "  'chr(48)',\n",
       "  'class fruit:\\n    def sayhi(self):\\n        print(\"hi\",i\\'m a fruit)',\n",
       "  'class fruit:\\n    def sayhi(self):\\n        print(\"hi\",im a fruit)',\n",
       "  'class fruit:\\n    def sayhi(self):\\n        print(\"hi i\\'m a fruit\")',\n",
       "  'f1.sayhi=classmethod(fruit.sayhi)',\n",
       "  'fruit.sayhi=classmethod(fruit.sayhi)',\n",
       "  'fruit.sayhi()',\n",
       "  'complex(3)',\n",
       "  'complex(3.5+0j)',\n",
       "  'class fruit:\\n    size =7\\norange = fruit()\\norange.size',\n",
       "  \"delattr(fruit,'size')\\norange.size\",\n",
       "  'dict()',\n",
       "  'dict([(1,2),(3,4)])',\n",
       "  \"class fruit:\\n    size = 7\\n    shape ='round'\\norange = fruit()\\ndir(orange)\",\n",
       "  'divmod()',\n",
       "  'divmod() # python build-in function takes two parameters',\n",
       "  'divmod(3,7) # python build-in function takes two parameters',\n",
       "  'divmod(7,3)',\n",
       "  \"for i in enumerate(['a','b','c']):\\n    print(i)\",\n",
       "  \"for item in enumerate({'manjunath':25,'kannur':58})\",\n",
       "  \"for item in enumerate({'manjunath':25,'kannur':58}):\\n    print(item)\",\n",
       "  'x=7',\n",
       "  \"eval('x+7')\",\n",
       "  \"eval('x+(x%2)')\",\n",
       "  'exec()p',\n",
       "  'exec()',\n",
       "  \"exec('a=2;b=3;print(a+b)')\",\n",
       "  'exec(input(\"enter your program\"))',\n",
       "  'exec(input(\"enter your program\"))',\n",
       "  'avg =filter()',\n",
       "  'avg =list(filter(lambda x:x%2==0,[1,22,0,False])',\n",
       "  'avg =list(filter(lambda x:x%2==0,[1,22,0,False]))',\n",
       "  'avg',\n",
       "  'float(2)',\n",
       "  \"float('3')\",\n",
       "  'float(False)',\n",
       "  'float(4.7)',\n",
       "  'a,b=2,3\\nprint(\"a={0} and b={1}\".format(a,b))',\n",
       "  'frozenset((2,3,5))',\n",
       "  \"getattr(orange,'size')\",\n",
       "  'globals()'],\n",
       " 'Out': {6: 'this is the docstring\\n    ',\n",
       "  13: 1,\n",
       "  14: 10,\n",
       "  23: 7,\n",
       "  25: 120,\n",
       "  26: 720,\n",
       "  27: 2,\n",
       "  28: 6,\n",
       "  29: 24,\n",
       "  30: 120,\n",
       "  34: <function __main__.sayhello()>,\n",
       "  36: 10,\n",
       "  41: 0.6,\n",
       "  42: 0.14285714285714285,\n",
       "  49: 7,\n",
       "  50: 0,\n",
       "  51: False,\n",
       "  53: False,\n",
       "  54: True,\n",
       "  55: '0b111',\n",
       "  56: '0b0',\n",
       "  57: '0b1',\n",
       "  58: '0b10',\n",
       "  60: True,\n",
       "  61: False,\n",
       "  63: bytearray(b'\\x01\\x00\\x00\\x00\\x00\\x05'),\n",
       "  65: bytearray(b'\\x01\\x00\\x00\\x00\\x00\\x05'),\n",
       "  67: bytearray(b'\\x01\\x00\\x00\\x00\\x00\\x05'),\n",
       "  68: 1,\n",
       "  69: bytearray(b'\\x01\\x02\\x03'),\n",
       "  70: b'\\x00\\x00\\x00\\x00\\x00',\n",
       "  71: b'\\x01\\x02\\x03\\x04\\x05\\x06',\n",
       "  72: False,\n",
       "  73: 'A',\n",
       "  74: 'b',\n",
       "  75: '\\t',\n",
       "  76: '0',\n",
       "  83: (3+0j),\n",
       "  84: (3.5+0j),\n",
       "  85: 7,\n",
       "  87: {},\n",
       "  88: {1: 2, 3: 4},\n",
       "  89: ['__class__',\n",
       "   '__delattr__',\n",
       "   '__dict__',\n",
       "   '__dir__',\n",
       "   '__doc__',\n",
       "   '__eq__',\n",
       "   '__format__',\n",
       "   '__ge__',\n",
       "   '__getattribute__',\n",
       "   '__gt__',\n",
       "   '__hash__',\n",
       "   '__init__',\n",
       "   '__init_subclass__',\n",
       "   '__le__',\n",
       "   '__lt__',\n",
       "   '__module__',\n",
       "   '__ne__',\n",
       "   '__new__',\n",
       "   '__reduce__',\n",
       "   '__reduce_ex__',\n",
       "   '__repr__',\n",
       "   '__setattr__',\n",
       "   '__sizeof__',\n",
       "   '__str__',\n",
       "   '__subclasshook__',\n",
       "   '__weakref__',\n",
       "   'shape',\n",
       "   'size'],\n",
       "  92: (0, 3),\n",
       "  93: (2, 1),\n",
       "  98: 14,\n",
       "  99: 8,\n",
       "  108: [22, 0, False],\n",
       "  109: 2.0,\n",
       "  110: 3.0,\n",
       "  111: 0.0,\n",
       "  112: 4.7,\n",
       "  114: frozenset({2, 3, 5}),\n",
       "  115: 7},\n",
       " 'get_ipython': <bound method InteractiveShell.get_ipython of <ipykernel.zmqshell.ZMQInteractiveShell object at 0x0000023090A864C0>>,\n",
       " 'exit': <IPython.core.autocall.ZMQExitAutocall at 0x23090a86220>,\n",
       " 'quit': <IPython.core.autocall.ZMQExitAutocall at 0x23090a86220>,\n",
       " '_': 7,\n",
       " '__': frozenset({2, 3, 5}),\n",
       " '___': 4.7,\n",
       " '_i': \"getattr(orange,'size')\",\n",
       " '_ii': 'frozenset((2,3,5))',\n",
       " '_iii': 'a,b=2,3\\nprint(\"a={0} and b={1}\".format(a,b))',\n",
       " '_i1': 'def hello():\\n    print(\"hello\")',\n",
       " 'hello': <function __main__.hello()>,\n",
       " '_i2': 'hello()',\n",
       " '_i3': 'def hello():\\n    \"\"\"\\n    this python function simpy prints hello to the screen\\n    \"\"\"\\n    print(\"hi\")',\n",
       " '_i4': 'hello()',\n",
       " '_i5': 'def func1():\\n    \"\"\"this is the docstring\\n    \"\"\"\\n    print(\"hello\")',\n",
       " 'func1': <function __main__.func1()>,\n",
       " '_i6': 'func1.__doc__',\n",
       " '_6': 'this is the docstring\\n    ',\n",
       " '_i7': 'print(type(func1.__doc__))',\n",
       " '_i8': 'def hello1():\\n    pass\\nhello1()',\n",
       " 'hello1': <function __main__.hello1()>,\n",
       " '_i9': 'def func2(a,b):\\n    print(f\"{a}+{b}={a+b}\")',\n",
       " 'func2': <function __main__.func2(a, b)>,\n",
       " '_i10': 'func2(5,6)',\n",
       " '_i11': 'def func3(a,b):\\n    print(f\"{a}+{b}={a+b}\")\\nfunc3(5,5)',\n",
       " 'func3': <function __main__.func3(a, b)>,\n",
       " '_i12': \"func3('hello',5)\",\n",
       " '_i13': 'def func4(a):\\n    if a%2==0:\\n        return 0\\n    else:\\n        return 1\\nfunc4(7)',\n",
       " 'func4': <function __main__.func4(a)>,\n",
       " '_13': 1,\n",
       " '_i14': 'def total(a,b):\\n    return a+b\\ntotal(5,5)',\n",
       " 'total': <function __main__.total(a, b)>,\n",
       " '_14': 10,\n",
       " '_i15': 'def func5():\\n    x=7\\n    print(x)\\nfunc5()',\n",
       " 'func5': <function __main__.func5()>,\n",
       " '_i16': 'x',\n",
       " '_i17': 'y =7',\n",
       " 'y': 8,\n",
       " '_i18': 'def func6():\\n    print(y)\\nfunc6()',\n",
       " 'func6': <function __main__.func6()>,\n",
       " '_i19': 'def func7():\\n    global y\\n    y+=1\\n    print(y)\\nfunc7()',\n",
       " 'func7': <function __main__.func7()>,\n",
       " '_i20': 'def func8():\\n    counter = 0\\n    counter+=1\\n    print(counter)\\nfunc8()',\n",
       " 'func8': <function __main__.func8()>,\n",
       " '_i21': 'def func9():\\n    print(\"9\")\\nfunc9()',\n",
       " 'func9': <function __main__.func9()>,\n",
       " '_i22': 'myvar = lambda a,b :(a*b)+2',\n",
       " 'myvar': <function __main__.<lambda>(a, b)>,\n",
       " '_i23': 'myvar(1,5)',\n",
       " '_23': 7,\n",
       " '_i24': 'def facto(n):\\n    if n==1:\\n        retrun 1\\n    return n*facto(n-1)\\nfacto(5)',\n",
       " '_i25': 'def facto(n):\\n    if n==1:\\n        return 1\\n    return n*facto(n-1)\\nfacto(5)',\n",
       " 'facto': <function __main__.facto(n)>,\n",
       " '_25': 120,\n",
       " '_i26': 'facto(6)',\n",
       " '_26': 720,\n",
       " '_i27': 'facto(2)',\n",
       " '_27': 2,\n",
       " '_i28': 'facto(3)',\n",
       " '_28': 6,\n",
       " '_i29': 'facto(4)',\n",
       " '_29': 24,\n",
       " '_i30': 'facto(5)',\n",
       " '_30': 120,\n",
       " '_i31': 'def sayhello():\\n    \"\"',\n",
       " 'sayhello': <function __main__.sayhello(*names)>,\n",
       " '_i32': 'def sayhello():\\n    \"\"\"\\n    this prints hello\\n    \"\"\"\\n    print(\"hello\")',\n",
       " '_i33': 'sayhello()',\n",
       " '_i34': 'sayhello',\n",
       " '_34': <function __main__.sayhello()>,\n",
       " '_i35': 'sayhello()',\n",
       " '_i36': 'def tag(a,b):\\n    return a+b\\ntag(5,5)',\n",
       " 'tag': <function __main__.tag(a, b)>,\n",
       " '_36': 10,\n",
       " '_i37': 'def greetings(name =\"user\"):\\n    print(f\"hello\",{name})\\ngreetings(\"manjunath\")',\n",
       " 'greetings': <function __main__.greetings(name='user')>,\n",
       " '_i38': 'greetings(\"kannur\")',\n",
       " '_i39': 'print(type(greetings))',\n",
       " '_i40': 'def total(a=1,b):\\n    return a+b',\n",
       " '_i41': 'def divide(a,b):\\n    return a/b\\ndivide(3,5)',\n",
       " 'divide': <function __main__.divide(a, b)>,\n",
       " '_41': 0.6,\n",
       " '_i42': 'divide(a=1,b=7)',\n",
       " '_42': 0.14285714285714285,\n",
       " '_i43': 'divide(b=2,1)',\n",
       " '_i44': 'def sayhello(*names):\\n    for name in names:\\n        print(f\"hello\",{name})',\n",
       " '_i45': 'sayhello()',\n",
       " '_i46': 'sayhello(\"manjunath\")',\n",
       " '_i47': 'sayhello(\"kannur\",\\'manjunath\\')',\n",
       " '_i48': 'sayhello(\"yarazari\",\\'jack\\',\\'king\\',\\'to be an identity\\')',\n",
       " '_i49': 'abs(-7)',\n",
       " '_49': 7,\n",
       " '_i50': 'abs(0)',\n",
       " '_50': 0,\n",
       " '_i51': \"all({'*','',''})\",\n",
       " '_51': False,\n",
       " '_i52': \"all('','','')\",\n",
       " '_i53': \"all(['','',''])\",\n",
       " '_53': False,\n",
       " '_i54': 'any((1,3,5))',\n",
       " '_54': True,\n",
       " '_i55': 'bin(7)',\n",
       " '_55': '0b111',\n",
       " '_i56': 'bin(0)',\n",
       " '_56': '0b0',\n",
       " '_i57': 'bin(1)',\n",
       " '_57': '0b1',\n",
       " '_i58': 'bin(2)',\n",
       " '_58': '0b10',\n",
       " '_i59': 'bin(7.0)',\n",
       " '_i60': 'bool(0.5)',\n",
       " '_60': True,\n",
       " '_i61': \"bool('')\",\n",
       " '_61': False,\n",
       " '_i62': 'a =bytearray(5)',\n",
       " 'a': 2,\n",
       " '_i63': 'a',\n",
       " '_63': bytearray(b'\\x01\\x00\\x00\\x00\\x00\\x05'),\n",
       " '_i64': 'a.append(5)',\n",
       " '_i65': 'a',\n",
       " '_65': bytearray(b'\\x01\\x00\\x00\\x00\\x00\\x05'),\n",
       " '_i66': 'a[0]=1',\n",
       " '_i67': 'a',\n",
       " '_67': bytearray(b'\\x01\\x00\\x00\\x00\\x00\\x05'),\n",
       " '_i68': 'a[0]',\n",
       " '_68': 1,\n",
       " '_i69': 'bytearray([1,2,3])',\n",
       " '_69': bytearray(b'\\x01\\x02\\x03'),\n",
       " '_i70': 'bytes(5)',\n",
       " '_70': b'\\x00\\x00\\x00\\x00\\x00',\n",
       " '_i71': 'bytes([1,2,3,4,5,6])',\n",
       " '_71': b'\\x01\\x02\\x03\\x04\\x05\\x06',\n",
       " '_i72': 'callable([1,2,3])',\n",
       " '_72': False,\n",
       " '_i73': 'chr(65)',\n",
       " '_73': 'A',\n",
       " '_i74': 'chr(98)',\n",
       " '_74': 'b',\n",
       " '_i75': 'chr(9)',\n",
       " '_75': '\\t',\n",
       " '_i76': 'chr(48)',\n",
       " '_76': '0',\n",
       " '_i77': 'class fruit:\\n    def sayhi(self):\\n        print(\"hi\",i\\'m a fruit)',\n",
       " '_i78': 'class fruit:\\n    def sayhi(self):\\n        print(\"hi\",im a fruit)',\n",
       " '_i79': 'class fruit:\\n    def sayhi(self):\\n        print(\"hi i\\'m a fruit\")',\n",
       " 'fruit': __main__.fruit,\n",
       " '_i80': 'f1.sayhi=classmethod(fruit.sayhi)',\n",
       " '_i81': 'fruit.sayhi=classmethod(fruit.sayhi)',\n",
       " '_i82': 'fruit.sayhi()',\n",
       " '_i83': 'complex(3)',\n",
       " '_83': (3+0j),\n",
       " '_i84': 'complex(3.5+0j)',\n",
       " '_84': (3.5+0j),\n",
       " '_i85': 'class fruit:\\n    size =7\\norange = fruit()\\norange.size',\n",
       " 'orange': <__main__.fruit at 0x23090c19850>,\n",
       " '_85': 7,\n",
       " '_i86': \"delattr(fruit,'size')\\norange.size\",\n",
       " '_i87': 'dict()',\n",
       " '_87': {},\n",
       " '_i88': 'dict([(1,2),(3,4)])',\n",
       " '_88': {1: 2, 3: 4},\n",
       " '_i89': \"class fruit:\\n    size = 7\\n    shape ='round'\\norange = fruit()\\ndir(orange)\",\n",
       " '_89': ['__class__',\n",
       "  '__delattr__',\n",
       "  '__dict__',\n",
       "  '__dir__',\n",
       "  '__doc__',\n",
       "  '__eq__',\n",
       "  '__format__',\n",
       "  '__ge__',\n",
       "  '__getattribute__',\n",
       "  '__gt__',\n",
       "  '__hash__',\n",
       "  '__init__',\n",
       "  '__init_subclass__',\n",
       "  '__le__',\n",
       "  '__lt__',\n",
       "  '__module__',\n",
       "  '__ne__',\n",
       "  '__new__',\n",
       "  '__reduce__',\n",
       "  '__reduce_ex__',\n",
       "  '__repr__',\n",
       "  '__setattr__',\n",
       "  '__sizeof__',\n",
       "  '__str__',\n",
       "  '__subclasshook__',\n",
       "  '__weakref__',\n",
       "  'shape',\n",
       "  'size'],\n",
       " '_i90': 'divmod()',\n",
       " '_i91': 'divmod() # python build-in function takes two parameters',\n",
       " '_i92': 'divmod(3,7) # python build-in function takes two parameters',\n",
       " '_92': (0, 3),\n",
       " '_i93': 'divmod(7,3)',\n",
       " '_93': (2, 1),\n",
       " '_i94': \"for i in enumerate(['a','b','c']):\\n    print(i)\",\n",
       " 'i': (2, 'c'),\n",
       " '_i95': \"for item in enumerate({'manjunath':25,'kannur':58})\",\n",
       " '_i96': \"for item in enumerate({'manjunath':25,'kannur':58}):\\n    print(item)\",\n",
       " 'item': (1, 'kannur'),\n",
       " '_i97': 'x=7',\n",
       " 'x': 7,\n",
       " '_i98': \"eval('x+7')\",\n",
       " '_98': 14,\n",
       " '_i99': \"eval('x+(x%2)')\",\n",
       " '_99': 8,\n",
       " '_i100': 'exec()p',\n",
       " '_i101': 'exec()',\n",
       " '_i102': \"exec('a=2;b=3;print(a+b)')\",\n",
       " 'b': 3,\n",
       " '_i103': 'exec(input(\"enter your program\"))',\n",
       " '_i104': 'exec(input(\"enter your program\"))',\n",
       " '_i105': 'avg =filter()',\n",
       " '_i106': 'avg =list(filter(lambda x:x%2==0,[1,22,0,False])',\n",
       " '_i107': 'avg =list(filter(lambda x:x%2==0,[1,22,0,False]))',\n",
       " 'avg': [22, 0, False],\n",
       " '_i108': 'avg',\n",
       " '_108': [22, 0, False],\n",
       " '_i109': 'float(2)',\n",
       " '_109': 2.0,\n",
       " '_i110': \"float('3')\",\n",
       " '_110': 3.0,\n",
       " '_i111': 'float(False)',\n",
       " '_111': 0.0,\n",
       " '_i112': 'float(4.7)',\n",
       " '_112': 4.7,\n",
       " '_i113': 'a,b=2,3\\nprint(\"a={0} and b={1}\".format(a,b))',\n",
       " '_i114': 'frozenset((2,3,5))',\n",
       " '_114': frozenset({2, 3, 5}),\n",
       " '_i115': \"getattr(orange,'size')\",\n",
       " '_115': 7,\n",
       " '_i116': 'globals()'}"
      ]
     },
     "execution_count": 116,
     "metadata": {},
     "output_type": "execute_result"
    }
   ],
   "source": [
    "globals()"
   ]
  },
  {
   "cell_type": "code",
   "execution_count": 117,
   "id": "e9be8462",
   "metadata": {},
   "outputs": [
    {
     "data": {
      "text/plain": [
       "True"
      ]
     },
     "execution_count": 117,
     "metadata": {},
     "output_type": "execute_result"
    }
   ],
   "source": [
    "hasattr(orange,'size')"
   ]
  },
  {
   "cell_type": "code",
   "execution_count": 118,
   "id": "05273038",
   "metadata": {},
   "outputs": [
    {
     "data": {
      "text/plain": [
       "True"
      ]
     },
     "execution_count": 118,
     "metadata": {},
     "output_type": "execute_result"
    }
   ],
   "source": [
    "hasattr(orange,'shape')"
   ]
  },
  {
   "cell_type": "code",
   "execution_count": 119,
   "id": "d31e15d4",
   "metadata": {},
   "outputs": [
    {
     "data": {
      "text/plain": [
       "150475643269"
      ]
     },
     "execution_count": 119,
     "metadata": {},
     "output_type": "execute_result"
    }
   ],
   "source": [
    "hash(orange)"
   ]
  },
  {
   "cell_type": "code",
   "execution_count": 120,
   "id": "d16c82e2",
   "metadata": {},
   "outputs": [
    {
     "data": {
      "text/plain": [
       "150475643269"
      ]
     },
     "execution_count": 120,
     "metadata": {},
     "output_type": "execute_result"
    }
   ],
   "source": [
    "hash(orange)"
   ]
  },
  {
   "cell_type": "code",
   "execution_count": 121,
   "id": "150ae4e0",
   "metadata": {},
   "outputs": [],
   "source": [
    "string =\"kannur\""
   ]
  },
  {
   "cell_type": "code",
   "execution_count": 122,
   "id": "cc89b3e2",
   "metadata": {},
   "outputs": [
    {
     "data": {
      "text/plain": [
       "-8549711566495475949"
      ]
     },
     "execution_count": 122,
     "metadata": {},
     "output_type": "execute_result"
    }
   ],
   "source": [
    "hash(string)"
   ]
  },
  {
   "cell_type": "code",
   "execution_count": 123,
   "id": "494801fa",
   "metadata": {},
   "outputs": [
    {
     "data": {
      "text/plain": [
       "25"
      ]
     },
     "execution_count": 123,
     "metadata": {},
     "output_type": "execute_result"
    }
   ],
   "source": [
    "kick=25\n",
    "hash(kick)"
   ]
  },
  {
   "cell_type": "code",
   "execution_count": 124,
   "id": "251f1ace",
   "metadata": {},
   "outputs": [
    {
     "data": {
      "text/plain": [
       "1"
      ]
     },
     "execution_count": 124,
     "metadata": {},
     "output_type": "execute_result"
    }
   ],
   "source": [
    "hash(True)"
   ]
  },
  {
   "cell_type": "code",
   "execution_count": 125,
   "id": "e29e511d",
   "metadata": {},
   "outputs": [
    {
     "data": {
      "text/plain": [
       "0"
      ]
     },
     "execution_count": 125,
     "metadata": {},
     "output_type": "execute_result"
    }
   ],
   "source": [
    "hash(0)"
   ]
  },
  {
   "cell_type": "code",
   "execution_count": 126,
   "id": "e5df8ade",
   "metadata": {},
   "outputs": [
    {
     "data": {
      "text/plain": [
       "1614090106449586179"
      ]
     },
     "execution_count": 126,
     "metadata": {},
     "output_type": "execute_result"
    }
   ],
   "source": [
    "hash(3.7)"
   ]
  },
  {
   "cell_type": "code",
   "execution_count": 127,
   "id": "bd8d09f0",
   "metadata": {},
   "outputs": [
    {
     "data": {
      "text/plain": [
       "8645134704617"
      ]
     },
     "execution_count": 127,
     "metadata": {},
     "output_type": "execute_result"
    }
   ],
   "source": [
    "hash(hash)"
   ]
  },
  {
   "cell_type": "code",
   "execution_count": null,
   "id": "15e12459",
   "metadata": {},
   "outputs": [
    {
     "name": "stdout",
     "output_type": "stream",
     "text": [
      "\n",
      "Welcome to Python 3.9's help utility!\n",
      "\n",
      "If this is your first time using Python, you should definitely check out\n",
      "the tutorial on the Internet at https://docs.python.org/3.9/tutorial/.\n",
      "\n",
      "Enter the name of any module, keyword, or topic to get help on writing\n",
      "Python programs and using Python modules.  To quit this help utility and\n",
      "return to the interpreter, just type \"quit\".\n",
      "\n",
      "To get a list of available modules, keywords, symbols, or topics, type\n",
      "\"modules\", \"keywords\", \"symbols\", or \"topics\".  Each module also comes\n",
      "with a one-line summary of what it does; to list the modules whose name\n",
      "or summary contain a given string such as \"spam\", type \"modules spam\".\n",
      "\n",
      "help> map\n",
      "Help on class map in module builtins:\n",
      "\n",
      "class map(object)\n",
      " |  map(func, *iterables) --> map object\n",
      " |  \n",
      " |  Make an iterator that computes the function using arguments from\n",
      " |  each of the iterables.  Stops when the shortest iterable is exhausted.\n",
      " |  \n",
      " |  Methods defined here:\n",
      " |  \n",
      " |  __getattribute__(self, name, /)\n",
      " |      Return getattr(self, name).\n",
      " |  \n",
      " |  __iter__(self, /)\n",
      " |      Implement iter(self).\n",
      " |  \n",
      " |  __next__(self, /)\n",
      " |      Implement next(self).\n",
      " |  \n",
      " |  __reduce__(...)\n",
      " |      Return state information for pickling.\n",
      " |  \n",
      " |  ----------------------------------------------------------------------\n",
      " |  Static methods defined here:\n",
      " |  \n",
      " |  __new__(*args, **kwargs) from builtins.type\n",
      " |      Create and return a new object.  See help(type) for accurate signature.\n",
      "\n"
     ]
    }
   ],
   "source": [
    "help()"
   ]
  },
  {
   "cell_type": "code",
   "execution_count": 1,
   "id": "93ed4cae",
   "metadata": {},
   "outputs": [
    {
     "data": {
      "text/plain": [
       "'0x10'"
      ]
     },
     "execution_count": 1,
     "metadata": {},
     "output_type": "execute_result"
    }
   ],
   "source": [
    "hex(16)"
   ]
  },
  {
   "cell_type": "code",
   "execution_count": 3,
   "id": "305686c5",
   "metadata": {},
   "outputs": [],
   "source": [
    "name ='string'"
   ]
  },
  {
   "cell_type": "code",
   "execution_count": 4,
   "id": "104dadff",
   "metadata": {},
   "outputs": [
    {
     "data": {
      "text/plain": [
       "2670847980528"
      ]
     },
     "execution_count": 4,
     "metadata": {},
     "output_type": "execute_result"
    }
   ],
   "source": [
    "id(name)"
   ]
  },
  {
   "cell_type": "code",
   "execution_count": 5,
   "id": "8224922f",
   "metadata": {},
   "outputs": [
    {
     "data": {
      "text/plain": [
       "2670846766128"
      ]
     },
     "execution_count": 5,
     "metadata": {},
     "output_type": "execute_result"
    }
   ],
   "source": [
    "mack=25\n",
    "id(mack)"
   ]
  },
  {
   "cell_type": "code",
   "execution_count": 6,
   "id": "10cb2a3e",
   "metadata": {},
   "outputs": [
    {
     "name": "stdout",
     "output_type": "stream",
     "text": [
      "enter a number25\n"
     ]
    }
   ],
   "source": [
    "ta=input(\"enter a number\")"
   ]
  },
  {
   "cell_type": "code",
   "execution_count": 7,
   "id": "01832de6",
   "metadata": {},
   "outputs": [
    {
     "data": {
      "text/plain": [
       "'25'"
      ]
     },
     "execution_count": 7,
     "metadata": {},
     "output_type": "execute_result"
    }
   ],
   "source": [
    "ta"
   ]
  },
  {
   "cell_type": "code",
   "execution_count": 8,
   "id": "91925c2a",
   "metadata": {},
   "outputs": [
    {
     "data": {
      "text/plain": [
       "False"
      ]
     },
     "execution_count": 8,
     "metadata": {},
     "output_type": "execute_result"
    }
   ],
   "source": [
    "isinstance(0,str)"
   ]
  },
  {
   "cell_type": "code",
   "execution_count": 9,
   "id": "01a72527",
   "metadata": {},
   "outputs": [],
   "source": [
    "class fruit:\n",
    "    pass\n",
    "class cirus (fruit):\n",
    "    pass"
   ]
  },
  {
   "cell_type": "code",
   "execution_count": 10,
   "id": "b003d439",
   "metadata": {},
   "outputs": [
    {
     "name": "stdout",
     "output_type": "stream",
     "text": [
      "1\n",
      "2\n",
      "3\n"
     ]
    }
   ],
   "source": [
    "for item in iter([1,2,3]):\n",
    "    print(item)"
   ]
  },
  {
   "cell_type": "code",
   "execution_count": 11,
   "id": "05cf6849",
   "metadata": {},
   "outputs": [
    {
     "data": {
      "text/plain": [
       "4"
      ]
     },
     "execution_count": 11,
     "metadata": {},
     "output_type": "execute_result"
    }
   ],
   "source": [
    "len({1,2,3,4,2})"
   ]
  },
  {
   "cell_type": "code",
   "execution_count": 12,
   "id": "7dd254ec",
   "metadata": {},
   "outputs": [
    {
     "data": {
      "text/plain": [
       "[1, 2, 3]"
      ]
     },
     "execution_count": 12,
     "metadata": {},
     "output_type": "execute_result"
    }
   ],
   "source": [
    "list({1,3,2,2})"
   ]
  },
  {
   "cell_type": "code",
   "execution_count": 14,
   "id": "310833bd",
   "metadata": {},
   "outputs": [
    {
     "data": {
      "text/plain": [
       "{'__name__': '__main__',\n",
       " '__doc__': 'Automatically created module for IPython interactive environment',\n",
       " '__package__': None,\n",
       " '__loader__': None,\n",
       " '__spec__': None,\n",
       " '__builtin__': <module 'builtins' (built-in)>,\n",
       " '__builtins__': <module 'builtins' (built-in)>,\n",
       " '_ih': ['',\n",
       "  'hex(16)',\n",
       "  'id(orange)',\n",
       "  \"name ='string'\",\n",
       "  'id(name)',\n",
       "  'mack=25\\nid(mack)',\n",
       "  'ta=input(\"enter a number\")',\n",
       "  'ta',\n",
       "  'isinstance(0,str)',\n",
       "  'class fruit:\\n    pass\\nclass cirus (fruit):\\n    pass',\n",
       "  'for item in iter([1,2,3]):\\n    print(item)',\n",
       "  'len({1,2,3,4,2})',\n",
       "  'list({1,3,2,2})',\n",
       "  'locals()p',\n",
       "  'locals()'],\n",
       " '_oh': {1: '0x10',\n",
       "  4: 2670847980528,\n",
       "  5: 2670846766128,\n",
       "  7: '25',\n",
       "  8: False,\n",
       "  11: 4,\n",
       "  12: [1, 2, 3]},\n",
       " '_dh': ['C:\\\\Users\\\\yaraz'],\n",
       " 'In': ['',\n",
       "  'hex(16)',\n",
       "  'id(orange)',\n",
       "  \"name ='string'\",\n",
       "  'id(name)',\n",
       "  'mack=25\\nid(mack)',\n",
       "  'ta=input(\"enter a number\")',\n",
       "  'ta',\n",
       "  'isinstance(0,str)',\n",
       "  'class fruit:\\n    pass\\nclass cirus (fruit):\\n    pass',\n",
       "  'for item in iter([1,2,3]):\\n    print(item)',\n",
       "  'len({1,2,3,4,2})',\n",
       "  'list({1,3,2,2})',\n",
       "  'locals()p',\n",
       "  'locals()'],\n",
       " 'Out': {1: '0x10',\n",
       "  4: 2670847980528,\n",
       "  5: 2670846766128,\n",
       "  7: '25',\n",
       "  8: False,\n",
       "  11: 4,\n",
       "  12: [1, 2, 3]},\n",
       " 'get_ipython': <bound method InteractiveShell.get_ipython of <ipykernel.zmqshell.ZMQInteractiveShell object at 0x0000026DDF3A64C0>>,\n",
       " 'exit': <IPython.core.autocall.ZMQExitAutocall at 0x26ddf3a6220>,\n",
       " 'quit': <IPython.core.autocall.ZMQExitAutocall at 0x26ddf3a6220>,\n",
       " '_': [1, 2, 3],\n",
       " '__': 4,\n",
       " '___': False,\n",
       " '_i': 'locals()p',\n",
       " '_ii': 'list({1,3,2,2})',\n",
       " '_iii': 'len({1,2,3,4,2})',\n",
       " '_i1': 'hex(16)',\n",
       " '_1': '0x10',\n",
       " '_i2': 'id(orange)',\n",
       " '_i3': \"name ='string'\",\n",
       " 'name': 'string',\n",
       " '_i4': 'id(name)',\n",
       " '_4': 2670847980528,\n",
       " '_i5': 'mack=25\\nid(mack)',\n",
       " 'mack': 25,\n",
       " '_5': 2670846766128,\n",
       " '_i6': 'ta=input(\"enter a number\")',\n",
       " 'ta': '25',\n",
       " '_i7': 'ta',\n",
       " '_7': '25',\n",
       " '_i8': 'isinstance(0,str)',\n",
       " '_8': False,\n",
       " '_i9': 'class fruit:\\n    pass\\nclass cirus (fruit):\\n    pass',\n",
       " 'fruit': __main__.fruit,\n",
       " 'cirus': __main__.cirus,\n",
       " '_i10': 'for item in iter([1,2,3]):\\n    print(item)',\n",
       " 'item': 3,\n",
       " '_i11': 'len({1,2,3,4,2})',\n",
       " '_11': 4,\n",
       " '_i12': 'list({1,3,2,2})',\n",
       " '_12': [1, 2, 3],\n",
       " '_i13': 'locals()p',\n",
       " '_i14': 'locals()'}"
      ]
     },
     "execution_count": 14,
     "metadata": {},
     "output_type": "execute_result"
    }
   ],
   "source": [
    "locals()"
   ]
  },
  {
   "cell_type": "code",
   "execution_count": 15,
   "id": "1b5c525e",
   "metadata": {},
   "outputs": [
    {
     "data": {
      "text/plain": [
       "[False, True, False, True, False, True]"
      ]
     },
     "execution_count": 15,
     "metadata": {},
     "output_type": "execute_result"
    }
   ],
   "source": [
    "list(map(lambda x:x%2==0,[1,2,3,4,5,6]))"
   ]
  },
  {
   "cell_type": "code",
   "execution_count": 16,
   "id": "e6418aec",
   "metadata": {},
   "outputs": [
    {
     "data": {
      "text/plain": [
       "4"
      ]
     },
     "execution_count": 16,
     "metadata": {},
     "output_type": "execute_result"
    }
   ],
   "source": [
    "max(2,3,4)"
   ]
  },
  {
   "cell_type": "code",
   "execution_count": 17,
   "id": "15aca5c7",
   "metadata": {},
   "outputs": [
    {
     "data": {
      "text/plain": [
       "5"
      ]
     },
     "execution_count": 17,
     "metadata": {},
     "output_type": "execute_result"
    }
   ],
   "source": [
    "max([3,5,4])"
   ]
  },
  {
   "cell_type": "code",
   "execution_count": 18,
   "id": "f07ebccf",
   "metadata": {},
   "outputs": [
    {
     "data": {
      "text/plain": [
       "'hello'"
      ]
     },
     "execution_count": 18,
     "metadata": {},
     "output_type": "execute_result"
    }
   ],
   "source": [
    "max('hello','Hello')"
   ]
  },
  {
   "cell_type": "code",
   "execution_count": 20,
   "id": "b0119866",
   "metadata": {},
   "outputs": [],
   "source": [
    "a = bytes(4)"
   ]
  },
  {
   "cell_type": "code",
   "execution_count": 21,
   "id": "b2c85c2d",
   "metadata": {},
   "outputs": [
    {
     "data": {
      "text/plain": [
       "<memory at 0x0000026DDF512B80>"
      ]
     },
     "execution_count": 21,
     "metadata": {},
     "output_type": "execute_result"
    }
   ],
   "source": [
    "memoryview(a)"
   ]
  },
  {
   "cell_type": "code",
   "execution_count": 22,
   "id": "02e4a896",
   "metadata": {},
   "outputs": [
    {
     "name": "stdout",
     "output_type": "stream",
     "text": [
      "0\n",
      "0\n",
      "0\n",
      "0\n"
     ]
    }
   ],
   "source": [
    "for item in memoryview(a):\n",
    "    print(item)"
   ]
  },
  {
   "cell_type": "code",
   "execution_count": 23,
   "id": "28412168",
   "metadata": {},
   "outputs": [
    {
     "data": {
      "text/plain": [
       "1"
      ]
     },
     "execution_count": 23,
     "metadata": {},
     "output_type": "execute_result"
    }
   ],
   "source": [
    "min([5,3,1])"
   ]
  },
  {
   "cell_type": "code",
   "execution_count": 24,
   "id": "7c3dfad5",
   "metadata": {},
   "outputs": [
    {
     "data": {
      "text/plain": [
       "False"
      ]
     },
     "execution_count": 24,
     "metadata": {},
     "output_type": "execute_result"
    }
   ],
   "source": [
    "min(True,False)"
   ]
  },
  {
   "cell_type": "code",
   "execution_count": 25,
   "id": "547b1438",
   "metadata": {},
   "outputs": [],
   "source": [
    "myIterator = iter([1,2,3,4,5])"
   ]
  },
  {
   "cell_type": "code",
   "execution_count": 26,
   "id": "895d67e3",
   "metadata": {},
   "outputs": [
    {
     "data": {
      "text/plain": [
       "1"
      ]
     },
     "execution_count": 26,
     "metadata": {},
     "output_type": "execute_result"
    }
   ],
   "source": [
    "next(myIterator)"
   ]
  },
  {
   "cell_type": "code",
   "execution_count": 27,
   "id": "c31b48f2",
   "metadata": {},
   "outputs": [
    {
     "data": {
      "text/plain": [
       "2"
      ]
     },
     "execution_count": 27,
     "metadata": {},
     "output_type": "execute_result"
    }
   ],
   "source": [
    "next(myIterator)"
   ]
  },
  {
   "cell_type": "code",
   "execution_count": 28,
   "id": "f20a8f0c",
   "metadata": {},
   "outputs": [
    {
     "data": {
      "text/plain": [
       "3"
      ]
     },
     "execution_count": 28,
     "metadata": {},
     "output_type": "execute_result"
    }
   ],
   "source": [
    "next(myIterator)"
   ]
  },
  {
   "cell_type": "code",
   "execution_count": 29,
   "id": "d43d2ef3",
   "metadata": {},
   "outputs": [
    {
     "data": {
      "text/plain": [
       "4"
      ]
     },
     "execution_count": 29,
     "metadata": {},
     "output_type": "execute_result"
    }
   ],
   "source": [
    "next(myIterator)"
   ]
  },
  {
   "cell_type": "code",
   "execution_count": 30,
   "id": "88a1df77",
   "metadata": {},
   "outputs": [],
   "source": [
    "o = object()"
   ]
  },
  {
   "cell_type": "code",
   "execution_count": 31,
   "id": "075bd1a9",
   "metadata": {},
   "outputs": [
    {
     "data": {
      "text/plain": [
       "object"
      ]
     },
     "execution_count": 31,
     "metadata": {},
     "output_type": "execute_result"
    }
   ],
   "source": [
    "type(o)"
   ]
  },
  {
   "cell_type": "code",
   "execution_count": 32,
   "id": "7d2a3261",
   "metadata": {},
   "outputs": [
    {
     "data": {
      "text/plain": [
       "['__class__',\n",
       " '__delattr__',\n",
       " '__dir__',\n",
       " '__doc__',\n",
       " '__eq__',\n",
       " '__format__',\n",
       " '__ge__',\n",
       " '__getattribute__',\n",
       " '__gt__',\n",
       " '__hash__',\n",
       " '__init__',\n",
       " '__init_subclass__',\n",
       " '__le__',\n",
       " '__lt__',\n",
       " '__ne__',\n",
       " '__new__',\n",
       " '__reduce__',\n",
       " '__reduce_ex__',\n",
       " '__repr__',\n",
       " '__setattr__',\n",
       " '__sizeof__',\n",
       " '__str__',\n",
       " '__subclasshook__']"
      ]
     },
     "execution_count": 32,
     "metadata": {},
     "output_type": "execute_result"
    }
   ],
   "source": [
    "dir(o)"
   ]
  },
  {
   "cell_type": "code",
   "execution_count": 34,
   "id": "22b61748",
   "metadata": {},
   "outputs": [
    {
     "data": {
      "text/plain": [
       "'0o7'"
      ]
     },
     "execution_count": 34,
     "metadata": {},
     "output_type": "execute_result"
    }
   ],
   "source": [
    "oct(7)"
   ]
  },
  {
   "cell_type": "code",
   "execution_count": 35,
   "id": "845bc9b6",
   "metadata": {},
   "outputs": [
    {
     "data": {
      "text/plain": [
       "'0o1'"
      ]
     },
     "execution_count": 35,
     "metadata": {},
     "output_type": "execute_result"
    }
   ],
   "source": [
    "oct(True)"
   ]
  },
  {
   "cell_type": "code",
   "execution_count": 36,
   "id": "764cd1ca",
   "metadata": {},
   "outputs": [],
   "source": [
    "import os"
   ]
  },
  {
   "cell_type": "code",
   "execution_count": 39,
   "id": "e6587c52",
   "metadata": {},
   "outputs": [
    {
     "ename": "FileNotFoundError",
     "evalue": "[Errno 2] No such file or directory: 'topic.txt'",
     "output_type": "error",
     "traceback": [
      "\u001b[1;31m---------------------------------------------------------------------------\u001b[0m",
      "\u001b[1;31mFileNotFoundError\u001b[0m                         Traceback (most recent call last)",
      "\u001b[1;32m~\\AppData\\Local\\Temp/ipykernel_3404/390497956.py\u001b[0m in \u001b[0;36m<module>\u001b[1;34m\u001b[0m\n\u001b[1;32m----> 1\u001b[1;33m \u001b[0mf\u001b[0m \u001b[1;33m=\u001b[0m\u001b[0mopen\u001b[0m\u001b[1;33m(\u001b[0m\u001b[1;34m'topic.txt'\u001b[0m\u001b[1;33m)\u001b[0m \u001b[1;31m# open the dark night\u001b[0m\u001b[1;33m\u001b[0m\u001b[1;33m\u001b[0m\u001b[0m\n\u001b[0m",
      "\u001b[1;31mFileNotFoundError\u001b[0m: [Errno 2] No such file or directory: 'topic.txt'"
     ]
    }
   ],
   "source": [
    "f =open('topic.txt') # open the dark night"
   ]
  },
  {
   "cell_type": "code",
   "execution_count": 41,
   "id": "d0651fed",
   "metadata": {},
   "outputs": [
    {
     "data": {
      "text/plain": [
       "65"
      ]
     },
     "execution_count": 41,
     "metadata": {},
     "output_type": "execute_result"
    }
   ],
   "source": [
    "ord('A')"
   ]
  },
  {
   "cell_type": "code",
   "execution_count": 42,
   "id": "24b8d908",
   "metadata": {},
   "outputs": [
    {
     "data": {
      "text/plain": [
       "57"
      ]
     },
     "execution_count": 42,
     "metadata": {},
     "output_type": "execute_result"
    }
   ],
   "source": [
    "ord('9')"
   ]
  },
  {
   "cell_type": "code",
   "execution_count": 43,
   "id": "512ac9f4",
   "metadata": {},
   "outputs": [
    {
     "data": {
      "text/plain": [
       "'A'"
      ]
     },
     "execution_count": 43,
     "metadata": {},
     "output_type": "execute_result"
    }
   ],
   "source": [
    "chr(65)"
   ]
  },
  {
   "cell_type": "code",
   "execution_count": 44,
   "id": "c9247249",
   "metadata": {},
   "outputs": [
    {
     "data": {
      "text/plain": [
       "81"
      ]
     },
     "execution_count": 44,
     "metadata": {},
     "output_type": "execute_result"
    }
   ],
   "source": [
    "pow(3,4)"
   ]
  },
  {
   "cell_type": "code",
   "execution_count": 45,
   "id": "6b70ee73",
   "metadata": {},
   "outputs": [
    {
     "data": {
      "text/plain": [
       "1"
      ]
     },
     "execution_count": 45,
     "metadata": {},
     "output_type": "execute_result"
    }
   ],
   "source": [
    "pow(7,0)"
   ]
  },
  {
   "cell_type": "code",
   "execution_count": 46,
   "id": "c85e3d7c",
   "metadata": {},
   "outputs": [
    {
     "data": {
      "text/plain": [
       "0.02040816326530612"
      ]
     },
     "execution_count": 46,
     "metadata": {},
     "output_type": "execute_result"
    }
   ],
   "source": [
    "pow(7,-2)"
   ]
  },
  {
   "cell_type": "code",
   "execution_count": 47,
   "id": "109cce6d",
   "metadata": {},
   "outputs": [
    {
     "name": "stdout",
     "output_type": "stream",
     "text": [
      "okay,next function,please!\n"
     ]
    }
   ],
   "source": [
    "print(\"okay,next function,please!\")"
   ]
  },
  {
   "cell_type": "code",
   "execution_count": 48,
   "id": "f2b2e581",
   "metadata": {},
   "outputs": [
    {
     "data": {
      "text/plain": [
       "<property at 0x26ddf542ae0>"
      ]
     },
     "execution_count": 48,
     "metadata": {},
     "output_type": "execute_result"
    }
   ],
   "source": [
    "property(\"this function is povery!\")"
   ]
  },
  {
   "cell_type": "code",
   "execution_count": 49,
   "id": "f55f0776",
   "metadata": {},
   "outputs": [
    {
     "name": "stdout",
     "output_type": "stream",
     "text": [
      "7\n",
      "5\n",
      "3\n"
     ]
    }
   ],
   "source": [
    "for item in range(7,2,-2):\n",
    "    print(item)"
   ]
  },
  {
   "cell_type": "code",
   "execution_count": 51,
   "id": "30a3b3ba",
   "metadata": {},
   "outputs": [
    {
     "name": "stdout",
     "output_type": "stream",
     "text": [
      "0\n",
      "2\n",
      "4\n"
     ]
    }
   ],
   "source": [
    "for item in range(0,5,2):\n",
    "    print(item)"
   ]
  },
  {
   "cell_type": "code",
   "execution_count": 52,
   "id": "2ddfd11c",
   "metadata": {},
   "outputs": [
    {
     "data": {
      "text/plain": [
       "\"'hello'\""
      ]
     },
     "execution_count": 52,
     "metadata": {},
     "output_type": "execute_result"
    }
   ],
   "source": [
    "repr(\"hello\")"
   ]
  },
  {
   "cell_type": "code",
   "execution_count": 53,
   "id": "6c981c00",
   "metadata": {},
   "outputs": [
    {
     "data": {
      "text/plain": [
       "\"'hi'\""
      ]
     },
     "execution_count": 53,
     "metadata": {},
     "output_type": "execute_result"
    }
   ],
   "source": [
    "repr(\"hi\")"
   ]
  },
  {
   "cell_type": "code",
   "execution_count": 54,
   "id": "49185302",
   "metadata": {},
   "outputs": [],
   "source": [
    "a = reversed([5,4,3,2,1])"
   ]
  },
  {
   "cell_type": "code",
   "execution_count": 55,
   "id": "607d09fd",
   "metadata": {},
   "outputs": [
    {
     "data": {
      "text/plain": [
       "<list_reverseiterator at 0x26ddf44f490>"
      ]
     },
     "execution_count": 55,
     "metadata": {},
     "output_type": "execute_result"
    }
   ],
   "source": [
    "a"
   ]
  },
  {
   "cell_type": "code",
   "execution_count": 56,
   "id": "46726e28",
   "metadata": {},
   "outputs": [
    {
     "name": "stdout",
     "output_type": "stream",
     "text": [
      "1\n",
      "2\n",
      "3\n",
      "4\n",
      "5\n"
     ]
    }
   ],
   "source": [
    "for item in a:\n",
    "    print(item)"
   ]
  },
  {
   "cell_type": "code",
   "execution_count": 57,
   "id": "cab66302",
   "metadata": {},
   "outputs": [
    {
     "data": {
      "text/plain": [
       "list_reverseiterator"
      ]
     },
     "execution_count": 57,
     "metadata": {},
     "output_type": "execute_result"
    }
   ],
   "source": [
    "type(a)"
   ]
  },
  {
   "cell_type": "code",
   "execution_count": 58,
   "id": "a7868b27",
   "metadata": {},
   "outputs": [
    {
     "data": {
      "text/plain": [
       "3.78"
      ]
     },
     "execution_count": 58,
     "metadata": {},
     "output_type": "execute_result"
    }
   ],
   "source": [
    "round(3.777,2)"
   ]
  },
  {
   "cell_type": "code",
   "execution_count": 59,
   "id": "5452c6b7",
   "metadata": {},
   "outputs": [
    {
     "data": {
      "text/plain": [
       "3.7"
      ]
     },
     "execution_count": 59,
     "metadata": {},
     "output_type": "execute_result"
    }
   ],
   "source": [
    "round(3.7,3)"
   ]
  },
  {
   "cell_type": "code",
   "execution_count": 60,
   "id": "c199adfe",
   "metadata": {},
   "outputs": [
    {
     "data": {
      "text/plain": [
       "{1, 2, 6, 34, 52}"
      ]
     },
     "execution_count": 60,
     "metadata": {},
     "output_type": "execute_result"
    }
   ],
   "source": [
    "set([1,2,34,52,2,6])"
   ]
  },
  {
   "cell_type": "code",
   "execution_count": 61,
   "id": "c4132787",
   "metadata": {},
   "outputs": [
    {
     "data": {
      "text/plain": [
       "slice(0, 10, None)"
      ]
     },
     "execution_count": 61,
     "metadata": {},
     "output_type": "execute_result"
    }
   ],
   "source": [
    "slice(0,10)"
   ]
  },
  {
   "cell_type": "code",
   "execution_count": 62,
   "id": "0e0fa7da",
   "metadata": {},
   "outputs": [
    {
     "data": {
      "text/plain": [
       "slice(0, 10, 2)"
      ]
     },
     "execution_count": 62,
     "metadata": {},
     "output_type": "execute_result"
    }
   ],
   "source": [
    "slice(0,10,2)"
   ]
  },
  {
   "cell_type": "code",
   "execution_count": 64,
   "id": "1abd1bda",
   "metadata": {},
   "outputs": [
    {
     "data": {
      "text/plain": [
       "'yh'"
      ]
     },
     "execution_count": 64,
     "metadata": {},
     "output_type": "execute_result"
    }
   ],
   "source": [
    "'python'[slice(1,5,2)]"
   ]
  },
  {
   "cell_type": "code",
   "execution_count": 65,
   "id": "54166d13",
   "metadata": {},
   "outputs": [
    {
     "data": {
      "text/plain": [
       "[1, 2, 4, 6, 7, 8, 9, 35]"
      ]
     },
     "execution_count": 65,
     "metadata": {},
     "output_type": "execute_result"
    }
   ],
   "source": [
    "sorted([1,2,35,6,4,7,8,9])"
   ]
  },
  {
   "cell_type": "code",
   "execution_count": 66,
   "id": "09cd69e7",
   "metadata": {},
   "outputs": [
    {
     "data": {
      "text/plain": [
       "['h', 'n', 'o', 'p', 't', 'y']"
      ]
     },
     "execution_count": 66,
     "metadata": {},
     "output_type": "execute_result"
    }
   ],
   "source": [
    "sorted(\"python\")"
   ]
  },
  {
   "cell_type": "code",
   "execution_count": 67,
   "id": "47bc5a77",
   "metadata": {},
   "outputs": [
    {
     "name": "stdout",
     "output_type": "stream",
     "text": [
      "hi\n"
     ]
    }
   ],
   "source": [
    "class fruit:\n",
    "    def sayhi():\n",
    "        print(\"hi\")\n",
    "fruit.sayhi=staticmethod(fruit.sayhi)\n",
    "fruit.sayhi()"
   ]
  },
  {
   "cell_type": "code",
   "execution_count": 69,
   "id": "72715d4b",
   "metadata": {},
   "outputs": [
    {
     "name": "stdout",
     "output_type": "stream",
     "text": [
      "hi\n"
     ]
    }
   ],
   "source": [
    "class fruit:\n",
    "    @staticmethod\n",
    "    def sayhi():\n",
    "        print(\"hi\")\n",
    "fruit.sayhi()"
   ]
  },
  {
   "cell_type": "code",
   "execution_count": 70,
   "id": "29bcf588",
   "metadata": {},
   "outputs": [
    {
     "data": {
      "text/plain": [
       "'hello'"
      ]
     },
     "execution_count": 70,
     "metadata": {},
     "output_type": "execute_result"
    }
   ],
   "source": [
    "str(\"hello\")"
   ]
  },
  {
   "cell_type": "code",
   "execution_count": 71,
   "id": "c38f830b",
   "metadata": {},
   "outputs": [
    {
     "data": {
      "text/plain": [
       "'258'"
      ]
     },
     "execution_count": 71,
     "metadata": {},
     "output_type": "execute_result"
    }
   ],
   "source": [
    "str('258')"
   ]
  },
  {
   "cell_type": "code",
   "execution_count": 72,
   "id": "bb7ca857",
   "metadata": {},
   "outputs": [
    {
     "data": {
      "text/plain": [
       "'496'"
      ]
     },
     "execution_count": 72,
     "metadata": {},
     "output_type": "execute_result"
    }
   ],
   "source": [
    "str(496)"
   ]
  },
  {
   "cell_type": "markdown",
   "id": "c2edd3e9",
   "metadata": {},
   "source": [
    "# What is Range in Python?\n",
    "The range() function is an inbuilt function in Python, and it returns a range object. First, let’s see what it looks like"
   ]
  },
  {
   "cell_type": "code",
   "execution_count": 73,
   "id": "be9fe6d9",
   "metadata": {},
   "outputs": [
    {
     "data": {
      "text/plain": [
       "range(0, 3)"
      ]
     },
     "execution_count": 73,
     "metadata": {},
     "output_type": "execute_result"
    }
   ],
   "source": [
    "range(3)"
   ]
  },
  {
   "cell_type": "code",
   "execution_count": 74,
   "id": "bd4b4496",
   "metadata": {},
   "outputs": [
    {
     "data": {
      "text/plain": [
       "[0, 1, 2]"
      ]
     },
     "execution_count": 74,
     "metadata": {},
     "output_type": "execute_result"
    }
   ],
   "source": [
    "list(range(3))"
   ]
  },
  {
   "cell_type": "code",
   "execution_count": 75,
   "id": "e170b4d7",
   "metadata": {},
   "outputs": [
    {
     "data": {
      "text/plain": [
       "[]"
      ]
     },
     "execution_count": 75,
     "metadata": {},
     "output_type": "execute_result"
    }
   ],
   "source": [
    "list(range(-3))"
   ]
  },
  {
   "cell_type": "code",
   "execution_count": 77,
   "id": "6d7e6a44",
   "metadata": {},
   "outputs": [
    {
     "data": {
      "text/plain": [
       "[0, 1, 2]"
      ]
     },
     "execution_count": 77,
     "metadata": {},
     "output_type": "execute_result"
    }
   ],
   "source": [
    "list(range(0,3))# der are two parameters first one start, den stope"
   ]
  },
  {
   "cell_type": "code",
   "execution_count": 78,
   "id": "eef6c85a",
   "metadata": {},
   "outputs": [
    {
     "data": {
      "text/plain": [
       "[]"
      ]
     },
     "execution_count": 78,
     "metadata": {},
     "output_type": "execute_result"
    }
   ],
   "source": [
    "list(range(7,1))"
   ]
  },
  {
   "cell_type": "code",
   "execution_count": 79,
   "id": "f20ac5f3",
   "metadata": {},
   "outputs": [
    {
     "data": {
      "text/plain": [
       "[-7, -6, -5, -4, -3, -2]"
      ]
     },
     "execution_count": 79,
     "metadata": {},
     "output_type": "execute_result"
    }
   ],
   "source": [
    "list(range(-7,-1))"
   ]
  },
  {
   "cell_type": "code",
   "execution_count": 80,
   "id": "2ae27550",
   "metadata": {},
   "outputs": [
    {
     "data": {
      "text/plain": [
       "[0, 2, 4]"
      ]
     },
     "execution_count": 80,
     "metadata": {},
     "output_type": "execute_result"
    }
   ],
   "source": [
    "list(range(0,5,2))"
   ]
  },
  {
   "cell_type": "code",
   "execution_count": 81,
   "id": "acaa0e5e",
   "metadata": {},
   "outputs": [
    {
     "name": "stdout",
     "output_type": "stream",
     "text": [
      "0\n",
      "1\n",
      "2\n",
      "3\n",
      "4\n",
      "5\n"
     ]
    }
   ],
   "source": [
    "for item in range(6):\n",
    "    print(item)"
   ]
  },
  {
   "cell_type": "markdown",
   "id": "87398487",
   "metadata": {},
   "source": [
    "# zip() is a built-in Python function that gives us an iterator of tuples."
   ]
  },
  {
   "cell_type": "code",
   "execution_count": 82,
   "id": "fa6a1999",
   "metadata": {},
   "outputs": [
    {
     "name": "stdout",
     "output_type": "stream",
     "text": [
      "(1, 'a')\n",
      "(2, 'b')\n",
      "(3, 'c')\n"
     ]
    }
   ],
   "source": [
    "for i in zip([1,2,3],['a','b','c']):\n",
    "    print(i)"
   ]
  },
  {
   "cell_type": "code",
   "execution_count": 83,
   "id": "d33dfe31",
   "metadata": {},
   "outputs": [
    {
     "name": "stdout",
     "output_type": "stream",
     "text": [
      "(1,)\n",
      "(2,)\n",
      "(3,)\n"
     ]
    }
   ],
   "source": [
    "# ziploc in the real word\n",
    "for i in zip([1,2,3]):\n",
    "    print(i)"
   ]
  },
  {
   "cell_type": "code",
   "execution_count": 84,
   "id": "ec730561",
   "metadata": {},
   "outputs": [
    {
     "name": "stdout",
     "output_type": "stream",
     "text": [
      "(1, 'a')\n",
      "(2, 'b')\n",
      "(3, 'c')\n"
     ]
    }
   ],
   "source": [
    "for i in zip([1,2,3],['a','b','c']):\n",
    "    print(i)"
   ]
  },
  {
   "cell_type": "code",
   "execution_count": 85,
   "id": "83cf3269",
   "metadata": {},
   "outputs": [],
   "source": [
    "z =zip([1,2,3],['a','b','c'],['#','*','&'])\n",
    "a,b,c=zip(*z)"
   ]
  },
  {
   "cell_type": "code",
   "execution_count": 86,
   "id": "b3c0513c",
   "metadata": {},
   "outputs": [
    {
     "data": {
      "text/plain": [
       "(1, 2, 3)"
      ]
     },
     "execution_count": 86,
     "metadata": {},
     "output_type": "execute_result"
    }
   ],
   "source": [
    "a"
   ]
  },
  {
   "cell_type": "code",
   "execution_count": 87,
   "id": "d81307c2",
   "metadata": {},
   "outputs": [
    {
     "data": {
      "text/plain": [
       "('a', 'b', 'c')"
      ]
     },
     "execution_count": 87,
     "metadata": {},
     "output_type": "execute_result"
    }
   ],
   "source": [
    "b"
   ]
  },
  {
   "cell_type": "code",
   "execution_count": 88,
   "id": "062a4515",
   "metadata": {},
   "outputs": [
    {
     "data": {
      "text/plain": [
       "('#', '*', '&')"
      ]
     },
     "execution_count": 88,
     "metadata": {},
     "output_type": "execute_result"
    }
   ],
   "source": [
    "c"
   ]
  },
  {
   "cell_type": "code",
   "execution_count": 89,
   "id": "b139db79",
   "metadata": {},
   "outputs": [],
   "source": [
    "a = zip([1,2,3],[a,b,c])\n"
   ]
  },
  {
   "cell_type": "code",
   "execution_count": 90,
   "id": "e181ae2d",
   "metadata": {},
   "outputs": [],
   "source": [
    "a,b=zip(*a)"
   ]
  },
  {
   "cell_type": "code",
   "execution_count": 91,
   "id": "376b52d0",
   "metadata": {},
   "outputs": [
    {
     "data": {
      "text/plain": [
       "(1, 2, 3)"
      ]
     },
     "execution_count": 91,
     "metadata": {},
     "output_type": "execute_result"
    }
   ],
   "source": [
    "a"
   ]
  },
  {
   "cell_type": "code",
   "execution_count": 92,
   "id": "4c9e20ac",
   "metadata": {},
   "outputs": [
    {
     "data": {
      "text/plain": [
       "((1, 2, 3), ('a', 'b', 'c'), ('#', '*', '&'))"
      ]
     },
     "execution_count": 92,
     "metadata": {},
     "output_type": "execute_result"
    }
   ],
   "source": [
    "b"
   ]
  },
  {
   "cell_type": "markdown",
   "id": "7c5a6345",
   "metadata": {},
   "source": [
    "# python Collections Module\n",
    "1. Counter\n",
    "2. DefaultDict\n",
    "3. OrderedDict\n",
    "4. NamedTuple"
   ]
  },
  {
   "cell_type": "markdown",
   "id": "82b9433d",
   "metadata": {},
   "source": [
    "## The ‘collections’ module in Python that implements special container datatypes"
   ]
  },
  {
   "cell_type": "code",
   "execution_count": 93,
   "id": "40fcbf3d",
   "metadata": {},
   "outputs": [],
   "source": [
    "from collections import Counter"
   ]
  },
  {
   "cell_type": "code",
   "execution_count": 94,
   "id": "f0034351",
   "metadata": {},
   "outputs": [],
   "source": [
    "string =\"mysfjieojflsknvkvjhsdfiuawehfhskjdncayegsfilakjweoqweilyweuiopoiuywgdhsjxmzbvxncm,z.poeiurytruieowghfjdsklaureiwopeuyyujfkdkkvbncmx,zdsghfsjgfjashgfjkahgsfqgwiefgshjdncayfisfgisuagfasock\""
   ]
  },
  {
   "cell_type": "code",
   "execution_count": 96,
   "id": "febecd75",
   "metadata": {},
   "outputs": [],
   "source": [
    "cont = Counter(string)"
   ]
  },
  {
   "cell_type": "code",
   "execution_count": 97,
   "id": "d914c97d",
   "metadata": {},
   "outputs": [
    {
     "data": {
      "text/plain": [
       "collections.Counter"
      ]
     },
     "execution_count": 97,
     "metadata": {},
     "output_type": "execute_result"
    }
   ],
   "source": [
    "type(cont)"
   ]
  },
  {
   "cell_type": "code",
   "execution_count": 98,
   "id": "1f9163b2",
   "metadata": {},
   "outputs": [
    {
     "data": {
      "text/plain": [
       "Counter({'m': 4,\n",
       "         'y': 8,\n",
       "         's': 15,\n",
       "         'f': 15,\n",
       "         'j': 12,\n",
       "         'i': 12,\n",
       "         'e': 11,\n",
       "         'o': 8,\n",
       "         'l': 4,\n",
       "         'k': 10,\n",
       "         'n': 5,\n",
       "         'v': 4,\n",
       "         'h': 9,\n",
       "         'd': 7,\n",
       "         'u': 9,\n",
       "         'a': 9,\n",
       "         'w': 8,\n",
       "         'c': 5,\n",
       "         'g': 11,\n",
       "         'q': 2,\n",
       "         'p': 3,\n",
       "         'x': 3,\n",
       "         'z': 3,\n",
       "         'b': 2,\n",
       "         ',': 2,\n",
       "         '.': 1,\n",
       "         'r': 3,\n",
       "         't': 1})"
      ]
     },
     "execution_count": 98,
     "metadata": {},
     "output_type": "execute_result"
    }
   ],
   "source": [
    "cont"
   ]
  },
  {
   "cell_type": "code",
   "execution_count": 99,
   "id": "531a0ce5",
   "metadata": {},
   "outputs": [],
   "source": [
    "import collections # Counter,OrderedDict,DefaultDict,NamedTuple"
   ]
  },
  {
   "cell_type": "code",
   "execution_count": 100,
   "id": "df2689bd",
   "metadata": {},
   "outputs": [],
   "source": [
    "from collections import Counter"
   ]
  },
  {
   "cell_type": "code",
   "execution_count": 101,
   "id": "2c76e2b5",
   "metadata": {},
   "outputs": [],
   "source": [
    "c = Counter({'a':3,'b':2,'c':1})"
   ]
  },
  {
   "cell_type": "code",
   "execution_count": 102,
   "id": "e4e78782",
   "metadata": {},
   "outputs": [
    {
     "data": {
      "text/plain": [
       "Counter({'a': 3, 'b': 2, 'c': 1})"
      ]
     },
     "execution_count": 102,
     "metadata": {},
     "output_type": "execute_result"
    }
   ],
   "source": [
    "c"
   ]
  },
  {
   "cell_type": "code",
   "execution_count": 103,
   "id": "85fa971e",
   "metadata": {},
   "outputs": [],
   "source": [
    "c = Counter('hello')"
   ]
  },
  {
   "cell_type": "code",
   "execution_count": 104,
   "id": "a93ae666",
   "metadata": {},
   "outputs": [
    {
     "data": {
      "text/plain": [
       "Counter({'h': 1, 'e': 1, 'l': 2, 'o': 1})"
      ]
     },
     "execution_count": 104,
     "metadata": {},
     "output_type": "execute_result"
    }
   ],
   "source": [
    "c"
   ]
  },
  {
   "cell_type": "code",
   "execution_count": 1,
   "id": "08044355",
   "metadata": {},
   "outputs": [],
   "source": [
    "string = \"manjunath kannur\""
   ]
  },
  {
   "cell_type": "code",
   "execution_count": 2,
   "id": "4f922e29",
   "metadata": {},
   "outputs": [],
   "source": [
    "from collections import Counter"
   ]
  },
  {
   "cell_type": "code",
   "execution_count": 3,
   "id": "c3754de9",
   "metadata": {},
   "outputs": [],
   "source": [
    "data = Counter(string)"
   ]
  },
  {
   "cell_type": "code",
   "execution_count": 4,
   "id": "26d03ba5",
   "metadata": {},
   "outputs": [
    {
     "data": {
      "text/plain": [
       "Counter({'m': 1,\n",
       "         'a': 3,\n",
       "         'n': 4,\n",
       "         'j': 1,\n",
       "         'u': 2,\n",
       "         't': 1,\n",
       "         'h': 1,\n",
       "         ' ': 1,\n",
       "         'k': 1,\n",
       "         'r': 1})"
      ]
     },
     "execution_count": 4,
     "metadata": {},
     "output_type": "execute_result"
    }
   ],
   "source": [
    "data"
   ]
  },
  {
   "cell_type": "code",
   "execution_count": 5,
   "id": "ac1da77d",
   "metadata": {},
   "outputs": [],
   "source": [
    "data.update('yarazari')"
   ]
  },
  {
   "cell_type": "code",
   "execution_count": 6,
   "id": "2b43535c",
   "metadata": {},
   "outputs": [
    {
     "data": {
      "text/plain": [
       "Counter({'m': 1,\n",
       "         'a': 6,\n",
       "         'n': 4,\n",
       "         'j': 1,\n",
       "         'u': 2,\n",
       "         't': 1,\n",
       "         'h': 1,\n",
       "         ' ': 1,\n",
       "         'k': 1,\n",
       "         'r': 3,\n",
       "         'y': 1,\n",
       "         'z': 1,\n",
       "         'i': 1})"
      ]
     },
     "execution_count": 6,
     "metadata": {},
     "output_type": "execute_result"
    }
   ],
   "source": [
    "data"
   ]
  },
  {
   "cell_type": "code",
   "execution_count": 7,
   "id": "048c48b5",
   "metadata": {},
   "outputs": [
    {
     "data": {
      "text/plain": [
       "1"
      ]
     },
     "execution_count": 7,
     "metadata": {},
     "output_type": "execute_result"
    }
   ],
   "source": [
    "data['m']"
   ]
  },
  {
   "cell_type": "code",
   "execution_count": 8,
   "id": "261653d6",
   "metadata": {},
   "outputs": [
    {
     "data": {
      "text/plain": [
       "6"
      ]
     },
     "execution_count": 8,
     "metadata": {},
     "output_type": "execute_result"
    }
   ],
   "source": [
    "data['a']"
   ]
  },
  {
   "cell_type": "code",
   "execution_count": 9,
   "id": "7fe69ec1",
   "metadata": {},
   "outputs": [
    {
     "data": {
      "text/plain": [
       "4"
      ]
     },
     "execution_count": 9,
     "metadata": {},
     "output_type": "execute_result"
    }
   ],
   "source": [
    "data['n']"
   ]
  },
  {
   "cell_type": "code",
   "execution_count": 10,
   "id": "22451ef0",
   "metadata": {},
   "outputs": [
    {
     "name": "stdout",
     "output_type": "stream",
     "text": [
      "m:1\n",
      "a:6\n",
      "a:6\n",
      "a:6\n",
      "a:6\n",
      "a:6\n",
      "a:6\n",
      "n:4\n",
      "n:4\n",
      "n:4\n",
      "n:4\n",
      "j:1\n",
      "u:2\n",
      "u:2\n",
      "t:1\n",
      "h:1\n",
      " :1\n",
      "k:1\n",
      "r:3\n",
      "r:3\n",
      "r:3\n",
      "y:1\n",
      "z:1\n",
      "i:1\n"
     ]
    }
   ],
   "source": [
    "for i in data.elements():\n",
    "    print(f\"{i}:{data[i]}\")"
   ]
  },
  {
   "cell_type": "code",
   "execution_count": 11,
   "id": "cf785a81",
   "metadata": {},
   "outputs": [],
   "source": [
    "c = Counter(\"hello\")"
   ]
  },
  {
   "cell_type": "code",
   "execution_count": 12,
   "id": "996ee93c",
   "metadata": {},
   "outputs": [
    {
     "data": {
      "text/plain": [
       "Counter({'h': 1, 'e': 1, 'l': 2, 'o': 1})"
      ]
     },
     "execution_count": 12,
     "metadata": {},
     "output_type": "execute_result"
    }
   ],
   "source": [
    "c"
   ]
  },
  {
   "cell_type": "code",
   "execution_count": 13,
   "id": "87340876",
   "metadata": {},
   "outputs": [
    {
     "data": {
      "text/plain": [
       "[('a', 6), ('n', 4)]"
      ]
     },
     "execution_count": 13,
     "metadata": {},
     "output_type": "execute_result"
    }
   ],
   "source": [
    "data.most_common(2)"
   ]
  },
  {
   "cell_type": "code",
   "execution_count": 14,
   "id": "ef5afe55",
   "metadata": {},
   "outputs": [],
   "source": [
    "c = \"renuka devi prasanna\""
   ]
  },
  {
   "cell_type": "code",
   "execution_count": 15,
   "id": "93726718",
   "metadata": {},
   "outputs": [],
   "source": [
    "d = Counter(c)"
   ]
  },
  {
   "cell_type": "code",
   "execution_count": 16,
   "id": "98889c7f",
   "metadata": {},
   "outputs": [
    {
     "data": {
      "text/plain": [
       "Counter({'r': 2,\n",
       "         'e': 2,\n",
       "         'n': 3,\n",
       "         'u': 1,\n",
       "         'k': 1,\n",
       "         'a': 4,\n",
       "         ' ': 2,\n",
       "         'd': 1,\n",
       "         'v': 1,\n",
       "         'i': 1,\n",
       "         'p': 1,\n",
       "         's': 1})"
      ]
     },
     "execution_count": 16,
     "metadata": {},
     "output_type": "execute_result"
    }
   ],
   "source": [
    "d"
   ]
  },
  {
   "cell_type": "code",
   "execution_count": 17,
   "id": "33c0c335",
   "metadata": {},
   "outputs": [
    {
     "data": {
      "text/plain": [
       "[('a', 4), ('n', 3), ('r', 2), ('e', 2)]"
      ]
     },
     "execution_count": 17,
     "metadata": {},
     "output_type": "execute_result"
    }
   ],
   "source": [
    "d.most_common(4)"
   ]
  },
  {
   "cell_type": "code",
   "execution_count": 1,
   "id": "b061fa19",
   "metadata": {},
   "outputs": [],
   "source": [
    "from collections import Counter"
   ]
  },
  {
   "cell_type": "code",
   "execution_count": 2,
   "id": "59a501d3",
   "metadata": {},
   "outputs": [],
   "source": [
    "c = Counter({'a':3,'b':2,'c':1})"
   ]
  },
  {
   "cell_type": "code",
   "execution_count": 3,
   "id": "c01621da",
   "metadata": {},
   "outputs": [
    {
     "data": {
      "text/plain": [
       "Counter({'a': 3, 'b': 2, 'c': 1})"
      ]
     },
     "execution_count": 3,
     "metadata": {},
     "output_type": "execute_result"
    }
   ],
   "source": [
    "c"
   ]
  },
  {
   "cell_type": "code",
   "execution_count": 4,
   "id": "4a9d57a2",
   "metadata": {},
   "outputs": [
    {
     "data": {
      "text/plain": [
       "collections.Counter"
      ]
     },
     "execution_count": 4,
     "metadata": {},
     "output_type": "execute_result"
    }
   ],
   "source": [
    "type(c)"
   ]
  },
  {
   "cell_type": "code",
   "execution_count": 5,
   "id": "d3aed9d3",
   "metadata": {},
   "outputs": [
    {
     "data": {
      "text/plain": [
       "3"
      ]
     },
     "execution_count": 5,
     "metadata": {},
     "output_type": "execute_result"
    }
   ],
   "source": [
    "c['a']"
   ]
  },
  {
   "cell_type": "code",
   "execution_count": 6,
   "id": "04346179",
   "metadata": {},
   "outputs": [
    {
     "data": {
      "text/plain": [
       "True"
      ]
     },
     "execution_count": 6,
     "metadata": {},
     "output_type": "execute_result"
    }
   ],
   "source": [
    "issubclass(Counter,dict)"
   ]
  },
  {
   "cell_type": "code",
   "execution_count": 7,
   "id": "0790d765",
   "metadata": {},
   "outputs": [],
   "source": [
    "c = Counter(['a','b','c','d','E','f','g','h','i','j','a','b'])"
   ]
  },
  {
   "cell_type": "code",
   "execution_count": 8,
   "id": "7e8374f4",
   "metadata": {},
   "outputs": [
    {
     "data": {
      "text/plain": [
       "Counter({'a': 2,\n",
       "         'b': 2,\n",
       "         'c': 1,\n",
       "         'd': 1,\n",
       "         'E': 1,\n",
       "         'f': 1,\n",
       "         'g': 1,\n",
       "         'h': 1,\n",
       "         'i': 1,\n",
       "         'j': 1})"
      ]
     },
     "execution_count": 8,
     "metadata": {},
     "output_type": "execute_result"
    }
   ],
   "source": [
    "c"
   ]
  },
  {
   "cell_type": "code",
   "execution_count": 10,
   "id": "9af70f24",
   "metadata": {},
   "outputs": [],
   "source": [
    "string =\"sjflkjwoiejskdjfoiwuwieryuyqierpqiweoqiwuofsjnvcbjlfjoiytwouoeoiiuroiywuywihsjdhfha;sjhbvbxnbvbvnxmxi\""
   ]
  },
  {
   "cell_type": "code",
   "execution_count": 11,
   "id": "02a9d947",
   "metadata": {},
   "outputs": [
    {
     "data": {
      "text/plain": [
       "'sjflkjwoiejskdjfoiwuwieryuyqierpqiweoqiwuofsjnvcbjlfjoiytwouoeoiiuroiywuywihsjdhfha;sjhbvbxnbvbvnxmxi'"
      ]
     },
     "execution_count": 11,
     "metadata": {},
     "output_type": "execute_result"
    }
   ],
   "source": [
    "string"
   ]
  },
  {
   "cell_type": "code",
   "execution_count": 12,
   "id": "2ac576fb",
   "metadata": {},
   "outputs": [],
   "source": [
    "data = Counter(string)"
   ]
  },
  {
   "cell_type": "code",
   "execution_count": 13,
   "id": "83c62f63",
   "metadata": {},
   "outputs": [
    {
     "data": {
      "text/plain": [
       "Counter({'s': 5,\n",
       "         'j': 9,\n",
       "         'f': 5,\n",
       "         'l': 2,\n",
       "         'k': 2,\n",
       "         'w': 8,\n",
       "         'o': 9,\n",
       "         'i': 12,\n",
       "         'e': 5,\n",
       "         'd': 2,\n",
       "         'u': 6,\n",
       "         'r': 3,\n",
       "         'y': 5,\n",
       "         'q': 3,\n",
       "         'p': 1,\n",
       "         'n': 3,\n",
       "         'v': 4,\n",
       "         'c': 1,\n",
       "         'b': 5,\n",
       "         't': 1,\n",
       "         'h': 4,\n",
       "         'a': 1,\n",
       "         ';': 1,\n",
       "         'x': 3,\n",
       "         'm': 1})"
      ]
     },
     "execution_count": 13,
     "metadata": {},
     "output_type": "execute_result"
    }
   ],
   "source": [
    "data"
   ]
  },
  {
   "cell_type": "code",
   "execution_count": 14,
   "id": "5c9cb03f",
   "metadata": {},
   "outputs": [],
   "source": [
    "c = Counter(['a','b','c','d','e','f'])"
   ]
  },
  {
   "cell_type": "code",
   "execution_count": 15,
   "id": "e207ae73",
   "metadata": {},
   "outputs": [
    {
     "data": {
      "text/plain": [
       "Counter({'a': 1, 'b': 1, 'c': 1, 'd': 1, 'e': 1, 'f': 1})"
      ]
     },
     "execution_count": 15,
     "metadata": {},
     "output_type": "execute_result"
    }
   ],
   "source": [
    "c"
   ]
  },
  {
   "cell_type": "code",
   "execution_count": 16,
   "id": "6fde6fb9",
   "metadata": {},
   "outputs": [],
   "source": [
    "c = Counter(\"hello\")"
   ]
  },
  {
   "cell_type": "code",
   "execution_count": 17,
   "id": "246d71c2",
   "metadata": {},
   "outputs": [
    {
     "data": {
      "text/plain": [
       "Counter({'h': 1, 'e': 1, 'l': 2, 'o': 1})"
      ]
     },
     "execution_count": 17,
     "metadata": {},
     "output_type": "execute_result"
    }
   ],
   "source": [
    "c"
   ]
  },
  {
   "cell_type": "code",
   "execution_count": 19,
   "id": "e16217e8",
   "metadata": {},
   "outputs": [],
   "source": [
    "c = Counter({'a':3,'b':2,'c':1})"
   ]
  },
  {
   "cell_type": "code",
   "execution_count": 20,
   "id": "2029d622",
   "metadata": {},
   "outputs": [
    {
     "data": {
      "text/plain": [
       "Counter({'a': 3, 'b': 2, 'c': 1})"
      ]
     },
     "execution_count": 20,
     "metadata": {},
     "output_type": "execute_result"
    }
   ],
   "source": [
    "c"
   ]
  },
  {
   "cell_type": "code",
   "execution_count": 21,
   "id": "f7f8466a",
   "metadata": {},
   "outputs": [],
   "source": [
    "c = Counter(a=3,b=2,c=1)"
   ]
  },
  {
   "cell_type": "code",
   "execution_count": 22,
   "id": "08fcad06",
   "metadata": {},
   "outputs": [
    {
     "data": {
      "text/plain": [
       "Counter({'a': 3, 'b': 2, 'c': 1})"
      ]
     },
     "execution_count": 22,
     "metadata": {},
     "output_type": "execute_result"
    }
   ],
   "source": [
    "c"
   ]
  },
  {
   "cell_type": "code",
   "execution_count": 23,
   "id": "d63f67e6",
   "metadata": {},
   "outputs": [],
   "source": [
    "d = Counter()"
   ]
  },
  {
   "cell_type": "code",
   "execution_count": 24,
   "id": "3a2fe5ce",
   "metadata": {},
   "outputs": [
    {
     "data": {
      "text/plain": [
       "Counter()"
      ]
     },
     "execution_count": 24,
     "metadata": {},
     "output_type": "execute_result"
    }
   ],
   "source": [
    "d"
   ]
  },
  {
   "cell_type": "code",
   "execution_count": 25,
   "id": "b71b17c3",
   "metadata": {},
   "outputs": [],
   "source": [
    "d.update(\"hello\")"
   ]
  },
  {
   "cell_type": "code",
   "execution_count": 26,
   "id": "9c243baa",
   "metadata": {},
   "outputs": [
    {
     "data": {
      "text/plain": [
       "Counter({'h': 1, 'e': 1, 'l': 2, 'o': 1})"
      ]
     },
     "execution_count": 26,
     "metadata": {},
     "output_type": "execute_result"
    }
   ],
   "source": [
    "d"
   ]
  },
  {
   "cell_type": "code",
   "execution_count": 27,
   "id": "8757fff1",
   "metadata": {},
   "outputs": [],
   "source": [
    "d.update({'e':2,'o':4})"
   ]
  },
  {
   "cell_type": "code",
   "execution_count": 28,
   "id": "62a14c87",
   "metadata": {},
   "outputs": [
    {
     "data": {
      "text/plain": [
       "Counter({'h': 1, 'e': 3, 'l': 2, 'o': 5})"
      ]
     },
     "execution_count": 28,
     "metadata": {},
     "output_type": "execute_result"
    }
   ],
   "source": [
    "d"
   ]
  },
  {
   "cell_type": "code",
   "execution_count": 29,
   "id": "ce3fa983",
   "metadata": {},
   "outputs": [
    {
     "data": {
      "text/plain": [
       "3"
      ]
     },
     "execution_count": 29,
     "metadata": {},
     "output_type": "execute_result"
    }
   ],
   "source": [
    "d['e']"
   ]
  },
  {
   "cell_type": "code",
   "execution_count": 30,
   "id": "c404809e",
   "metadata": {},
   "outputs": [],
   "source": [
    "e =Counter(\"hello\")"
   ]
  },
  {
   "cell_type": "code",
   "execution_count": 31,
   "id": "c5bd5972",
   "metadata": {},
   "outputs": [
    {
     "data": {
      "text/plain": [
       "Counter({'h': 1, 'e': 1, 'l': 2, 'o': 1})"
      ]
     },
     "execution_count": 31,
     "metadata": {},
     "output_type": "execute_result"
    }
   ],
   "source": [
    "e"
   ]
  },
  {
   "cell_type": "code",
   "execution_count": 32,
   "id": "9348ec8d",
   "metadata": {},
   "outputs": [
    {
     "name": "stdout",
     "output_type": "stream",
     "text": [
      "h:1\n",
      "e:1\n",
      "l:2\n",
      "p:0\n"
     ]
    }
   ],
   "source": [
    "for i in \"help\":\n",
    "    print(f\"{i}:{e[i]}\")"
   ]
  },
  {
   "cell_type": "code",
   "execution_count": 33,
   "id": "a2c1571f",
   "metadata": {},
   "outputs": [
    {
     "data": {
      "text/plain": [
       "0"
      ]
     },
     "execution_count": 33,
     "metadata": {},
     "output_type": "execute_result"
    }
   ],
   "source": [
    "e['q']"
   ]
  },
  {
   "cell_type": "code",
   "execution_count": 34,
   "id": "28c7847b",
   "metadata": {},
   "outputs": [],
   "source": [
    "dict1 ={'h':1,'e':1,'l':2,'o':1}"
   ]
  },
  {
   "cell_type": "code",
   "execution_count": 35,
   "id": "51d5bd64",
   "metadata": {},
   "outputs": [
    {
     "data": {
      "text/plain": [
       "{'h': 1, 'e': 1, 'l': 2, 'o': 1}"
      ]
     },
     "execution_count": 35,
     "metadata": {},
     "output_type": "execute_result"
    }
   ],
   "source": [
    "dict1"
   ]
  },
  {
   "cell_type": "code",
   "execution_count": 36,
   "id": "28855738",
   "metadata": {},
   "outputs": [
    {
     "ename": "KeyError",
     "evalue": "'p'",
     "output_type": "error",
     "traceback": [
      "\u001b[1;31m---------------------------------------------------------------------------\u001b[0m",
      "\u001b[1;31mKeyError\u001b[0m                                  Traceback (most recent call last)",
      "\u001b[1;32m~\\AppData\\Local\\Temp/ipykernel_1384/5393738.py\u001b[0m in \u001b[0;36m<module>\u001b[1;34m\u001b[0m\n\u001b[1;32m----> 1\u001b[1;33m \u001b[0mdict1\u001b[0m\u001b[1;33m[\u001b[0m\u001b[1;34m'p'\u001b[0m\u001b[1;33m]\u001b[0m\u001b[1;33m\u001b[0m\u001b[1;33m\u001b[0m\u001b[0m\n\u001b[0m",
      "\u001b[1;31mKeyError\u001b[0m: 'p'"
     ]
    }
   ],
   "source": [
    "dict1['p']"
   ]
  },
  {
   "cell_type": "code",
   "execution_count": 37,
   "id": "b28e40a6",
   "metadata": {},
   "outputs": [
    {
     "data": {
      "text/plain": [
       "1"
      ]
     },
     "execution_count": 37,
     "metadata": {},
     "output_type": "execute_result"
    }
   ],
   "source": [
    "dict1['e']"
   ]
  },
  {
   "cell_type": "code",
   "execution_count": 43,
   "id": "c32e15c3",
   "metadata": {},
   "outputs": [],
   "source": [
    "string =Counter( \"renukdevi prasanna\")"
   ]
  },
  {
   "cell_type": "code",
   "execution_count": 44,
   "id": "185adb52",
   "metadata": {},
   "outputs": [
    {
     "data": {
      "text/plain": [
       "Counter({'r': 2,\n",
       "         'e': 2,\n",
       "         'n': 3,\n",
       "         'u': 1,\n",
       "         'k': 1,\n",
       "         'd': 1,\n",
       "         'v': 1,\n",
       "         'i': 1,\n",
       "         ' ': 1,\n",
       "         'p': 1,\n",
       "         'a': 3,\n",
       "         's': 1})"
      ]
     },
     "execution_count": 44,
     "metadata": {},
     "output_type": "execute_result"
    }
   ],
   "source": [
    "string"
   ]
  },
  {
   "cell_type": "code",
   "execution_count": 45,
   "id": "4db94a87",
   "metadata": {},
   "outputs": [
    {
     "data": {
      "text/plain": [
       "12"
      ]
     },
     "execution_count": 45,
     "metadata": {},
     "output_type": "execute_result"
    }
   ],
   "source": [
    "len(string)"
   ]
  },
  {
   "cell_type": "code",
   "execution_count": 47,
   "id": "a0a2c42f",
   "metadata": {},
   "outputs": [
    {
     "name": "stdout",
     "output_type": "stream",
     "text": [
      "r:2\n",
      "r:2\n",
      "e:2\n",
      "e:2\n",
      "n:3\n",
      "n:3\n",
      "n:3\n",
      "u:1\n",
      "k:1\n",
      "d:1\n",
      "v:1\n",
      "i:1\n",
      " :1\n",
      "p:1\n",
      "a:3\n",
      "a:3\n",
      "a:3\n",
      "s:1\n"
     ]
    }
   ],
   "source": [
    "for item in string.elements():\n",
    "    print(f\"{item}:{string[item]}\")"
   ]
  },
  {
   "cell_type": "code",
   "execution_count": 48,
   "id": "31572e3f",
   "metadata": {},
   "outputs": [
    {
     "data": {
      "text/plain": [
       "[('n', 3)]"
      ]
     },
     "execution_count": 48,
     "metadata": {},
     "output_type": "execute_result"
    }
   ],
   "source": [
    "string.most_common(1)"
   ]
  },
  {
   "cell_type": "code",
   "execution_count": 49,
   "id": "01fc82bf",
   "metadata": {},
   "outputs": [
    {
     "data": {
      "text/plain": [
       "[('n', 3), ('a', 3)]"
      ]
     },
     "execution_count": 49,
     "metadata": {},
     "output_type": "execute_result"
    }
   ],
   "source": [
    "string.most_common(2)"
   ]
  },
  {
   "cell_type": "code",
   "execution_count": 50,
   "id": "5277d708",
   "metadata": {},
   "outputs": [
    {
     "data": {
      "text/plain": [
       "[('n', 3), ('a', 3), ('r', 2), ('e', 2), ('u', 1)]"
      ]
     },
     "execution_count": 50,
     "metadata": {},
     "output_type": "execute_result"
    }
   ],
   "source": [
    "string.most_common(5)"
   ]
  },
  {
   "cell_type": "code",
   "execution_count": 51,
   "id": "193f07e2",
   "metadata": {},
   "outputs": [
    {
     "data": {
      "text/plain": [
       "[('n', 3),\n",
       " ('a', 3),\n",
       " ('r', 2),\n",
       " ('e', 2),\n",
       " ('u', 1),\n",
       " ('k', 1),\n",
       " ('d', 1),\n",
       " ('v', 1),\n",
       " ('i', 1),\n",
       " (' ', 1),\n",
       " ('p', 1),\n",
       " ('s', 1)]"
      ]
     },
     "execution_count": 51,
     "metadata": {},
     "output_type": "execute_result"
    }
   ],
   "source": [
    "string.most_common()"
   ]
  },
  {
   "cell_type": "code",
   "execution_count": 52,
   "id": "5332ddac",
   "metadata": {},
   "outputs": [
    {
     "data": {
      "text/plain": [
       "2"
      ]
     },
     "execution_count": 52,
     "metadata": {},
     "output_type": "execute_result"
    }
   ],
   "source": [
    "string['e']"
   ]
  },
  {
   "cell_type": "code",
   "execution_count": 53,
   "id": "ae27e653",
   "metadata": {},
   "outputs": [
    {
     "data": {
      "text/plain": [
       "3"
      ]
     },
     "execution_count": 53,
     "metadata": {},
     "output_type": "execute_result"
    }
   ],
   "source": [
    "string['a']"
   ]
  },
  {
   "cell_type": "code",
   "execution_count": 54,
   "id": "00cae8b2",
   "metadata": {},
   "outputs": [
    {
     "ename": "NameError",
     "evalue": "name 'b' is not defined",
     "output_type": "error",
     "traceback": [
      "\u001b[1;31m---------------------------------------------------------------------------\u001b[0m",
      "\u001b[1;31mNameError\u001b[0m                                 Traceback (most recent call last)",
      "\u001b[1;32m~\\AppData\\Local\\Temp/ipykernel_1384/1068138982.py\u001b[0m in \u001b[0;36m<module>\u001b[1;34m\u001b[0m\n\u001b[1;32m----> 1\u001b[1;33m \u001b[0mb\u001b[0m\u001b[1;33m.\u001b[0m\u001b[0mclear\u001b[0m\u001b[1;33m(\u001b[0m\u001b[1;33m)\u001b[0m\u001b[1;33m\u001b[0m\u001b[1;33m\u001b[0m\u001b[0m\n\u001b[0m",
      "\u001b[1;31mNameError\u001b[0m: name 'b' is not defined"
     ]
    }
   ],
   "source": [
    "b.clear()"
   ]
  },
  {
   "cell_type": "code",
   "execution_count": 55,
   "id": "7939204e",
   "metadata": {},
   "outputs": [],
   "source": [
    "b =Counter(\"hello\")"
   ]
  },
  {
   "cell_type": "code",
   "execution_count": 56,
   "id": "2d0c88ff",
   "metadata": {},
   "outputs": [
    {
     "data": {
      "text/plain": [
       "Counter({'h': 1, 'e': 1, 'l': 2, 'o': 1})"
      ]
     },
     "execution_count": 56,
     "metadata": {},
     "output_type": "execute_result"
    }
   ],
   "source": [
    "b"
   ]
  },
  {
   "cell_type": "code",
   "execution_count": 57,
   "id": "8ee2e422",
   "metadata": {},
   "outputs": [],
   "source": [
    "b.clear()"
   ]
  },
  {
   "cell_type": "code",
   "execution_count": 58,
   "id": "ccbc8a8f",
   "metadata": {},
   "outputs": [
    {
     "data": {
      "text/plain": [
       "Counter()"
      ]
     },
     "execution_count": 58,
     "metadata": {},
     "output_type": "execute_result"
    }
   ],
   "source": [
    "b"
   ]
  },
  {
   "cell_type": "code",
   "execution_count": 59,
   "id": "2d70a51c",
   "metadata": {},
   "outputs": [],
   "source": [
    "a=Counter({'a':3,'b':2,'c':1})\n",
    "b= Counter({'c':3,'b':2,'e':1})"
   ]
  },
  {
   "cell_type": "code",
   "execution_count": 60,
   "id": "9f63e941",
   "metadata": {},
   "outputs": [
    {
     "data": {
      "text/plain": [
       "Counter({'a': 3, 'b': 4, 'c': 4, 'e': 1})"
      ]
     },
     "execution_count": 60,
     "metadata": {},
     "output_type": "execute_result"
    }
   ],
   "source": [
    "a+b"
   ]
  },
  {
   "cell_type": "code",
   "execution_count": 61,
   "id": "bb9e114c",
   "metadata": {},
   "outputs": [
    {
     "data": {
      "text/plain": [
       "Counter({'a': 3})"
      ]
     },
     "execution_count": 61,
     "metadata": {},
     "output_type": "execute_result"
    }
   ],
   "source": [
    "a-b"
   ]
  },
  {
   "cell_type": "code",
   "execution_count": 62,
   "id": "683cd526",
   "metadata": {},
   "outputs": [
    {
     "data": {
      "text/plain": [
       "Counter({'c': 2, 'e': 1})"
      ]
     },
     "execution_count": 62,
     "metadata": {},
     "output_type": "execute_result"
    }
   ],
   "source": [
    "b-a"
   ]
  },
  {
   "cell_type": "code",
   "execution_count": 63,
   "id": "58047229",
   "metadata": {},
   "outputs": [],
   "source": [
    "a.subtract(b)"
   ]
  },
  {
   "cell_type": "code",
   "execution_count": 64,
   "id": "931d3076",
   "metadata": {},
   "outputs": [
    {
     "data": {
      "text/plain": [
       "Counter({'a': 3, 'b': 0, 'c': -2, 'e': -1})"
      ]
     },
     "execution_count": 64,
     "metadata": {},
     "output_type": "execute_result"
    }
   ],
   "source": [
    "a"
   ]
  },
  {
   "cell_type": "code",
   "execution_count": 65,
   "id": "99227845",
   "metadata": {},
   "outputs": [
    {
     "data": {
      "text/plain": [
       "Counter()"
      ]
     },
     "execution_count": 65,
     "metadata": {},
     "output_type": "execute_result"
    }
   ],
   "source": [
    "a&b"
   ]
  },
  {
   "cell_type": "code",
   "execution_count": 66,
   "id": "f5817d88",
   "metadata": {},
   "outputs": [
    {
     "data": {
      "text/plain": [
       "Counter({'c': 1})"
      ]
     },
     "execution_count": 66,
     "metadata": {},
     "output_type": "execute_result"
    }
   ],
   "source": [
    "Counter({'c':1})"
   ]
  },
  {
   "cell_type": "code",
   "execution_count": 67,
   "id": "81a631b2",
   "metadata": {},
   "outputs": [],
   "source": [
    "a =Counter({'e':-1})"
   ]
  },
  {
   "cell_type": "code",
   "execution_count": 68,
   "id": "c311e1d9",
   "metadata": {},
   "outputs": [
    {
     "data": {
      "text/plain": [
       "Counter({'e': -1})"
      ]
     },
     "execution_count": 68,
     "metadata": {},
     "output_type": "execute_result"
    }
   ],
   "source": [
    "a"
   ]
  },
  {
   "cell_type": "code",
   "execution_count": 69,
   "id": "f9e38600",
   "metadata": {},
   "outputs": [
    {
     "data": {
      "text/plain": [
       "Counter({'e': 1})"
      ]
     },
     "execution_count": 69,
     "metadata": {},
     "output_type": "execute_result"
    }
   ],
   "source": [
    "-a"
   ]
  },
  {
   "cell_type": "code",
   "execution_count": 70,
   "id": "2916d246",
   "metadata": {},
   "outputs": [],
   "source": [
    "colors =(255,0,0)"
   ]
  },
  {
   "cell_type": "code",
   "execution_count": 71,
   "id": "73ba3584",
   "metadata": {},
   "outputs": [
    {
     "data": {
      "text/plain": [
       "255"
      ]
     },
     "execution_count": 71,
     "metadata": {},
     "output_type": "execute_result"
    }
   ],
   "source": [
    "colors[0]"
   ]
  },
  {
   "cell_type": "code",
   "execution_count": 72,
   "id": "04c9d0f8",
   "metadata": {},
   "outputs": [
    {
     "data": {
      "text/plain": [
       "0"
      ]
     },
     "execution_count": 72,
     "metadata": {},
     "output_type": "execute_result"
    }
   ],
   "source": [
    "colors[1]"
   ]
  },
  {
   "cell_type": "code",
   "execution_count": 73,
   "id": "75d4e366",
   "metadata": {},
   "outputs": [
    {
     "data": {
      "text/plain": [
       "0"
      ]
     },
     "execution_count": 73,
     "metadata": {},
     "output_type": "execute_result"
    }
   ],
   "source": [
    "colors[2]"
   ]
  },
  {
   "cell_type": "code",
   "execution_count": 74,
   "id": "a7b8f890",
   "metadata": {},
   "outputs": [
    {
     "ename": "TypeError",
     "evalue": "'tuple' object does not support item assignment",
     "output_type": "error",
     "traceback": [
      "\u001b[1;31m---------------------------------------------------------------------------\u001b[0m",
      "\u001b[1;31mTypeError\u001b[0m                                 Traceback (most recent call last)",
      "\u001b[1;32m~\\AppData\\Local\\Temp/ipykernel_1384/2512936116.py\u001b[0m in \u001b[0;36m<module>\u001b[1;34m\u001b[0m\n\u001b[1;32m----> 1\u001b[1;33m \u001b[0mcolors\u001b[0m\u001b[1;33m[\u001b[0m\u001b[1;36m1\u001b[0m\u001b[1;33m]\u001b[0m\u001b[1;33m=\u001b[0m\u001b[1;36m10\u001b[0m\u001b[1;33m\u001b[0m\u001b[1;33m\u001b[0m\u001b[0m\n\u001b[0m",
      "\u001b[1;31mTypeError\u001b[0m: 'tuple' object does not support item assignment"
     ]
    }
   ],
   "source": [
    "colors[1]=10"
   ]
  },
  {
   "cell_type": "code",
   "execution_count": 75,
   "id": "10d461b1",
   "metadata": {},
   "outputs": [],
   "source": [
    "from collections import namedtuple"
   ]
  },
  {
   "cell_type": "code",
   "execution_count": 79,
   "id": "4f0078c0",
   "metadata": {},
   "outputs": [],
   "source": [
    "colors =namedtuple('colors','red green blue')"
   ]
  },
  {
   "cell_type": "code",
   "execution_count": 80,
   "id": "65178803",
   "metadata": {},
   "outputs": [
    {
     "data": {
      "text/plain": [
       "__main__.colors"
      ]
     },
     "execution_count": 80,
     "metadata": {},
     "output_type": "execute_result"
    }
   ],
   "source": [
    "colors"
   ]
  },
  {
   "cell_type": "code",
   "execution_count": 81,
   "id": "195ff183",
   "metadata": {},
   "outputs": [
    {
     "data": {
      "text/plain": [
       "type"
      ]
     },
     "execution_count": 81,
     "metadata": {},
     "output_type": "execute_result"
    }
   ],
   "source": [
    "type(colors)"
   ]
  },
  {
   "cell_type": "code",
   "execution_count": 82,
   "id": "e06dcb4e",
   "metadata": {},
   "outputs": [],
   "source": [
    "red = colors(red=255,green=0,blue=0)"
   ]
  },
  {
   "cell_type": "raw",
   "id": "bcad8d59",
   "metadata": {},
   "source": [
    "red"
   ]
  },
  {
   "cell_type": "code",
   "execution_count": 83,
   "id": "83d95495",
   "metadata": {},
   "outputs": [],
   "source": [
    "green =colors(red=0,green=255,blue=0)"
   ]
  },
  {
   "cell_type": "code",
   "execution_count": 85,
   "id": "feb7042e",
   "metadata": {},
   "outputs": [],
   "source": [
    "blue=colors(red=0,green=0,blue=255)"
   ]
  },
  {
   "cell_type": "code",
   "execution_count": 86,
   "id": "a739eeba",
   "metadata": {},
   "outputs": [
    {
     "data": {
      "text/plain": [
       "colors(red=255, green=0, blue=0)"
      ]
     },
     "execution_count": 86,
     "metadata": {},
     "output_type": "execute_result"
    }
   ],
   "source": [
    "red"
   ]
  },
  {
   "cell_type": "code",
   "execution_count": 87,
   "id": "75b95737",
   "metadata": {},
   "outputs": [],
   "source": [
    "pets =namedtuple('pets',['name','age'])"
   ]
  },
  {
   "cell_type": "code",
   "execution_count": 88,
   "id": "193a5490",
   "metadata": {},
   "outputs": [],
   "source": [
    "fluffy =pets('fluffy',8)"
   ]
  },
  {
   "cell_type": "code",
   "execution_count": 89,
   "id": "84cccc5b",
   "metadata": {},
   "outputs": [
    {
     "data": {
      "text/plain": [
       "pets(name='fluffy', age=8)"
      ]
     },
     "execution_count": 89,
     "metadata": {},
     "output_type": "execute_result"
    }
   ],
   "source": [
    "fluffy"
   ]
  },
  {
   "cell_type": "code",
   "execution_count": 90,
   "id": "def4ffa4",
   "metadata": {},
   "outputs": [
    {
     "data": {
      "text/plain": [
       "__main__.pets"
      ]
     },
     "execution_count": 90,
     "metadata": {},
     "output_type": "execute_result"
    }
   ],
   "source": [
    "pets"
   ]
  },
  {
   "cell_type": "code",
   "execution_count": null,
   "id": "37302d9e",
   "metadata": {},
   "outputs": [],
   "source": []
  }
 ],
 "metadata": {
  "kernelspec": {
   "display_name": "Python 3 (ipykernel)",
   "language": "python",
   "name": "python3"
  },
  "language_info": {
   "codemirror_mode": {
    "name": "ipython",
    "version": 3
   },
   "file_extension": ".py",
   "mimetype": "text/x-python",
   "name": "python",
   "nbconvert_exporter": "python",
   "pygments_lexer": "ipython3",
   "version": "3.9.2"
  }
 },
 "nbformat": 4,
 "nbformat_minor": 5
}
