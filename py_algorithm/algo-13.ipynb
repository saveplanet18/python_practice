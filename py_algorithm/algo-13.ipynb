{
 "cells": [
  {
   "cell_type": "code",
   "execution_count": 1,
   "metadata": {},
   "outputs": [
    {
     "name": "stdout",
     "output_type": "stream",
     "text": [
      "enter the string:kjfalskjflaksjfahskfaasjdlaskdjfsjlsjfas\n"
     ]
    },
    {
     "data": {
      "text/plain": [
       "{'k': 5, 'j': 7, 'f': 6, 'a': 7, 'l': 4, 's': 8, 'h': 1, 'd': 2}"
      ]
     },
     "execution_count": 1,
     "metadata": {},
     "output_type": "execute_result"
    }
   ],
   "source": [
    "def string(name):\n",
    "    dict={}\n",
    "    for i in  name:\n",
    "        keys=dict.keys()\n",
    "        if i in keys:\n",
    "            dict[i]+=1\n",
    "        else:\n",
    "            dict[i]=1\n",
    "    return dict\n",
    "name=input(\"enter the string:\")\n",
    "string(name)"
   ]
  },
  {
   "cell_type": "code",
   "execution_count": 2,
   "metadata": {},
   "outputs": [],
   "source": [
    "from collections import Counter"
   ]
  },
  {
   "cell_type": "code",
   "execution_count": 3,
   "metadata": {},
   "outputs": [
    {
     "name": "stdout",
     "output_type": "stream",
     "text": [
      "Counter({'k': 8, 'j': 8, 'f': 7, 'a': 6, 's': 6, 'l': 5, 'd': 4, 'h': 3, 'g': 2, 'i': 2, 'e': 1, 'u': 1, 'r': 1, 'w': 1, 'y': 1})\n"
     ]
    }
   ],
   "source": [
    "print(Counter(\"akjldkalsdkjskjflakjlakjfshfajhaghsfgsdfkjsdlfkjieuriwyf\"))"
   ]
  },
  {
   "cell_type": "code",
   "execution_count": 4,
   "metadata": {},
   "outputs": [
    {
     "name": "stdout",
     "output_type": "stream",
     "text": [
      "enter the string:djalkjfaiuofisjfkasgfahfas;fakfljsslf;sfuhflsk\n"
     ]
    },
    {
     "data": {
      "text/plain": [
       "{'d': 1,\n",
       " 'j': 4,\n",
       " 'a': 6,\n",
       " 'l': 4,\n",
       " 'k': 4,\n",
       " 'f': 10,\n",
       " 'i': 2,\n",
       " 'u': 2,\n",
       " 'o': 1,\n",
       " 's': 7,\n",
       " 'g': 1,\n",
       " 'h': 2,\n",
       " ';': 2}"
      ]
     },
     "execution_count": 4,
     "metadata": {},
     "output_type": "execute_result"
    }
   ],
   "source": [
    "def string(name):\n",
    "    dict={}\n",
    "    for i in name:\n",
    "        if i in dict:\n",
    "            dict[i]+=1\n",
    "        else:\n",
    "            dict[i]=1\n",
    "    return dict\n",
    "name=input(\"enter the string:\")\n",
    "string(name)\n",
    "    "
   ]
  },
  {
   "cell_type": "code",
   "execution_count": 6,
   "metadata": {},
   "outputs": [
    {
     "name": "stdout",
     "output_type": "stream",
     "text": [
      "enter the string:qwertyuiop;;asdfghjkl;'nbvcxzasdfghjkqwertyuiopjhgfdsazxcvbnm\n"
     ]
    },
    {
     "data": {
      "text/plain": [
       "{'q': 2,\n",
       " 'w': 2,\n",
       " 'e': 2,\n",
       " 'r': 2,\n",
       " 't': 2,\n",
       " 'y': 2,\n",
       " 'u': 2,\n",
       " 'i': 2,\n",
       " 'o': 2,\n",
       " 'p': 2,\n",
       " ';': 3,\n",
       " 'a': 3,\n",
       " 's': 3,\n",
       " 'd': 3,\n",
       " 'f': 3,\n",
       " 'g': 3,\n",
       " 'h': 3,\n",
       " 'j': 3,\n",
       " 'k': 2,\n",
       " 'l': 1,\n",
       " \"'\": 1,\n",
       " 'n': 2,\n",
       " 'b': 2,\n",
       " 'v': 2,\n",
       " 'c': 2,\n",
       " 'x': 2,\n",
       " 'z': 2,\n",
       " 'm': 1}"
      ]
     },
     "execution_count": 6,
     "metadata": {},
     "output_type": "execute_result"
    }
   ],
   "source": [
    "def my(name):\n",
    "    dict={}\n",
    "    for i in name:\n",
    "        if i in dict:\n",
    "            dict[i]+=1\n",
    "        else:\n",
    "            dict[i]=1\n",
    "            \n",
    "    return dict\n",
    "name=input(\"enter the string:\")\n",
    "my(name)"
   ]
  },
  {
   "cell_type": "code",
   "execution_count": 7,
   "metadata": {},
   "outputs": [
    {
     "name": "stdout",
     "output_type": "stream",
     "text": [
      "[1, 2, 3, 4]\n",
      "[10, 20, 30, 40]\n"
     ]
    }
   ],
   "source": [
    "def func(mylist):\n",
    "    \"this changes a passed into this function\"\n",
    "    mylist=[1,2,3,4]\n",
    "    print(mylist)\n",
    "    return mylist\n",
    "mylist=[10,20,30,40]\n",
    "func(mylist)\n",
    "print(mylist)"
   ]
  },
  {
   "cell_type": "code",
   "execution_count": 9,
   "metadata": {},
   "outputs": [
    {
     "name": "stdout",
     "output_type": "stream",
     "text": [
      "enter the first string:manjunath kannur\n"
     ]
    },
    {
     "data": {
      "text/plain": [
       "{'m': 1,\n",
       " 'a': 3,\n",
       " 'n': 4,\n",
       " 'j': 1,\n",
       " 'u': 2,\n",
       " 't': 1,\n",
       " 'h': 1,\n",
       " ' ': 1,\n",
       " 'k': 1,\n",
       " 'r': 1}"
      ]
     },
     "execution_count": 9,
     "metadata": {},
     "output_type": "execute_result"
    }
   ],
   "source": [
    "def count1(name):\n",
    "    dict={}\n",
    "    for i in name:\n",
    "        if i in dict:\n",
    "            dict[i]+=1\n",
    "        else:\n",
    "            dict[i]=1\n",
    "    return dict\n",
    "name=input(\"enter the first string:\")\n",
    "count1(name)"
   ]
  },
  {
   "cell_type": "code",
   "execution_count": 10,
   "metadata": {},
   "outputs": [
    {
     "data": {
      "text/plain": [
       "-1"
      ]
     },
     "execution_count": 10,
     "metadata": {},
     "output_type": "execute_result"
    }
   ],
   "source": [
    "def linear(arr,x):\n",
    "    for i in range(len(arr)):\n",
    "        if arr[i]==x:\n",
    "            return x\n",
    "    return -1\n",
    "arr=[1,2,3,5,4,7]\n",
    "x=len(arr)\n",
    "linear(arr,x)\n",
    "            "
   ]
  },
  {
   "cell_type": "code",
   "execution_count": 11,
   "metadata": {},
   "outputs": [
    {
     "name": "stdout",
     "output_type": "stream",
     "text": [
      "hello word\n"
     ]
    }
   ],
   "source": [
    "# sample program print hello word\n",
    "print(\"hello word\")"
   ]
  },
  {
   "cell_type": "code",
   "execution_count": 12,
   "metadata": {},
   "outputs": [
    {
     "name": "stdout",
     "output_type": "stream",
     "text": [
      "enter the first string:manjunath kannur\n",
      "manjunath kannur\n"
     ]
    }
   ],
   "source": [
    "str=input(\"enter the first string:\")\n",
    "print(str)"
   ]
  },
  {
   "cell_type": "code",
   "execution_count": 17,
   "metadata": {},
   "outputs": [
    {
     "name": "stdout",
     "output_type": "stream",
     "text": [
      "enter the first number89\n",
      "enter the second number98\n"
     ]
    },
    {
     "data": {
      "text/plain": [
       "'8998'"
      ]
     },
     "execution_count": 17,
     "metadata": {},
     "output_type": "execute_result"
    }
   ],
   "source": [
    "def show(num,num1):\n",
    "    return (num + num1)# concanatation its not adding addition\n",
    "num=input(\"enter the first number\")\n",
    "num1=input(\"enter the second number\")\n",
    "show(num,num1)"
   ]
  },
  {
   "cell_type": "code",
   "execution_count": 18,
   "metadata": {},
   "outputs": [
    {
     "name": "stdout",
     "output_type": "stream",
     "text": [
      "enter the first number:58\n",
      "enter the second number:69\n",
      "total number of 127.0 add 69 sum58\n"
     ]
    }
   ],
   "source": [
    "number1=input(\"enter the first number:\")\n",
    "number2=input(\"enter the second number:\")\n",
    "sum=float(number1)+float(number2)\n",
    "print(\"total number of {0} add {1} sum{2}\".format(sum,number2,number1))"
   ]
  },
  {
   "cell_type": "code",
   "execution_count": 20,
   "metadata": {},
   "outputs": [
    {
     "name": "stdout",
     "output_type": "stream",
     "text": [
      "enter the first number:98\n",
      "Enter the second number:89\n",
      "187.0 9.0 8722.0 1.101123595505618 9.0\n"
     ]
    }
   ],
   "source": [
    "# perform arithematic operation\n",
    "number1=float(input(\"enter the first number:\"))\n",
    "number2=float(input(\"Enter the second number:\"))\n",
    "add=number1+number2\n",
    "sub=number1-number2\n",
    "mul=number1*number2\n",
    "div=number1/number2\n",
    "mod=number1%number2\n",
    "print(add,sub,mul,div,mod)"
   ]
  },
  {
   "cell_type": "code",
   "execution_count": 21,
   "metadata": {},
   "outputs": [],
   "source": [
    "import calendar"
   ]
  },
  {
   "cell_type": "code",
   "execution_count": 23,
   "metadata": {},
   "outputs": [
    {
     "name": "stdout",
     "output_type": "stream",
     "text": [
      "enter the year:1990\n",
      "enter the month:07\n",
      "     July 1990\n",
      "Mo Tu We Th Fr Sa Su\n",
      "                   1\n",
      " 2  3  4  5  6  7  8\n",
      " 9 10 11 12 13 14 15\n",
      "16 17 18 19 20 21 22\n",
      "23 24 25 26 27 28 29\n",
      "30 31\n",
      "\n"
     ]
    }
   ],
   "source": [
    "year=int(input(\"enter the year:\"))\n",
    "month=int(input(\"enter the month:\"))\n",
    "print(calendar.month(year,month))"
   ]
  },
  {
   "cell_type": "code",
   "execution_count": 24,
   "metadata": {},
   "outputs": [
    {
     "name": "stdout",
     "output_type": "stream",
     "text": [
      "enter the number:3\n"
     ]
    },
    {
     "data": {
      "text/plain": [
       "27.0"
      ]
     },
     "execution_count": 24,
     "metadata": {},
     "output_type": "execute_result"
    }
   ],
   "source": [
    "# cube of number\n",
    "def cube(number):\n",
    "    return number*number*number\n",
    "number=float(input(\"enter the number:\"))\n",
    "cube(number)"
   ]
  },
  {
   "cell_type": "code",
   "execution_count": 26,
   "metadata": {},
   "outputs": [
    {
     "name": "stdout",
     "output_type": "stream",
     "text": [
      "enter the frist number:2\n",
      "8\n"
     ]
    }
   ],
   "source": [
    "number=int(input(\"enter the frist number:\"))\n",
    "cube=number*number*number\n",
    "print(cube)"
   ]
  },
  {
   "cell_type": "code",
   "execution_count": 27,
   "metadata": {},
   "outputs": [
    {
     "name": "stdout",
     "output_type": "stream",
     "text": [
      "enter the number:3\n",
      "27.0\n"
     ]
    }
   ],
   "source": [
    "number=float(input(\"enter the number:\"))\n",
    "cube=number**3\n",
    "print(cube)"
   ]
  },
  {
   "cell_type": "code",
   "execution_count": 30,
   "metadata": {},
   "outputs": [
    {
     "name": "stdout",
     "output_type": "stream",
     "text": [
      "enter the principal amount:10000\n",
      "enter the rate of interest:24\n",
      "enter the time of period:12\n",
      "28800.0\n"
     ]
    }
   ],
   "source": [
    "principa_amount=float(input(\"enter the principal amount:\"))\n",
    "rate_of_int=int(input(\"enter the rate of interest:\"))\n",
    "time_period=int(input(\"enter the time of period:\"))\n",
    "rat=(principa_amount*rate_of_int*time_period)/100\n",
    "print(rat)"
   ]
  },
  {
   "cell_type": "code",
   "execution_count": 35,
   "metadata": {},
   "outputs": [
    {
     "name": "stdout",
     "output_type": "stream",
     "text": [
      "enter the principal amount:25\n",
      "enter the rate of interest:35\n",
      "enter time period:12\n"
     ]
    },
    {
     "data": {
      "text/plain": [
       "105.0"
      ]
     },
     "execution_count": 35,
     "metadata": {},
     "output_type": "execute_result"
    }
   ],
   "source": [
    "def interest(p,r,t):\n",
    "    return (p*r*t)/100\n",
    "p=float(input(\"enter the principal amount:\"))\n",
    "r=float(input(\"enter the rate of interest:\"))\n",
    "t=float(input(\"enter time period:\"))\n",
    "interest(p,r,t)\n"
   ]
  },
  {
   "cell_type": "code",
   "execution_count": 41,
   "metadata": {},
   "outputs": [],
   "source": [
    "import math\n"
   ]
  },
  {
   "cell_type": "code",
   "execution_count": 48,
   "metadata": {},
   "outputs": [
    {
     "name": "stdout",
     "output_type": "stream",
     "text": [
      "1000\n",
      "24\n",
      "12\n"
     ]
    },
    {
     "data": {
      "text/plain": [
       "14178.628934502429"
      ]
     },
     "execution_count": 48,
     "metadata": {},
     "output_type": "execute_result"
    }
   ],
   "source": [
    "def comp(p,r,t):\n",
    "    show=p*(math.pow((1+r/100),t))\n",
    "    com=show-p\n",
    "    return com\n",
    "p=float(input())\n",
    "r=float(input())\n",
    "t=float(input())\n",
    "comp(p,t,r)"
   ]
  },
  {
   "cell_type": "code",
   "execution_count": 50,
   "metadata": {},
   "outputs": [
    {
     "name": "stdout",
     "output_type": "stream",
     "text": [
      "25\n",
      "3\n",
      "25.0 and 3.0\n"
     ]
    }
   ],
   "source": [
    "# largest of two numbers\n",
    "a=float(input())\n",
    "b=float(input())\n",
    "if (a>b):\n",
    "    print(\"{0} and {1}\".format(a,b))\n",
    "elif (b>a):\n",
    "    print(\"{0} and {1}\".fomat(b,a))\n",
    "else:\n",
    "    print(\"nothing;\")"
   ]
  },
  {
   "cell_type": "code",
   "execution_count": 2,
   "metadata": {},
   "outputs": [
    {
     "name": "stdout",
     "output_type": "stream",
     "text": [
      "enter the first number:65\n",
      "enter the second:58\n",
      "65.0 and 58.0\n"
     ]
    }
   ],
   "source": [
    "a=float(input(\"enter the first number:\"))\n",
    "b=float(input(\"enter the second:\"))\n",
    "if (a>b):\n",
    "    print(\"{0} and {1}\".format(a,b))\n",
    "elif (b,a):\n",
    "    print(\"{0} and {1}\".format(b,a))\n",
    "else:\n",
    "    print(\"nothing:\")"
   ]
  },
  {
   "cell_type": "code",
   "execution_count": 4,
   "metadata": {},
   "outputs": [
    {
     "name": "stdout",
     "output_type": "stream",
     "text": [
      "enter the first number:8520\n",
      "enter the second number:852045\n",
      "enter the third number:39852741\n",
      "39852741.0 and 852045.0 =8520.0\n"
     ]
    }
   ],
   "source": [
    "# largest three numbers\n",
    "a=float(input(\"enter the first number:\"))\n",
    "b=float(input(\"enter the second number:\"))\n",
    "c=float(input(\"enter the third number:\"))\n",
    "\n",
    "\n",
    "if (a>b) and (a>c):\n",
    "    print(\"{0} and {1} ={2}\".format(a,b,c))\n",
    "elif (b>a) and (b>c):\n",
    "    print(\"{0} and {1} ={2}\".format(b,a,c))\n",
    "elif (c>a) and (c>b):\n",
    "    print(\"{0} and {1} ={2}\".format(c,b,a))\n",
    "else:\n",
    "    print(\"nothing:\")"
   ]
  },
  {
   "cell_type": "code",
   "execution_count": 10,
   "metadata": {},
   "outputs": [
    {
     "name": "stdout",
     "output_type": "stream",
     "text": [
      "enter the first number:10\n",
      "10\n",
      "12345678910"
     ]
    }
   ],
   "source": [
    "# natural number\n",
    "number=int(input(\"enter the first number:\"))\n",
    "print(\"{0}\".format(number))\n",
    "for i in range(1,number+1):\n",
    "    print(i,end='')"
   ]
  },
  {
   "cell_type": "code",
   "execution_count": 11,
   "metadata": {},
   "outputs": [
    {
     "name": "stdout",
     "output_type": "stream",
     "text": [
      "1\n",
      "2\n",
      "3\n",
      "4\n",
      "5\n",
      "6\n",
      "7\n",
      "8\n",
      "9\n"
     ]
    }
   ],
   "source": [
    "for i in range(1,10):\n",
    "    print(i)"
   ]
  },
  {
   "cell_type": "code",
   "execution_count": 12,
   "metadata": {},
   "outputs": [
    {
     "name": "stdout",
     "output_type": "stream",
     "text": [
      "0\n",
      "1\n",
      "2\n",
      "3\n",
      "4\n",
      "5\n",
      "6\n",
      "7\n",
      "8\n",
      "9\n"
     ]
    }
   ],
   "source": [
    "for i in range(10):\n",
    "    print(i)"
   ]
  },
  {
   "cell_type": "code",
   "execution_count": 16,
   "metadata": {},
   "outputs": [
    {
     "name": "stdout",
     "output_type": "stream",
     "text": [
      "0\n",
      "2\n",
      "4\n",
      "6\n",
      "8\n"
     ]
    }
   ],
   "source": [
    "for i in range(0,10,2):\n",
    "    print(i)"
   ]
  },
  {
   "cell_type": "code",
   "execution_count": 18,
   "metadata": {},
   "outputs": [
    {
     "name": "stdout",
     "output_type": "stream",
     "text": [
      "123456789"
     ]
    }
   ],
   "source": [
    "for i in range(1,10):\n",
    "    print(i,end='')"
   ]
  },
  {
   "cell_type": "code",
   "execution_count": 20,
   "metadata": {},
   "outputs": [
    {
     "name": "stdout",
     "output_type": "stream",
     "text": [
      "enter the number:10\n",
      "10\n",
      "12345678910"
     ]
    }
   ],
   "source": [
    "number=int(input(\"enter the number:\"))\n",
    "i=1\n",
    "print(\"{0}\".format(number))\n",
    "while(i<=number):\n",
    "    print(i,end='')\n",
    "    i=i+1\n",
    "    \n"
   ]
  },
  {
   "cell_type": "code",
   "execution_count": 22,
   "metadata": {},
   "outputs": [
    {
     "name": "stdout",
     "output_type": "stream",
     "text": [
      "enter the first number:1\n",
      "enter the second number:10\n",
      "1 and 10\n",
      "12345678910"
     ]
    }
   ],
   "source": [
    "minimum=int(input(\"enter the first number:\"))\n",
    "maxmum=int(input(\"enter the second number:\"))\n",
    "print(\"{0} and {1}\".format(minimum,maxmum))\n",
    "for i in range(minimum,maxmum+1):\n",
    "    print(i,end='')"
   ]
  },
  {
   "cell_type": "code",
   "execution_count": 1,
   "metadata": {},
   "outputs": [
    {
     "name": "stdout",
     "output_type": "stream",
     "text": [
      "enter the number:10\n",
      "10987654321"
     ]
    }
   ],
   "source": [
    "number=int(input(\"enter the number:\"))\n",
    "i=number\n",
    "while(i>=1):\n",
    "    print(i,end='')\n",
    "    i=i-1\n",
    "    "
   ]
  },
  {
   "cell_type": "code",
   "execution_count": 2,
   "metadata": {},
   "outputs": [
    {
     "name": "stdout",
     "output_type": "stream",
     "text": [
      "12345678910"
     ]
    }
   ],
   "source": [
    "for i in range(1,number+1):\n",
    "    print(i,end='')\n",
    "    i=i+1\n"
   ]
  },
  {
   "cell_type": "code",
   "execution_count": 3,
   "metadata": {},
   "outputs": [
    {
     "name": "stdout",
     "output_type": "stream",
     "text": [
      "12345678910"
     ]
    }
   ],
   "source": [
    "for i in range(1,number+1):\n",
    "    print(i,end='')\n",
    "    i=i-1"
   ]
  },
  {
   "cell_type": "code",
   "execution_count": 6,
   "metadata": {},
   "outputs": [
    {
     "name": "stdout",
     "output_type": "stream",
     "text": [
      "0123456789"
     ]
    }
   ],
   "source": [
    "for i in range(10):\n",
    "    print(i,end='')\n",
    "    i=i-1"
   ]
  },
  {
   "cell_type": "code",
   "execution_count": 10,
   "metadata": {},
   "outputs": [
    {
     "name": "stdout",
     "output_type": "stream",
     "text": [
      "enter the number:35\n",
      "even number 35\n"
     ]
    }
   ],
   "source": [
    "# odd number\n",
    "number=int(input(\"enter the number:\"))\n",
    "if (number%2==0):\n",
    "    print(\"odd number\",number)\n",
    "else:\n",
    "    print(\"even number\",number)"
   ]
  },
  {
   "cell_type": "code",
   "execution_count": 12,
   "metadata": {},
   "outputs": [
    {
     "name": "stdout",
     "output_type": "stream",
     "text": [
      "enter the number:10\n",
      "2\n",
      "4\n",
      "6\n",
      "8\n",
      "10\n"
     ]
    }
   ],
   "source": [
    "number=int(input(\"enter the number:\"))\n",
    "for i in range(1,number+1):\n",
    "    if (i%2==0):\n",
    "        print(\"{0}\".format(i))\n",
    "        "
   ]
  },
  {
   "cell_type": "code",
   "execution_count": null,
   "metadata": {},
   "outputs": [
    {
     "name": "stdout",
     "output_type": "stream",
     "text": [
      "enter the number:10\n"
     ]
    }
   ],
   "source": [
    "maxi=int(input(\"enter the number:\"))\n",
    "number=1\n",
    "\n",
    "while number<=maxi:\n",
    "    if (number%2==0):\n",
    "        print(number)\n",
    "        number=number+1\n",
    "        \n",
    "        "
   ]
  },
  {
   "cell_type": "code",
   "execution_count": 1,
   "metadata": {},
   "outputs": [
    {
     "name": "stdout",
     "output_type": "stream",
     "text": [
      "enter the max number:10\n",
      "enter the min number:1\n",
      "246810"
     ]
    }
   ],
   "source": [
    "maxi=int(input(\"enter the max number:\"))\n",
    "mini=int(input(\"enter the min number:\"))\n",
    "for i in range(mini,maxi+1):\n",
    "    if (i%2==0):\n",
    "        print(i,end='')\n",
    "        "
   ]
  },
  {
   "cell_type": "code",
   "execution_count": 3,
   "metadata": {},
   "outputs": [
    {
     "name": "stdout",
     "output_type": "stream",
     "text": [
      "-1\n",
      "0\n",
      "1\n",
      "2\n",
      "3\n",
      "4\n",
      "5\n",
      "6\n",
      "7\n",
      "8\n"
     ]
    }
   ],
   "source": [
    "for i in range(10):\n",
    "    i=i-1\n",
    "    print(i)\n",
    "    "
   ]
  },
  {
   "cell_type": "code",
   "execution_count": 18,
   "metadata": {},
   "outputs": [
    {
     "name": "stdout",
     "output_type": "stream",
     "text": [
      "987654321"
     ]
    }
   ],
   "source": [
    "for i in reversed(range(1,10)):\n",
    "    print(i,end='')\n",
    "   \n",
    "    "
   ]
  },
  {
   "cell_type": "code",
   "execution_count": 20,
   "metadata": {},
   "outputs": [
    {
     "name": "stdout",
     "output_type": "stream",
     "text": [
      "enter the number:10\n",
      "10\n",
      "8\n",
      "6\n",
      "4\n",
      "2\n"
     ]
    }
   ],
   "source": [
    "number=int(input(\"enter the number:\"))\n",
    "for i in reversed(range(1,number+1)):\n",
    "    if (i%2==0):\n",
    "        print(i)"
   ]
  },
  {
   "cell_type": "code",
   "execution_count": 2,
   "metadata": {},
   "outputs": [
    {
     "name": "stdout",
     "output_type": "stream",
     "text": [
      "enter the first number:10\n",
      "2\n",
      "4\n",
      "6\n",
      "8\n",
      "10\n"
     ]
    }
   ],
   "source": [
    "maxi=int(input(\"enter the first number:\"))\n",
    "number=1\n",
    "\n",
    "while(number<=maxi):\n",
    "    if (number%2==0):\n",
    "        print(number)\n",
    "    number=number+1"
   ]
  },
  {
   "cell_type": "code",
   "execution_count": 3,
   "metadata": {},
   "outputs": [
    {
     "name": "stdout",
     "output_type": "stream",
     "text": [
      "1\n",
      "3\n",
      "5\n",
      "7\n",
      "9\n"
     ]
    }
   ],
   "source": [
    "for i in range(1,maxi+1):\n",
    "    if (i%2 !=0):\n",
    "        print(i)"
   ]
  },
  {
   "cell_type": "code",
   "execution_count": 8,
   "metadata": {},
   "outputs": [
    {
     "name": "stdout",
     "output_type": "stream",
     "text": [
      "enter the number:-25\n"
     ]
    }
   ],
   "source": [
    "number=int(input(\"enter the number:\"))"
   ]
  },
  {
   "cell_type": "code",
   "execution_count": 10,
   "metadata": {},
   "outputs": [
    {
     "name": "stdout",
     "output_type": "stream",
     "text": [
      "negtive number-25\n"
     ]
    }
   ],
   "source": [
    "if (number>0):\n",
    "    print(\"posivte number={0}\".format(number))\n",
    "elif(number<0):\n",
    "    print(\"negtive number{0}\".format(number))\n",
    "else:\n",
    "    print(\"nothing\")"
   ]
  },
  {
   "cell_type": "code",
   "execution_count": 13,
   "metadata": {},
   "outputs": [
    {
     "name": "stdout",
     "output_type": "stream",
     "text": [
      "enter the actual amout:100\n",
      "enter the sales amount:1000000\n",
      "999900.0\n"
     ]
    }
   ],
   "source": [
    "# profit & loss\n",
    "# actual_amount and sales_amount\n",
    "actua_amount=float(input(\"enter the actual amout:\"))\n",
    "sale_amount=float(input(\"enter the sales amount:\"))\n",
    "\n",
    "if (actua_amount>sale_amount):\n",
    "    amount=actua_amount-sale_amount\n",
    "    print(amount)\n",
    "elif (sale_amount>actua_amount):\n",
    "    amount=sale_amount-actua_amount\n",
    "    print(amount)\n",
    "else:\n",
    "    print(\"nothing:\")\n",
    "    "
   ]
  },
  {
   "cell_type": "code",
   "execution_count": 14,
   "metadata": {},
   "outputs": [
    {
     "name": "stdout",
     "output_type": "stream",
     "text": [
      "square is double625\n"
     ]
    }
   ],
   "source": [
    "# squre number\n",
    "squre=number*number\n",
    "print(\"square is double{0}\".format(squre))"
   ]
  },
  {
   "cell_type": "code",
   "execution_count": 15,
   "metadata": {},
   "outputs": [
    {
     "name": "stdout",
     "output_type": "stream",
     "text": [
      "625\n"
     ]
    }
   ],
   "source": [
    "square=number**2\n",
    "print(squre)"
   ]
  },
  {
   "cell_type": "code",
   "execution_count": 18,
   "metadata": {},
   "outputs": [],
   "source": [
    "def squre(number):\n",
    "    return number*number"
   ]
  },
  {
   "cell_type": "code",
   "execution_count": 19,
   "metadata": {},
   "outputs": [
    {
     "data": {
      "text/plain": [
       "4"
      ]
     },
     "execution_count": 19,
     "metadata": {},
     "output_type": "execute_result"
    }
   ],
   "source": [
    "squre(2)"
   ]
  },
  {
   "cell_type": "code",
   "execution_count": 20,
   "metadata": {},
   "outputs": [
    {
     "name": "stdout",
     "output_type": "stream",
     "text": [
      "enter the number:2\n",
      "2.0 and 1.4142135623730951\n"
     ]
    }
   ],
   "source": [
    "import math\n",
    "number=float(input(\"enter the number:\"))\n",
    "squre=math.sqrt(number)\n",
    "print(\"{0} and {1}\".format(number,squre))"
   ]
  },
  {
   "cell_type": "code",
   "execution_count": 22,
   "metadata": {},
   "outputs": [
    {
     "name": "stdout",
     "output_type": "stream",
     "text": [
      "4.0\n"
     ]
    }
   ],
   "source": [
    "squre=math.pow(number,2)\n",
    "print(squre)"
   ]
  },
  {
   "cell_type": "code",
   "execution_count": 1,
   "metadata": {},
   "outputs": [
    {
     "name": "stdout",
     "output_type": "stream",
     "text": [
      "multiplication:\n",
      "1 * 1=1\n",
      "1 * 2=2\n",
      "1 * 3=3\n",
      "1 * 4=4\n",
      "1 * 5=5\n",
      "1 * 6=6\n",
      "1 * 7=7\n",
      "1 * 8=8\n",
      "1 * 9=9\n",
      "2 * 1=2\n",
      "2 * 2=4\n",
      "2 * 3=6\n",
      "2 * 4=8\n",
      "2 * 5=10\n",
      "2 * 6=12\n",
      "2 * 7=14\n",
      "2 * 8=16\n",
      "2 * 9=18\n",
      "3 * 1=3\n",
      "3 * 2=6\n",
      "3 * 3=9\n",
      "3 * 4=12\n",
      "3 * 5=15\n",
      "3 * 6=18\n",
      "3 * 7=21\n",
      "3 * 8=24\n",
      "3 * 9=27\n",
      "4 * 1=4\n",
      "4 * 2=8\n",
      "4 * 3=12\n",
      "4 * 4=16\n",
      "4 * 5=20\n",
      "4 * 6=24\n",
      "4 * 7=28\n",
      "4 * 8=32\n",
      "4 * 9=36\n",
      "5 * 1=5\n",
      "5 * 2=10\n",
      "5 * 3=15\n",
      "5 * 4=20\n",
      "5 * 5=25\n",
      "5 * 6=30\n",
      "5 * 7=35\n",
      "5 * 8=40\n",
      "5 * 9=45\n",
      "6 * 1=6\n",
      "6 * 2=12\n",
      "6 * 3=18\n",
      "6 * 4=24\n",
      "6 * 5=30\n",
      "6 * 6=36\n",
      "6 * 7=42\n",
      "6 * 8=48\n",
      "6 * 9=54\n",
      "7 * 1=7\n",
      "7 * 2=14\n",
      "7 * 3=21\n",
      "7 * 4=28\n",
      "7 * 5=35\n",
      "7 * 6=42\n",
      "7 * 7=49\n",
      "7 * 8=56\n",
      "7 * 9=63\n",
      "8 * 1=8\n",
      "8 * 2=16\n",
      "8 * 3=24\n",
      "8 * 4=32\n",
      "8 * 5=40\n",
      "8 * 6=48\n",
      "8 * 7=56\n",
      "8 * 8=64\n",
      "8 * 9=72\n",
      "9 * 1=9\n",
      "9 * 2=18\n",
      "9 * 3=27\n",
      "9 * 4=36\n",
      "9 * 5=45\n",
      "9 * 6=54\n",
      "9 * 7=63\n",
      "9 * 8=72\n",
      "9 * 9=81\n"
     ]
    }
   ],
   "source": [
    "# print multplication\n",
    "print(\"multiplication:\")\n",
    "for i in range(1,10):\n",
    "    for j in range(1,10):\n",
    "        print(\"{0} * {1}={2}\".format(i,j,i*j))"
   ]
  },
  {
   "cell_type": "code",
   "execution_count": 2,
   "metadata": {},
   "outputs": [
    {
     "name": "stdout",
     "output_type": "stream",
     "text": [
      "enter the first number:10\n"
     ]
    }
   ],
   "source": [
    "num=int(input(\"enter the first number:\"))\n",
    "for i in range(num,10):\n",
    "    for j in range(1,10):\n",
    "        print(i*j)"
   ]
  },
  {
   "cell_type": "code",
   "execution_count": 4,
   "metadata": {},
   "outputs": [
    {
     "name": "stdout",
     "output_type": "stream",
     "text": [
      "enter the english marks:95\n",
      "enter the maths marks:96\n",
      "enter the pyshics marks:85\n",
      "enter the chemestry marks:67\n",
      "enter the computer marks:97\n",
      "440.0\n",
      "88.0\n"
     ]
    }
   ],
   "source": [
    "eng=float(input(\"enter the english marks:\"))\n",
    "math=float(input(\"enter the maths marks:\"))\n",
    "phy=float(input(\"enter the pyshics marks:\"))\n",
    "chem=float(input(\"enter the chemestry marks:\"))\n",
    "comp=float(input(\"enter the computer marks:\"))\n",
    "\n",
    "total=eng+math+phy+chem+comp\n",
    "per=(total/500)*100\n",
    "print(total)\n",
    "print(per)"
   ]
  },
  {
   "cell_type": "code",
   "execution_count": 5,
   "metadata": {},
   "outputs": [
    {
     "name": "stdout",
     "output_type": "stream",
     "text": [
      "b grade\n"
     ]
    }
   ],
   "source": [
    "if (per>=90):\n",
    "    print(\"a grade\")\n",
    "elif (per>=80):\n",
    "    print(\"b grade\")\n",
    "elif (per>=70):\n",
    "    print(\"c grade\")\n",
    "elif (per>=60):\n",
    "    print(\"d\")\n",
    "elif (per>=50):\n",
    "    print(\"e\")\n",
    "elif (per>=40):\n",
    "    print(\"f\")\n",
    "    \n",
    "else:\n",
    "    print(\"fail\")"
   ]
  },
  {
   "cell_type": "code",
   "execution_count": 6,
   "metadata": {},
   "outputs": [
    {
     "name": "stdout",
     "output_type": "stream",
     "text": [
      "enter the kannad marks:98\n",
      "enter the english marks:95\n",
      "enter the math marks:98\n",
      "enter the physics marks:96\n",
      "enter the chemestry marks:92\n",
      "enter the biology marks:93\n",
      "572.0\n",
      "95.33333333333333\n",
      "9533.333333333332\n"
     ]
    }
   ],
   "source": [
    "# total=math+phy+eng+comp\n",
    "# avarage=total/4\n",
    "# percentage=(total/4)*100\n",
    "kannad=float(input(\"enter the kannad marks:\"))\n",
    "english=float(input(\"enter the english marks:\"))\n",
    "math=float(input(\"enter the math marks:\"))\n",
    "phy=float(input(\"enter the physics marks:\"))\n",
    "chem=float(input(\"enter the chemestry marks:\"))\n",
    "biology=float(input(\"enter the biology marks:\"))\n",
    "\n",
    "total=kannad+english+math+phy+chem+biology\n",
    "avarage=total/6\n",
    "per=(total/6)*100\n",
    "print(total)\n",
    "print(avarage)\n",
    "print(per)"
   ]
  },
  {
   "cell_type": "code",
   "execution_count": 7,
   "metadata": {},
   "outputs": [
    {
     "name": "stdout",
     "output_type": "stream",
     "text": [
      "enter the number:25\n",
      "2.24\n"
     ]
    }
   ],
   "source": [
    "# sum of avarage number all natural number\n",
    "number=int(input(\"enter the number:\"))\n",
    "total=1\n",
    "for i in range(1,num+1):\n",
    "    total=total+i\n",
    "avarage=total/number\n",
    "print(avarage)"
   ]
  },
  {
   "cell_type": "code",
   "execution_count": 9,
   "metadata": {},
   "outputs": [
    {
     "name": "stdout",
     "output_type": "stream",
     "text": [
      "2\n",
      "4\n",
      "7\n",
      "11\n",
      "16\n",
      "22\n",
      "29\n",
      "37\n",
      "46\n"
     ]
    }
   ],
   "source": [
    "total=1\n",
    "for i in range(1,10):\n",
    "    total=total+i\n",
    "    print(total)"
   ]
  },
  {
   "cell_type": "code",
   "execution_count": 11,
   "metadata": {},
   "outputs": [
    {
     "name": "stdout",
     "output_type": "stream",
     "text": [
      "enter the number:25\n",
      "25&13.04\n",
      "25&326\n"
     ]
    }
   ],
   "source": [
    "number=int(input('enter the number:'))\n",
    "total=1\n",
    "value=1\n",
    "while(value<=number):\n",
    "    total=total+value\n",
    "    value=value+1\n",
    "avarage=total/number\n",
    "print(\"{0}&{1}\".format(number,avarage))\n",
    "print(\"{0}&{1}\".format(number,total))"
   ]
  },
  {
   "cell_type": "code",
   "execution_count": 14,
   "metadata": {},
   "outputs": [
    {
     "name": "stdout",
     "output_type": "stream",
     "text": [
      "enter the number:5\n",
      "5 and 15\n"
     ]
    }
   ],
   "source": [
    "number=int(input('enter the number:'))\n",
    "total=0\n",
    "for value in range(1,number+1):\n",
    "    total=total+value\n",
    "print(\"{0} and {1}\".format(number,total))"
   ]
  },
  {
   "cell_type": "code",
   "execution_count": 20,
   "metadata": {},
   "outputs": [
    {
     "name": "stdout",
     "output_type": "stream",
     "text": [
      "enter the number:5\n",
      "1\n",
      "1\n",
      "1\n",
      "3\n",
      "4\n",
      "4\n",
      "5\n",
      "9\n"
     ]
    }
   ],
   "source": [
    "number=int(input('enter the number:'))\n",
    "total=0\n",
    "for i in range(1,number+1):\n",
    "    if (i %2 !=0):\n",
    "        print(\"{0}\".format(i))\n",
    "        total=total+i\n",
    "    print(total)"
   ]
  },
  {
   "cell_type": "code",
   "execution_count": 25,
   "metadata": {},
   "outputs": [
    {
     "name": "stdout",
     "output_type": "stream",
     "text": [
      "105"
     ]
    }
   ],
   "source": [
    "num=14\n",
    "total=0\n",
    "for i in range(1,num+1):\n",
    "    total=total+i\n",
    "print(total,end='')"
   ]
  },
  {
   "cell_type": "code",
   "execution_count": 26,
   "metadata": {},
   "outputs": [
    {
     "name": "stdout",
     "output_type": "stream",
     "text": [
      "enter the first number:5\n",
      "1\n",
      "3\n",
      "5\n",
      "5=3\n"
     ]
    }
   ],
   "source": [
    "maximum=int(input(\"enter the first number:\"))\n",
    "oddtotal=0\n",
    "for i in range(1, maximum+1):\n",
    "    if (i%2 !=0):\n",
    "        print(\"{0}\".format(i))\n",
    "        oddtotal=oddtotal+1\n",
    "print(\"{0}={1}\".format(i,oddtotal))"
   ]
  },
  {
   "cell_type": "code",
   "execution_count": 27,
   "metadata": {},
   "outputs": [
    {
     "name": "stdout",
     "output_type": "stream",
     "text": [
      "enter the first number:5\n",
      "1\n",
      "3\n",
      "5\n",
      "5 =0\n"
     ]
    }
   ],
   "source": [
    "maximum=int(input(\"enter the first number:\"))\n",
    "oddtotal=0\n",
    "for i in range(1,maximum+1,2):\n",
    "    print(\"{0}\".format(i))\n",
    "print(\"{0} ={1}\".format(i,oddtotal))"
   ]
  },
  {
   "cell_type": "code",
   "execution_count": 28,
   "metadata": {},
   "outputs": [
    {
     "name": "stdout",
     "output_type": "stream",
     "text": [
      "enter the first number:5\n",
      "2\n",
      "4\n",
      "5=2\n"
     ]
    }
   ],
   "source": [
    "maxi=int(input(\"enter the first number:\"))\n",
    "total=0\n",
    "for i in range(1,maxi+1):\n",
    "    if (i %2==0):\n",
    "        print(\"{0}\".format(i))\n",
    "        total=total+1\n",
    "print(\"{0}={1}\".format(i,total))"
   ]
  },
  {
   "cell_type": "code",
   "execution_count": null,
   "metadata": {},
   "outputs": [],
   "source": [
    "maxi=int(input(\"enter the first number:\"))\n",
    "number=0\n",
    "total=0\n",
    "while(number<=maxi):\n",
    "    if (number % 2 == 0):\n",
    "        print(\"{0}\".format(number))\n",
    "        total=total+number\n",
    "        number=number+1\n",
    "print(\"{0}={1}\".format(total))    "
   ]
  },
  {
   "cell_type": "code",
   "execution_count": 1,
   "metadata": {},
   "outputs": [],
   "source": [
    "import random"
   ]
  },
  {
   "cell_type": "code",
   "execution_count": 3,
   "metadata": {},
   "outputs": [],
   "source": [
    "all_words = \"all the words in the world\".split()"
   ]
  },
  {
   "cell_type": "code",
   "execution_count": 4,
   "metadata": {},
   "outputs": [],
   "source": [
    "def get_random_word():\n",
    "    return random.choice(all_words)"
   ]
  },
  {
   "cell_type": "code",
   "execution_count": 5,
   "metadata": {},
   "outputs": [
    {
     "data": {
      "text/plain": [
       "'the'"
      ]
     },
     "execution_count": 5,
     "metadata": {},
     "output_type": "execute_result"
    }
   ],
   "source": [
    "get_random_word()"
   ]
  },
  {
   "cell_type": "code",
   "execution_count": 6,
   "metadata": {},
   "outputs": [
    {
     "data": {
      "text/plain": [
       "'in'"
      ]
     },
     "execution_count": 6,
     "metadata": {},
     "output_type": "execute_result"
    }
   ],
   "source": [
    "get_random_word()"
   ]
  },
  {
   "cell_type": "code",
   "execution_count": 7,
   "metadata": {},
   "outputs": [
    {
     "data": {
      "text/plain": [
       "'world'"
      ]
     },
     "execution_count": 7,
     "metadata": {},
     "output_type": "execute_result"
    }
   ],
   "source": [
    "get_random_word()"
   ]
  },
  {
   "cell_type": "code",
   "execution_count": 8,
   "metadata": {},
   "outputs": [
    {
     "data": {
      "text/plain": [
       "'the'"
      ]
     },
     "execution_count": 8,
     "metadata": {},
     "output_type": "execute_result"
    }
   ],
   "source": [
    "get_random_word()"
   ]
  },
  {
   "cell_type": "code",
   "execution_count": null,
   "metadata": {},
   "outputs": [],
   "source": [
    "number=int(input(\"enter the number:\"))\n",
    "count=0\n",
    "while(number>0):\n",
    "    number=number+1\n",
    "    count=count+1\n",
    "print(\"{0}\".format(number))"
   ]
  },
  {
   "cell_type": "code",
   "execution_count": null,
   "metadata": {},
   "outputs": [],
   "source": [
    "def counting(number):\n",
    "    count=0\n",
    "    while (number>0):\n",
    "        number=number+1\n",
    "        count=count+1\n",
    "    return count\n",
    "number=2569\n",
    "counting(number)"
   ]
  },
  {
   "cell_type": "code",
   "execution_count": 5,
   "metadata": {},
   "outputs": [],
   "source": [
    "def test():\n",
    "    l=[]\n",
    "    for i in range(10):\n",
    "        l=l+[i]\n",
    "    print(l)"
   ]
  },
  {
   "cell_type": "code",
   "execution_count": 2,
   "metadata": {},
   "outputs": [
    {
     "name": "stdout",
     "output_type": "stream",
     "text": [
      "[0]\n",
      "[0, 1]\n",
      "[0, 1, 2]\n",
      "[0, 1, 2, 3]\n",
      "[0, 1, 2, 3, 4]\n",
      "[0, 1, 2, 3, 4, 5]\n",
      "[0, 1, 2, 3, 4, 5, 6]\n",
      "[0, 1, 2, 3, 4, 5, 6, 7]\n",
      "[0, 1, 2, 3, 4, 5, 6, 7, 8]\n",
      "[0, 1, 2, 3, 4, 5, 6, 7, 8, 9]\n"
     ]
    }
   ],
   "source": [
    "test()"
   ]
  },
  {
   "cell_type": "code",
   "execution_count": 6,
   "metadata": {},
   "outputs": [],
   "source": [
    "def test():\n",
    "    l=[]\n",
    "    for i in range(10):\n",
    "        l.append(i)\n",
    "    return l"
   ]
  },
  {
   "cell_type": "code",
   "execution_count": 8,
   "metadata": {},
   "outputs": [
    {
     "data": {
      "text/plain": [
       "[0, 1, 2, 3, 4, 5, 6, 7, 8, 9]"
      ]
     },
     "execution_count": 8,
     "metadata": {},
     "output_type": "execute_result"
    }
   ],
   "source": [
    "test()"
   ]
  },
  {
   "cell_type": "code",
   "execution_count": 12,
   "metadata": {},
   "outputs": [],
   "source": [
    "def test():\n",
    "    l=[i for i in range(10)]\n",
    "    return l"
   ]
  },
  {
   "cell_type": "code",
   "execution_count": 13,
   "metadata": {},
   "outputs": [
    {
     "data": {
      "text/plain": [
       "[0, 1, 2, 3, 4, 5, 6, 7, 8, 9]"
      ]
     },
     "execution_count": 13,
     "metadata": {},
     "output_type": "execute_result"
    }
   ],
   "source": [
    "test()"
   ]
  },
  {
   "cell_type": "code",
   "execution_count": 16,
   "metadata": {},
   "outputs": [],
   "source": [
    "def test4():\n",
    "    l = list(range(1000))\n",
    "    return l"
   ]
  },
  {
   "cell_type": "code",
   "execution_count": 17,
   "metadata": {},
   "outputs": [
    {
     "data": {
      "text/plain": [
       "[0,\n",
       " 1,\n",
       " 2,\n",
       " 3,\n",
       " 4,\n",
       " 5,\n",
       " 6,\n",
       " 7,\n",
       " 8,\n",
       " 9,\n",
       " 10,\n",
       " 11,\n",
       " 12,\n",
       " 13,\n",
       " 14,\n",
       " 15,\n",
       " 16,\n",
       " 17,\n",
       " 18,\n",
       " 19,\n",
       " 20,\n",
       " 21,\n",
       " 22,\n",
       " 23,\n",
       " 24,\n",
       " 25,\n",
       " 26,\n",
       " 27,\n",
       " 28,\n",
       " 29,\n",
       " 30,\n",
       " 31,\n",
       " 32,\n",
       " 33,\n",
       " 34,\n",
       " 35,\n",
       " 36,\n",
       " 37,\n",
       " 38,\n",
       " 39,\n",
       " 40,\n",
       " 41,\n",
       " 42,\n",
       " 43,\n",
       " 44,\n",
       " 45,\n",
       " 46,\n",
       " 47,\n",
       " 48,\n",
       " 49,\n",
       " 50,\n",
       " 51,\n",
       " 52,\n",
       " 53,\n",
       " 54,\n",
       " 55,\n",
       " 56,\n",
       " 57,\n",
       " 58,\n",
       " 59,\n",
       " 60,\n",
       " 61,\n",
       " 62,\n",
       " 63,\n",
       " 64,\n",
       " 65,\n",
       " 66,\n",
       " 67,\n",
       " 68,\n",
       " 69,\n",
       " 70,\n",
       " 71,\n",
       " 72,\n",
       " 73,\n",
       " 74,\n",
       " 75,\n",
       " 76,\n",
       " 77,\n",
       " 78,\n",
       " 79,\n",
       " 80,\n",
       " 81,\n",
       " 82,\n",
       " 83,\n",
       " 84,\n",
       " 85,\n",
       " 86,\n",
       " 87,\n",
       " 88,\n",
       " 89,\n",
       " 90,\n",
       " 91,\n",
       " 92,\n",
       " 93,\n",
       " 94,\n",
       " 95,\n",
       " 96,\n",
       " 97,\n",
       " 98,\n",
       " 99,\n",
       " 100,\n",
       " 101,\n",
       " 102,\n",
       " 103,\n",
       " 104,\n",
       " 105,\n",
       " 106,\n",
       " 107,\n",
       " 108,\n",
       " 109,\n",
       " 110,\n",
       " 111,\n",
       " 112,\n",
       " 113,\n",
       " 114,\n",
       " 115,\n",
       " 116,\n",
       " 117,\n",
       " 118,\n",
       " 119,\n",
       " 120,\n",
       " 121,\n",
       " 122,\n",
       " 123,\n",
       " 124,\n",
       " 125,\n",
       " 126,\n",
       " 127,\n",
       " 128,\n",
       " 129,\n",
       " 130,\n",
       " 131,\n",
       " 132,\n",
       " 133,\n",
       " 134,\n",
       " 135,\n",
       " 136,\n",
       " 137,\n",
       " 138,\n",
       " 139,\n",
       " 140,\n",
       " 141,\n",
       " 142,\n",
       " 143,\n",
       " 144,\n",
       " 145,\n",
       " 146,\n",
       " 147,\n",
       " 148,\n",
       " 149,\n",
       " 150,\n",
       " 151,\n",
       " 152,\n",
       " 153,\n",
       " 154,\n",
       " 155,\n",
       " 156,\n",
       " 157,\n",
       " 158,\n",
       " 159,\n",
       " 160,\n",
       " 161,\n",
       " 162,\n",
       " 163,\n",
       " 164,\n",
       " 165,\n",
       " 166,\n",
       " 167,\n",
       " 168,\n",
       " 169,\n",
       " 170,\n",
       " 171,\n",
       " 172,\n",
       " 173,\n",
       " 174,\n",
       " 175,\n",
       " 176,\n",
       " 177,\n",
       " 178,\n",
       " 179,\n",
       " 180,\n",
       " 181,\n",
       " 182,\n",
       " 183,\n",
       " 184,\n",
       " 185,\n",
       " 186,\n",
       " 187,\n",
       " 188,\n",
       " 189,\n",
       " 190,\n",
       " 191,\n",
       " 192,\n",
       " 193,\n",
       " 194,\n",
       " 195,\n",
       " 196,\n",
       " 197,\n",
       " 198,\n",
       " 199,\n",
       " 200,\n",
       " 201,\n",
       " 202,\n",
       " 203,\n",
       " 204,\n",
       " 205,\n",
       " 206,\n",
       " 207,\n",
       " 208,\n",
       " 209,\n",
       " 210,\n",
       " 211,\n",
       " 212,\n",
       " 213,\n",
       " 214,\n",
       " 215,\n",
       " 216,\n",
       " 217,\n",
       " 218,\n",
       " 219,\n",
       " 220,\n",
       " 221,\n",
       " 222,\n",
       " 223,\n",
       " 224,\n",
       " 225,\n",
       " 226,\n",
       " 227,\n",
       " 228,\n",
       " 229,\n",
       " 230,\n",
       " 231,\n",
       " 232,\n",
       " 233,\n",
       " 234,\n",
       " 235,\n",
       " 236,\n",
       " 237,\n",
       " 238,\n",
       " 239,\n",
       " 240,\n",
       " 241,\n",
       " 242,\n",
       " 243,\n",
       " 244,\n",
       " 245,\n",
       " 246,\n",
       " 247,\n",
       " 248,\n",
       " 249,\n",
       " 250,\n",
       " 251,\n",
       " 252,\n",
       " 253,\n",
       " 254,\n",
       " 255,\n",
       " 256,\n",
       " 257,\n",
       " 258,\n",
       " 259,\n",
       " 260,\n",
       " 261,\n",
       " 262,\n",
       " 263,\n",
       " 264,\n",
       " 265,\n",
       " 266,\n",
       " 267,\n",
       " 268,\n",
       " 269,\n",
       " 270,\n",
       " 271,\n",
       " 272,\n",
       " 273,\n",
       " 274,\n",
       " 275,\n",
       " 276,\n",
       " 277,\n",
       " 278,\n",
       " 279,\n",
       " 280,\n",
       " 281,\n",
       " 282,\n",
       " 283,\n",
       " 284,\n",
       " 285,\n",
       " 286,\n",
       " 287,\n",
       " 288,\n",
       " 289,\n",
       " 290,\n",
       " 291,\n",
       " 292,\n",
       " 293,\n",
       " 294,\n",
       " 295,\n",
       " 296,\n",
       " 297,\n",
       " 298,\n",
       " 299,\n",
       " 300,\n",
       " 301,\n",
       " 302,\n",
       " 303,\n",
       " 304,\n",
       " 305,\n",
       " 306,\n",
       " 307,\n",
       " 308,\n",
       " 309,\n",
       " 310,\n",
       " 311,\n",
       " 312,\n",
       " 313,\n",
       " 314,\n",
       " 315,\n",
       " 316,\n",
       " 317,\n",
       " 318,\n",
       " 319,\n",
       " 320,\n",
       " 321,\n",
       " 322,\n",
       " 323,\n",
       " 324,\n",
       " 325,\n",
       " 326,\n",
       " 327,\n",
       " 328,\n",
       " 329,\n",
       " 330,\n",
       " 331,\n",
       " 332,\n",
       " 333,\n",
       " 334,\n",
       " 335,\n",
       " 336,\n",
       " 337,\n",
       " 338,\n",
       " 339,\n",
       " 340,\n",
       " 341,\n",
       " 342,\n",
       " 343,\n",
       " 344,\n",
       " 345,\n",
       " 346,\n",
       " 347,\n",
       " 348,\n",
       " 349,\n",
       " 350,\n",
       " 351,\n",
       " 352,\n",
       " 353,\n",
       " 354,\n",
       " 355,\n",
       " 356,\n",
       " 357,\n",
       " 358,\n",
       " 359,\n",
       " 360,\n",
       " 361,\n",
       " 362,\n",
       " 363,\n",
       " 364,\n",
       " 365,\n",
       " 366,\n",
       " 367,\n",
       " 368,\n",
       " 369,\n",
       " 370,\n",
       " 371,\n",
       " 372,\n",
       " 373,\n",
       " 374,\n",
       " 375,\n",
       " 376,\n",
       " 377,\n",
       " 378,\n",
       " 379,\n",
       " 380,\n",
       " 381,\n",
       " 382,\n",
       " 383,\n",
       " 384,\n",
       " 385,\n",
       " 386,\n",
       " 387,\n",
       " 388,\n",
       " 389,\n",
       " 390,\n",
       " 391,\n",
       " 392,\n",
       " 393,\n",
       " 394,\n",
       " 395,\n",
       " 396,\n",
       " 397,\n",
       " 398,\n",
       " 399,\n",
       " 400,\n",
       " 401,\n",
       " 402,\n",
       " 403,\n",
       " 404,\n",
       " 405,\n",
       " 406,\n",
       " 407,\n",
       " 408,\n",
       " 409,\n",
       " 410,\n",
       " 411,\n",
       " 412,\n",
       " 413,\n",
       " 414,\n",
       " 415,\n",
       " 416,\n",
       " 417,\n",
       " 418,\n",
       " 419,\n",
       " 420,\n",
       " 421,\n",
       " 422,\n",
       " 423,\n",
       " 424,\n",
       " 425,\n",
       " 426,\n",
       " 427,\n",
       " 428,\n",
       " 429,\n",
       " 430,\n",
       " 431,\n",
       " 432,\n",
       " 433,\n",
       " 434,\n",
       " 435,\n",
       " 436,\n",
       " 437,\n",
       " 438,\n",
       " 439,\n",
       " 440,\n",
       " 441,\n",
       " 442,\n",
       " 443,\n",
       " 444,\n",
       " 445,\n",
       " 446,\n",
       " 447,\n",
       " 448,\n",
       " 449,\n",
       " 450,\n",
       " 451,\n",
       " 452,\n",
       " 453,\n",
       " 454,\n",
       " 455,\n",
       " 456,\n",
       " 457,\n",
       " 458,\n",
       " 459,\n",
       " 460,\n",
       " 461,\n",
       " 462,\n",
       " 463,\n",
       " 464,\n",
       " 465,\n",
       " 466,\n",
       " 467,\n",
       " 468,\n",
       " 469,\n",
       " 470,\n",
       " 471,\n",
       " 472,\n",
       " 473,\n",
       " 474,\n",
       " 475,\n",
       " 476,\n",
       " 477,\n",
       " 478,\n",
       " 479,\n",
       " 480,\n",
       " 481,\n",
       " 482,\n",
       " 483,\n",
       " 484,\n",
       " 485,\n",
       " 486,\n",
       " 487,\n",
       " 488,\n",
       " 489,\n",
       " 490,\n",
       " 491,\n",
       " 492,\n",
       " 493,\n",
       " 494,\n",
       " 495,\n",
       " 496,\n",
       " 497,\n",
       " 498,\n",
       " 499,\n",
       " 500,\n",
       " 501,\n",
       " 502,\n",
       " 503,\n",
       " 504,\n",
       " 505,\n",
       " 506,\n",
       " 507,\n",
       " 508,\n",
       " 509,\n",
       " 510,\n",
       " 511,\n",
       " 512,\n",
       " 513,\n",
       " 514,\n",
       " 515,\n",
       " 516,\n",
       " 517,\n",
       " 518,\n",
       " 519,\n",
       " 520,\n",
       " 521,\n",
       " 522,\n",
       " 523,\n",
       " 524,\n",
       " 525,\n",
       " 526,\n",
       " 527,\n",
       " 528,\n",
       " 529,\n",
       " 530,\n",
       " 531,\n",
       " 532,\n",
       " 533,\n",
       " 534,\n",
       " 535,\n",
       " 536,\n",
       " 537,\n",
       " 538,\n",
       " 539,\n",
       " 540,\n",
       " 541,\n",
       " 542,\n",
       " 543,\n",
       " 544,\n",
       " 545,\n",
       " 546,\n",
       " 547,\n",
       " 548,\n",
       " 549,\n",
       " 550,\n",
       " 551,\n",
       " 552,\n",
       " 553,\n",
       " 554,\n",
       " 555,\n",
       " 556,\n",
       " 557,\n",
       " 558,\n",
       " 559,\n",
       " 560,\n",
       " 561,\n",
       " 562,\n",
       " 563,\n",
       " 564,\n",
       " 565,\n",
       " 566,\n",
       " 567,\n",
       " 568,\n",
       " 569,\n",
       " 570,\n",
       " 571,\n",
       " 572,\n",
       " 573,\n",
       " 574,\n",
       " 575,\n",
       " 576,\n",
       " 577,\n",
       " 578,\n",
       " 579,\n",
       " 580,\n",
       " 581,\n",
       " 582,\n",
       " 583,\n",
       " 584,\n",
       " 585,\n",
       " 586,\n",
       " 587,\n",
       " 588,\n",
       " 589,\n",
       " 590,\n",
       " 591,\n",
       " 592,\n",
       " 593,\n",
       " 594,\n",
       " 595,\n",
       " 596,\n",
       " 597,\n",
       " 598,\n",
       " 599,\n",
       " 600,\n",
       " 601,\n",
       " 602,\n",
       " 603,\n",
       " 604,\n",
       " 605,\n",
       " 606,\n",
       " 607,\n",
       " 608,\n",
       " 609,\n",
       " 610,\n",
       " 611,\n",
       " 612,\n",
       " 613,\n",
       " 614,\n",
       " 615,\n",
       " 616,\n",
       " 617,\n",
       " 618,\n",
       " 619,\n",
       " 620,\n",
       " 621,\n",
       " 622,\n",
       " 623,\n",
       " 624,\n",
       " 625,\n",
       " 626,\n",
       " 627,\n",
       " 628,\n",
       " 629,\n",
       " 630,\n",
       " 631,\n",
       " 632,\n",
       " 633,\n",
       " 634,\n",
       " 635,\n",
       " 636,\n",
       " 637,\n",
       " 638,\n",
       " 639,\n",
       " 640,\n",
       " 641,\n",
       " 642,\n",
       " 643,\n",
       " 644,\n",
       " 645,\n",
       " 646,\n",
       " 647,\n",
       " 648,\n",
       " 649,\n",
       " 650,\n",
       " 651,\n",
       " 652,\n",
       " 653,\n",
       " 654,\n",
       " 655,\n",
       " 656,\n",
       " 657,\n",
       " 658,\n",
       " 659,\n",
       " 660,\n",
       " 661,\n",
       " 662,\n",
       " 663,\n",
       " 664,\n",
       " 665,\n",
       " 666,\n",
       " 667,\n",
       " 668,\n",
       " 669,\n",
       " 670,\n",
       " 671,\n",
       " 672,\n",
       " 673,\n",
       " 674,\n",
       " 675,\n",
       " 676,\n",
       " 677,\n",
       " 678,\n",
       " 679,\n",
       " 680,\n",
       " 681,\n",
       " 682,\n",
       " 683,\n",
       " 684,\n",
       " 685,\n",
       " 686,\n",
       " 687,\n",
       " 688,\n",
       " 689,\n",
       " 690,\n",
       " 691,\n",
       " 692,\n",
       " 693,\n",
       " 694,\n",
       " 695,\n",
       " 696,\n",
       " 697,\n",
       " 698,\n",
       " 699,\n",
       " 700,\n",
       " 701,\n",
       " 702,\n",
       " 703,\n",
       " 704,\n",
       " 705,\n",
       " 706,\n",
       " 707,\n",
       " 708,\n",
       " 709,\n",
       " 710,\n",
       " 711,\n",
       " 712,\n",
       " 713,\n",
       " 714,\n",
       " 715,\n",
       " 716,\n",
       " 717,\n",
       " 718,\n",
       " 719,\n",
       " 720,\n",
       " 721,\n",
       " 722,\n",
       " 723,\n",
       " 724,\n",
       " 725,\n",
       " 726,\n",
       " 727,\n",
       " 728,\n",
       " 729,\n",
       " 730,\n",
       " 731,\n",
       " 732,\n",
       " 733,\n",
       " 734,\n",
       " 735,\n",
       " 736,\n",
       " 737,\n",
       " 738,\n",
       " 739,\n",
       " 740,\n",
       " 741,\n",
       " 742,\n",
       " 743,\n",
       " 744,\n",
       " 745,\n",
       " 746,\n",
       " 747,\n",
       " 748,\n",
       " 749,\n",
       " 750,\n",
       " 751,\n",
       " 752,\n",
       " 753,\n",
       " 754,\n",
       " 755,\n",
       " 756,\n",
       " 757,\n",
       " 758,\n",
       " 759,\n",
       " 760,\n",
       " 761,\n",
       " 762,\n",
       " 763,\n",
       " 764,\n",
       " 765,\n",
       " 766,\n",
       " 767,\n",
       " 768,\n",
       " 769,\n",
       " 770,\n",
       " 771,\n",
       " 772,\n",
       " 773,\n",
       " 774,\n",
       " 775,\n",
       " 776,\n",
       " 777,\n",
       " 778,\n",
       " 779,\n",
       " 780,\n",
       " 781,\n",
       " 782,\n",
       " 783,\n",
       " 784,\n",
       " 785,\n",
       " 786,\n",
       " 787,\n",
       " 788,\n",
       " 789,\n",
       " 790,\n",
       " 791,\n",
       " 792,\n",
       " 793,\n",
       " 794,\n",
       " 795,\n",
       " 796,\n",
       " 797,\n",
       " 798,\n",
       " 799,\n",
       " 800,\n",
       " 801,\n",
       " 802,\n",
       " 803,\n",
       " 804,\n",
       " 805,\n",
       " 806,\n",
       " 807,\n",
       " 808,\n",
       " 809,\n",
       " 810,\n",
       " 811,\n",
       " 812,\n",
       " 813,\n",
       " 814,\n",
       " 815,\n",
       " 816,\n",
       " 817,\n",
       " 818,\n",
       " 819,\n",
       " 820,\n",
       " 821,\n",
       " 822,\n",
       " 823,\n",
       " 824,\n",
       " 825,\n",
       " 826,\n",
       " 827,\n",
       " 828,\n",
       " 829,\n",
       " 830,\n",
       " 831,\n",
       " 832,\n",
       " 833,\n",
       " 834,\n",
       " 835,\n",
       " 836,\n",
       " 837,\n",
       " 838,\n",
       " 839,\n",
       " 840,\n",
       " 841,\n",
       " 842,\n",
       " 843,\n",
       " 844,\n",
       " 845,\n",
       " 846,\n",
       " 847,\n",
       " 848,\n",
       " 849,\n",
       " 850,\n",
       " 851,\n",
       " 852,\n",
       " 853,\n",
       " 854,\n",
       " 855,\n",
       " 856,\n",
       " 857,\n",
       " 858,\n",
       " 859,\n",
       " 860,\n",
       " 861,\n",
       " 862,\n",
       " 863,\n",
       " 864,\n",
       " 865,\n",
       " 866,\n",
       " 867,\n",
       " 868,\n",
       " 869,\n",
       " 870,\n",
       " 871,\n",
       " 872,\n",
       " 873,\n",
       " 874,\n",
       " 875,\n",
       " 876,\n",
       " 877,\n",
       " 878,\n",
       " 879,\n",
       " 880,\n",
       " 881,\n",
       " 882,\n",
       " 883,\n",
       " 884,\n",
       " 885,\n",
       " 886,\n",
       " 887,\n",
       " 888,\n",
       " 889,\n",
       " 890,\n",
       " 891,\n",
       " 892,\n",
       " 893,\n",
       " 894,\n",
       " 895,\n",
       " 896,\n",
       " 897,\n",
       " 898,\n",
       " 899,\n",
       " 900,\n",
       " 901,\n",
       " 902,\n",
       " 903,\n",
       " 904,\n",
       " 905,\n",
       " 906,\n",
       " 907,\n",
       " 908,\n",
       " 909,\n",
       " 910,\n",
       " 911,\n",
       " 912,\n",
       " 913,\n",
       " 914,\n",
       " 915,\n",
       " 916,\n",
       " 917,\n",
       " 918,\n",
       " 919,\n",
       " 920,\n",
       " 921,\n",
       " 922,\n",
       " 923,\n",
       " 924,\n",
       " 925,\n",
       " 926,\n",
       " 927,\n",
       " 928,\n",
       " 929,\n",
       " 930,\n",
       " 931,\n",
       " 932,\n",
       " 933,\n",
       " 934,\n",
       " 935,\n",
       " 936,\n",
       " 937,\n",
       " 938,\n",
       " 939,\n",
       " 940,\n",
       " 941,\n",
       " 942,\n",
       " 943,\n",
       " 944,\n",
       " 945,\n",
       " 946,\n",
       " 947,\n",
       " 948,\n",
       " 949,\n",
       " 950,\n",
       " 951,\n",
       " 952,\n",
       " 953,\n",
       " 954,\n",
       " 955,\n",
       " 956,\n",
       " 957,\n",
       " 958,\n",
       " 959,\n",
       " 960,\n",
       " 961,\n",
       " 962,\n",
       " 963,\n",
       " 964,\n",
       " 965,\n",
       " 966,\n",
       " 967,\n",
       " 968,\n",
       " 969,\n",
       " 970,\n",
       " 971,\n",
       " 972,\n",
       " 973,\n",
       " 974,\n",
       " 975,\n",
       " 976,\n",
       " 977,\n",
       " 978,\n",
       " 979,\n",
       " 980,\n",
       " 981,\n",
       " 982,\n",
       " 983,\n",
       " 984,\n",
       " 985,\n",
       " 986,\n",
       " 987,\n",
       " 988,\n",
       " 989,\n",
       " 990,\n",
       " 991,\n",
       " 992,\n",
       " 993,\n",
       " 994,\n",
       " 995,\n",
       " 996,\n",
       " 997,\n",
       " 998,\n",
       " 999]"
      ]
     },
     "execution_count": 17,
     "metadata": {},
     "output_type": "execute_result"
    }
   ],
   "source": [
    "test4()"
   ]
  },
  {
   "cell_type": "code",
   "execution_count": 1,
   "metadata": {},
   "outputs": [],
   "source": [
    "my_movies=['kgf','mi','rockon','things','dad','new']\n"
   ]
  },
  {
   "cell_type": "code",
   "execution_count": 2,
   "metadata": {},
   "outputs": [
    {
     "data": {
      "text/plain": [
       "['kgf', 'mi', 'rockon', 'things', 'dad', 'new']"
      ]
     },
     "execution_count": 2,
     "metadata": {},
     "output_type": "execute_result"
    }
   ],
   "source": [
    "my_movies"
   ]
  },
  {
   "cell_type": "code",
   "execution_count": 4,
   "metadata": {},
   "outputs": [
    {
     "name": "stdout",
     "output_type": "stream",
     "text": [
      "kgfmirockonthingsdadnew"
     ]
    }
   ],
   "source": [
    "for i in my_movies:\n",
    "    for j in i:\n",
    "        print(j,end='')"
   ]
  },
  {
   "cell_type": "code",
   "execution_count": 36,
   "metadata": {},
   "outputs": [],
   "source": [
    "xs=\"sjflaskjfoiefjlksjfdlk\""
   ]
  },
  {
   "cell_type": "code",
   "execution_count": 38,
   "metadata": {},
   "outputs": [
    {
     "data": {
      "text/plain": [
       "'sjflaskjfoiefjlksjfdlk'"
      ]
     },
     "execution_count": 38,
     "metadata": {},
     "output_type": "execute_result"
    }
   ],
   "source": [
    "xs"
   ]
  },
  {
   "cell_type": "code",
   "execution_count": 45,
   "metadata": {},
   "outputs": [],
   "source": [
    "def mysum(xs):\n",
    "    \"\"\" Sum all the numbers in the list xs, and return the total. \"\"\"\n",
    "    running_total = 0\n",
    "    for x in xs:\n",
    "        running_total = running_total + x\n",
    "    return running_total"
   ]
  },
  {
   "cell_type": "code",
   "execution_count": 46,
   "metadata": {},
   "outputs": [
    {
     "data": {
      "text/plain": [
       "17"
      ]
     },
     "execution_count": 46,
     "metadata": {},
     "output_type": "execute_result"
    }
   ],
   "source": [
    "mysum([1,2,3,5,6])"
   ]
  },
  {
   "cell_type": "code",
   "execution_count": 47,
   "metadata": {},
   "outputs": [],
   "source": [
    "def num_digits(n):\n",
    "    count = 0\n",
    "    while n != 0:\n",
    "        count = count + 1\n",
    "        n = n // 10\n",
    "    return count"
   ]
  },
  {
   "cell_type": "code",
   "execution_count": 49,
   "metadata": {},
   "outputs": [
    {
     "data": {
      "text/plain": [
       "3"
      ]
     },
     "execution_count": 49,
     "metadata": {},
     "output_type": "execute_result"
    }
   ],
   "source": [
    "num_digits(710)"
   ]
  },
  {
   "cell_type": "code",
   "execution_count": 51,
   "metadata": {},
   "outputs": [
    {
     "name": "stdout",
     "output_type": "stream",
     "text": [
      "0 \t 1\n",
      "1 \t 2\n",
      "2 \t 4\n",
      "3 \t 8\n",
      "4 \t 16\n",
      "5 \t 32\n",
      "6 \t 64\n",
      "7 \t 128\n",
      "8 \t 256\n",
      "9 \t 512\n"
     ]
    }
   ],
   "source": [
    "for x in range(10):   # Generate numbers 0 to 12\n",
    "    print(x, \"\\t\", 2**x)"
   ]
  },
  {
   "cell_type": "code",
   "execution_count": 53,
   "metadata": {},
   "outputs": [
    {
     "name": "stdout",
     "output_type": "stream",
     "text": [
      "24681012\n"
     ]
    }
   ],
   "source": [
    "for i in range(1,7):\n",
    "    print(2*i, end=\"\")\n",
    "print()"
   ]
  },
  {
   "cell_type": "code",
   "execution_count": 62,
   "metadata": {},
   "outputs": [],
   "source": [
    "def print_mult():\n",
    "    for i in range(1,7):\n",
    "        print(print_mult(i))\n",
    "        "
   ]
  },
  {
   "cell_type": "code",
   "execution_count": 63,
   "metadata": {},
   "outputs": [
    {
     "data": {
      "text/plain": [
       "<function __main__.print_mult()>"
      ]
     },
     "execution_count": 63,
     "metadata": {},
     "output_type": "execute_result"
    }
   ],
   "source": [
    "print_mult"
   ]
  },
  {
   "cell_type": "code",
   "execution_count": 74,
   "metadata": {},
   "outputs": [],
   "source": [
    "def show(high):\n",
    "    for i in range(1,high+1):\n",
    "        print()"
   ]
  },
  {
   "cell_type": "code",
   "execution_count": 75,
   "metadata": {},
   "outputs": [
    {
     "ename": "TypeError",
     "evalue": "show() takes 1 positional argument but 2 were given",
     "output_type": "error",
     "traceback": [
      "\u001b[1;31m---------------------------------------------------------------------------\u001b[0m",
      "\u001b[1;31mTypeError\u001b[0m                                 Traceback (most recent call last)",
      "\u001b[1;32m<ipython-input-75-e998d81d825c>\u001b[0m in \u001b[0;36m<module>\u001b[1;34m\u001b[0m\n\u001b[1;32m----> 1\u001b[1;33m \u001b[0mshow\u001b[0m\u001b[1;33m(\u001b[0m\u001b[1;36m7\u001b[0m\u001b[1;33m)\u001b[0m\u001b[1;33m\u001b[0m\u001b[1;33m\u001b[0m\u001b[0m\n\u001b[0m",
      "\u001b[1;32m<ipython-input-74-1c9e8cf7852e>\u001b[0m in \u001b[0;36mshow\u001b[1;34m(high)\u001b[0m\n\u001b[0;32m      1\u001b[0m \u001b[1;32mdef\u001b[0m \u001b[0mshow\u001b[0m\u001b[1;33m(\u001b[0m\u001b[0mhigh\u001b[0m\u001b[1;33m)\u001b[0m\u001b[1;33m:\u001b[0m\u001b[1;33m\u001b[0m\u001b[1;33m\u001b[0m\u001b[0m\n\u001b[0;32m      2\u001b[0m     \u001b[1;32mfor\u001b[0m \u001b[0mi\u001b[0m \u001b[1;32min\u001b[0m \u001b[0mrange\u001b[0m\u001b[1;33m(\u001b[0m\u001b[1;36m1\u001b[0m\u001b[1;33m,\u001b[0m\u001b[0mhigh\u001b[0m\u001b[1;33m+\u001b[0m\u001b[1;36m1\u001b[0m\u001b[1;33m)\u001b[0m\u001b[1;33m:\u001b[0m\u001b[1;33m\u001b[0m\u001b[1;33m\u001b[0m\u001b[0m\n\u001b[1;32m----> 3\u001b[1;33m         \u001b[0mshow\u001b[0m\u001b[1;33m(\u001b[0m\u001b[0mi\u001b[0m\u001b[1;33m,\u001b[0m\u001b[0mhigh\u001b[0m\u001b[1;33m)\u001b[0m\u001b[1;33m\u001b[0m\u001b[1;33m\u001b[0m\u001b[0m\n\u001b[0m",
      "\u001b[1;31mTypeError\u001b[0m: show() takes 1 positional argument but 2 were given"
     ]
    }
   ],
   "source": [
    "show(7)"
   ]
  },
  {
   "cell_type": "code",
   "execution_count": 76,
   "metadata": {},
   "outputs": [],
   "source": [
    "celebs = [(\"Brad Pitt\", 1963), (\"Jack Nicholson\", 1937),\n",
    "                                (\"Justin Bieber\", 1994)]"
   ]
  },
  {
   "cell_type": "code",
   "execution_count": 77,
   "metadata": {},
   "outputs": [
    {
     "name": "stdout",
     "output_type": "stream",
     "text": [
      "[('Brad Pitt', 1963), ('Jack Nicholson', 1937), ('Justin Bieber', 1994)]\n"
     ]
    }
   ],
   "source": [
    "print(celebs)"
   ]
  },
  {
   "cell_type": "code",
   "execution_count": 78,
   "metadata": {},
   "outputs": [
    {
     "name": "stdout",
     "output_type": "stream",
     "text": [
      "3\n"
     ]
    }
   ],
   "source": [
    "print(len(celebs))"
   ]
  },
  {
   "cell_type": "code",
   "execution_count": 86,
   "metadata": {},
   "outputs": [
    {
     "name": "stdout",
     "output_type": "stream",
     "text": [
      "Brad Pitt\n",
      "Jack Nicholson\n"
     ]
    }
   ],
   "source": [
    "for (x,y) in celebs:\n",
    "    if y < 1980:\n",
    "        print(x)"
   ]
  },
  {
   "cell_type": "code",
   "execution_count": 87,
   "metadata": {},
   "outputs": [],
   "source": [
    "string=\"sjlkjsoiewefhshfaskfjlasjfl\""
   ]
  },
  {
   "cell_type": "code",
   "execution_count": 90,
   "metadata": {},
   "outputs": [
    {
     "ename": "ValueError",
     "evalue": "not enough values to unpack (expected 2, got 1)",
     "output_type": "error",
     "traceback": [
      "\u001b[1;31m---------------------------------------------------------------------------\u001b[0m",
      "\u001b[1;31mValueError\u001b[0m                                Traceback (most recent call last)",
      "\u001b[1;32m<ipython-input-90-602cbb3f6140>\u001b[0m in \u001b[0;36m<module>\u001b[1;34m\u001b[0m\n\u001b[1;32m----> 1\u001b[1;33m \u001b[1;32mfor\u001b[0m \u001b[1;33m(\u001b[0m\u001b[0ms\u001b[0m\u001b[1;33m,\u001b[0m\u001b[0ma\u001b[0m\u001b[1;33m)\u001b[0m \u001b[1;32min\u001b[0m \u001b[0mstring\u001b[0m\u001b[1;33m:\u001b[0m\u001b[1;33m\u001b[0m\u001b[1;33m\u001b[0m\u001b[0m\n\u001b[0m\u001b[0;32m      2\u001b[0m     \u001b[1;32mif\u001b[0m \u001b[0ma\u001b[0m \u001b[1;32min\u001b[0m \u001b[1;34m'a'\u001b[0m \u001b[1;32mand\u001b[0m \u001b[1;34m's'\u001b[0m\u001b[1;33m:\u001b[0m\u001b[1;33m\u001b[0m\u001b[1;33m\u001b[0m\u001b[0m\n\u001b[0;32m      3\u001b[0m         \u001b[0mprint\u001b[0m\u001b[1;33m(\u001b[0m\u001b[0ms\u001b[0m\u001b[1;33m)\u001b[0m\u001b[1;33m\u001b[0m\u001b[1;33m\u001b[0m\u001b[0m\n",
      "\u001b[1;31mValueError\u001b[0m: not enough values to unpack (expected 2, got 1)"
     ]
    }
   ],
   "source": [
    "for (s,a) in string:\n",
    "    if a in 'a' and 's':\n",
    "        print(s)"
   ]
  },
  {
   "cell_type": "code",
   "execution_count": 1,
   "metadata": {},
   "outputs": [],
   "source": [
    "mylist=[10,20,30,40,50,60,70,80,90]"
   ]
  },
  {
   "cell_type": "code",
   "execution_count": 3,
   "metadata": {},
   "outputs": [
    {
     "name": "stdout",
     "output_type": "stream",
     "text": [
      "1\n"
     ]
    }
   ],
   "source": [
    "# in searching algorithm\n",
    "if 20 in mylist:\n",
    "    print(mylist.index(20))\n",
    "else:\n",
    "    print(\"the value is does not exist in the list:\")\n",
    "    "
   ]
  },
  {
   "cell_type": "code",
   "execution_count": 4,
   "metadata": {},
   "outputs": [],
   "source": [
    "string=\"kjsofiwldsjfowiejskdflskjffiejdvnhfuwefosifjsj\""
   ]
  },
  {
   "cell_type": "code",
   "execution_count": 5,
   "metadata": {},
   "outputs": [
    {
     "data": {
      "text/plain": [
       "'kjsofiwldsjfowiejskdflskjffiejdvnhfuwefosifjsj'"
      ]
     },
     "execution_count": 5,
     "metadata": {},
     "output_type": "execute_result"
    }
   ],
   "source": [
    "string"
   ]
  },
  {
   "cell_type": "code",
   "execution_count": 12,
   "metadata": {},
   "outputs": [
    {
     "name": "stdout",
     "output_type": "stream",
     "text": [
      "3\n"
     ]
    }
   ],
   "source": [
    "if 'd' in string:\n",
    "    print(string.count('d'))\n",
    "else:\n",
    "    print(\"nothing is printed:\")"
   ]
  },
  {
   "cell_type": "code",
   "execution_count": 13,
   "metadata": {},
   "outputs": [],
   "source": [
    "def searchlist(value,mylist):\n",
    "    for i in mylist:\n",
    "        if i == value:\n",
    "            return mylist.count('k')\n",
    "    return \"the value does not exist\""
   ]
  },
  {
   "cell_type": "code",
   "execution_count": null,
   "metadata": {},
   "outputs": [],
   "source": []
  }
 ],
 "metadata": {
  "kernelspec": {
   "display_name": "Python 3",
   "language": "python",
   "name": "python3"
  },
  "language_info": {
   "codemirror_mode": {
    "name": "ipython",
    "version": 3
   },
   "file_extension": ".py",
   "mimetype": "text/x-python",
   "name": "python",
   "nbconvert_exporter": "python",
   "pygments_lexer": "ipython3",
   "version": "3.7.4"
  }
 },
 "nbformat": 4,
 "nbformat_minor": 2
}
