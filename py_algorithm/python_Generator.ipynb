{
 "cells": [
  {
   "cell_type": "code",
   "execution_count": 1,
   "id": "2e68b72f",
   "metadata": {},
   "outputs": [],
   "source": [
    "mylist = [1,2,3,4,5,6,7,8]\n",
    "a = (x**2 for x in mylist)"
   ]
  },
  {
   "cell_type": "code",
   "execution_count": 2,
   "id": "48bfd76a",
   "metadata": {},
   "outputs": [
    {
     "data": {
      "text/plain": [
       "<generator object <genexpr> at 0x000001C8ABF6F0B0>"
      ]
     },
     "execution_count": 2,
     "metadata": {},
     "output_type": "execute_result"
    }
   ],
   "source": [
    "a"
   ]
  },
  {
   "cell_type": "code",
   "execution_count": 3,
   "id": "bb5b7f8b",
   "metadata": {},
   "outputs": [
    {
     "data": {
      "text/plain": [
       "1"
      ]
     },
     "execution_count": 3,
     "metadata": {},
     "output_type": "execute_result"
    }
   ],
   "source": [
    "next(a)"
   ]
  },
  {
   "cell_type": "code",
   "execution_count": 4,
   "id": "d50edb55",
   "metadata": {},
   "outputs": [
    {
     "data": {
      "text/plain": [
       "4"
      ]
     },
     "execution_count": 4,
     "metadata": {},
     "output_type": "execute_result"
    }
   ],
   "source": [
    "next(a)"
   ]
  },
  {
   "cell_type": "code",
   "execution_count": 5,
   "id": "d45bc342",
   "metadata": {},
   "outputs": [
    {
     "data": {
      "text/plain": [
       "9"
      ]
     },
     "execution_count": 5,
     "metadata": {},
     "output_type": "execute_result"
    }
   ],
   "source": [
    "next(a)"
   ]
  },
  {
   "cell_type": "code",
   "execution_count": 6,
   "id": "a19c5145",
   "metadata": {},
   "outputs": [
    {
     "data": {
      "text/plain": [
       "16"
      ]
     },
     "execution_count": 6,
     "metadata": {},
     "output_type": "execute_result"
    }
   ],
   "source": [
    "next(a)"
   ]
  },
  {
   "cell_type": "code",
   "execution_count": 7,
   "id": "25752263",
   "metadata": {},
   "outputs": [
    {
     "data": {
      "text/plain": [
       "25"
      ]
     },
     "execution_count": 7,
     "metadata": {},
     "output_type": "execute_result"
    }
   ],
   "source": [
    "next(a)"
   ]
  },
  {
   "cell_type": "code",
   "execution_count": 8,
   "id": "cbddb74c",
   "metadata": {},
   "outputs": [
    {
     "data": {
      "text/plain": [
       "36"
      ]
     },
     "execution_count": 8,
     "metadata": {},
     "output_type": "execute_result"
    }
   ],
   "source": [
    "next(a)"
   ]
  },
  {
   "cell_type": "code",
   "execution_count": 9,
   "id": "75a22d11",
   "metadata": {},
   "outputs": [
    {
     "data": {
      "text/plain": [
       "49"
      ]
     },
     "execution_count": 9,
     "metadata": {},
     "output_type": "execute_result"
    }
   ],
   "source": [
    "next(a)"
   ]
  },
  {
   "cell_type": "code",
   "execution_count": 10,
   "id": "7695d2ae",
   "metadata": {},
   "outputs": [
    {
     "data": {
      "text/plain": [
       "64"
      ]
     },
     "execution_count": 10,
     "metadata": {},
     "output_type": "execute_result"
    }
   ],
   "source": [
    "next(a)"
   ]
  },
  {
   "cell_type": "code",
   "execution_count": 11,
   "id": "d920764f",
   "metadata": {},
   "outputs": [
    {
     "ename": "StopIteration",
     "evalue": "",
     "output_type": "error",
     "traceback": [
      "\u001b[1;31m---------------------------------------------------------------------------\u001b[0m",
      "\u001b[1;31mStopIteration\u001b[0m                             Traceback (most recent call last)",
      "\u001b[1;32m~\\AppData\\Local\\Temp/ipykernel_12152/1242322984.py\u001b[0m in \u001b[0;36m<module>\u001b[1;34m\u001b[0m\n\u001b[1;32m----> 1\u001b[1;33m \u001b[0mnext\u001b[0m\u001b[1;33m(\u001b[0m\u001b[0ma\u001b[0m\u001b[1;33m)\u001b[0m\u001b[1;33m\u001b[0m\u001b[1;33m\u001b[0m\u001b[0m\n\u001b[0m",
      "\u001b[1;31mStopIteration\u001b[0m: "
     ]
    }
   ],
   "source": [
    "next(a)"
   ]
  },
  {
   "cell_type": "markdown",
   "id": "ffd38c8a",
   "metadata": {},
   "source": [
    "# python Iterator\n",
    "## __next__() methods "
   ]
  },
  {
   "cell_type": "code",
   "execution_count": 12,
   "id": "ee39f2a1",
   "metadata": {},
   "outputs": [],
   "source": [
    "evens = [2,4,6,8,10]"
   ]
  },
  {
   "cell_type": "code",
   "execution_count": 13,
   "id": "d9b81f96",
   "metadata": {},
   "outputs": [
    {
     "data": {
      "text/plain": [
       "[2, 4, 6, 8, 10]"
      ]
     },
     "execution_count": 13,
     "metadata": {},
     "output_type": "execute_result"
    }
   ],
   "source": [
    "evens"
   ]
  },
  {
   "cell_type": "code",
   "execution_count": 14,
   "id": "fd61c7ee",
   "metadata": {},
   "outputs": [],
   "source": [
    "eveniterartor = iter(evens)"
   ]
  },
  {
   "cell_type": "code",
   "execution_count": 15,
   "id": "cf316748",
   "metadata": {},
   "outputs": [
    {
     "data": {
      "text/plain": [
       "<list_iterator at 0x1c8abe78820>"
      ]
     },
     "execution_count": 15,
     "metadata": {},
     "output_type": "execute_result"
    }
   ],
   "source": [
    "eveniterartor"
   ]
  },
  {
   "cell_type": "code",
   "execution_count": 16,
   "id": "6ecf67ef",
   "metadata": {},
   "outputs": [
    {
     "data": {
      "text/plain": [
       "<tuple_iterator at 0x1c8abf40b50>"
      ]
     },
     "execution_count": 16,
     "metadata": {},
     "output_type": "execute_result"
    }
   ],
   "source": [
    "iter((1,2,3))"
   ]
  },
  {
   "cell_type": "code",
   "execution_count": 17,
   "id": "c591d2de",
   "metadata": {},
   "outputs": [
    {
     "data": {
      "text/plain": [
       "2"
      ]
     },
     "execution_count": 17,
     "metadata": {},
     "output_type": "execute_result"
    }
   ],
   "source": [
    "next(eveniterartor)"
   ]
  },
  {
   "cell_type": "code",
   "execution_count": 18,
   "id": "56e47fcf",
   "metadata": {},
   "outputs": [
    {
     "data": {
      "text/plain": [
       "4"
      ]
     },
     "execution_count": 18,
     "metadata": {},
     "output_type": "execute_result"
    }
   ],
   "source": [
    "next(eveniterartor)"
   ]
  },
  {
   "cell_type": "code",
   "execution_count": 19,
   "id": "2d8093d8",
   "metadata": {},
   "outputs": [
    {
     "data": {
      "text/plain": [
       "6"
      ]
     },
     "execution_count": 19,
     "metadata": {},
     "output_type": "execute_result"
    }
   ],
   "source": [
    "next(eveniterartor)"
   ]
  },
  {
   "cell_type": "code",
   "execution_count": 20,
   "id": "0599dd8c",
   "metadata": {},
   "outputs": [
    {
     "data": {
      "text/plain": [
       "8"
      ]
     },
     "execution_count": 20,
     "metadata": {},
     "output_type": "execute_result"
    }
   ],
   "source": [
    "next(eveniterartor)"
   ]
  },
  {
   "cell_type": "code",
   "execution_count": 21,
   "id": "fef060b9",
   "metadata": {},
   "outputs": [
    {
     "data": {
      "text/plain": [
       "10"
      ]
     },
     "execution_count": 21,
     "metadata": {},
     "output_type": "execute_result"
    }
   ],
   "source": [
    "next(eveniterartor)"
   ]
  },
  {
   "cell_type": "code",
   "execution_count": 22,
   "id": "81c27aaf",
   "metadata": {},
   "outputs": [],
   "source": [
    "nums = [1,3,2]"
   ]
  },
  {
   "cell_type": "code",
   "execution_count": 23,
   "id": "1195efaa",
   "metadata": {},
   "outputs": [],
   "source": [
    "numiter = iter(nums)"
   ]
  },
  {
   "cell_type": "code",
   "execution_count": 24,
   "id": "5a3cb6c1",
   "metadata": {},
   "outputs": [
    {
     "data": {
      "text/plain": [
       "1"
      ]
     },
     "execution_count": 24,
     "metadata": {},
     "output_type": "execute_result"
    }
   ],
   "source": [
    "numiter.__next__()"
   ]
  },
  {
   "cell_type": "code",
   "execution_count": 25,
   "id": "2182f76f",
   "metadata": {},
   "outputs": [
    {
     "data": {
      "text/plain": [
       "3"
      ]
     },
     "execution_count": 25,
     "metadata": {},
     "output_type": "execute_result"
    }
   ],
   "source": [
    "numiter.__next__()"
   ]
  },
  {
   "cell_type": "code",
   "execution_count": 26,
   "id": "955ce23f",
   "metadata": {},
   "outputs": [
    {
     "data": {
      "text/plain": [
       "2"
      ]
     },
     "execution_count": 26,
     "metadata": {},
     "output_type": "execute_result"
    }
   ],
   "source": [
    "next(numiter)"
   ]
  },
  {
   "cell_type": "code",
   "execution_count": 28,
   "id": "65bf3e06",
   "metadata": {},
   "outputs": [
    {
     "data": {
      "text/plain": [
       "['__class__',\n",
       " '__delattr__',\n",
       " '__dir__',\n",
       " '__doc__',\n",
       " '__eq__',\n",
       " '__format__',\n",
       " '__ge__',\n",
       " '__getattribute__',\n",
       " '__gt__',\n",
       " '__hash__',\n",
       " '__init__',\n",
       " '__init_subclass__',\n",
       " '__iter__',\n",
       " '__le__',\n",
       " '__length_hint__',\n",
       " '__lt__',\n",
       " '__ne__',\n",
       " '__new__',\n",
       " '__next__',\n",
       " '__reduce__',\n",
       " '__reduce_ex__',\n",
       " '__repr__',\n",
       " '__setattr__',\n",
       " '__setstate__',\n",
       " '__sizeof__',\n",
       " '__str__',\n",
       " '__subclasshook__']"
      ]
     },
     "execution_count": 28,
     "metadata": {},
     "output_type": "execute_result"
    }
   ],
   "source": [
    "dir(numiter)"
   ]
  },
  {
   "cell_type": "code",
   "execution_count": 29,
   "id": "cba12339",
   "metadata": {},
   "outputs": [
    {
     "name": "stdout",
     "output_type": "stream",
     "text": [
      "p\n",
      "y\n",
      "t\n",
      "h\n",
      "o\n",
      "n\n"
     ]
    }
   ],
   "source": [
    "for item in 'python':\n",
    "    print(item)"
   ]
  },
  {
   "cell_type": "code",
   "execution_count": 30,
   "id": "62757463",
   "metadata": {},
   "outputs": [
    {
     "name": "stdout",
     "output_type": "stream",
     "text": [
      "r\n",
      "e\n",
      "n\n",
      "u\n",
      "k\n",
      "a\n",
      "d\n",
      "e\n",
      "v\n",
      "i\n"
     ]
    }
   ],
   "source": [
    "for item in 'renukadevi':\n",
    "    print(item)"
   ]
  },
  {
   "cell_type": "code",
   "execution_count": 31,
   "id": "2fe98d80",
   "metadata": {},
   "outputs": [],
   "source": [
    "iter_object = iter('python')"
   ]
  },
  {
   "cell_type": "code",
   "execution_count": 32,
   "id": "1175b1b8",
   "metadata": {},
   "outputs": [
    {
     "data": {
      "text/plain": [
       "<str_iterator at 0x1c8abe783d0>"
      ]
     },
     "execution_count": 32,
     "metadata": {},
     "output_type": "execute_result"
    }
   ],
   "source": [
    "iter_object"
   ]
  },
  {
   "cell_type": "code",
   "execution_count": 35,
   "id": "cff0acf0",
   "metadata": {},
   "outputs": [
    {
     "name": "stdout",
     "output_type": "stream",
     "text": [
      "p\n",
      "y\n",
      "t\n",
      "h\n",
      "o\n",
      "n\n"
     ]
    }
   ],
   "source": [
    "while True:\n",
    "    try:\n",
    "        i = next(iter_object)\n",
    "        print(i)\n",
    "    except StopIteration:\n",
    "        break"
   ]
  },
  {
   "cell_type": "code",
   "execution_count": 36,
   "id": "aed4064f",
   "metadata": {},
   "outputs": [],
   "source": [
    "class PowTwo:\n",
    "    def __init__(self,max=0):\n",
    "        self.max=max\n",
    "    def __iter__(self):\n",
    "        self.n=0\n",
    "        return self\n",
    "    def __next__(self):\n",
    "        if self.n<=self.max:\n",
    "            result=2**self.n\n",
    "            self.n+=1\n",
    "            return result\n",
    "        else:\n",
    "            raise StopIteration\n",
    "            "
   ]
  },
  {
   "cell_type": "code",
   "execution_count": 37,
   "id": "4ba77a1c",
   "metadata": {},
   "outputs": [],
   "source": [
    "a= PowTwo(4)"
   ]
  },
  {
   "cell_type": "code",
   "execution_count": 38,
   "id": "5bfe9853",
   "metadata": {},
   "outputs": [
    {
     "data": {
      "text/plain": [
       "<__main__.PowTwo at 0x1c8abf71880>"
      ]
     },
     "execution_count": 38,
     "metadata": {},
     "output_type": "execute_result"
    }
   ],
   "source": [
    "a"
   ]
  },
  {
   "cell_type": "code",
   "execution_count": 39,
   "id": "607f124e",
   "metadata": {},
   "outputs": [],
   "source": [
    "i =iter(a)"
   ]
  },
  {
   "cell_type": "code",
   "execution_count": 41,
   "id": "e4f6abac",
   "metadata": {},
   "outputs": [
    {
     "data": {
      "text/plain": [
       "2"
      ]
     },
     "execution_count": 41,
     "metadata": {},
     "output_type": "execute_result"
    }
   ],
   "source": [
    "next(i)"
   ]
  },
  {
   "cell_type": "code",
   "execution_count": 42,
   "id": "703a9cef",
   "metadata": {},
   "outputs": [
    {
     "data": {
      "text/plain": [
       "4"
      ]
     },
     "execution_count": 42,
     "metadata": {},
     "output_type": "execute_result"
    }
   ],
   "source": [
    "next(i)"
   ]
  },
  {
   "cell_type": "code",
   "execution_count": 43,
   "id": "1980baa5",
   "metadata": {},
   "outputs": [
    {
     "data": {
      "text/plain": [
       "8"
      ]
     },
     "execution_count": 43,
     "metadata": {},
     "output_type": "execute_result"
    }
   ],
   "source": [
    "next(i)"
   ]
  },
  {
   "cell_type": "code",
   "execution_count": 44,
   "id": "3ad482d6",
   "metadata": {},
   "outputs": [],
   "source": [
    "j=a.__iter__()"
   ]
  },
  {
   "cell_type": "code",
   "execution_count": 45,
   "id": "b276fb75",
   "metadata": {},
   "outputs": [
    {
     "data": {
      "text/plain": [
       "<__main__.PowTwo at 0x1c8abf71880>"
      ]
     },
     "execution_count": 45,
     "metadata": {},
     "output_type": "execute_result"
    }
   ],
   "source": [
    "j"
   ]
  },
  {
   "cell_type": "code",
   "execution_count": 46,
   "id": "35e0420f",
   "metadata": {},
   "outputs": [
    {
     "data": {
      "text/plain": [
       "1"
      ]
     },
     "execution_count": 46,
     "metadata": {},
     "output_type": "execute_result"
    }
   ],
   "source": [
    "j.__next__()"
   ]
  },
  {
   "cell_type": "code",
   "execution_count": 47,
   "id": "aeb8c52b",
   "metadata": {},
   "outputs": [
    {
     "data": {
      "text/plain": [
       "2"
      ]
     },
     "execution_count": 47,
     "metadata": {},
     "output_type": "execute_result"
    }
   ],
   "source": [
    "j.__next__()"
   ]
  },
  {
   "cell_type": "code",
   "execution_count": 48,
   "id": "d53c73fe",
   "metadata": {},
   "outputs": [
    {
     "data": {
      "text/plain": [
       "0"
      ]
     },
     "execution_count": 48,
     "metadata": {},
     "output_type": "execute_result"
    }
   ],
   "source": [
    "int()"
   ]
  },
  {
   "cell_type": "code",
   "execution_count": 49,
   "id": "1067d86d",
   "metadata": {},
   "outputs": [],
   "source": [
    "a=iter(int,1)"
   ]
  },
  {
   "cell_type": "code",
   "execution_count": 50,
   "id": "7c5f64ab",
   "metadata": {},
   "outputs": [
    {
     "data": {
      "text/plain": [
       "<callable_iterator at 0x1c8abf71d90>"
      ]
     },
     "execution_count": 50,
     "metadata": {},
     "output_type": "execute_result"
    }
   ],
   "source": [
    "a"
   ]
  },
  {
   "cell_type": "code",
   "execution_count": 51,
   "id": "1fbed1c1",
   "metadata": {},
   "outputs": [
    {
     "data": {
      "text/plain": [
       "0"
      ]
     },
     "execution_count": 51,
     "metadata": {},
     "output_type": "execute_result"
    }
   ],
   "source": [
    "next(a)"
   ]
  },
  {
   "cell_type": "code",
   "execution_count": 52,
   "id": "1b0f8514",
   "metadata": {},
   "outputs": [
    {
     "data": {
      "text/plain": [
       "0"
      ]
     },
     "execution_count": 52,
     "metadata": {},
     "output_type": "execute_result"
    }
   ],
   "source": [
    "next(a)"
   ]
  },
  {
   "cell_type": "markdown",
   "id": "79bfabb2",
   "metadata": {},
   "source": [
    "# python Clousure\n"
   ]
  },
  {
   "cell_type": "code",
   "execution_count": 53,
   "id": "7440ed07",
   "metadata": {},
   "outputs": [],
   "source": [
    "def outerfunc(x):\n",
    "    def innerfunc():\n",
    "        print(x)\n",
    "    return innerfunc"
   ]
  },
  {
   "cell_type": "code",
   "execution_count": 54,
   "id": "54f91758",
   "metadata": {},
   "outputs": [],
   "source": [
    "myfunc = outerfunc(7)"
   ]
  },
  {
   "cell_type": "code",
   "execution_count": 55,
   "id": "7badd704",
   "metadata": {},
   "outputs": [
    {
     "data": {
      "text/plain": [
       "<function __main__.outerfunc.<locals>.innerfunc()>"
      ]
     },
     "execution_count": 55,
     "metadata": {},
     "output_type": "execute_result"
    }
   ],
   "source": [
    "myfunc"
   ]
  },
  {
   "cell_type": "code",
   "execution_count": 56,
   "id": "d4c543a1",
   "metadata": {},
   "outputs": [
    {
     "name": "stdout",
     "output_type": "stream",
     "text": [
      "7\n"
     ]
    }
   ],
   "source": [
    "myfunc()"
   ]
  },
  {
   "cell_type": "code",
   "execution_count": 57,
   "id": "60eb0945",
   "metadata": {},
   "outputs": [],
   "source": [
    "def outer(func):\n",
    "    def inner(msg):\n",
    "        func(msg)\n",
    "    return inner\n",
    "def sayhi(msg):\n",
    "    print(msg)"
   ]
  },
  {
   "cell_type": "code",
   "execution_count": 58,
   "id": "beac22dc",
   "metadata": {},
   "outputs": [],
   "source": [
    "myfunc = outer(sayhi)"
   ]
  },
  {
   "cell_type": "code",
   "execution_count": 59,
   "id": "d78078be",
   "metadata": {},
   "outputs": [
    {
     "data": {
      "text/plain": [
       "<function __main__.outer.<locals>.inner(msg)>"
      ]
     },
     "execution_count": 59,
     "metadata": {},
     "output_type": "execute_result"
    }
   ],
   "source": [
    "myfunc"
   ]
  },
  {
   "cell_type": "code",
   "execution_count": 61,
   "id": "636e2d8f",
   "metadata": {},
   "outputs": [
    {
     "name": "stdout",
     "output_type": "stream",
     "text": [
      "hello\n"
     ]
    }
   ],
   "source": [
    "myfunc('hello')"
   ]
  },
  {
   "cell_type": "markdown",
   "id": "e72db4f2",
   "metadata": {},
   "source": [
    "# python class"
   ]
  },
  {
   "cell_type": "code",
   "execution_count": 62,
   "id": "845394f3",
   "metadata": {},
   "outputs": [],
   "source": [
    "class fruit:\n",
    "    \"\"\"\n",
    "    this python3 class creates instances of fruits\n",
    "    \"\"\""
   ]
  },
  {
   "cell_type": "code",
   "execution_count": 63,
   "id": "32540595",
   "metadata": {},
   "outputs": [
    {
     "data": {
      "text/plain": [
       "__main__.fruit"
      ]
     },
     "execution_count": 63,
     "metadata": {},
     "output_type": "execute_result"
    }
   ],
   "source": [
    "fruit"
   ]
  },
  {
   "cell_type": "code",
   "execution_count": 64,
   "id": "3685e168",
   "metadata": {},
   "outputs": [],
   "source": [
    "class fruit:\n",
    "    \"\"\"this class create instances of fruits\"\"\"\n",
    "    color=''\n",
    "    def sayhi(self):\n",
    "        print(\"hi\")"
   ]
  },
  {
   "cell_type": "code",
   "execution_count": 65,
   "id": "989052a5",
   "metadata": {},
   "outputs": [],
   "source": [
    "orange=fruit()"
   ]
  },
  {
   "cell_type": "code",
   "execution_count": 66,
   "id": "3d90171f",
   "metadata": {},
   "outputs": [
    {
     "name": "stdout",
     "output_type": "stream",
     "text": [
      "hi\n"
     ]
    }
   ],
   "source": [
    "orange.sayhi()"
   ]
  },
  {
   "cell_type": "code",
   "execution_count": 67,
   "id": "27369ce3",
   "metadata": {},
   "outputs": [
    {
     "name": "stdout",
     "output_type": "stream",
     "text": [
      "hi\n",
      "hello\n"
     ]
    }
   ],
   "source": [
    "class try1:\n",
    "    def mymethod(self):\n",
    "        def sayhello():\n",
    "            print(\"hello\")\n",
    "        print(\"hi\")\n",
    "        sayhello()\n",
    "obj = try1()\n",
    "obj.mymethod()"
   ]
  },
  {
   "cell_type": "code",
   "execution_count": 68,
   "id": "bf8f5b9c",
   "metadata": {},
   "outputs": [
    {
     "data": {
      "text/plain": [
       "'Round'"
      ]
     },
     "execution_count": 68,
     "metadata": {},
     "output_type": "execute_result"
    }
   ],
   "source": [
    "orange.shape = 'Round'\n",
    "orange.shape"
   ]
  },
  {
   "cell_type": "code",
   "execution_count": 69,
   "id": "c5eb3e29",
   "metadata": {},
   "outputs": [],
   "source": [
    "orange = fruit()"
   ]
  },
  {
   "cell_type": "code",
   "execution_count": 70,
   "id": "ae09b7b2",
   "metadata": {},
   "outputs": [
    {
     "data": {
      "text/plain": [
       "<__main__.fruit at 0x1c8abe9a0a0>"
      ]
     },
     "execution_count": 70,
     "metadata": {},
     "output_type": "execute_result"
    }
   ],
   "source": [
    "orange"
   ]
  },
  {
   "cell_type": "code",
   "execution_count": 71,
   "id": "39c51381",
   "metadata": {},
   "outputs": [
    {
     "data": {
      "text/plain": [
       "''"
      ]
     },
     "execution_count": 71,
     "metadata": {},
     "output_type": "execute_result"
    }
   ],
   "source": [
    "orange.color"
   ]
  },
  {
   "cell_type": "code",
   "execution_count": 72,
   "id": "67ac8d56",
   "metadata": {},
   "outputs": [
    {
     "name": "stdout",
     "output_type": "stream",
     "text": [
      "hi\n"
     ]
    }
   ],
   "source": [
    "orange.sayhi()"
   ]
  },
  {
   "cell_type": "code",
   "execution_count": 73,
   "id": "d69b978a",
   "metadata": {},
   "outputs": [],
   "source": [
    "class fruit:\n",
    "    def size(self,x):\n",
    "        print(f\"i am size {x}\")"
   ]
  },
  {
   "cell_type": "code",
   "execution_count": 74,
   "id": "22497893",
   "metadata": {},
   "outputs": [],
   "source": [
    "orange = fruit()"
   ]
  },
  {
   "cell_type": "code",
   "execution_count": 75,
   "id": "24d46946",
   "metadata": {},
   "outputs": [
    {
     "name": "stdout",
     "output_type": "stream",
     "text": [
      "i am size 7\n"
     ]
    }
   ],
   "source": [
    "orange.size(7)"
   ]
  },
  {
   "cell_type": "code",
   "execution_count": 76,
   "id": "1d813175",
   "metadata": {},
   "outputs": [],
   "source": [
    "fruit.__doc__"
   ]
  },
  {
   "cell_type": "code",
   "execution_count": 77,
   "id": "2614b977",
   "metadata": {},
   "outputs": [
    {
     "name": "stdout",
     "output_type": "stream",
     "text": [
      "None\n"
     ]
    }
   ],
   "source": [
    "print(fruit.__doc__)"
   ]
  },
  {
   "cell_type": "code",
   "execution_count": 78,
   "id": "11e3215f",
   "metadata": {},
   "outputs": [],
   "source": [
    "class fruit:\n",
    "    \"\"\"this is docstring my geneartion\"\"\"\n",
    "    def size(self,x):\n",
    "        print(f\"i am size{x}\")"
   ]
  },
  {
   "cell_type": "code",
   "execution_count": 79,
   "id": "1534d1da",
   "metadata": {},
   "outputs": [],
   "source": [
    "orange = fruit()"
   ]
  },
  {
   "cell_type": "code",
   "execution_count": 80,
   "id": "c9e0d0f7",
   "metadata": {},
   "outputs": [
    {
     "name": "stdout",
     "output_type": "stream",
     "text": [
      "i am size7\n"
     ]
    }
   ],
   "source": [
    "orange.size(7)"
   ]
  },
  {
   "cell_type": "code",
   "execution_count": 81,
   "id": "9b372fd2",
   "metadata": {},
   "outputs": [
    {
     "data": {
      "text/plain": [
       "'this is docstring my geneartion'"
      ]
     },
     "execution_count": 81,
     "metadata": {},
     "output_type": "execute_result"
    }
   ],
   "source": [
    "fruit.__doc__"
   ]
  },
  {
   "cell_type": "code",
   "execution_count": 82,
   "id": "4d535e93",
   "metadata": {},
   "outputs": [
    {
     "data": {
      "text/plain": [
       "'this is docstring my geneartion'"
      ]
     },
     "execution_count": 82,
     "metadata": {},
     "output_type": "execute_result"
    }
   ],
   "source": [
    "orange.__doc__"
   ]
  },
  {
   "cell_type": "code",
   "execution_count": 83,
   "id": "5e9cbd03",
   "metadata": {},
   "outputs": [],
   "source": [
    "class fruit:\n",
    "    def __init__(self,color,size):\n",
    "        self.color = color\n",
    "        self.size = size\n",
    "    def salutation(self):\n",
    "        print(f\"i am {self.color}and a size{self.size}\")"
   ]
  },
  {
   "cell_type": "code",
   "execution_count": 84,
   "id": "6bd4a403",
   "metadata": {},
   "outputs": [],
   "source": [
    "orange = fruit('orange',7)"
   ]
  },
  {
   "cell_type": "code",
   "execution_count": 85,
   "id": "de828dce",
   "metadata": {},
   "outputs": [
    {
     "name": "stdout",
     "output_type": "stream",
     "text": [
      "i am orangeand a size7\n"
     ]
    }
   ],
   "source": [
    "orange.salutation()"
   ]
  },
  {
   "cell_type": "code",
   "execution_count": 86,
   "id": "6e9baea7",
   "metadata": {},
   "outputs": [
    {
     "data": {
      "text/plain": [
       "<bound method fruit.salutation of <__main__.fruit object at 0x000001C8ABF71340>>"
      ]
     },
     "execution_count": 86,
     "metadata": {},
     "output_type": "execute_result"
    }
   ],
   "source": [
    "orange.salutation"
   ]
  },
  {
   "cell_type": "code",
   "execution_count": 87,
   "id": "86f021da",
   "metadata": {},
   "outputs": [],
   "source": [
    "sayhi = orange.salutation"
   ]
  },
  {
   "cell_type": "code",
   "execution_count": 88,
   "id": "a97d8298",
   "metadata": {},
   "outputs": [
    {
     "data": {
      "text/plain": [
       "<bound method fruit.salutation of <__main__.fruit object at 0x000001C8ABF71340>>"
      ]
     },
     "execution_count": 88,
     "metadata": {},
     "output_type": "execute_result"
    }
   ],
   "source": [
    "sayhi"
   ]
  },
  {
   "cell_type": "code",
   "execution_count": 89,
   "id": "6db50787",
   "metadata": {},
   "outputs": [],
   "source": [
    "class fruit:\n",
    "    size = 'small'\n",
    "    def __init__(self,color,shape):\n",
    "        self.color=color\n",
    "        self.shape = shape\n",
    "    def salutation(self):\n",
    "        print(f\"i am {self.color}and a shape{self.shape}\")\n",
    "        "
   ]
  },
  {
   "cell_type": "code",
   "execution_count": 90,
   "id": "f1d7dd5d",
   "metadata": {},
   "outputs": [
    {
     "data": {
      "text/plain": [
       "'small'"
      ]
     },
     "execution_count": 90,
     "metadata": {},
     "output_type": "execute_result"
    }
   ],
   "source": [
    "fruit.size"
   ]
  },
  {
   "cell_type": "code",
   "execution_count": 91,
   "id": "8f98fb39",
   "metadata": {},
   "outputs": [],
   "source": [
    "orange = fruit('orange','round')"
   ]
  },
  {
   "cell_type": "code",
   "execution_count": 92,
   "id": "ec9c3127",
   "metadata": {},
   "outputs": [
    {
     "data": {
      "text/plain": [
       "<__main__.fruit at 0x1c8abf71e50>"
      ]
     },
     "execution_count": 92,
     "metadata": {},
     "output_type": "execute_result"
    }
   ],
   "source": [
    "orange"
   ]
  },
  {
   "cell_type": "code",
   "execution_count": 93,
   "id": "c52c5f29",
   "metadata": {},
   "outputs": [
    {
     "data": {
      "text/plain": [
       "'small'"
      ]
     },
     "execution_count": 93,
     "metadata": {},
     "output_type": "execute_result"
    }
   ],
   "source": [
    "orange.size"
   ]
  },
  {
   "cell_type": "code",
   "execution_count": 94,
   "id": "91596542",
   "metadata": {},
   "outputs": [
    {
     "name": "stdout",
     "output_type": "stream",
     "text": [
      "i am orangeand a shaperound\n"
     ]
    }
   ],
   "source": [
    "orange.salutation()"
   ]
  },
  {
   "cell_type": "code",
   "execution_count": 95,
   "id": "d000a002",
   "metadata": {},
   "outputs": [
    {
     "data": {
      "text/plain": [
       "<function __main__.fruit.salutation(self)>"
      ]
     },
     "execution_count": 95,
     "metadata": {},
     "output_type": "execute_result"
    }
   ],
   "source": [
    "fruit.salutation"
   ]
  },
  {
   "cell_type": "code",
   "execution_count": 96,
   "id": "466322f0",
   "metadata": {},
   "outputs": [],
   "source": [
    "del orange.shape"
   ]
  },
  {
   "cell_type": "code",
   "execution_count": 97,
   "id": "9627f8b5",
   "metadata": {},
   "outputs": [
    {
     "ename": "AttributeError",
     "evalue": "'fruit' object has no attribute 'shape'",
     "output_type": "error",
     "traceback": [
      "\u001b[1;31m---------------------------------------------------------------------------\u001b[0m",
      "\u001b[1;31mAttributeError\u001b[0m                            Traceback (most recent call last)",
      "\u001b[1;32m~\\AppData\\Local\\Temp/ipykernel_12152/3200418475.py\u001b[0m in \u001b[0;36m<module>\u001b[1;34m\u001b[0m\n\u001b[1;32m----> 1\u001b[1;33m \u001b[0morange\u001b[0m\u001b[1;33m.\u001b[0m\u001b[0mshape\u001b[0m\u001b[1;33m\u001b[0m\u001b[1;33m\u001b[0m\u001b[0m\n\u001b[0m",
      "\u001b[1;31mAttributeError\u001b[0m: 'fruit' object has no attribute 'shape'"
     ]
    }
   ],
   "source": [
    "orange.shape"
   ]
  },
  {
   "cell_type": "code",
   "execution_count": 98,
   "id": "53319643",
   "metadata": {},
   "outputs": [],
   "source": [
    "del orange"
   ]
  },
  {
   "cell_type": "code",
   "execution_count": 99,
   "id": "ec9f0163",
   "metadata": {},
   "outputs": [
    {
     "ename": "NameError",
     "evalue": "name 'orange' is not defined",
     "output_type": "error",
     "traceback": [
      "\u001b[1;31m---------------------------------------------------------------------------\u001b[0m",
      "\u001b[1;31mNameError\u001b[0m                                 Traceback (most recent call last)",
      "\u001b[1;32m~\\AppData\\Local\\Temp/ipykernel_12152/945180513.py\u001b[0m in \u001b[0;36m<module>\u001b[1;34m\u001b[0m\n\u001b[1;32m----> 1\u001b[1;33m \u001b[0morange\u001b[0m\u001b[1;33m\u001b[0m\u001b[1;33m\u001b[0m\u001b[0m\n\u001b[0m",
      "\u001b[1;31mNameError\u001b[0m: name 'orange' is not defined"
     ]
    }
   ],
   "source": [
    "orange"
   ]
  },
  {
   "cell_type": "code",
   "execution_count": 100,
   "id": "939a1f7f",
   "metadata": {},
   "outputs": [
    {
     "data": {
      "text/plain": [
       "__main__.fruit"
      ]
     },
     "execution_count": 100,
     "metadata": {},
     "output_type": "execute_result"
    }
   ],
   "source": [
    "fruit"
   ]
  },
  {
   "cell_type": "code",
   "execution_count": 101,
   "id": "80c958ad",
   "metadata": {},
   "outputs": [],
   "source": [
    "del fruit"
   ]
  },
  {
   "cell_type": "code",
   "execution_count": 102,
   "id": "3a83d3fd",
   "metadata": {},
   "outputs": [
    {
     "ename": "NameError",
     "evalue": "name 'fruit' is not defined",
     "output_type": "error",
     "traceback": [
      "\u001b[1;31m---------------------------------------------------------------------------\u001b[0m",
      "\u001b[1;31mNameError\u001b[0m                                 Traceback (most recent call last)",
      "\u001b[1;32m~\\AppData\\Local\\Temp/ipykernel_12152/3670734841.py\u001b[0m in \u001b[0;36m<module>\u001b[1;34m\u001b[0m\n\u001b[1;32m----> 1\u001b[1;33m \u001b[0mfruit\u001b[0m\u001b[1;33m\u001b[0m\u001b[1;33m\u001b[0m\u001b[0m\n\u001b[0m",
      "\u001b[1;31mNameError\u001b[0m: name 'fruit' is not defined"
     ]
    }
   ],
   "source": [
    "fruit"
   ]
  },
  {
   "cell_type": "code",
   "execution_count": 103,
   "id": "3b0f02b0",
   "metadata": {},
   "outputs": [],
   "source": [
    "class Car:\n",
    "    def __init__(self,brand,model,color,fuel):\n",
    "        self.brand = brand\n",
    "        self.model = model\n",
    "        self.color = color\n",
    "        self.fuel = fuel\n",
    "    def start(self):\n",
    "        pass\n",
    "    def halt(self):\n",
    "        pass\n",
    "    def drift(self):\n",
    "        pass\n",
    "    def speedup(self):\n",
    "        pass\n",
    "    def turn(self):\n",
    "        pass"
   ]
  },
  {
   "cell_type": "code",
   "execution_count": 104,
   "id": "cb01ec42",
   "metadata": {},
   "outputs": [],
   "source": [
    "black = Car('Hyundai','Verna','black','Diesel')"
   ]
  },
  {
   "cell_type": "code",
   "execution_count": 106,
   "id": "4e3f58a3",
   "metadata": {},
   "outputs": [
    {
     "data": {
      "text/plain": [
       "<__main__.Car at 0x1c8ac071760>"
      ]
     },
     "execution_count": 106,
     "metadata": {},
     "output_type": "execute_result"
    }
   ],
   "source": [
    "black"
   ]
  },
  {
   "cell_type": "code",
   "execution_count": 107,
   "id": "b1ba5ca6",
   "metadata": {},
   "outputs": [
    {
     "data": {
      "text/plain": [
       "'Diesel'"
      ]
     },
     "execution_count": 107,
     "metadata": {},
     "output_type": "execute_result"
    }
   ],
   "source": [
    "black.fuel"
   ]
  },
  {
   "cell_type": "code",
   "execution_count": 108,
   "id": "27272dc4",
   "metadata": {},
   "outputs": [],
   "source": [
    "black.speedup()"
   ]
  },
  {
   "cell_type": "code",
   "execution_count": 109,
   "id": "63728ddd",
   "metadata": {},
   "outputs": [
    {
     "name": "stdout",
     "output_type": "stream",
     "text": [
      "hello,manjunath\n"
     ]
    },
    {
     "data": {
      "text/plain": [
       "'manjunath'"
      ]
     },
     "execution_count": 109,
     "metadata": {},
     "output_type": "execute_result"
    }
   ],
   "source": [
    "class try1:\n",
    "    def __init__(self):\n",
    "        pass\n",
    "    def printhello(self,name):\n",
    "        print(f\"hello,{name}\")\n",
    "        return name\n",
    "obj =try1()\n",
    "obj.printhello(\"manjunath\")"
   ]
  },
  {
   "cell_type": "code",
   "execution_count": 110,
   "id": "73b61b05",
   "metadata": {},
   "outputs": [],
   "source": [
    "class Animal:\n",
    "    def __init__(self,species,gender):\n",
    "        self.species=species\n",
    "        self.gender=gender\n",
    "fluffy = Animal('dog','femal')"
   ]
  },
  {
   "cell_type": "code",
   "execution_count": null,
   "id": "10853fc9",
   "metadata": {},
   "outputs": [],
   "source": [
    "flfuff"
   ]
  }
 ],
 "metadata": {
  "kernelspec": {
   "display_name": "Python 3 (ipykernel)",
   "language": "python",
   "name": "python3"
  },
  "language_info": {
   "codemirror_mode": {
    "name": "ipython",
    "version": 3
   },
   "file_extension": ".py",
   "mimetype": "text/x-python",
   "name": "python",
   "nbconvert_exporter": "python",
   "pygments_lexer": "ipython3",
   "version": "3.9.2"
  }
 },
 "nbformat": 4,
 "nbformat_minor": 5
}
