{
 "cells": [
  {
   "cell_type": "markdown",
   "id": "c110602d",
   "metadata": {},
   "source": [
    "# python Multiprocessing\n",
    "1. process class\n",
    "2. getting information about process\n",
    "3. python multiprocessing lock\n",
    "4. pool class"
   ]
  },
  {
   "cell_type": "markdown",
   "id": "05b25b48",
   "metadata": {},
   "source": [
    "# parallel processing simultaneously break up and run program task on multiple microprocessors"
   ]
  },
  {
   "cell_type": "code",
   "execution_count": 1,
   "id": "40a12066",
   "metadata": {},
   "outputs": [],
   "source": [
    "from multiprocessing import Pool"
   ]
  },
  {
   "cell_type": "code",
   "execution_count": 2,
   "id": "744ee2bf",
   "metadata": {},
   "outputs": [],
   "source": [
    "def f(x):\n",
    "    return x*x"
   ]
  },
  {
   "cell_type": "code",
   "execution_count": null,
   "id": "f158be46",
   "metadata": {},
   "outputs": [],
   "source": [
    "with Pool(5) as p:\n",
    "    print(p.map(f,[1,2,3]))"
   ]
  },
  {
   "cell_type": "code",
   "execution_count": 1,
   "id": "96d71b51",
   "metadata": {},
   "outputs": [],
   "source": [
    "import multiprocessing"
   ]
  },
  {
   "cell_type": "code",
   "execution_count": 2,
   "id": "6d95a689",
   "metadata": {},
   "outputs": [],
   "source": [
    "from multiprocessing import Process"
   ]
  },
  {
   "cell_type": "code",
   "execution_count": 3,
   "id": "67472b9e",
   "metadata": {},
   "outputs": [],
   "source": [
    "def testing():\n",
    "    print(\"works\")"
   ]
  },
  {
   "cell_type": "code",
   "execution_count": 4,
   "id": "0142ba4f",
   "metadata": {},
   "outputs": [],
   "source": [
    "def square(n):\n",
    "    print(\"the numbers squares to\",n**2)"
   ]
  },
  {
   "cell_type": "code",
   "execution_count": 5,
   "id": "d8b77852",
   "metadata": {},
   "outputs": [],
   "source": [
    "def cube(n):\n",
    "    print(\"the number cubes to\",n**3)"
   ]
  },
  {
   "cell_type": "code",
   "execution_count": 8,
   "id": "229d6c43",
   "metadata": {},
   "outputs": [
    {
     "ename": "SyntaxError",
     "evalue": "invalid syntax (Temp/ipykernel_716/3264115368.py, line 5)",
     "output_type": "error",
     "traceback": [
      "\u001b[1;36m  File \u001b[1;32m\"C:\\Users\\yaraz\\AppData\\Local\\Temp/ipykernel_716/3264115368.py\"\u001b[1;36m, line \u001b[1;32m5\u001b[0m\n\u001b[1;33m    p1.start()\u001b[0m\n\u001b[1;37m    ^\u001b[0m\n\u001b[1;31mSyntaxError\u001b[0m\u001b[1;31m:\u001b[0m invalid syntax\n"
     ]
    }
   ],
   "source": [
    "if __name__==\"__main__\":\n",
    "    p1=Process(target=square,args=(7,))\n",
    "    p2=Process(target=cube,args=(7,))\n",
    "    p3=Process(target=testing\n",
    "    p1.start()\n",
    "    p2.start()\n",
    "    p3.start()\n",
    "    p1.join()\n",
    "    p2.join()\n",
    "    p3.join()\n",
    "    print(\"we're done\")"
   ]
  },
  {
   "cell_type": "code",
   "execution_count": 10,
   "id": "8373de02",
   "metadata": {},
   "outputs": [],
   "source": [
    "import logging # is way to track events before we can proceed"
   ]
  },
  {
   "cell_type": "markdown",
   "id": "fe8a0600",
   "metadata": {},
   "source": [
    "# logging in python"
   ]
  },
  {
   "cell_type": "markdown",
   "id": "085da67d",
   "metadata": {},
   "source": [
    "### logging is a way to track events occuring when we run a piece of software"
   ]
  },
  {
   "cell_type": "code",
   "execution_count": 12,
   "id": "b3b17bb8",
   "metadata": {},
   "outputs": [
    {
     "name": "stderr",
     "output_type": "stream",
     "text": [
      "WARNING:root:this is a warning\n"
     ]
    }
   ],
   "source": [
    "logging.warning('this is a warning')"
   ]
  },
  {
   "cell_type": "code",
   "execution_count": 13,
   "id": "160646db",
   "metadata": {},
   "outputs": [],
   "source": [
    "import logging"
   ]
  },
  {
   "cell_type": "code",
   "execution_count": 14,
   "id": "a26a6908",
   "metadata": {},
   "outputs": [],
   "source": [
    "logging.basicConfig(filename='demolog.log',level=logging)"
   ]
  },
  {
   "cell_type": "code",
   "execution_count": 15,
   "id": "94091c3a",
   "metadata": {},
   "outputs": [
    {
     "name": "stderr",
     "output_type": "stream",
     "text": [
      "WARNING:root:this is a warning\n",
      "WARNING:root:You may run into issues with your code\n"
     ]
    }
   ],
   "source": [
    "logging.warning('this is a warning');logging.warning('You may run into issues with your code')"
   ]
  },
  {
   "cell_type": "code",
   "execution_count": 17,
   "id": "6188caf3",
   "metadata": {},
   "outputs": [],
   "source": [
    "import os"
   ]
  },
  {
   "cell_type": "code",
   "execution_count": 18,
   "id": "2fdccf75",
   "metadata": {},
   "outputs": [
    {
     "data": {
      "text/plain": [
       "'C:\\\\Users\\\\yaraz'"
      ]
     },
     "execution_count": 18,
     "metadata": {},
     "output_type": "execute_result"
    }
   ],
   "source": [
    "os.getcwd()"
   ]
  },
  {
   "cell_type": "code",
   "execution_count": 19,
   "id": "2c1ccb7e",
   "metadata": {},
   "outputs": [
    {
     "data": {
      "text/plain": [
       "['.anaconda_backup',\n",
       " '.android',\n",
       " '.atom',\n",
       " '.aws',\n",
       " '.bash_history',\n",
       " '.config',\n",
       " '.docker',\n",
       " '.gitconfig',\n",
       " '.idea',\n",
       " '.ipynb_checkpoints',\n",
       " '.ipython',\n",
       " '.jupyter',\n",
       " '.pgAdmin4.427924103.addr',\n",
       " '.pgAdmin4.427924103.log',\n",
       " '.pgAdmin4.startup.log',\n",
       " '.pipwin',\n",
       " '.pylint.d',\n",
       " '.python_history',\n",
       " '.spyder-py3',\n",
       " '.ssh',\n",
       " '.vscode',\n",
       " '.~2021-jan-03 6.07.2021-jan-3 6',\n",
       " '.~2021-jan-3 6',\n",
       " '.~stock-21-01-03 10',\n",
       " '2021-jan-3 6',\n",
       " '26-feb.ipynb',\n",
       " '3D Objects',\n",
       " 'Adani_Enterprise.csv',\n",
       " 'algo-13.ipynb',\n",
       " 'algorithm_feb_8.ipynb',\n",
       " 'anaconda3',\n",
       " 'API STOCK',\n",
       " 'api.2021-jan-3 6',\n",
       " 'API.ipynb',\n",
       " 'Apollo_Tyres.csv',\n",
       " 'Apollo_Tyres1.csv',\n",
       " 'Apollo_Tyreslowhigh.csv',\n",
       " 'AppData',\n",
       " 'Application Data',\n",
       " 'Bank_Nifty.csv',\n",
       " 'calc.ipynb',\n",
       " 'config',\n",
       " 'Contacts',\n",
       " 'Cookies',\n",
       " 'debug.log',\n",
       " 'december.15',\n",
       " 'Demo-env',\n",
       " 'Demo-Tutorial',\n",
       " 'demo15.ipynb',\n",
       " 'Desktop',\n",
       " 'Documents',\n",
       " 'Downloads',\n",
       " 'edb_languagepack.exe',\n",
       " 'edb_languagepack_94.exe',\n",
       " 'edb_mtk.exe',\n",
       " 'edb_npgsql.exe',\n",
       " 'edb_pem_agent.exe',\n",
       " 'edb_pem_server.exe',\n",
       " 'edb_pem_server.exe-20200201022218',\n",
       " 'edb_pem_server.exe-20200201022234',\n",
       " 'Election',\n",
       " 'Envs',\n",
       " 'Favorites',\n",
       " 'feb-1.ipynb',\n",
       " 'feb-16.ipynb',\n",
       " 'feb-17 algo.ipynb',\n",
       " 'feb-2.ipynb',\n",
       " 'feb-27.ipynb',\n",
       " 'feb-28.ipynb',\n",
       " 'first.py',\n",
       " 'first_Demo.ipynb',\n",
       " 'getting-started',\n",
       " 'hacking_mail.ipynb',\n",
       " 'img.jpg',\n",
       " 'infy_stock.csv',\n",
       " 'instax',\n",
       " 'instgram_save.ipynb',\n",
       " 'IntelGraphicsProfiles',\n",
       " 'Jarvis.ipynb',\n",
       " 'Jindal_Steel.csv',\n",
       " 'Jindal_steel1.csv',\n",
       " 'kannur_stock.ipynb',\n",
       " 'Links',\n",
       " 'Local Settings',\n",
       " 'loginpage.html',\n",
       " 'manju.txt',\n",
       " 'march-05.ipynb',\n",
       " 'march-06.ipynb',\n",
       " 'march-13.ipynb',\n",
       " 'march-18.ipynb',\n",
       " 'martch-04.ipynb',\n",
       " 'MicrosoftEdgeBackups',\n",
       " 'Module.ipynb',\n",
       " 'Music',\n",
       " 'My Documents',\n",
       " 'NetHood',\n",
       " 'nifty_it_index.csv',\n",
       " 'NTUSER.DAT',\n",
       " 'ntuser.dat.LOG1',\n",
       " 'ntuser.dat.LOG2',\n",
       " 'NTUSER.DAT{10a193c9-1560-11eb-ae0d-f42382946dc7}.TM.blf',\n",
       " 'NTUSER.DAT{10a193c9-1560-11eb-ae0d-f42382946dc7}.TMContainer00000000000000000001.regtrans-ms',\n",
       " 'NTUSER.DAT{10a193c9-1560-11eb-ae0d-f42382946dc7}.TMContainer00000000000000000002.regtrans-ms',\n",
       " 'ntuser.ini',\n",
       " 'OneDrive',\n",
       " 'oops_concept in python.ipynb',\n",
       " 'password.txt',\n",
       " 'pemhttpd.exe',\n",
       " 'pic27218.jpg',\n",
       " 'pic31862.jpg',\n",
       " 'pic98520.jpg',\n",
       " 'Pipfile',\n",
       " 'Pipfile.lock',\n",
       " 'postgresql_94.exe',\n",
       " 'prices.csv',\n",
       " 'PrintHood',\n",
       " 'Program_Example.ipynb',\n",
       " 'python algorithm.ipynb',\n",
       " 'Python Algorithms_ Mastering Basic Algorithms in the Python Language ( PDFDrive ).pdf',\n",
       " 'python-getting-started',\n",
       " 'pythonprogram.ipynb',\n",
       " 'python_class.ipynb',\n",
       " 'python_function.ipynb',\n",
       " 'python_Generator.ipynb',\n",
       " 'python_Multiprocessing.ipynb',\n",
       " 'Python_Tutorial.ipynb',\n",
       " 'Recent',\n",
       " 'Saved Games',\n",
       " 'Searches',\n",
       " 'SendTo',\n",
       " 'sherlock',\n",
       " 'Start Menu',\n",
       " 'stock-21-01-03 10',\n",
       " 'tcs_stock.csv',\n",
       " 'Templates',\n",
       " 'timeproject.ipynb',\n",
       " 'token.ipynb',\n",
       " 'Tracing',\n",
       " 'untitled',\n",
       " 'Untitled.ipynb',\n",
       " 'Untitled1.ipynb',\n",
       " 'Untitled2.ipynb',\n",
       " 'Untitled3.ipynb',\n",
       " 'Untitled4.ipynb',\n",
       " 'Untitled5.ipynb',\n",
       " 'Videos',\n",
       " 'whatsapp_hack',\n",
       " 'yarazari10.com',\n",
       " '_netrc']"
      ]
     },
     "execution_count": 19,
     "metadata": {},
     "output_type": "execute_result"
    }
   ],
   "source": [
    "os.listdir()"
   ]
  },
  {
   "cell_type": "code",
   "execution_count": 20,
   "id": "c52ecf23",
   "metadata": {},
   "outputs": [],
   "source": [
    "import logging"
   ]
  },
  {
   "cell_type": "code",
   "execution_count": 21,
   "id": "0dea36e2",
   "metadata": {},
   "outputs": [
    {
     "name": "stderr",
     "output_type": "stream",
     "text": [
      "WARNING:root:you are warned!\n"
     ]
    }
   ],
   "source": [
    "logging.warning('you are warned!')"
   ]
  },
  {
   "cell_type": "code",
   "execution_count": 22,
   "id": "a8b4b618",
   "metadata": {},
   "outputs": [],
   "source": [
    "logging.info('deal with it')"
   ]
  },
  {
   "cell_type": "code",
   "execution_count": 23,
   "id": "5bf67fc0",
   "metadata": {},
   "outputs": [],
   "source": [
    "import logging"
   ]
  },
  {
   "cell_type": "code",
   "execution_count": 36,
   "id": "6ea81460",
   "metadata": {},
   "outputs": [],
   "source": [
    "logging.basicConfig(format='%(asctime)s%(message)s',level=logging.DEBUG)"
   ]
  },
  {
   "cell_type": "code",
   "execution_count": 32,
   "id": "78787092",
   "metadata": {},
   "outputs": [],
   "source": [
    "data"
   ]
  },
  {
   "cell_type": "code",
   "execution_count": 37,
   "id": "30345a13",
   "metadata": {},
   "outputs": [],
   "source": [
    "logging.info('began to log')"
   ]
  },
  {
   "cell_type": "code",
   "execution_count": 38,
   "id": "03593514",
   "metadata": {},
   "outputs": [
    {
     "name": "stderr",
     "output_type": "stream",
     "text": [
      "WARNING:root:this is a warning\n"
     ]
    }
   ],
   "source": [
    "logging.warning('this is a warning')"
   ]
  },
  {
   "cell_type": "code",
   "execution_count": 39,
   "id": "7f6bb5f8",
   "metadata": {},
   "outputs": [
    {
     "name": "stderr",
     "output_type": "stream",
     "text": [
      "WARNING:root:your code could run into issue\n"
     ]
    }
   ],
   "source": [
    "logging.warning('your code could run into issue')"
   ]
  },
  {
   "cell_type": "code",
   "execution_count": 40,
   "id": "31fb85c2",
   "metadata": {},
   "outputs": [],
   "source": [
    "import logging"
   ]
  },
  {
   "cell_type": "code",
   "execution_count": 41,
   "id": "46074691",
   "metadata": {},
   "outputs": [],
   "source": [
    "logging.basicConfig(format='%(asctime)s%(message)s',level=logging.DEBUG,datefmt='%m/%d/%y%I:%M:%S %p')"
   ]
  },
  {
   "cell_type": "code",
   "execution_count": 42,
   "id": "51ac60bf",
   "metadata": {},
   "outputs": [],
   "source": [
    "import logging"
   ]
  },
  {
   "cell_type": "code",
   "execution_count": 43,
   "id": "37e1073b",
   "metadata": {},
   "outputs": [],
   "source": [
    "logging.basicConfig(format='%(asctime)s %(message)s', level=logging.DEBUG,datefmt='%m/%d/%Y %I:%M:%S %p')"
   ]
  },
  {
   "cell_type": "code",
   "execution_count": 44,
   "id": "d9f8a3f2",
   "metadata": {},
   "outputs": [
    {
     "name": "stderr",
     "output_type": "stream",
     "text": [
      "WARNING:root:Does this work\n"
     ]
    }
   ],
   "source": [
    "logging.warning('Does this work')"
   ]
  },
  {
   "cell_type": "markdown",
   "id": "a2424269",
   "metadata": {},
   "source": [
    "# Basic python geeksforgeeks"
   ]
  },
  {
   "cell_type": "code",
   "execution_count": 46,
   "id": "8bdc88a9",
   "metadata": {},
   "outputs": [
    {
     "name": "stdout",
     "output_type": "stream",
     "text": [
      "yarazari\n"
     ]
    }
   ],
   "source": [
    "# scripts begins\n",
    "print(\"yarazari\")\n",
    "# Scripts ends"
   ]
  },
  {
   "cell_type": "code",
   "execution_count": 47,
   "id": "e99e2846",
   "metadata": {},
   "outputs": [
    {
     "ename": "NameError",
     "evalue": "name 'python' is not defined",
     "output_type": "error",
     "traceback": [
      "\u001b[1;31m---------------------------------------------------------------------------\u001b[0m",
      "\u001b[1;31mNameError\u001b[0m                                 Traceback (most recent call last)",
      "\u001b[1;32m~\\AppData\\Local\\Temp/ipykernel_716/1576056767.py\u001b[0m in \u001b[0;36m<module>\u001b[1;34m\u001b[0m\n\u001b[1;32m----> 1\u001b[1;33m \u001b[0mpython\u001b[0m \u001b[1;33m-\u001b[0m\u001b[1;33m-\u001b[0m\u001b[0mversion\u001b[0m\u001b[1;33m\u001b[0m\u001b[1;33m\u001b[0m\u001b[0m\n\u001b[0m",
      "\u001b[1;31mNameError\u001b[0m: name 'python' is not defined"
     ]
    }
   ],
   "source": [
    "python --version"
   ]
  },
  {
   "cell_type": "code",
   "execution_count": 48,
   "id": "b6c2470c",
   "metadata": {},
   "outputs": [
    {
     "name": "stdout",
     "output_type": "stream",
     "text": [
      "hello word\n"
     ]
    }
   ],
   "source": [
    "print(\"hello word\")"
   ]
  },
  {
   "cell_type": "code",
   "execution_count": 49,
   "id": "30226b0f",
   "metadata": {},
   "outputs": [
    {
     "name": "stdout",
     "output_type": "stream",
     "text": [
      "3\n"
     ]
    }
   ],
   "source": [
    "# python program to declare variables\n",
    "mynumber = 3\n",
    "print(mynumber)"
   ]
  },
  {
   "cell_type": "code",
   "execution_count": 50,
   "id": "5eba67c4",
   "metadata": {},
   "outputs": [
    {
     "name": "stdout",
     "output_type": "stream",
     "text": [
      "4.5\n"
     ]
    }
   ],
   "source": [
    "mynumber2 = 4.5\n",
    "print(mynumber2)"
   ]
  },
  {
   "cell_type": "code",
   "execution_count": 51,
   "id": "de87533a",
   "metadata": {},
   "outputs": [
    {
     "name": "stdout",
     "output_type": "stream",
     "text": [
      "hello word\n"
     ]
    }
   ],
   "source": [
    "myword = \"hello word\"\n",
    "print(myword)"
   ]
  },
  {
   "cell_type": "code",
   "execution_count": 52,
   "id": "7cbd5dfb",
   "metadata": {},
   "outputs": [
    {
     "name": "stdout",
     "output_type": "stream",
     "text": [
      "[21, 40.5, 'string']\n"
     ]
    }
   ],
   "source": [
    "# python program to illustrate a list\n",
    "#creates a empty list\n",
    "nums = []\n",
    "\n",
    "# appending data in list\n",
    "nums.append(21)\n",
    "nums.append(40.5)\n",
    "nums.append(\"string\")\n",
    "print(nums)"
   ]
  },
  {
   "cell_type": "code",
   "execution_count": 53,
   "id": "43af9da0",
   "metadata": {},
   "outputs": [
    {
     "name": "stdout",
     "output_type": "stream",
     "text": [
      "enter your name:manjunath s kannur\n"
     ]
    }
   ],
   "source": [
    "# pyton program to illustrate\n",
    "# getting input from user\n",
    "name = input(\"enter your name:\")"
   ]
  },
  {
   "cell_type": "code",
   "execution_count": 54,
   "id": "aa4e2999",
   "metadata": {},
   "outputs": [
    {
     "name": "stdout",
     "output_type": "stream",
     "text": [
      "hello manjunath s kannur\n"
     ]
    }
   ],
   "source": [
    "print(\"hello\",name)"
   ]
  },
  {
   "cell_type": "code",
   "execution_count": null,
   "id": "9fb90d86",
   "metadata": {},
   "outputs": [],
   "source": []
  }
 ],
 "metadata": {
  "kernelspec": {
   "display_name": "Python 3 (ipykernel)",
   "language": "python",
   "name": "python3"
  },
  "language_info": {
   "codemirror_mode": {
    "name": "ipython",
    "version": 3
   },
   "file_extension": ".py",
   "mimetype": "text/x-python",
   "name": "python",
   "nbconvert_exporter": "python",
   "pygments_lexer": "ipython3",
   "version": "3.9.2"
  }
 },
 "nbformat": 4,
 "nbformat_minor": 5
}
