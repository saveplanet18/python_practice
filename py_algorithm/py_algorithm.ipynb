{
 "cells": [
  {
   "cell_type": "code",
   "execution_count": 2,
   "id": "adbf5c7f",
   "metadata": {},
   "outputs": [],
   "source": [
    "def sum1(n):\n",
    "    \"\"\"\n",
    "    take an input of n and return the sume of the number\n",
    "    \"\"\"\n",
    "    final = 0\n",
    "    for i in range(n+1):\n",
    "        final +=i\n",
    "    return final"
   ]
  },
  {
   "cell_type": "code",
   "execution_count": 3,
   "id": "3b10c165",
   "metadata": {},
   "outputs": [
    {
     "data": {
      "text/plain": [
       "15"
      ]
     },
     "execution_count": 3,
     "metadata": {},
     "output_type": "execute_result"
    }
   ],
   "source": [
    "sum1(5)"
   ]
  },
  {
   "cell_type": "markdown",
   "id": "07cae879",
   "metadata": {},
   "source": [
    "# loops in python"
   ]
  },
  {
   "cell_type": "code",
   "execution_count": 1,
   "id": "2f8e9fe7",
   "metadata": {},
   "outputs": [],
   "source": [
    "# syntax while loop\n",
    "# while expression:\n",
    "#     statement(s)\n"
   ]
  },
  {
   "cell_type": "code",
   "execution_count": 2,
   "id": "d2d54027",
   "metadata": {},
   "outputs": [
    {
     "name": "stdout",
     "output_type": "stream",
     "text": [
      "hello, yarazari\n",
      "hello, yarazari\n",
      "hello, yarazari\n"
     ]
    }
   ],
   "source": [
    "# while loop\n",
    "count = 0\n",
    "while (count < 3):\n",
    "    count  +=1\n",
    "    print(\"hello, yarazari\")"
   ]
  },
  {
   "cell_type": "code",
   "execution_count": 3,
   "id": "ebed1023",
   "metadata": {},
   "outputs": [
    {
     "name": "stdout",
     "output_type": "stream",
     "text": [
      "mbl:\n"
     ]
    }
   ],
   "source": [
    "# if condtion:\n",
    "#     # excutes these statements\n",
    "# else:\n",
    "#     # executes these statements\n",
    "# while condition:\n",
    "#     # executes these statements\n",
    "# else:\n",
    "#     # executes these statement\n",
    "count = 0\n",
    "while( count > 3):\n",
    "    count+=1\n",
    "    print(\"yarazari\")\n",
    "else:\n",
    "    print(\"mbl:\")"
   ]
  },
  {
   "cell_type": "code",
   "execution_count": 6,
   "id": "37ada717",
   "metadata": {},
   "outputs": [
    {
     "name": "stdout",
     "output_type": "stream",
     "text": [
      "else part is executed: \n"
     ]
    }
   ],
   "source": [
    "while (count < 3):\n",
    "    count +=1\n",
    "    print(\"count is \")\n",
    "else:\n",
    "    print(\"else part is executed: \")"
   ]
  },
  {
   "cell_type": "code",
   "execution_count": 8,
   "id": "daf425a9",
   "metadata": {},
   "outputs": [
    {
     "name": "stdout",
     "output_type": "stream",
     "text": [
      "hello der: 1\n",
      "hello der: 2\n",
      "hello der: 3\n",
      "by der:\n"
     ]
    }
   ],
   "source": [
    "count = 0\n",
    "while (count < 3):\n",
    "    count  +=1\n",
    "    print(\"hello der: {}\".format(count))\n",
    "else:\n",
    "    print(\"by der:\")"
   ]
  },
  {
   "cell_type": "markdown",
   "id": "e3384ae2",
   "metadata": {},
   "source": [
    "# for ln loop\n"
   ]
  },
  {
   "cell_type": "code",
   "execution_count": 10,
   "id": "f615ca0d",
   "metadata": {},
   "outputs": [
    {
     "name": "stdout",
     "output_type": "stream",
     "text": [
      "inner loope  0\n",
      "inner loope  1\n",
      "inner loope  2\n",
      "inner loope  3\n"
     ]
    }
   ],
   "source": [
    "# for loop are used for sequential traversal\n",
    "# for iterator_var in sequenc:\n",
    "#     statement(s)\n",
    "n = 4\n",
    "for i in range(0,n):\n",
    "    print(\"inner loope \",i)"
   ]
  },
  {
   "cell_type": "code",
   "execution_count": 11,
   "id": "20be2d2b",
   "metadata": {},
   "outputs": [
    {
     "name": "stdout",
     "output_type": "stream",
     "text": [
      "list iteration: \n",
      "geeks\n",
      "for\n",
      "geeks\n"
     ]
    }
   ],
   "source": [
    "# iterating over list\n",
    "print(\"list iteration: \")\n",
    "l = ['geeks','for','geeks']\n",
    "for i in l:\n",
    "    print(i)"
   ]
  },
  {
   "cell_type": "code",
   "execution_count": 12,
   "id": "ba8eb520",
   "metadata": {},
   "outputs": [
    {
     "name": "stdout",
     "output_type": "stream",
     "text": [
      "('geeks', 'for', 'geeks')\n",
      "('geeks', 'for', 'geeks')\n",
      "('geeks', 'for', 'geeks')\n"
     ]
    }
   ],
   "source": [
    "t = ('geeks','for','geeks')\n",
    "for i in t:\n",
    "    print(t)"
   ]
  },
  {
   "cell_type": "code",
   "execution_count": 13,
   "id": "3d705441",
   "metadata": {},
   "outputs": [
    {
     "name": "stdout",
     "output_type": "stream",
     "text": [
      "\n",
      " string iteration: \n",
      "r\n",
      "e\n",
      "n\n",
      "u\n",
      "k\n",
      "a\n",
      "d\n",
      "e\n",
      "v\n",
      "i\n"
     ]
    }
   ],
   "source": [
    "print(\"\\n string iteration: \")\n",
    "s = \"renukadevi\"\n",
    "for i in s:\n",
    "    print(i)"
   ]
  },
  {
   "cell_type": "code",
   "execution_count": 14,
   "id": "4b352547",
   "metadata": {},
   "outputs": [],
   "source": [
    "d = dict()\n",
    "d['xyz'] = 123\n",
    "d['zbc'] = 345"
   ]
  },
  {
   "cell_type": "code",
   "execution_count": 16,
   "id": "d9987312",
   "metadata": {},
   "outputs": [
    {
     "name": "stdout",
     "output_type": "stream",
     "text": [
      "('xyz', 123)\n",
      "('zbc', 345)\n"
     ]
    }
   ],
   "source": [
    "for i in d.items():\n",
    "    print(i)"
   ]
  },
  {
   "cell_type": "code",
   "execution_count": 17,
   "id": "d8346bda",
   "metadata": {},
   "outputs": [
    {
     "name": "stdout",
     "output_type": "stream",
     "text": [
      "xyz\n",
      "zbc\n"
     ]
    }
   ],
   "source": [
    "for i in d:\n",
    "    print(i)"
   ]
  },
  {
   "cell_type": "code",
   "execution_count": 18,
   "id": "78df02e7",
   "metadata": {},
   "outputs": [],
   "source": [
    "list = ['geeks','for','geeks']"
   ]
  },
  {
   "cell_type": "code",
   "execution_count": 20,
   "id": "5da7cc3d",
   "metadata": {},
   "outputs": [
    {
     "name": "stdout",
     "output_type": "stream",
     "text": [
      "geeks 0\n",
      "for 1\n",
      "geeks 2\n"
     ]
    }
   ],
   "source": [
    "for index in range(len(list)):\n",
    "    print(list[index],index)"
   ]
  },
  {
   "cell_type": "code",
   "execution_count": 22,
   "id": "3a3839b0",
   "metadata": {},
   "outputs": [
    {
     "name": "stdout",
     "output_type": "stream",
     "text": [
      "geeks\n",
      "for\n",
      "geeks\n",
      "inside the else block: \n"
     ]
    }
   ],
   "source": [
    "for item in range(len(list)):\n",
    "    print(list[item])\n",
    "else:\n",
    "    print(\"inside the else block: \")"
   ]
  },
  {
   "cell_type": "code",
   "execution_count": 23,
   "id": "bb110cec",
   "metadata": {},
   "outputs": [
    {
     "name": "stdout",
     "output_type": "stream",
     "text": [
      "geeks\n",
      "for\n",
      "geeks\n",
      "nothing will display..\n"
     ]
    }
   ],
   "source": [
    "for item in range(len(list)):\n",
    "    print(list[item])\n",
    "else:\n",
    "    print(\"nothing will display..\")"
   ]
  },
  {
   "cell_type": "code",
   "execution_count": 24,
   "id": "196ac50d",
   "metadata": {},
   "outputs": [
    {
     "name": "stdout",
     "output_type": "stream",
     "text": [
      "inner block is  0\n",
      "inner block is  1\n",
      "inner block is  2\n",
      "inner block is  3\n",
      "inner block is  4\n",
      "inner block is  5\n",
      "inner block is  6\n",
      "inner block is  7\n",
      "inner block is  8\n",
      "inner block is  9\n",
      "outer block\n"
     ]
    }
   ],
   "source": [
    "for i in range(0,10):\n",
    "    print(\"inner block is \",i)\n",
    "else:\n",
    "    print(\"outer block\")"
   ]
  },
  {
   "cell_type": "code",
   "execution_count": 25,
   "id": "c03b6795",
   "metadata": {},
   "outputs": [],
   "source": [
    "# nested loops:\n",
    "# for iterator_var in sequenc:\n",
    "#     for iterator_var in sequence:\n",
    "#         statement(s)\n",
    "#     statement(s)\n"
   ]
  },
  {
   "cell_type": "code",
   "execution_count": 27,
   "id": "625eeecb",
   "metadata": {},
   "outputs": [],
   "source": [
    "# while syntax\n",
    "# while expression:\n",
    "#     while expression:\n",
    "#         statement(s)\n",
    "#         statement(s)"
   ]
  },
  {
   "cell_type": "code",
   "execution_count": 29,
   "id": "d63260ec",
   "metadata": {},
   "outputs": [
    {
     "name": "stdout",
     "output_type": "stream",
     "text": [
      "inner loop:  1outer loop: 0\n",
      "inner loop:  2inner loop:  2outer loop: 1\n",
      "inner loop:  3inner loop:  3inner loop:  3outer loop: 2\n",
      "inner loop:  4inner loop:  4inner loop:  4inner loop:  4outer loop: 3\n"
     ]
    }
   ],
   "source": [
    "for i in range(1,5):\n",
    "    for j in range(i):\n",
    "        print(\"inner loop: \",i,end= '')\n",
    "    print(\"outer loop:\",j)"
   ]
  },
  {
   "cell_type": "code",
   "execution_count": 30,
   "id": "cf1d7108",
   "metadata": {},
   "outputs": [
    {
     "name": "stdout",
     "output_type": "stream",
     "text": [
      "inner loop:  0\n",
      "inner loop:  0\n",
      "inner loop:  0\n",
      "outer loop:  2\n",
      "inner loop:  1\n",
      "inner loop:  1\n",
      "inner loop:  1\n",
      "outer loop:  2\n",
      "inner loop:  2\n",
      "inner loop:  2\n",
      "inner loop:  2\n",
      "outer loop:  2\n",
      "inner loop:  3\n",
      "inner loop:  3\n",
      "inner loop:  3\n",
      "outer loop:  2\n",
      "inner loop:  4\n",
      "inner loop:  4\n",
      "inner loop:  4\n",
      "outer loop:  2\n"
     ]
    }
   ],
   "source": [
    "for i in range(0,5):\n",
    "    for j in range(0,3):\n",
    "        print(\"inner loop: \",i)\n",
    "    print(\"outer loop: \",j)"
   ]
  },
  {
   "cell_type": "code",
   "execution_count": 31,
   "id": "78fea3d2",
   "metadata": {},
   "outputs": [
    {
     "name": "stdout",
     "output_type": "stream",
     "text": [
      "0\n",
      "1\n",
      "2\n",
      "3\n",
      "4\n"
     ]
    }
   ],
   "source": [
    "for i in range(0,5):\n",
    "    print(i)\n",
    "    "
   ]
  },
  {
   "cell_type": "code",
   "execution_count": 33,
   "id": "527d0ac2",
   "metadata": {},
   "outputs": [
    {
     "name": "stdout",
     "output_type": "stream",
     "text": [
      "inner loop:  0\n",
      "inner loop:  0\n",
      "inner loop:  0\n",
      "outer loop:  2\n",
      "inner loop:  1\n",
      "inner loop:  1\n",
      "inner loop:  1\n",
      "outer loop:  2\n",
      "inner loop:  2\n",
      "inner loop:  2\n",
      "inner loop:  2\n",
      "outer loop:  2\n",
      "inner loop:  3\n",
      "inner loop:  3\n",
      "inner loop:  3\n",
      "outer loop:  2\n",
      "inner loop:  4\n",
      "inner loop:  4\n",
      "inner loop:  4\n",
      "outer loop:  2\n"
     ]
    }
   ],
   "source": [
    "for i in range(0,5):\n",
    "    for j in range(0,3):\n",
    "        print(\"inner loop: \",i)\n",
    "    print(\"outer loop: \",j)"
   ]
  },
  {
   "cell_type": "code",
   "execution_count": 34,
   "id": "4939b5ab",
   "metadata": {},
   "outputs": [
    {
     "name": "stdout",
     "output_type": "stream",
     "text": [
      "outer loop:  0\n",
      "outer loop:  1\n",
      "inner loop:  1\n",
      "outer loop:  2\n"
     ]
    }
   ],
   "source": [
    "for i in range(0,3):\n",
    "    for j in range(1,i):\n",
    "        print(\"inner loop: \",j)\n",
    "    print(\"outer loop: \",i)"
   ]
  },
  {
   "cell_type": "code",
   "execution_count": 2,
   "id": "137b1ddf",
   "metadata": {},
   "outputs": [
    {
     "name": "stdout",
     "output_type": "stream",
     "text": [
      "outer loop:  0\n",
      "outer loop:  1\n",
      "inner loop:  1\n",
      "outer loop:  2\n",
      "inner loop:  1\n",
      "inner loop:  2\n",
      "outer loop:  3\n"
     ]
    }
   ],
   "source": [
    "n = 4\n",
    "for i in range(0,n):\n",
    "    for j in range(1,i):\n",
    "        print(\"inner loop: \",j)\n",
    "    print(\"outer loop: \",i)"
   ]
  },
  {
   "cell_type": "code",
   "execution_count": 3,
   "id": "53692f04",
   "metadata": {},
   "outputs": [
    {
     "name": "stdout",
     "output_type": "stream",
     "text": [
      "0\n",
      "1\n",
      "2\n",
      "3\n"
     ]
    }
   ],
   "source": [
    "n = 4\n",
    "for i in range(0,n):\n",
    "    print(i)"
   ]
  },
  {
   "cell_type": "code",
   "execution_count": 4,
   "id": "e5b8454a",
   "metadata": {},
   "outputs": [
    {
     "name": "stdout",
     "output_type": "stream",
     "text": [
      "list iteration: \n",
      "geeks\n",
      "for\n",
      "geeks\n"
     ]
    }
   ],
   "source": [
    "print(\"list iteration: \")\n",
    "li = ['geeks','for','geeks']\n",
    "for i in li:\n",
    "    print(i)"
   ]
  },
  {
   "cell_type": "code",
   "execution_count": 5,
   "id": "a049596e",
   "metadata": {},
   "outputs": [
    {
     "name": "stdout",
     "output_type": "stream",
     "text": [
      "\n",
      " tuple iteration: \n",
      "geeks\n",
      "for\n",
      "geeks\n"
     ]
    }
   ],
   "source": [
    "print(\"\\n tuple iteration: \")\n",
    "t = ('geeks','for','geeks')\n",
    "for i in t:\n",
    "    print(i)"
   ]
  },
  {
   "cell_type": "code",
   "execution_count": 6,
   "id": "baa902f5",
   "metadata": {},
   "outputs": [
    {
     "name": "stdout",
     "output_type": "stream",
     "text": [
      "kannur\n",
      "to\n",
      "yarazari\n"
     ]
    }
   ],
   "source": [
    "t = ('kannur','to','yarazari')\n",
    "for i in t:\n",
    "    print(i)"
   ]
  },
  {
   "cell_type": "code",
   "execution_count": 7,
   "id": "841ba90c",
   "metadata": {},
   "outputs": [
    {
     "name": "stdout",
     "output_type": "stream",
     "text": [
      "m\n",
      "a\n",
      "n\n",
      "j\n",
      "u\n",
      "n\n",
      "a\n",
      "t\n",
      "h\n",
      " \n",
      "k\n",
      "a\n",
      "n\n",
      "n\n",
      "u\n",
      "r\n"
     ]
    }
   ],
   "source": [
    "s = \"manjunath kannur\"\n",
    "for i in s:\n",
    "    print(i)"
   ]
  },
  {
   "cell_type": "code",
   "execution_count": 8,
   "id": "1c8f98e7",
   "metadata": {},
   "outputs": [
    {
     "name": "stdout",
     "output_type": "stream",
     "text": [
      "\n",
      " dictionary iteration: \n"
     ]
    }
   ],
   "source": [
    "print(\"\\n dictionary iteration: \")\n",
    "d = dict()\n",
    "d['xyz'] = 123\n",
    "d['abc'] = 345"
   ]
  },
  {
   "cell_type": "code",
   "execution_count": 10,
   "id": "bd91fc29",
   "metadata": {},
   "outputs": [
    {
     "name": "stdout",
     "output_type": "stream",
     "text": [
      "xyz 123 \n",
      "abc 345 \n"
     ]
    }
   ],
   "source": [
    "for i in d:\n",
    "    print(\"%s %d \" %(i,d[i]))"
   ]
  },
  {
   "cell_type": "code",
   "execution_count": 11,
   "id": "e982ddc5",
   "metadata": {},
   "outputs": [
    {
     "name": "stdout",
     "output_type": "stream",
     "text": [
      "geeks\n",
      "for\n",
      "geeks\n"
     ]
    }
   ],
   "source": [
    "list = ['geeks','for','geeks']\n",
    "for index in range(len(list)):\n",
    "    print(list[index])"
   ]
  },
  {
   "cell_type": "code",
   "execution_count": 12,
   "id": "831d0a75",
   "metadata": {},
   "outputs": [
    {
     "name": "stdout",
     "output_type": "stream",
     "text": [
      "2 geeks\n",
      "2 geeks\n",
      "2 geeks\n"
     ]
    }
   ],
   "source": [
    "for i in range(len(list)):\n",
    "    print(index,list[index])"
   ]
  },
  {
   "cell_type": "code",
   "execution_count": 13,
   "id": "c8367017",
   "metadata": {},
   "outputs": [
    {
     "name": "stdout",
     "output_type": "stream",
     "text": [
      "geeks\n",
      "for\n",
      "geeks\n",
      "inside else block: \n"
     ]
    }
   ],
   "source": [
    "list = ['geeks','for','geeks']\n",
    "for index in range(len(list)):\n",
    "    print(list[index])\n",
    "else:\n",
    "    print(\"inside else block: \")"
   ]
  },
  {
   "cell_type": "code",
   "execution_count": 14,
   "id": "1ac1f2dd",
   "metadata": {},
   "outputs": [],
   "source": [
    "# nested loops \n",
    "# syntax \n",
    "# for iterator_var in sequence:\n",
    "#     for iterator_var in sequence:\n",
    "#         statement(s)\n",
    "#         statement(s)"
   ]
  },
  {
   "cell_type": "code",
   "execution_count": 15,
   "id": "6a03fb42",
   "metadata": {},
   "outputs": [],
   "source": [
    "# while expression:\n",
    "#     while expression:\n",
    "#         statement(s)\n",
    "#         statement(s)\n"
   ]
  },
  {
   "cell_type": "code",
   "execution_count": 18,
   "id": "f85c95a5",
   "metadata": {},
   "outputs": [
    {
     "name": "stdout",
     "output_type": "stream",
     "text": [
      "inner loop  2outer loop: 0\n",
      "inner loop  2inner loop  2outer loop: 1\n",
      "inner loop  2inner loop  2inner loop  2outer loop: 2\n",
      "inner loop  2inner loop  2inner loop  2inner loop  2outer loop: 3\n"
     ]
    }
   ],
   "source": [
    "for i in range(1,5):\n",
    "    for i in range(i):\n",
    "        print(\"inner loop \",j,end = '')\n",
    "    print('outer loop:',i)"
   ]
  },
  {
   "cell_type": "code",
   "execution_count": 20,
   "id": "5478ff40",
   "metadata": {},
   "outputs": [
    {
     "name": "stdout",
     "output_type": "stream",
     "text": [
      "current letter:  g\n",
      "current letter:  k\n",
      "current letter:  f\n",
      "current letter:  o\n",
      "current letter:  r\n",
      "current letter:  g\n",
      "current letter:  k\n"
     ]
    }
   ],
   "source": [
    "for letter in 'geeksforgeeks':\n",
    "    if letter == 'e' or letter =='s':\n",
    "        continue\n",
    "    print(\"current letter: \",letter)\n",
    "    var = 10"
   ]
  },
  {
   "cell_type": "code",
   "execution_count": 21,
   "id": "683cbbe1",
   "metadata": {},
   "outputs": [
    {
     "name": "stdout",
     "output_type": "stream",
     "text": [
      "current letter:  g\n"
     ]
    }
   ],
   "source": [
    "# break statement \n",
    "for letter in 'geeksforgeeks':\n",
    "    if letter == 'e' or letter =='s':\n",
    "        break\n",
    "    print(\"current letter: \",letter)"
   ]
  },
  {
   "cell_type": "code",
   "execution_count": 22,
   "id": "e660522a",
   "metadata": {},
   "outputs": [
    {
     "name": "stdout",
     "output_type": "stream",
     "text": [
      "last letter:  s\n"
     ]
    }
   ],
   "source": [
    "# pass statement\n",
    "for letter in 'geeksforgeeks':\n",
    "    pass\n",
    "print(\"last letter: \",letter)"
   ]
  },
  {
   "cell_type": "code",
   "execution_count": 23,
   "id": "a4b2c0fe",
   "metadata": {},
   "outputs": [
    {
     "name": "stdout",
     "output_type": "stream",
     "text": [
      "apple\n",
      "orange\n",
      "kiwi\n"
     ]
    }
   ],
   "source": [
    "fruits = ['apple','orange','kiwi']\n",
    "for fruit in fruits:\n",
    "    print(fruit)"
   ]
  },
  {
   "cell_type": "code",
   "execution_count": 24,
   "id": "0c95c476",
   "metadata": {},
   "outputs": [],
   "source": [
    "iter_obj = iter(fruits)"
   ]
  },
  {
   "cell_type": "code",
   "execution_count": 25,
   "id": "c1e23af2",
   "metadata": {},
   "outputs": [
    {
     "data": {
      "text/plain": [
       "<list_iterator at 0x216e31d5370>"
      ]
     },
     "execution_count": 25,
     "metadata": {},
     "output_type": "execute_result"
    }
   ],
   "source": [
    "iter_obj"
   ]
  },
  {
   "cell_type": "code",
   "execution_count": 26,
   "id": "fd06c3b4",
   "metadata": {},
   "outputs": [
    {
     "data": {
      "text/plain": [
       "'apple'"
      ]
     },
     "execution_count": 26,
     "metadata": {},
     "output_type": "execute_result"
    }
   ],
   "source": [
    "next(iter_obj)"
   ]
  },
  {
   "cell_type": "code",
   "execution_count": 27,
   "id": "da6bab48",
   "metadata": {},
   "outputs": [],
   "source": [
    "item = iter(fruits)"
   ]
  },
  {
   "cell_type": "code",
   "execution_count": 28,
   "id": "4468a4c9",
   "metadata": {},
   "outputs": [
    {
     "name": "stdout",
     "output_type": "stream",
     "text": [
      "apple\n",
      "orange\n",
      "kiwi\n"
     ]
    }
   ],
   "source": [
    "while True:\n",
    "    try:\n",
    "        fruit = next(item)\n",
    "        print(fruit)\n",
    "    except StopIteration:\n",
    "        break\n",
    "        "
   ]
  },
  {
   "cell_type": "code",
   "execution_count": 1,
   "id": "089210a5",
   "metadata": {},
   "outputs": [
    {
     "name": "stdout",
     "output_type": "stream",
     "text": [
      "inner loop:  2\n",
      "inner loop:  3\n",
      "inner loop:  4\n",
      "inner loop:  5\n",
      "outer loop:  2\n",
      "inner loop:  2\n",
      "inner loop:  3\n",
      "inner loop:  4\n",
      "inner loop:  5\n",
      "outer loop:  3\n",
      "inner loop:  2\n",
      "inner loop:  3\n",
      "inner loop:  4\n",
      "inner loop:  5\n",
      "outer loop:  4\n",
      "inner loop:  2\n",
      "inner loop:  3\n",
      "inner loop:  4\n",
      "inner loop:  5\n",
      "outer loop:  5\n"
     ]
    }
   ],
   "source": [
    "i = 1\n",
    "while ( i< 5):\n",
    "    j = 1\n",
    "    while (j <5):\n",
    "        j+=1\n",
    "        print(\"inner loop: \",j)\n",
    "    i+=1\n",
    "    print(\"outer loop: \",i)\n",
    " "
   ]
  },
  {
   "cell_type": "code",
   "execution_count": 2,
   "id": "325e7e96",
   "metadata": {},
   "outputs": [
    {
     "name": "stdout",
     "output_type": "stream",
     "text": [
      "inner loop 1\n",
      "inner loop 2\n",
      "inner loop 3\n",
      "inner loop 4\n",
      "outer loop:  1\n",
      "inner loop 1\n",
      "inner loop 2\n",
      "inner loop 3\n",
      "inner loop 4\n",
      "outer loop:  2\n",
      "inner loop 1\n",
      "inner loop 2\n",
      "inner loop 3\n",
      "inner loop 4\n",
      "outer loop:  3\n",
      "inner loop 1\n",
      "inner loop 2\n",
      "inner loop 3\n",
      "inner loop 4\n",
      "outer loop:  4\n"
     ]
    }
   ],
   "source": [
    "i = 1\n",
    "while (i < 5):\n",
    "    j = 1\n",
    "    while (j < 5):\n",
    "        print(\"inner loop\",j)\n",
    "        j+=1\n",
    "    print(\"outer loop: \",i)\n",
    "    i+=1"
   ]
  },
  {
   "cell_type": "markdown",
   "id": "4a010eae",
   "metadata": {},
   "source": [
    "# loops controls statements"
   ]
  },
  {
   "cell_type": "code",
   "execution_count": 3,
   "id": "1be99b7e",
   "metadata": {},
   "outputs": [
    {
     "name": "stdout",
     "output_type": "stream",
     "text": [
      "hello word:\n",
      "hello word:\n",
      "hello word:\n"
     ]
    }
   ],
   "source": [
    "# (continue break and pass) in python\n",
    "# while expression:\n",
    "#     statement(s)\n",
    "count = 0\n",
    "while (count < 3):\n",
    "    count = count+1\n",
    "    print(\"hello word:\")"
   ]
  },
  {
   "cell_type": "code",
   "execution_count": 9,
   "id": "23f609bb",
   "metadata": {},
   "outputs": [
    {
     "name": "stdout",
     "output_type": "stream",
     "text": [
      "1\n",
      "2\n",
      "3\n"
     ]
    }
   ],
   "source": [
    "count = 0\n",
    "while (count < 3):\n",
    "    count+=1\n",
    "    print(count)"
   ]
  },
  {
   "cell_type": "markdown",
   "id": "e1e22056",
   "metadata": {},
   "source": [
    "# for in loop"
   ]
  },
  {
   "cell_type": "code",
   "execution_count": 10,
   "id": "436d8e2b",
   "metadata": {},
   "outputs": [
    {
     "name": "stdout",
     "output_type": "stream",
     "text": [
      "list Iteration: \n",
      "geeks\n",
      "for\n",
      "geeks\n"
     ]
    }
   ],
   "source": [
    "# for iterator_var in sequence:\n",
    "#     statement(s)\n",
    "print(\"list Iteration: \")\n",
    "l = ['geeks','for','geeks']\n",
    "for i in l:\n",
    "    print(i)"
   ]
  },
  {
   "cell_type": "markdown",
   "id": "1096a862",
   "metadata": {},
   "source": [
    "# different looping techniques using python data"
   ]
  },
  {
   "cell_type": "code",
   "execution_count": 11,
   "id": "c01c076c",
   "metadata": {},
   "outputs": [
    {
     "name": "stdout",
     "output_type": "stream",
     "text": [
      "0 the\n",
      "1 big\n",
      "2 bang\n",
      "3 theory\n"
     ]
    }
   ],
   "source": [
    "# using enumerat() is used to loop through the containers\n",
    "for key,value in enumerate(['the','big','bang','theory']):\n",
    "    print(key,value)\n"
   ]
  },
  {
   "cell_type": "code",
   "execution_count": 12,
   "id": "08425a4f",
   "metadata": {},
   "outputs": [],
   "source": [
    "list = ['the','big','bang','theory']"
   ]
  },
  {
   "cell_type": "code",
   "execution_count": 13,
   "id": "10feae5e",
   "metadata": {},
   "outputs": [
    {
     "name": "stdout",
     "output_type": "stream",
     "text": [
      "(0, 'the')\n",
      "(1, 'big')\n",
      "(2, 'bang')\n",
      "(3, 'theory')\n"
     ]
    }
   ],
   "source": [
    "for item in enumerate(list):\n",
    "    print(item)"
   ]
  },
  {
   "cell_type": "code",
   "execution_count": 17,
   "id": "dcebbaf2",
   "metadata": {},
   "outputs": [
    {
     "name": "stdout",
     "output_type": "stream",
     "text": [
      "0\n",
      "the\n",
      "1\n",
      "big\n",
      "2\n",
      "bang\n",
      "3\n",
      "theory\n"
     ]
    }
   ],
   "source": [
    "for key,value in enumerate(list):\n",
    "    print(key)\n",
    "    print(value)"
   ]
  },
  {
   "cell_type": "code",
   "execution_count": 16,
   "id": "a5d0d51a",
   "metadata": {},
   "outputs": [
    {
     "name": "stdout",
     "output_type": "stream",
     "text": [
      "theory\n"
     ]
    }
   ],
   "source": [
    "print(value)"
   ]
  },
  {
   "cell_type": "markdown",
   "id": "a86f2928",
   "metadata": {},
   "source": [
    "# using zip()\n",
    "1. zip() is used to combine 2 similar containers(list-list or dict-dict)"
   ]
  },
  {
   "cell_type": "code",
   "execution_count": 18,
   "id": "496c4536",
   "metadata": {},
   "outputs": [],
   "source": [
    "questions = ['name','color','shape']\n",
    "answers = ['apple','red','a circle']"
   ]
  },
  {
   "cell_type": "code",
   "execution_count": 19,
   "id": "0900c4e8",
   "metadata": {},
   "outputs": [
    {
     "name": "stdout",
     "output_type": "stream",
     "text": [
      "what is your name i am apple\n",
      "what is your color i am red\n",
      "what is your shape i am a circle\n"
     ]
    }
   ],
   "source": [
    "# using zip() combine two containers\n",
    "# and print values\n",
    "for item,data in zip(questions,answers):\n",
    "    print(\"what is your {0} i am {1}\".format(item,data))"
   ]
  },
  {
   "cell_type": "markdown",
   "id": "6dd58412",
   "metadata": {},
   "source": [
    "# using iteritem() & using items()\n",
    "1. using iteritem loop through the dictinary printing the key- value pair sequentially\n",
    "2. using items() performs the similar task on dictionary as iteritems()"
   ]
  },
  {
   "cell_type": "code",
   "execution_count": 20,
   "id": "cb09d159",
   "metadata": {},
   "outputs": [],
   "source": [
    "d = {'geeks':'for','one':'yarazari','two':'mbl'}"
   ]
  },
  {
   "cell_type": "code",
   "execution_count": 21,
   "id": "1872a722",
   "metadata": {},
   "outputs": [
    {
     "data": {
      "text/plain": [
       "{'geeks': 'for', 'one': 'yarazari', 'two': 'mbl'}"
      ]
     },
     "execution_count": 21,
     "metadata": {},
     "output_type": "execute_result"
    }
   ],
   "source": [
    "d"
   ]
  },
  {
   "cell_type": "code",
   "execution_count": 24,
   "id": "b6fb6db8",
   "metadata": {},
   "outputs": [
    {
     "name": "stdout",
     "output_type": "stream",
     "text": [
      "the key value pair using iteritems is : \n"
     ]
    },
    {
     "ename": "AttributeError",
     "evalue": "'dict' object has no attribute 'iteritems'",
     "output_type": "error",
     "traceback": [
      "\u001b[1;31m---------------------------------------------------------------------------\u001b[0m",
      "\u001b[1;31mAttributeError\u001b[0m                            Traceback (most recent call last)",
      "\u001b[1;32m~\\AppData\\Local\\Temp/ipykernel_10100/554667955.py\u001b[0m in \u001b[0;36m<module>\u001b[1;34m\u001b[0m\n\u001b[0;32m      1\u001b[0m \u001b[0mprint\u001b[0m\u001b[1;33m(\u001b[0m\u001b[1;34m\"the key value pair using iteritems is : \"\u001b[0m\u001b[1;33m)\u001b[0m\u001b[1;33m\u001b[0m\u001b[1;33m\u001b[0m\u001b[0m\n\u001b[1;32m----> 2\u001b[1;33m \u001b[1;32mfor\u001b[0m \u001b[0mi\u001b[0m\u001b[1;33m,\u001b[0m \u001b[0mj\u001b[0m \u001b[1;32min\u001b[0m \u001b[0md\u001b[0m\u001b[1;33m.\u001b[0m\u001b[0miteritems\u001b[0m\u001b[1;33m(\u001b[0m\u001b[1;33m)\u001b[0m\u001b[1;33m:\u001b[0m\u001b[1;33m\u001b[0m\u001b[1;33m\u001b[0m\u001b[0m\n\u001b[0m\u001b[0;32m      3\u001b[0m     \u001b[0mprint\u001b[0m\u001b[1;33m(\u001b[0m\u001b[0mi\u001b[0m\u001b[1;33m,\u001b[0m\u001b[0mj\u001b[0m\u001b[1;33m)\u001b[0m\u001b[1;33m\u001b[0m\u001b[1;33m\u001b[0m\u001b[0m\n",
      "\u001b[1;31mAttributeError\u001b[0m: 'dict' object has no attribute 'iteritems'"
     ]
    }
   ],
   "source": [
    "print(\"the key value pair using iteritems is : \")\n",
    "for i, j in d.iteritems():\n",
    "    print(i,j)"
   ]
  },
  {
   "cell_type": "code",
   "execution_count": 26,
   "id": "2377af84",
   "metadata": {},
   "outputs": [
    {
     "name": "stdout",
     "output_type": "stream",
     "text": [
      "the key value pair using items is : \n",
      "geeks for\n",
      "one yarazari\n",
      "two mbl\n"
     ]
    }
   ],
   "source": [
    "print(\"the key value pair using items is : \")\n",
    "for i, j in d.items():\n",
    "    print(i,j)"
   ]
  },
  {
   "cell_type": "code",
   "execution_count": 27,
   "id": "1f26e216",
   "metadata": {},
   "outputs": [],
   "source": [
    "king = {'akbar':'the great','chandragupta':'the maurya','manjunath':'the changer'}"
   ]
  },
  {
   "cell_type": "code",
   "execution_count": 28,
   "id": "24c8d642",
   "metadata": {},
   "outputs": [
    {
     "data": {
      "text/plain": [
       "{'akbar': 'the great',\n",
       " 'chandragupta': 'the maurya',\n",
       " 'manjunath': 'the changer'}"
      ]
     },
     "execution_count": 28,
     "metadata": {},
     "output_type": "execute_result"
    }
   ],
   "source": [
    "king"
   ]
  },
  {
   "cell_type": "code",
   "execution_count": 30,
   "id": "4441b495",
   "metadata": {},
   "outputs": [
    {
     "name": "stdout",
     "output_type": "stream",
     "text": [
      "akbar the great\n",
      "chandragupta the maurya\n",
      "manjunath the changer\n"
     ]
    }
   ],
   "source": [
    "for key,value in king.items():\n",
    "    print(key,value)"
   ]
  },
  {
   "cell_type": "code",
   "execution_count": 31,
   "id": "2b28e6ab",
   "metadata": {},
   "outputs": [],
   "source": [
    "# using sorted container is sorted order set() can be combined to remove duplicate\n",
    "lis = [1,3,5,6,2,1,3]"
   ]
  },
  {
   "cell_type": "code",
   "execution_count": 34,
   "id": "a3e09a60",
   "metadata": {},
   "outputs": [
    {
     "name": "stdout",
     "output_type": "stream",
     "text": [
      "the list in sorted order is : \n",
      "1,1,2,3,3,5,6,\r\n"
     ]
    }
   ],
   "source": [
    "print(\"the list in sorted order is : \")\n",
    "for i in sorted(lis):\n",
    "    print(i,end=',')\n",
    "print('\\r')"
   ]
  },
  {
   "cell_type": "code",
   "execution_count": 35,
   "id": "a4f0cd62",
   "metadata": {},
   "outputs": [
    {
     "name": "stdout",
     "output_type": "stream",
     "text": [
      "the list in sorted order is : \n",
      "12356"
     ]
    }
   ],
   "source": [
    "print(\"the list in sorted order is : \")\n",
    "for i in sorted(set(lis)):\n",
    "    print(i,end='')"
   ]
  },
  {
   "cell_type": "code",
   "execution_count": 36,
   "id": "01051a5c",
   "metadata": {},
   "outputs": [],
   "source": [
    "basket = ['guave','orange','apple','pear','guava','banana','grape']"
   ]
  },
  {
   "cell_type": "code",
   "execution_count": 37,
   "id": "3182f803",
   "metadata": {},
   "outputs": [
    {
     "data": {
      "text/plain": [
       "['guave', 'orange', 'apple', 'pear', 'guava', 'banana', 'grape']"
      ]
     },
     "execution_count": 37,
     "metadata": {},
     "output_type": "execute_result"
    }
   ],
   "source": [
    "basket"
   ]
  },
  {
   "cell_type": "code",
   "execution_count": 38,
   "id": "d748fb5e",
   "metadata": {},
   "outputs": [
    {
     "name": "stdout",
     "output_type": "stream",
     "text": [
      "apple\n",
      "banana\n",
      "grape\n",
      "guava\n",
      "guave\n",
      "orange\n",
      "pear\n"
     ]
    }
   ],
   "source": [
    "for fruit in sorted(set(basket)):\n",
    "    print(fruit)"
   ]
  },
  {
   "cell_type": "markdown",
   "id": "bc1ef6e0",
   "metadata": {},
   "source": [
    "# using reversed()\n",
    "1. reversed() is used to print containder in the reversed order"
   ]
  },
  {
   "cell_type": "code",
   "execution_count": 39,
   "id": "880e2cb0",
   "metadata": {},
   "outputs": [],
   "source": [
    "lis = [1,3,5,6,2,1,3]"
   ]
  },
  {
   "cell_type": "code",
   "execution_count": 40,
   "id": "8f40a946",
   "metadata": {},
   "outputs": [
    {
     "name": "stdout",
     "output_type": "stream",
     "text": [
      "the list in reversed order is : \n",
      "3126531"
     ]
    }
   ],
   "source": [
    "print(\"the list in reversed order is : \")\n",
    "for i in reversed(lis):\n",
    "    print(i,end = '')"
   ]
  },
  {
   "cell_type": "code",
   "execution_count": 42,
   "id": "353092a5",
   "metadata": {},
   "outputs": [
    {
     "name": "stdout",
     "output_type": "stream",
     "text": [
      "9\n",
      "7\n",
      "5\n",
      "3\n",
      "1\n"
     ]
    }
   ],
   "source": [
    "for i in reversed( range(1,10,2)):\n",
    "    print(i)"
   ]
  },
  {
   "cell_type": "markdown",
   "id": "1883931c",
   "metadata": {},
   "source": [
    "# program for printing pyramid patterns in python"
   ]
  },
  {
   "cell_type": "code",
   "execution_count": 43,
   "id": "eefad5e2",
   "metadata": {},
   "outputs": [],
   "source": [
    "def pattern(n):\n",
    "    for i in range(0,n):\n",
    "        for j in range(0,i+1):\n",
    "            print(\"*\" , end='')\n",
    "        print(\"\\r\")"
   ]
  },
  {
   "cell_type": "code",
   "execution_count": 44,
   "id": "cde38524",
   "metadata": {},
   "outputs": [
    {
     "name": "stdout",
     "output_type": "stream",
     "text": [
      "*\r\n",
      "**\r\n",
      "***\r\n",
      "****\r\n",
      "*****\r\n"
     ]
    }
   ],
   "source": [
    "pattern(5)"
   ]
  },
  {
   "cell_type": "markdown",
   "id": "94757f79",
   "metadata": {},
   "source": [
    "# range in python"
   ]
  },
  {
   "cell_type": "code",
   "execution_count": 45,
   "id": "7e745b95",
   "metadata": {},
   "outputs": [
    {
     "name": "stdout",
     "output_type": "stream",
     "text": [
      "range(0, 5)\n"
     ]
    }
   ],
   "source": [
    "# range() - this returns a range object \n",
    "a = range(0,5)\n",
    "print(a)"
   ]
  },
  {
   "cell_type": "code",
   "execution_count": 46,
   "id": "ce4bbdd6",
   "metadata": {},
   "outputs": [
    {
     "name": "stdout",
     "output_type": "stream",
     "text": [
      "<class 'range'>\n"
     ]
    }
   ],
   "source": [
    "print(type(a))"
   ]
  },
  {
   "cell_type": "code",
   "execution_count": 47,
   "id": "b7310bb1",
   "metadata": {},
   "outputs": [],
   "source": [
    "import sys"
   ]
  },
  {
   "cell_type": "code",
   "execution_count": 48,
   "id": "40006305",
   "metadata": {},
   "outputs": [],
   "source": [
    "a = range(0,5)"
   ]
  },
  {
   "cell_type": "code",
   "execution_count": 49,
   "id": "426eb465",
   "metadata": {},
   "outputs": [
    {
     "name": "stdout",
     "output_type": "stream",
     "text": [
      "range(0, 5)\n"
     ]
    }
   ],
   "source": [
    "print(a)"
   ]
  },
  {
   "cell_type": "code",
   "execution_count": 50,
   "id": "40866672",
   "metadata": {},
   "outputs": [
    {
     "name": "stdout",
     "output_type": "stream",
     "text": [
      "this size alloted using range() is : \n",
      "range(0, 5)\n"
     ]
    }
   ],
   "source": [
    "print(\"this size alloted using range() is : \")\n",
    "print(a)"
   ]
  },
  {
   "cell_type": "code",
   "execution_count": 51,
   "id": "7753e812",
   "metadata": {},
   "outputs": [
    {
     "name": "stdout",
     "output_type": "stream",
     "text": [
      "48\n"
     ]
    }
   ],
   "source": [
    "print(sys.getsizeof(a))"
   ]
  },
  {
   "cell_type": "code",
   "execution_count": 52,
   "id": "496b24af",
   "metadata": {},
   "outputs": [],
   "source": [
    "a = range(1,6)"
   ]
  },
  {
   "cell_type": "code",
   "execution_count": 53,
   "id": "f3e215fe",
   "metadata": {},
   "outputs": [
    {
     "name": "stdout",
     "output_type": "stream",
     "text": [
      "range(1, 6)\n"
     ]
    }
   ],
   "source": [
    "print(a)"
   ]
  },
  {
   "cell_type": "code",
   "execution_count": 54,
   "id": "68a443c2",
   "metadata": {},
   "outputs": [
    {
     "name": "stdout",
     "output_type": "stream",
     "text": [
      "the list after slicing using range is : \n",
      "range(3, 6)\n"
     ]
    }
   ],
   "source": [
    "print(\"the list after slicing using range is : \")\n",
    "print(a[2:5])"
   ]
  },
  {
   "cell_type": "code",
   "execution_count": null,
   "id": "be06315c",
   "metadata": {},
   "outputs": [],
   "source": []
  }
 ],
 "metadata": {
  "kernelspec": {
   "display_name": "Python 3 (ipykernel)",
   "language": "python",
   "name": "python3"
  },
  "language_info": {
   "codemirror_mode": {
    "name": "ipython",
    "version": 3
   },
   "file_extension": ".py",
   "mimetype": "text/x-python",
   "name": "python",
   "nbconvert_exporter": "python",
   "pygments_lexer": "ipython3",
   "version": "3.9.2"
  }
 },
 "nbformat": 4,
 "nbformat_minor": 5
}
