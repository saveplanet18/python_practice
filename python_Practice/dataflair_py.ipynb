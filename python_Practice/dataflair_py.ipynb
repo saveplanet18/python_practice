{
 "cells": [
  {
   "cell_type": "markdown",
   "id": "b85838cf",
   "metadata": {},
   "source": [
    "# python syntax \n",
    "1. python is popular language because of its elegant syntax structure"
   ]
  },
  {
   "cell_type": "code",
   "execution_count": 1,
   "id": "96d815ee",
   "metadata": {},
   "outputs": [
    {
     "name": "stdout",
     "output_type": "stream",
     "text": [
      "enter your name: \n",
      "manjunath\n"
     ]
    }
   ],
   "source": [
    "# simple python program to see if a user is elegible to vote or not\n",
    "print(\"enter your name: \")\n",
    "name = input()"
   ]
  },
  {
   "cell_type": "code",
   "execution_count": 2,
   "id": "8f2ef9b2",
   "metadata": {},
   "outputs": [
    {
     "name": "stdout",
     "output_type": "stream",
     "text": [
      "enter your age: \n",
      "32\n"
     ]
    }
   ],
   "source": [
    "print(\"enter your age: \")\n",
    "age = int(input())"
   ]
  },
  {
   "cell_type": "code",
   "execution_count": 3,
   "id": "4ba0ad54",
   "metadata": {},
   "outputs": [
    {
     "name": "stdout",
     "output_type": "stream",
     "text": [
      "manjunath is eligible to vote\n"
     ]
    }
   ],
   "source": [
    "if age >= 18:\n",
    "    print(name , \"is eligible to vote\")\n",
    "else:\n",
    "    print(name, \"is not eligible to vote: \")"
   ]
  },
  {
   "cell_type": "markdown",
   "id": "b699abe8",
   "metadata": {},
   "source": [
    "# types of syntax structures in python\n",
    "1. line structure \n",
    "2. docstring \n",
    "3. quottions \n",
    "4. Variables\n",
    "5. comments\n",
    "6. indentation\n",
    "7. identifiers\n",
    "8. string formatters"
   ]
  },
  {
   "cell_type": "markdown",
   "id": "018e91f8",
   "metadata": {},
   "source": [
    "1. python Line structure\n"
   ]
  },
  {
   "cell_type": "code",
   "execution_count": 4,
   "id": "ba001552",
   "metadata": {},
   "outputs": [
    {
     "ename": "SyntaxError",
     "evalue": "EOL while scanning string literal (Temp/ipykernel_2400/1386425013.py, line 1)",
     "output_type": "error",
     "traceback": [
      "\u001b[1;36m  File \u001b[1;32m\"C:\\Users\\yaraz\\AppData\\Local\\Temp/ipykernel_2400/1386425013.py\"\u001b[1;36m, line \u001b[1;32m1\u001b[0m\n\u001b[1;33m    print(\"hi\u001b[0m\n\u001b[1;37m             ^\u001b[0m\n\u001b[1;31mSyntaxError\u001b[0m\u001b[1;31m:\u001b[0m EOL while scanning string literal\n"
     ]
    }
   ],
   "source": [
    "print(\"hi\n",
    "      how are you\")"
   ]
  },
  {
   "cell_type": "code",
   "execution_count": 5,
   "id": "3dffaaf4",
   "metadata": {},
   "outputs": [
    {
     "name": "stdout",
     "output_type": "stream",
     "text": [
      "hihow are you ?\n"
     ]
    }
   ],
   "source": [
    "# python multiline statements\n",
    "print(\"hi\\\n",
    "how are you ?\")"
   ]
  },
  {
   "cell_type": "code",
   "execution_count": 6,
   "id": "76c0ab15",
   "metadata": {},
   "outputs": [
    {
     "name": "stdout",
     "output_type": "stream",
     "text": [
      "10\n"
     ]
    }
   ],
   "source": [
    "a\\\n",
    "=\\\n",
    "10\n",
    "print(a)"
   ]
  },
  {
   "cell_type": "code",
   "execution_count": 7,
   "id": "d007b525",
   "metadata": {},
   "outputs": [
    {
     "name": "stdout",
     "output_type": "stream",
     "text": [
      "hi \n",
      "how are you ?\n"
     ]
    }
   ],
   "source": [
    "print(\"\"\"hi \n",
    "how are you ?\"\"\")"
   ]
  },
  {
   "cell_type": "code",
   "execution_count": 8,
   "id": "840f9ddb",
   "metadata": {},
   "outputs": [
    {
     "data": {
      "text/plain": [
       "'n=10'"
      ]
     },
     "execution_count": 8,
     "metadata": {},
     "output_type": "execute_result"
    }
   ],
   "source": [
    "\"\"\"n\\\n",
    "=\\\n",
    "10\"\"\""
   ]
  },
  {
   "cell_type": "code",
   "execution_count": 9,
   "id": "c23ab07c",
   "metadata": {},
   "outputs": [
    {
     "ename": "NameError",
     "evalue": "name 'n' is not defined",
     "output_type": "error",
     "traceback": [
      "\u001b[1;31m---------------------------------------------------------------------------\u001b[0m",
      "\u001b[1;31mNameError\u001b[0m                                 Traceback (most recent call last)",
      "\u001b[1;32m~\\AppData\\Local\\Temp/ipykernel_2400/2938972457.py\u001b[0m in \u001b[0;36m<module>\u001b[1;34m\u001b[0m\n\u001b[1;32m----> 1\u001b[1;33m \u001b[0mprint\u001b[0m\u001b[1;33m(\u001b[0m\u001b[0mn\u001b[0m\u001b[1;33m)\u001b[0m\u001b[1;33m\u001b[0m\u001b[1;33m\u001b[0m\u001b[0m\n\u001b[0m",
      "\u001b[1;31mNameError\u001b[0m: name 'n' is not defined"
     ]
    }
   ],
   "source": [
    "print(n)"
   ]
  },
  {
   "cell_type": "code",
   "execution_count": 10,
   "id": "7e71da00",
   "metadata": {},
   "outputs": [],
   "source": [
    "# python comments\n",
    "## this is a comments"
   ]
  },
  {
   "cell_type": "markdown",
   "id": "1fff6f83",
   "metadata": {},
   "source": [
    "# python Docstring\n",
    "1. A docstring is a documentation string."
   ]
  },
  {
   "cell_type": "code",
   "execution_count": 12,
   "id": "ab2462bd",
   "metadata": {},
   "outputs": [
    {
     "name": "stdout",
     "output_type": "stream",
     "text": [
      "hi\n"
     ]
    }
   ],
   "source": [
    "def func():\n",
    "    \"\"\"\n",
    "    this function prints out a greeting\n",
    "    \"\"\"\n",
    "    print(\"hi\")\n",
    "func()"
   ]
  },
  {
   "cell_type": "code",
   "execution_count": 13,
   "id": "58e22cb8",
   "metadata": {},
   "outputs": [
    {
     "data": {
      "text/plain": [
       "'\\n    this function prints out a greeting\\n    '"
      ]
     },
     "execution_count": 13,
     "metadata": {},
     "output_type": "execute_result"
    }
   ],
   "source": [
    "func.__doc__"
   ]
  },
  {
   "cell_type": "markdown",
   "id": "46684d76",
   "metadata": {},
   "source": [
    "# python Indentation\n"
   ]
  },
  {
   "cell_type": "code",
   "execution_count": 14,
   "id": "9df332f8",
   "metadata": {},
   "outputs": [
    {
     "name": "stdout",
     "output_type": "stream",
     "text": [
      "2 is the bigger person: \n",
      "but 1 is worthy too: \n"
     ]
    }
   ],
   "source": [
    "if 2>1:\n",
    "    print(\"2 is the bigger person: \")\n",
    "    print(\"but 1 is worthy too: \")"
   ]
  },
  {
   "cell_type": "code",
   "execution_count": 15,
   "id": "ac561eb7",
   "metadata": {},
   "outputs": [
    {
     "name": "stdout",
     "output_type": "stream",
     "text": [
      "2 is the bigger person: \n",
      "but 1 is worthy too..\n"
     ]
    }
   ],
   "source": [
    "if 2> 1:\n",
    "    print(\"2 is the bigger person: \")\n",
    "print(\"but 1 is worthy too..\")"
   ]
  },
  {
   "cell_type": "code",
   "execution_count": 17,
   "id": "e4d5c065",
   "metadata": {},
   "outputs": [
    {
     "name": "stdout",
     "output_type": "stream",
     "text": [
      "7\n"
     ]
    }
   ],
   "source": [
    "# python multiple statements in one line\n",
    "a = 7; print(a)"
   ]
  },
  {
   "cell_type": "code",
   "execution_count": 18,
   "id": "3b0983f2",
   "metadata": {},
   "outputs": [],
   "source": [
    "# python quotations\n",
    "## python supports the single quote and the double quote for string literals."
   ]
  },
  {
   "cell_type": "code",
   "execution_count": 19,
   "id": "3b2f468b",
   "metadata": {},
   "outputs": [
    {
     "name": "stdout",
     "output_type": "stream",
     "text": [
      "we need a chaperone: \n"
     ]
    }
   ],
   "source": [
    "print(\"we need a chaperone: \")"
   ]
  },
  {
   "cell_type": "code",
   "execution_count": 20,
   "id": "f344a576",
   "metadata": {},
   "outputs": [
    {
     "name": "stdout",
     "output_type": "stream",
     "text": [
      "we need a chaperone: \n"
     ]
    }
   ],
   "source": [
    "print('we need a chaperone: ')"
   ]
  },
  {
   "cell_type": "code",
   "execution_count": 21,
   "id": "f878c907",
   "metadata": {},
   "outputs": [
    {
     "name": "stdout",
     "output_type": "stream",
     "text": [
      "we need a 'chaperone'\n"
     ]
    }
   ],
   "source": [
    "print(\"we need a 'chaperone'\")"
   ]
  },
  {
   "cell_type": "code",
   "execution_count": 22,
   "id": "b246ab05",
   "metadata": {},
   "outputs": [
    {
     "ename": "SyntaxError",
     "evalue": "invalid syntax (Temp/ipykernel_2400/1606750108.py, line 1)",
     "output_type": "error",
     "traceback": [
      "\u001b[1;36m  File \u001b[1;32m\"C:\\Users\\yaraz\\AppData\\Local\\Temp/ipykernel_2400/1606750108.py\"\u001b[1;36m, line \u001b[1;32m1\u001b[0m\n\u001b[1;33m    print(\"we need a \"chaperone\"\")\u001b[0m\n\u001b[1;37m                      ^\u001b[0m\n\u001b[1;31mSyntaxError\u001b[0m\u001b[1;31m:\u001b[0m invalid syntax\n"
     ]
    }
   ],
   "source": [
    "print(\"we need a \"chaperone\"\")"
   ]
  },
  {
   "cell_type": "code",
   "execution_count": 23,
   "id": "48d7706c",
   "metadata": {},
   "outputs": [
    {
     "name": "stdout",
     "output_type": "stream",
     "text": [
      "10\n"
     ]
    }
   ],
   "source": [
    "# python blanks lines\n",
    "# python identifiers\n",
    "# python Variables\n",
    "x = 10 # int\n",
    "print(x) "
   ]
  },
  {
   "cell_type": "code",
   "execution_count": 24,
   "id": "e91785cf",
   "metadata": {},
   "outputs": [
    {
     "name": "stdout",
     "output_type": "stream",
     "text": [
      "hello\n"
     ]
    }
   ],
   "source": [
    "x = 'hello' string\n",
    "print(x) # dynamically-typed language"
   ]
  },
  {
   "cell_type": "markdown",
   "id": "17a6332e",
   "metadata": {},
   "source": [
    "# python string formatters\n"
   ]
  },
  {
   "cell_type": "code",
   "execution_count": 25,
   "id": "77ef70ce",
   "metadata": {},
   "outputs": [
    {
     "name": "stdout",
     "output_type": "stream",
     "text": [
      "i just printed 10 pages to the printer HP\n"
     ]
    }
   ],
   "source": [
    "# % operator\n",
    "x = 10\n",
    "printer = \"HP\"\n",
    "print(\"i just printed %s pages to the printer %s\" %(x,printer))"
   ]
  },
  {
   "cell_type": "code",
   "execution_count": 26,
   "id": "3ba1c75f",
   "metadata": {},
   "outputs": [
    {
     "name": "stdout",
     "output_type": "stream",
     "text": [
      "i just printed 10 pages to the printer HP\n"
     ]
    }
   ],
   "source": [
    "# b. format Method\n",
    "print(\"i just printed {0} pages to the printer {1}\".format(x,printer))"
   ]
  },
  {
   "cell_type": "code",
   "execution_count": 27,
   "id": "9d4d97cc",
   "metadata": {},
   "outputs": [
    {
     "name": "stdout",
     "output_type": "stream",
     "text": [
      "i just printed 10 pages to the printer dell\n"
     ]
    }
   ],
   "source": [
    "print(\"i just printed {x} pages to the printer {printer}\".format(x= 10, printer = \"dell\"))"
   ]
  },
  {
   "cell_type": "code",
   "execution_count": 29,
   "id": "e5be18c1",
   "metadata": {},
   "outputs": [
    {
     "name": "stdout",
     "output_type": "stream",
     "text": [
      " i just printed 10 pages to the printer HP\n"
     ]
    }
   ],
   "source": [
    "# f-string\n",
    "print(f\" i just printed {x} pages to the printer {printer}\")"
   ]
  },
  {
   "cell_type": "code",
   "execution_count": 30,
   "id": "2a6e353b",
   "metadata": {},
   "outputs": [],
   "source": [
    "# python comment | python indentation | python"
   ]
  },
  {
   "cell_type": "code",
   "execution_count": 37,
   "id": "ba97ac5e",
   "metadata": {},
   "outputs": [
    {
     "data": {
      "text/plain": [
       "24"
      ]
     },
     "execution_count": 37,
     "metadata": {},
     "output_type": "execute_result"
    }
   ],
   "source": [
    "a"
   ]
  },
  {
   "cell_type": "code",
   "execution_count": 34,
   "id": "14b258ce",
   "metadata": {},
   "outputs": [
    {
     "data": {
      "text/plain": [
       "24"
      ]
     },
     "execution_count": 34,
     "metadata": {},
     "output_type": "execute_result"
    }
   ],
   "source": [
    "a"
   ]
  },
  {
   "cell_type": "code",
   "execution_count": 38,
   "id": "f26e1a95",
   "metadata": {},
   "outputs": [],
   "source": [
    "a = 5"
   ]
  },
  {
   "cell_type": "code",
   "execution_count": 40,
   "id": "dbd00582",
   "metadata": {},
   "outputs": [],
   "source": [
    "a *= 3 # a = 5*3"
   ]
  },
  {
   "cell_type": "code",
   "execution_count": 41,
   "id": "ee655e55",
   "metadata": {},
   "outputs": [
    {
     "data": {
      "text/plain": [
       "15"
      ]
     },
     "execution_count": 41,
     "metadata": {},
     "output_type": "execute_result"
    }
   ],
   "source": [
    "a"
   ]
  },
  {
   "cell_type": "code",
   "execution_count": 43,
   "id": "7b85737b",
   "metadata": {},
   "outputs": [],
   "source": [
    "# multiline python statement\n",
    "a = \\\n",
    "10\\\n",
    "+20"
   ]
  },
  {
   "cell_type": "code",
   "execution_count": 44,
   "id": "f5b65f4d",
   "metadata": {},
   "outputs": [
    {
     "data": {
      "text/plain": [
       "30"
      ]
     },
     "execution_count": 44,
     "metadata": {},
     "output_type": "execute_result"
    }
   ],
   "source": [
    "a"
   ]
  },
  {
   "cell_type": "code",
   "execution_count": 45,
   "id": "d5f9a4e1",
   "metadata": {},
   "outputs": [
    {
     "data": {
      "text/plain": [
       "'hellohi'"
      ]
     },
     "execution_count": 45,
     "metadata": {},
     "output_type": "execute_result"
    }
   ],
   "source": [
    "\"hello\\\n",
    "hi\""
   ]
  },
  {
   "cell_type": "code",
   "execution_count": 46,
   "id": "b50bebc0",
   "metadata": {},
   "outputs": [],
   "source": [
    "a = (\n",
    "10+\n",
    "20)"
   ]
  },
  {
   "cell_type": "code",
   "execution_count": 47,
   "id": "19d099fe",
   "metadata": {},
   "outputs": [
    {
     "data": {
      "text/plain": [
       "30"
      ]
     },
     "execution_count": 47,
     "metadata": {},
     "output_type": "execute_result"
    }
   ],
   "source": [
    "a"
   ]
  },
  {
   "cell_type": "code",
   "execution_count": 48,
   "id": "e101cc0f",
   "metadata": {},
   "outputs": [
    {
     "data": {
      "text/plain": [
       "int"
      ]
     },
     "execution_count": 48,
     "metadata": {},
     "output_type": "execute_result"
    }
   ],
   "source": [
    "type(a)"
   ]
  },
  {
   "cell_type": "code",
   "execution_count": 49,
   "id": "bcccda8b",
   "metadata": {},
   "outputs": [
    {
     "name": "stdout",
     "output_type": "stream",
     "text": [
      "<class 'int'>\n"
     ]
    }
   ],
   "source": [
    "print(type(a))"
   ]
  },
  {
   "cell_type": "code",
   "execution_count": 50,
   "id": "12a65deb",
   "metadata": {},
   "outputs": [
    {
     "name": "stdout",
     "output_type": "stream",
     "text": [
      "7\n"
     ]
    }
   ],
   "source": [
    "# 2 multilple python statement in one line\n",
    "a = 7; print(a)"
   ]
  },
  {
   "cell_type": "code",
   "execution_count": 51,
   "id": "5acde136",
   "metadata": {},
   "outputs": [
    {
     "name": "stdout",
     "output_type": "stream",
     "text": [
      "2\n"
     ]
    }
   ],
   "source": [
    "if 2> 1: print(\"2\")"
   ]
  },
  {
   "cell_type": "code",
   "execution_count": 52,
   "id": "5b5edfb3",
   "metadata": {},
   "outputs": [
    {
     "data": {
      "text/plain": [
       "\"hello 'user'\""
      ]
     },
     "execution_count": 52,
     "metadata": {},
     "output_type": "execute_result"
    }
   ],
   "source": [
    "# string python statements\n",
    "\"hello 'user'\""
   ]
  },
  {
   "cell_type": "code",
   "execution_count": 53,
   "id": "24c650ec",
   "metadata": {},
   "outputs": [
    {
     "name": "stdout",
     "output_type": "stream",
     "text": [
      "2\n"
     ]
    }
   ],
   "source": [
    "# 4 blank lines python statements\n",
    "if 2 > 1:\n",
    "    print(\"2\")"
   ]
  },
  {
   "cell_type": "code",
   "execution_count": 55,
   "id": "1837eb61",
   "metadata": {},
   "outputs": [
    {
     "ename": "IndentationError",
     "evalue": "expected an indented block (Temp/ipykernel_2400/882508470.py, line 2)",
     "output_type": "error",
     "traceback": [
      "\u001b[1;36m  File \u001b[1;32m\"C:\\Users\\yaraz\\AppData\\Local\\Temp/ipykernel_2400/882508470.py\"\u001b[1;36m, line \u001b[1;32m2\u001b[0m\n\u001b[1;33m    print(\"1\")\u001b[0m\n\u001b[1;37m    ^\u001b[0m\n\u001b[1;31mIndentationError\u001b[0m\u001b[1;31m:\u001b[0m expected an indented block\n"
     ]
    }
   ],
   "source": [
    "if 2 > 1:\n",
    "print(\"1\")\n",
    "    print(\"2\")"
   ]
  },
  {
   "cell_type": "markdown",
   "id": "3307bf07",
   "metadata": {},
   "source": [
    "# python comment\n",
    "1. multiline comment\n",
    "2. docstring comment"
   ]
  },
  {
   "cell_type": "code",
   "execution_count": 56,
   "id": "6adf0909",
   "metadata": {},
   "outputs": [],
   "source": [
    "# this is a comment"
   ]
  },
  {
   "cell_type": "code",
   "execution_count": 57,
   "id": "cfd68e3c",
   "metadata": {},
   "outputs": [],
   "source": [
    "# multiline python comment\n",
    "# line 1 of comment\n",
    "# line 2 of comment\n",
    "# line 3 of comment\n",
    "# line 4 of comment\n",
    "# line 5 of comment\n",
    "# line 6 of comment"
   ]
  },
  {
   "cell_type": "code",
   "execution_count": 58,
   "id": "06ad3b2d",
   "metadata": {},
   "outputs": [
    {
     "data": {
      "text/plain": [
       "'this comment\\nis spanned across multiple lines'"
      ]
     },
     "execution_count": 58,
     "metadata": {},
     "output_type": "execute_result"
    }
   ],
   "source": [
    "\"\"\"this comment\n",
    "is spanned across multiple lines\"\"\""
   ]
  },
  {
   "cell_type": "code",
   "execution_count": 59,
   "id": "de2f2355",
   "metadata": {},
   "outputs": [
    {
     "name": "stdout",
     "output_type": "stream",
     "text": [
      "hello\n",
      "hi \n"
     ]
    }
   ],
   "source": [
    "print(\"\"\"hello\n",
    "hi \"\"\")"
   ]
  },
  {
   "cell_type": "code",
   "execution_count": 60,
   "id": "860c2b2c",
   "metadata": {},
   "outputs": [],
   "source": [
    "# 2 docstrig python comment\n",
    "## docstring is a documentation string in python \n",
    "def sayhi ():\n",
    "    \"\"\"\n",
    "    this functions prints hi\n",
    "    \"\"\"\n",
    "    print(\"hi\")"
   ]
  },
  {
   "cell_type": "code",
   "execution_count": 61,
   "id": "faa3d7d0",
   "metadata": {},
   "outputs": [
    {
     "name": "stdout",
     "output_type": "stream",
     "text": [
      "hi\n"
     ]
    }
   ],
   "source": [
    "sayhi()"
   ]
  },
  {
   "cell_type": "code",
   "execution_count": 62,
   "id": "41b3d399",
   "metadata": {},
   "outputs": [],
   "source": [
    "def sayhi():\n",
    "    \"\"\"this function prints hi\"\"\"\n",
    "    print(\"hi\")"
   ]
  },
  {
   "cell_type": "code",
   "execution_count": 63,
   "id": "17d96b51",
   "metadata": {},
   "outputs": [
    {
     "name": "stdout",
     "output_type": "stream",
     "text": [
      "hi\n"
     ]
    }
   ],
   "source": [
    "sayhi().__doc__"
   ]
  },
  {
   "cell_type": "code",
   "execution_count": 64,
   "id": "5b3f4cf2",
   "metadata": {},
   "outputs": [
    {
     "data": {
      "text/plain": [
       "'this function prints hi'"
      ]
     },
     "execution_count": 64,
     "metadata": {},
     "output_type": "execute_result"
    }
   ],
   "source": [
    "sayhi.__doc__"
   ]
  },
  {
   "cell_type": "code",
   "execution_count": 65,
   "id": "a10f345e",
   "metadata": {},
   "outputs": [],
   "source": [
    "def sayhi():\n",
    "    print(\"hi\")\n",
    "    \"\"\"\n",
    "    this function prints hi\n",
    "    \"\"\""
   ]
  },
  {
   "cell_type": "code",
   "execution_count": 66,
   "id": "30b9ddd8",
   "metadata": {},
   "outputs": [],
   "source": [
    "sayhi.__doc__"
   ]
  },
  {
   "cell_type": "code",
   "execution_count": 71,
   "id": "1cda59b1",
   "metadata": {},
   "outputs": [],
   "source": [
    "def show():\n",
    "    \n",
    "    \"\"\"this function is show something!!!\"\"\"\n",
    "    "
   ]
  },
  {
   "cell_type": "code",
   "execution_count": 72,
   "id": "cbb6e4f2",
   "metadata": {},
   "outputs": [
    {
     "data": {
      "text/plain": [
       "'this function is show something!!!'"
      ]
     },
     "execution_count": 72,
     "metadata": {},
     "output_type": "execute_result"
    }
   ],
   "source": [
    "show.__doc__"
   ]
  },
  {
   "cell_type": "markdown",
   "id": "99756f31",
   "metadata": {},
   "source": [
    "# python Variables and data types"
   ]
  },
  {
   "cell_type": "code",
   "execution_count": 73,
   "id": "f6c86dcb",
   "metadata": {},
   "outputs": [],
   "source": [
    "# python tutorial we will learn about python variables\n",
    "# python Variables\n",
    "x = 45\n",
    "name = 'Dataflair'\n",
    "nums = [1,8.5,9]"
   ]
  },
  {
   "cell_type": "code",
   "execution_count": 74,
   "id": "a00039b3",
   "metadata": {},
   "outputs": [
    {
     "data": {
      "text/plain": [
       "list"
      ]
     },
     "execution_count": 74,
     "metadata": {},
     "output_type": "execute_result"
    }
   ],
   "source": [
    "type(x)\n",
    "type(name)\n",
    "type(nums)"
   ]
  },
  {
   "cell_type": "code",
   "execution_count": 75,
   "id": "5cd20b2d",
   "metadata": {},
   "outputs": [
    {
     "name": "stdout",
     "output_type": "stream",
     "text": [
      "<class 'int'>\n"
     ]
    }
   ],
   "source": [
    "print(type(x))"
   ]
  },
  {
   "cell_type": "code",
   "execution_count": 76,
   "id": "e89e28c8",
   "metadata": {},
   "outputs": [
    {
     "name": "stdout",
     "output_type": "stream",
     "text": [
      "<class 'str'>\n"
     ]
    }
   ],
   "source": [
    "print(type(name))"
   ]
  },
  {
   "cell_type": "code",
   "execution_count": 77,
   "id": "2d3fd8f0",
   "metadata": {},
   "outputs": [
    {
     "name": "stdout",
     "output_type": "stream",
     "text": [
      "<class 'list'>\n"
     ]
    }
   ],
   "source": [
    "print(type(nums))"
   ]
  },
  {
   "cell_type": "markdown",
   "id": "58a0bd03",
   "metadata": {},
   "source": [
    "# python Variables namig Ruls"
   ]
  },
  {
   "cell_type": "code",
   "execution_count": 78,
   "id": "19698734",
   "metadata": {},
   "outputs": [
    {
     "ename": "SyntaxError",
     "evalue": "invalid syntax (Temp/ipykernel_2400/4192503980.py, line 1)",
     "output_type": "error",
     "traceback": [
      "\u001b[1;36m  File \u001b[1;32m\"C:\\Users\\yaraz\\AppData\\Local\\Temp/ipykernel_2400/4192503980.py\"\u001b[1;36m, line \u001b[1;32m1\u001b[0m\n\u001b[1;33m    9lives = 10\u001b[0m\n\u001b[1;37m     ^\u001b[0m\n\u001b[1;31mSyntaxError\u001b[0m\u001b[1;31m:\u001b[0m invalid syntax\n"
     ]
    }
   ],
   "source": [
    "9lives = 10"
   ]
  },
  {
   "cell_type": "code",
   "execution_count": 79,
   "id": "52b94b1d",
   "metadata": {},
   "outputs": [],
   "source": [
    "flag = 0"
   ]
  },
  {
   "cell_type": "code",
   "execution_count": 80,
   "id": "ca1483fc",
   "metadata": {},
   "outputs": [
    {
     "data": {
      "text/plain": [
       "0"
      ]
     },
     "execution_count": 80,
     "metadata": {},
     "output_type": "execute_result"
    }
   ],
   "source": [
    "flag"
   ]
  },
  {
   "cell_type": "code",
   "execution_count": 81,
   "id": "21d92e9e",
   "metadata": {},
   "outputs": [],
   "source": [
    "_9lives = 'cat'"
   ]
  },
  {
   "cell_type": "code",
   "execution_count": 82,
   "id": "56bbf7a5",
   "metadata": {},
   "outputs": [
    {
     "data": {
      "text/plain": [
       "'cat'"
      ]
     },
     "execution_count": 82,
     "metadata": {},
     "output_type": "execute_result"
    }
   ],
   "source": [
    "_9lives"
   ]
  },
  {
   "cell_type": "code",
   "execution_count": 83,
   "id": "d1fd8ef3",
   "metadata": {},
   "outputs": [],
   "source": [
    "year = 'yarazari ot mbl'"
   ]
  },
  {
   "cell_type": "code",
   "execution_count": 84,
   "id": "395c18e9",
   "metadata": {},
   "outputs": [
    {
     "data": {
      "text/plain": [
       "'yarazari ot mbl'"
      ]
     },
     "execution_count": 84,
     "metadata": {},
     "output_type": "execute_result"
    }
   ],
   "source": [
    "year"
   ]
  },
  {
   "cell_type": "code",
   "execution_count": 85,
   "id": "3088e4ce",
   "metadata": {},
   "outputs": [
    {
     "ename": "SyntaxError",
     "evalue": "invalid syntax (Temp/ipykernel_2400/241539436.py, line 1)",
     "output_type": "error",
     "traceback": [
      "\u001b[1;36m  File \u001b[1;32m\"C:\\Users\\yaraz\\AppData\\Local\\Temp/ipykernel_2400/241539436.py\"\u001b[1;36m, line \u001b[1;32m1\u001b[0m\n\u001b[1;33m    _$$ = 7\u001b[0m\n\u001b[1;37m     ^\u001b[0m\n\u001b[1;31mSyntaxError\u001b[0m\u001b[1;31m:\u001b[0m invalid syntax\n"
     ]
    }
   ],
   "source": [
    "_$$ = 7"
   ]
  },
  {
   "cell_type": "code",
   "execution_count": 88,
   "id": "f778aa52",
   "metadata": {},
   "outputs": [],
   "source": [
    "name = \"manjunath kannur\" # python is a case-sensitive"
   ]
  },
  {
   "cell_type": "code",
   "execution_count": 89,
   "id": "f360f215",
   "metadata": {},
   "outputs": [
    {
     "name": "stdout",
     "output_type": "stream",
     "text": [
      "manjunath kannur\n"
     ]
    }
   ],
   "source": [
    "print(name)"
   ]
  },
  {
   "cell_type": "code",
   "execution_count": 91,
   "id": "7f371f5c",
   "metadata": {},
   "outputs": [
    {
     "ename": "NameError",
     "evalue": "name 'Name' is not defined",
     "output_type": "error",
     "traceback": [
      "\u001b[1;31m---------------------------------------------------------------------------\u001b[0m",
      "\u001b[1;31mNameError\u001b[0m                                 Traceback (most recent call last)",
      "\u001b[1;32m~\\AppData\\Local\\Temp/ipykernel_2400/2498499235.py\u001b[0m in \u001b[0;36m<module>\u001b[1;34m\u001b[0m\n\u001b[1;32m----> 1\u001b[1;33m \u001b[0mName\u001b[0m \u001b[1;31m# case - sensitive\u001b[0m\u001b[1;33m\u001b[0m\u001b[1;33m\u001b[0m\u001b[0m\n\u001b[0m",
      "\u001b[1;31mNameError\u001b[0m: name 'Name' is not defined"
     ]
    }
   ],
   "source": [
    "Name # case - sensitive"
   ]
  },
  {
   "cell_type": "code",
   "execution_count": 92,
   "id": "ef14ddb6",
   "metadata": {},
   "outputs": [
    {
     "name": "stdout",
     "output_type": "stream",
     "text": [
      "7\n"
     ]
    }
   ],
   "source": [
    "# assignin and reassigning python variable\n",
    "age = 7\n",
    "print(age)"
   ]
  },
  {
   "cell_type": "code",
   "execution_count": 93,
   "id": "e32700aa",
   "metadata": {},
   "outputs": [
    {
     "name": "stdout",
     "output_type": "stream",
     "text": [
      "yarazari\n"
     ]
    }
   ],
   "source": [
    "age  = \"yarazari\"\n",
    "print(age)"
   ]
  },
  {
   "cell_type": "code",
   "execution_count": 94,
   "id": "aa8f1f75",
   "metadata": {},
   "outputs": [
    {
     "data": {
      "text/plain": [
       "'manjunath kannur'"
      ]
     },
     "execution_count": 94,
     "metadata": {},
     "output_type": "execute_result"
    }
   ],
   "source": [
    "name"
   ]
  },
  {
   "cell_type": "code",
   "execution_count": 95,
   "id": "1401f9a9",
   "metadata": {},
   "outputs": [
    {
     "ename": "SyntaxError",
     "evalue": "cannot assign to literal (Temp/ipykernel_2400/225704299.py, line 1)",
     "output_type": "error",
     "traceback": [
      "\u001b[1;36m  File \u001b[1;32m\"C:\\Users\\yaraz\\AppData\\Local\\Temp/ipykernel_2400/225704299.py\"\u001b[1;36m, line \u001b[1;32m1\u001b[0m\n\u001b[1;33m    7 = age\u001b[0m\n\u001b[1;37m    ^\u001b[0m\n\u001b[1;31mSyntaxError\u001b[0m\u001b[1;31m:\u001b[0m cannot assign to literal\n"
     ]
    }
   ],
   "source": [
    "7 = age"
   ]
  },
  {
   "cell_type": "code",
   "execution_count": 96,
   "id": "62c0a546",
   "metadata": {},
   "outputs": [],
   "source": [
    "age = 7"
   ]
  },
  {
   "cell_type": "code",
   "execution_count": 97,
   "id": "71945eec",
   "metadata": {},
   "outputs": [
    {
     "ename": "SyntaxError",
     "evalue": "cannot assign to False (Temp/ipykernel_2400/1040488864.py, line 1)",
     "output_type": "error",
     "traceback": [
      "\u001b[1;36m  File \u001b[1;32m\"C:\\Users\\yaraz\\AppData\\Local\\Temp/ipykernel_2400/1040488864.py\"\u001b[1;36m, line \u001b[1;32m1\u001b[0m\n\u001b[1;33m    False = choice\u001b[0m\n\u001b[1;37m    ^\u001b[0m\n\u001b[1;31mSyntaxError\u001b[0m\u001b[1;31m:\u001b[0m cannot assign to False\n"
     ]
    }
   ],
   "source": [
    "False = choice"
   ]
  },
  {
   "cell_type": "code",
   "execution_count": 98,
   "id": "5ddb9aa0",
   "metadata": {},
   "outputs": [],
   "source": [
    "choise = False"
   ]
  },
  {
   "cell_type": "code",
   "execution_count": 100,
   "id": "ae418e40",
   "metadata": {},
   "outputs": [
    {
     "name": "stdout",
     "output_type": "stream",
     "text": [
      "32 yarazari\n"
     ]
    }
   ],
   "source": [
    "# multiple assignment\n",
    "age ,city = 32,'yarazari'\n",
    "print(age,city)"
   ]
  },
  {
   "cell_type": "code",
   "execution_count": 101,
   "id": "90f7272d",
   "metadata": {},
   "outputs": [
    {
     "name": "stdout",
     "output_type": "stream",
     "text": [
      "7 7\n"
     ]
    }
   ],
   "source": [
    "age=fav=7\n",
    "print(age,fav)"
   ]
  },
  {
   "cell_type": "code",
   "execution_count": 105,
   "id": "b62575e6",
   "metadata": {},
   "outputs": [],
   "source": [
    "# swapping variables\n",
    "a , b = 'red', 'blue'"
   ]
  },
  {
   "cell_type": "code",
   "execution_count": 106,
   "id": "402f71f9",
   "metadata": {},
   "outputs": [],
   "source": [
    "a,b = b,a"
   ]
  },
  {
   "cell_type": "code",
   "execution_count": 107,
   "id": "84a9793b",
   "metadata": {},
   "outputs": [
    {
     "name": "stdout",
     "output_type": "stream",
     "text": [
      "blue red\n"
     ]
    }
   ],
   "source": [
    "print(a,b)"
   ]
  },
  {
   "cell_type": "code",
   "execution_count": 110,
   "id": "e9af31e4",
   "metadata": {},
   "outputs": [
    {
     "name": "stdout",
     "output_type": "stream",
     "text": [
      "red\n"
     ]
    }
   ],
   "source": [
    "a = 'red'\n",
    "print(a)\n",
    "del a\n"
   ]
  },
  {
   "cell_type": "code",
   "execution_count": 111,
   "id": "e8acf376",
   "metadata": {},
   "outputs": [
    {
     "ename": "NameError",
     "evalue": "name 'a' is not defined",
     "output_type": "error",
     "traceback": [
      "\u001b[1;31m---------------------------------------------------------------------------\u001b[0m",
      "\u001b[1;31mNameError\u001b[0m                                 Traceback (most recent call last)",
      "\u001b[1;32m~\\AppData\\Local\\Temp/ipykernel_2400/1189138062.py\u001b[0m in \u001b[0;36m<module>\u001b[1;34m\u001b[0m\n\u001b[1;32m----> 1\u001b[1;33m \u001b[0mprint\u001b[0m\u001b[1;33m(\u001b[0m\u001b[0ma\u001b[0m\u001b[1;33m)\u001b[0m\u001b[1;33m\u001b[0m\u001b[1;33m\u001b[0m\u001b[0m\n\u001b[0m",
      "\u001b[1;31mNameError\u001b[0m: name 'a' is not defined"
     ]
    }
   ],
   "source": [
    "print(a)"
   ]
  },
  {
   "cell_type": "markdown",
   "id": "cf4680b6",
   "metadata": {},
   "source": [
    "# python varibles and data  types\n"
   ]
  },
  {
   "cell_type": "markdown",
   "id": "1c2d1c7e",
   "metadata": {},
   "source": [
    "1. python numbers\n"
   ]
  },
  {
   "cell_type": "code",
   "execution_count": 112,
   "id": "7c6cd6f3",
   "metadata": {},
   "outputs": [
    {
     "name": "stdout",
     "output_type": "stream",
     "text": [
      "-7\n"
     ]
    }
   ],
   "source": [
    "a = -7 # this python holds python data types\n",
    "print(a)"
   ]
  },
  {
   "cell_type": "code",
   "execution_count": 113,
   "id": "8bf05886",
   "metadata": {},
   "outputs": [
    {
     "name": "stdout",
     "output_type": "stream",
     "text": [
      "99999999999999999999999999999999999999999999\n"
     ]
    }
   ],
   "source": [
    "a = 99999999999999999999999999999999999999999999\n",
    "print(a) #integer values"
   ]
  },
  {
   "cell_type": "code",
   "execution_count": 114,
   "id": "9f0b3960",
   "metadata": {},
   "outputs": [
    {
     "name": "stdout",
     "output_type": "stream",
     "text": [
      "<class 'float'>\n"
     ]
    }
   ],
   "source": [
    "# float point\n",
    "a = 3.0\n",
    "print(type(a))"
   ]
  },
  {
   "cell_type": "code",
   "execution_count": 115,
   "id": "47b44db5",
   "metadata": {},
   "outputs": [
    {
     "name": "stdout",
     "output_type": "stream",
     "text": [
      "<class 'complex'>\n"
     ]
    }
   ],
   "source": [
    "# d complex types\n",
    "a = 2+3j\n",
    "print(type(a))"
   ]
  },
  {
   "cell_type": "code",
   "execution_count": 116,
   "id": "7b72bc38",
   "metadata": {},
   "outputs": [
    {
     "name": "stdout",
     "output_type": "stream",
     "text": [
      "True\n"
     ]
    }
   ],
   "source": [
    "print(isinstance(a,complex))"
   ]
  },
  {
   "cell_type": "code",
   "execution_count": 117,
   "id": "5897aad2",
   "metadata": {},
   "outputs": [],
   "source": [
    "city = 'yarazari'\n"
   ]
  },
  {
   "cell_type": "code",
   "execution_count": 118,
   "id": "6f0ef204",
   "metadata": {},
   "outputs": [
    {
     "name": "stdout",
     "output_type": "stream",
     "text": [
      "yarazari\n"
     ]
    }
   ],
   "source": [
    "print(city)"
   ]
  },
  {
   "cell_type": "code",
   "execution_count": 119,
   "id": "d8882b10",
   "metadata": {},
   "outputs": [],
   "source": [
    "name = 'manjunath kannur'"
   ]
  },
  {
   "cell_type": "code",
   "execution_count": 120,
   "id": "3325b544",
   "metadata": {},
   "outputs": [
    {
     "name": "stdout",
     "output_type": "stream",
     "text": [
      "manjunath kannur\n"
     ]
    }
   ],
   "source": [
    "print(name)"
   ]
  },
  {
   "cell_type": "code",
   "execution_count": 121,
   "id": "5832efeb",
   "metadata": {},
   "outputs": [],
   "source": [
    "var = \"\"\"if only\"\"\""
   ]
  },
  {
   "cell_type": "code",
   "execution_count": 122,
   "id": "69d3bec6",
   "metadata": {},
   "outputs": [
    {
     "name": "stdout",
     "output_type": "stream",
     "text": [
      "if only\n"
     ]
    }
   ],
   "source": [
    "print(var)"
   ]
  },
  {
   "cell_type": "code",
   "execution_count": 123,
   "id": "f6afd173",
   "metadata": {},
   "outputs": [
    {
     "data": {
      "text/plain": [
       "'if \\nonly'"
      ]
     },
     "execution_count": 123,
     "metadata": {},
     "output_type": "execute_result"
    }
   ],
   "source": [
    "\"\"\"if \n",
    "only\"\"\""
   ]
  },
  {
   "cell_type": "code",
   "execution_count": 124,
   "id": "704d3c03",
   "metadata": {},
   "outputs": [],
   "source": [
    "# b. dsiplaying part of a string"
   ]
  },
  {
   "cell_type": "code",
   "execution_count": 125,
   "id": "b047c724",
   "metadata": {},
   "outputs": [],
   "source": [
    "lesson = 'appointment'"
   ]
  },
  {
   "cell_type": "code",
   "execution_count": 126,
   "id": "fd8608fd",
   "metadata": {},
   "outputs": [
    {
     "data": {
      "text/plain": [
       "'a'"
      ]
     },
     "execution_count": 126,
     "metadata": {},
     "output_type": "execute_result"
    }
   ],
   "source": [
    "lesson[0]"
   ]
  },
  {
   "cell_type": "code",
   "execution_count": 127,
   "id": "5590480b",
   "metadata": {},
   "outputs": [
    {
     "data": {
      "text/plain": [
       "'p'"
      ]
     },
     "execution_count": 127,
     "metadata": {},
     "output_type": "execute_result"
    }
   ],
   "source": [
    "lesson[1]"
   ]
  },
  {
   "cell_type": "code",
   "execution_count": 128,
   "id": "a4cdf5dd",
   "metadata": {},
   "outputs": [
    {
     "data": {
      "text/plain": [
       "'p'"
      ]
     },
     "execution_count": 128,
     "metadata": {},
     "output_type": "execute_result"
    }
   ],
   "source": [
    "lesson[2]"
   ]
  },
  {
   "cell_type": "code",
   "execution_count": 129,
   "id": "739685f8",
   "metadata": {},
   "outputs": [
    {
     "data": {
      "text/plain": [
       "'o'"
      ]
     },
     "execution_count": 129,
     "metadata": {},
     "output_type": "execute_result"
    }
   ],
   "source": [
    "lesson[3]"
   ]
  },
  {
   "cell_type": "code",
   "execution_count": 130,
   "id": "8253bb6e",
   "metadata": {},
   "outputs": [
    {
     "data": {
      "text/plain": [
       "'ntmen'"
      ]
     },
     "execution_count": 130,
     "metadata": {},
     "output_type": "execute_result"
    }
   ],
   "source": [
    "lesson[5:10]"
   ]
  },
  {
   "cell_type": "markdown",
   "id": "45b29e7a",
   "metadata": {},
   "source": [
    "# string formmatters"
   ]
  },
  {
   "cell_type": "code",
   "execution_count": 131,
   "id": "c6fb0445",
   "metadata": {},
   "outputs": [
    {
     "name": "stdout",
     "output_type": "stream",
     "text": [
      "i just printed 10 pages to the printer dell \n"
     ]
    }
   ],
   "source": [
    "x = 10\n",
    "name = 'dell'\n",
    "print(\"i just printed %s pages to the printer %s \" %(x,name))"
   ]
  },
  {
   "cell_type": "code",
   "execution_count": 132,
   "id": "8f0771a9",
   "metadata": {},
   "outputs": [
    {
     "name": "stdout",
     "output_type": "stream",
     "text": [
      "i just printed 10 pages to the dell\n"
     ]
    }
   ],
   "source": [
    "print(\"i just printed {0} pages to the {1}\".format(x,name))"
   ]
  },
  {
   "cell_type": "code",
   "execution_count": 133,
   "id": "aa7f1aa2",
   "metadata": {},
   "outputs": [
    {
     "name": "stdout",
     "output_type": "stream",
     "text": [
      "i just printed 7 pages to the printer dell\n"
     ]
    }
   ],
   "source": [
    "print(\"i just printed {x} pages to the printer {name}\".format(x = 7,name = 'dell'))"
   ]
  },
  {
   "cell_type": "code",
   "execution_count": 134,
   "id": "4178bf95",
   "metadata": {},
   "outputs": [
    {
     "name": "stdout",
     "output_type": "stream",
     "text": [
      "i just printed 10 to the printer dell\n"
     ]
    }
   ],
   "source": [
    "print(f\"i just printed {x} to the printer {name}\")"
   ]
  },
  {
   "cell_type": "code",
   "execution_count": 139,
   "id": "b78251a6",
   "metadata": {},
   "outputs": [
    {
     "name": "stdout",
     "output_type": "stream",
     "text": [
      "1010\n"
     ]
    }
   ],
   "source": [
    "# d string Concatenation\n",
    "a = str('10')\n",
    "print(a+a)"
   ]
  },
  {
   "cell_type": "code",
   "execution_count": 142,
   "id": "7b4bc37f",
   "metadata": {},
   "outputs": [
    {
     "name": "stdout",
     "output_type": "stream",
     "text": [
      "1010\n"
     ]
    }
   ],
   "source": [
    "b = str(10)\n",
    "print(b+b)"
   ]
  },
  {
   "cell_type": "code",
   "execution_count": 143,
   "id": "4e7c1c7e",
   "metadata": {},
   "outputs": [
    {
     "name": "stdout",
     "output_type": "stream",
     "text": [
      "1010\n"
     ]
    }
   ],
   "source": [
    "print(a+b)"
   ]
  },
  {
   "cell_type": "code",
   "execution_count": 144,
   "id": "e48cd34a",
   "metadata": {},
   "outputs": [
    {
     "ename": "TypeError",
     "evalue": "can only concatenate str (not \"int\") to str",
     "output_type": "error",
     "traceback": [
      "\u001b[1;31m---------------------------------------------------------------------------\u001b[0m",
      "\u001b[1;31mTypeError\u001b[0m                                 Traceback (most recent call last)",
      "\u001b[1;32m~\\AppData\\Local\\Temp/ipykernel_2400/990838741.py\u001b[0m in \u001b[0;36m<module>\u001b[1;34m\u001b[0m\n\u001b[1;32m----> 1\u001b[1;33m \u001b[0mprint\u001b[0m\u001b[1;33m(\u001b[0m\u001b[1;34m'10'\u001b[0m\u001b[1;33m+\u001b[0m\u001b[1;36m10\u001b[0m\u001b[1;33m)\u001b[0m\u001b[1;33m\u001b[0m\u001b[1;33m\u001b[0m\u001b[0m\n\u001b[0m",
      "\u001b[1;31mTypeError\u001b[0m: can only concatenate str (not \"int\") to str"
     ]
    }
   ],
   "source": [
    "print('10'+10)"
   ]
  },
  {
   "cell_type": "code",
   "execution_count": 145,
   "id": "ff994a13",
   "metadata": {},
   "outputs": [],
   "source": [
    "# python list\n",
    "days = ['monday','tuesday',3,4,5,6,7]"
   ]
  },
  {
   "cell_type": "code",
   "execution_count": 146,
   "id": "9b818fea",
   "metadata": {},
   "outputs": [
    {
     "data": {
      "text/plain": [
       "['monday', 'tuesday', 3, 4, 5, 6, 7]"
      ]
     },
     "execution_count": 146,
     "metadata": {},
     "output_type": "execute_result"
    }
   ],
   "source": [
    "days"
   ]
  },
  {
   "cell_type": "code",
   "execution_count": 147,
   "id": "cbce7f7f",
   "metadata": {},
   "outputs": [
    {
     "data": {
      "text/plain": [
       "['tuesday', 3]"
      ]
     },
     "execution_count": 147,
     "metadata": {},
     "output_type": "execute_result"
    }
   ],
   "source": [
    "# slicing list\n",
    "days[1:3]"
   ]
  },
  {
   "cell_type": "code",
   "execution_count": 148,
   "id": "c57565b0",
   "metadata": {},
   "outputs": [
    {
     "data": {
      "text/plain": [
       "7"
      ]
     },
     "execution_count": 148,
     "metadata": {},
     "output_type": "execute_result"
    }
   ],
   "source": [
    "len(days)"
   ]
  },
  {
   "cell_type": "code",
   "execution_count": 149,
   "id": "ce304324",
   "metadata": {},
   "outputs": [],
   "source": [
    "days[2] = 'wednesday'"
   ]
  },
  {
   "cell_type": "code",
   "execution_count": 150,
   "id": "0f4d481c",
   "metadata": {},
   "outputs": [
    {
     "data": {
      "text/plain": [
       "['monday', 'tuesday', 'wednesday', 4, 5, 6, 7]"
      ]
     },
     "execution_count": 150,
     "metadata": {},
     "output_type": "execute_result"
    }
   ],
   "source": [
    "days"
   ]
  },
  {
   "cell_type": "code",
   "execution_count": 151,
   "id": "c2258265",
   "metadata": {},
   "outputs": [
    {
     "name": "stdout",
     "output_type": "stream",
     "text": [
      "1\n",
      "2\n",
      "5\n",
      "6\n",
      "8\n"
     ]
    }
   ],
   "source": [
    "# d iterating of the list\n",
    "nums = [1,2,5,6,8]\n",
    "for n in nums:\n",
    "    print(n)"
   ]
  },
  {
   "cell_type": "code",
   "execution_count": 152,
   "id": "c8467f85",
   "metadata": {},
   "outputs": [],
   "source": [
    "a = [[1,2,3],4,5,6]"
   ]
  },
  {
   "cell_type": "code",
   "execution_count": 153,
   "id": "35b3344c",
   "metadata": {},
   "outputs": [
    {
     "name": "stdout",
     "output_type": "stream",
     "text": [
      "[[1, 2, 3], 4, 5, 6]\n"
     ]
    }
   ],
   "source": [
    "print(a)"
   ]
  },
  {
   "cell_type": "code",
   "execution_count": 154,
   "id": "661b5b1d",
   "metadata": {},
   "outputs": [],
   "source": [
    "# python tuples\n",
    "subject = ('physics','chemistry','maths')"
   ]
  },
  {
   "cell_type": "code",
   "execution_count": 155,
   "id": "88f0ad04",
   "metadata": {},
   "outputs": [
    {
     "data": {
      "text/plain": [
       "('physics', 'chemistry', 'maths')"
      ]
     },
     "execution_count": 155,
     "metadata": {},
     "output_type": "execute_result"
    }
   ],
   "source": [
    "subject"
   ]
  },
  {
   "cell_type": "code",
   "execution_count": 156,
   "id": "61d3506d",
   "metadata": {},
   "outputs": [
    {
     "data": {
      "text/plain": [
       "'chemistry'"
      ]
     },
     "execution_count": 156,
     "metadata": {},
     "output_type": "execute_result"
    }
   ],
   "source": [
    "subject[1]"
   ]
  },
  {
   "cell_type": "code",
   "execution_count": 157,
   "id": "49e2d08f",
   "metadata": {},
   "outputs": [
    {
     "data": {
      "text/plain": [
       "'maths'"
      ]
     },
     "execution_count": 157,
     "metadata": {},
     "output_type": "execute_result"
    }
   ],
   "source": [
    "subject[2]"
   ]
  },
  {
   "cell_type": "code",
   "execution_count": 158,
   "id": "22974e68",
   "metadata": {},
   "outputs": [
    {
     "ename": "IndexError",
     "evalue": "tuple index out of range",
     "output_type": "error",
     "traceback": [
      "\u001b[1;31m---------------------------------------------------------------------------\u001b[0m",
      "\u001b[1;31mIndexError\u001b[0m                                Traceback (most recent call last)",
      "\u001b[1;32m~\\AppData\\Local\\Temp/ipykernel_2400/618432328.py\u001b[0m in \u001b[0;36m<module>\u001b[1;34m\u001b[0m\n\u001b[1;32m----> 1\u001b[1;33m \u001b[0msubject\u001b[0m\u001b[1;33m[\u001b[0m\u001b[1;36m3\u001b[0m\u001b[1;33m]\u001b[0m\u001b[1;33m\u001b[0m\u001b[1;33m\u001b[0m\u001b[0m\n\u001b[0m",
      "\u001b[1;31mIndexError\u001b[0m: tuple index out of range"
     ]
    }
   ],
   "source": [
    "subject[3]"
   ]
  },
  {
   "cell_type": "code",
   "execution_count": 159,
   "id": "d7e86b67",
   "metadata": {},
   "outputs": [
    {
     "data": {
      "text/plain": [
       "'chemistry'"
      ]
     },
     "execution_count": 159,
     "metadata": {},
     "output_type": "execute_result"
    }
   ],
   "source": [
    "subject[1]"
   ]
  },
  {
   "cell_type": "code",
   "execution_count": 160,
   "id": "2ad3838b",
   "metadata": {},
   "outputs": [
    {
     "ename": "TypeError",
     "evalue": "'tuple' object does not support item assignment",
     "output_type": "error",
     "traceback": [
      "\u001b[1;31m---------------------------------------------------------------------------\u001b[0m",
      "\u001b[1;31mTypeError\u001b[0m                                 Traceback (most recent call last)",
      "\u001b[1;32m~\\AppData\\Local\\Temp/ipykernel_2400/2229396750.py\u001b[0m in \u001b[0;36m<module>\u001b[1;34m\u001b[0m\n\u001b[0;32m      1\u001b[0m \u001b[1;31m# tuple is immutable\u001b[0m\u001b[1;33m\u001b[0m\u001b[1;33m\u001b[0m\u001b[1;33m\u001b[0m\u001b[0m\n\u001b[1;32m----> 2\u001b[1;33m \u001b[0msubject\u001b[0m\u001b[1;33m[\u001b[0m\u001b[1;36m2\u001b[0m\u001b[1;33m]\u001b[0m \u001b[1;33m=\u001b[0m \u001b[1;34m'biology'\u001b[0m\u001b[1;33m\u001b[0m\u001b[1;33m\u001b[0m\u001b[0m\n\u001b[0m",
      "\u001b[1;31mTypeError\u001b[0m: 'tuple' object does not support item assignment"
     ]
    }
   ],
   "source": [
    "# tuple is immutable\n",
    "subject[2] = 'biology'"
   ]
  },
  {
   "cell_type": "code",
   "execution_count": 161,
   "id": "614eb186",
   "metadata": {},
   "outputs": [],
   "source": [
    "# dictionaries\n",
    "person = {'ciy':'yarazari','age':55}"
   ]
  },
  {
   "cell_type": "code",
   "execution_count": 162,
   "id": "3cbedb47",
   "metadata": {},
   "outputs": [
    {
     "data": {
      "text/plain": [
       "{'ciy': 'yarazari', 'age': 55}"
      ]
     },
     "execution_count": 162,
     "metadata": {},
     "output_type": "execute_result"
    }
   ],
   "source": [
    "person"
   ]
  },
  {
   "cell_type": "code",
   "execution_count": 163,
   "id": "cab7f57a",
   "metadata": {},
   "outputs": [
    {
     "data": {
      "text/plain": [
       "dict"
      ]
     },
     "execution_count": 163,
     "metadata": {},
     "output_type": "execute_result"
    }
   ],
   "source": [
    "type(person)"
   ]
  },
  {
   "cell_type": "code",
   "execution_count": 165,
   "id": "a2156858",
   "metadata": {},
   "outputs": [
    {
     "data": {
      "text/plain": [
       "'yarazari'"
      ]
     },
     "execution_count": 165,
     "metadata": {},
     "output_type": "execute_result"
    }
   ],
   "source": [
    "# accessing value\n",
    "person['ciy']"
   ]
  },
  {
   "cell_type": "code",
   "execution_count": 166,
   "id": "4ffa4c30",
   "metadata": {},
   "outputs": [],
   "source": [
    "person['age'] = 25"
   ]
  },
  {
   "cell_type": "code",
   "execution_count": 167,
   "id": "542220fd",
   "metadata": {},
   "outputs": [
    {
     "data": {
      "text/plain": [
       "25"
      ]
     },
     "execution_count": 167,
     "metadata": {},
     "output_type": "execute_result"
    }
   ],
   "source": [
    "person['age']"
   ]
  },
  {
   "cell_type": "code",
   "execution_count": 168,
   "id": "0fbbcf99",
   "metadata": {},
   "outputs": [
    {
     "data": {
      "text/plain": [
       "dict_keys(['ciy', 'age'])"
      ]
     },
     "execution_count": 168,
     "metadata": {},
     "output_type": "execute_result"
    }
   ],
   "source": [
    "person.keys()"
   ]
  },
  {
   "cell_type": "code",
   "execution_count": 169,
   "id": "0682cfa7",
   "metadata": {},
   "outputs": [
    {
     "data": {
      "text/plain": [
       "bool"
      ]
     },
     "execution_count": 169,
     "metadata": {},
     "output_type": "execute_result"
    }
   ],
   "source": [
    "# bool \n",
    "# A boolen value can be True or False\n",
    "a = 2>1\n",
    "type(a)"
   ]
  },
  {
   "cell_type": "code",
   "execution_count": 170,
   "id": "f1a71372",
   "metadata": {},
   "outputs": [
    {
     "name": "stdout",
     "output_type": "stream",
     "text": [
      "{1, 2, 3}\n"
     ]
    }
   ],
   "source": [
    "# sets\n",
    "a = {1,2,3}\n",
    "print(a)"
   ]
  },
  {
   "cell_type": "code",
   "execution_count": 171,
   "id": "0960a193",
   "metadata": {},
   "outputs": [
    {
     "name": "stdout",
     "output_type": "stream",
     "text": [
      "{1, 2, 3}\n"
     ]
    }
   ],
   "source": [
    "a = {1,2,2,3}\n",
    "print(a)"
   ]
  },
  {
   "cell_type": "code",
   "execution_count": 172,
   "id": "4bf17030",
   "metadata": {},
   "outputs": [
    {
     "ename": "TypeError",
     "evalue": "'set' object is not subscriptable",
     "output_type": "error",
     "traceback": [
      "\u001b[1;31m---------------------------------------------------------------------------\u001b[0m",
      "\u001b[1;31mTypeError\u001b[0m                                 Traceback (most recent call last)",
      "\u001b[1;32m~\\AppData\\Local\\Temp/ipykernel_2400/4164697690.py\u001b[0m in \u001b[0;36m<module>\u001b[1;34m\u001b[0m\n\u001b[1;32m----> 1\u001b[1;33m \u001b[0ma\u001b[0m\u001b[1;33m[\u001b[0m\u001b[1;36m2\u001b[0m\u001b[1;33m]\u001b[0m\u001b[1;33m\u001b[0m\u001b[1;33m\u001b[0m\u001b[0m\n\u001b[0m",
      "\u001b[1;31mTypeError\u001b[0m: 'set' object is not subscriptable"
     ]
    }
   ],
   "source": [
    "a[2]"
   ]
  },
  {
   "cell_type": "code",
   "execution_count": 173,
   "id": "e019f650",
   "metadata": {},
   "outputs": [
    {
     "ename": "TypeError",
     "evalue": "'set' object is not subscriptable",
     "output_type": "error",
     "traceback": [
      "\u001b[1;31m---------------------------------------------------------------------------\u001b[0m",
      "\u001b[1;31mTypeError\u001b[0m                                 Traceback (most recent call last)",
      "\u001b[1;32m~\\AppData\\Local\\Temp/ipykernel_2400/1109539928.py\u001b[0m in \u001b[0;36m<module>\u001b[1;34m\u001b[0m\n\u001b[1;32m----> 1\u001b[1;33m \u001b[0ma\u001b[0m\u001b[1;33m[\u001b[0m\u001b[1;36m0\u001b[0m\u001b[1;33m]\u001b[0m\u001b[1;33m\u001b[0m\u001b[1;33m\u001b[0m\u001b[0m\n\u001b[0m",
      "\u001b[1;31mTypeError\u001b[0m: 'set' object is not subscriptable"
     ]
    }
   ],
   "source": [
    "a[0]"
   ]
  },
  {
   "cell_type": "code",
   "execution_count": 174,
   "id": "f42ddea9",
   "metadata": {},
   "outputs": [
    {
     "name": "stdout",
     "output_type": "stream",
     "text": [
      "{1, 2, 3, 4}\n"
     ]
    }
   ],
   "source": [
    "a = {1,2,3,4}\n",
    "print(a)"
   ]
  },
  {
   "cell_type": "code",
   "execution_count": 176,
   "id": "8d4fad07",
   "metadata": {},
   "outputs": [],
   "source": [
    "a.remove(2)"
   ]
  },
  {
   "cell_type": "code",
   "execution_count": 177,
   "id": "48a165b9",
   "metadata": {},
   "outputs": [
    {
     "data": {
      "text/plain": [
       "{1, 3, 4}"
      ]
     },
     "execution_count": 177,
     "metadata": {},
     "output_type": "execute_result"
    }
   ],
   "source": [
    "a"
   ]
  },
  {
   "cell_type": "code",
   "execution_count": 178,
   "id": "00a4098c",
   "metadata": {},
   "outputs": [],
   "source": [
    "a.add(2)"
   ]
  },
  {
   "cell_type": "code",
   "execution_count": 179,
   "id": "cc1cd6f6",
   "metadata": {},
   "outputs": [
    {
     "data": {
      "text/plain": [
       "{1, 2, 3, 4}"
      ]
     },
     "execution_count": 179,
     "metadata": {},
     "output_type": "execute_result"
    }
   ],
   "source": [
    "a"
   ]
  },
  {
   "cell_type": "markdown",
   "id": "b8855da1",
   "metadata": {},
   "source": [
    "# type Conversion"
   ]
  },
  {
   "cell_type": "code",
   "execution_count": 180,
   "id": "11b3e1e5",
   "metadata": {},
   "outputs": [
    {
     "data": {
      "text/plain": [
       "3"
      ]
     },
     "execution_count": 180,
     "metadata": {},
     "output_type": "execute_result"
    }
   ],
   "source": [
    "int(3.7)"
   ]
  },
  {
   "cell_type": "code",
   "execution_count": 184,
   "id": "cb6b0ac0",
   "metadata": {},
   "outputs": [],
   "source": [
    "my = [1.2,6.6,5.5,'10','20',10]\n"
   ]
  },
  {
   "cell_type": "code",
   "execution_count": 197,
   "id": "0d950e5e",
   "metadata": {},
   "outputs": [],
   "source": [
    "string = [str(i) for i in my]"
   ]
  },
  {
   "cell_type": "code",
   "execution_count": 198,
   "id": "2cb0da55",
   "metadata": {},
   "outputs": [
    {
     "data": {
      "text/plain": [
       "['1.2', '6.6', '5.5', '10', '20', '10']"
      ]
     },
     "execution_count": 198,
     "metadata": {},
     "output_type": "execute_result"
    }
   ],
   "source": [
    "string"
   ]
  },
  {
   "cell_type": "code",
   "execution_count": 199,
   "id": "78216cee",
   "metadata": {},
   "outputs": [],
   "source": [
    "a_string = \"\".join(string)"
   ]
  },
  {
   "cell_type": "code",
   "execution_count": 200,
   "id": "3117b2fc",
   "metadata": {},
   "outputs": [
    {
     "data": {
      "text/plain": [
       "'1.26.65.5102010'"
      ]
     },
     "execution_count": 200,
     "metadata": {},
     "output_type": "execute_result"
    }
   ],
   "source": [
    "a_string"
   ]
  },
  {
   "cell_type": "code",
   "execution_count": 203,
   "id": "462a9969",
   "metadata": {},
   "outputs": [
    {
     "ename": "ValueError",
     "evalue": "invalid literal for int() with base 10: '1.26.65.5102010'",
     "output_type": "error",
     "traceback": [
      "\u001b[1;31m---------------------------------------------------------------------------\u001b[0m",
      "\u001b[1;31mValueError\u001b[0m                                Traceback (most recent call last)",
      "\u001b[1;32m~\\AppData\\Local\\Temp/ipykernel_2400/4233669512.py\u001b[0m in \u001b[0;36m<module>\u001b[1;34m\u001b[0m\n\u001b[1;32m----> 1\u001b[1;33m \u001b[0man_integer\u001b[0m \u001b[1;33m=\u001b[0m \u001b[0mfloat\u001b[0m\u001b[1;33m(\u001b[0m\u001b[0mint\u001b[0m\u001b[1;33m(\u001b[0m\u001b[0ma_string\u001b[0m\u001b[1;33m)\u001b[0m\u001b[1;33m)\u001b[0m\u001b[1;33m\u001b[0m\u001b[1;33m\u001b[0m\u001b[0m\n\u001b[0m",
      "\u001b[1;31mValueError\u001b[0m: invalid literal for int() with base 10: '1.26.65.5102010'"
     ]
    }
   ],
   "source": [
    "an_integer = float(int(a_string))"
   ]
  },
  {
   "cell_type": "code",
   "execution_count": 204,
   "id": "92c8722d",
   "metadata": {},
   "outputs": [
    {
     "data": {
      "text/plain": [
       "1"
      ]
     },
     "execution_count": 204,
     "metadata": {},
     "output_type": "execute_result"
    }
   ],
   "source": [
    "int(True)"
   ]
  },
  {
   "cell_type": "code",
   "execution_count": 205,
   "id": "42bb86ff",
   "metadata": {},
   "outputs": [
    {
     "data": {
      "text/plain": [
       "0"
      ]
     },
     "execution_count": 205,
     "metadata": {},
     "output_type": "execute_result"
    }
   ],
   "source": [
    "int(False)"
   ]
  },
  {
   "cell_type": "code",
   "execution_count": 206,
   "id": "7dbc065e",
   "metadata": {},
   "outputs": [
    {
     "ename": "ValueError",
     "evalue": "invalid literal for int() with base 10: 'a'",
     "output_type": "error",
     "traceback": [
      "\u001b[1;31m---------------------------------------------------------------------------\u001b[0m",
      "\u001b[1;31mValueError\u001b[0m                                Traceback (most recent call last)",
      "\u001b[1;32m~\\AppData\\Local\\Temp/ipykernel_2400/3221825202.py\u001b[0m in \u001b[0;36m<module>\u001b[1;34m\u001b[0m\n\u001b[1;32m----> 1\u001b[1;33m \u001b[0mint\u001b[0m\u001b[1;33m(\u001b[0m\u001b[1;34m\"a\"\u001b[0m\u001b[1;33m)\u001b[0m\u001b[1;33m\u001b[0m\u001b[1;33m\u001b[0m\u001b[0m\n\u001b[0m",
      "\u001b[1;31mValueError\u001b[0m: invalid literal for int() with base 10: 'a'"
     ]
    }
   ],
   "source": [
    "int(\"a\")"
   ]
  },
  {
   "cell_type": "code",
   "execution_count": 207,
   "id": "615e09d7",
   "metadata": {},
   "outputs": [
    {
     "data": {
      "text/plain": [
       "77"
      ]
     },
     "execution_count": 207,
     "metadata": {},
     "output_type": "execute_result"
    }
   ],
   "source": [
    "int(\"77\")"
   ]
  },
  {
   "cell_type": "code",
   "execution_count": 208,
   "id": "eae98cd1",
   "metadata": {},
   "outputs": [
    {
     "data": {
      "text/plain": [
       "7.0"
      ]
     },
     "execution_count": 208,
     "metadata": {},
     "output_type": "execute_result"
    }
   ],
   "source": [
    "float(7)"
   ]
  },
  {
   "cell_type": "code",
   "execution_count": 210,
   "id": "08fe3278",
   "metadata": {},
   "outputs": [
    {
     "data": {
      "text/plain": [
       "7.0"
      ]
     },
     "execution_count": 210,
     "metadata": {},
     "output_type": "execute_result"
    }
   ],
   "source": [
    "float(7)"
   ]
  },
  {
   "cell_type": "code",
   "execution_count": 211,
   "id": "b86e5895",
   "metadata": {},
   "outputs": [
    {
     "data": {
      "text/plain": [
       "7.7"
      ]
     },
     "execution_count": 211,
     "metadata": {},
     "output_type": "execute_result"
    }
   ],
   "source": [
    "float(7.7)"
   ]
  },
  {
   "cell_type": "code",
   "execution_count": 212,
   "id": "e2ac84b3",
   "metadata": {},
   "outputs": [
    {
     "data": {
      "text/plain": [
       "1.0"
      ]
     },
     "execution_count": 212,
     "metadata": {},
     "output_type": "execute_result"
    }
   ],
   "source": [
    "float(True)"
   ]
  },
  {
   "cell_type": "code",
   "execution_count": 213,
   "id": "9bd2e2c7",
   "metadata": {},
   "outputs": [
    {
     "data": {
      "text/plain": [
       "11.0"
      ]
     },
     "execution_count": 213,
     "metadata": {},
     "output_type": "execute_result"
    }
   ],
   "source": [
    "float('11')"
   ]
  },
  {
   "cell_type": "code",
   "execution_count": 214,
   "id": "55e9cdd4",
   "metadata": {},
   "outputs": [
    {
     "data": {
      "text/plain": [
       "0.021"
      ]
     },
     "execution_count": 214,
     "metadata": {},
     "output_type": "execute_result"
    }
   ],
   "source": [
    "float(\"2.1e-2\")"
   ]
  },
  {
   "cell_type": "code",
   "execution_count": 215,
   "id": "64c2020c",
   "metadata": {},
   "outputs": [
    {
     "data": {
      "text/plain": [
       "0.021"
      ]
     },
     "execution_count": 215,
     "metadata": {},
     "output_type": "execute_result"
    }
   ],
   "source": [
    "2.1e-2"
   ]
  },
  {
   "cell_type": "code",
   "execution_count": 216,
   "id": "f695c6e0",
   "metadata": {},
   "outputs": [
    {
     "data": {
      "text/plain": [
       "'2.1'"
      ]
     },
     "execution_count": 216,
     "metadata": {},
     "output_type": "execute_result"
    }
   ],
   "source": [
    "str(2.1)"
   ]
  },
  {
   "cell_type": "code",
   "execution_count": 217,
   "id": "4d41d61f",
   "metadata": {},
   "outputs": [
    {
     "data": {
      "text/plain": [
       "'7'"
      ]
     },
     "execution_count": 217,
     "metadata": {},
     "output_type": "execute_result"
    }
   ],
   "source": [
    "str(7)"
   ]
  },
  {
   "cell_type": "code",
   "execution_count": 218,
   "id": "28d5e541",
   "metadata": {},
   "outputs": [
    {
     "data": {
      "text/plain": [
       "'True'"
      ]
     },
     "execution_count": 218,
     "metadata": {},
     "output_type": "execute_result"
    }
   ],
   "source": [
    "str(True)"
   ]
  },
  {
   "cell_type": "code",
   "execution_count": 219,
   "id": "21ed1f4d",
   "metadata": {},
   "outputs": [
    {
     "data": {
      "text/plain": [
       "'[1, 2, 3]'"
      ]
     },
     "execution_count": 219,
     "metadata": {},
     "output_type": "execute_result"
    }
   ],
   "source": [
    "str([1,2,3])"
   ]
  },
  {
   "cell_type": "code",
   "execution_count": 220,
   "id": "63cff546",
   "metadata": {},
   "outputs": [
    {
     "ename": "SyntaxError",
     "evalue": "invalid syntax (Temp/ipykernel_2400/24985687.py, line 1)",
     "output_type": "error",
     "traceback": [
      "\u001b[1;36m  File \u001b[1;32m\"C:\\Users\\yaraz\\AppData\\Local\\Temp/ipykernel_2400/24985687.py\"\u001b[1;36m, line \u001b[1;32m1\u001b[0m\n\u001b[1;33m    4. bool()\u001b[0m\n\u001b[1;37m       ^\u001b[0m\n\u001b[1;31mSyntaxError\u001b[0m\u001b[1;31m:\u001b[0m invalid syntax\n"
     ]
    }
   ],
   "source": [
    "4. bool()"
   ]
  },
  {
   "cell_type": "code",
   "execution_count": 224,
   "id": "93d50aaa",
   "metadata": {},
   "outputs": [
    {
     "data": {
      "text/plain": [
       "True"
      ]
     },
     "execution_count": 224,
     "metadata": {},
     "output_type": "execute_result"
    }
   ],
   "source": [
    "bool(3)"
   ]
  },
  {
   "cell_type": "code",
   "execution_count": 225,
   "id": "c155ac16",
   "metadata": {},
   "outputs": [
    {
     "data": {
      "text/plain": [
       "False"
      ]
     },
     "execution_count": 225,
     "metadata": {},
     "output_type": "execute_result"
    }
   ],
   "source": [
    "bool(0)"
   ]
  },
  {
   "cell_type": "code",
   "execution_count": 226,
   "id": "446cb690",
   "metadata": {},
   "outputs": [
    {
     "data": {
      "text/plain": [
       "True"
      ]
     },
     "execution_count": 226,
     "metadata": {},
     "output_type": "execute_result"
    }
   ],
   "source": [
    "bool(True)"
   ]
  },
  {
   "cell_type": "code",
   "execution_count": 227,
   "id": "2d9de5f4",
   "metadata": {},
   "outputs": [
    {
     "data": {
      "text/plain": [
       "True"
      ]
     },
     "execution_count": 227,
     "metadata": {},
     "output_type": "execute_result"
    }
   ],
   "source": [
    "bool(0.1)"
   ]
  },
  {
   "cell_type": "code",
   "execution_count": 228,
   "id": "7a20c1a1",
   "metadata": {},
   "outputs": [
    {
     "data": {
      "text/plain": [
       "True"
      ]
     },
     "execution_count": 228,
     "metadata": {},
     "output_type": "execute_result"
    }
   ],
   "source": [
    "bool([1,2])"
   ]
  },
  {
   "cell_type": "code",
   "execution_count": 229,
   "id": "7cab523e",
   "metadata": {},
   "outputs": [
    {
     "data": {
      "text/plain": [
       "False"
      ]
     },
     "execution_count": 229,
     "metadata": {},
     "output_type": "execute_result"
    }
   ],
   "source": [
    "bool()"
   ]
  },
  {
   "cell_type": "code",
   "execution_count": 230,
   "id": "f9859481",
   "metadata": {},
   "outputs": [
    {
     "data": {
      "text/plain": [
       "False"
      ]
     },
     "execution_count": 230,
     "metadata": {},
     "output_type": "execute_result"
    }
   ],
   "source": [
    "bool([])"
   ]
  },
  {
   "cell_type": "code",
   "execution_count": 231,
   "id": "2c81b37b",
   "metadata": {},
   "outputs": [
    {
     "data": {
      "text/plain": [
       "False"
      ]
     },
     "execution_count": 231,
     "metadata": {},
     "output_type": "execute_result"
    }
   ],
   "source": [
    "bool(None)"
   ]
  },
  {
   "cell_type": "code",
   "execution_count": 232,
   "id": "abff60b8",
   "metadata": {},
   "outputs": [],
   "source": [
    "# set() it converts the value into set\n",
    "myset = set([1,2,2,3])"
   ]
  },
  {
   "cell_type": "code",
   "execution_count": 233,
   "id": "3a6c4d91",
   "metadata": {},
   "outputs": [
    {
     "data": {
      "text/plain": [
       "{1, 2, 3}"
      ]
     },
     "execution_count": 233,
     "metadata": {},
     "output_type": "execute_result"
    }
   ],
   "source": [
    "myset"
   ]
  },
  {
   "cell_type": "code",
   "execution_count": 235,
   "id": "621253c0",
   "metadata": {},
   "outputs": [
    {
     "data": {
      "text/plain": [
       "['1', '2', '3']"
      ]
     },
     "execution_count": 235,
     "metadata": {},
     "output_type": "execute_result"
    }
   ],
   "source": [
    "list(\"123\")"
   ]
  },
  {
   "cell_type": "code",
   "execution_count": 236,
   "id": "be842c23",
   "metadata": {},
   "outputs": [
    {
     "data": {
      "text/plain": [
       "[1, 2, 3]"
      ]
     },
     "execution_count": 236,
     "metadata": {},
     "output_type": "execute_result"
    }
   ],
   "source": [
    "list({1,2,2,3})"
   ]
  },
  {
   "cell_type": "code",
   "execution_count": 237,
   "id": "f00b6fc5",
   "metadata": {},
   "outputs": [
    {
     "data": {
      "text/plain": [
       "['a', 'b']"
      ]
     },
     "execution_count": 237,
     "metadata": {},
     "output_type": "execute_result"
    }
   ],
   "source": [
    "list({'a':0,'b':1})"
   ]
  },
  {
   "cell_type": "code",
   "execution_count": 238,
   "id": "509c0b16",
   "metadata": {},
   "outputs": [
    {
     "ename": "TypeError",
     "evalue": "unhashable type: 'set'",
     "output_type": "error",
     "traceback": [
      "\u001b[1;31m---------------------------------------------------------------------------\u001b[0m",
      "\u001b[1;31mTypeError\u001b[0m                                 Traceback (most recent call last)",
      "\u001b[1;32m~\\AppData\\Local\\Temp/ipykernel_2400/1773018215.py\u001b[0m in \u001b[0;36m<module>\u001b[1;34m\u001b[0m\n\u001b[1;32m----> 1\u001b[1;33m \u001b[0mlist\u001b[0m\u001b[1;33m(\u001b[0m\u001b[1;33m{\u001b[0m\u001b[0ma\u001b[0m\u001b[1;33m:\u001b[0m\u001b[1;36m1\u001b[0m\u001b[1;33m,\u001b[0m\u001b[0mb\u001b[0m\u001b[1;33m:\u001b[0m\u001b[1;36m2\u001b[0m\u001b[1;33m}\u001b[0m\u001b[1;33m)\u001b[0m\u001b[1;33m\u001b[0m\u001b[1;33m\u001b[0m\u001b[0m\n\u001b[0m",
      "\u001b[1;31mTypeError\u001b[0m: unhashable type: 'set'"
     ]
    }
   ],
   "source": [
    "list({a:1,b:2})"
   ]
  },
  {
   "cell_type": "code",
   "execution_count": 242,
   "id": "791ea68a",
   "metadata": {},
   "outputs": [
    {
     "name": "stdout",
     "output_type": "stream",
     "text": [
      "8\n"
     ]
    }
   ],
   "source": [
    "# tuple()\n",
    "# it converts the value into a tuple\n",
    "data = tuple({1,2,3,4,66,8,2,3,6,9})\n",
    "print(len(data))"
   ]
  },
  {
   "cell_type": "code",
   "execution_count": 241,
   "id": "dbd478a9",
   "metadata": {},
   "outputs": [
    {
     "name": "stdout",
     "output_type": "stream",
     "text": [
      "8\n"
     ]
    }
   ],
   "source": [
    "data\n",
    "print(len(data))"
   ]
  },
  {
   "cell_type": "code",
   "execution_count": 243,
   "id": "6aadf899",
   "metadata": {},
   "outputs": [
    {
     "data": {
      "text/plain": [
       "(1, 2)"
      ]
     },
     "execution_count": 243,
     "metadata": {},
     "output_type": "execute_result"
    }
   ],
   "source": [
    "tuple(list(set([1,2])))"
   ]
  },
  {
   "cell_type": "markdown",
   "id": "859eda86",
   "metadata": {},
   "source": [
    "# python local Variables"
   ]
  },
  {
   "cell_type": "code",
   "execution_count": 244,
   "id": "a27217c9",
   "metadata": {},
   "outputs": [],
   "source": [
    "def func():\n",
    "    uwv = 2 # local variables\n",
    "    print(uwv)"
   ]
  },
  {
   "cell_type": "code",
   "execution_count": 245,
   "id": "0ce9ac84",
   "metadata": {},
   "outputs": [
    {
     "name": "stdout",
     "output_type": "stream",
     "text": [
      "2\n"
     ]
    }
   ],
   "source": [
    "func()"
   ]
  },
  {
   "cell_type": "code",
   "execution_count": 247,
   "id": "75a14ac8",
   "metadata": {},
   "outputs": [],
   "source": [
    "xyz = 3"
   ]
  },
  {
   "cell_type": "code",
   "execution_count": 248,
   "id": "401161a5",
   "metadata": {},
   "outputs": [],
   "source": [
    "def func2():\n",
    "    xyz = 0\n",
    "    xyz+=1\n",
    "    print(xyz)"
   ]
  },
  {
   "cell_type": "code",
   "execution_count": 249,
   "id": "bad904ba",
   "metadata": {},
   "outputs": [
    {
     "name": "stdout",
     "output_type": "stream",
     "text": [
      "1\n"
     ]
    }
   ],
   "source": [
    "func2()"
   ]
  },
  {
   "cell_type": "code",
   "execution_count": 250,
   "id": "888dad4a",
   "metadata": {},
   "outputs": [],
   "source": [
    "foo = 1"
   ]
  },
  {
   "cell_type": "code",
   "execution_count": 251,
   "id": "f2d6e8a8",
   "metadata": {},
   "outputs": [],
   "source": [
    "def func2():\n",
    "    global foo\n",
    "    foo = 3\n",
    "    print(foo)"
   ]
  },
  {
   "cell_type": "code",
   "execution_count": 252,
   "id": "fc0e9487",
   "metadata": {},
   "outputs": [
    {
     "name": "stdout",
     "output_type": "stream",
     "text": [
      "3\n"
     ]
    }
   ],
   "source": [
    "func2()"
   ]
  },
  {
   "cell_type": "code",
   "execution_count": 253,
   "id": "32d622da",
   "metadata": {},
   "outputs": [
    {
     "data": {
      "text/plain": [
       "3"
      ]
     },
     "execution_count": 253,
     "metadata": {},
     "output_type": "execute_result"
    }
   ],
   "source": [
    "foo"
   ]
  },
  {
   "cell_type": "markdown",
   "id": "d048d44d",
   "metadata": {},
   "source": [
    "# python Variable Scope,local,global, built-in enclosed"
   ]
  },
  {
   "cell_type": "code",
   "execution_count": 254,
   "id": "cbb1ff2d",
   "metadata": {},
   "outputs": [],
   "source": [
    "# python variable scope\n",
    "b= 8\n",
    "def func():\n",
    "    a = 7\n",
    "    print(a)\n",
    "    print(b)"
   ]
  },
  {
   "cell_type": "code",
   "execution_count": 255,
   "id": "dc2e9076",
   "metadata": {},
   "outputs": [
    {
     "name": "stdout",
     "output_type": "stream",
     "text": [
      "7\n",
      "8\n"
     ]
    }
   ],
   "source": [
    "func()"
   ]
  },
  {
   "cell_type": "code",
   "execution_count": 256,
   "id": "d60aa3af",
   "metadata": {},
   "outputs": [
    {
     "data": {
      "text/plain": [
       "8"
      ]
     },
     "execution_count": 256,
     "metadata": {},
     "output_type": "execute_result"
    }
   ],
   "source": [
    "b"
   ]
  },
  {
   "cell_type": "code",
   "execution_count": 257,
   "id": "1d256791",
   "metadata": {},
   "outputs": [
    {
     "data": {
      "text/plain": [
       "{1, 2, 3, 4}"
      ]
     },
     "execution_count": 257,
     "metadata": {},
     "output_type": "execute_result"
    }
   ],
   "source": [
    "a"
   ]
  },
  {
   "cell_type": "code",
   "execution_count": 258,
   "id": "545f6de6",
   "metadata": {},
   "outputs": [],
   "source": [
    "del a"
   ]
  },
  {
   "cell_type": "code",
   "execution_count": 259,
   "id": "db2d5373",
   "metadata": {},
   "outputs": [
    {
     "ename": "NameError",
     "evalue": "name 'a' is not defined",
     "output_type": "error",
     "traceback": [
      "\u001b[1;31m---------------------------------------------------------------------------\u001b[0m",
      "\u001b[1;31mNameError\u001b[0m                                 Traceback (most recent call last)",
      "\u001b[1;32m~\\AppData\\Local\\Temp/ipykernel_2400/2167009006.py\u001b[0m in \u001b[0;36m<module>\u001b[1;34m\u001b[0m\n\u001b[1;32m----> 1\u001b[1;33m \u001b[0ma\u001b[0m\u001b[1;33m\u001b[0m\u001b[1;33m\u001b[0m\u001b[0m\n\u001b[0m",
      "\u001b[1;31mNameError\u001b[0m: name 'a' is not defined"
     ]
    }
   ],
   "source": [
    "a"
   ]
  },
  {
   "cell_type": "markdown",
   "id": "47196b48",
   "metadata": {},
   "source": [
    "# types of python Variable scope\n",
    "1. built-in\n",
    "2. global scope\n",
    "3. enclosing scope\n",
    "4. local scope"
   ]
  },
  {
   "cell_type": "code",
   "execution_count": 260,
   "id": "23d5ca1c",
   "metadata": {},
   "outputs": [],
   "source": [
    "# local scope\n",
    "a = 0\n",
    "def func():\n",
    "    print(a)\n",
    "    a= 1\n",
    "    print(a)"
   ]
  },
  {
   "cell_type": "code",
   "execution_count": 261,
   "id": "6bb282e2",
   "metadata": {},
   "outputs": [
    {
     "ename": "UnboundLocalError",
     "evalue": "local variable 'a' referenced before assignment",
     "output_type": "error",
     "traceback": [
      "\u001b[1;31m---------------------------------------------------------------------------\u001b[0m",
      "\u001b[1;31mUnboundLocalError\u001b[0m                         Traceback (most recent call last)",
      "\u001b[1;32m~\\AppData\\Local\\Temp/ipykernel_2400/2078144611.py\u001b[0m in \u001b[0;36m<module>\u001b[1;34m\u001b[0m\n\u001b[1;32m----> 1\u001b[1;33m \u001b[0mfunc\u001b[0m\u001b[1;33m(\u001b[0m\u001b[1;33m)\u001b[0m\u001b[1;33m\u001b[0m\u001b[1;33m\u001b[0m\u001b[0m\n\u001b[0m",
      "\u001b[1;32m~\\AppData\\Local\\Temp/ipykernel_2400/519944208.py\u001b[0m in \u001b[0;36mfunc\u001b[1;34m()\u001b[0m\n\u001b[0;32m      2\u001b[0m \u001b[0ma\u001b[0m \u001b[1;33m=\u001b[0m \u001b[1;36m0\u001b[0m\u001b[1;33m\u001b[0m\u001b[1;33m\u001b[0m\u001b[0m\n\u001b[0;32m      3\u001b[0m \u001b[1;32mdef\u001b[0m \u001b[0mfunc\u001b[0m\u001b[1;33m(\u001b[0m\u001b[1;33m)\u001b[0m\u001b[1;33m:\u001b[0m\u001b[1;33m\u001b[0m\u001b[1;33m\u001b[0m\u001b[0m\n\u001b[1;32m----> 4\u001b[1;33m     \u001b[0mprint\u001b[0m\u001b[1;33m(\u001b[0m\u001b[0ma\u001b[0m\u001b[1;33m)\u001b[0m\u001b[1;33m\u001b[0m\u001b[1;33m\u001b[0m\u001b[0m\n\u001b[0m\u001b[0;32m      5\u001b[0m     \u001b[0ma\u001b[0m\u001b[1;33m=\u001b[0m \u001b[1;36m1\u001b[0m\u001b[1;33m\u001b[0m\u001b[1;33m\u001b[0m\u001b[0m\n\u001b[0;32m      6\u001b[0m     \u001b[0mprint\u001b[0m\u001b[1;33m(\u001b[0m\u001b[0ma\u001b[0m\u001b[1;33m)\u001b[0m\u001b[1;33m\u001b[0m\u001b[1;33m\u001b[0m\u001b[0m\n",
      "\u001b[1;31mUnboundLocalError\u001b[0m: local variable 'a' referenced before assignment"
     ]
    }
   ],
   "source": [
    "func()"
   ]
  },
  {
   "cell_type": "code",
   "execution_count": 262,
   "id": "a0228f68",
   "metadata": {},
   "outputs": [],
   "source": [
    "def func(a=0):\n",
    "    a+=1\n",
    "    print(a)"
   ]
  },
  {
   "cell_type": "code",
   "execution_count": 263,
   "id": "09714f51",
   "metadata": {},
   "outputs": [
    {
     "name": "stdout",
     "output_type": "stream",
     "text": [
      "1\n"
     ]
    }
   ],
   "source": [
    "func()"
   ]
  },
  {
   "cell_type": "code",
   "execution_count": 264,
   "id": "944e3017",
   "metadata": {},
   "outputs": [],
   "source": [
    "def addition(a,b):\n",
    "    return a+b"
   ]
  },
  {
   "cell_type": "code",
   "execution_count": 265,
   "id": "6f6cf771",
   "metadata": {},
   "outputs": [
    {
     "data": {
      "text/plain": [
       "11"
      ]
     },
     "execution_count": 265,
     "metadata": {},
     "output_type": "execute_result"
    }
   ],
   "source": [
    "addition(5,6)"
   ]
  },
  {
   "cell_type": "code",
   "execution_count": 266,
   "id": "1b40d533",
   "metadata": {},
   "outputs": [
    {
     "data": {
      "text/plain": [
       "17"
      ]
     },
     "execution_count": 266,
     "metadata": {},
     "output_type": "execute_result"
    }
   ],
   "source": [
    "addition(9,8)"
   ]
  },
  {
   "cell_type": "code",
   "execution_count": 267,
   "id": "f2c93829",
   "metadata": {},
   "outputs": [
    {
     "name": "stdout",
     "output_type": "stream",
     "text": [
      "1\n",
      "2\n",
      "1\n"
     ]
    }
   ],
   "source": [
    "def red():\n",
    "    a = 1\n",
    "    def blue():\n",
    "        b = 2\n",
    "        print(a)\n",
    "        print(b)\n",
    "    blue()\n",
    "    print(a)\n",
    "red()"
   ]
  },
  {
   "cell_type": "code",
   "execution_count": 268,
   "id": "8df5eb9f",
   "metadata": {},
   "outputs": [
    {
     "name": "stdout",
     "output_type": "stream",
     "text": [
      "2\n"
     ]
    }
   ],
   "source": [
    "# Built-in scope\n",
    "a = 1\n",
    "def counter():\n",
    "    a= 2\n",
    "    print(a)\n",
    "counter()"
   ]
  },
  {
   "cell_type": "code",
   "execution_count": 269,
   "id": "f303eae8",
   "metadata": {},
   "outputs": [
    {
     "data": {
      "text/plain": [
       "1"
      ]
     },
     "execution_count": 269,
     "metadata": {},
     "output_type": "execute_result"
    }
   ],
   "source": [
    "a"
   ]
  },
  {
   "cell_type": "code",
   "execution_count": 270,
   "id": "c8579b15",
   "metadata": {},
   "outputs": [],
   "source": [
    "a = 2\n",
    "def counter():\n",
    "    global a\n",
    "    a = 3\n",
    "    print(a)\n",
    "    "
   ]
  },
  {
   "cell_type": "code",
   "execution_count": 271,
   "id": "1a47d6ff",
   "metadata": {},
   "outputs": [
    {
     "name": "stdout",
     "output_type": "stream",
     "text": [
      "3\n"
     ]
    }
   ],
   "source": [
    "counter()"
   ]
  },
  {
   "cell_type": "code",
   "execution_count": 272,
   "id": "f96c2178",
   "metadata": {},
   "outputs": [
    {
     "name": "stdout",
     "output_type": "stream",
     "text": [
      "2\n"
     ]
    }
   ],
   "source": [
    "inst  = 1\n",
    "def show():\n",
    "    inst = 2\n",
    "    print(inst)\n",
    "show()"
   ]
  },
  {
   "cell_type": "code",
   "execution_count": 274,
   "id": "541b39b9",
   "metadata": {},
   "outputs": [
    {
     "name": "stdout",
     "output_type": "stream",
     "text": [
      "1\n"
     ]
    }
   ],
   "source": [
    "insta = 0\n",
    "def show():\n",
    "    global insta\n",
    "    insta = 1\n",
    "    print(insta)\n",
    "show()\n",
    "    "
   ]
  },
  {
   "cell_type": "code",
   "execution_count": 275,
   "id": "0f782d53",
   "metadata": {},
   "outputs": [
    {
     "name": "stdout",
     "output_type": "stream",
     "text": [
      "2\n",
      "2\n",
      "1\n"
     ]
    }
   ],
   "source": [
    "def red():\n",
    "    a = 1\n",
    "    def blue():\n",
    "        a = 2\n",
    "        b = 2\n",
    "        print(a)\n",
    "        print(b)\n",
    "    blue()\n",
    "    print(a)\n",
    "red()"
   ]
  },
  {
   "cell_type": "code",
   "execution_count": 276,
   "id": "3b22022e",
   "metadata": {},
   "outputs": [
    {
     "name": "stdout",
     "output_type": "stream",
     "text": [
      "2\n",
      "2\n",
      "2\n"
     ]
    }
   ],
   "source": [
    "def red():\n",
    "    a = 1\n",
    "    def blue():\n",
    "        nonlocal a\n",
    "        a = 2\n",
    "        b = 2\n",
    "        print(a)\n",
    "        print(b)\n",
    "    blue()\n",
    "    print(a)\n",
    "red()"
   ]
  },
  {
   "cell_type": "code",
   "execution_count": 278,
   "id": "1de7792f",
   "metadata": {},
   "outputs": [
    {
     "name": "stdout",
     "output_type": "stream",
     "text": [
      "inner mainkant\n",
      "inner function 32\n",
      "inner function 91000\n",
      "outer mainkant\n",
      "outer function 32\n",
      "outer function 50000\n"
     ]
    }
   ],
   "source": [
    "def home():\n",
    "    name = \"manjunath\"\n",
    "    age = 32\n",
    "    salary = 50000\n",
    "    def work():\n",
    "        global salary \n",
    "        nonlocal name\n",
    "        name = 'mainkant'\n",
    "        salary = 91000\n",
    "        print(\"inner\",name)\n",
    "        print(\"inner function\",age)\n",
    "        print(\"inner function\",salary)\n",
    "    work()\n",
    "    print(\"outer\",name)\n",
    "    print(\"outer function\",age)\n",
    "    print(\"outer function\",salary)\n",
    "home()"
   ]
  },
  {
   "cell_type": "markdown",
   "id": "050677ac",
   "metadata": {},
   "source": [
    "# identifiers in python"
   ]
  },
  {
   "cell_type": "code",
   "execution_count": 279,
   "id": "d6efa0ba",
   "metadata": {},
   "outputs": [],
   "source": [
    "# today we learn about identifiers in python and how to name them\n",
    "# lowercase letters\n",
    "# uppercase letters\n",
    "# digits (0 to 9)\n",
    "# underscore(_)\n",
    "myvar = 35\n",
    "var_3 = 24\n",
    "thi_works_too = 'name'"
   ]
  },
  {
   "cell_type": "code",
   "execution_count": 280,
   "id": "c05c1ce2",
   "metadata": {},
   "outputs": [
    {
     "data": {
      "text/plain": [
       "'name'"
      ]
     },
     "execution_count": 280,
     "metadata": {},
     "output_type": "execute_result"
    }
   ],
   "source": [
    "thi_works_too"
   ]
  },
  {
   "cell_type": "code",
   "execution_count": 281,
   "id": "1088c7b9",
   "metadata": {},
   "outputs": [
    {
     "data": {
      "text/plain": [
       "24"
      ]
     },
     "execution_count": 281,
     "metadata": {},
     "output_type": "execute_result"
    }
   ],
   "source": [
    "var_3"
   ]
  },
  {
   "cell_type": "code",
   "execution_count": 282,
   "id": "ff2776cc",
   "metadata": {},
   "outputs": [
    {
     "data": {
      "text/plain": [
       "35"
      ]
     },
     "execution_count": 282,
     "metadata": {},
     "output_type": "execute_result"
    }
   ],
   "source": [
    "myvar"
   ]
  },
  {
   "cell_type": "code",
   "execution_count": 286,
   "id": "ae969601",
   "metadata": {},
   "outputs": [],
   "source": [
    "___9lives = 5 # identifies cannot beigin with a digit"
   ]
  },
  {
   "cell_type": "code",
   "execution_count": 287,
   "id": "7e0ac51e",
   "metadata": {},
   "outputs": [],
   "source": [
    "lives9 = 5"
   ]
  },
  {
   "cell_type": "code",
   "execution_count": 288,
   "id": "5e7329ae",
   "metadata": {},
   "outputs": [
    {
     "data": {
      "text/plain": [
       "5"
      ]
     },
     "execution_count": 288,
     "metadata": {},
     "output_type": "execute_result"
    }
   ],
   "source": [
    "___9lives"
   ]
  },
  {
   "cell_type": "code",
   "execution_count": 289,
   "id": "26c92383",
   "metadata": {},
   "outputs": [
    {
     "data": {
      "text/plain": [
       "5"
      ]
     },
     "execution_count": 289,
     "metadata": {},
     "output_type": "execute_result"
    }
   ],
   "source": [
    "lives9"
   ]
  },
  {
   "cell_type": "code",
   "execution_count": 291,
   "id": "064d321d",
   "metadata": {},
   "outputs": [
    {
     "ename": "SyntaxError",
     "evalue": "invalid syntax (Temp/ipykernel_2400/4019531170.py, line 1)",
     "output_type": "error",
     "traceback": [
      "\u001b[1;36m  File \u001b[1;32m\"C:\\Users\\yaraz\\AppData\\Local\\Temp/ipykernel_2400/4019531170.py\"\u001b[1;36m, line \u001b[1;32m1\u001b[0m\n\u001b[1;33m    9lives = 'name' # invalid syntax in the mirror\u001b[0m\n\u001b[1;37m     ^\u001b[0m\n\u001b[1;31mSyntaxError\u001b[0m\u001b[1;31m:\u001b[0m invalid syntax\n"
     ]
    }
   ],
   "source": [
    "9lives = 'name' # invalid syntax in the mirror"
   ]
  },
  {
   "cell_type": "code",
   "execution_count": 296,
   "id": "40474963",
   "metadata": {},
   "outputs": [],
   "source": [
    "# we cannot use special symbols in the identifier name\n",
    "!\n",
    "#@\n",
    "#\n",
    "#$\n",
    "#%"
   ]
  },
  {
   "cell_type": "code",
   "execution_count": 297,
   "id": "2a47829d",
   "metadata": {},
   "outputs": [],
   "source": [
    "!"
   ]
  },
  {
   "cell_type": "code",
   "execution_count": 298,
   "id": "ef87bad5",
   "metadata": {},
   "outputs": [
    {
     "ename": "SyntaxError",
     "evalue": "invalid syntax (Temp/ipykernel_2400/445649058.py, line 1)",
     "output_type": "error",
     "traceback": [
      "\u001b[1;36m  File \u001b[1;32m\"C:\\Users\\yaraz\\AppData\\Local\\Temp/ipykernel_2400/445649058.py\"\u001b[1;36m, line \u001b[1;32m1\u001b[0m\n\u001b[1;33m    print(!)\u001b[0m\n\u001b[1;37m          ^\u001b[0m\n\u001b[1;31mSyntaxError\u001b[0m\u001b[1;31m:\u001b[0m invalid syntax\n"
     ]
    }
   ],
   "source": [
    "print(!)"
   ]
  },
  {
   "cell_type": "code",
   "execution_count": 300,
   "id": "821b2621",
   "metadata": {},
   "outputs": [
    {
     "ename": "SyntaxError",
     "evalue": "invalid syntax (Temp/ipykernel_2400/1068576962.py, line 2)",
     "output_type": "error",
     "traceback": [
      "\u001b[1;36m  File \u001b[1;32m\"C:\\Users\\yaraz\\AppData\\Local\\Temp/ipykernel_2400/1068576962.py\"\u001b[1;36m, line \u001b[1;32m2\u001b[0m\n\u001b[1;33m    nonlocal = 2\u001b[0m\n\u001b[1;37m             ^\u001b[0m\n\u001b[1;31mSyntaxError\u001b[0m\u001b[1;31m:\u001b[0m invalid syntax\n"
     ]
    }
   ],
   "source": [
    "# we used keyword as an identifier\n",
    "nonlocal = 2"
   ]
  },
  {
   "cell_type": "code",
   "execution_count": 301,
   "id": "040b9204",
   "metadata": {},
   "outputs": [],
   "source": [
    "import keyword"
   ]
  },
  {
   "cell_type": "code",
   "execution_count": 302,
   "id": "e34fb6df",
   "metadata": {},
   "outputs": [
    {
     "data": {
      "text/plain": [
       "False"
      ]
     },
     "execution_count": 302,
     "metadata": {},
     "output_type": "execute_result"
    }
   ],
   "source": [
    "keyword.iskeyword('_$$_')"
   ]
  },
  {
   "cell_type": "code",
   "execution_count": 303,
   "id": "8fedc276",
   "metadata": {},
   "outputs": [
    {
     "data": {
      "text/plain": [
       "True"
      ]
     },
     "execution_count": 303,
     "metadata": {},
     "output_type": "execute_result"
    }
   ],
   "source": [
    "keyword.iskeyword('return')"
   ]
  },
  {
   "cell_type": "code",
   "execution_count": 304,
   "id": "f2be2ab4",
   "metadata": {},
   "outputs": [
    {
     "data": {
      "text/plain": [
       "True"
      ]
     },
     "execution_count": 304,
     "metadata": {},
     "output_type": "execute_result"
    }
   ],
   "source": [
    "keyword.iskeyword('True')"
   ]
  },
  {
   "cell_type": "code",
   "execution_count": 305,
   "id": "bcc7080d",
   "metadata": {},
   "outputs": [
    {
     "data": {
      "text/plain": [
       "False"
      ]
     },
     "execution_count": 305,
     "metadata": {},
     "output_type": "execute_result"
    }
   ],
   "source": [
    "keyword.iskeyword('Flase')"
   ]
  },
  {
   "cell_type": "code",
   "execution_count": 306,
   "id": "59781987",
   "metadata": {},
   "outputs": [
    {
     "data": {
      "text/plain": [
       "False"
      ]
     },
     "execution_count": 306,
     "metadata": {},
     "output_type": "execute_result"
    }
   ],
   "source": [
    "keyword.iskeyword('flase')"
   ]
  },
  {
   "cell_type": "code",
   "execution_count": 307,
   "id": "55460999",
   "metadata": {},
   "outputs": [
    {
     "data": {
      "text/plain": [
       "True"
      ]
     },
     "execution_count": 307,
     "metadata": {},
     "output_type": "execute_result"
    }
   ],
   "source": [
    "keyword.iskeyword('None')"
   ]
  },
  {
   "cell_type": "code",
   "execution_count": 308,
   "id": "00c129c5",
   "metadata": {},
   "outputs": [],
   "source": [
    "name = None"
   ]
  },
  {
   "cell_type": "code",
   "execution_count": 309,
   "id": "ef619936",
   "metadata": {},
   "outputs": [],
   "source": [
    "name"
   ]
  },
  {
   "cell_type": "code",
   "execution_count": 310,
   "id": "ec4bc168",
   "metadata": {},
   "outputs": [
    {
     "name": "stdout",
     "output_type": "stream",
     "text": [
      "None\n"
     ]
    }
   ],
   "source": [
    "print(name)"
   ]
  },
  {
   "cell_type": "code",
   "execution_count": 315,
   "id": "fc975f88",
   "metadata": {},
   "outputs": [
    {
     "name": "stdout",
     "output_type": "stream",
     "text": [
      "my name is print\n"
     ]
    }
   ],
   "source": [
    "a = 10\n",
    "b = 20\n",
    "if a < b:\n",
    "    print(\"my name is print\")\n",
    "else:\n",
    "    print(\"flase\")"
   ]
  },
  {
   "cell_type": "code",
   "execution_count": 316,
   "id": "5da8da1d",
   "metadata": {},
   "outputs": [
    {
     "data": {
      "text/plain": [
       "False"
      ]
     },
     "execution_count": 316,
     "metadata": {},
     "output_type": "execute_result"
    }
   ],
   "source": [
    "'__$$__'.isidentifier()"
   ]
  },
  {
   "cell_type": "code",
   "execution_count": 317,
   "id": "d01bff8f",
   "metadata": {},
   "outputs": [
    {
     "data": {
      "text/plain": [
       "True"
      ]
     },
     "execution_count": 317,
     "metadata": {},
     "output_type": "execute_result"
    }
   ],
   "source": [
    "'True'.isidentifier()"
   ]
  },
  {
   "cell_type": "code",
   "execution_count": 318,
   "id": "eff3f3d5",
   "metadata": {},
   "outputs": [
    {
     "data": {
      "text/plain": [
       "True"
      ]
     },
     "execution_count": 318,
     "metadata": {},
     "output_type": "execute_result"
    }
   ],
   "source": [
    "\"None\".isidentifier()"
   ]
  },
  {
   "cell_type": "code",
   "execution_count": 319,
   "id": "d95cfad7",
   "metadata": {},
   "outputs": [
    {
     "data": {
      "text/plain": [
       "True"
      ]
     },
     "execution_count": 319,
     "metadata": {},
     "output_type": "execute_result"
    }
   ],
   "source": [
    "'__99__'.isidentifier()"
   ]
  },
  {
   "cell_type": "code",
   "execution_count": 320,
   "id": "8a3ca512",
   "metadata": {},
   "outputs": [
    {
     "data": {
      "text/plain": [
       "False"
      ]
     },
     "execution_count": 320,
     "metadata": {},
     "output_type": "execute_result"
    }
   ],
   "source": [
    "'9lives'.isidentifier()"
   ]
  },
  {
   "cell_type": "markdown",
   "id": "c41e83c5",
   "metadata": {},
   "source": [
    "# Reserved class of python identifiers"
   ]
  },
  {
   "cell_type": "markdown",
   "id": "40b806b6",
   "metadata": {},
   "source": [
    "1. single leading underscore(_*) # privete \n",
    "2. leading and trailing double underscore(__*__) \n",
    "3. leading double underscore(__*)"
   ]
  },
  {
   "cell_type": "markdown",
   "id": "aed11adc",
   "metadata": {},
   "source": [
    "# python numeric data types - int , float , complex\n",
    "1. int\n",
    "2. float\n",
    "3. complex\n",
    "4. conversion\n",
    "5. decimal module\n",
    "6. fractopm module\n",
    "7. math module"
   ]
  },
  {
   "cell_type": "code",
   "execution_count": 321,
   "id": "c0e86655",
   "metadata": {},
   "outputs": [
    {
     "name": "stdout",
     "output_type": "stream",
     "text": [
      "7\n"
     ]
    }
   ],
   "source": [
    "# python int , python float , python complex\n",
    "# long is no longer in python\n",
    "# None = the None keyword indicates the absence of a value\n",
    "a = 7\n",
    "print(a)"
   ]
  },
  {
   "cell_type": "code",
   "execution_count": 322,
   "id": "3f2280a0",
   "metadata": {},
   "outputs": [
    {
     "name": "stdout",
     "output_type": "stream",
     "text": [
      "9999999999999999999999999999999999999999999\n"
     ]
    }
   ],
   "source": [
    "a = 9999999999999999999999999999999999999999999\n",
    "print(a)"
   ]
  },
  {
   "cell_type": "markdown",
   "id": "1bb56319",
   "metadata": {},
   "source": [
    "# python int\n",
    "1. type()\n",
    "2. isinstance()\n",
    "3. exponential"
   ]
  },
  {
   "cell_type": "code",
   "execution_count": 323,
   "id": "8b45da20",
   "metadata": {},
   "outputs": [
    {
     "name": "stdout",
     "output_type": "stream",
     "text": [
      "9999999999999999999999999999999999999999999999999999999999999999999999999999999999999999999999999999999999\n"
     ]
    }
   ],
   "source": [
    "# python type() function\n",
    "a = 9999999999999999999999999999999999999999999999999999999999999999999999999999999999999999999999999999999999\n",
    "print(a)"
   ]
  },
  {
   "cell_type": "code",
   "execution_count": 324,
   "id": "3c419058",
   "metadata": {},
   "outputs": [
    {
     "data": {
      "text/plain": [
       "int"
      ]
     },
     "execution_count": 324,
     "metadata": {},
     "output_type": "execute_result"
    }
   ],
   "source": [
    "type(a)"
   ]
  },
  {
   "cell_type": "code",
   "execution_count": 325,
   "id": "e99ac4b8",
   "metadata": {},
   "outputs": [
    {
     "name": "stdout",
     "output_type": "stream",
     "text": [
      "<class 'int'>\n"
     ]
    }
   ],
   "source": [
    "print(type(a))"
   ]
  },
  {
   "cell_type": "code",
   "execution_count": 327,
   "id": "16ca31d6",
   "metadata": {},
   "outputs": [
    {
     "data": {
      "text/plain": [
       "False"
      ]
     },
     "execution_count": 327,
     "metadata": {},
     "output_type": "execute_result"
    }
   ],
   "source": [
    "# python isinstance() function\n",
    "# it takes two arguments\n",
    "# it returns true or false\n",
    "isinstance(a,bool)"
   ]
  },
  {
   "cell_type": "code",
   "execution_count": 328,
   "id": "0997cd3b",
   "metadata": {},
   "outputs": [
    {
     "data": {
      "text/plain": [
       "True"
      ]
     },
     "execution_count": 328,
     "metadata": {},
     "output_type": "execute_result"
    }
   ],
   "source": [
    "isinstance(a,int)"
   ]
  },
  {
   "cell_type": "code",
   "execution_count": 329,
   "id": "5d2ed04a",
   "metadata": {},
   "outputs": [
    {
     "name": "stdout",
     "output_type": "stream",
     "text": [
      "200000.0\n"
     ]
    }
   ],
   "source": [
    "# python exponential numbers\n",
    "print(2e5)"
   ]
  },
  {
   "cell_type": "code",
   "execution_count": 330,
   "id": "1a23cf44",
   "metadata": {},
   "outputs": [
    {
     "name": "stdout",
     "output_type": "stream",
     "text": [
      "50.0\n"
     ]
    }
   ],
   "source": [
    "print(5e1)"
   ]
  },
  {
   "cell_type": "code",
   "execution_count": 331,
   "id": "d8bdee6f",
   "metadata": {},
   "outputs": [
    {
     "ename": "SyntaxError",
     "evalue": "invalid syntax (Temp/ipykernel_2400/3180584618.py, line 1)",
     "output_type": "error",
     "traceback": [
      "\u001b[1;36m  File \u001b[1;32m\"C:\\Users\\yaraz\\AppData\\Local\\Temp/ipykernel_2400/3180584618.py\"\u001b[1;36m, line \u001b[1;32m1\u001b[0m\n\u001b[1;33m    print(5e)\u001b[0m\n\u001b[1;37m           ^\u001b[0m\n\u001b[1;31mSyntaxError\u001b[0m\u001b[1;31m:\u001b[0m invalid syntax\n"
     ]
    }
   ],
   "source": [
    "print(5e)"
   ]
  },
  {
   "cell_type": "code",
   "execution_count": 332,
   "id": "82570d04",
   "metadata": {},
   "outputs": [
    {
     "name": "stdout",
     "output_type": "stream",
     "text": [
      "500.0\n"
     ]
    }
   ],
   "source": [
    "print(5e2)"
   ]
  },
  {
   "cell_type": "code",
   "execution_count": 333,
   "id": "e4f3c523",
   "metadata": {},
   "outputs": [],
   "source": [
    "from math import pi"
   ]
  },
  {
   "cell_type": "code",
   "execution_count": 334,
   "id": "7cc8f3ab",
   "metadata": {},
   "outputs": [
    {
     "data": {
      "text/plain": [
       "3.141592653589793"
      ]
     },
     "execution_count": 334,
     "metadata": {},
     "output_type": "execute_result"
    }
   ],
   "source": [
    "pi"
   ]
  },
  {
   "cell_type": "code",
   "execution_count": 335,
   "id": "b8bcb852",
   "metadata": {},
   "outputs": [
    {
     "data": {
      "text/plain": [
       "float"
      ]
     },
     "execution_count": 335,
     "metadata": {},
     "output_type": "execute_result"
    }
   ],
   "source": [
    "type(pi)"
   ]
  },
  {
   "cell_type": "code",
   "execution_count": 336,
   "id": "271ddda2",
   "metadata": {},
   "outputs": [
    {
     "name": "stdout",
     "output_type": "stream",
     "text": [
      "1.1111111119\n"
     ]
    }
   ],
   "source": [
    "a = 1.1111111119\n",
    "print(a)"
   ]
  },
  {
   "cell_type": "code",
   "execution_count": 337,
   "id": "12eeea9d",
   "metadata": {},
   "outputs": [
    {
     "data": {
      "text/plain": [
       "float"
      ]
     },
     "execution_count": 337,
     "metadata": {},
     "output_type": "execute_result"
    }
   ],
   "source": [
    "type(a)"
   ]
  },
  {
   "cell_type": "code",
   "execution_count": 338,
   "id": "9585c867",
   "metadata": {},
   "outputs": [],
   "source": [
    "# python complex numbers\n",
    "a = 2+3j"
   ]
  },
  {
   "cell_type": "code",
   "execution_count": 339,
   "id": "242c4f8a",
   "metadata": {},
   "outputs": [
    {
     "name": "stdout",
     "output_type": "stream",
     "text": [
      "(2+3j)\n"
     ]
    }
   ],
   "source": [
    "print(a)"
   ]
  },
  {
   "cell_type": "code",
   "execution_count": 340,
   "id": "17cc1077",
   "metadata": {},
   "outputs": [],
   "source": [
    "# coeffcient to the imaginary part\n",
    "a = 2+3j"
   ]
  },
  {
   "cell_type": "code",
   "execution_count": 341,
   "id": "691df510",
   "metadata": {},
   "outputs": [
    {
     "data": {
      "text/plain": [
       "(2+3j)"
      ]
     },
     "execution_count": 341,
     "metadata": {},
     "output_type": "execute_result"
    }
   ],
   "source": [
    "a"
   ]
  },
  {
   "cell_type": "code",
   "execution_count": 342,
   "id": "85f8b90e",
   "metadata": {},
   "outputs": [
    {
     "ename": "NameError",
     "evalue": "name 'j' is not defined",
     "output_type": "error",
     "traceback": [
      "\u001b[1;31m---------------------------------------------------------------------------\u001b[0m",
      "\u001b[1;31mNameError\u001b[0m                                 Traceback (most recent call last)",
      "\u001b[1;32m~\\AppData\\Local\\Temp/ipykernel_2400/1420379891.py\u001b[0m in \u001b[0;36m<module>\u001b[1;34m\u001b[0m\n\u001b[1;32m----> 1\u001b[1;33m \u001b[0ma\u001b[0m \u001b[1;33m=\u001b[0m \u001b[1;36m2\u001b[0m\u001b[1;33m+\u001b[0m\u001b[0mj\u001b[0m\u001b[1;33m\u001b[0m\u001b[1;33m\u001b[0m\u001b[0m\n\u001b[0m",
      "\u001b[1;31mNameError\u001b[0m: name 'j' is not defined"
     ]
    }
   ],
   "source": [
    "a = 2+j"
   ]
  },
  {
   "cell_type": "code",
   "execution_count": 343,
   "id": "d7a0b00f",
   "metadata": {},
   "outputs": [
    {
     "name": "stdout",
     "output_type": "stream",
     "text": [
      "(2+1j)\n"
     ]
    }
   ],
   "source": [
    "a = 2+1j\n",
    "print(a)"
   ]
  },
  {
   "cell_type": "markdown",
   "id": "d017bcb0",
   "metadata": {},
   "source": [
    "# writing numbers in binary, octal,and hexadecimal in python\n",
    "1. binary\n",
    "2. octal\n",
    "3. hexadecimal"
   ]
  },
  {
   "cell_type": "code",
   "execution_count": 346,
   "id": "3480fc88",
   "metadata": {},
   "outputs": [
    {
     "name": "stdout",
     "output_type": "stream",
     "text": [
      "7\n"
     ]
    }
   ],
   "source": [
    "# use the prefix 0b or 0B\n",
    "print(0b111)"
   ]
  },
  {
   "cell_type": "code",
   "execution_count": 347,
   "id": "320db298",
   "metadata": {},
   "outputs": [
    {
     "data": {
      "text/plain": [
       "2"
      ]
     },
     "execution_count": 347,
     "metadata": {},
     "output_type": "execute_result"
    }
   ],
   "source": [
    "int(0b10)"
   ]
  },
  {
   "cell_type": "code",
   "execution_count": 348,
   "id": "12be690f",
   "metadata": {},
   "outputs": [
    {
     "name": "stdout",
     "output_type": "stream",
     "text": [
      "8\n"
     ]
    }
   ],
   "source": [
    "print(0o10)"
   ]
  },
  {
   "cell_type": "code",
   "execution_count": 350,
   "id": "41bb614b",
   "metadata": {},
   "outputs": [
    {
     "name": "stdout",
     "output_type": "stream",
     "text": [
      "9\n"
     ]
    }
   ],
   "source": [
    "print(0o11)"
   ]
  },
  {
   "cell_type": "code",
   "execution_count": 351,
   "id": "8e804bf2",
   "metadata": {},
   "outputs": [
    {
     "name": "stdout",
     "output_type": "stream",
     "text": [
      "13\n"
     ]
    }
   ],
   "source": [
    "print(0o15)"
   ]
  },
  {
   "cell_type": "code",
   "execution_count": 352,
   "id": "afaa1ae7",
   "metadata": {},
   "outputs": [
    {
     "data": {
      "text/plain": [
       "2.0"
      ]
     },
     "execution_count": 352,
     "metadata": {},
     "output_type": "execute_result"
    }
   ],
   "source": [
    "float(0B10)"
   ]
  },
  {
   "cell_type": "code",
   "execution_count": 354,
   "id": "228bf1c2",
   "metadata": {},
   "outputs": [
    {
     "name": "stdout",
     "output_type": "stream",
     "text": [
      "255\n"
     ]
    }
   ],
   "source": [
    "print(0xff)"
   ]
  },
  {
   "cell_type": "code",
   "execution_count": 355,
   "id": "caafe814",
   "metadata": {},
   "outputs": [
    {
     "name": "stdout",
     "output_type": "stream",
     "text": [
      "254\n"
     ]
    }
   ],
   "source": [
    "print(0xfe)"
   ]
  },
  {
   "cell_type": "markdown",
   "id": "7b7727c6",
   "metadata": {},
   "source": [
    "# python Conversion function\n",
    "1. hex()\n",
    "2. int()\n",
    "3. float()\n",
    "4. oct()\n",
    "5. bin()\n",
    "6. complex()"
   ]
  },
  {
   "cell_type": "code",
   "execution_count": 356,
   "id": "679682c6",
   "metadata": {},
   "outputs": [],
   "source": [
    "# int() in python\n",
    "## python int() function can convert another numeric type\n"
   ]
  },
  {
   "cell_type": "code",
   "execution_count": 357,
   "id": "f611c3e3",
   "metadata": {},
   "outputs": [
    {
     "data": {
      "text/plain": [
       "7"
      ]
     },
     "execution_count": 357,
     "metadata": {},
     "output_type": "execute_result"
    }
   ],
   "source": [
    "int(7)"
   ]
  },
  {
   "cell_type": "code",
   "execution_count": 358,
   "id": "bd75cd03",
   "metadata": {},
   "outputs": [
    {
     "data": {
      "text/plain": [
       "7"
      ]
     },
     "execution_count": 358,
     "metadata": {},
     "output_type": "execute_result"
    }
   ],
   "source": [
    "int(7.7)"
   ]
  },
  {
   "cell_type": "markdown",
   "id": "703c4fff",
   "metadata": {},
   "source": [
    "# python String Tutorial python funtion"
   ]
  },
  {
   "cell_type": "code",
   "execution_count": 2,
   "id": "f6925398",
   "metadata": {},
   "outputs": [
    {
     "name": "stdout",
     "output_type": "stream",
     "text": [
      "<class 'str'>\n"
     ]
    }
   ],
   "source": [
    "# python string is a sequence of charecter\n",
    "# built-in class \"str\" for handling python string\n",
    "print(type(\"dogs are love\"))"
   ]
  },
  {
   "cell_type": "code",
   "execution_count": 3,
   "id": "83b65ecf",
   "metadata": {},
   "outputs": [],
   "source": [
    "string = \"dogs are love\""
   ]
  },
  {
   "cell_type": "code",
   "execution_count": 4,
   "id": "7279194c",
   "metadata": {},
   "outputs": [
    {
     "name": "stdout",
     "output_type": "stream",
     "text": [
      "dogs are love\n"
     ]
    }
   ],
   "source": [
    "print(string)"
   ]
  },
  {
   "cell_type": "code",
   "execution_count": 5,
   "id": "ea53ee2f",
   "metadata": {},
   "outputs": [],
   "source": [
    "string = 'dogs are love'"
   ]
  },
  {
   "cell_type": "code",
   "execution_count": 6,
   "id": "9dbf3ea4",
   "metadata": {},
   "outputs": [
    {
     "name": "stdout",
     "output_type": "stream",
     "text": [
      "dogs are love\n"
     ]
    }
   ],
   "source": [
    "print(string)"
   ]
  },
  {
   "cell_type": "code",
   "execution_count": 7,
   "id": "d919070f",
   "metadata": {},
   "outputs": [
    {
     "ename": "SyntaxError",
     "evalue": "EOL while scanning string literal (Temp/ipykernel_11876/1929962994.py, line 1)",
     "output_type": "error",
     "traceback": [
      "\u001b[1;36m  File \u001b[1;32m\"C:\\Users\\yaraz\\AppData\\Local\\Temp/ipykernel_11876/1929962994.py\"\u001b[1;36m, line \u001b[1;32m1\u001b[0m\n\u001b[1;33m    a = 'dogs are love\"\u001b[0m\n\u001b[1;37m                       ^\u001b[0m\n\u001b[1;31mSyntaxError\u001b[0m\u001b[1;31m:\u001b[0m EOL while scanning string literal\n"
     ]
    }
   ],
   "source": [
    "a = 'dogs are love\" # you cannot use single to begin double with end\n"
   ]
  },
  {
   "cell_type": "code",
   "execution_count": 8,
   "id": "39b9297f",
   "metadata": {},
   "outputs": [],
   "source": [
    "the = 'dogs are \"love\"'"
   ]
  },
  {
   "cell_type": "code",
   "execution_count": 9,
   "id": "6ead6b72",
   "metadata": {},
   "outputs": [
    {
     "name": "stdout",
     "output_type": "stream",
     "text": [
      "dogs are \"love\"\n"
     ]
    }
   ],
   "source": [
    "print(the)"
   ]
  },
  {
   "cell_type": "code",
   "execution_count": 10,
   "id": "961237a7",
   "metadata": {},
   "outputs": [],
   "source": [
    "a = \"dogs are 'love'\""
   ]
  },
  {
   "cell_type": "code",
   "execution_count": 11,
   "id": "3128b9c9",
   "metadata": {},
   "outputs": [
    {
     "data": {
      "text/plain": [
       "\"dogs are 'love'\""
      ]
     },
     "execution_count": 11,
     "metadata": {},
     "output_type": "execute_result"
    }
   ],
   "source": [
    "a"
   ]
  },
  {
   "cell_type": "code",
   "execution_count": 12,
   "id": "d82ae7b7",
   "metadata": {},
   "outputs": [],
   "source": [
    "string = \"'dogs' 'are''love'\""
   ]
  },
  {
   "cell_type": "code",
   "execution_count": 13,
   "id": "3b084704",
   "metadata": {},
   "outputs": [
    {
     "data": {
      "text/plain": [
       "\"'dogs' 'are''love'\""
      ]
     },
     "execution_count": 13,
     "metadata": {},
     "output_type": "execute_result"
    }
   ],
   "source": [
    "string"
   ]
  },
  {
   "cell_type": "code",
   "execution_count": 14,
   "id": "7a65be26",
   "metadata": {},
   "outputs": [],
   "source": [
    "a = \"\"\"hello \n",
    "wellcome\"\"\""
   ]
  },
  {
   "cell_type": "code",
   "execution_count": 15,
   "id": "e70f0688",
   "metadata": {},
   "outputs": [
    {
     "data": {
      "text/plain": [
       "'hello \\nwellcome'"
      ]
     },
     "execution_count": 15,
     "metadata": {},
     "output_type": "execute_result"
    }
   ],
   "source": [
    "a"
   ]
  },
  {
   "cell_type": "code",
   "execution_count": 16,
   "id": "8a02f3ff",
   "metadata": {},
   "outputs": [],
   "source": [
    "string = \"hello wellcome\""
   ]
  },
  {
   "cell_type": "code",
   "execution_count": 17,
   "id": "7d064d86",
   "metadata": {},
   "outputs": [
    {
     "data": {
      "text/plain": [
       "'hello wellcome'"
      ]
     },
     "execution_count": 17,
     "metadata": {},
     "output_type": "execute_result"
    }
   ],
   "source": [
    "string"
   ]
  },
  {
   "cell_type": "code",
   "execution_count": 18,
   "id": "9a4250df",
   "metadata": {},
   "outputs": [
    {
     "name": "stdout",
     "output_type": "stream",
     "text": [
      "hello wellcome\n"
     ]
    }
   ],
   "source": [
    "print(string)"
   ]
  },
  {
   "cell_type": "code",
   "execution_count": 19,
   "id": "e8542f85",
   "metadata": {},
   "outputs": [],
   "source": [
    "string = \"hello\\\n",
    "wellcome\\\n",
    "to yarazari\""
   ]
  },
  {
   "cell_type": "code",
   "execution_count": 20,
   "id": "86cef2bf",
   "metadata": {},
   "outputs": [
    {
     "data": {
      "text/plain": [
       "'hellowellcometo yarazari'"
      ]
     },
     "execution_count": 20,
     "metadata": {},
     "output_type": "execute_result"
    }
   ],
   "source": [
    "string"
   ]
  },
  {
   "cell_type": "markdown",
   "id": "aa2fbc52",
   "metadata": {},
   "source": [
    "# how to access the python string\n"
   ]
  },
  {
   "cell_type": "code",
   "execution_count": 21,
   "id": "3be70e5c",
   "metadata": {},
   "outputs": [],
   "source": [
    "# A string is immutable ,it can't be changed\n",
    "a = 'dogs'"
   ]
  },
  {
   "cell_type": "code",
   "execution_count": 22,
   "id": "7d5bb255",
   "metadata": {},
   "outputs": [
    {
     "data": {
      "text/plain": [
       "'d'"
      ]
     },
     "execution_count": 22,
     "metadata": {},
     "output_type": "execute_result"
    }
   ],
   "source": [
    "a[0]"
   ]
  },
  {
   "cell_type": "code",
   "execution_count": 23,
   "id": "482f3e5b",
   "metadata": {},
   "outputs": [
    {
     "data": {
      "text/plain": [
       "'o'"
      ]
     },
     "execution_count": 23,
     "metadata": {},
     "output_type": "execute_result"
    }
   ],
   "source": [
    "a[1]"
   ]
  },
  {
   "cell_type": "code",
   "execution_count": 24,
   "id": "6a5399e7",
   "metadata": {},
   "outputs": [
    {
     "data": {
      "text/plain": [
       "'g'"
      ]
     },
     "execution_count": 24,
     "metadata": {},
     "output_type": "execute_result"
    }
   ],
   "source": [
    "a[2]"
   ]
  },
  {
   "cell_type": "code",
   "execution_count": 25,
   "id": "1bc45fcf",
   "metadata": {},
   "outputs": [
    {
     "data": {
      "text/plain": [
       "'s'"
      ]
     },
     "execution_count": 25,
     "metadata": {},
     "output_type": "execute_result"
    }
   ],
   "source": [
    "a[3]"
   ]
  },
  {
   "cell_type": "code",
   "execution_count": 26,
   "id": "66ec062d",
   "metadata": {},
   "outputs": [
    {
     "ename": "IndexError",
     "evalue": "string index out of range",
     "output_type": "error",
     "traceback": [
      "\u001b[1;31m---------------------------------------------------------------------------\u001b[0m",
      "\u001b[1;31mIndexError\u001b[0m                                Traceback (most recent call last)",
      "\u001b[1;32m~\\AppData\\Local\\Temp/ipykernel_11876/3944406842.py\u001b[0m in \u001b[0;36m<module>\u001b[1;34m\u001b[0m\n\u001b[1;32m----> 1\u001b[1;33m \u001b[0ma\u001b[0m\u001b[1;33m[\u001b[0m\u001b[1;36m4\u001b[0m\u001b[1;33m]\u001b[0m\u001b[1;33m\u001b[0m\u001b[1;33m\u001b[0m\u001b[0m\n\u001b[0m",
      "\u001b[1;31mIndexError\u001b[0m: string index out of range"
     ]
    }
   ],
   "source": [
    "a[4]"
   ]
  },
  {
   "cell_type": "code",
   "execution_count": 27,
   "id": "519c7837",
   "metadata": {},
   "outputs": [
    {
     "ename": "TypeError",
     "evalue": "'str' object does not support item assignment",
     "output_type": "error",
     "traceback": [
      "\u001b[1;31m---------------------------------------------------------------------------\u001b[0m",
      "\u001b[1;31mTypeError\u001b[0m                                 Traceback (most recent call last)",
      "\u001b[1;32m~\\AppData\\Local\\Temp/ipykernel_11876/2195168045.py\u001b[0m in \u001b[0;36m<module>\u001b[1;34m\u001b[0m\n\u001b[1;32m----> 1\u001b[1;33m \u001b[0ma\u001b[0m\u001b[1;33m[\u001b[0m\u001b[1;36m0\u001b[0m\u001b[1;33m]\u001b[0m \u001b[1;33m=\u001b[0m \u001b[1;34m'h'\u001b[0m\u001b[1;33m\u001b[0m\u001b[1;33m\u001b[0m\u001b[0m\n\u001b[0m",
      "\u001b[1;31mTypeError\u001b[0m: 'str' object does not support item assignment"
     ]
    }
   ],
   "source": [
    "a[0] = 'h'"
   ]
  },
  {
   "cell_type": "code",
   "execution_count": 28,
   "id": "4f29e741",
   "metadata": {},
   "outputs": [],
   "source": [
    "string = \"dogs are love\""
   ]
  },
  {
   "cell_type": "code",
   "execution_count": 29,
   "id": "96554a26",
   "metadata": {},
   "outputs": [
    {
     "data": {
      "text/plain": [
       "'dogs are love'"
      ]
     },
     "execution_count": 29,
     "metadata": {},
     "output_type": "execute_result"
    }
   ],
   "source": [
    "string"
   ]
  },
  {
   "cell_type": "code",
   "execution_count": 30,
   "id": "0ce1a2f3",
   "metadata": {},
   "outputs": [
    {
     "name": "stdout",
     "output_type": "stream",
     "text": [
      "dogs are love\n"
     ]
    }
   ],
   "source": [
    "print(string)"
   ]
  },
  {
   "cell_type": "code",
   "execution_count": 31,
   "id": "62b2388f",
   "metadata": {},
   "outputs": [
    {
     "name": "stdout",
     "output_type": "stream",
     "text": [
      "dogs\n"
     ]
    }
   ],
   "source": [
    "print(a)"
   ]
  },
  {
   "cell_type": "markdown",
   "id": "cbf8cb4a",
   "metadata": {},
   "source": [
    "# displaying a single character"
   ]
  },
  {
   "cell_type": "code",
   "execution_count": 32,
   "id": "7a72dfb5",
   "metadata": {},
   "outputs": [
    {
     "data": {
      "text/plain": [
       "'o'"
      ]
     },
     "execution_count": 32,
     "metadata": {},
     "output_type": "execute_result"
    }
   ],
   "source": [
    "a[1]"
   ]
  },
  {
   "cell_type": "code",
   "execution_count": 33,
   "id": "3e1a9525",
   "metadata": {},
   "outputs": [],
   "source": [
    "# slicing string\n",
    "string = \"'dogs''are''love'\""
   ]
  },
  {
   "cell_type": "code",
   "execution_count": 34,
   "id": "7546595d",
   "metadata": {},
   "outputs": [
    {
     "name": "stdout",
     "output_type": "stream",
     "text": [
      "'dogs''are''love'\n"
     ]
    }
   ],
   "source": [
    "print(string)"
   ]
  },
  {
   "cell_type": "code",
   "execution_count": 35,
   "id": "e50de40b",
   "metadata": {},
   "outputs": [
    {
     "data": {
      "text/plain": [
       "\"ogs''are''love'\""
      ]
     },
     "execution_count": 35,
     "metadata": {},
     "output_type": "execute_result"
    }
   ],
   "source": [
    "string[2:]"
   ]
  },
  {
   "cell_type": "code",
   "execution_count": 36,
   "id": "dab0f14d",
   "metadata": {},
   "outputs": [
    {
     "data": {
      "text/plain": [
       "''"
      ]
     },
     "execution_count": 36,
     "metadata": {},
     "output_type": "execute_result"
    }
   ],
   "source": [
    "string[0:0]"
   ]
  },
  {
   "cell_type": "code",
   "execution_count": 37,
   "id": "a0330f90",
   "metadata": {},
   "outputs": [
    {
     "data": {
      "text/plain": [
       "\"'dogs''are''love'\""
      ]
     },
     "execution_count": 37,
     "metadata": {},
     "output_type": "execute_result"
    }
   ],
   "source": [
    "string[:]"
   ]
  },
  {
   "cell_type": "code",
   "execution_count": 38,
   "id": "4f9d26a6",
   "metadata": {},
   "outputs": [
    {
     "data": {
      "text/plain": [
       "\"'dogs''are''love'\""
      ]
     },
     "execution_count": 38,
     "metadata": {},
     "output_type": "execute_result"
    }
   ],
   "source": [
    "string[::]"
   ]
  },
  {
   "cell_type": "code",
   "execution_count": 39,
   "id": "8154722e",
   "metadata": {},
   "outputs": [
    {
     "data": {
      "text/plain": [
       "\"'dogs\""
      ]
     },
     "execution_count": 39,
     "metadata": {},
     "output_type": "execute_result"
    }
   ],
   "source": [
    "string[:5]"
   ]
  },
  {
   "cell_type": "code",
   "execution_count": 40,
   "id": "7dd437ae",
   "metadata": {},
   "outputs": [
    {
     "data": {
      "text/plain": [
       "\"''are''love'\""
      ]
     },
     "execution_count": 40,
     "metadata": {},
     "output_type": "execute_result"
    }
   ],
   "source": [
    "string[5:]"
   ]
  },
  {
   "cell_type": "code",
   "execution_count": 41,
   "id": "6466f2e5",
   "metadata": {},
   "outputs": [
    {
     "data": {
      "text/plain": [
       "'ogs'"
      ]
     },
     "execution_count": 41,
     "metadata": {},
     "output_type": "execute_result"
    }
   ],
   "source": [
    "string[2:5]"
   ]
  },
  {
   "cell_type": "code",
   "execution_count": 42,
   "id": "9635f992",
   "metadata": {},
   "outputs": [
    {
     "data": {
      "text/plain": [
       "\"'dogs''a\""
      ]
     },
     "execution_count": 42,
     "metadata": {},
     "output_type": "execute_result"
    }
   ],
   "source": [
    "string[:8]"
   ]
  },
  {
   "cell_type": "code",
   "execution_count": 43,
   "id": "b2a74cae",
   "metadata": {},
   "outputs": [
    {
     "data": {
      "text/plain": [
       "\"re''love'\""
      ]
     },
     "execution_count": 43,
     "metadata": {},
     "output_type": "execute_result"
    }
   ],
   "source": [
    "string[8:]"
   ]
  },
  {
   "cell_type": "code",
   "execution_count": 44,
   "id": "d473e3cf",
   "metadata": {},
   "outputs": [
    {
     "data": {
      "text/plain": [
       "\"'dogs''are''love'\""
      ]
     },
     "execution_count": 44,
     "metadata": {},
     "output_type": "execute_result"
    }
   ],
   "source": [
    "string[:]"
   ]
  },
  {
   "cell_type": "code",
   "execution_count": 45,
   "id": "d1b8c285",
   "metadata": {},
   "outputs": [
    {
     "data": {
      "text/plain": [
       "\"'dogs''are''lov\""
      ]
     },
     "execution_count": 45,
     "metadata": {},
     "output_type": "execute_result"
    }
   ],
   "source": [
    "string[:-2]"
   ]
  },
  {
   "cell_type": "code",
   "execution_count": 46,
   "id": "d01e9cd2",
   "metadata": {},
   "outputs": [
    {
     "data": {
      "text/plain": [
       "\"e'\""
      ]
     },
     "execution_count": 46,
     "metadata": {},
     "output_type": "execute_result"
    }
   ],
   "source": [
    "string[-2:]"
   ]
  },
  {
   "cell_type": "markdown",
   "id": "eeaa2d8b",
   "metadata": {},
   "source": [
    "# python string Concatenation"
   ]
  },
  {
   "cell_type": "code",
   "execution_count": 47,
   "id": "e653d060",
   "metadata": {},
   "outputs": [],
   "source": [
    "a = 'do you see this'\n",
    "b = '$$?'\n"
   ]
  },
  {
   "cell_type": "code",
   "execution_count": 49,
   "id": "7821b94b",
   "metadata": {},
   "outputs": [
    {
     "data": {
      "text/plain": [
       "'do you see this$$?'"
      ]
     },
     "execution_count": 49,
     "metadata": {},
     "output_type": "execute_result"
    }
   ],
   "source": [
    "a+b # string concatenation"
   ]
  },
  {
   "cell_type": "code",
   "execution_count": 50,
   "id": "6d4bb9fa",
   "metadata": {},
   "outputs": [
    {
     "name": "stdout",
     "output_type": "stream",
     "text": [
      "1010\n"
     ]
    }
   ],
   "source": [
    "a = '10'\n",
    "print(2*a)"
   ]
  },
  {
   "cell_type": "code",
   "execution_count": 51,
   "id": "c2930e6f",
   "metadata": {},
   "outputs": [
    {
     "ename": "TypeError",
     "evalue": "can only concatenate str (not \"int\") to str",
     "output_type": "error",
     "traceback": [
      "\u001b[1;31m---------------------------------------------------------------------------\u001b[0m",
      "\u001b[1;31mTypeError\u001b[0m                                 Traceback (most recent call last)",
      "\u001b[1;32m~\\AppData\\Local\\Temp/ipykernel_11876/154506873.py\u001b[0m in \u001b[0;36m<module>\u001b[1;34m\u001b[0m\n\u001b[1;32m----> 1\u001b[1;33m \u001b[1;34m'10'\u001b[0m\u001b[1;33m+\u001b[0m\u001b[1;36m10\u001b[0m\u001b[1;33m\u001b[0m\u001b[1;33m\u001b[0m\u001b[0m\n\u001b[0m",
      "\u001b[1;31mTypeError\u001b[0m: can only concatenate str (not \"int\") to str"
     ]
    }
   ],
   "source": [
    "'10'+10"
   ]
  },
  {
   "cell_type": "markdown",
   "id": "428848f2",
   "metadata": {},
   "source": [
    "# python string formatters"
   ]
  },
  {
   "cell_type": "code",
   "execution_count": 52,
   "id": "c214b670",
   "metadata": {},
   "outputs": [],
   "source": [
    "city = \"muddebihal\""
   ]
  },
  {
   "cell_type": "code",
   "execution_count": 53,
   "id": "0a211e5b",
   "metadata": {},
   "outputs": [
    {
     "name": "stdout",
     "output_type": "stream",
     "text": [
      "age 21 city muddebihal\n"
     ]
    }
   ],
   "source": [
    "print('age',21,'city',city)"
   ]
  },
  {
   "cell_type": "markdown",
   "id": "3f985df5",
   "metadata": {},
   "source": [
    "1. f-string"
   ]
  },
  {
   "cell_type": "code",
   "execution_count": 54,
   "id": "2dc4b014",
   "metadata": {},
   "outputs": [],
   "source": [
    "name = \"manjunath\""
   ]
  },
  {
   "cell_type": "code",
   "execution_count": 55,
   "id": "c25ee34d",
   "metadata": {},
   "outputs": [
    {
     "name": "stdout",
     "output_type": "stream",
     "text": [
      "it isn't manjunath's birthday\n"
     ]
    }
   ],
   "source": [
    "print(f\"it isn't {name}'s birthday\")"
   ]
  },
  {
   "cell_type": "markdown",
   "id": "1091bd7f",
   "metadata": {},
   "source": [
    "2. format() Method"
   ]
  },
  {
   "cell_type": "code",
   "execution_count": 56,
   "id": "a05a358d",
   "metadata": {},
   "outputs": [
    {
     "name": "stdout",
     "output_type": "stream",
     "text": [
      "i love manjunath\n"
     ]
    }
   ],
   "source": [
    "print(\"i love {0}\".format(name))"
   ]
  },
  {
   "cell_type": "code",
   "execution_count": 57,
   "id": "0e5eb4d2",
   "metadata": {},
   "outputs": [
    {
     "name": "stdout",
     "output_type": "stream",
     "text": [
      "i love kannur\n"
     ]
    }
   ],
   "source": [
    "print(\"i love {name}\".format(name = 'kannur'))"
   ]
  },
  {
   "cell_type": "code",
   "execution_count": 58,
   "id": "60f0ff13",
   "metadata": {},
   "outputs": [
    {
     "name": "stdout",
     "output_type": "stream",
     "text": [
      "i love yarazari\n"
     ]
    }
   ],
   "source": [
    "print(\"i love {b}\".format(b = 'yarazari'))"
   ]
  },
  {
   "cell_type": "markdown",
   "id": "925af05c",
   "metadata": {},
   "source": [
    "3. % operator"
   ]
  },
  {
   "cell_type": "code",
   "execution_count": 59,
   "id": "3bd729bf",
   "metadata": {},
   "outputs": [],
   "source": [
    "b = 'yarazari'"
   ]
  },
  {
   "cell_type": "code",
   "execution_count": 60,
   "id": "0c7d4ec2",
   "metadata": {},
   "outputs": [
    {
     "name": "stdout",
     "output_type": "stream",
     "text": [
      "i love yarazari and manjunath\n"
     ]
    }
   ],
   "source": [
    "print(\"i love %s and %s\"%(b,name))"
   ]
  },
  {
   "cell_type": "code",
   "execution_count": 61,
   "id": "c8822918",
   "metadata": {},
   "outputs": [
    {
     "name": "stdout",
     "output_type": "stream",
     "text": [
      "hello\to\n"
     ]
    }
   ],
   "source": [
    "print(\"hello\\to\")"
   ]
  },
  {
   "cell_type": "code",
   "execution_count": 63,
   "id": "83979c2c",
   "metadata": {},
   "outputs": [
    {
     "name": "stdout",
     "output_type": "stream",
     "text": [
      "hello\n",
      "\n"
     ]
    }
   ],
   "source": [
    "print(\"hello\\n\")"
   ]
  },
  {
   "cell_type": "markdown",
   "id": "4d0b1e24",
   "metadata": {},
   "source": [
    "# python string function"
   ]
  },
  {
   "cell_type": "markdown",
   "id": "5e75dc29",
   "metadata": {},
   "source": [
    "1. len()"
   ]
  },
  {
   "cell_type": "code",
   "execution_count": 64,
   "id": "4df8ba07",
   "metadata": {},
   "outputs": [],
   "source": [
    "a = \"book\""
   ]
  },
  {
   "cell_type": "code",
   "execution_count": 65,
   "id": "611b286d",
   "metadata": {},
   "outputs": [
    {
     "data": {
      "text/plain": [
       "4"
      ]
     },
     "execution_count": 65,
     "metadata": {},
     "output_type": "execute_result"
    }
   ],
   "source": [
    "len(a)"
   ]
  },
  {
   "cell_type": "code",
   "execution_count": 66,
   "id": "31a2872d",
   "metadata": {},
   "outputs": [
    {
     "data": {
      "text/plain": [
       "2"
      ]
     },
     "execution_count": 66,
     "metadata": {},
     "output_type": "execute_result"
    }
   ],
   "source": [
    "len(a[2:])"
   ]
  },
  {
   "cell_type": "code",
   "execution_count": 67,
   "id": "49dc6a37",
   "metadata": {},
   "outputs": [
    {
     "data": {
      "text/plain": [
       "'(2+3j)'"
      ]
     },
     "execution_count": 67,
     "metadata": {},
     "output_type": "execute_result"
    }
   ],
   "source": [
    "str(2+3j)"
   ]
  },
  {
   "cell_type": "code",
   "execution_count": 68,
   "id": "7eb0a745",
   "metadata": {},
   "outputs": [
    {
     "data": {
      "text/plain": [
       "\"['red', 'green', 'blue']\""
      ]
     },
     "execution_count": 68,
     "metadata": {},
     "output_type": "execute_result"
    }
   ],
   "source": [
    "str(['red','green','blue'])"
   ]
  },
  {
   "cell_type": "markdown",
   "id": "5b5ce888",
   "metadata": {},
   "source": [
    "3. lower() and upper()"
   ]
  },
  {
   "cell_type": "code",
   "execution_count": 69,
   "id": "b64bbc34",
   "metadata": {},
   "outputs": [],
   "source": [
    "a = 'book'"
   ]
  },
  {
   "cell_type": "code",
   "execution_count": 70,
   "id": "20af8131",
   "metadata": {},
   "outputs": [
    {
     "data": {
      "text/plain": [
       "'book'"
      ]
     },
     "execution_count": 70,
     "metadata": {},
     "output_type": "execute_result"
    }
   ],
   "source": [
    "a.lower()"
   ]
  },
  {
   "cell_type": "code",
   "execution_count": 71,
   "id": "e295c5c2",
   "metadata": {},
   "outputs": [
    {
     "data": {
      "text/plain": [
       "'BOOK'"
      ]
     },
     "execution_count": 71,
     "metadata": {},
     "output_type": "execute_result"
    }
   ],
   "source": [
    "a.upper()"
   ]
  },
  {
   "cell_type": "code",
   "execution_count": 72,
   "id": "ddbe86f3",
   "metadata": {},
   "outputs": [
    {
     "data": {
      "text/plain": [
       "'book'"
      ]
     },
     "execution_count": 72,
     "metadata": {},
     "output_type": "execute_result"
    }
   ],
   "source": [
    "a.strip() # it removes whitspaces from the biginning "
   ]
  },
  {
   "cell_type": "code",
   "execution_count": 73,
   "id": "38cf38a0",
   "metadata": {},
   "outputs": [],
   "source": [
    "a = '7777'\n"
   ]
  },
  {
   "cell_type": "code",
   "execution_count": 74,
   "id": "84f5aee9",
   "metadata": {},
   "outputs": [
    {
     "data": {
      "text/plain": [
       "True"
      ]
     },
     "execution_count": 74,
     "metadata": {},
     "output_type": "execute_result"
    }
   ],
   "source": [
    "a.isdigit()"
   ]
  },
  {
   "cell_type": "code",
   "execution_count": 75,
   "id": "4bb68ad2",
   "metadata": {},
   "outputs": [],
   "source": [
    "a = '77a'"
   ]
  },
  {
   "cell_type": "code",
   "execution_count": 76,
   "id": "56d81e9d",
   "metadata": {},
   "outputs": [
    {
     "data": {
      "text/plain": [
       "False"
      ]
     },
     "execution_count": 76,
     "metadata": {},
     "output_type": "execute_result"
    }
   ],
   "source": [
    "a.isdigit()"
   ]
  },
  {
   "cell_type": "code",
   "execution_count": 78,
   "id": "c86bd4e8",
   "metadata": {},
   "outputs": [],
   "source": [
    "# isalpha true if all characters in a string\n",
    "a = 'abc'"
   ]
  },
  {
   "cell_type": "code",
   "execution_count": 79,
   "id": "a7fe690e",
   "metadata": {},
   "outputs": [
    {
     "name": "stdout",
     "output_type": "stream",
     "text": [
      "abc\n"
     ]
    }
   ],
   "source": [
    "print(a)"
   ]
  },
  {
   "cell_type": "code",
   "execution_count": 80,
   "id": "5f9118f0",
   "metadata": {},
   "outputs": [],
   "source": [
    "a = 'ab7'"
   ]
  },
  {
   "cell_type": "code",
   "execution_count": 81,
   "id": "9ee3acd0",
   "metadata": {},
   "outputs": [
    {
     "data": {
      "text/plain": [
       "False"
      ]
     },
     "execution_count": 81,
     "metadata": {},
     "output_type": "execute_result"
    }
   ],
   "source": [
    "a.isalpha()"
   ]
  },
  {
   "cell_type": "code",
   "execution_count": 82,
   "id": "349286b8",
   "metadata": {},
   "outputs": [
    {
     "data": {
      "text/plain": [
       "False"
      ]
     },
     "execution_count": 82,
     "metadata": {},
     "output_type": "execute_result"
    }
   ],
   "source": [
    "a = ''\n",
    "a.isspace()"
   ]
  },
  {
   "cell_type": "code",
   "execution_count": 84,
   "id": "35af9ca7",
   "metadata": {},
   "outputs": [
    {
     "data": {
      "text/plain": [
       "True"
      ]
     },
     "execution_count": 84,
     "metadata": {},
     "output_type": "execute_result"
    }
   ],
   "source": [
    "a = ' '\n",
    "a.isspace()"
   ]
  },
  {
   "cell_type": "code",
   "execution_count": 86,
   "id": "e046dfcb",
   "metadata": {},
   "outputs": [],
   "source": [
    "# 8 it takes a string as an arguments\n",
    "# startswith()\n",
    "string = 'manjunath'"
   ]
  },
  {
   "cell_type": "raw",
   "id": "21327c03",
   "metadata": {},
   "source": []
  },
  {
   "cell_type": "code",
   "execution_count": 87,
   "id": "7f8fb5da",
   "metadata": {},
   "outputs": [
    {
     "data": {
      "text/plain": [
       "'manjunath'"
      ]
     },
     "execution_count": 87,
     "metadata": {},
     "output_type": "execute_result"
    }
   ],
   "source": [
    "string"
   ]
  },
  {
   "cell_type": "code",
   "execution_count": 88,
   "id": "9d4e40a2",
   "metadata": {},
   "outputs": [
    {
     "data": {
      "text/plain": [
       "True"
      ]
     },
     "execution_count": 88,
     "metadata": {},
     "output_type": "execute_result"
    }
   ],
   "source": [
    "string.startswith('man')"
   ]
  },
  {
   "cell_type": "code",
   "execution_count": 89,
   "id": "071e3929",
   "metadata": {},
   "outputs": [
    {
     "data": {
      "text/plain": [
       "False"
      ]
     },
     "execution_count": 89,
     "metadata": {},
     "output_type": "execute_result"
    }
   ],
   "source": [
    "string.startswith('kan')"
   ]
  },
  {
   "cell_type": "code",
   "execution_count": 90,
   "id": "808c04cf",
   "metadata": {},
   "outputs": [],
   "source": [
    "# endswih()\n",
    "string = \"therefore\""
   ]
  },
  {
   "cell_type": "code",
   "execution_count": 91,
   "id": "9ccb78cc",
   "metadata": {},
   "outputs": [
    {
     "data": {
      "text/plain": [
       "True"
      ]
     },
     "execution_count": 91,
     "metadata": {},
     "output_type": "execute_result"
    }
   ],
   "source": [
    "string.endswith('fore')"
   ]
  },
  {
   "cell_type": "code",
   "execution_count": 92,
   "id": "be096de4",
   "metadata": {},
   "outputs": [
    {
     "data": {
      "text/plain": [
       "False"
      ]
     },
     "execution_count": 92,
     "metadata": {},
     "output_type": "execute_result"
    }
   ],
   "source": [
    "string.endswith('the')"
   ]
  },
  {
   "cell_type": "code",
   "execution_count": 95,
   "id": "3d1913c1",
   "metadata": {},
   "outputs": [],
   "source": [
    "# find()\n",
    "string = \"homeowner\"#.find('mew')"
   ]
  },
  {
   "cell_type": "code",
   "execution_count": 96,
   "id": "af1a5ab2",
   "metadata": {},
   "outputs": [
    {
     "data": {
      "text/plain": [
       "'homeowner'"
      ]
     },
     "execution_count": 96,
     "metadata": {},
     "output_type": "execute_result"
    }
   ],
   "source": [
    "string"
   ]
  },
  {
   "cell_type": "code",
   "execution_count": 97,
   "id": "94bc1dfa",
   "metadata": {},
   "outputs": [
    {
     "data": {
      "text/plain": [
       "1"
      ]
     },
     "execution_count": 97,
     "metadata": {},
     "output_type": "execute_result"
    }
   ],
   "source": [
    "string.find('o')"
   ]
  },
  {
   "cell_type": "code",
   "execution_count": 98,
   "id": "5efb36d5",
   "metadata": {},
   "outputs": [
    {
     "data": {
      "text/plain": [
       "2"
      ]
     },
     "execution_count": 98,
     "metadata": {},
     "output_type": "execute_result"
    }
   ],
   "source": [
    "string.find(\"m\")"
   ]
  },
  {
   "cell_type": "code",
   "execution_count": 99,
   "id": "598e9760",
   "metadata": {},
   "outputs": [
    {
     "data": {
      "text/plain": [
       "-1"
      ]
     },
     "execution_count": 99,
     "metadata": {},
     "output_type": "execute_result"
    }
   ],
   "source": [
    "'homeowner'.find('wow')"
   ]
  },
  {
   "cell_type": "code",
   "execution_count": 100,
   "id": "589ada39",
   "metadata": {},
   "outputs": [],
   "source": [
    "name = \"my name is khan\""
   ]
  },
  {
   "cell_type": "code",
   "execution_count": 101,
   "id": "185ac667",
   "metadata": {},
   "outputs": [
    {
     "data": {
      "text/plain": [
       "3"
      ]
     },
     "execution_count": 101,
     "metadata": {},
     "output_type": "execute_result"
    }
   ],
   "source": [
    "name.find('n')"
   ]
  },
  {
   "cell_type": "code",
   "execution_count": 102,
   "id": "4336bcd7",
   "metadata": {},
   "outputs": [
    {
     "data": {
      "text/plain": [
       "11"
      ]
     },
     "execution_count": 102,
     "metadata": {},
     "output_type": "execute_result"
    }
   ],
   "source": [
    "name.find('k')"
   ]
  },
  {
   "cell_type": "code",
   "execution_count": 103,
   "id": "b25d3e85",
   "metadata": {},
   "outputs": [
    {
     "data": {
      "text/plain": [
       "4"
      ]
     },
     "execution_count": 103,
     "metadata": {},
     "output_type": "execute_result"
    }
   ],
   "source": [
    "name.find('a')"
   ]
  },
  {
   "cell_type": "code",
   "execution_count": 104,
   "id": "e7c4bab5",
   "metadata": {},
   "outputs": [],
   "source": [
    "# replace() it takes two arguments. the first is the substring to be replaced.\n",
    "string = \"banana\".replace('na','ha')"
   ]
  },
  {
   "cell_type": "code",
   "execution_count": 105,
   "id": "3578b182",
   "metadata": {},
   "outputs": [
    {
     "data": {
      "text/plain": [
       "'bahaha'"
      ]
     },
     "execution_count": 105,
     "metadata": {},
     "output_type": "execute_result"
    }
   ],
   "source": [
    "string"
   ]
  },
  {
   "cell_type": "code",
   "execution_count": 106,
   "id": "f4532217",
   "metadata": {},
   "outputs": [],
   "source": [
    "string = \"yarazari\""
   ]
  },
  {
   "cell_type": "code",
   "execution_count": 107,
   "id": "f54a799f",
   "metadata": {},
   "outputs": [
    {
     "data": {
      "text/plain": [
       "'yambzari'"
      ]
     },
     "execution_count": 107,
     "metadata": {},
     "output_type": "execute_result"
    }
   ],
   "source": [
    "string.replace('ra','mb')"
   ]
  },
  {
   "cell_type": "code",
   "execution_count": 108,
   "id": "5f38573e",
   "metadata": {},
   "outputs": [],
   "source": [
    "# split()\n",
    "the = \"no okay why\".split()"
   ]
  },
  {
   "cell_type": "code",
   "execution_count": 109,
   "id": "f75de8f3",
   "metadata": {},
   "outputs": [
    {
     "data": {
      "text/plain": [
       "['no', 'okay', 'why']"
      ]
     },
     "execution_count": 109,
     "metadata": {},
     "output_type": "execute_result"
    }
   ],
   "source": [
    "the"
   ]
  },
  {
   "cell_type": "code",
   "execution_count": 114,
   "id": "6cbce86f",
   "metadata": {},
   "outputs": [],
   "source": [
    "string = \"my name is manjunath kannur i am from yarazari\".split()"
   ]
  },
  {
   "cell_type": "code",
   "execution_count": 113,
   "id": "2a28df0c",
   "metadata": {},
   "outputs": [
    {
     "data": {
      "text/plain": [
       "'my name is khan'"
      ]
     },
     "execution_count": 113,
     "metadata": {},
     "output_type": "execute_result"
    }
   ],
   "source": [
    "name"
   ]
  },
  {
   "cell_type": "raw",
   "id": "d83bd891",
   "metadata": {},
   "source": [
    "del string"
   ]
  },
  {
   "cell_type": "code",
   "execution_count": 115,
   "id": "bb60920b",
   "metadata": {},
   "outputs": [
    {
     "data": {
      "text/plain": [
       "['my', 'name', 'is', 'manjunath', 'kannur', 'i', 'am', 'from', 'yarazari']"
      ]
     },
     "execution_count": 115,
     "metadata": {},
     "output_type": "execute_result"
    }
   ],
   "source": [
    "string"
   ]
  },
  {
   "cell_type": "code",
   "execution_count": 116,
   "id": "710eaff3",
   "metadata": {},
   "outputs": [
    {
     "data": {
      "text/plain": [
       "'red*green*blue'"
      ]
     },
     "execution_count": 116,
     "metadata": {},
     "output_type": "execute_result"
    }
   ],
   "source": [
    "# join() it takes a list as an argument and joins the element list\n",
    "\"*\".join(['red','green','blue'])"
   ]
  },
  {
   "cell_type": "code",
   "execution_count": 117,
   "id": "6fcdfbd4",
   "metadata": {},
   "outputs": [
    {
     "data": {
      "text/plain": [
       "['my', 'name', 'is', 'manjunath', 'kannur', 'i', 'am', 'from', 'yarazari']"
      ]
     },
     "execution_count": 117,
     "metadata": {},
     "output_type": "execute_result"
    }
   ],
   "source": [
    "string"
   ]
  },
  {
   "cell_type": "code",
   "execution_count": 124,
   "id": "746666a8",
   "metadata": {},
   "outputs": [],
   "source": [
    "data = \"\".join(string)"
   ]
  },
  {
   "cell_type": "code",
   "execution_count": 125,
   "id": "564a95a3",
   "metadata": {},
   "outputs": [
    {
     "data": {
      "text/plain": [
       "'mynameismanjunathkannuriamfromyarazari'"
      ]
     },
     "execution_count": 125,
     "metadata": {},
     "output_type": "execute_result"
    }
   ],
   "source": [
    "data"
   ]
  },
  {
   "cell_type": "code",
   "execution_count": 126,
   "id": "dc64d121",
   "metadata": {},
   "outputs": [
    {
     "name": "stdout",
     "output_type": "stream",
     "text": [
      "mynameismanjunathkannuriamfromyarazari"
     ]
    }
   ],
   "source": [
    "for i in data:\n",
    "    print(i,end='')"
   ]
  },
  {
   "cell_type": "markdown",
   "id": "9be61f40",
   "metadata": {},
   "source": [
    "# python string Operations\n",
    "1. Comparison\n",
    "2. arithmetic\n",
    "3. membership\n",
    "4. identity\n",
    "5. logical"
   ]
  },
  {
   "cell_type": "code",
   "execution_count": 127,
   "id": "1463c57f",
   "metadata": {},
   "outputs": [],
   "source": [
    "# python string OPeration\n",
    "name = \"hey\" < \"hi\""
   ]
  },
  {
   "cell_type": "code",
   "execution_count": 128,
   "id": "18e7a387",
   "metadata": {},
   "outputs": [
    {
     "data": {
      "text/plain": [
       "True"
      ]
     },
     "execution_count": 128,
     "metadata": {},
     "output_type": "execute_result"
    }
   ],
   "source": [
    "name"
   ]
  },
  {
   "cell_type": "code",
   "execution_count": 129,
   "id": "34a3ba3e",
   "metadata": {},
   "outputs": [],
   "source": [
    "a = 'check'"
   ]
  },
  {
   "cell_type": "code",
   "execution_count": 130,
   "id": "5dabcf82",
   "metadata": {},
   "outputs": [
    {
     "data": {
      "text/plain": [
       "True"
      ]
     },
     "execution_count": 130,
     "metadata": {},
     "output_type": "execute_result"
    }
   ],
   "source": [
    "a == 'check'"
   ]
  },
  {
   "cell_type": "code",
   "execution_count": 131,
   "id": "2da93e9f",
   "metadata": {},
   "outputs": [
    {
     "data": {
      "text/plain": [
       "'check'"
      ]
     },
     "execution_count": 131,
     "metadata": {},
     "output_type": "execute_result"
    }
   ],
   "source": [
    "a"
   ]
  },
  {
   "cell_type": "code",
   "execution_count": 132,
   "id": "2c3244ac",
   "metadata": {},
   "outputs": [],
   "source": [
    "a = 'check'"
   ]
  },
  {
   "cell_type": "code",
   "execution_count": 133,
   "id": "49be79d7",
   "metadata": {},
   "outputs": [
    {
     "data": {
      "text/plain": [
       "True"
      ]
     },
     "execution_count": 133,
     "metadata": {},
     "output_type": "execute_result"
    }
   ],
   "source": [
    "a == 'check'"
   ]
  },
  {
   "cell_type": "code",
   "execution_count": 134,
   "id": "3dc18148",
   "metadata": {},
   "outputs": [],
   "source": [
    "name = 'yes'!= 'no'"
   ]
  },
  {
   "cell_type": "code",
   "execution_count": 135,
   "id": "908036e5",
   "metadata": {},
   "outputs": [
    {
     "data": {
      "text/plain": [
       "True"
      ]
     },
     "execution_count": 135,
     "metadata": {},
     "output_type": "execute_result"
    }
   ],
   "source": [
    "name"
   ]
  },
  {
   "cell_type": "markdown",
   "id": "ede2e67f",
   "metadata": {},
   "source": [
    "# arithmetic operation in python"
   ]
  },
  {
   "cell_type": "code",
   "execution_count": 136,
   "id": "22ef3a7c",
   "metadata": {},
   "outputs": [
    {
     "data": {
      "text/plain": [
       "'bana*2'"
      ]
     },
     "execution_count": 136,
     "metadata": {},
     "output_type": "execute_result"
    }
   ],
   "source": [
    "'ba'+'na*2'"
   ]
  },
  {
   "cell_type": "code",
   "execution_count": 137,
   "id": "150ecfd3",
   "metadata": {},
   "outputs": [
    {
     "data": {
      "text/plain": [
       "'banana'"
      ]
     },
     "execution_count": 137,
     "metadata": {},
     "output_type": "execute_result"
    }
   ],
   "source": [
    "'ba'+'na'*2"
   ]
  },
  {
   "cell_type": "code",
   "execution_count": 138,
   "id": "328c7e10",
   "metadata": {},
   "outputs": [
    {
     "data": {
      "text/plain": [
       "'kannuryarazariyarazari'"
      ]
     },
     "execution_count": 138,
     "metadata": {},
     "output_type": "execute_result"
    }
   ],
   "source": [
    "'kannur'+'yarazari'*2"
   ]
  },
  {
   "cell_type": "code",
   "execution_count": 139,
   "id": "d5315676",
   "metadata": {},
   "outputs": [
    {
     "data": {
      "text/plain": [
       "'yarazarimblmbl'"
      ]
     },
     "execution_count": 139,
     "metadata": {},
     "output_type": "execute_result"
    }
   ],
   "source": [
    "'yarazari'+'mbl'*2"
   ]
  },
  {
   "cell_type": "markdown",
   "id": "46d57518",
   "metadata": {},
   "source": [
    "# Membership operation in python"
   ]
  },
  {
   "cell_type": "code",
   "execution_count": 140,
   "id": "b7a7f992",
   "metadata": {},
   "outputs": [],
   "source": [
    "name = \"renukadevi\""
   ]
  },
  {
   "cell_type": "code",
   "execution_count": 141,
   "id": "a572a3b4",
   "metadata": {},
   "outputs": [
    {
     "data": {
      "text/plain": [
       "True"
      ]
     },
     "execution_count": 141,
     "metadata": {},
     "output_type": "execute_result"
    }
   ],
   "source": [
    "'devi' in name"
   ]
  },
  {
   "cell_type": "code",
   "execution_count": 142,
   "id": "40f978fa",
   "metadata": {},
   "outputs": [
    {
     "data": {
      "text/plain": [
       "False"
      ]
     },
     "execution_count": 142,
     "metadata": {},
     "output_type": "execute_result"
    }
   ],
   "source": [
    "'less' not in 'helpless'"
   ]
  },
  {
   "cell_type": "code",
   "execution_count": 144,
   "id": "5f29d194",
   "metadata": {},
   "outputs": [
    {
     "name": "stderr",
     "output_type": "stream",
     "text": [
      "<>:2: SyntaxWarning: \"is\" with a literal. Did you mean \"==\"?\n",
      "<>:2: SyntaxWarning: \"is\" with a literal. Did you mean \"==\"?\n",
      "C:\\Users\\yaraz\\AppData\\Local\\Temp/ipykernel_11876/3884610060.py:2: SyntaxWarning: \"is\" with a literal. Did you mean \"==\"?\n",
      "  'hey' is 'hi'\n"
     ]
    },
    {
     "data": {
      "text/plain": [
       "False"
      ]
     },
     "execution_count": 144,
     "metadata": {},
     "output_type": "execute_result"
    }
   ],
   "source": [
    "# identity operation in python\n",
    "'hey' is 'hi'"
   ]
  },
  {
   "cell_type": "code",
   "execution_count": 145,
   "id": "eba7c92d",
   "metadata": {},
   "outputs": [
    {
     "name": "stderr",
     "output_type": "stream",
     "text": [
      "<>:1: SyntaxWarning: \"is not\" with a literal. Did you mean \"!=\"?\n",
      "<>:1: SyntaxWarning: \"is not\" with a literal. Did you mean \"!=\"?\n",
      "C:\\Users\\yaraz\\AppData\\Local\\Temp/ipykernel_11876/850354332.py:1: SyntaxWarning: \"is not\" with a literal. Did you mean \"!=\"?\n",
      "  'yo' is not 'Yo'\n"
     ]
    },
    {
     "data": {
      "text/plain": [
       "True"
      ]
     },
     "execution_count": 145,
     "metadata": {},
     "output_type": "execute_result"
    }
   ],
   "source": [
    "'yo' is not 'Yo'"
   ]
  },
  {
   "cell_type": "markdown",
   "id": "1673179a",
   "metadata": {},
   "source": [
    "# logical operation in python\n",
    "1. or \n",
    "2. not\n",
    "3. and"
   ]
  },
  {
   "cell_type": "code",
   "execution_count": 146,
   "id": "7d36b047",
   "metadata": {},
   "outputs": [
    {
     "data": {
      "text/plain": [
       "''"
      ]
     },
     "execution_count": 146,
     "metadata": {},
     "output_type": "execute_result"
    }
   ],
   "source": [
    "'' and '1'"
   ]
  },
  {
   "cell_type": "code",
   "execution_count": 147,
   "id": "b6004d2e",
   "metadata": {},
   "outputs": [
    {
     "data": {
      "text/plain": [
       "''"
      ]
     },
     "execution_count": 147,
     "metadata": {},
     "output_type": "execute_result"
    }
   ],
   "source": [
    "'1' and ''"
   ]
  },
  {
   "cell_type": "code",
   "execution_count": 148,
   "id": "50be64de",
   "metadata": {},
   "outputs": [
    {
     "data": {
      "text/plain": [
       "False"
      ]
     },
     "execution_count": 148,
     "metadata": {},
     "output_type": "execute_result"
    }
   ],
   "source": [
    "not('1')"
   ]
  },
  {
   "cell_type": "code",
   "execution_count": 149,
   "id": "3ebdbe56",
   "metadata": {},
   "outputs": [
    {
     "data": {
      "text/plain": [
       "True"
      ]
     },
     "execution_count": 149,
     "metadata": {},
     "output_type": "execute_result"
    }
   ],
   "source": [
    "not('')"
   ]
  },
  {
   "cell_type": "markdown",
   "id": "7128f211",
   "metadata": {},
   "source": [
    "# python Interpreter Environment,Invoking & working"
   ]
  },
  {
   "cell_type": "code",
   "execution_count": 151,
   "id": "ec6af445",
   "metadata": {},
   "outputs": [],
   "source": [
    "# python programming language\n",
    "# environment\n",
    "# how to invoke\n",
    "# working\n",
    "# python Interpreter environment\n"
   ]
  },
  {
   "cell_type": "code",
   "execution_count": 152,
   "id": "26482303",
   "metadata": {},
   "outputs": [],
   "source": [
    "# -*- coding : encoding -*-"
   ]
  },
  {
   "cell_type": "markdown",
   "id": "6382359b",
   "metadata": {},
   "source": [
    "# python operator - types of operators in python\n",
    "1. arithmetic\n",
    "2. relational \n",
    "3. assignment\n",
    "4. logical\n",
    "5. membership\n",
    "6. identity\n",
    "7. bitwise operators"
   ]
  },
  {
   "cell_type": "markdown",
   "id": "de55545f",
   "metadata": {},
   "source": [
    "# 1 Arithmetic operator\n",
    "1. addition\n",
    "2. substraction\n",
    "3. multiplication\n",
    "4. floor()\n",
    "5. division\n",
    "6. modules()\n",
    "7. exponentiation"
   ]
  },
  {
   "cell_type": "code",
   "execution_count": 154,
   "id": "59129b83",
   "metadata": {},
   "outputs": [
    {
     "data": {
      "text/plain": [
       "7"
      ]
     },
     "execution_count": 154,
     "metadata": {},
     "output_type": "execute_result"
    }
   ],
   "source": [
    "3+4 # addition(+)"
   ]
  },
  {
   "cell_type": "code",
   "execution_count": 155,
   "id": "dbd2b9f6",
   "metadata": {},
   "outputs": [
    {
     "data": {
      "text/plain": [
       "-1"
      ]
     },
     "execution_count": 155,
     "metadata": {},
     "output_type": "execute_result"
    }
   ],
   "source": [
    "# substraction (-)\n",
    "3-4"
   ]
  },
  {
   "cell_type": "code",
   "execution_count": 156,
   "id": "8784faf0",
   "metadata": {},
   "outputs": [
    {
     "data": {
      "text/plain": [
       "12"
      ]
     },
     "execution_count": 156,
     "metadata": {},
     "output_type": "execute_result"
    }
   ],
   "source": [
    "# multiplication (*)\n",
    "3*4"
   ]
  },
  {
   "cell_type": "code",
   "execution_count": 157,
   "id": "4c6d58a5",
   "metadata": {},
   "outputs": [
    {
     "data": {
      "text/plain": [
       "0.75"
      ]
     },
     "execution_count": 157,
     "metadata": {},
     "output_type": "execute_result"
    }
   ],
   "source": [
    "# division (/)\n",
    "3/4"
   ]
  },
  {
   "cell_type": "code",
   "execution_count": 158,
   "id": "ca9d7e57",
   "metadata": {},
   "outputs": [
    {
     "data": {
      "text/plain": [
       "81"
      ]
     },
     "execution_count": 158,
     "metadata": {},
     "output_type": "execute_result"
    }
   ],
   "source": [
    "# exponentiation(**)\n",
    "3**4"
   ]
  },
  {
   "cell_type": "code",
   "execution_count": 160,
   "id": "1a9fd700",
   "metadata": {},
   "outputs": [
    {
     "data": {
      "text/plain": [
       "0"
      ]
     },
     "execution_count": 160,
     "metadata": {},
     "output_type": "execute_result"
    }
   ],
   "source": [
    "# floor division(//)\n",
    "3//4 # return integer value"
   ]
  },
  {
   "cell_type": "code",
   "execution_count": 161,
   "id": "4b294cfe",
   "metadata": {},
   "outputs": [
    {
     "data": {
      "text/plain": [
       "3"
      ]
     },
     "execution_count": 161,
     "metadata": {},
     "output_type": "execute_result"
    }
   ],
   "source": [
    "10//3"
   ]
  },
  {
   "cell_type": "code",
   "execution_count": 162,
   "id": "ef4279cc",
   "metadata": {},
   "outputs": [
    {
     "data": {
      "text/plain": [
       "3.3333333333333335"
      ]
     },
     "execution_count": 162,
     "metadata": {},
     "output_type": "execute_result"
    }
   ],
   "source": [
    "10/3"
   ]
  },
  {
   "cell_type": "code",
   "execution_count": 164,
   "id": "61d670fb",
   "metadata": {},
   "outputs": [
    {
     "data": {
      "text/plain": [
       "3"
      ]
     },
     "execution_count": 164,
     "metadata": {},
     "output_type": "execute_result"
    }
   ],
   "source": [
    "# modulus(%)\n",
    "3%4 # return remainder"
   ]
  },
  {
   "cell_type": "code",
   "execution_count": 165,
   "id": "43959dc9",
   "metadata": {},
   "outputs": [
    {
     "data": {
      "text/plain": [
       "1"
      ]
     },
     "execution_count": 165,
     "metadata": {},
     "output_type": "execute_result"
    }
   ],
   "source": [
    "4%3"
   ]
  },
  {
   "cell_type": "code",
   "execution_count": 166,
   "id": "35cec786",
   "metadata": {},
   "outputs": [
    {
     "data": {
      "text/plain": [
       "1"
      ]
     },
     "execution_count": 166,
     "metadata": {},
     "output_type": "execute_result"
    }
   ],
   "source": [
    "10%3"
   ]
  },
  {
   "cell_type": "code",
   "execution_count": 167,
   "id": "a4e90950",
   "metadata": {},
   "outputs": [
    {
     "data": {
      "text/plain": [
       "1.5"
      ]
     },
     "execution_count": 167,
     "metadata": {},
     "output_type": "execute_result"
    }
   ],
   "source": [
    "10.5%3"
   ]
  },
  {
   "cell_type": "code",
   "execution_count": 1,
   "id": "2bd4ad10",
   "metadata": {},
   "outputs": [
    {
     "data": {
      "text/plain": [
       "81"
      ]
     },
     "execution_count": 1,
     "metadata": {},
     "output_type": "execute_result"
    }
   ],
   "source": [
    "3**4"
   ]
  },
  {
   "cell_type": "code",
   "execution_count": 2,
   "id": "97af22ec",
   "metadata": {},
   "outputs": [
    {
     "data": {
      "text/plain": [
       "0"
      ]
     },
     "execution_count": 2,
     "metadata": {},
     "output_type": "execute_result"
    }
   ],
   "source": [
    "3//4"
   ]
  },
  {
   "cell_type": "code",
   "execution_count": 3,
   "id": "2dfd6d5a",
   "metadata": {},
   "outputs": [
    {
     "data": {
      "text/plain": [
       "1"
      ]
     },
     "execution_count": 3,
     "metadata": {},
     "output_type": "execute_result"
    }
   ],
   "source": [
    "4//3"
   ]
  },
  {
   "cell_type": "code",
   "execution_count": 4,
   "id": "23f304ac",
   "metadata": {},
   "outputs": [
    {
     "data": {
      "text/plain": [
       "3.3333333333333335"
      ]
     },
     "execution_count": 4,
     "metadata": {},
     "output_type": "execute_result"
    }
   ],
   "source": [
    "10/3"
   ]
  },
  {
   "cell_type": "code",
   "execution_count": 5,
   "id": "532e70b8",
   "metadata": {},
   "outputs": [
    {
     "data": {
      "text/plain": [
       "3"
      ]
     },
     "execution_count": 5,
     "metadata": {},
     "output_type": "execute_result"
    }
   ],
   "source": [
    "10//3"
   ]
  },
  {
   "cell_type": "markdown",
   "id": "01a58c68",
   "metadata": {},
   "source": [
    "# python Relational Operator\n",
    "1. less than(<)\n",
    "2. greater than(>)\n",
    "3. equal to (==)\n",
    "4. less than or equal to(<=)\n",
    "5. greater than or equal to (>=)\n",
    "6. not equal to (!=)"
   ]
  },
  {
   "cell_type": "code",
   "execution_count": 6,
   "id": "8b43334d",
   "metadata": {},
   "outputs": [
    {
     "data": {
      "text/plain": [
       "True"
      ]
     },
     "execution_count": 6,
     "metadata": {},
     "output_type": "execute_result"
    }
   ],
   "source": [
    "3 < 4"
   ]
  },
  {
   "cell_type": "code",
   "execution_count": 7,
   "id": "c87bab3e",
   "metadata": {},
   "outputs": [
    {
     "data": {
      "text/plain": [
       "True"
      ]
     },
     "execution_count": 7,
     "metadata": {},
     "output_type": "execute_result"
    }
   ],
   "source": [
    "5<6"
   ]
  },
  {
   "cell_type": "code",
   "execution_count": 8,
   "id": "c57bb429",
   "metadata": {},
   "outputs": [
    {
     "data": {
      "text/plain": [
       "False"
      ]
     },
     "execution_count": 8,
     "metadata": {},
     "output_type": "execute_result"
    }
   ],
   "source": [
    "5<4"
   ]
  },
  {
   "cell_type": "code",
   "execution_count": 9,
   "id": "9469dee4",
   "metadata": {},
   "outputs": [
    {
     "data": {
      "text/plain": [
       "False"
      ]
     },
     "execution_count": 9,
     "metadata": {},
     "output_type": "execute_result"
    }
   ],
   "source": [
    "6<5"
   ]
  },
  {
   "cell_type": "code",
   "execution_count": 10,
   "id": "502e0d60",
   "metadata": {},
   "outputs": [
    {
     "data": {
      "text/plain": [
       "False"
      ]
     },
     "execution_count": 10,
     "metadata": {},
     "output_type": "execute_result"
    }
   ],
   "source": [
    "10<5"
   ]
  },
  {
   "cell_type": "code",
   "execution_count": 11,
   "id": "cf1a468c",
   "metadata": {},
   "outputs": [
    {
     "data": {
      "text/plain": [
       "True"
      ]
     },
     "execution_count": 11,
     "metadata": {},
     "output_type": "execute_result"
    }
   ],
   "source": [
    "10<20"
   ]
  },
  {
   "cell_type": "code",
   "execution_count": 12,
   "id": "3a8dbdfc",
   "metadata": {},
   "outputs": [
    {
     "data": {
      "text/plain": [
       "False"
      ]
     },
     "execution_count": 12,
     "metadata": {},
     "output_type": "execute_result"
    }
   ],
   "source": [
    "# greater than(>)\n",
    "2>5"
   ]
  },
  {
   "cell_type": "code",
   "execution_count": 13,
   "id": "35914f7d",
   "metadata": {},
   "outputs": [
    {
     "data": {
      "text/plain": [
       "True"
      ]
     },
     "execution_count": 13,
     "metadata": {},
     "output_type": "execute_result"
    }
   ],
   "source": [
    "6>2"
   ]
  },
  {
   "cell_type": "code",
   "execution_count": 14,
   "id": "dbc83d37",
   "metadata": {},
   "outputs": [
    {
     "data": {
      "text/plain": [
       "False"
      ]
     },
     "execution_count": 14,
     "metadata": {},
     "output_type": "execute_result"
    }
   ],
   "source": [
    "3>8"
   ]
  },
  {
   "cell_type": "code",
   "execution_count": 15,
   "id": "44ea84ff",
   "metadata": {},
   "outputs": [
    {
     "data": {
      "text/plain": [
       "True"
      ]
     },
     "execution_count": 15,
     "metadata": {},
     "output_type": "execute_result"
    }
   ],
   "source": [
    "8>5"
   ]
  },
  {
   "cell_type": "code",
   "execution_count": 16,
   "id": "73074555",
   "metadata": {},
   "outputs": [
    {
     "data": {
      "text/plain": [
       "False"
      ]
     },
     "execution_count": 16,
     "metadata": {},
     "output_type": "execute_result"
    }
   ],
   "source": [
    "6>8"
   ]
  },
  {
   "cell_type": "code",
   "execution_count": 17,
   "id": "e50e08b2",
   "metadata": {},
   "outputs": [
    {
     "data": {
      "text/plain": [
       "True"
      ]
     },
     "execution_count": 17,
     "metadata": {},
     "output_type": "execute_result"
    }
   ],
   "source": [
    "15>5"
   ]
  },
  {
   "cell_type": "code",
   "execution_count": 18,
   "id": "e83a5fd0",
   "metadata": {},
   "outputs": [
    {
     "data": {
      "text/plain": [
       "True"
      ]
     },
     "execution_count": 18,
     "metadata": {},
     "output_type": "execute_result"
    }
   ],
   "source": [
    "90>8"
   ]
  },
  {
   "cell_type": "code",
   "execution_count": 19,
   "id": "c525ff94",
   "metadata": {},
   "outputs": [
    {
     "data": {
      "text/plain": [
       "True"
      ]
     },
     "execution_count": 19,
     "metadata": {},
     "output_type": "execute_result"
    }
   ],
   "source": [
    "1.5 > 0.0"
   ]
  },
  {
   "cell_type": "code",
   "execution_count": 20,
   "id": "7adc9b55",
   "metadata": {},
   "outputs": [
    {
     "data": {
      "text/plain": [
       "False"
      ]
     },
     "execution_count": 20,
     "metadata": {},
     "output_type": "execute_result"
    }
   ],
   "source": [
    "55 > 66"
   ]
  },
  {
   "cell_type": "code",
   "execution_count": 21,
   "id": "8f8f4c47",
   "metadata": {},
   "outputs": [
    {
     "data": {
      "text/plain": [
       "True"
      ]
     },
     "execution_count": 21,
     "metadata": {},
     "output_type": "execute_result"
    }
   ],
   "source": [
    "# less than or equal to (<=)\n",
    "7 <= 7"
   ]
  },
  {
   "cell_type": "code",
   "execution_count": 23,
   "id": "18e9f80c",
   "metadata": {},
   "outputs": [
    {
     "data": {
      "text/plain": [
       "False"
      ]
     },
     "execution_count": 23,
     "metadata": {},
     "output_type": "execute_result"
    }
   ],
   "source": [
    "7<=5"
   ]
  },
  {
   "cell_type": "code",
   "execution_count": 24,
   "id": "00368de1",
   "metadata": {},
   "outputs": [
    {
     "data": {
      "text/plain": [
       "True"
      ]
     },
     "execution_count": 24,
     "metadata": {},
     "output_type": "execute_result"
    }
   ],
   "source": [
    "# greater than or equal to (>=)\n",
    "0>=0"
   ]
  },
  {
   "cell_type": "code",
   "execution_count": 25,
   "id": "9d36a456",
   "metadata": {},
   "outputs": [
    {
     "data": {
      "text/plain": [
       "True"
      ]
     },
     "execution_count": 25,
     "metadata": {},
     "output_type": "execute_result"
    }
   ],
   "source": [
    "1==1"
   ]
  },
  {
   "cell_type": "code",
   "execution_count": 26,
   "id": "367decc3",
   "metadata": {},
   "outputs": [
    {
     "data": {
      "text/plain": [
       "True"
      ]
     },
     "execution_count": 26,
     "metadata": {},
     "output_type": "execute_result"
    }
   ],
   "source": [
    "2==2"
   ]
  },
  {
   "cell_type": "code",
   "execution_count": 27,
   "id": "c424101c",
   "metadata": {},
   "outputs": [
    {
     "data": {
      "text/plain": [
       "True"
      ]
     },
     "execution_count": 27,
     "metadata": {},
     "output_type": "execute_result"
    }
   ],
   "source": [
    "55==55"
   ]
  },
  {
   "cell_type": "code",
   "execution_count": 28,
   "id": "4fb074b5",
   "metadata": {},
   "outputs": [],
   "source": [
    "name = \"manjunath\""
   ]
  },
  {
   "cell_type": "code",
   "execution_count": 29,
   "id": "53477390",
   "metadata": {},
   "outputs": [],
   "source": [
    "lname = 'kannur'"
   ]
  },
  {
   "cell_type": "code",
   "execution_count": 30,
   "id": "7f23d1cb",
   "metadata": {},
   "outputs": [
    {
     "data": {
      "text/plain": [
       "False"
      ]
     },
     "execution_count": 30,
     "metadata": {},
     "output_type": "execute_result"
    }
   ],
   "source": [
    "name == lname"
   ]
  },
  {
   "cell_type": "code",
   "execution_count": 31,
   "id": "f25f3280",
   "metadata": {},
   "outputs": [
    {
     "data": {
      "text/plain": [
       "True"
      ]
     },
     "execution_count": 31,
     "metadata": {},
     "output_type": "execute_result"
    }
   ],
   "source": [
    "name != lname"
   ]
  },
  {
   "cell_type": "code",
   "execution_count": 32,
   "id": "75cc4498",
   "metadata": {},
   "outputs": [
    {
     "data": {
      "text/plain": [
       "False"
      ]
     },
     "execution_count": 32,
     "metadata": {},
     "output_type": "execute_result"
    }
   ],
   "source": [
    "name < lname"
   ]
  },
  {
   "cell_type": "code",
   "execution_count": 33,
   "id": "b0375871",
   "metadata": {},
   "outputs": [
    {
     "data": {
      "text/plain": [
       "True"
      ]
     },
     "execution_count": 33,
     "metadata": {},
     "output_type": "execute_result"
    }
   ],
   "source": [
    "name > lname"
   ]
  },
  {
   "cell_type": "code",
   "execution_count": 34,
   "id": "e29082c3",
   "metadata": {},
   "outputs": [
    {
     "name": "stdout",
     "output_type": "stream",
     "text": [
      "password\n"
     ]
    }
   ],
   "source": [
    "password = 'yarazari'\n",
    "if password =='yarazari':\n",
    "    print(\"password\")\n",
    "else:\n",
    "    print(\"reset\")"
   ]
  },
  {
   "cell_type": "code",
   "execution_count": 35,
   "id": "e6fa63d4",
   "metadata": {},
   "outputs": [
    {
     "data": {
      "text/plain": [
       "True"
      ]
     },
     "execution_count": 35,
     "metadata": {},
     "output_type": "execute_result"
    }
   ],
   "source": [
    "3.0 == 3"
   ]
  },
  {
   "cell_type": "code",
   "execution_count": 36,
   "id": "9bfa11e0",
   "metadata": {},
   "outputs": [
    {
     "data": {
      "text/plain": [
       "True"
      ]
     },
     "execution_count": 36,
     "metadata": {},
     "output_type": "execute_result"
    }
   ],
   "source": [
    "1 == True"
   ]
  },
  {
   "cell_type": "code",
   "execution_count": 37,
   "id": "45d63907",
   "metadata": {},
   "outputs": [
    {
     "data": {
      "text/plain": [
       "False"
      ]
     },
     "execution_count": 37,
     "metadata": {},
     "output_type": "execute_result"
    }
   ],
   "source": [
    "2 == True"
   ]
  },
  {
   "cell_type": "markdown",
   "id": "b5d417a3",
   "metadata": {},
   "source": [
    "# python Assignment Operator\n",
    "1. assign(=)\n",
    "2. add and assign(+=)\n",
    "3. substract and assign(-=)\n",
    "4. division and assign(/=)\n",
    "5. multiply and assign(*=)\n",
    "6. modulus and assign(%=)\n",
    "7. exponent and assign(**=)\n",
    "8. floor-divide and assign(//=)"
   ]
  },
  {
   "cell_type": "code",
   "execution_count": 38,
   "id": "1c0df6ff",
   "metadata": {},
   "outputs": [
    {
     "name": "stdout",
     "output_type": "stream",
     "text": [
      "7\n"
     ]
    }
   ],
   "source": [
    "# assign(=)\n",
    "a = 7\n",
    "print(a)"
   ]
  },
  {
   "cell_type": "code",
   "execution_count": 39,
   "id": "d859724a",
   "metadata": {},
   "outputs": [
    {
     "name": "stdout",
     "output_type": "stream",
     "text": [
      "17\n"
     ]
    }
   ],
   "source": [
    "a+=10\n",
    "print(a)"
   ]
  },
  {
   "cell_type": "code",
   "execution_count": 40,
   "id": "ab51e766",
   "metadata": {},
   "outputs": [
    {
     "data": {
      "text/plain": [
       "17"
      ]
     },
     "execution_count": 40,
     "metadata": {},
     "output_type": "execute_result"
    }
   ],
   "source": [
    "a"
   ]
  },
  {
   "cell_type": "code",
   "execution_count": 41,
   "id": "d3884799",
   "metadata": {},
   "outputs": [
    {
     "name": "stdout",
     "output_type": "stream",
     "text": [
      "inner loop: 0\n",
      "inner loop: 1\n",
      "inner loop: 2\n",
      "inner loop: 3\n",
      "inner loop: 4\n"
     ]
    }
   ],
   "source": [
    "i = 0\n",
    "while (i < 5):\n",
    "    print(\"inner loop:\",i)\n",
    "    i+=1"
   ]
  },
  {
   "cell_type": "code",
   "execution_count": 43,
   "id": "21e935cd",
   "metadata": {},
   "outputs": [
    {
     "name": "stdout",
     "output_type": "stream",
     "text": [
      "15\n"
     ]
    }
   ],
   "source": [
    "# substract and assign(-=)\n",
    "b = 15\n",
    "print(b)"
   ]
  },
  {
   "cell_type": "code",
   "execution_count": 44,
   "id": "e8d33dd9",
   "metadata": {},
   "outputs": [],
   "source": [
    "b -= 2"
   ]
  },
  {
   "cell_type": "code",
   "execution_count": 45,
   "id": "b4b31e47",
   "metadata": {},
   "outputs": [
    {
     "name": "stdout",
     "output_type": "stream",
     "text": [
      "13\n"
     ]
    }
   ],
   "source": [
    "print(b)"
   ]
  },
  {
   "cell_type": "code",
   "execution_count": 46,
   "id": "7fc30e0d",
   "metadata": {},
   "outputs": [
    {
     "data": {
      "text/plain": [
       "13"
      ]
     },
     "execution_count": 46,
     "metadata": {},
     "output_type": "execute_result"
    }
   ],
   "source": [
    "b"
   ]
  },
  {
   "cell_type": "code",
   "execution_count": 48,
   "id": "55416878",
   "metadata": {},
   "outputs": [
    {
     "name": "stdout",
     "output_type": "stream",
     "text": [
      "2.4285714285714284\n"
     ]
    }
   ],
   "source": [
    "#divide and assign(/=)\n",
    "a /= 7\n",
    "print(a)"
   ]
  },
  {
   "cell_type": "code",
   "execution_count": 49,
   "id": "6d754c21",
   "metadata": {},
   "outputs": [],
   "source": [
    "name = \"25\""
   ]
  },
  {
   "cell_type": "code",
   "execution_count": 50,
   "id": "af6843f6",
   "metadata": {},
   "outputs": [],
   "source": [
    "a = int(name)"
   ]
  },
  {
   "cell_type": "code",
   "execution_count": 51,
   "id": "81063673",
   "metadata": {},
   "outputs": [
    {
     "data": {
      "text/plain": [
       "25"
      ]
     },
     "execution_count": 51,
     "metadata": {},
     "output_type": "execute_result"
    }
   ],
   "source": [
    "a"
   ]
  },
  {
   "cell_type": "code",
   "execution_count": 53,
   "id": "f5fa12b3",
   "metadata": {},
   "outputs": [
    {
     "name": "stdout",
     "output_type": "stream",
     "text": [
      "200\n"
     ]
    }
   ],
   "source": [
    "# multiply and assign(*=)\n",
    "a *= 8\n",
    "print(a)"
   ]
  },
  {
   "cell_type": "code",
   "execution_count": 54,
   "id": "7c35bd45",
   "metadata": {},
   "outputs": [
    {
     "name": "stdout",
     "output_type": "stream",
     "text": [
      "2\n"
     ]
    }
   ],
   "source": [
    "# f modulus and assign(%=)\n",
    "a %= 3\n",
    "print(a)"
   ]
  },
  {
   "cell_type": "code",
   "execution_count": 55,
   "id": "7545162f",
   "metadata": {},
   "outputs": [
    {
     "name": "stdout",
     "output_type": "stream",
     "text": [
      "32\n"
     ]
    }
   ],
   "source": [
    "a **= 5\n",
    "print(a)"
   ]
  },
  {
   "cell_type": "code",
   "execution_count": 56,
   "id": "5a8ef036",
   "metadata": {},
   "outputs": [],
   "source": [
    "# floor-divide and assign(//=)\n",
    "a//=3"
   ]
  },
  {
   "cell_type": "code",
   "execution_count": 57,
   "id": "a54dfdd0",
   "metadata": {},
   "outputs": [
    {
     "data": {
      "text/plain": [
       "10"
      ]
     },
     "execution_count": 57,
     "metadata": {},
     "output_type": "execute_result"
    }
   ],
   "source": [
    "a"
   ]
  },
  {
   "cell_type": "markdown",
   "id": "781b3f3a",
   "metadata": {},
   "source": [
    "# python logical Operator\n",
    "1. and \n",
    "2. or \n",
    "3. not"
   ]
  },
  {
   "cell_type": "code",
   "execution_count": 58,
   "id": "d4e59cdc",
   "metadata": {},
   "outputs": [],
   "source": [
    "a = 10\n",
    "b = 20\n",
    "c = 10\n",
    "d = 20"
   ]
  },
  {
   "cell_type": "code",
   "execution_count": 59,
   "id": "bf722240",
   "metadata": {},
   "outputs": [
    {
     "data": {
      "text/plain": [
       "False"
      ]
     },
     "execution_count": 59,
     "metadata": {},
     "output_type": "execute_result"
    }
   ],
   "source": [
    "a == b and b == c"
   ]
  },
  {
   "cell_type": "code",
   "execution_count": 60,
   "id": "375f8152",
   "metadata": {},
   "outputs": [
    {
     "data": {
      "text/plain": [
       "False"
      ]
     },
     "execution_count": 60,
     "metadata": {},
     "output_type": "execute_result"
    }
   ],
   "source": [
    "a < b and b < c"
   ]
  },
  {
   "cell_type": "code",
   "execution_count": 61,
   "id": "532d6af3",
   "metadata": {},
   "outputs": [
    {
     "data": {
      "text/plain": [
       "False"
      ]
     },
     "execution_count": 61,
     "metadata": {},
     "output_type": "execute_result"
    }
   ],
   "source": [
    "a > b and a==c"
   ]
  },
  {
   "cell_type": "code",
   "execution_count": 62,
   "id": "a7d8ee2d",
   "metadata": {},
   "outputs": [
    {
     "data": {
      "text/plain": [
       "True"
      ]
     },
     "execution_count": 62,
     "metadata": {},
     "output_type": "execute_result"
    }
   ],
   "source": [
    "a==c and b ==d # both condition is true"
   ]
  },
  {
   "cell_type": "code",
   "execution_count": 63,
   "id": "51758577",
   "metadata": {},
   "outputs": [
    {
     "data": {
      "text/plain": [
       "False"
      ]
     },
     "execution_count": 63,
     "metadata": {},
     "output_type": "execute_result"
    }
   ],
   "source": [
    "# or Operator in python\n",
    "a == b and a< c"
   ]
  },
  {
   "cell_type": "code",
   "execution_count": 64,
   "id": "717563e8",
   "metadata": {},
   "outputs": [
    {
     "data": {
      "text/plain": [
       "False"
      ]
     },
     "execution_count": 64,
     "metadata": {},
     "output_type": "execute_result"
    }
   ],
   "source": [
    "a == b or a < c"
   ]
  },
  {
   "cell_type": "code",
   "execution_count": 65,
   "id": "739e8c3b",
   "metadata": {},
   "outputs": [
    {
     "data": {
      "text/plain": [
       "True"
      ]
     },
     "execution_count": 65,
     "metadata": {},
     "output_type": "execute_result"
    }
   ],
   "source": [
    "c <= b or a <b"
   ]
  },
  {
   "cell_type": "code",
   "execution_count": 66,
   "id": "19152a78",
   "metadata": {},
   "outputs": [
    {
     "data": {
      "text/plain": [
       "False"
      ]
     },
     "execution_count": 66,
     "metadata": {},
     "output_type": "execute_result"
    }
   ],
   "source": [
    "a == b and b == d or a<c"
   ]
  },
  {
   "cell_type": "code",
   "execution_count": 67,
   "id": "6e1379e7",
   "metadata": {},
   "outputs": [],
   "source": [
    "# not Operator in python\n",
    "a =not(0)"
   ]
  },
  {
   "cell_type": "code",
   "execution_count": 68,
   "id": "6d96a07a",
   "metadata": {},
   "outputs": [
    {
     "data": {
      "text/plain": [
       "True"
      ]
     },
     "execution_count": 68,
     "metadata": {},
     "output_type": "execute_result"
    }
   ],
   "source": [
    "a"
   ]
  },
  {
   "cell_type": "markdown",
   "id": "b2f81cd7",
   "metadata": {},
   "source": [
    "# membership python Operator"
   ]
  },
  {
   "cell_type": "code",
   "execution_count": 69,
   "id": "540e7e13",
   "metadata": {},
   "outputs": [],
   "source": [
    "pets = ['dog','cat','ferret']"
   ]
  },
  {
   "cell_type": "code",
   "execution_count": 70,
   "id": "aa1b4f88",
   "metadata": {},
   "outputs": [
    {
     "data": {
      "text/plain": [
       "False"
      ]
     },
     "execution_count": 70,
     "metadata": {},
     "output_type": "execute_result"
    }
   ],
   "source": [
    "'fox' in pets"
   ]
  },
  {
   "cell_type": "code",
   "execution_count": 71,
   "id": "cfc620e5",
   "metadata": {},
   "outputs": [
    {
     "data": {
      "text/plain": [
       "True"
      ]
     },
     "execution_count": 71,
     "metadata": {},
     "output_type": "execute_result"
    }
   ],
   "source": [
    "'cat' in pets"
   ]
  },
  {
   "cell_type": "code",
   "execution_count": 73,
   "id": "3bce5505",
   "metadata": {},
   "outputs": [
    {
     "name": "stdout",
     "output_type": "stream",
     "text": [
      "the\n",
      "value\n"
     ]
    }
   ],
   "source": [
    "for i in (['the','value']):\n",
    "    print(i)"
   ]
  },
  {
   "cell_type": "code",
   "execution_count": 74,
   "id": "c02697f7",
   "metadata": {},
   "outputs": [
    {
     "data": {
      "text/plain": [
       "True"
      ]
     },
     "execution_count": 74,
     "metadata": {},
     "output_type": "execute_result"
    }
   ],
   "source": [
    "'me' in 'disappointment'"
   ]
  },
  {
   "cell_type": "markdown",
   "id": "44fd0861",
   "metadata": {},
   "source": [
    "# not in Operator in python"
   ]
  },
  {
   "cell_type": "code",
   "execution_count": 75,
   "id": "aa166ae7",
   "metadata": {},
   "outputs": [
    {
     "data": {
      "text/plain": [
       "False"
      ]
     },
     "execution_count": 75,
     "metadata": {},
     "output_type": "execute_result"
    }
   ],
   "source": [
    "'pot' in 'disappointment'"
   ]
  },
  {
   "cell_type": "code",
   "execution_count": 76,
   "id": "546bc812",
   "metadata": {},
   "outputs": [
    {
     "data": {
      "text/plain": [
       "True"
      ]
     },
     "execution_count": 76,
     "metadata": {},
     "output_type": "execute_result"
    }
   ],
   "source": [
    "'ment' in 'disappointment'"
   ]
  },
  {
   "cell_type": "markdown",
   "id": "8a73aea1",
   "metadata": {},
   "source": [
    "# python identity Operator"
   ]
  },
  {
   "cell_type": "code",
   "execution_count": 77,
   "id": "1f3aa9cd",
   "metadata": {},
   "outputs": [
    {
     "name": "stderr",
     "output_type": "stream",
     "text": [
      "<>:1: SyntaxWarning: \"is\" with a literal. Did you mean \"==\"?\n",
      "<>:1: SyntaxWarning: \"is\" with a literal. Did you mean \"==\"?\n",
      "C:\\Users\\yaraz\\AppData\\Local\\Temp/ipykernel_9324/1231539819.py:1: SyntaxWarning: \"is\" with a literal. Did you mean \"==\"?\n",
      "  2 is 20\n"
     ]
    },
    {
     "data": {
      "text/plain": [
       "False"
      ]
     },
     "execution_count": 77,
     "metadata": {},
     "output_type": "execute_result"
    }
   ],
   "source": [
    "2 is 20"
   ]
  },
  {
   "cell_type": "code",
   "execution_count": 78,
   "id": "15e5815f",
   "metadata": {},
   "outputs": [
    {
     "name": "stderr",
     "output_type": "stream",
     "text": [
      "<>:1: SyntaxWarning: \"is\" with a literal. Did you mean \"==\"?\n",
      "<>:1: SyntaxWarning: \"is\" with a literal. Did you mean \"==\"?\n",
      "C:\\Users\\yaraz\\AppData\\Local\\Temp/ipykernel_9324/1152792920.py:1: SyntaxWarning: \"is\" with a literal. Did you mean \"==\"?\n",
      "  25 is 25\n"
     ]
    },
    {
     "data": {
      "text/plain": [
       "True"
      ]
     },
     "execution_count": 78,
     "metadata": {},
     "output_type": "execute_result"
    }
   ],
   "source": [
    "25 is 25"
   ]
  },
  {
   "cell_type": "code",
   "execution_count": 79,
   "id": "84d36e31",
   "metadata": {},
   "outputs": [
    {
     "name": "stderr",
     "output_type": "stream",
     "text": [
      "<>:1: SyntaxWarning: \"is not\" with a literal. Did you mean \"!=\"?\n",
      "<>:1: SyntaxWarning: \"is not\" with a literal. Did you mean \"!=\"?\n",
      "C:\\Users\\yaraz\\AppData\\Local\\Temp/ipykernel_9324/3071503370.py:1: SyntaxWarning: \"is not\" with a literal. Did you mean \"!=\"?\n",
      "  2 is not '2'\n"
     ]
    },
    {
     "data": {
      "text/plain": [
       "True"
      ]
     },
     "execution_count": 79,
     "metadata": {},
     "output_type": "execute_result"
    }
   ],
   "source": [
    "2 is not '2'"
   ]
  },
  {
   "cell_type": "markdown",
   "id": "9a2eb141",
   "metadata": {},
   "source": [
    "# python bitwise operator\n",
    "1. binary and (&)\n",
    "2. binary or(|)\n",
    "3. binary xor(^)\n",
    "4. binary complement(~)\n",
    "5. binary left-shift(<<)\n",
    "6. binary right-shift(>>)"
   ]
  },
  {
   "cell_type": "code",
   "execution_count": 80,
   "id": "3695bbf5",
   "metadata": {},
   "outputs": [
    {
     "data": {
      "text/plain": [
       "2"
      ]
     },
     "execution_count": 80,
     "metadata": {},
     "output_type": "execute_result"
    }
   ],
   "source": [
    "2&3"
   ]
  },
  {
   "cell_type": "code",
   "execution_count": 81,
   "id": "84db33c0",
   "metadata": {},
   "outputs": [
    {
     "data": {
      "text/plain": [
       "0"
      ]
     },
     "execution_count": 81,
     "metadata": {},
     "output_type": "execute_result"
    }
   ],
   "source": [
    "3&4"
   ]
  },
  {
   "cell_type": "code",
   "execution_count": 82,
   "id": "55900d0f",
   "metadata": {},
   "outputs": [
    {
     "data": {
      "text/plain": [
       "3"
      ]
     },
     "execution_count": 82,
     "metadata": {},
     "output_type": "execute_result"
    }
   ],
   "source": [
    "2|3"
   ]
  },
  {
   "cell_type": "code",
   "execution_count": 83,
   "id": "8dfffdab",
   "metadata": {},
   "outputs": [
    {
     "data": {
      "text/plain": [
       "7"
      ]
     },
     "execution_count": 83,
     "metadata": {},
     "output_type": "execute_result"
    }
   ],
   "source": [
    "3|4"
   ]
  },
  {
   "cell_type": "code",
   "execution_count": 84,
   "id": "52ac7016",
   "metadata": {},
   "outputs": [
    {
     "data": {
      "text/plain": [
       "1"
      ]
     },
     "execution_count": 84,
     "metadata": {},
     "output_type": "execute_result"
    }
   ],
   "source": [
    "2^3"
   ]
  },
  {
   "cell_type": "code",
   "execution_count": null,
   "id": "6a3cf679",
   "metadata": {},
   "outputs": [],
   "source": [
    "binary"
   ]
  }
 ],
 "metadata": {
  "kernelspec": {
   "display_name": "Python 3 (ipykernel)",
   "language": "python",
   "name": "python3"
  },
  "language_info": {
   "codemirror_mode": {
    "name": "ipython",
    "version": 3
   },
   "file_extension": ".py",
   "mimetype": "text/x-python",
   "name": "python",
   "nbconvert_exporter": "python",
   "pygments_lexer": "ipython3",
   "version": "3.9.2"
  }
 },
 "nbformat": 4,
 "nbformat_minor": 5
}
