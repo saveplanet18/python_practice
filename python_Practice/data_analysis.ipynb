{
 "cells": [
  {
   "cell_type": "markdown",
   "id": "af123bd4",
   "metadata": {},
   "source": [
    "# python - Data Visualization using bokeh"
   ]
  },
  {
   "cell_type": "code",
   "execution_count": null,
   "id": "1347301a",
   "metadata": {},
   "outputs": [],
   "source": [
    "# pip install bokeh"
   ]
  },
  {
   "cell_type": "code",
   "execution_count": 2,
   "id": "2dda2184",
   "metadata": {},
   "outputs": [],
   "source": [
    "# from bokeh.plotting import figure,ouput_notebook,show"
   ]
  },
  {
   "cell_type": "code",
   "execution_count": null,
   "id": "9c578a29",
   "metadata": {},
   "outputs": [],
   "source": []
  }
 ],
 "metadata": {
  "kernelspec": {
   "display_name": "Python 3 (ipykernel)",
   "language": "python",
   "name": "python3"
  },
  "language_info": {
   "codemirror_mode": {
    "name": "ipython",
    "version": 3
   },
   "file_extension": ".py",
   "mimetype": "text/x-python",
   "name": "python",
   "nbconvert_exporter": "python",
   "pygments_lexer": "ipython3",
   "version": "3.9.2"
  }
 },
 "nbformat": 4,
 "nbformat_minor": 5
}
