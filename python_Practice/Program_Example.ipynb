{
 "cells": [
  {
   "cell_type": "code",
   "execution_count": 3,
   "metadata": {},
   "outputs": [
    {
     "name": "stdout",
     "output_type": "stream",
     "text": [
      "enter the first number25\n",
      "enter second36\n"
     ]
    }
   ],
   "source": [
    "def sum1(num1=input(\"enter the first number\"),num2=input(\"enter second\")):\n",
    "    #num1=input(\"enter first number\")\n",
    "    #num2=input(\"enter second number\")\n",
    "    return num1+num2"
   ]
  },
  {
   "cell_type": "code",
   "execution_count": 4,
   "metadata": {},
   "outputs": [
    {
     "data": {
      "text/plain": [
       "50"
      ]
     },
     "execution_count": 4,
     "metadata": {},
     "output_type": "execute_result"
    }
   ],
   "source": [
    "sum1(25,25)"
   ]
  },
  {
   "cell_type": "code",
   "execution_count": 5,
   "metadata": {},
   "outputs": [],
   "source": [
    "def sum1():\n",
    "    for i in range(10):\n",
    "        print(i)"
   ]
  },
  {
   "cell_type": "code",
   "execution_count": 6,
   "metadata": {},
   "outputs": [
    {
     "name": "stdout",
     "output_type": "stream",
     "text": [
      "0\n",
      "1\n",
      "2\n",
      "3\n",
      "4\n",
      "5\n",
      "6\n",
      "7\n",
      "8\n",
      "9\n"
     ]
    }
   ],
   "source": [
    "sum1()"
   ]
  },
  {
   "cell_type": "code",
   "execution_count": 9,
   "metadata": {},
   "outputs": [
    {
     "name": "stdout",
     "output_type": "stream",
     "text": [
      "25and 26 sume of 51\n"
     ]
    }
   ],
   "source": [
    "num1=25\n",
    "num2=26\n",
    "sum=num1+num2\n",
    "print(\"{0}and {1} sume of {2}\".format(num1,num2,sum))"
   ]
  },
  {
   "cell_type": "code",
   "execution_count": 10,
   "metadata": {},
   "outputs": [
    {
     "name": "stdout",
     "output_type": "stream",
     "text": [
      "first number25\n",
      "\n",
      "second number36\n",
      "the sum of 25 and 36 is 61.0\n"
     ]
    }
   ],
   "source": [
    "num1=input(\"first number\")\n",
    "num2=input(\"\\nsecond number\")\n",
    "sum=float(num1)+float(num2)\n",
    "print(\"the sum of {0} and {1} is {2}\".format(num1,num2,sum))"
   ]
  },
  {
   "cell_type": "code",
   "execution_count": 13,
   "metadata": {},
   "outputs": [
    {
     "name": "stdout",
     "output_type": "stream",
     "text": [
      "5\n"
     ]
    }
   ],
   "source": [
    "def maxi(a,b):\n",
    "    if a>=b:\n",
    "        return a\n",
    "    else:\n",
    "        return b\n",
    "a,b=4,5\n",
    "print(maxi(a,b))"
   ]
  },
  {
   "cell_type": "code",
   "execution_count": 14,
   "metadata": {},
   "outputs": [
    {
     "name": "stdout",
     "output_type": "stream",
     "text": [
      "6\n"
     ]
    }
   ],
   "source": [
    "a,b=5,6\n",
    "maximum=max(a,b)\n",
    "print(maximum)"
   ]
  },
  {
   "cell_type": "code",
   "execution_count": 18,
   "metadata": {},
   "outputs": [
    {
     "name": "stdout",
     "output_type": "stream",
     "text": [
      "factorial of 5\n"
     ]
    },
    {
     "data": {
      "text/plain": [
       "120"
      ]
     },
     "execution_count": 18,
     "metadata": {},
     "output_type": "execute_result"
    }
   ],
   "source": [
    "def factorial(n):\n",
    "    return 1 if (n==1 or n==0) else n* factorial(n-1)\n",
    "num=5\n",
    "print(\"factorial of\",num)\n",
    "factorial(num)"
   ]
  },
  {
   "cell_type": "code",
   "execution_count": 19,
   "metadata": {},
   "outputs": [],
   "source": [
    "def factorial(n):\n",
    "    if n<0:\n",
    "        return 0\n",
    "    elif n==0 or n==1:\n",
    "        return 1\n",
    "    else:\n",
    "        fact=1\n",
    "        while(n>1):\n",
    "            fact*=n\n",
    "            n-=1\n",
    "        return fact"
   ]
  },
  {
   "cell_type": "code",
   "execution_count": 20,
   "metadata": {},
   "outputs": [],
   "source": [
    "# simple interest=(p*t*r)/100\n",
    "# p is the principle amount\n",
    "# t is the time and \n",
    "# is the rate\n",
    "\n",
    "def simle_interest(p,t,r):\n",
    "    print(\"the principal is\",p)\n",
    "    print(\"the time period is\",t)\n",
    "    print(\"the rate of interest is\",r)\n",
    "    si=(p*t*r)/100\n",
    "    return si\n"
   ]
  },
  {
   "cell_type": "code",
   "execution_count": 24,
   "metadata": {},
   "outputs": [
    {
     "name": "stdout",
     "output_type": "stream",
     "text": [
      "the principal is 10000\n",
      "the time period is 6\n",
      "the rate of interest is 24\n"
     ]
    },
    {
     "data": {
      "text/plain": [
       "14400.0"
      ]
     },
     "execution_count": 24,
     "metadata": {},
     "output_type": "execute_result"
    }
   ],
   "source": [
    "simle_interest(10000,6,24)"
   ]
  },
  {
   "cell_type": "code",
   "execution_count": 25,
   "metadata": {},
   "outputs": [
    {
     "name": "stdout",
     "output_type": "stream",
     "text": [
      "[24, 35, 9, 56, 12]\n"
     ]
    }
   ],
   "source": [
    "# swapping two numbers from list\n",
    "# input [12,35,9,56,24]\n",
    "def swaplist(newlist):\n",
    "    size=len(newlist)\n",
    "    # swapping\n",
    "    temp=newlist[0]\n",
    "    newlist[0]=newlist[size-1]\n",
    "    newlist[size-1]=temp\n",
    "    return newlist\n",
    "newlist=[12,35,9,56,24]\n",
    "print(swaplist(newlist))\n",
    "    "
   ]
  },
  {
   "cell_type": "code",
   "execution_count": 26,
   "metadata": {},
   "outputs": [
    {
     "name": "stdout",
     "output_type": "stream",
     "text": [
      "[24, 35, 9, 56, 12]\n"
     ]
    }
   ],
   "source": [
    "def swaplist(newlist):\n",
    "    newlist[0],newlist[-1]=newlist[-1],newlist[0]\n",
    "    return newlist\n",
    "newlist=[12,35,9,56,24]\n",
    "print(swaplist(newlist))"
   ]
  },
  {
   "cell_type": "code",
   "execution_count": 29,
   "metadata": {},
   "outputs": [
    {
     "name": "stdout",
     "output_type": "stream",
     "text": [
      "123456789"
     ]
    }
   ],
   "source": [
    "for i in range(1,10):\n",
    "    print(i,end='')"
   ]
  },
  {
   "cell_type": "code",
   "execution_count": 31,
   "metadata": {},
   "outputs": [
    {
     "name": "stdout",
     "output_type": "stream",
     "text": [
      "5\n",
      "6\n",
      "7\n",
      "8\n",
      "9\n"
     ]
    }
   ],
   "source": [
    "for i in range(5,10):\n",
    "    print(i)"
   ]
  },
  {
   "cell_type": "code",
   "execution_count": 33,
   "metadata": {},
   "outputs": [
    {
     "name": "stdout",
     "output_type": "stream",
     "text": [
      "0\n",
      "5\n"
     ]
    }
   ],
   "source": [
    "for i in range(0,10,5):\n",
    "    print(i)"
   ]
  },
  {
   "cell_type": "code",
   "execution_count": null,
   "metadata": {},
   "outputs": [],
   "source": []
  }
 ],
 "metadata": {
  "kernelspec": {
   "display_name": "Python 3",
   "language": "python",
   "name": "python3"
  },
  "language_info": {
   "codemirror_mode": {
    "name": "ipython",
    "version": 3
   },
   "file_extension": ".py",
   "mimetype": "text/x-python",
   "name": "python",
   "nbconvert_exporter": "python",
   "pygments_lexer": "ipython3",
   "version": "3.7.4"
  }
 },
 "nbformat": 4,
 "nbformat_minor": 2
}
